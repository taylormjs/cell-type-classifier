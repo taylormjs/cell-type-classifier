{
 "cells": [
  {
   "cell_type": "markdown",
   "metadata": {},
   "source": [
    "# Applying Sufficient Input Subsets to Trained Classifiers"
   ]
  },
  {
   "cell_type": "markdown",
   "metadata": {},
   "source": [
    "**This notebook will apply SIS to understand which subsets of features from ATAC-seq, RNA-seq, and the bimodal input are most needed to maintain similar classification results. These subsets are desirable for the following reasons:**\n",
    "- 1. For the bimodal input, they suggest which of the features from ATAC-seq and RNA-seq are most needed. Theoretically, these two modalities contain the same information and RNA-seq may be able to contain the same (and more) information than ATAC-seq. We expect the majority of the features in these subsets to come from RNA-seq features, precluding the need for multimodal data in classification. However, ATAC-seq may contain features that RNA-seq doesn't capture\n",
    "- 2. These subsets may suggest marker genes for a given cell type, which would we be useful for the Human Cell Atlas and any other project aiming to identify and describe cell types"
   ]
  },
  {
   "cell_type": "markdown",
   "metadata": {},
   "source": [
    "**References:**\n",
    "- SIS paper: https://arxiv.org/pdf/1810.03805.pdf\n",
    "- GITHUB with more details: https://github.com/b-carter/SufficientInputSubsets"
   ]
  },
  {
   "cell_type": "markdown",
   "metadata": {},
   "source": [
    "***\n",
    "### SIS applied to a CNN trained on MNIST: (modify this for our project)\n",
    "- Found this here: https://github.com/google-research/google-research/blob/master/sufficient_input_subsets/tutorials/sis_mnist_tutorial.ipynb"
   ]
  },
  {
   "cell_type": "code",
   "execution_count": null,
   "metadata": {},
   "outputs": [],
   "source": [
    "#@title Select a digit and threshold {run: \"auto\"}\n",
    "\n",
    "DIGIT = 4  #@param ['0', 1', '2', '3', '4', '5', '6', '7', '8', '9'] {type:\"raw\"}\n",
    "\n",
    "THRESHOLD = 0.7  #@param {type:\"slider\", min:0, max:1, step:0.1}\n",
    "\n",
    "# Following the SIS paper, we use the mean pixel from training images as a mask.\n",
    "FULLY_MASKED_IMAGE = np.full((28, 28, 1), np.mean(x_train))\n",
    "\n",
    "# Helper function that selects the probability for a single class, from the\n",
    "# softmax output.\n",
    "def make_f_for_digit(digit, model):\n",
    "    def f_digit(batch_of_inputs):\n",
    "        return model.predict(\n",
    "            batch_of_inputs,\n",
    "            batch_size=min(784, len(batch_of_inputs)))[:, digit]\n",
    "    return f_digit\n",
    "\n",
    "# This function maps a list of images to a list of probabilities (probability of\n",
    "# each image being a 4).\n",
    "f_digit = make_f_for_digit(DIGIT, model)\n",
    "\n",
    "# Helper function that filters input images to those the model predicts with\n",
    "# high confidence (f(image) >= threshold).\n",
    "def select_images_for_sis(inputs, f_digit, threshold):\n",
    "    preds = f_digit(inputs)\n",
    "    idxs = np.nonzero(preds >= threshold)[0]\n",
    "    return inputs[idxs]\n",
    "\n",
    "# Filter test images that the model classifies as 4 with high confidence.\n",
    "high_confidence_images_for_digit = select_images_for_sis(x_test, f_digit,\n",
    "                                                         THRESHOLD)\n",
    "\n",
    "# Randomly select some of these digits to run SIS.\n",
    "digits_to_run_sis = high_confidence_images_for_digit[\n",
    "    np.random.choice(high_confidence_images_for_digit.shape[0],\n",
    "                     size=5,\n",
    "                     replace=False)]\n",
    "\n",
    "# Helpers for plotting an MNIST digit and its corresponding SIS-collection.\n",
    "def plot_mnist_digit(ax, image):\n",
    "    ax.imshow(image[:, :, 0], cmap=plt.get_cmap('gray'))\n",
    "    ax.axis('off')\n",
    "\n",
    "def plot_sis_collection(initial_image, collection, fully_masked_image):\n",
    "    # Grid contains initial image, an empty cell (for spacing), and collection.\n",
    "    width = len(collection) + 2\n",
    "    plt.figure(figsize=(width, 1))\n",
    "    gs = plt.GridSpec(1, width, wspace=0.1)\n",
    "\n",
    "    # Plot initial image.\n",
    "    ax = plt.subplot(gs[0])\n",
    "    plot_mnist_digit(ax, initial_image)\n",
    "\n",
    "    # Plot each SIS.\n",
    "    for i, sis_result in enumerate(collection):\n",
    "        ax = plt.subplot(gs[i+2])\n",
    "        masked_image = sis.produce_masked_inputs(\n",
    "            initial_image, fully_masked_image, [sis_result.mask])[0]\n",
    "        plot_mnist_digit(ax, masked_image)\n",
    "\n",
    "    plt.show()\n",
    "\n",
    "print('Running SIS on {} examples of digit {}. '\n",
    "      'This might take a couple minutes.'.format(len(digits_to_run_sis), DIGIT))\n",
    "\n",
    "# Run SIS on each digit and visualize the resulting SIS-collections.\n",
    "for initial_image in digits_to_run_sis:\n",
    "    collection = sis.sis_collection(f_digit, THRESHOLD, initial_image,\n",
    "                                    FULLY_MASKED_IMAGE)\n",
    "    plot_sis_collection(initial_image, collection, FULLY_MASKED_IMAGE)"
   ]
  },
  {
   "cell_type": "markdown",
   "metadata": {},
   "source": [
    "### SIS for our cell-state classifier"
   ]
  },
  {
   "cell_type": "code",
   "execution_count": 3,
   "metadata": {},
   "outputs": [],
   "source": [
    "######### Include code below ##########"
   ]
  },
  {
   "cell_type": "code",
   "execution_count": null,
   "metadata": {},
   "outputs": [],
   "source": []
  }
 ],
 "metadata": {
  "kernelspec": {
   "display_name": "Python 3",
   "language": "python",
   "name": "python3"
  },
  "language_info": {
   "codemirror_mode": {
    "name": "ipython",
    "version": 3
   },
   "file_extension": ".py",
   "mimetype": "text/x-python",
   "name": "python",
   "nbconvert_exporter": "python",
   "pygments_lexer": "ipython3",
   "version": "3.7.6"
  }
 },
 "nbformat": 4,
 "nbformat_minor": 4
}
