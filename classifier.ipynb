{
 "cells": [
  {
   "cell_type": "markdown",
   "metadata": {},
   "source": [
    "## Classify RNA-Seq + ATAC-Seq by Cell type"
   ]
  },
  {
   "cell_type": "code",
   "execution_count": 102,
   "metadata": {},
   "outputs": [
    {
     "name": "stdout",
     "output_type": "stream",
     "text": [
      "Python version: 3.7.6 | packaged by conda-forge | (default, Jan  7 2020, 22:05:27) \n",
      "[Clang 9.0.1 ]\n",
      "TensorFlow version: 2.1.0\n",
      "\n",
      "Imports Complete.\n"
     ]
    }
   ],
   "source": [
    "# import needed modules:\n",
    "\n",
    "# general python utilities\n",
    "import os\n",
    "import platform\n",
    "import random\n",
    "import shutil\n",
    "import sys\n",
    "import time\n",
    "import datetime\n",
    "import functools\n",
    "import itertools as it\n",
    "import copy\n",
    "\n",
    "# recommended Python3 version >= 3.5\n",
    "print('Python version: {}'.format(platform.sys.version))\n",
    "\n",
    "# data-science & processing tools\n",
    "import numpy as np\n",
    "import pandas as pd\n",
    "import sklearn.metrics\n",
    "from sklearn.model_selection import train_test_split\n",
    "from sklearn.preprocessing import LabelEncoder\n",
    "import h5py\n",
    "import scanpy as sc\n",
    "import anndata as ann\n",
    "\n",
    "# progress bar\n",
    "try:\n",
    "    from tqdm.notebook import tqdm\n",
    "except ImportError:\n",
    "    from tqdm import tqdm_notebook as tqdm\n",
    "\n",
    "# plotting utilities\n",
    "import seaborn as sns\n",
    "import matplotlib.pyplot as plt\n",
    "\n",
    "# tensorflow\n",
    "import tensorflow as tf\n",
    "import tensorflow.keras as K\n",
    "\n",
    "# required TensorFlow version >= 2.0.0\n",
    "tf_version = tf.__version__\n",
    "print('TensorFlow version: {}'.format(tf_version))\n",
    "assert int(tf_version[0]) >= 2, \"Tensorflow version must be >= 2.0\"\n",
    "\n",
    "# seed random numbers for reproducibility\n",
    "random.seed(0)\n",
    "np.random.seed(0)\n",
    "tf.random.set_seed(0)\n",
    "\n",
    "print('\\nImports Complete.')"
   ]
  },
  {
   "cell_type": "code",
   "execution_count": 103,
   "metadata": {},
   "outputs": [],
   "source": [
    "# make some fake data until real data becomes available\n",
    "n_samples, n_rna_features, n_atac_features = 6000, 500, 100\n",
    "rna_seq_fake = np.random.rand(n_samples, n_rna_features)\n",
    "atac_seq_fake = np.random.rand(n_samples, n_atac_features)\n",
    "X_np = np.concatenate([rna_seq_fake, atac_seq_fake], axis=1)\n",
    "Y_np = np.array(['cell_type_A'] * 2000 + ['cell_type_B'] * 2000 + ['cell_type_C'] * 2000)"
   ]
  },
  {
   "cell_type": "code",
   "execution_count": 104,
   "metadata": {},
   "outputs": [
    {
     "data": {
      "text/plain": [
       "<tf.Tensor: shape=(6000, 3), dtype=float32, numpy=\n",
       "array([[1., 0., 0.],\n",
       "       [1., 0., 0.],\n",
       "       [1., 0., 0.],\n",
       "       ...,\n",
       "       [0., 0., 1.],\n",
       "       [0., 0., 1.],\n",
       "       [0., 0., 1.]], dtype=float32)>"
      ]
     },
     "execution_count": 104,
     "metadata": {},
     "output_type": "execute_result"
    }
   ],
   "source": [
    "# make one-hot encoding of cell type classes\n",
    "le = LabelEncoder()\n",
    "Y_le = le.fit_transform(Y_np)\n",
    "tf.one_hot(Y_le, depth=3)"
   ]
  },
  {
   "cell_type": "code",
   "execution_count": 140,
   "metadata": {},
   "outputs": [],
   "source": [
    "''' Load in matrices generated after pre-processing steps '''\n",
    "PATH = os.getcwd() # make sure cwd is 6_874-Multimodal-DL\n",
    "OUTPUTS = os.path.join(PATH, 'Outputs')\n",
    "atac_data_path = os.path.join(OUTPUTS, 'atacRaw_LowDim_svd50')\n",
    "rna_data_path = os.path.join(OUTPUTS, 'rnaRaw_LowDim_pca30')\n",
    "# bimodal_data_path = os.path.join(OUTPUTS, 'scAI_CellLoad_20Factor')\n",
    "bim_low_data_path = os.path.join(OUTPUTS, 'scAi_CellLoad') # 2 factors\n",
    "\n",
    "# save as pandas dataframes\n",
    "atac_df = pd.read_hdf(atac_data_path)\n",
    "rna_df = pd.read_hdf(rna_data_path)\n",
    "# bimodal_df = pd.read_hdf(bimodal_data_path)\n",
    "bi_low_df = pd.read_hdf(bim_low_data_path)"
   ]
  },
  {
   "cell_type": "code",
   "execution_count": 223,
   "metadata": {},
   "outputs": [],
   "source": [
    "# merge rna and atac together if bimodal dataset not already created\n",
    "bimodal_df = pd.merge(rna_df, atac_df, on=['sample', 'treatTime'], suffixes=('_rna', '_atac'))"
   ]
  },
  {
   "cell_type": "code",
   "execution_count": 224,
   "metadata": {},
   "outputs": [
    {
     "data": {
      "text/html": [
       "<div>\n",
       "<style scoped>\n",
       "    .dataframe tbody tr th:only-of-type {\n",
       "        vertical-align: middle;\n",
       "    }\n",
       "\n",
       "    .dataframe tbody tr th {\n",
       "        vertical-align: top;\n",
       "    }\n",
       "\n",
       "    .dataframe thead th {\n",
       "        text-align: right;\n",
       "    }\n",
       "</style>\n",
       "<table border=\"1\" class=\"dataframe\">\n",
       "  <thead>\n",
       "    <tr style=\"text-align: right;\">\n",
       "      <th></th>\n",
       "      <th>sample</th>\n",
       "      <th>treatTime</th>\n",
       "      <th>0_rna</th>\n",
       "      <th>1_rna</th>\n",
       "      <th>2_rna</th>\n",
       "      <th>3_rna</th>\n",
       "      <th>4_rna</th>\n",
       "      <th>5_rna</th>\n",
       "      <th>6_rna</th>\n",
       "      <th>7_rna</th>\n",
       "      <th>...</th>\n",
       "      <th>40</th>\n",
       "      <th>41</th>\n",
       "      <th>42</th>\n",
       "      <th>43</th>\n",
       "      <th>44</th>\n",
       "      <th>45</th>\n",
       "      <th>46</th>\n",
       "      <th>47</th>\n",
       "      <th>48</th>\n",
       "      <th>49</th>\n",
       "    </tr>\n",
       "  </thead>\n",
       "  <tbody>\n",
       "    <tr>\n",
       "      <td>0</td>\n",
       "      <td>sci_RNA_A_001_TCTCTCATCC</td>\n",
       "      <td>0</td>\n",
       "      <td>0.510417</td>\n",
       "      <td>5.928225</td>\n",
       "      <td>-0.037952</td>\n",
       "      <td>3.333141</td>\n",
       "      <td>4.219339</td>\n",
       "      <td>-2.630160</td>\n",
       "      <td>-0.615409</td>\n",
       "      <td>-1.955352</td>\n",
       "      <td>...</td>\n",
       "      <td>-0.219865</td>\n",
       "      <td>-0.231562</td>\n",
       "      <td>0.337380</td>\n",
       "      <td>0.989798</td>\n",
       "      <td>-0.549120</td>\n",
       "      <td>-1.325104</td>\n",
       "      <td>-0.122239</td>\n",
       "      <td>-1.658196</td>\n",
       "      <td>-0.432369</td>\n",
       "      <td>1.570464</td>\n",
       "    </tr>\n",
       "    <tr>\n",
       "      <td>1</td>\n",
       "      <td>sci_RNA_A_001_GACCAATGCG</td>\n",
       "      <td>0</td>\n",
       "      <td>3.000306</td>\n",
       "      <td>3.185586</td>\n",
       "      <td>-3.430007</td>\n",
       "      <td>0.491120</td>\n",
       "      <td>0.120340</td>\n",
       "      <td>1.625035</td>\n",
       "      <td>0.064617</td>\n",
       "      <td>0.429203</td>\n",
       "      <td>...</td>\n",
       "      <td>-0.870405</td>\n",
       "      <td>0.755284</td>\n",
       "      <td>-0.041358</td>\n",
       "      <td>-1.395688</td>\n",
       "      <td>1.181735</td>\n",
       "      <td>0.216738</td>\n",
       "      <td>1.692452</td>\n",
       "      <td>2.100674</td>\n",
       "      <td>-2.560527</td>\n",
       "      <td>-0.160578</td>\n",
       "    </tr>\n",
       "    <tr>\n",
       "      <td>2</td>\n",
       "      <td>sci_RNA_A_002_ATCTAGGTTC</td>\n",
       "      <td>0</td>\n",
       "      <td>5.106206</td>\n",
       "      <td>2.963834</td>\n",
       "      <td>-1.492047</td>\n",
       "      <td>0.171599</td>\n",
       "      <td>2.810880</td>\n",
       "      <td>1.545500</td>\n",
       "      <td>-1.419537</td>\n",
       "      <td>-0.902134</td>\n",
       "      <td>...</td>\n",
       "      <td>0.567374</td>\n",
       "      <td>-0.888025</td>\n",
       "      <td>-0.493230</td>\n",
       "      <td>0.326492</td>\n",
       "      <td>-0.125542</td>\n",
       "      <td>0.272746</td>\n",
       "      <td>0.047104</td>\n",
       "      <td>-0.223998</td>\n",
       "      <td>-0.616991</td>\n",
       "      <td>0.289083</td>\n",
       "    </tr>\n",
       "    <tr>\n",
       "      <td>3</td>\n",
       "      <td>sci_RNA_A_003_ACGTTGAATG</td>\n",
       "      <td>0</td>\n",
       "      <td>3.475368</td>\n",
       "      <td>5.050186</td>\n",
       "      <td>2.494665</td>\n",
       "      <td>3.177159</td>\n",
       "      <td>1.763771</td>\n",
       "      <td>4.073036</td>\n",
       "      <td>-1.079724</td>\n",
       "      <td>1.063159</td>\n",
       "      <td>...</td>\n",
       "      <td>0.995619</td>\n",
       "      <td>-1.017011</td>\n",
       "      <td>0.502295</td>\n",
       "      <td>0.181715</td>\n",
       "      <td>-0.152512</td>\n",
       "      <td>0.136581</td>\n",
       "      <td>0.448731</td>\n",
       "      <td>0.966281</td>\n",
       "      <td>-0.715115</td>\n",
       "      <td>0.232737</td>\n",
       "    </tr>\n",
       "    <tr>\n",
       "      <td>4</td>\n",
       "      <td>sci_RNA_A_003_CCTAAGCGGT</td>\n",
       "      <td>0</td>\n",
       "      <td>-3.759883</td>\n",
       "      <td>4.795824</td>\n",
       "      <td>-0.568844</td>\n",
       "      <td>5.767854</td>\n",
       "      <td>0.529048</td>\n",
       "      <td>0.853587</td>\n",
       "      <td>-1.837509</td>\n",
       "      <td>-1.616718</td>\n",
       "      <td>...</td>\n",
       "      <td>-0.821355</td>\n",
       "      <td>0.565135</td>\n",
       "      <td>1.437746</td>\n",
       "      <td>0.354603</td>\n",
       "      <td>-0.120906</td>\n",
       "      <td>-0.581741</td>\n",
       "      <td>-0.219004</td>\n",
       "      <td>0.254667</td>\n",
       "      <td>-0.181056</td>\n",
       "      <td>0.308072</td>\n",
       "    </tr>\n",
       "    <tr>\n",
       "      <td>...</td>\n",
       "      <td>...</td>\n",
       "      <td>...</td>\n",
       "      <td>...</td>\n",
       "      <td>...</td>\n",
       "      <td>...</td>\n",
       "      <td>...</td>\n",
       "      <td>...</td>\n",
       "      <td>...</td>\n",
       "      <td>...</td>\n",
       "      <td>...</td>\n",
       "      <td>...</td>\n",
       "      <td>...</td>\n",
       "      <td>...</td>\n",
       "      <td>...</td>\n",
       "      <td>...</td>\n",
       "      <td>...</td>\n",
       "      <td>...</td>\n",
       "      <td>...</td>\n",
       "      <td>...</td>\n",
       "      <td>...</td>\n",
       "      <td>...</td>\n",
       "    </tr>\n",
       "    <tr>\n",
       "      <td>2636</td>\n",
       "      <td>sci_RNA_E_095_ACGATAGACT</td>\n",
       "      <td>3</td>\n",
       "      <td>-1.876843</td>\n",
       "      <td>-3.717046</td>\n",
       "      <td>-0.423029</td>\n",
       "      <td>-1.293610</td>\n",
       "      <td>-0.701676</td>\n",
       "      <td>1.601468</td>\n",
       "      <td>-0.670987</td>\n",
       "      <td>0.434144</td>\n",
       "      <td>...</td>\n",
       "      <td>-0.707394</td>\n",
       "      <td>0.093768</td>\n",
       "      <td>-0.579160</td>\n",
       "      <td>1.306410</td>\n",
       "      <td>-1.453121</td>\n",
       "      <td>-1.531913</td>\n",
       "      <td>1.048622</td>\n",
       "      <td>-1.171767</td>\n",
       "      <td>-0.324598</td>\n",
       "      <td>0.114476</td>\n",
       "    </tr>\n",
       "    <tr>\n",
       "      <td>2637</td>\n",
       "      <td>sci_RNA_E_096_TGCCTAACTT</td>\n",
       "      <td>3</td>\n",
       "      <td>3.106059</td>\n",
       "      <td>-7.233339</td>\n",
       "      <td>1.144507</td>\n",
       "      <td>0.634749</td>\n",
       "      <td>-5.691073</td>\n",
       "      <td>1.076291</td>\n",
       "      <td>-1.273896</td>\n",
       "      <td>1.573063</td>\n",
       "      <td>...</td>\n",
       "      <td>-0.039570</td>\n",
       "      <td>-0.382012</td>\n",
       "      <td>0.170209</td>\n",
       "      <td>-0.354368</td>\n",
       "      <td>0.514323</td>\n",
       "      <td>0.143774</td>\n",
       "      <td>0.491185</td>\n",
       "      <td>-0.094987</td>\n",
       "      <td>0.275879</td>\n",
       "      <td>0.055669</td>\n",
       "    </tr>\n",
       "    <tr>\n",
       "      <td>2638</td>\n",
       "      <td>sci_RNA_E_096_GGCGGTTGAC</td>\n",
       "      <td>3</td>\n",
       "      <td>-2.777064</td>\n",
       "      <td>-2.984624</td>\n",
       "      <td>2.053412</td>\n",
       "      <td>1.414156</td>\n",
       "      <td>1.420331</td>\n",
       "      <td>-1.518408</td>\n",
       "      <td>-1.259496</td>\n",
       "      <td>-0.507429</td>\n",
       "      <td>...</td>\n",
       "      <td>2.874404</td>\n",
       "      <td>0.306406</td>\n",
       "      <td>-1.604938</td>\n",
       "      <td>-2.499980</td>\n",
       "      <td>-0.242752</td>\n",
       "      <td>-2.075504</td>\n",
       "      <td>-0.202921</td>\n",
       "      <td>1.751214</td>\n",
       "      <td>-2.805438</td>\n",
       "      <td>2.643512</td>\n",
       "    </tr>\n",
       "    <tr>\n",
       "      <td>2639</td>\n",
       "      <td>sci_RNA_E_096_CGAATCTCCT</td>\n",
       "      <td>3</td>\n",
       "      <td>-4.518046</td>\n",
       "      <td>-4.378331</td>\n",
       "      <td>-1.497701</td>\n",
       "      <td>1.266941</td>\n",
       "      <td>-0.543650</td>\n",
       "      <td>-5.178307</td>\n",
       "      <td>-2.718737</td>\n",
       "      <td>-1.898486</td>\n",
       "      <td>...</td>\n",
       "      <td>0.355951</td>\n",
       "      <td>-0.550593</td>\n",
       "      <td>-0.993096</td>\n",
       "      <td>0.761652</td>\n",
       "      <td>-1.603567</td>\n",
       "      <td>-0.098866</td>\n",
       "      <td>0.097642</td>\n",
       "      <td>1.224674</td>\n",
       "      <td>1.143904</td>\n",
       "      <td>-0.284271</td>\n",
       "    </tr>\n",
       "    <tr>\n",
       "      <td>2640</td>\n",
       "      <td>sci_RNA_E_096_ATATGCCATC</td>\n",
       "      <td>3</td>\n",
       "      <td>-0.845266</td>\n",
       "      <td>-1.194443</td>\n",
       "      <td>-1.796833</td>\n",
       "      <td>-7.100281</td>\n",
       "      <td>-0.458663</td>\n",
       "      <td>1.197917</td>\n",
       "      <td>-0.197902</td>\n",
       "      <td>1.983744</td>\n",
       "      <td>...</td>\n",
       "      <td>-0.541026</td>\n",
       "      <td>0.875489</td>\n",
       "      <td>0.291641</td>\n",
       "      <td>0.095733</td>\n",
       "      <td>0.233086</td>\n",
       "      <td>0.074827</td>\n",
       "      <td>-0.031828</td>\n",
       "      <td>-0.082658</td>\n",
       "      <td>-0.594825</td>\n",
       "      <td>-0.043218</td>\n",
       "    </tr>\n",
       "  </tbody>\n",
       "</table>\n",
       "<p>2641 rows × 82 columns</p>\n",
       "</div>"
      ],
      "text/plain": [
       "                        sample  treatTime     0_rna     1_rna     2_rna  \\\n",
       "0     sci_RNA_A_001_TCTCTCATCC          0  0.510417  5.928225 -0.037952   \n",
       "1     sci_RNA_A_001_GACCAATGCG          0  3.000306  3.185586 -3.430007   \n",
       "2     sci_RNA_A_002_ATCTAGGTTC          0  5.106206  2.963834 -1.492047   \n",
       "3     sci_RNA_A_003_ACGTTGAATG          0  3.475368  5.050186  2.494665   \n",
       "4     sci_RNA_A_003_CCTAAGCGGT          0 -3.759883  4.795824 -0.568844   \n",
       "...                        ...        ...       ...       ...       ...   \n",
       "2636  sci_RNA_E_095_ACGATAGACT          3 -1.876843 -3.717046 -0.423029   \n",
       "2637  sci_RNA_E_096_TGCCTAACTT          3  3.106059 -7.233339  1.144507   \n",
       "2638  sci_RNA_E_096_GGCGGTTGAC          3 -2.777064 -2.984624  2.053412   \n",
       "2639  sci_RNA_E_096_CGAATCTCCT          3 -4.518046 -4.378331 -1.497701   \n",
       "2640  sci_RNA_E_096_ATATGCCATC          3 -0.845266 -1.194443 -1.796833   \n",
       "\n",
       "         3_rna     4_rna     5_rna     6_rna     7_rna  ...        40  \\\n",
       "0     3.333141  4.219339 -2.630160 -0.615409 -1.955352  ... -0.219865   \n",
       "1     0.491120  0.120340  1.625035  0.064617  0.429203  ... -0.870405   \n",
       "2     0.171599  2.810880  1.545500 -1.419537 -0.902134  ...  0.567374   \n",
       "3     3.177159  1.763771  4.073036 -1.079724  1.063159  ...  0.995619   \n",
       "4     5.767854  0.529048  0.853587 -1.837509 -1.616718  ... -0.821355   \n",
       "...        ...       ...       ...       ...       ...  ...       ...   \n",
       "2636 -1.293610 -0.701676  1.601468 -0.670987  0.434144  ... -0.707394   \n",
       "2637  0.634749 -5.691073  1.076291 -1.273896  1.573063  ... -0.039570   \n",
       "2638  1.414156  1.420331 -1.518408 -1.259496 -0.507429  ...  2.874404   \n",
       "2639  1.266941 -0.543650 -5.178307 -2.718737 -1.898486  ...  0.355951   \n",
       "2640 -7.100281 -0.458663  1.197917 -0.197902  1.983744  ... -0.541026   \n",
       "\n",
       "            41        42        43        44        45        46        47  \\\n",
       "0    -0.231562  0.337380  0.989798 -0.549120 -1.325104 -0.122239 -1.658196   \n",
       "1     0.755284 -0.041358 -1.395688  1.181735  0.216738  1.692452  2.100674   \n",
       "2    -0.888025 -0.493230  0.326492 -0.125542  0.272746  0.047104 -0.223998   \n",
       "3    -1.017011  0.502295  0.181715 -0.152512  0.136581  0.448731  0.966281   \n",
       "4     0.565135  1.437746  0.354603 -0.120906 -0.581741 -0.219004  0.254667   \n",
       "...        ...       ...       ...       ...       ...       ...       ...   \n",
       "2636  0.093768 -0.579160  1.306410 -1.453121 -1.531913  1.048622 -1.171767   \n",
       "2637 -0.382012  0.170209 -0.354368  0.514323  0.143774  0.491185 -0.094987   \n",
       "2638  0.306406 -1.604938 -2.499980 -0.242752 -2.075504 -0.202921  1.751214   \n",
       "2639 -0.550593 -0.993096  0.761652 -1.603567 -0.098866  0.097642  1.224674   \n",
       "2640  0.875489  0.291641  0.095733  0.233086  0.074827 -0.031828 -0.082658   \n",
       "\n",
       "            48        49  \n",
       "0    -0.432369  1.570464  \n",
       "1    -2.560527 -0.160578  \n",
       "2    -0.616991  0.289083  \n",
       "3    -0.715115  0.232737  \n",
       "4    -0.181056  0.308072  \n",
       "...        ...       ...  \n",
       "2636 -0.324598  0.114476  \n",
       "2637  0.275879  0.055669  \n",
       "2638 -2.805438  2.643512  \n",
       "2639  1.143904 -0.284271  \n",
       "2640 -0.594825 -0.043218  \n",
       "\n",
       "[2641 rows x 82 columns]"
      ]
     },
     "execution_count": 224,
     "metadata": {},
     "output_type": "execute_result"
    }
   ],
   "source": [
    "bimodal_df"
   ]
  },
  {
   "cell_type": "code",
   "execution_count": 143,
   "metadata": {},
   "outputs": [
    {
     "data": {
      "text/plain": [
       "3    1075\n",
       "1     983\n",
       "0     583\n",
       "Name: treatTime, dtype: int64"
      ]
     },
     "execution_count": 143,
     "metadata": {},
     "output_type": "execute_result"
    }
   ],
   "source": [
    "atac_df['treatTime'].value_counts()"
   ]
  },
  {
   "cell_type": "code",
   "execution_count": 144,
   "metadata": {},
   "outputs": [
    {
     "data": {
      "text/plain": [
       "3    1075\n",
       "1     983\n",
       "0     583\n",
       "Name: treatTime, dtype: int64"
      ]
     },
     "execution_count": 144,
     "metadata": {},
     "output_type": "execute_result"
    }
   ],
   "source": [
    "rna_df['treatTime'].value_counts()"
   ]
  },
  {
   "cell_type": "code",
   "execution_count": 145,
   "metadata": {},
   "outputs": [
    {
     "data": {
      "text/plain": [
       "3    1075\n",
       "1     983\n",
       "0     583\n",
       "Name: treatTime, dtype: int64"
      ]
     },
     "execution_count": 145,
     "metadata": {},
     "output_type": "execute_result"
    }
   ],
   "source": [
    "bimodal_df['treatTime'].value_counts()"
   ]
  },
  {
   "cell_type": "code",
   "execution_count": 146,
   "metadata": {},
   "outputs": [
    {
     "data": {
      "text/plain": [
       "3    1075\n",
       "1     983\n",
       "0     583\n",
       "Name: treatTime, dtype: int64"
      ]
     },
     "execution_count": 146,
     "metadata": {},
     "output_type": "execute_result"
    }
   ],
   "source": [
    "bi_low_df['treatTime'].value_counts()"
   ]
  },
  {
   "cell_type": "code",
   "execution_count": 225,
   "metadata": {},
   "outputs": [
    {
     "data": {
      "text/html": [
       "<div>\n",
       "<style scoped>\n",
       "    .dataframe tbody tr th:only-of-type {\n",
       "        vertical-align: middle;\n",
       "    }\n",
       "\n",
       "    .dataframe tbody tr th {\n",
       "        vertical-align: top;\n",
       "    }\n",
       "\n",
       "    .dataframe thead th {\n",
       "        text-align: right;\n",
       "    }\n",
       "</style>\n",
       "<table border=\"1\" class=\"dataframe\">\n",
       "  <thead>\n",
       "    <tr style=\"text-align: right;\">\n",
       "      <th></th>\n",
       "      <th>sample</th>\n",
       "      <th>treatTime</th>\n",
       "      <th>0_rna</th>\n",
       "      <th>1_rna</th>\n",
       "      <th>2_rna</th>\n",
       "      <th>3_rna</th>\n",
       "      <th>4_rna</th>\n",
       "      <th>5_rna</th>\n",
       "      <th>6_rna</th>\n",
       "      <th>7_rna</th>\n",
       "      <th>...</th>\n",
       "      <th>40</th>\n",
       "      <th>41</th>\n",
       "      <th>42</th>\n",
       "      <th>43</th>\n",
       "      <th>44</th>\n",
       "      <th>45</th>\n",
       "      <th>46</th>\n",
       "      <th>47</th>\n",
       "      <th>48</th>\n",
       "      <th>49</th>\n",
       "    </tr>\n",
       "  </thead>\n",
       "  <tbody>\n",
       "    <tr>\n",
       "      <td>0</td>\n",
       "      <td>sci_RNA_A_001_TCTCTCATCC</td>\n",
       "      <td>0</td>\n",
       "      <td>0.510417</td>\n",
       "      <td>5.928225</td>\n",
       "      <td>-0.037952</td>\n",
       "      <td>3.333141</td>\n",
       "      <td>4.219339</td>\n",
       "      <td>-2.630160</td>\n",
       "      <td>-0.615409</td>\n",
       "      <td>-1.955352</td>\n",
       "      <td>...</td>\n",
       "      <td>-0.219865</td>\n",
       "      <td>-0.231562</td>\n",
       "      <td>0.337380</td>\n",
       "      <td>0.989798</td>\n",
       "      <td>-0.549120</td>\n",
       "      <td>-1.325104</td>\n",
       "      <td>-0.122239</td>\n",
       "      <td>-1.658196</td>\n",
       "      <td>-0.432369</td>\n",
       "      <td>1.570464</td>\n",
       "    </tr>\n",
       "    <tr>\n",
       "      <td>1</td>\n",
       "      <td>sci_RNA_A_001_GACCAATGCG</td>\n",
       "      <td>0</td>\n",
       "      <td>3.000306</td>\n",
       "      <td>3.185586</td>\n",
       "      <td>-3.430007</td>\n",
       "      <td>0.491120</td>\n",
       "      <td>0.120340</td>\n",
       "      <td>1.625035</td>\n",
       "      <td>0.064617</td>\n",
       "      <td>0.429203</td>\n",
       "      <td>...</td>\n",
       "      <td>-0.870405</td>\n",
       "      <td>0.755284</td>\n",
       "      <td>-0.041358</td>\n",
       "      <td>-1.395688</td>\n",
       "      <td>1.181735</td>\n",
       "      <td>0.216738</td>\n",
       "      <td>1.692452</td>\n",
       "      <td>2.100674</td>\n",
       "      <td>-2.560527</td>\n",
       "      <td>-0.160578</td>\n",
       "    </tr>\n",
       "    <tr>\n",
       "      <td>2</td>\n",
       "      <td>sci_RNA_A_002_ATCTAGGTTC</td>\n",
       "      <td>0</td>\n",
       "      <td>5.106206</td>\n",
       "      <td>2.963834</td>\n",
       "      <td>-1.492047</td>\n",
       "      <td>0.171599</td>\n",
       "      <td>2.810880</td>\n",
       "      <td>1.545500</td>\n",
       "      <td>-1.419537</td>\n",
       "      <td>-0.902134</td>\n",
       "      <td>...</td>\n",
       "      <td>0.567374</td>\n",
       "      <td>-0.888025</td>\n",
       "      <td>-0.493230</td>\n",
       "      <td>0.326492</td>\n",
       "      <td>-0.125542</td>\n",
       "      <td>0.272746</td>\n",
       "      <td>0.047104</td>\n",
       "      <td>-0.223998</td>\n",
       "      <td>-0.616991</td>\n",
       "      <td>0.289083</td>\n",
       "    </tr>\n",
       "    <tr>\n",
       "      <td>3</td>\n",
       "      <td>sci_RNA_A_003_ACGTTGAATG</td>\n",
       "      <td>0</td>\n",
       "      <td>3.475368</td>\n",
       "      <td>5.050186</td>\n",
       "      <td>2.494665</td>\n",
       "      <td>3.177159</td>\n",
       "      <td>1.763771</td>\n",
       "      <td>4.073036</td>\n",
       "      <td>-1.079724</td>\n",
       "      <td>1.063159</td>\n",
       "      <td>...</td>\n",
       "      <td>0.995619</td>\n",
       "      <td>-1.017011</td>\n",
       "      <td>0.502295</td>\n",
       "      <td>0.181715</td>\n",
       "      <td>-0.152512</td>\n",
       "      <td>0.136581</td>\n",
       "      <td>0.448731</td>\n",
       "      <td>0.966281</td>\n",
       "      <td>-0.715115</td>\n",
       "      <td>0.232737</td>\n",
       "    </tr>\n",
       "    <tr>\n",
       "      <td>4</td>\n",
       "      <td>sci_RNA_A_003_CCTAAGCGGT</td>\n",
       "      <td>0</td>\n",
       "      <td>-3.759883</td>\n",
       "      <td>4.795824</td>\n",
       "      <td>-0.568844</td>\n",
       "      <td>5.767854</td>\n",
       "      <td>0.529048</td>\n",
       "      <td>0.853587</td>\n",
       "      <td>-1.837509</td>\n",
       "      <td>-1.616718</td>\n",
       "      <td>...</td>\n",
       "      <td>-0.821355</td>\n",
       "      <td>0.565135</td>\n",
       "      <td>1.437746</td>\n",
       "      <td>0.354603</td>\n",
       "      <td>-0.120906</td>\n",
       "      <td>-0.581741</td>\n",
       "      <td>-0.219004</td>\n",
       "      <td>0.254667</td>\n",
       "      <td>-0.181056</td>\n",
       "      <td>0.308072</td>\n",
       "    </tr>\n",
       "    <tr>\n",
       "      <td>...</td>\n",
       "      <td>...</td>\n",
       "      <td>...</td>\n",
       "      <td>...</td>\n",
       "      <td>...</td>\n",
       "      <td>...</td>\n",
       "      <td>...</td>\n",
       "      <td>...</td>\n",
       "      <td>...</td>\n",
       "      <td>...</td>\n",
       "      <td>...</td>\n",
       "      <td>...</td>\n",
       "      <td>...</td>\n",
       "      <td>...</td>\n",
       "      <td>...</td>\n",
       "      <td>...</td>\n",
       "      <td>...</td>\n",
       "      <td>...</td>\n",
       "      <td>...</td>\n",
       "      <td>...</td>\n",
       "      <td>...</td>\n",
       "      <td>...</td>\n",
       "    </tr>\n",
       "    <tr>\n",
       "      <td>2636</td>\n",
       "      <td>sci_RNA_E_095_ACGATAGACT</td>\n",
       "      <td>3</td>\n",
       "      <td>-1.876843</td>\n",
       "      <td>-3.717046</td>\n",
       "      <td>-0.423029</td>\n",
       "      <td>-1.293610</td>\n",
       "      <td>-0.701676</td>\n",
       "      <td>1.601468</td>\n",
       "      <td>-0.670987</td>\n",
       "      <td>0.434144</td>\n",
       "      <td>...</td>\n",
       "      <td>-0.707394</td>\n",
       "      <td>0.093768</td>\n",
       "      <td>-0.579160</td>\n",
       "      <td>1.306410</td>\n",
       "      <td>-1.453121</td>\n",
       "      <td>-1.531913</td>\n",
       "      <td>1.048622</td>\n",
       "      <td>-1.171767</td>\n",
       "      <td>-0.324598</td>\n",
       "      <td>0.114476</td>\n",
       "    </tr>\n",
       "    <tr>\n",
       "      <td>2637</td>\n",
       "      <td>sci_RNA_E_096_TGCCTAACTT</td>\n",
       "      <td>3</td>\n",
       "      <td>3.106059</td>\n",
       "      <td>-7.233339</td>\n",
       "      <td>1.144507</td>\n",
       "      <td>0.634749</td>\n",
       "      <td>-5.691073</td>\n",
       "      <td>1.076291</td>\n",
       "      <td>-1.273896</td>\n",
       "      <td>1.573063</td>\n",
       "      <td>...</td>\n",
       "      <td>-0.039570</td>\n",
       "      <td>-0.382012</td>\n",
       "      <td>0.170209</td>\n",
       "      <td>-0.354368</td>\n",
       "      <td>0.514323</td>\n",
       "      <td>0.143774</td>\n",
       "      <td>0.491185</td>\n",
       "      <td>-0.094987</td>\n",
       "      <td>0.275879</td>\n",
       "      <td>0.055669</td>\n",
       "    </tr>\n",
       "    <tr>\n",
       "      <td>2638</td>\n",
       "      <td>sci_RNA_E_096_GGCGGTTGAC</td>\n",
       "      <td>3</td>\n",
       "      <td>-2.777064</td>\n",
       "      <td>-2.984624</td>\n",
       "      <td>2.053412</td>\n",
       "      <td>1.414156</td>\n",
       "      <td>1.420331</td>\n",
       "      <td>-1.518408</td>\n",
       "      <td>-1.259496</td>\n",
       "      <td>-0.507429</td>\n",
       "      <td>...</td>\n",
       "      <td>2.874404</td>\n",
       "      <td>0.306406</td>\n",
       "      <td>-1.604938</td>\n",
       "      <td>-2.499980</td>\n",
       "      <td>-0.242752</td>\n",
       "      <td>-2.075504</td>\n",
       "      <td>-0.202921</td>\n",
       "      <td>1.751214</td>\n",
       "      <td>-2.805438</td>\n",
       "      <td>2.643512</td>\n",
       "    </tr>\n",
       "    <tr>\n",
       "      <td>2639</td>\n",
       "      <td>sci_RNA_E_096_CGAATCTCCT</td>\n",
       "      <td>3</td>\n",
       "      <td>-4.518046</td>\n",
       "      <td>-4.378331</td>\n",
       "      <td>-1.497701</td>\n",
       "      <td>1.266941</td>\n",
       "      <td>-0.543650</td>\n",
       "      <td>-5.178307</td>\n",
       "      <td>-2.718737</td>\n",
       "      <td>-1.898486</td>\n",
       "      <td>...</td>\n",
       "      <td>0.355951</td>\n",
       "      <td>-0.550593</td>\n",
       "      <td>-0.993096</td>\n",
       "      <td>0.761652</td>\n",
       "      <td>-1.603567</td>\n",
       "      <td>-0.098866</td>\n",
       "      <td>0.097642</td>\n",
       "      <td>1.224674</td>\n",
       "      <td>1.143904</td>\n",
       "      <td>-0.284271</td>\n",
       "    </tr>\n",
       "    <tr>\n",
       "      <td>2640</td>\n",
       "      <td>sci_RNA_E_096_ATATGCCATC</td>\n",
       "      <td>3</td>\n",
       "      <td>-0.845266</td>\n",
       "      <td>-1.194443</td>\n",
       "      <td>-1.796833</td>\n",
       "      <td>-7.100281</td>\n",
       "      <td>-0.458663</td>\n",
       "      <td>1.197917</td>\n",
       "      <td>-0.197902</td>\n",
       "      <td>1.983744</td>\n",
       "      <td>...</td>\n",
       "      <td>-0.541026</td>\n",
       "      <td>0.875489</td>\n",
       "      <td>0.291641</td>\n",
       "      <td>0.095733</td>\n",
       "      <td>0.233086</td>\n",
       "      <td>0.074827</td>\n",
       "      <td>-0.031828</td>\n",
       "      <td>-0.082658</td>\n",
       "      <td>-0.594825</td>\n",
       "      <td>-0.043218</td>\n",
       "    </tr>\n",
       "  </tbody>\n",
       "</table>\n",
       "<p>2641 rows × 82 columns</p>\n",
       "</div>"
      ],
      "text/plain": [
       "                        sample  treatTime     0_rna     1_rna     2_rna  \\\n",
       "0     sci_RNA_A_001_TCTCTCATCC          0  0.510417  5.928225 -0.037952   \n",
       "1     sci_RNA_A_001_GACCAATGCG          0  3.000306  3.185586 -3.430007   \n",
       "2     sci_RNA_A_002_ATCTAGGTTC          0  5.106206  2.963834 -1.492047   \n",
       "3     sci_RNA_A_003_ACGTTGAATG          0  3.475368  5.050186  2.494665   \n",
       "4     sci_RNA_A_003_CCTAAGCGGT          0 -3.759883  4.795824 -0.568844   \n",
       "...                        ...        ...       ...       ...       ...   \n",
       "2636  sci_RNA_E_095_ACGATAGACT          3 -1.876843 -3.717046 -0.423029   \n",
       "2637  sci_RNA_E_096_TGCCTAACTT          3  3.106059 -7.233339  1.144507   \n",
       "2638  sci_RNA_E_096_GGCGGTTGAC          3 -2.777064 -2.984624  2.053412   \n",
       "2639  sci_RNA_E_096_CGAATCTCCT          3 -4.518046 -4.378331 -1.497701   \n",
       "2640  sci_RNA_E_096_ATATGCCATC          3 -0.845266 -1.194443 -1.796833   \n",
       "\n",
       "         3_rna     4_rna     5_rna     6_rna     7_rna  ...        40  \\\n",
       "0     3.333141  4.219339 -2.630160 -0.615409 -1.955352  ... -0.219865   \n",
       "1     0.491120  0.120340  1.625035  0.064617  0.429203  ... -0.870405   \n",
       "2     0.171599  2.810880  1.545500 -1.419537 -0.902134  ...  0.567374   \n",
       "3     3.177159  1.763771  4.073036 -1.079724  1.063159  ...  0.995619   \n",
       "4     5.767854  0.529048  0.853587 -1.837509 -1.616718  ... -0.821355   \n",
       "...        ...       ...       ...       ...       ...  ...       ...   \n",
       "2636 -1.293610 -0.701676  1.601468 -0.670987  0.434144  ... -0.707394   \n",
       "2637  0.634749 -5.691073  1.076291 -1.273896  1.573063  ... -0.039570   \n",
       "2638  1.414156  1.420331 -1.518408 -1.259496 -0.507429  ...  2.874404   \n",
       "2639  1.266941 -0.543650 -5.178307 -2.718737 -1.898486  ...  0.355951   \n",
       "2640 -7.100281 -0.458663  1.197917 -0.197902  1.983744  ... -0.541026   \n",
       "\n",
       "            41        42        43        44        45        46        47  \\\n",
       "0    -0.231562  0.337380  0.989798 -0.549120 -1.325104 -0.122239 -1.658196   \n",
       "1     0.755284 -0.041358 -1.395688  1.181735  0.216738  1.692452  2.100674   \n",
       "2    -0.888025 -0.493230  0.326492 -0.125542  0.272746  0.047104 -0.223998   \n",
       "3    -1.017011  0.502295  0.181715 -0.152512  0.136581  0.448731  0.966281   \n",
       "4     0.565135  1.437746  0.354603 -0.120906 -0.581741 -0.219004  0.254667   \n",
       "...        ...       ...       ...       ...       ...       ...       ...   \n",
       "2636  0.093768 -0.579160  1.306410 -1.453121 -1.531913  1.048622 -1.171767   \n",
       "2637 -0.382012  0.170209 -0.354368  0.514323  0.143774  0.491185 -0.094987   \n",
       "2638  0.306406 -1.604938 -2.499980 -0.242752 -2.075504 -0.202921  1.751214   \n",
       "2639 -0.550593 -0.993096  0.761652 -1.603567 -0.098866  0.097642  1.224674   \n",
       "2640  0.875489  0.291641  0.095733  0.233086  0.074827 -0.031828 -0.082658   \n",
       "\n",
       "            48        49  \n",
       "0    -0.432369  1.570464  \n",
       "1    -2.560527 -0.160578  \n",
       "2    -0.616991  0.289083  \n",
       "3    -0.715115  0.232737  \n",
       "4    -0.181056  0.308072  \n",
       "...        ...       ...  \n",
       "2636 -0.324598  0.114476  \n",
       "2637  0.275879  0.055669  \n",
       "2638 -2.805438  2.643512  \n",
       "2639  1.143904 -0.284271  \n",
       "2640 -0.594825 -0.043218  \n",
       "\n",
       "[2641 rows x 82 columns]"
      ]
     },
     "execution_count": 225,
     "metadata": {},
     "output_type": "execute_result"
    }
   ],
   "source": [
    "bimodal_df"
   ]
  },
  {
   "cell_type": "markdown",
   "metadata": {},
   "source": [
    "**Observations**: \n",
    "- There are over 20,000 features, but only 3260 samples. Consider using PCA or another dimensionality reduction method before inputing into network\n",
    "- This matrix is super sparse. Think about how to account for that (maybe in feature selection)\n",
    "- TODO - feature selection"
   ]
  },
  {
   "cell_type": "code",
   "execution_count": 226,
   "metadata": {},
   "outputs": [],
   "source": [
    "''' Get labels'''\n",
    "Y_atac = atac_df['treatTime']\n",
    "Y_rna = rna_df['treatTime']\n",
    "Y_bimodal = bimodal_df['treatTime']\n",
    "Y_bi_low = bi_low_df['treatTime']"
   ]
  },
  {
   "cell_type": "code",
   "execution_count": 227,
   "metadata": {},
   "outputs": [],
   "source": [
    "''' Change to label-encoded values'''\n",
    "le = LabelEncoder()\n",
    "Y_atac_le = le.fit_transform(Y_atac) # note that this changes treatment time of 3 to 2, but other labels are the same\n",
    "Y_rna_le = le.fit_transform(Y_rna)\n",
    "Y_bimodal_le = le.fit_transform(Y_bimodal)\n",
    "Y_bi_low_le = le.fit_transform(Y_bi_low)"
   ]
  },
  {
   "cell_type": "code",
   "execution_count": 228,
   "metadata": {},
   "outputs": [],
   "source": [
    "''' Get feature labels '''\n",
    "# get features\n",
    "atac_features = atac_df.iloc[:, 2:].columns\n",
    "rna_features = rna_df.iloc[:, 2:].columns\n",
    "bimodal_features = bimodal_df.iloc[:, 2:].columns\n",
    "bi_low_features = bi_low_df.iloc[:, 2:].columns\n",
    "\n",
    "# get number of features\n",
    "n_atac_features = len(atac_features)\n",
    "n_rna_features = len(rna_features)\n",
    "n_bi_features = len(bimodal_features)\n",
    "n_bi_low_features = len(bi_low_features)"
   ]
  },
  {
   "cell_type": "code",
   "execution_count": 229,
   "metadata": {},
   "outputs": [
    {
     "data": {
      "text/plain": [
       "Index([ 0,  1,  2,  3,  4,  5,  6,  7,  8,  9, 10, 11, 12, 13, 14, 15, 16, 17,\n",
       "       18, 19, 20, 21, 22, 23, 24, 25, 26, 27, 28, 29],\n",
       "      dtype='object')"
      ]
     },
     "execution_count": 229,
     "metadata": {},
     "output_type": "execute_result"
    }
   ],
   "source": [
    "rna_features"
   ]
  },
  {
   "cell_type": "code",
   "execution_count": 230,
   "metadata": {},
   "outputs": [],
   "source": [
    "''' Make matrices into numpy arrays'''\n",
    "X_atac_np = atac_df.iloc[:, 2:].to_numpy()\n",
    "X_rna_np = rna_df.iloc[:, 2:].to_numpy()\n",
    "X_bimodal_np = bimodal_df.iloc[:, 2:].to_numpy()\n",
    "X_bi_low_np = bi_low_df.iloc[:, 2:].to_numpy()"
   ]
  },
  {
   "cell_type": "code",
   "execution_count": 231,
   "metadata": {},
   "outputs": [
    {
     "data": {
      "text/plain": [
       "0       0\n",
       "1       0\n",
       "2       0\n",
       "3       0\n",
       "4       0\n",
       "       ..\n",
       "2636    3\n",
       "2637    3\n",
       "2638    3\n",
       "2639    3\n",
       "2640    3\n",
       "Name: treatTime, Length: 2641, dtype: int64"
      ]
     },
     "execution_count": 231,
     "metadata": {},
     "output_type": "execute_result"
    }
   ],
   "source": [
    "atac_df.iloc[:,1]"
   ]
  },
  {
   "cell_type": "code",
   "execution_count": 235,
   "metadata": {},
   "outputs": [],
   "source": [
    "''' Get training and test sets '''\n",
    "# TODO - make sure these are stratified\n",
    "X_train_atac, X_test_atac, Y_train_atac, Y_test_atac = train_test_split(X_atac_np, Y_atac_le, \n",
    "                                                                        test_size=0.1, random_state=0, \n",
    "                                                                        stratify=Y_atac_le)\n",
    "X_train_rna, X_test_rna, Y_train_rna, Y_test_rna = train_test_split(X_rna_np, Y_rna_le, \n",
    "                                                                    test_size=0.1, random_state=0, \n",
    "                                                                    stratify=Y_rna_le)\n",
    "X_train_bi, X_test_bi, Y_train_bi, Y_test_bi = train_test_split(X_bimodal_np, Y_bimodal_le, \n",
    "                                                                test_size=0.1, random_state=0, \n",
    "                                                                stratify=Y_bimodal_le)\n",
    "X_train_bi_low, X_test_bi_low, Y_train_bi_low, Y_test_bi_low = train_test_split(X_bi_low_np, Y_bi_low_le, \n",
    "                                                                                test_size=0.1, random_state=0, \n",
    "                                                                                stratify=Y_bi_low_le)\n"
   ]
  },
  {
   "cell_type": "code",
   "execution_count": 236,
   "metadata": {},
   "outputs": [],
   "source": [
    "''' Make Y labels one-hot '''\n",
    "# training sets\n",
    "Y_atac_train = tf.one_hot(Y_train_atac, depth=3)\n",
    "Y_rna_train = tf.one_hot(Y_train_rna, depth=3)\n",
    "Y_bimodal_train = tf.one_hot(Y_train_bi, depth=3)\n",
    "Y_bi_low_train = tf.one_hot(Y_train_bi_low, depth=3)\n",
    "\n",
    "\n",
    "# test sets\n",
    "Y_atac_test = tf.one_hot(Y_test_atac, depth=3)\n",
    "Y_rna_test = tf.one_hot(Y_test_rna, depth=3)\n",
    "Y_bimodal_test = tf.one_hot(Y_test_bi, depth=3)\n",
    "Y_bi_low_test = tf.one_hot(Y_test_bi_low, depth=3)"
   ]
  },
  {
   "cell_type": "code",
   "execution_count": 237,
   "metadata": {},
   "outputs": [],
   "source": [
    "''' Make sure np arrays are float32 before converting to tensors '''\n",
    "X_train_atac = np.asarray(X_train_atac).astype(np.float32)\n",
    "X_train_rna = np.asarray(X_train_rna).astype(np.float32)\n",
    "X_train_bi = np.asarray(X_train_bi).astype(np.float32)\n",
    "X_train_bi_low = np.asarray(X_train_bi_low).astype(np.float32)\n",
    "\n",
    "X_test_atac = np.asarray(X_test_atac).astype(np.float32)\n",
    "X_test_rna = np.asarray(X_test_rna).astype(np.float32)\n",
    "X_test_bi = np.asarray(X_test_bi).astype(np.float32)\n",
    "X_test_bi_low = np.asarray(X_test_bi_low).astype(np.float32)"
   ]
  },
  {
   "cell_type": "code",
   "execution_count": 238,
   "metadata": {},
   "outputs": [
    {
     "data": {
      "text/plain": [
       "((2376, 50), (2376, 30), (2376, 80), (2376, 2))"
      ]
     },
     "execution_count": 238,
     "metadata": {},
     "output_type": "execute_result"
    }
   ],
   "source": [
    "X_train_atac.shape, X_train_rna.shape, X_train_bi.shape, X_train_bi_low.shape"
   ]
  },
  {
   "cell_type": "code",
   "execution_count": 239,
   "metadata": {},
   "outputs": [],
   "source": [
    "''' Make matrices into TF tensors'''\n",
    "# training sets\n",
    "X_atac_train = tf.convert_to_tensor(X_train_atac)\n",
    "X_rna_train = tf.convert_to_tensor(X_train_rna)\n",
    "X_bimodal_train = tf.convert_to_tensor(X_train_bi)\n",
    "X_bi_low_train = tf.convert_to_tensor(X_train_bi_low)\n",
    "\n",
    "\n",
    "# test sets\n",
    "X_atac_test = tf.convert_to_tensor(X_test_atac)\n",
    "X_rna_test = tf.convert_to_tensor(X_test_rna)\n",
    "X_bimodal_test = tf.convert_to_tensor(X_test_bi)\n",
    "X_bi_low_test = tf.convert_to_tensor(X_test_bi_low)"
   ]
  },
  {
   "cell_type": "code",
   "execution_count": 241,
   "metadata": {},
   "outputs": [],
   "source": [
    "''' Define architecture '''\n",
    "HIDDEN_LAYER_DIMS = [500, 500, 2000]\n",
    "OUTPUT_DIM = 3\n",
    "\n",
    "def nn_model(n_features, dropout_rate, l2_lambda):\n",
    "    \"\"\"\n",
    "    Returns a tf.keras.Model for cell-type classification with the specifications \n",
    "    listed above.\n",
    "    \n",
    "    Arguments:\n",
    "      n_features: the number of features of the datapoints used\n",
    "        as input to the model (used to determine the input shape)\n",
    "      dropout_rate: the dropout rate of the dropout layers\n",
    "      l2_lambda: the weight of the L2 regularization penalty on the\n",
    "        weights (but not the biases) of the model\n",
    "    \n",
    "    Returns:\n",
    "      model: a tf.keras.Model for tSNE with the specifications\n",
    "        listed above\n",
    "    \"\"\"\n",
    "    model = K.Sequential()\n",
    "    \n",
    "    \n",
    "    l2_reg = tf.keras.regularizers.l2(l=l2_lambda)\n",
    "    ######################## BEGIN YOUR ANSWER ########################\n",
    "    model.add(tf.keras.layers.Dense(HIDDEN_LAYER_DIMS[0], batch_input_shape=(None, n_features), \n",
    "                                    activation='relu', kernel_regularizer=l2_reg))\n",
    "    model.add(tf.keras.layers.Dropout(rate=dropout_rate))\n",
    "    model.add(tf.keras.layers.Dense(HIDDEN_LAYER_DIMS[1], batch_input_shape=(None, n_features),\n",
    "                                   activation='relu', kernel_regularizer=l2_reg))\n",
    "    model.add(tf.keras.layers.Dropout(rate=dropout_rate))\n",
    "    model.add(tf.keras.layers.Dense(HIDDEN_LAYER_DIMS[2], batch_input_shape=(None, n_features),\n",
    "                                   activation='relu', kernel_regularizer=l2_reg))\n",
    "    model.add(tf.keras.layers.Dropout(rate=dropout_rate))\n",
    "    model.add(tf.keras.layers.Dense(OUTPUT_DIM, batch_input_shape=(None, n_features),\n",
    "                                   activation=tf.nn.softmax, kernel_regularizer=l2_reg))\n",
    "    \n",
    "    ######################### END YOUR ANSWER #########################\n",
    "    \n",
    "    return model"
   ]
  },
  {
   "cell_type": "code",
   "execution_count": 270,
   "metadata": {},
   "outputs": [],
   "source": [
    "''' Define architecture '''\n",
    "HIDDEN_LAYER_DIMS = [50, 50, 200]\n",
    "OUTPUT_DIM = 3\n",
    "\n",
    "def nn_model_factor(n_features, dropout_rate, l2_lambda):\n",
    "    \"\"\"\n",
    "    Returns a tf.keras.Model for cell-type classification with the specifications \n",
    "    listed above.\n",
    "    \n",
    "    Arguments:\n",
    "      n_features: the number of features of the datapoints used\n",
    "        as input to the model (used to determine the input shape)\n",
    "      dropout_rate: the dropout rate of the dropout layers\n",
    "      l2_lambda: the weight of the L2 regularization penalty on the\n",
    "        weights (but not the biases) of the model\n",
    "    \n",
    "    Returns:\n",
    "      model: a tf.keras.Model for tSNE with the specifications\n",
    "        listed above\n",
    "    \"\"\"\n",
    "    model = K.Sequential()\n",
    "    \n",
    "    \n",
    "    l2_reg = tf.keras.regularizers.l2(l=l2_lambda)\n",
    "    ######################## BEGIN YOUR ANSWER ########################\n",
    "    model.add(tf.keras.layers.Dense(HIDDEN_LAYER_DIMS[0], batch_input_shape=(None, n_features), \n",
    "                                    activation='relu', kernel_regularizer=l2_reg))\n",
    "    model.add(tf.keras.layers.Dropout(rate=dropout_rate))\n",
    "    model.add(tf.keras.layers.Dense(HIDDEN_LAYER_DIMS[1], batch_input_shape=(None, n_features),\n",
    "                                   activation='relu', kernel_regularizer=l2_reg))\n",
    "    model.add(tf.keras.layers.Dropout(rate=dropout_rate))\n",
    "    model.add(tf.keras.layers.Dense(HIDDEN_LAYER_DIMS[2], batch_input_shape=(None, n_features),\n",
    "                                   activation='relu', kernel_regularizer=l2_reg))\n",
    "    model.add(tf.keras.layers.Dropout(rate=dropout_rate))\n",
    "    model.add(tf.keras.layers.Dense(OUTPUT_DIM, batch_input_shape=(None, n_features),\n",
    "                                   activation=tf.nn.softmax, kernel_regularizer=l2_reg))\n",
    "    \n",
    "    ######################### END YOUR ANSWER #########################\n",
    "    \n",
    "    return model"
   ]
  },
  {
   "cell_type": "code",
   "execution_count": 275,
   "metadata": {},
   "outputs": [
    {
     "name": "stdout",
     "output_type": "stream",
     "text": [
      "Model: \"sequential_195\"\n",
      "_________________________________________________________________\n",
      "Layer (type)                 Output Shape              Param #   \n",
      "=================================================================\n",
      "dense_780 (Dense)            (None, 50)                4050      \n",
      "_________________________________________________________________\n",
      "dropout_585 (Dropout)        (None, 50)                0         \n",
      "_________________________________________________________________\n",
      "dense_781 (Dense)            (None, 50)                2550      \n",
      "_________________________________________________________________\n",
      "dropout_586 (Dropout)        (None, 50)                0         \n",
      "_________________________________________________________________\n",
      "dense_782 (Dense)            (None, 200)               10200     \n",
      "_________________________________________________________________\n",
      "dropout_587 (Dropout)        (None, 200)               0         \n",
      "_________________________________________________________________\n",
      "dense_783 (Dense)            (None, 3)                 603       \n",
      "=================================================================\n",
      "Total params: 17,403\n",
      "Trainable params: 17,403\n",
      "Non-trainable params: 0\n",
      "_________________________________________________________________\n"
     ]
    }
   ],
   "source": [
    "''' Give summary of architecture '''\n",
    "n_features = len(bimodal_features)\n",
    "model = nn_model_factor(n_features, dropout_rate=0.2, l2_lambda=0.1)\n",
    "model.summary()"
   ]
  },
  {
   "cell_type": "code",
   "execution_count": 276,
   "metadata": {},
   "outputs": [],
   "source": [
    "def sample_shuffle_data(arrays, n_samples=None):\n",
    "    \"\"\"subsamples examples from a list of datasets\n",
    "    \n",
    "    samples `n_samples` without replacement from along the first dimension\n",
    "    of each array in `arrays`. The same first-dimension slices are \n",
    "    selected for each array in `arrays`.\n",
    "    \n",
    "    Arguments:\n",
    "      arrays: the arrays to be sliced, all must have the same size along \n",
    "        their first dimension.\n",
    "      n_samples: (None) the number of samples to be selected, `n_samples` must \n",
    "        be less than or equal to the length of the arrays. If n_samples it not\n",
    "        passed or is `None`. Then each array in `arrays` will be \n",
    "        shuffled in the same way and returned.\n",
    "      \n",
    "    Returns:\n",
    "      sampled: a `tuple` of len the same as `len(arrays)` where each\n",
    "        element is an array of len `n_samples`\n",
    "    \"\"\"\n",
    "    batch_len = arrays[0].shape[0]\n",
    "    n_samples = batch_len if n_samples is None else n_samples\n",
    "\n",
    "    err_msg = 'all arrays must have the same size along their first dimension'\n",
    "    assert all(batch_len == x.shape[0] for x in arrays), err_msg \n",
    "    err_msg = 'n cannot be greater then the length of the arrays'\n",
    "    assert n_samples <= batch_len, err_msg\n",
    "\n",
    "    sampling_idxs = tf.random.shuffle(tf.range(batch_len))[:n_samples]\n",
    "    sampled = tuple(tf.gather(x, sampling_idxs, axis=0) for x in arrays)\n",
    "    \n",
    "    return sampled"
   ]
  },
  {
   "cell_type": "code",
   "execution_count": 277,
   "metadata": {},
   "outputs": [],
   "source": [
    "''' Train step '''\n",
    "def train_step(model, loss, optimizer, x_batch, y_batch):\n",
    "    \"\"\"\n",
    "    Performs one training step on a model given a loss, optimizer, inputs,\n",
    "    and labels.\n",
    "    \n",
    "    Arguments:\n",
    "      model: the model on which the pass will be performed\n",
    "      loss: the loss function to be evaluated, from which the gradients will be\n",
    "        computed\n",
    "      optimizer: a `tf.optimizers` object defining the optimization scheme\n",
    "      x_batch: model training inputs\n",
    "      y_batch: model training labels\n",
    "      \n",
    "    Returns:\n",
    "      loss_value: the computed loss for the forward training pass\n",
    "    \"\"\"\n",
    "#     print('X_batch : {} \\n y_batch : {}'.format(x_batch, y_batch))\n",
    "    with tf.GradientTape() as tape:\n",
    "#         print(f'x_batch: {x_batch}')\n",
    "#         print(f'y_batch: {y_batch}')\n",
    "\n",
    "        y_batch_pred = model(x_batch, training=True)\n",
    "        loss_value = loss(y_batch, y_batch_pred)\n",
    "#         print(f\"model losses type: {model.losses}\")\n",
    "        loss_value += sum(model.losses)\n",
    "    gradients = tape.gradient(loss_value, model.trainable_weights)\n",
    "    optimizer.apply_gradients(zip(gradients, model.trainable_weights))\n",
    "    return loss_value"
   ]
  },
  {
   "cell_type": "code",
   "execution_count": 278,
   "metadata": {},
   "outputs": [],
   "source": [
    "''' Training Loop '''\n",
    "def training(x_train, y_train, x_val, y_val, hyperparam_config, num_epochs, batch_size,\n",
    "             save_model=True, model_dir='models/best_model'):  \n",
    "    \n",
    "    \"\"\"\n",
    "    Train a fully-connected network to classify rna_seq + atac-seq by cell type\n",
    "    \n",
    "    Arguments:\n",
    "      x_train: input training set\n",
    "      y_train: label training set\n",
    "      x_val: input validation set\n",
    "      y_val: label validation set\n",
    "      hyperparam_config: a dictionary that stores a hyperparameter configuration,\n",
    "                         including:\n",
    "                           - \"dropout_rate\": dropout rate (1 - keep probability),\n",
    "                           - \"l2\": coefficient lambda for L2 regularization,\n",
    "                           - \"lr\": learning rate for RMSProp optimizer\n",
    "      num_epochs: number of epochs to train\n",
    "      batch_size: training mini-batch size (must be same as the batch size for pairwise P calculation)\n",
    "      save_model: whether or not to save the best model based on the validation loss\n",
    "      model_dir: location where model will be saved\n",
    "    \n",
    "    Returns:\n",
    "      best_loss: best validation loss\n",
    "      best_kl_div: validation KL loss from the epoch that has best validation loss\n",
    "    \"\"\"\n",
    "    \n",
    "    ################################################################################\n",
    "    # Make sure to wrap train_step with tf.function to speed up training!\n",
    "    train_fn = tf.function(train_step)\n",
    "#     train_fn = train_step\n",
    "    ################################################################################ \n",
    "    \n",
    "    ######################## BEGIN YOUR ANSWER ########################\n",
    "    # get num_batches\n",
    "    num_samples, num_features = x_train.shape\n",
    "    num_batches = np.floor(num_samples) // batch_size\n",
    "    \n",
    "    # initalize model, loss, and optimizers\n",
    "    dropout_rate = hyperparam_config['dropout_rate']\n",
    "    l2_lambda = hyperparam_config['l2_lambda']\n",
    "    lr = hyperparam_config['lr']\n",
    "    model = nn_model_factor(n_features=num_features, dropout_rate=dropout_rate, l2_lambda=l2_lambda)\n",
    "    loss_fn = tf.keras.losses.CategoricalCrossentropy() # todo - make sure this is correct\n",
    "    optimizer = K.optimizers.SGD(learning_rate=lr)  #TODO - double check this optimizer\n",
    "\n",
    "    \n",
    "    # Get initial loss for comparison \n",
    "    print('getting initial loss')\n",
    "    best_loss = loss_fn(y_val, model(x_val))\n",
    "    \n",
    "    # init progress bars\n",
    "    epoch_pbar = tqdm(total=num_epochs, desc=\"Training Epochs\")\n",
    "    batch_pbar = tqdm(desc=\"Training Steps\")\n",
    "    \n",
    "    \n",
    "    n = x_train.shape[0]\n",
    "    # for each epoch   \n",
    "    # start training loop \n",
    "    for epoch in range(num_epochs):\n",
    "        # shuffle data\n",
    "        if epoch >= 1: x_train, y_train = sample_shuffle_data([x_train, y_train], num_samples)\n",
    "        \n",
    "        batch_pbar.reset(num_batches)\n",
    "        for step in range(int(num_batches)):\n",
    "            # getting indices of batches to train on\n",
    "            range_begin = (step * batch_size) % (x_train.shape[0] - batch_size) #taking mod to prevent ix errors\n",
    "            range_end = range_begin + batch_size\n",
    "            batch_x = x_train[range_begin:range_end, :]\n",
    "            batch_y = y_train[range_begin:range_end, :]\n",
    "            epoch_loss = train_fn(model, loss_fn, optimizer,\n",
    "                                 batch_x, batch_y)\n",
    "  \n",
    "            \n",
    "            batch_pbar.update()\n",
    "    \n",
    "        # compute and print loss on validation data\n",
    "        val_loss = loss_fn(y_val, model(x_val)) #note - don't need reg_coeff defined because already defined using functools.partial\n",
    "        \n",
    "        if epoch%5 ==0:\n",
    "            tf.print(\"epoch: {:02d}, loss: {:5.3f}\".format(epoch, val_loss))\n",
    "        \n",
    "        if val_loss < best_loss:\n",
    "            best_loss = val_loss\n",
    "            if save_model:\n",
    "                # if directory hasn't been created, create it\n",
    "                if not os.path.isdir('models'):\n",
    "                    !mkdir -p models\n",
    "                # if model has already been saved, remove folder and save again\n",
    "                if os.path.isdir(model_dir):\n",
    "                    shutil.rmtree(model_dir)\n",
    "                # make directory again and save\n",
    "#                 !mkdir -p models/best_loss\n",
    "                model.save(model_dir)\n",
    "        batch_pbar.refresh()\n",
    "        epoch_pbar.update()\n",
    "            \n",
    "                \n",
    "    ######################### END YOUR ANSWER #########################\n",
    "    \n",
    "    \n",
    "    return best_loss\n"
   ]
  },
  {
   "cell_type": "code",
   "execution_count": 279,
   "metadata": {},
   "outputs": [],
   "source": [
    "''' Get useful parameters for defining architecture '''\n",
    "X_shape = tf.shape(X_bimodal_train)\n",
    "assert len(X_shape) == 2, f'Order of input tensor shoud be 2 but is {len(X_shape)}'\n",
    "num_cells, num_features = X_shape\n",
    "dropout_rate = 0.1\n",
    "l2_lambda = 1e-6\n",
    "learning_rate = 0.001"
   ]
  },
  {
   "cell_type": "code",
   "execution_count": 280,
   "metadata": {},
   "outputs": [],
   "source": [
    "Y_atac_test;"
   ]
  },
  {
   "cell_type": "code",
   "execution_count": 281,
   "metadata": {},
   "outputs": [],
   "source": [
    "n_epochs = 50"
   ]
  },
  {
   "cell_type": "code",
   "execution_count": 282,
   "metadata": {},
   "outputs": [],
   "source": [
    "''' This cell will train the model on a given set of hyperparameters. This code is repeated later'''\n",
    "''' Train model using ATAC-seq as features'''\n",
    "# define hyperparameters\n",
    "run_cell=False\n",
    "if run_cell:\n",
    "    hyperparams_atac = {'dropout_rate':0.1, 'lr': 0.001, 'l2_lambda': l2_lambda}\n",
    "\n",
    "\n",
    "    training(X_atac_train, Y_atac_train, X_atac_test, Y_atac_test, \n",
    "             hyperparam_config=hyperparams_atac,\n",
    "            num_epochs=n_epochs,\n",
    "            batch_size=100,\n",
    "            save_model=True,\n",
    "            model_dir=f'models/atac_only_model_{n_epochs}_epochs')\n",
    "\n",
    "    ''' Train model using RNA-seq as features'''\n",
    "    # define hyperparameters\n",
    "    hyperparams_rna = {'dropout_rate':0.1, 'lr': 0.001, 'l2_lambda': l2_lambda}\n",
    "\n",
    "    training(X_rna_train, Y_rna_train, X_rna_test, Y_rna_test, \n",
    "             hyperparam_config=hyperparams_rna,\n",
    "            num_epochs=50,\n",
    "            batch_size=100,\n",
    "            save_model=True,\n",
    "            model_dir=f'models/rna_only_model_{n_epochs}_epochs')\n",
    "\n",
    "    ''' Train model using both ATAC and RNA as features'''\n",
    "    # define hyperparameters\n",
    "    hyperparams_bimodal = {'dropout_rate':0.1, 'lr': 0.001, 'l2_lambda': l2_lambda}\n",
    "\n",
    "    training(X_bimodal_train, Y_bimodal_train, X_bimodal_test, Y_bimodal_test, \n",
    "             hyperparam_config=hyperparams_bimodal,\n",
    "            num_epochs=50,\n",
    "            batch_size=100,\n",
    "            save_model=True,\n",
    "            model_dir=f'models/bimodal_model_{n_epochs}_epochs')"
   ]
  },
  {
   "cell_type": "markdown",
   "metadata": {},
   "source": [
    "## Hyperparameter tuning"
   ]
  },
  {
   "cell_type": "code",
   "execution_count": 283,
   "metadata": {},
   "outputs": [],
   "source": [
    "''' Hyperparameter search using validation set'''\n",
    "def grid_search(x_train, y_train, dropout_rates, l2_lambdas, learning_rates, num_epochs=40, batch_size=300):\n",
    "    \"\"\"\n",
    "    Perform grid search for the best tSNE hyperparameters\n",
    "    \n",
    "    Arguments:\n",
    "      x_train: input training set\n",
    "      y_train: label training set\n",
    "      dropout_rates: dropout rates to try\n",
    "      l2_lambdas: L2 lambda coefficients to try\n",
    "      learning_rates: learning rates to try\n",
    "      num_epochs: number of epochs to train\n",
    "      batch_size: training mini-batch size\n",
    "    \n",
    "    Returns:\n",
    "      losses: list losses for configurations tested where\n",
    "        losses[i] = [dropout_rate, l2_lambda, learning_rate, best_loss, best_kl_divgergence]\n",
    "    \"\"\"\n",
    "    losses = []\n",
    "    \n",
    "    pbar = tqdm(total = len(dropout_rates) * len(l2_lambdas) * len(learning_rates))\n",
    "    for dropout_rate in dropout_rates:\n",
    "        for l2_lambda in l2_lambdas:\n",
    "            for learning_rate in learning_rates:\n",
    "                print(\"training with dropout:{} l2:{} lr:{}\".format(dropout_rate,l2_lambda,learning_rate))\n",
    "                # DO NOT shuffle your validation/train set because the pairwise label are calculated by batch\n",
    "                # Use the last batch in train set as the validation set\n",
    "                subset_x_train, subset_y_train=(x_train[0:-batch_size],y_train[0:-batch_size])\n",
    "                subset_x_val, subset_y_val = (x_train[-batch_size:],y_train[-batch_size:])\n",
    "                hyperparam_config = {'dropout_rate': dropout_rate,\n",
    "                                     'l2_lambda': l2_lambda,\n",
    "                                     'lr': learning_rate}\n",
    "\n",
    "                best_loss = training(subset_x_train, subset_y_train,\n",
    "                                     subset_x_val, subset_y_val,\n",
    "                                     hyperparam_config,\n",
    "                                     num_epochs,\n",
    "                                     batch_size,\n",
    "                                     save_model=False)\n",
    "\n",
    "                losses.append([dropout_rate, l2_lambda, learning_rate, best_loss])\n",
    "                pbar.update(1)\n",
    "    pbar.close()\n",
    "    return losses\n"
   ]
  },
  {
   "cell_type": "code",
   "execution_count": 284,
   "metadata": {},
   "outputs": [],
   "source": [
    "dropout_rates = [0.5, 0.2, 0.1]\n",
    "l2_lambdas = [1e-03, 1e-06]\n",
    "learning_rates = [0.1, 0.01, 1e-4]\n",
    "NUM_EPOCHS = 20\n",
    "BATCH_SIZE = 64"
   ]
  },
  {
   "cell_type": "code",
   "execution_count": 181,
   "metadata": {
    "collapsed": true,
    "jupyter": {
     "outputs_hidden": true
    }
   },
   "outputs": [
    {
     "data": {
      "application/vnd.jupyter.widget-view+json": {
       "model_id": "700c68209d7d4a7ca7f6c11958a2f052",
       "version_major": 2,
       "version_minor": 0
      },
      "text/plain": [
       "HBox(children=(IntProgress(value=0, max=18), HTML(value='')))"
      ]
     },
     "metadata": {},
     "output_type": "display_data"
    },
    {
     "name": "stdout",
     "output_type": "stream",
     "text": [
      "training with dropout:0.5 l2:0.001 lr:0.1\n",
      "getting initial loss\n"
     ]
    },
    {
     "data": {
      "application/vnd.jupyter.widget-view+json": {
       "model_id": "e59cc7f39a8e431b91dad9d4e64c983c",
       "version_major": 2,
       "version_minor": 0
      },
      "text/plain": [
       "HBox(children=(IntProgress(value=0, description='Training Epochs', max=20, style=ProgressStyle(description_wid…"
      ]
     },
     "metadata": {},
     "output_type": "display_data"
    },
    {
     "data": {
      "application/vnd.jupyter.widget-view+json": {
       "model_id": "506405a64c324c3087fa060e0a5d59c3",
       "version_major": 2,
       "version_minor": 0
      },
      "text/plain": [
       "HBox(children=(IntProgress(value=1, bar_style='info', description='Training Steps', max=1, style=ProgressStyle…"
      ]
     },
     "metadata": {},
     "output_type": "display_data"
    },
    {
     "name": "stdout",
     "output_type": "stream",
     "text": [
      "epoch: 00, loss: 1.071\n",
      "epoch: 05, loss: 0.979\n",
      "epoch: 10, loss: 0.918\n",
      "epoch: 15, loss: 1.130\n",
      "training with dropout:0.5 l2:0.001 lr:0.01\n",
      "getting initial loss\n"
     ]
    },
    {
     "data": {
      "application/vnd.jupyter.widget-view+json": {
       "model_id": "7d3b27848ccc4bc58d3ea5c28166d8a0",
       "version_major": 2,
       "version_minor": 0
      },
      "text/plain": [
       "HBox(children=(IntProgress(value=0, description='Training Epochs', max=20, style=ProgressStyle(description_wid…"
      ]
     },
     "metadata": {},
     "output_type": "display_data"
    },
    {
     "data": {
      "application/vnd.jupyter.widget-view+json": {
       "model_id": "67d91d571fa24c8e802c959ad8408589",
       "version_major": 2,
       "version_minor": 0
      },
      "text/plain": [
       "HBox(children=(IntProgress(value=1, bar_style='info', description='Training Steps', max=1, style=ProgressStyle…"
      ]
     },
     "metadata": {},
     "output_type": "display_data"
    },
    {
     "name": "stdout",
     "output_type": "stream",
     "text": [
      "epoch: 00, loss: 1.074\n",
      "epoch: 05, loss: 1.067\n",
      "epoch: 10, loss: 1.043\n",
      "epoch: 15, loss: 0.998\n",
      "training with dropout:0.5 l2:0.001 lr:0.0001\n",
      "getting initial loss\n"
     ]
    },
    {
     "data": {
      "application/vnd.jupyter.widget-view+json": {
       "model_id": "31112e6d8b4448d6bd5d76deff261f43",
       "version_major": 2,
       "version_minor": 0
      },
      "text/plain": [
       "HBox(children=(IntProgress(value=0, description='Training Epochs', max=20, style=ProgressStyle(description_wid…"
      ]
     },
     "metadata": {},
     "output_type": "display_data"
    },
    {
     "data": {
      "application/vnd.jupyter.widget-view+json": {
       "model_id": "0ce8afd307a648e78dc64759fd28727e",
       "version_major": 2,
       "version_minor": 0
      },
      "text/plain": [
       "HBox(children=(IntProgress(value=1, bar_style='info', description='Training Steps', max=1, style=ProgressStyle…"
      ]
     },
     "metadata": {},
     "output_type": "display_data"
    },
    {
     "name": "stdout",
     "output_type": "stream",
     "text": [
      "epoch: 00, loss: 1.127\n",
      "epoch: 05, loss: 1.121\n",
      "epoch: 10, loss: 1.117\n",
      "epoch: 15, loss: 1.114\n",
      "training with dropout:0.5 l2:1e-06 lr:0.1\n",
      "getting initial loss\n"
     ]
    },
    {
     "data": {
      "application/vnd.jupyter.widget-view+json": {
       "model_id": "83226d123f2d419fa1e96bb4ff6e8895",
       "version_major": 2,
       "version_minor": 0
      },
      "text/plain": [
       "HBox(children=(IntProgress(value=0, description='Training Epochs', max=20, style=ProgressStyle(description_wid…"
      ]
     },
     "metadata": {},
     "output_type": "display_data"
    },
    {
     "data": {
      "application/vnd.jupyter.widget-view+json": {
       "model_id": "bd14618b002344fa9e6bae805fe98c42",
       "version_major": 2,
       "version_minor": 0
      },
      "text/plain": [
       "HBox(children=(IntProgress(value=1, bar_style='info', description='Training Steps', max=1, style=ProgressStyle…"
      ]
     },
     "metadata": {},
     "output_type": "display_data"
    },
    {
     "name": "stdout",
     "output_type": "stream",
     "text": [
      "epoch: 00, loss: 1.080\n",
      "epoch: 05, loss: 0.977\n",
      "epoch: 10, loss: 1.059\n",
      "epoch: 15, loss: 0.866\n",
      "training with dropout:0.5 l2:1e-06 lr:0.01\n",
      "getting initial loss\n"
     ]
    },
    {
     "data": {
      "application/vnd.jupyter.widget-view+json": {
       "model_id": "4f9b9b98e53a46e8838cd1f3eb6cfd0a",
       "version_major": 2,
       "version_minor": 0
      },
      "text/plain": [
       "HBox(children=(IntProgress(value=0, description='Training Epochs', max=20, style=ProgressStyle(description_wid…"
      ]
     },
     "metadata": {},
     "output_type": "display_data"
    },
    {
     "data": {
      "application/vnd.jupyter.widget-view+json": {
       "model_id": "11ec3642fa164f8cbe9f677eea860dd5",
       "version_major": 2,
       "version_minor": 0
      },
      "text/plain": [
       "HBox(children=(IntProgress(value=1, bar_style='info', description='Training Steps', max=1, style=ProgressStyle…"
      ]
     },
     "metadata": {},
     "output_type": "display_data"
    },
    {
     "name": "stdout",
     "output_type": "stream",
     "text": [
      "epoch: 00, loss: 1.075\n",
      "epoch: 05, loss: 1.044\n",
      "epoch: 10, loss: 1.004\n",
      "epoch: 15, loss: 0.964\n",
      "training with dropout:0.5 l2:1e-06 lr:0.0001\n",
      "getting initial loss\n"
     ]
    },
    {
     "data": {
      "application/vnd.jupyter.widget-view+json": {
       "model_id": "fb539c4534714e2bab8c667e79f88e7a",
       "version_major": 2,
       "version_minor": 0
      },
      "text/plain": [
       "HBox(children=(IntProgress(value=0, description='Training Epochs', max=20, style=ProgressStyle(description_wid…"
      ]
     },
     "metadata": {},
     "output_type": "display_data"
    },
    {
     "data": {
      "application/vnd.jupyter.widget-view+json": {
       "model_id": "563a4092733945cf9049417c5422a17d",
       "version_major": 2,
       "version_minor": 0
      },
      "text/plain": [
       "HBox(children=(IntProgress(value=1, bar_style='info', description='Training Steps', max=1, style=ProgressStyle…"
      ]
     },
     "metadata": {},
     "output_type": "display_data"
    },
    {
     "name": "stdout",
     "output_type": "stream",
     "text": [
      "epoch: 00, loss: 1.091\n",
      "epoch: 05, loss: 1.087\n",
      "epoch: 10, loss: 1.085\n",
      "epoch: 15, loss: 1.083\n",
      "training with dropout:0.2 l2:0.001 lr:0.1\n",
      "getting initial loss\n"
     ]
    },
    {
     "data": {
      "application/vnd.jupyter.widget-view+json": {
       "model_id": "5c2c5c58933e43728b15dd121d17ac9a",
       "version_major": 2,
       "version_minor": 0
      },
      "text/plain": [
       "HBox(children=(IntProgress(value=0, description='Training Epochs', max=20, style=ProgressStyle(description_wid…"
      ]
     },
     "metadata": {},
     "output_type": "display_data"
    },
    {
     "data": {
      "application/vnd.jupyter.widget-view+json": {
       "model_id": "cbe943b1c09b449c9397a96196900f93",
       "version_major": 2,
       "version_minor": 0
      },
      "text/plain": [
       "HBox(children=(IntProgress(value=1, bar_style='info', description='Training Steps', max=1, style=ProgressStyle…"
      ]
     },
     "metadata": {},
     "output_type": "display_data"
    },
    {
     "name": "stdout",
     "output_type": "stream",
     "text": [
      "epoch: 00, loss: 1.062\n",
      "epoch: 05, loss: 0.955\n",
      "epoch: 10, loss: 1.390\n",
      "epoch: 15, loss: 1.216\n",
      "training with dropout:0.2 l2:0.001 lr:0.01\n",
      "getting initial loss\n"
     ]
    },
    {
     "data": {
      "application/vnd.jupyter.widget-view+json": {
       "model_id": "f98d8f33ac1e41259ad4b3b25340fed3",
       "version_major": 2,
       "version_minor": 0
      },
      "text/plain": [
       "HBox(children=(IntProgress(value=0, description='Training Epochs', max=20, style=ProgressStyle(description_wid…"
      ]
     },
     "metadata": {},
     "output_type": "display_data"
    },
    {
     "data": {
      "application/vnd.jupyter.widget-view+json": {
       "model_id": "3d6bb3ef8a85429cb7c4a04828e66c2f",
       "version_major": 2,
       "version_minor": 0
      },
      "text/plain": [
       "HBox(children=(IntProgress(value=1, bar_style='info', description='Training Steps', max=1, style=ProgressStyle…"
      ]
     },
     "metadata": {},
     "output_type": "display_data"
    },
    {
     "name": "stdout",
     "output_type": "stream",
     "text": [
      "epoch: 00, loss: 1.077\n",
      "epoch: 05, loss: 1.001\n",
      "epoch: 10, loss: 0.911\n",
      "epoch: 15, loss: 0.935\n",
      "training with dropout:0.2 l2:0.001 lr:0.0001\n",
      "getting initial loss\n"
     ]
    },
    {
     "data": {
      "application/vnd.jupyter.widget-view+json": {
       "model_id": "7a491b6ae188468f8f527f845930732c",
       "version_major": 2,
       "version_minor": 0
      },
      "text/plain": [
       "HBox(children=(IntProgress(value=0, description='Training Epochs', max=20, style=ProgressStyle(description_wid…"
      ]
     },
     "metadata": {},
     "output_type": "display_data"
    },
    {
     "data": {
      "application/vnd.jupyter.widget-view+json": {
       "model_id": "93630adf909142efbc780bb0e2abba7e",
       "version_major": 2,
       "version_minor": 0
      },
      "text/plain": [
       "HBox(children=(IntProgress(value=1, bar_style='info', description='Training Steps', max=1, style=ProgressStyle…"
      ]
     },
     "metadata": {},
     "output_type": "display_data"
    },
    {
     "name": "stdout",
     "output_type": "stream",
     "text": [
      "epoch: 00, loss: 1.103\n",
      "epoch: 05, loss: 1.100\n",
      "epoch: 10, loss: 1.097\n",
      "epoch: 15, loss: 1.095\n",
      "training with dropout:0.2 l2:1e-06 lr:0.1\n",
      "getting initial loss\n"
     ]
    },
    {
     "data": {
      "application/vnd.jupyter.widget-view+json": {
       "model_id": "01a51d045baf42619b8ae6df03662fb8",
       "version_major": 2,
       "version_minor": 0
      },
      "text/plain": [
       "HBox(children=(IntProgress(value=0, description='Training Epochs', max=20, style=ProgressStyle(description_wid…"
      ]
     },
     "metadata": {},
     "output_type": "display_data"
    },
    {
     "data": {
      "application/vnd.jupyter.widget-view+json": {
       "model_id": "48f9255fb9134edaa71daa9ebfdbd620",
       "version_major": 2,
       "version_minor": 0
      },
      "text/plain": [
       "HBox(children=(IntProgress(value=1, bar_style='info', description='Training Steps', max=1, style=ProgressStyle…"
      ]
     },
     "metadata": {},
     "output_type": "display_data"
    },
    {
     "name": "stdout",
     "output_type": "stream",
     "text": [
      "epoch: 00, loss: 1.032\n",
      "epoch: 05, loss: 1.054\n",
      "epoch: 10, loss: 1.501\n",
      "epoch: 15, loss: 1.764\n",
      "training with dropout:0.2 l2:1e-06 lr:0.01\n",
      "getting initial loss\n"
     ]
    },
    {
     "data": {
      "application/vnd.jupyter.widget-view+json": {
       "model_id": "f3d47d74f49f496d9f2736f0637a2c8e",
       "version_major": 2,
       "version_minor": 0
      },
      "text/plain": [
       "HBox(children=(IntProgress(value=0, description='Training Epochs', max=20, style=ProgressStyle(description_wid…"
      ]
     },
     "metadata": {},
     "output_type": "display_data"
    },
    {
     "data": {
      "application/vnd.jupyter.widget-view+json": {
       "model_id": "e28b8775661e4411b4e9b01ba5e296de",
       "version_major": 2,
       "version_minor": 0
      },
      "text/plain": [
       "HBox(children=(IntProgress(value=1, bar_style='info', description='Training Steps', max=1, style=ProgressStyle…"
      ]
     },
     "metadata": {},
     "output_type": "display_data"
    },
    {
     "name": "stdout",
     "output_type": "stream",
     "text": [
      "epoch: 00, loss: 1.083\n",
      "epoch: 05, loss: 1.024\n",
      "epoch: 10, loss: 0.930\n",
      "epoch: 15, loss: 0.992\n",
      "training with dropout:0.2 l2:1e-06 lr:0.0001\n",
      "getting initial loss\n"
     ]
    },
    {
     "data": {
      "application/vnd.jupyter.widget-view+json": {
       "model_id": "288e15bce25b431998b9463f81c2b649",
       "version_major": 2,
       "version_minor": 0
      },
      "text/plain": [
       "HBox(children=(IntProgress(value=0, description='Training Epochs', max=20, style=ProgressStyle(description_wid…"
      ]
     },
     "metadata": {},
     "output_type": "display_data"
    },
    {
     "data": {
      "application/vnd.jupyter.widget-view+json": {
       "model_id": "21275275e5b548e2813eea39412124b2",
       "version_major": 2,
       "version_minor": 0
      },
      "text/plain": [
       "HBox(children=(IntProgress(value=1, bar_style='info', description='Training Steps', max=1, style=ProgressStyle…"
      ]
     },
     "metadata": {},
     "output_type": "display_data"
    },
    {
     "name": "stdout",
     "output_type": "stream",
     "text": [
      "epoch: 00, loss: 1.141\n",
      "epoch: 05, loss: 1.127\n",
      "epoch: 10, loss: 1.118\n",
      "epoch: 15, loss: 1.111\n",
      "training with dropout:0.1 l2:0.001 lr:0.1\n",
      "getting initial loss\n"
     ]
    },
    {
     "data": {
      "application/vnd.jupyter.widget-view+json": {
       "model_id": "13ef3aa46ed3488484393f61ff671a96",
       "version_major": 2,
       "version_minor": 0
      },
      "text/plain": [
       "HBox(children=(IntProgress(value=0, description='Training Epochs', max=20, style=ProgressStyle(description_wid…"
      ]
     },
     "metadata": {},
     "output_type": "display_data"
    },
    {
     "data": {
      "application/vnd.jupyter.widget-view+json": {
       "model_id": "fe8396257dbb47849bdf6f50d9ff0d7c",
       "version_major": 2,
       "version_minor": 0
      },
      "text/plain": [
       "HBox(children=(IntProgress(value=1, bar_style='info', description='Training Steps', max=1, style=ProgressStyle…"
      ]
     },
     "metadata": {},
     "output_type": "display_data"
    },
    {
     "name": "stdout",
     "output_type": "stream",
     "text": [
      "epoch: 00, loss: 1.016\n",
      "epoch: 05, loss: 1.161\n",
      "epoch: 10, loss: 1.313\n",
      "epoch: 15, loss: 1.267\n",
      "training with dropout:0.1 l2:0.001 lr:0.01\n",
      "getting initial loss\n"
     ]
    },
    {
     "data": {
      "application/vnd.jupyter.widget-view+json": {
       "model_id": "dd3f1be8e08e4269bc7077f7458a6a57",
       "version_major": 2,
       "version_minor": 0
      },
      "text/plain": [
       "HBox(children=(IntProgress(value=0, description='Training Epochs', max=20, style=ProgressStyle(description_wid…"
      ]
     },
     "metadata": {},
     "output_type": "display_data"
    },
    {
     "data": {
      "application/vnd.jupyter.widget-view+json": {
       "model_id": "d292fd8e8533463dbda600610518e60a",
       "version_major": 2,
       "version_minor": 0
      },
      "text/plain": [
       "HBox(children=(IntProgress(value=1, bar_style='info', description='Training Steps', max=1, style=ProgressStyle…"
      ]
     },
     "metadata": {},
     "output_type": "display_data"
    },
    {
     "name": "stdout",
     "output_type": "stream",
     "text": [
      "epoch: 00, loss: 1.076\n",
      "epoch: 05, loss: 1.009\n",
      "epoch: 10, loss: 0.942\n",
      "epoch: 15, loss: 0.936\n",
      "training with dropout:0.1 l2:0.001 lr:0.0001\n",
      "getting initial loss\n"
     ]
    },
    {
     "data": {
      "application/vnd.jupyter.widget-view+json": {
       "model_id": "0f5e2d223b664b4b88aaeb94f90fa556",
       "version_major": 2,
       "version_minor": 0
      },
      "text/plain": [
       "HBox(children=(IntProgress(value=0, description='Training Epochs', max=20, style=ProgressStyle(description_wid…"
      ]
     },
     "metadata": {},
     "output_type": "display_data"
    },
    {
     "data": {
      "application/vnd.jupyter.widget-view+json": {
       "model_id": "b225511957414edfafa5db27630a277c",
       "version_major": 2,
       "version_minor": 0
      },
      "text/plain": [
       "HBox(children=(IntProgress(value=1, bar_style='info', description='Training Steps', max=1, style=ProgressStyle…"
      ]
     },
     "metadata": {},
     "output_type": "display_data"
    },
    {
     "name": "stdout",
     "output_type": "stream",
     "text": [
      "epoch: 00, loss: 1.098\n",
      "epoch: 05, loss: 1.098\n",
      "epoch: 10, loss: 1.097\n",
      "epoch: 15, loss: 1.097\n",
      "training with dropout:0.1 l2:1e-06 lr:0.1\n",
      "getting initial loss\n"
     ]
    },
    {
     "data": {
      "application/vnd.jupyter.widget-view+json": {
       "model_id": "07525c4a2c72492d8fc4f1c316f7fc9f",
       "version_major": 2,
       "version_minor": 0
      },
      "text/plain": [
       "HBox(children=(IntProgress(value=0, description='Training Epochs', max=20, style=ProgressStyle(description_wid…"
      ]
     },
     "metadata": {},
     "output_type": "display_data"
    },
    {
     "data": {
      "application/vnd.jupyter.widget-view+json": {
       "model_id": "3273fcc22fce4b21bdbfe2d5859b50c6",
       "version_major": 2,
       "version_minor": 0
      },
      "text/plain": [
       "HBox(children=(IntProgress(value=1, bar_style='info', description='Training Steps', max=1, style=ProgressStyle…"
      ]
     },
     "metadata": {},
     "output_type": "display_data"
    },
    {
     "name": "stdout",
     "output_type": "stream",
     "text": [
      "epoch: 00, loss: 1.062\n",
      "epoch: 05, loss: 1.322\n",
      "epoch: 10, loss: 1.600\n",
      "epoch: 15, loss: 1.601\n",
      "training with dropout:0.1 l2:1e-06 lr:0.01\n",
      "getting initial loss\n"
     ]
    },
    {
     "data": {
      "application/vnd.jupyter.widget-view+json": {
       "model_id": "021eb44aa0514dcdb386dc8c30278c59",
       "version_major": 2,
       "version_minor": 0
      },
      "text/plain": [
       "HBox(children=(IntProgress(value=0, description='Training Epochs', max=20, style=ProgressStyle(description_wid…"
      ]
     },
     "metadata": {},
     "output_type": "display_data"
    },
    {
     "data": {
      "application/vnd.jupyter.widget-view+json": {
       "model_id": "5fe9067d8e55456b90fb97b3eca6f1af",
       "version_major": 2,
       "version_minor": 0
      },
      "text/plain": [
       "HBox(children=(IntProgress(value=1, bar_style='info', description='Training Steps', max=1, style=ProgressStyle…"
      ]
     },
     "metadata": {},
     "output_type": "display_data"
    },
    {
     "name": "stdout",
     "output_type": "stream",
     "text": [
      "epoch: 00, loss: 1.076\n",
      "epoch: 05, loss: 0.972\n",
      "epoch: 10, loss: 0.892\n",
      "epoch: 15, loss: 0.930\n",
      "training with dropout:0.1 l2:1e-06 lr:0.0001\n",
      "getting initial loss\n"
     ]
    },
    {
     "data": {
      "application/vnd.jupyter.widget-view+json": {
       "model_id": "ed123c8f5e8d45edbf87767ba8474f96",
       "version_major": 2,
       "version_minor": 0
      },
      "text/plain": [
       "HBox(children=(IntProgress(value=0, description='Training Epochs', max=20, style=ProgressStyle(description_wid…"
      ]
     },
     "metadata": {},
     "output_type": "display_data"
    },
    {
     "data": {
      "application/vnd.jupyter.widget-view+json": {
       "model_id": "453af0b109ff4ebb938c2093dd167566",
       "version_major": 2,
       "version_minor": 0
      },
      "text/plain": [
       "HBox(children=(IntProgress(value=1, bar_style='info', description='Training Steps', max=1, style=ProgressStyle…"
      ]
     },
     "metadata": {},
     "output_type": "display_data"
    },
    {
     "name": "stdout",
     "output_type": "stream",
     "text": [
      "epoch: 00, loss: 1.095\n",
      "epoch: 05, loss: 1.092\n",
      "epoch: 10, loss: 1.089\n",
      "epoch: 15, loss: 1.087\n",
      "\n"
     ]
    }
   ],
   "source": [
    "''' GRID-SEARCH for ATAC-seq as input'''\n",
    "atac_param_result = grid_search(X_atac_train, Y_atac_train, dropout_rates, l2_lambdas, learning_rates, NUM_EPOCHS, BATCH_SIZE)"
   ]
  },
  {
   "cell_type": "code",
   "execution_count": 182,
   "metadata": {
    "collapsed": true,
    "jupyter": {
     "outputs_hidden": true
    }
   },
   "outputs": [
    {
     "data": {
      "application/vnd.jupyter.widget-view+json": {
       "model_id": "94cf726c97424cb7b981d3f40eddb7da",
       "version_major": 2,
       "version_minor": 0
      },
      "text/plain": [
       "HBox(children=(IntProgress(value=0, max=18), HTML(value='')))"
      ]
     },
     "metadata": {},
     "output_type": "display_data"
    },
    {
     "name": "stdout",
     "output_type": "stream",
     "text": [
      "training with dropout:0.5 l2:0.001 lr:0.1\n",
      "getting initial loss\n"
     ]
    },
    {
     "data": {
      "application/vnd.jupyter.widget-view+json": {
       "model_id": "2d8db6a1412147b2b704362a6d0181a2",
       "version_major": 2,
       "version_minor": 0
      },
      "text/plain": [
       "HBox(children=(IntProgress(value=0, description='Training Epochs', max=20, style=ProgressStyle(description_wid…"
      ]
     },
     "metadata": {},
     "output_type": "display_data"
    },
    {
     "data": {
      "application/vnd.jupyter.widget-view+json": {
       "model_id": "0af3a2c99b724895bcee5e3e78817234",
       "version_major": 2,
       "version_minor": 0
      },
      "text/plain": [
       "HBox(children=(IntProgress(value=1, bar_style='info', description='Training Steps', max=1, style=ProgressStyle…"
      ]
     },
     "metadata": {},
     "output_type": "display_data"
    },
    {
     "name": "stdout",
     "output_type": "stream",
     "text": [
      "epoch: 00, loss: 0.971\n",
      "epoch: 05, loss: 0.512\n",
      "epoch: 10, loss: 0.388\n",
      "epoch: 15, loss: 0.438\n",
      "training with dropout:0.5 l2:0.001 lr:0.01\n",
      "\n",
      "getting initial loss\n"
     ]
    },
    {
     "data": {
      "application/vnd.jupyter.widget-view+json": {
       "model_id": "1a8c9a932bea4e4f82c78a41f012c18e",
       "version_major": 2,
       "version_minor": 0
      },
      "text/plain": [
       "HBox(children=(IntProgress(value=0, description='Training Epochs', max=20, style=ProgressStyle(description_wid…"
      ]
     },
     "metadata": {},
     "output_type": "display_data"
    },
    {
     "data": {
      "application/vnd.jupyter.widget-view+json": {
       "model_id": "e68cf81890214c2487d9dd797a4db50c",
       "version_major": 2,
       "version_minor": 0
      },
      "text/plain": [
       "HBox(children=(IntProgress(value=1, bar_style='info', description='Training Steps', max=1, style=ProgressStyle…"
      ]
     },
     "metadata": {},
     "output_type": "display_data"
    },
    {
     "name": "stdout",
     "output_type": "stream",
     "text": [
      "epoch: 00, loss: 1.096\n",
      "epoch: 05, loss: 1.043\n",
      "epoch: 10, loss: 0.933\n",
      "epoch: 15, loss: 0.776\n",
      "training with dropout:0.5 l2:0.001 lr:0.0001\n",
      "getting initial loss\n"
     ]
    },
    {
     "data": {
      "application/vnd.jupyter.widget-view+json": {
       "model_id": "21a31fc985294f5abd720affce1c2d14",
       "version_major": 2,
       "version_minor": 0
      },
      "text/plain": [
       "HBox(children=(IntProgress(value=0, description='Training Epochs', max=20, style=ProgressStyle(description_wid…"
      ]
     },
     "metadata": {},
     "output_type": "display_data"
    },
    {
     "data": {
      "application/vnd.jupyter.widget-view+json": {
       "model_id": "7a6e680c75ca4822adb013a52131fb8a",
       "version_major": 2,
       "version_minor": 0
      },
      "text/plain": [
       "HBox(children=(IntProgress(value=1, bar_style='info', description='Training Steps', max=1, style=ProgressStyle…"
      ]
     },
     "metadata": {},
     "output_type": "display_data"
    },
    {
     "name": "stdout",
     "output_type": "stream",
     "text": [
      "epoch: 00, loss: 1.323\n",
      "epoch: 05, loss: 1.184\n",
      "epoch: 10, loss: 1.138\n",
      "epoch: 15, loss: 1.113\n",
      "training with dropout:0.5 l2:1e-06 lr:0.1\n",
      "getting initial loss\n"
     ]
    },
    {
     "data": {
      "application/vnd.jupyter.widget-view+json": {
       "model_id": "e3f71be372ba49f3ba9a701d4c6c8c8d",
       "version_major": 2,
       "version_minor": 0
      },
      "text/plain": [
       "HBox(children=(IntProgress(value=0, description='Training Epochs', max=20, style=ProgressStyle(description_wid…"
      ]
     },
     "metadata": {},
     "output_type": "display_data"
    },
    {
     "data": {
      "application/vnd.jupyter.widget-view+json": {
       "model_id": "5af00f9b27704ebca7f5e6d80e9de769",
       "version_major": 2,
       "version_minor": 0
      },
      "text/plain": [
       "HBox(children=(IntProgress(value=1, bar_style='info', description='Training Steps', max=1, style=ProgressStyle…"
      ]
     },
     "metadata": {},
     "output_type": "display_data"
    },
    {
     "name": "stdout",
     "output_type": "stream",
     "text": [
      "epoch: 00, loss: 1.017\n",
      "epoch: 05, loss: 0.548\n",
      "epoch: 10, loss: 0.475\n",
      "epoch: 15, loss: 0.411\n",
      "training with dropout:0.5 l2:1e-06 lr:0.01\n",
      "getting initial loss\n"
     ]
    },
    {
     "data": {
      "application/vnd.jupyter.widget-view+json": {
       "model_id": "23271c3694cd469980dac3139baf5c96",
       "version_major": 2,
       "version_minor": 0
      },
      "text/plain": [
       "HBox(children=(IntProgress(value=0, description='Training Epochs', max=20, style=ProgressStyle(description_wid…"
      ]
     },
     "metadata": {},
     "output_type": "display_data"
    },
    {
     "data": {
      "application/vnd.jupyter.widget-view+json": {
       "model_id": "6375c61751b443908b397dde0a1fbd82",
       "version_major": 2,
       "version_minor": 0
      },
      "text/plain": [
       "HBox(children=(IntProgress(value=1, bar_style='info', description='Training Steps', max=1, style=ProgressStyle…"
      ]
     },
     "metadata": {},
     "output_type": "display_data"
    },
    {
     "name": "stdout",
     "output_type": "stream",
     "text": [
      "epoch: 00, loss: 1.061\n",
      "epoch: 05, loss: 1.006\n",
      "epoch: 10, loss: 0.900\n",
      "epoch: 15, loss: 0.781\n",
      "training with dropout:0.5 l2:1e-06 lr:0.0001\n",
      "getting initial loss\n"
     ]
    },
    {
     "data": {
      "application/vnd.jupyter.widget-view+json": {
       "model_id": "03b104523304455ab24c24d7352b0db5",
       "version_major": 2,
       "version_minor": 0
      },
      "text/plain": [
       "HBox(children=(IntProgress(value=0, description='Training Epochs', max=20, style=ProgressStyle(description_wid…"
      ]
     },
     "metadata": {},
     "output_type": "display_data"
    },
    {
     "data": {
      "application/vnd.jupyter.widget-view+json": {
       "model_id": "cbe3b4369d4f418ea4a7e20e87e8a1c9",
       "version_major": 2,
       "version_minor": 0
      },
      "text/plain": [
       "HBox(children=(IntProgress(value=1, bar_style='info', description='Training Steps', max=1, style=ProgressStyle…"
      ]
     },
     "metadata": {},
     "output_type": "display_data"
    },
    {
     "name": "stdout",
     "output_type": "stream",
     "text": [
      "epoch: 00, loss: 1.169\n",
      "epoch: 05, loss: 1.131\n",
      "epoch: 10, loss: 1.114\n",
      "epoch: 15, loss: 1.103\n",
      "training with dropout:0.2 l2:0.001 lr:0.1\n",
      "getting initial loss\n"
     ]
    },
    {
     "data": {
      "application/vnd.jupyter.widget-view+json": {
       "model_id": "4691c29c792e48e4b6c2322e628715a8",
       "version_major": 2,
       "version_minor": 0
      },
      "text/plain": [
       "HBox(children=(IntProgress(value=0, description='Training Epochs', max=20, style=ProgressStyle(description_wid…"
      ]
     },
     "metadata": {},
     "output_type": "display_data"
    },
    {
     "data": {
      "application/vnd.jupyter.widget-view+json": {
       "model_id": "ffcf5d0f03af4791931c4f0a01273f6b",
       "version_major": 2,
       "version_minor": 0
      },
      "text/plain": [
       "HBox(children=(IntProgress(value=1, bar_style='info', description='Training Steps', max=1, style=ProgressStyle…"
      ]
     },
     "metadata": {},
     "output_type": "display_data"
    },
    {
     "name": "stdout",
     "output_type": "stream",
     "text": [
      "epoch: 00, loss: 0.876\n",
      "epoch: 05, loss: 0.273\n",
      "epoch: 10, loss: 0.358\n",
      "epoch: 15, loss: 0.582\n",
      "training with dropout:0.2 l2:0.001 lr:0.01\n",
      "getting initial loss\n"
     ]
    },
    {
     "data": {
      "application/vnd.jupyter.widget-view+json": {
       "model_id": "ba662cbf24df4c7ca20ce221a2fe6a52",
       "version_major": 2,
       "version_minor": 0
      },
      "text/plain": [
       "HBox(children=(IntProgress(value=0, description='Training Epochs', max=20, style=ProgressStyle(description_wid…"
      ]
     },
     "metadata": {},
     "output_type": "display_data"
    },
    {
     "data": {
      "application/vnd.jupyter.widget-view+json": {
       "model_id": "dcdfa9692cfb4b2f93ac0ffa5c6cdaa9",
       "version_major": 2,
       "version_minor": 0
      },
      "text/plain": [
       "HBox(children=(IntProgress(value=1, bar_style='info', description='Training Steps', max=1, style=ProgressStyle…"
      ]
     },
     "metadata": {},
     "output_type": "display_data"
    },
    {
     "name": "stdout",
     "output_type": "stream",
     "text": [
      "epoch: 00, loss: 1.040\n",
      "epoch: 05, loss: 0.676\n",
      "epoch: 10, loss: 0.478\n",
      "epoch: 15, loss: 0.373\n",
      "training with dropout:0.2 l2:0.001 lr:0.0001\n",
      "getting initial loss\n"
     ]
    },
    {
     "data": {
      "application/vnd.jupyter.widget-view+json": {
       "model_id": "6cec0efb78534602b0b8a7fd0a94bd79",
       "version_major": 2,
       "version_minor": 0
      },
      "text/plain": [
       "HBox(children=(IntProgress(value=0, description='Training Epochs', max=20, style=ProgressStyle(description_wid…"
      ]
     },
     "metadata": {},
     "output_type": "display_data"
    },
    {
     "data": {
      "application/vnd.jupyter.widget-view+json": {
       "model_id": "0e4aabf73e05422ea0dc3c6caec1c5b2",
       "version_major": 2,
       "version_minor": 0
      },
      "text/plain": [
       "HBox(children=(IntProgress(value=1, bar_style='info', description='Training Steps', max=1, style=ProgressStyle…"
      ]
     },
     "metadata": {},
     "output_type": "display_data"
    },
    {
     "name": "stdout",
     "output_type": "stream",
     "text": [
      "epoch: 00, loss: 1.215\n",
      "epoch: 05, loss: 1.166\n",
      "epoch: 10, loss: 1.146\n",
      "epoch: 15, loss: 1.137\n",
      "training with dropout:0.2 l2:1e-06 lr:0.1\n",
      "\n",
      "getting initial loss\n"
     ]
    },
    {
     "data": {
      "application/vnd.jupyter.widget-view+json": {
       "model_id": "b4fe7726b6924341b5cac3408df744bd",
       "version_major": 2,
       "version_minor": 0
      },
      "text/plain": [
       "HBox(children=(IntProgress(value=0, description='Training Epochs', max=20, style=ProgressStyle(description_wid…"
      ]
     },
     "metadata": {},
     "output_type": "display_data"
    },
    {
     "data": {
      "application/vnd.jupyter.widget-view+json": {
       "model_id": "03cb9ac1055d4c4081b441f362b8b429",
       "version_major": 2,
       "version_minor": 0
      },
      "text/plain": [
       "HBox(children=(IntProgress(value=1, bar_style='info', description='Training Steps', max=1, style=ProgressStyle…"
      ]
     },
     "metadata": {},
     "output_type": "display_data"
    },
    {
     "name": "stdout",
     "output_type": "stream",
     "text": [
      "epoch: 00, loss: 1.001\n",
      "epoch: 05, loss: 0.389\n",
      "epoch: 10, loss: 0.485\n",
      "epoch: 15, loss: 0.449\n",
      "training with dropout:0.2 l2:1e-06 lr:0.01\n",
      "getting initial loss\n"
     ]
    },
    {
     "data": {
      "application/vnd.jupyter.widget-view+json": {
       "model_id": "22a504ea7bbf4d8eac4687e140f7be5c",
       "version_major": 2,
       "version_minor": 0
      },
      "text/plain": [
       "HBox(children=(IntProgress(value=0, description='Training Epochs', max=20, style=ProgressStyle(description_wid…"
      ]
     },
     "metadata": {},
     "output_type": "display_data"
    },
    {
     "data": {
      "application/vnd.jupyter.widget-view+json": {
       "model_id": "27e03ae9a0ca406cb71940ffe50b4e44",
       "version_major": 2,
       "version_minor": 0
      },
      "text/plain": [
       "HBox(children=(IntProgress(value=1, bar_style='info', description='Training Steps', max=1, style=ProgressStyle…"
      ]
     },
     "metadata": {},
     "output_type": "display_data"
    },
    {
     "name": "stdout",
     "output_type": "stream",
     "text": [
      "epoch: 00, loss: 1.017\n",
      "epoch: 05, loss: 0.561\n",
      "epoch: 10, loss: 0.396\n",
      "epoch: 15, loss: 0.325\n",
      "training with dropout:0.2 l2:1e-06 lr:0.0001\n",
      "getting initial loss\n"
     ]
    },
    {
     "data": {
      "application/vnd.jupyter.widget-view+json": {
       "model_id": "7802c2ff4efa430cb9513bcf73422ae9",
       "version_major": 2,
       "version_minor": 0
      },
      "text/plain": [
       "HBox(children=(IntProgress(value=0, description='Training Epochs', max=20, style=ProgressStyle(description_wid…"
      ]
     },
     "metadata": {},
     "output_type": "display_data"
    },
    {
     "data": {
      "application/vnd.jupyter.widget-view+json": {
       "model_id": "ea5c20c4760d4addb794c4fcb07d9910",
       "version_major": 2,
       "version_minor": 0
      },
      "text/plain": [
       "HBox(children=(IntProgress(value=1, bar_style='info', description='Training Steps', max=1, style=ProgressStyle…"
      ]
     },
     "metadata": {},
     "output_type": "display_data"
    },
    {
     "name": "stdout",
     "output_type": "stream",
     "text": [
      "epoch: 00, loss: 1.052\n",
      "epoch: 05, loss: 1.037\n",
      "epoch: 10, loss: 1.029\n",
      "epoch: 15, loss: 1.024\n",
      "training with dropout:0.1 l2:0.001 lr:0.1\n",
      "getting initial loss\n"
     ]
    },
    {
     "data": {
      "application/vnd.jupyter.widget-view+json": {
       "model_id": "178bb4cb81e743938523fd25c5b427a4",
       "version_major": 2,
       "version_minor": 0
      },
      "text/plain": [
       "HBox(children=(IntProgress(value=0, description='Training Epochs', max=20, style=ProgressStyle(description_wid…"
      ]
     },
     "metadata": {},
     "output_type": "display_data"
    },
    {
     "data": {
      "application/vnd.jupyter.widget-view+json": {
       "model_id": "86b0c50a92d447419f937758963b6eb6",
       "version_major": 2,
       "version_minor": 0
      },
      "text/plain": [
       "HBox(children=(IntProgress(value=1, bar_style='info', description='Training Steps', max=1, style=ProgressStyle…"
      ]
     },
     "metadata": {},
     "output_type": "display_data"
    },
    {
     "name": "stdout",
     "output_type": "stream",
     "text": [
      "epoch: 00, loss: 1.037\n",
      "epoch: 05, loss: 0.931\n",
      "epoch: 10, loss: 0.434\n",
      "epoch: 15, loss: 0.757\n",
      "training with dropout:0.1 l2:0.001 lr:0.01\n",
      "\n",
      "getting initial loss\n"
     ]
    },
    {
     "data": {
      "application/vnd.jupyter.widget-view+json": {
       "model_id": "e994334a006f4c21a62e82b1536b6a68",
       "version_major": 2,
       "version_minor": 0
      },
      "text/plain": [
       "HBox(children=(IntProgress(value=0, description='Training Epochs', max=20, style=ProgressStyle(description_wid…"
      ]
     },
     "metadata": {},
     "output_type": "display_data"
    },
    {
     "data": {
      "application/vnd.jupyter.widget-view+json": {
       "model_id": "8bd46818cab54f629d9368d912e750b7",
       "version_major": 2,
       "version_minor": 0
      },
      "text/plain": [
       "HBox(children=(IntProgress(value=1, bar_style='info', description='Training Steps', max=1, style=ProgressStyle…"
      ]
     },
     "metadata": {},
     "output_type": "display_data"
    },
    {
     "name": "stdout",
     "output_type": "stream",
     "text": [
      "epoch: 00, loss: 0.969\n",
      "epoch: 05, loss: 0.518\n",
      "epoch: 10, loss: 0.343\n",
      "epoch: 15, loss: 0.280\n",
      "training with dropout:0.1 l2:0.001 lr:0.0001\n",
      "getting initial loss\n"
     ]
    },
    {
     "data": {
      "application/vnd.jupyter.widget-view+json": {
       "model_id": "cbf258c434b041a2b2c744621f109796",
       "version_major": 2,
       "version_minor": 0
      },
      "text/plain": [
       "HBox(children=(IntProgress(value=0, description='Training Epochs', max=20, style=ProgressStyle(description_wid…"
      ]
     },
     "metadata": {},
     "output_type": "display_data"
    },
    {
     "data": {
      "application/vnd.jupyter.widget-view+json": {
       "model_id": "165e0b770582413581eb5c97a1282f9e",
       "version_major": 2,
       "version_minor": 0
      },
      "text/plain": [
       "HBox(children=(IntProgress(value=1, bar_style='info', description='Training Steps', max=1, style=ProgressStyle…"
      ]
     },
     "metadata": {},
     "output_type": "display_data"
    },
    {
     "name": "stdout",
     "output_type": "stream",
     "text": [
      "epoch: 00, loss: 1.330\n",
      "epoch: 05, loss: 1.200\n",
      "epoch: 10, loss: 1.151\n",
      "epoch: 15, loss: 1.129\n",
      "training with dropout:0.1 l2:1e-06 lr:0.1\n",
      "getting initial loss\n"
     ]
    },
    {
     "data": {
      "application/vnd.jupyter.widget-view+json": {
       "model_id": "0154ba42ce8e478d8fea71abab33839b",
       "version_major": 2,
       "version_minor": 0
      },
      "text/plain": [
       "HBox(children=(IntProgress(value=0, description='Training Epochs', max=20, style=ProgressStyle(description_wid…"
      ]
     },
     "metadata": {},
     "output_type": "display_data"
    },
    {
     "data": {
      "application/vnd.jupyter.widget-view+json": {
       "model_id": "531f0d282ef1459bb7c6c982fb86ccf1",
       "version_major": 2,
       "version_minor": 0
      },
      "text/plain": [
       "HBox(children=(IntProgress(value=1, bar_style='info', description='Training Steps', max=1, style=ProgressStyle…"
      ]
     },
     "metadata": {},
     "output_type": "display_data"
    },
    {
     "name": "stdout",
     "output_type": "stream",
     "text": [
      "epoch: 00, loss: 0.760\n",
      "epoch: 05, loss: 0.501\n",
      "epoch: 10, loss: 0.344\n",
      "epoch: 15, loss: 0.499\n",
      "training with dropout:0.1 l2:1e-06 lr:0.01\n",
      "getting initial loss\n"
     ]
    },
    {
     "data": {
      "application/vnd.jupyter.widget-view+json": {
       "model_id": "3e62eefc42304bcdbde34e849865ee80",
       "version_major": 2,
       "version_minor": 0
      },
      "text/plain": [
       "HBox(children=(IntProgress(value=0, description='Training Epochs', max=20, style=ProgressStyle(description_wid…"
      ]
     },
     "metadata": {},
     "output_type": "display_data"
    },
    {
     "data": {
      "application/vnd.jupyter.widget-view+json": {
       "model_id": "ac13257df1c9468fb2410178f01f6fb9",
       "version_major": 2,
       "version_minor": 0
      },
      "text/plain": [
       "HBox(children=(IntProgress(value=1, bar_style='info', description='Training Steps', max=1, style=ProgressStyle…"
      ]
     },
     "metadata": {},
     "output_type": "display_data"
    },
    {
     "name": "stdout",
     "output_type": "stream",
     "text": [
      "epoch: 00, loss: 1.002\n",
      "epoch: 05, loss: 0.438\n",
      "epoch: 10, loss: 0.280\n",
      "epoch: 15, loss: 0.237\n",
      "training with dropout:0.1 l2:1e-06 lr:0.0001\n",
      "\n",
      "getting initial loss\n"
     ]
    },
    {
     "data": {
      "application/vnd.jupyter.widget-view+json": {
       "model_id": "e3b20aa23f244e109670276e844b5a8d",
       "version_major": 2,
       "version_minor": 0
      },
      "text/plain": [
       "HBox(children=(IntProgress(value=0, description='Training Epochs', max=20, style=ProgressStyle(description_wid…"
      ]
     },
     "metadata": {},
     "output_type": "display_data"
    },
    {
     "data": {
      "application/vnd.jupyter.widget-view+json": {
       "model_id": "9c08ec828f2a4d06b961f835fcef24e2",
       "version_major": 2,
       "version_minor": 0
      },
      "text/plain": [
       "HBox(children=(IntProgress(value=1, bar_style='info', description='Training Steps', max=1, style=ProgressStyle…"
      ]
     },
     "metadata": {},
     "output_type": "display_data"
    },
    {
     "name": "stdout",
     "output_type": "stream",
     "text": [
      "epoch: 00, loss: 1.175\n",
      "epoch: 05, loss: 1.128\n",
      "epoch: 10, loss: 1.102\n",
      "epoch: 15, loss: 1.087\n",
      "\n"
     ]
    }
   ],
   "source": [
    "''' GRID-SEARCH with RNA-seq as input'''\n",
    "dropout_rates = [0.5, 0.2, 0.1]\n",
    "l2_lambdas = [1e-03, 1e-06]\n",
    "learning_rates = [0.1, 0.01, 1e-4]\n",
    "rna_param_result = grid_search(X_rna_train, Y_rna_train, dropout_rates, l2_lambdas, learning_rates, NUM_EPOCHS, BATCH_SIZE)"
   ]
  },
  {
   "cell_type": "code",
   "execution_count": 253,
   "metadata": {
    "collapsed": true,
    "jupyter": {
     "outputs_hidden": true
    }
   },
   "outputs": [
    {
     "name": "stderr",
     "output_type": "stream",
     "text": [
      "  0%|          | 0/18 [00:00<?, ?it/s]\n",
      "Training Epochs:   0%|          | 0/20 [00:00<?, ?it/s]\u001b[A\n",
      "\n",
      "Training Steps: 0it [00:00, ?it/s]\u001b[A\u001b[A\n",
      "\n",
      "Training Steps:   0%|          | 0/36.0 [00:00<?, ?it/s]\u001b[A\u001b[A"
     ]
    },
    {
     "name": "stdout",
     "output_type": "stream",
     "text": [
      "training with dropout:0.5 l2:0.001 lr:0.1\n",
      "getting initial loss\n"
     ]
    },
    {
     "name": "stderr",
     "output_type": "stream",
     "text": [
      "\n",
      "\n",
      "Training Steps:   3%|▎         | 1/36.0 [00:00<00:13,  2.61it/s]\u001b[A\u001b[A"
     ]
    },
    {
     "name": "stdout",
     "output_type": "stream",
     "text": [
      "epoch: 00, loss: 0.943\n"
     ]
    },
    {
     "name": "stderr",
     "output_type": "stream",
     "text": [
      "\n",
      "\n",
      "Training Steps: 100%|██████████| 36/36.0 [00:00<00:00,  2.61it/s]\u001b[A\u001b[A\n",
      "Training Epochs:   5%|▌         | 1/20 [00:00<00:07,  2.39it/s]\u001b[A\n",
      "\n",
      "Training Steps:   0%|          | 0/36.0 [00:00<00:13,  2.61it/s] \u001b[A\u001b[A\n",
      "\n",
      "Training Steps: 100%|██████████| 36/36.0 [00:00<00:00,  2.61it/s]\u001b[A\u001b[A\n",
      "\n",
      "Training Steps:   0%|          | 0/36.0 [00:00<00:13,  2.61it/s] \u001b[A\u001b[A\n",
      "\n",
      "Training Steps: 100%|██████████| 36/36.0 [00:00<00:00,  2.61it/s]\u001b[A\u001b[A\n",
      "\n",
      "Training Steps:   0%|          | 0/36.0 [00:00<00:13,  2.61it/s] \u001b[A\u001b[A\n",
      "\n",
      "Training Steps: 100%|██████████| 36/36.0 [00:00<00:00,  2.61it/s]\u001b[A\u001b[A\n",
      "\n",
      "Training Steps:   0%|          | 0/36.0 [00:00<00:13,  2.61it/s] \u001b[A\u001b[A\n",
      "\n",
      "Training Steps: 100%|██████████| 36/36.0 [00:00<00:00,  2.61it/s]\u001b[A\u001b[A\n",
      "Training Epochs:  25%|██▌       | 5/20 [00:00<00:04,  3.31it/s]\u001b[A\n",
      "\n",
      "Training Steps:   0%|          | 0/36.0 [00:00<00:13,  2.61it/s] \u001b[A\u001b[A"
     ]
    },
    {
     "name": "stdout",
     "output_type": "stream",
     "text": [
      "epoch: 05, loss: 0.331\n"
     ]
    },
    {
     "name": "stderr",
     "output_type": "stream",
     "text": [
      "\n",
      "\n",
      "Training Steps: 100%|██████████| 36/36.0 [00:00<00:00,  2.61it/s]\u001b[A\u001b[A\n",
      "\n",
      "Training Steps:   0%|          | 0/36.0 [00:00<00:13,  2.61it/s] \u001b[A\u001b[A\n",
      "\n",
      "Training Steps: 100%|██████████| 36/36.0 [00:00<00:00,  2.61it/s]\u001b[A\u001b[A\n",
      "\n",
      "Training Steps:   0%|          | 0/36.0 [00:00<00:13,  2.61it/s] \u001b[A\u001b[A\n",
      "\n",
      "Training Steps: 100%|██████████| 36/36.0 [00:00<00:00,  2.61it/s]\u001b[A\u001b[A\n",
      "\n",
      "Training Steps:   0%|          | 0/36.0 [00:00<00:13,  2.61it/s] \u001b[A\u001b[A\n",
      "\n",
      "Training Steps: 100%|██████████| 36/36.0 [00:00<00:00,  2.61it/s]\u001b[A\u001b[A\n",
      "Training Epochs:  45%|████▌     | 9/20 [00:00<00:02,  4.55it/s]\u001b[A\n",
      "\n",
      "Training Steps:   0%|          | 0/36.0 [00:00<00:13,  2.61it/s] \u001b[A\u001b[A\n",
      "\n",
      "Training Steps: 100%|██████████| 36/36.0 [00:00<00:00,  2.61it/s]\u001b[A\u001b[A\n",
      "\n",
      "Training Steps:   0%|          | 0/36.0 [00:00<00:13,  2.61it/s] \u001b[A\u001b[A"
     ]
    },
    {
     "name": "stdout",
     "output_type": "stream",
     "text": [
      "epoch: 10, loss: 0.364\n"
     ]
    },
    {
     "name": "stderr",
     "output_type": "stream",
     "text": [
      "\n",
      "\n",
      "Training Steps: 100%|██████████| 36/36.0 [00:00<00:00,  2.61it/s]\u001b[A\u001b[A\n",
      "\n",
      "Training Steps:   0%|          | 0/36.0 [00:00<00:13,  2.61it/s] \u001b[A\u001b[A\n",
      "\n",
      "Training Steps: 100%|██████████| 36/36.0 [00:00<00:00,  2.61it/s]\u001b[A\u001b[A\n",
      "\n",
      "Training Steps:   0%|          | 0/36.0 [00:00<00:13,  2.61it/s] \u001b[A\u001b[A\n",
      "\n",
      "Training Steps: 100%|██████████| 36/36.0 [00:00<00:00,  2.61it/s]\u001b[A\u001b[A\n",
      "Training Epochs:  65%|██████▌   | 13/20 [00:00<00:01,  6.17it/s]\u001b[A\n",
      "\n",
      "Training Steps:   0%|          | 0/36.0 [00:00<00:13,  2.61it/s] \u001b[A\u001b[A\n",
      "\n",
      "Training Steps: 100%|██████████| 36/36.0 [00:00<00:00,  2.61it/s]\u001b[A\u001b[A\n",
      "\n",
      "Training Steps:   0%|          | 0/36.0 [00:00<00:13,  2.61it/s] \u001b[A\u001b[A\n",
      "\n",
      "Training Steps: 100%|██████████| 36/36.0 [00:00<00:00,  2.61it/s]\u001b[A\u001b[A\n",
      "\n",
      "Training Steps:   0%|          | 0/36.0 [00:00<00:13,  2.61it/s] \u001b[A\u001b[A"
     ]
    },
    {
     "name": "stdout",
     "output_type": "stream",
     "text": [
      "epoch: 15, loss: 0.379\n"
     ]
    },
    {
     "name": "stderr",
     "output_type": "stream",
     "text": [
      "\n",
      "\n",
      "Training Steps: 100%|██████████| 36/36.0 [00:00<00:00,  2.61it/s]\u001b[A\u001b[A\n",
      "\n",
      "Training Steps:   0%|          | 0/36.0 [00:00<00:13,  2.61it/s] \u001b[A\u001b[A\n",
      "\n",
      "Training Steps: 100%|██████████| 36/36.0 [00:00<00:00,  2.61it/s]\u001b[A\u001b[A\n",
      "Training Epochs:  85%|████████▌ | 17/20 [00:00<00:00,  8.21it/s]\u001b[A\n",
      "\n",
      "Training Steps:   0%|          | 0/36.0 [00:00<00:13,  2.61it/s] \u001b[A\u001b[A\n",
      "\n",
      "Training Steps: 100%|██████████| 36/36.0 [00:00<00:00,  2.61it/s]\u001b[A\u001b[A\n",
      "\n",
      "Training Steps:   0%|          | 0/36.0 [00:00<00:13,  2.61it/s] \u001b[A\u001b[A\n",
      "\n",
      "Training Steps: 100%|██████████| 36/36.0 [00:00<00:00,  2.61it/s]\u001b[A\u001b[A\n",
      "\n",
      "Training Steps:   0%|          | 0/36.0 [00:00<00:13,  2.61it/s] \u001b[A\u001b[A\n",
      "\n",
      "Training Steps: 100%|██████████| 36/36.0 [00:00<00:00,  2.61it/s]\u001b[A\u001b[A\n",
      "\n",
      "Training Epochs: 100%|██████████| 20/20 [00:00<00:00, 20.85it/s] \n",
      "Training Steps: 100%|██████████| 36/36.0 [00:00<00:00, 987.46it/s]\n",
      "  6%|▌         | 1/18 [00:01<00:18,  1.08s/it]\n",
      "Training Epochs:   0%|          | 0/20 [00:00<?, ?it/s]\u001b[A\n",
      "\n"
     ]
    },
    {
     "name": "stdout",
     "output_type": "stream",
     "text": [
      "training with dropout:0.5 l2:0.001 lr:0.01\n",
      "getting initial loss\n"
     ]
    },
    {
     "name": "stderr",
     "output_type": "stream",
     "text": [
      "Training Steps: 0it [00:00, ?it/s]\u001b[A\u001b[A\n",
      "\n",
      "Training Steps:   0%|          | 0/36.0 [00:00<?, ?it/s]\u001b[A\u001b[A\n",
      "\n",
      "Training Steps:   3%|▎         | 1/36.0 [00:00<00:10,  3.39it/s]\u001b[A\u001b[A"
     ]
    },
    {
     "name": "stdout",
     "output_type": "stream",
     "text": [
      "epoch: 00, loss: 1.071\n"
     ]
    },
    {
     "name": "stderr",
     "output_type": "stream",
     "text": [
      "\n",
      "\n",
      "Training Steps: 100%|██████████| 36/36.0 [00:00<00:00,  3.39it/s]\u001b[A\u001b[A\n",
      "Training Epochs:   5%|▌         | 1/20 [00:00<00:06,  3.05it/s]\u001b[A\n",
      "\n",
      "Training Steps:   0%|          | 0/36.0 [00:00<00:10,  3.39it/s] \u001b[A\u001b[A\n",
      "\n",
      "Training Steps: 100%|██████████| 36/36.0 [00:00<00:00,  3.39it/s]\u001b[A\u001b[A\n",
      "\n",
      "Training Steps:   0%|          | 0/36.0 [00:00<00:10,  3.39it/s] \u001b[A\u001b[A\n",
      "\n",
      "Training Steps: 100%|██████████| 36/36.0 [00:00<00:00,  3.39it/s]\u001b[A\u001b[A\n",
      "\n",
      "Training Steps:   0%|          | 0/36.0 [00:00<00:10,  3.39it/s] \u001b[A\u001b[A\n",
      "\n",
      "Training Steps: 100%|██████████| 36/36.0 [00:00<00:00,  3.39it/s]\u001b[A\u001b[A\n",
      "\n",
      "Training Steps:   0%|          | 0/36.0 [00:00<00:10,  3.39it/s] \u001b[A\u001b[A\n",
      "\n",
      "Training Steps: 100%|██████████| 36/36.0 [00:00<00:00,  3.39it/s]\u001b[A\u001b[A\n",
      "Training Epochs:  25%|██▌       | 5/20 [00:00<00:03,  4.19it/s]\u001b[A\n",
      "\n",
      "Training Steps:   0%|          | 0/36.0 [00:00<00:10,  3.39it/s] \u001b[A\u001b[A"
     ]
    },
    {
     "name": "stdout",
     "output_type": "stream",
     "text": [
      "epoch: 05, loss: 1.027\n"
     ]
    },
    {
     "name": "stderr",
     "output_type": "stream",
     "text": [
      "\n",
      "\n",
      "Training Steps: 100%|██████████| 36/36.0 [00:00<00:00,  3.39it/s]\u001b[A\u001b[A\n",
      "\n",
      "Training Steps:   0%|          | 0/36.0 [00:00<00:10,  3.39it/s] \u001b[A\u001b[A\n",
      "\n",
      "Training Steps: 100%|██████████| 36/36.0 [00:00<00:00,  3.39it/s]\u001b[A\u001b[A\n",
      "\n",
      "Training Steps:   0%|          | 0/36.0 [00:00<00:10,  3.39it/s] \u001b[A\u001b[A\n",
      "\n",
      "Training Steps: 100%|██████████| 36/36.0 [00:00<00:00,  3.39it/s]\u001b[A\u001b[A\n",
      "\n",
      "Training Steps:   0%|          | 0/36.0 [00:00<00:10,  3.39it/s] \u001b[A\u001b[A\n",
      "\n",
      "Training Steps: 100%|██████████| 36/36.0 [00:00<00:00,  3.39it/s]\u001b[A\u001b[A\n",
      "Training Epochs:  45%|████▌     | 9/20 [00:00<00:01,  5.71it/s]\u001b[A\n",
      "\n",
      "Training Steps:   0%|          | 0/36.0 [00:00<00:10,  3.39it/s] \u001b[A\u001b[A\n",
      "\n",
      "Training Steps: 100%|██████████| 36/36.0 [00:00<00:00,  3.39it/s]\u001b[A\u001b[A\n",
      "\n",
      "Training Steps:   0%|          | 0/36.0 [00:00<00:10,  3.39it/s] \u001b[A\u001b[A"
     ]
    },
    {
     "name": "stdout",
     "output_type": "stream",
     "text": [
      "epoch: 10, loss: 0.928\n"
     ]
    },
    {
     "name": "stderr",
     "output_type": "stream",
     "text": [
      "\n",
      "\n",
      "Training Steps: 100%|██████████| 36/36.0 [00:00<00:00,  3.39it/s]\u001b[A\u001b[A\n",
      "\n",
      "Training Steps:   0%|          | 0/36.0 [00:00<00:10,  3.39it/s] \u001b[A\u001b[A\n",
      "\n",
      "Training Steps: 100%|██████████| 36/36.0 [00:00<00:00,  3.39it/s]\u001b[A\u001b[A\n",
      "\n",
      "Training Steps:   0%|          | 0/36.0 [00:00<00:10,  3.39it/s] \u001b[A\u001b[A\n",
      "\n",
      "Training Steps: 100%|██████████| 36/36.0 [00:00<00:00,  3.39it/s]\u001b[A\u001b[A\n",
      "Training Epochs:  65%|██████▌   | 13/20 [00:00<00:00,  7.65it/s]\u001b[A\n",
      "\n",
      "Training Steps:   0%|          | 0/36.0 [00:00<00:10,  3.39it/s] \u001b[A\u001b[A\n",
      "\n",
      "Training Steps: 100%|██████████| 36/36.0 [00:00<00:00,  3.39it/s]\u001b[A\u001b[A\n",
      "\n",
      "Training Steps:   0%|          | 0/36.0 [00:00<00:10,  3.39it/s] \u001b[A\u001b[A\n",
      "\n",
      "Training Steps: 100%|██████████| 36/36.0 [00:00<00:00,  3.39it/s]\u001b[A\u001b[A\n",
      "\n",
      "Training Steps:   0%|          | 0/36.0 [00:00<00:10,  3.39it/s] \u001b[A\u001b[A"
     ]
    },
    {
     "name": "stdout",
     "output_type": "stream",
     "text": [
      "epoch: 15, loss: 0.832\n"
     ]
    },
    {
     "name": "stderr",
     "output_type": "stream",
     "text": [
      "\n",
      "\n",
      "Training Steps: 100%|██████████| 36/36.0 [00:00<00:00,  3.39it/s]\u001b[A\u001b[A\n",
      "\n",
      "Training Steps:   0%|          | 0/36.0 [00:00<00:10,  3.39it/s] \u001b[A\u001b[A\n",
      "\n",
      "Training Steps: 100%|██████████| 36/36.0 [00:00<00:00,  3.39it/s]\u001b[A\u001b[A\n",
      "Training Epochs:  85%|████████▌ | 17/20 [00:00<00:00, 10.02it/s]\u001b[A\n",
      "\n",
      "Training Steps:   0%|          | 0/36.0 [00:00<00:10,  3.39it/s] \u001b[A\u001b[A\n",
      "\n",
      "Training Steps: 100%|██████████| 36/36.0 [00:00<00:00,  3.39it/s]\u001b[A\u001b[A\n",
      "\n",
      "Training Steps:   0%|          | 0/36.0 [00:00<00:10,  3.39it/s] \u001b[A\u001b[A\n",
      "\n",
      "Training Steps: 100%|██████████| 36/36.0 [00:00<00:00,  3.39it/s]\u001b[A\u001b[A\n",
      "\n",
      "Training Steps:   0%|          | 0/36.0 [00:00<00:10,  3.39it/s] \u001b[A\u001b[A\n",
      "\n",
      "Training Steps: 100%|██████████| 36/36.0 [00:00<00:00,  3.39it/s]\u001b[A\u001b[A\n",
      "\n",
      "Training Epochs: 100%|██████████| 20/20 [00:00<00:00, 23.01it/s] \n",
      "Training Steps: 100%|██████████| 36/36.0 [00:00<00:00, 981.89it/s]\n",
      " 11%|█         | 2/18 [00:02<00:16,  1.04s/it]\n",
      "Training Epochs:   0%|          | 0/20 [00:00<?, ?it/s]"
     ]
    },
    {
     "name": "stdout",
     "output_type": "stream",
     "text": [
      "training with dropout:0.5 l2:0.001 lr:0.0001\n",
      "getting initial loss\n"
     ]
    },
    {
     "name": "stderr",
     "output_type": "stream",
     "text": [
      "\u001b[A\n",
      "\n",
      "Training Steps: 0it [00:00, ?it/s]\u001b[A\u001b[A\n",
      "\n",
      "Training Steps:   0%|          | 0/36.0 [00:00<?, ?it/s]\u001b[A\u001b[A\n",
      "\n",
      "Training Steps:   3%|▎         | 1/36.0 [00:00<00:09,  3.70it/s]\u001b[A\u001b[A"
     ]
    },
    {
     "name": "stdout",
     "output_type": "stream",
     "text": [
      "epoch: 00, loss: 1.368\n"
     ]
    },
    {
     "name": "stderr",
     "output_type": "stream",
     "text": [
      "\n",
      "\n",
      "Training Steps: 100%|██████████| 36/36.0 [00:00<00:00,  3.70it/s]\u001b[A\u001b[A\n",
      "Training Epochs:   5%|▌         | 1/20 [00:00<00:05,  3.24it/s]\u001b[A\n",
      "\n",
      "Training Steps:   0%|          | 0/36.0 [00:00<00:09,  3.70it/s] \u001b[A\u001b[A\n",
      "\n",
      "Training Steps: 100%|██████████| 36/36.0 [00:00<00:00,  3.70it/s]\u001b[A\u001b[A\n",
      "\n",
      "Training Steps:   0%|          | 0/36.0 [00:00<00:09,  3.70it/s] \u001b[A\u001b[A\n",
      "\n",
      "Training Steps: 100%|██████████| 36/36.0 [00:00<00:00,  3.70it/s]\u001b[A\u001b[A\n",
      "\n",
      "Training Steps:   0%|          | 0/36.0 [00:00<00:09,  3.70it/s] \u001b[A\u001b[A\n",
      "\n",
      "Training Steps: 100%|██████████| 36/36.0 [00:00<00:00,  3.70it/s]\u001b[A\u001b[A\n",
      "\n",
      "Training Steps:   0%|          | 0/36.0 [00:00<00:09,  3.70it/s] \u001b[A\u001b[A\n",
      "\n",
      "Training Steps: 100%|██████████| 36/36.0 [00:00<00:00,  3.70it/s]\u001b[A\u001b[A\n",
      "Training Epochs:  25%|██▌       | 5/20 [00:00<00:03,  4.44it/s]\u001b[A\n",
      "\n",
      "Training Steps:   0%|          | 0/36.0 [00:00<00:09,  3.70it/s] \u001b[A\u001b[A"
     ]
    },
    {
     "name": "stdout",
     "output_type": "stream",
     "text": [
      "epoch: 05, loss: 1.300\n"
     ]
    },
    {
     "name": "stderr",
     "output_type": "stream",
     "text": [
      "\n",
      "\n",
      "Training Steps: 100%|██████████| 36/36.0 [00:00<00:00,  3.70it/s]\u001b[A\u001b[A\n",
      "\n",
      "Training Steps:   0%|          | 0/36.0 [00:00<00:09,  3.70it/s] \u001b[A\u001b[A\n",
      "\n",
      "Training Steps: 100%|██████████| 36/36.0 [00:00<00:00,  3.70it/s]\u001b[A\u001b[A\n",
      "\n",
      "Training Steps:   0%|          | 0/36.0 [00:00<00:09,  3.70it/s] \u001b[A\u001b[A\n",
      "\n",
      "Training Steps: 100%|██████████| 36/36.0 [00:00<00:00,  3.70it/s]\u001b[A\u001b[A\n",
      "\n",
      "Training Steps:   0%|          | 0/36.0 [00:00<00:09,  3.70it/s] \u001b[A\u001b[A\n",
      "\n",
      "Training Steps: 100%|██████████| 36/36.0 [00:00<00:00,  3.70it/s]\u001b[A\u001b[A\n",
      "Training Epochs:  45%|████▌     | 9/20 [00:00<00:01,  5.96it/s]\u001b[A\n",
      "\n",
      "Training Steps:   0%|          | 0/36.0 [00:00<00:09,  3.70it/s] \u001b[A\u001b[A\n",
      "\n",
      "Training Steps: 100%|██████████| 36/36.0 [00:00<00:00,  3.70it/s]\u001b[A\u001b[A\n",
      "\n",
      "Training Steps:   0%|          | 0/36.0 [00:00<00:09,  3.70it/s] \u001b[A\u001b[A"
     ]
    },
    {
     "name": "stdout",
     "output_type": "stream",
     "text": [
      "epoch: 10, loss: 1.247\n"
     ]
    },
    {
     "name": "stderr",
     "output_type": "stream",
     "text": [
      "\n",
      "\n",
      "Training Steps: 100%|██████████| 36/36.0 [00:00<00:00,  3.70it/s]\u001b[A\u001b[A\n",
      "\n",
      "Training Steps:   0%|          | 0/36.0 [00:00<00:09,  3.70it/s] \u001b[A\u001b[A\n",
      "\n",
      "Training Steps: 100%|██████████| 36/36.0 [00:00<00:00,  3.70it/s]\u001b[A\u001b[A\n",
      "\n",
      "Training Steps:   0%|          | 0/36.0 [00:00<00:09,  3.70it/s] \u001b[A\u001b[A\n",
      "\n",
      "Training Steps: 100%|██████████| 36/36.0 [00:00<00:00,  3.70it/s]\u001b[A\u001b[A\n",
      "Training Epochs:  65%|██████▌   | 13/20 [00:00<00:00,  7.91it/s]\u001b[A\n",
      "\n",
      "Training Steps:   0%|          | 0/36.0 [00:00<00:09,  3.70it/s] \u001b[A\u001b[A\n",
      "\n",
      "Training Steps: 100%|██████████| 36/36.0 [00:00<00:00,  3.70it/s]\u001b[A\u001b[A\n",
      "\n",
      "Training Steps:   0%|          | 0/36.0 [00:00<00:09,  3.70it/s] \u001b[A\u001b[A\n",
      "\n",
      "Training Steps: 100%|██████████| 36/36.0 [00:00<00:00,  3.70it/s]\u001b[A\u001b[A\n",
      "\n",
      "Training Steps:   0%|          | 0/36.0 [00:00<00:09,  3.70it/s] \u001b[A\u001b[A"
     ]
    },
    {
     "name": "stdout",
     "output_type": "stream",
     "text": [
      "epoch: 15, loss: 1.206\n"
     ]
    },
    {
     "name": "stderr",
     "output_type": "stream",
     "text": [
      "\n",
      "\n",
      "Training Steps: 100%|██████████| 36/36.0 [00:00<00:00,  3.70it/s]\u001b[A\u001b[A\n",
      "\n",
      "Training Steps:   0%|          | 0/36.0 [00:00<00:09,  3.70it/s] \u001b[A\u001b[A\n",
      "\n",
      "Training Steps: 100%|██████████| 36/36.0 [00:00<00:00,  3.70it/s]\u001b[A\u001b[A\n",
      "Training Epochs:  85%|████████▌ | 17/20 [00:00<00:00, 10.29it/s]\u001b[A\n",
      "\n",
      "Training Steps:   0%|          | 0/36.0 [00:00<00:09,  3.70it/s] \u001b[A\u001b[A\n",
      "\n",
      "Training Steps: 100%|██████████| 36/36.0 [00:00<00:00,  3.70it/s]\u001b[A\u001b[A\n",
      "\n",
      "Training Steps:   0%|          | 0/36.0 [00:00<00:09,  3.70it/s] \u001b[A\u001b[A\n",
      "\n",
      "Training Steps: 100%|██████████| 36/36.0 [00:00<00:00,  3.70it/s]\u001b[A\u001b[A\n",
      "\n",
      "Training Steps:   0%|          | 0/36.0 [00:00<00:09,  3.70it/s] \u001b[A\u001b[A\n",
      "\n",
      "Training Steps: 100%|██████████| 36/36.0 [00:00<00:00,  3.70it/s]\u001b[A\u001b[A\n",
      "\n",
      "Training Epochs: 100%|██████████| 20/20 [00:00<00:00, 22.22it/s] \n",
      "Training Steps: 100%|██████████| 36/36.0 [00:00<00:00, 915.78it/s]\n",
      " 17%|█▋        | 3/18 [00:03<00:15,  1.02s/it]"
     ]
    },
    {
     "name": "stdout",
     "output_type": "stream",
     "text": [
      "training with dropout:0.5 l2:1e-06 lr:0.1\n"
     ]
    },
    {
     "name": "stderr",
     "output_type": "stream",
     "text": [
      "\n",
      "Training Epochs:   0%|          | 0/20 [00:00<?, ?it/s]\u001b[A\n",
      "\n",
      "Training Steps: 0it [00:00, ?it/s]\u001b[A\u001b[A\n",
      "\n",
      "Training Steps:   0%|          | 0/36.0 [00:00<?, ?it/s]\u001b[A\u001b[A"
     ]
    },
    {
     "name": "stdout",
     "output_type": "stream",
     "text": [
      "getting initial loss\n"
     ]
    },
    {
     "name": "stderr",
     "output_type": "stream",
     "text": [
      "\n",
      "\n",
      "Training Steps:   3%|▎         | 1/36.0 [00:00<00:10,  3.28it/s]\u001b[A\u001b[A"
     ]
    },
    {
     "name": "stdout",
     "output_type": "stream",
     "text": [
      "epoch: 00, loss: 0.832\n"
     ]
    },
    {
     "name": "stderr",
     "output_type": "stream",
     "text": [
      "\n",
      "\n",
      "Training Steps: 100%|██████████| 36/36.0 [00:00<00:00,  3.28it/s]\u001b[A\u001b[A\n",
      "Training Epochs:   5%|▌         | 1/20 [00:00<00:06,  2.92it/s]\u001b[A\n",
      "\n",
      "Training Steps:   0%|          | 0/36.0 [00:00<00:10,  3.28it/s] \u001b[A\u001b[A\n",
      "\n",
      "Training Steps: 100%|██████████| 36/36.0 [00:00<00:00,  3.28it/s]\u001b[A\u001b[A\n",
      "\n",
      "Training Steps:   0%|          | 0/36.0 [00:00<00:10,  3.28it/s] \u001b[A\u001b[A\n",
      "\n",
      "Training Steps: 100%|██████████| 36/36.0 [00:00<00:00,  3.28it/s]\u001b[A\u001b[A\n",
      "\n",
      "Training Steps:   0%|          | 0/36.0 [00:00<00:10,  3.28it/s] \u001b[A\u001b[A\n",
      "\n",
      "Training Steps: 100%|██████████| 36/36.0 [00:00<00:00,  3.28it/s]\u001b[A\u001b[A\n",
      "\n",
      "Training Steps:   0%|          | 0/36.0 [00:00<00:10,  3.28it/s] \u001b[A\u001b[A\n",
      "\n",
      "Training Steps: 100%|██████████| 36/36.0 [00:00<00:00,  3.28it/s]\u001b[A\u001b[A\n",
      "Training Epochs:  25%|██▌       | 5/20 [00:00<00:03,  4.01it/s]\u001b[A\n",
      "\n",
      "Training Steps:   0%|          | 0/36.0 [00:00<00:10,  3.28it/s] \u001b[A\u001b[A"
     ]
    },
    {
     "name": "stdout",
     "output_type": "stream",
     "text": [
      "epoch: 05, loss: 0.506\n"
     ]
    },
    {
     "name": "stderr",
     "output_type": "stream",
     "text": [
      "\n",
      "\n",
      "Training Steps: 100%|██████████| 36/36.0 [00:00<00:00,  3.28it/s]\u001b[A\u001b[A\n",
      "\n",
      "Training Steps:   0%|          | 0/36.0 [00:00<00:10,  3.28it/s] \u001b[A\u001b[A\n",
      "\n",
      "Training Steps: 100%|██████████| 36/36.0 [00:00<00:00,  3.28it/s]\u001b[A\u001b[A\n",
      "\n",
      "Training Steps:   0%|          | 0/36.0 [00:00<00:10,  3.28it/s] \u001b[A\u001b[A\n",
      "\n",
      "Training Steps: 100%|██████████| 36/36.0 [00:00<00:00,  3.28it/s]\u001b[A\u001b[A\n",
      "\n",
      "Training Steps:   0%|          | 0/36.0 [00:00<00:10,  3.28it/s] \u001b[A\u001b[A\n",
      "\n",
      "Training Steps: 100%|██████████| 36/36.0 [00:00<00:00,  3.28it/s]\u001b[A\u001b[A\n",
      "Training Epochs:  45%|████▌     | 9/20 [00:00<00:02,  5.46it/s]\u001b[A\n",
      "\n",
      "Training Steps:   0%|          | 0/36.0 [00:00<00:10,  3.28it/s] \u001b[A\u001b[A\n",
      "\n",
      "Training Steps: 100%|██████████| 36/36.0 [00:00<00:00,  3.28it/s]\u001b[A\u001b[A\n",
      "\n",
      "Training Steps:   0%|          | 0/36.0 [00:00<00:10,  3.28it/s] \u001b[A\u001b[A"
     ]
    },
    {
     "name": "stdout",
     "output_type": "stream",
     "text": [
      "epoch: 10, loss: 0.508\n"
     ]
    },
    {
     "name": "stderr",
     "output_type": "stream",
     "text": [
      "\n",
      "\n",
      "Training Steps: 100%|██████████| 36/36.0 [00:00<00:00,  3.28it/s]\u001b[A\u001b[A\n",
      "\n",
      "Training Steps:   0%|          | 0/36.0 [00:00<00:10,  3.28it/s] \u001b[A\u001b[A\n",
      "\n",
      "Training Steps: 100%|██████████| 36/36.0 [00:00<00:00,  3.28it/s]\u001b[A\u001b[A\n",
      "\n",
      "Training Steps:   0%|          | 0/36.0 [00:00<00:10,  3.28it/s] \u001b[A\u001b[A\n",
      "\n",
      "Training Steps: 100%|██████████| 36/36.0 [00:00<00:00,  3.28it/s]\u001b[A\u001b[A\n",
      "Training Epochs:  65%|██████▌   | 13/20 [00:00<00:00,  7.32it/s]\u001b[A\n",
      "\n",
      "Training Steps:   0%|          | 0/36.0 [00:00<00:10,  3.28it/s] \u001b[A\u001b[A\n",
      "\n",
      "Training Steps: 100%|██████████| 36/36.0 [00:00<00:00,  3.28it/s]\u001b[A\u001b[A\n",
      "\n",
      "Training Steps:   0%|          | 0/36.0 [00:00<00:10,  3.28it/s] \u001b[A\u001b[A\n",
      "\n",
      "Training Steps: 100%|██████████| 36/36.0 [00:00<00:00,  3.28it/s]\u001b[A\u001b[A\n",
      "\n",
      "Training Steps:   0%|          | 0/36.0 [00:00<00:10,  3.28it/s] \u001b[A\u001b[A"
     ]
    },
    {
     "name": "stdout",
     "output_type": "stream",
     "text": [
      "epoch: 15, loss: 0.448\n"
     ]
    },
    {
     "name": "stderr",
     "output_type": "stream",
     "text": [
      "\n",
      "\n",
      "Training Steps: 100%|██████████| 36/36.0 [00:00<00:00,  3.28it/s]\u001b[A\u001b[A\n",
      "\n",
      "Training Steps:   0%|          | 0/36.0 [00:00<00:10,  3.28it/s] \u001b[A\u001b[A\n",
      "\n",
      "Training Steps: 100%|██████████| 36/36.0 [00:00<00:00,  3.28it/s]\u001b[A\u001b[A\n",
      "Training Epochs:  85%|████████▌ | 17/20 [00:00<00:00,  9.65it/s]\u001b[A\n",
      "\n",
      "Training Steps:   0%|          | 0/36.0 [00:00<00:10,  3.28it/s] \u001b[A\u001b[A\n",
      "\n",
      "Training Steps: 100%|██████████| 36/36.0 [00:00<00:00,  3.28it/s]\u001b[A\u001b[A\n",
      "\n",
      "Training Steps:   0%|          | 0/36.0 [00:00<00:10,  3.28it/s] \u001b[A\u001b[A\n",
      "\n",
      "Training Steps: 100%|██████████| 36/36.0 [00:00<00:00,  3.28it/s]\u001b[A\u001b[A\n",
      "\n",
      "Training Steps:   0%|          | 0/36.0 [00:00<00:10,  3.28it/s] \u001b[A\u001b[A\n",
      "\n",
      "Training Steps: 100%|██████████| 36/36.0 [00:00<00:00,  3.28it/s]\u001b[A\u001b[A\n",
      "\n",
      "Training Epochs: 100%|██████████| 20/20 [00:00<00:00, 22.40it/s] \n",
      "Training Steps: 100%|██████████| 36/36.0 [00:00<00:00, 994.70it/s]\n",
      " 22%|██▏       | 4/18 [00:03<00:14,  1.01s/it]\n",
      "Training Epochs:   0%|          | 0/20 [00:00<?, ?it/s]\u001b[A\n",
      "\n"
     ]
    },
    {
     "name": "stdout",
     "output_type": "stream",
     "text": [
      "training with dropout:0.5 l2:1e-06 lr:0.01\n",
      "getting initial loss\n"
     ]
    },
    {
     "name": "stderr",
     "output_type": "stream",
     "text": [
      "Training Steps: 0it [00:00, ?it/s]\u001b[A\u001b[A\n",
      "\n",
      "Training Steps:   0%|          | 0/36.0 [00:00<?, ?it/s]\u001b[A\u001b[A\n",
      "\n",
      "Training Steps:   3%|▎         | 1/36.0 [00:00<00:11,  3.14it/s]\u001b[A\u001b[A"
     ]
    },
    {
     "name": "stdout",
     "output_type": "stream",
     "text": [
      "epoch: 00, loss: 1.067\n"
     ]
    },
    {
     "name": "stderr",
     "output_type": "stream",
     "text": [
      "\n",
      "\n",
      "Training Steps: 100%|██████████| 36/36.0 [00:00<00:00,  3.14it/s]\u001b[A\u001b[A\n",
      "Training Epochs:   5%|▌         | 1/20 [00:00<00:06,  2.86it/s]\u001b[A\n",
      "\n",
      "Training Steps:   0%|          | 0/36.0 [00:00<00:11,  3.14it/s] \u001b[A\u001b[A\n",
      "\n",
      "Training Steps: 100%|██████████| 36/36.0 [00:00<00:00,  3.14it/s]\u001b[A\u001b[A\n",
      "\n",
      "Training Steps:   0%|          | 0/36.0 [00:00<00:11,  3.14it/s] \u001b[A\u001b[A\n",
      "\n",
      "Training Steps: 100%|██████████| 36/36.0 [00:00<00:00,  3.14it/s]\u001b[A\u001b[A\n",
      "\n",
      "Training Steps:   0%|          | 0/36.0 [00:00<00:11,  3.14it/s] \u001b[A\u001b[A\n",
      "\n",
      "Training Steps: 100%|██████████| 36/36.0 [00:00<00:00,  3.14it/s]\u001b[A\u001b[A\n",
      "Training Epochs:  20%|██        | 4/20 [00:00<00:04,  3.91it/s]\u001b[A\n",
      "\n",
      "Training Steps:   0%|          | 0/36.0 [00:00<00:11,  3.14it/s] \u001b[A\u001b[A\n",
      "\n",
      "Training Steps: 100%|██████████| 36/36.0 [00:00<00:00,  3.14it/s]\u001b[A\u001b[A\n",
      "\n",
      "Training Steps:   0%|          | 0/36.0 [00:00<00:11,  3.14it/s] \u001b[A\u001b[A"
     ]
    },
    {
     "name": "stdout",
     "output_type": "stream",
     "text": [
      "epoch: 05, loss: 1.054\n"
     ]
    },
    {
     "name": "stderr",
     "output_type": "stream",
     "text": [
      "\n",
      "\n",
      "Training Steps: 100%|██████████| 36/36.0 [00:00<00:00,  3.14it/s]\u001b[A\u001b[A\n",
      "\n",
      "Training Steps:   0%|          | 0/36.0 [00:00<00:11,  3.14it/s] \u001b[A\u001b[A\n",
      "\n",
      "Training Steps: 100%|██████████| 36/36.0 [00:00<00:00,  3.14it/s]\u001b[A\u001b[A\n",
      "\n",
      "Training Steps:   0%|          | 0/36.0 [00:00<00:11,  3.14it/s] \u001b[A\u001b[A\n",
      "\n",
      "Training Steps: 100%|██████████| 36/36.0 [00:00<00:00,  3.14it/s]\u001b[A\u001b[A\n",
      "Training Epochs:  40%|████      | 8/20 [00:00<00:02,  5.30it/s]\u001b[A\n",
      "\n",
      "Training Steps:   0%|          | 0/36.0 [00:00<00:11,  3.14it/s] \u001b[A\u001b[A\n",
      "\n",
      "Training Steps: 100%|██████████| 36/36.0 [00:00<00:00,  3.14it/s]\u001b[A\u001b[A\n",
      "\n",
      "Training Steps:   0%|          | 0/36.0 [00:00<00:11,  3.14it/s] \u001b[A\u001b[A\n",
      "\n",
      "Training Steps: 100%|██████████| 36/36.0 [00:00<00:00,  3.14it/s]\u001b[A\u001b[A\n",
      "\n",
      "Training Steps:   0%|          | 0/36.0 [00:00<00:11,  3.14it/s] \u001b[A\u001b[A"
     ]
    },
    {
     "name": "stdout",
     "output_type": "stream",
     "text": [
      "epoch: 10, loss: 1.010\n"
     ]
    },
    {
     "name": "stderr",
     "output_type": "stream",
     "text": [
      "\n",
      "\n",
      "Training Steps: 100%|██████████| 36/36.0 [00:00<00:00,  3.14it/s]\u001b[A\u001b[A\n",
      "\n",
      "Training Steps:   0%|          | 0/36.0 [00:00<00:11,  3.14it/s] \u001b[A\u001b[A\n",
      "\n",
      "Training Steps: 100%|██████████| 36/36.0 [00:00<00:00,  3.14it/s]\u001b[A\u001b[A\n",
      "Training Epochs:  60%|██████    | 12/20 [00:00<00:01,  7.12it/s]\u001b[A\n",
      "\n",
      "Training Steps:   0%|          | 0/36.0 [00:00<00:11,  3.14it/s] \u001b[A\u001b[A\n",
      "\n",
      "Training Steps: 100%|██████████| 36/36.0 [00:00<00:00,  3.14it/s]\u001b[A\u001b[A\n",
      "\n",
      "Training Steps:   0%|          | 0/36.0 [00:00<00:11,  3.14it/s] \u001b[A\u001b[A\n",
      "\n",
      "Training Steps: 100%|██████████| 36/36.0 [00:00<00:00,  3.14it/s]\u001b[A\u001b[A\n",
      "\n",
      "Training Steps:   0%|          | 0/36.0 [00:00<00:11,  3.14it/s] \u001b[A\u001b[A\n",
      "\n",
      "Training Steps: 100%|██████████| 36/36.0 [00:00<00:00,  3.14it/s]\u001b[A\u001b[A\n",
      "\n",
      "Training Steps:   0%|          | 0/36.0 [00:00<00:11,  3.14it/s] \u001b[A\u001b[A"
     ]
    },
    {
     "name": "stdout",
     "output_type": "stream",
     "text": [
      "epoch: 15, loss: 0.868\n"
     ]
    },
    {
     "name": "stderr",
     "output_type": "stream",
     "text": [
      "\n",
      "\n",
      "Training Steps: 100%|██████████| 36/36.0 [00:00<00:00,  3.14it/s]\u001b[A\u001b[A\n",
      "Training Epochs:  80%|████████  | 16/20 [00:00<00:00,  9.34it/s]\u001b[A\n",
      "\n",
      "Training Steps:   0%|          | 0/36.0 [00:00<00:11,  3.14it/s] \u001b[A\u001b[A\n",
      "\n",
      "Training Steps: 100%|██████████| 36/36.0 [00:00<00:00,  3.14it/s]\u001b[A\u001b[A\n",
      "\n",
      "Training Steps:   0%|          | 0/36.0 [00:00<00:11,  3.14it/s] \u001b[A\u001b[A\n",
      "\n",
      "Training Steps: 100%|██████████| 36/36.0 [00:00<00:00,  3.14it/s]\u001b[A\u001b[A\n",
      "\n",
      "Training Steps:   0%|          | 0/36.0 [00:00<00:11,  3.14it/s] \u001b[A\u001b[A\n",
      "\n",
      "Training Steps: 100%|██████████| 36/36.0 [00:00<00:00,  3.14it/s]\u001b[A\u001b[A\n",
      "\n",
      "Training Steps:   0%|          | 0/36.0 [00:00<00:11,  3.14it/s] \u001b[A\u001b[A\n",
      "\n",
      "Training Steps: 100%|██████████| 36/36.0 [00:00<00:00,  3.14it/s]\u001b[A\u001b[A\n",
      "Training Epochs: 100%|██████████| 20/20 [00:00<00:00, 12.06it/s]\u001b[A\n",
      "\n",
      "Training Epochs: 100%|██████████| 20/20 [00:00<00:00, 21.44it/s] \n",
      "Training Steps: 100%|██████████| 36/36.0 [00:00<00:00, 955.67it/s]\n",
      " 28%|██▊       | 5/18 [00:05<00:13,  1.01s/it]\n",
      "Training Epochs:   0%|          | 0/20 [00:00<?, ?it/s]\u001b[A\n",
      "\n",
      "Training Steps: 0it [00:00, ?it/s]\u001b[A\u001b[A\n",
      "\n",
      "Training Steps:   0%|          | 0/36.0 [00:00<?, ?it/s]\u001b[A\u001b[A"
     ]
    },
    {
     "name": "stdout",
     "output_type": "stream",
     "text": [
      "training with dropout:0.5 l2:1e-06 lr:0.0001\n",
      "getting initial loss\n"
     ]
    },
    {
     "name": "stderr",
     "output_type": "stream",
     "text": [
      "\n",
      "\n",
      "Training Steps:   3%|▎         | 1/36.0 [00:00<00:10,  3.42it/s]\u001b[A\u001b[A"
     ]
    },
    {
     "name": "stdout",
     "output_type": "stream",
     "text": [
      "epoch: 00, loss: 1.301\n"
     ]
    },
    {
     "name": "stderr",
     "output_type": "stream",
     "text": [
      "\n",
      "\n",
      "Training Steps: 100%|██████████| 36/36.0 [00:00<00:00,  3.42it/s]\u001b[A\u001b[A\n",
      "Training Epochs:   5%|▌         | 1/20 [00:00<00:06,  3.09it/s]\u001b[A\n",
      "\n",
      "Training Steps:   0%|          | 0/36.0 [00:00<00:10,  3.42it/s] \u001b[A\u001b[A\n",
      "\n",
      "Training Steps: 100%|██████████| 36/36.0 [00:00<00:00,  3.42it/s]\u001b[A\u001b[A\n",
      "\n",
      "Training Steps:   0%|          | 0/36.0 [00:00<00:10,  3.42it/s] \u001b[A\u001b[A\n",
      "\n",
      "Training Steps: 100%|██████████| 36/36.0 [00:00<00:00,  3.42it/s]\u001b[A\u001b[A\n",
      "\n",
      "Training Steps:   0%|          | 0/36.0 [00:00<00:10,  3.42it/s] \u001b[A\u001b[A\n",
      "\n",
      "Training Steps: 100%|██████████| 36/36.0 [00:00<00:00,  3.42it/s]\u001b[A\u001b[A\n",
      "\n",
      "Training Steps:   0%|          | 0/36.0 [00:00<00:10,  3.42it/s] \u001b[A\u001b[A\n",
      "\n",
      "Training Steps: 100%|██████████| 36/36.0 [00:00<00:00,  3.42it/s]\u001b[A\u001b[A\n",
      "Training Epochs:  25%|██▌       | 5/20 [00:00<00:03,  4.24it/s]\u001b[A\n",
      "\n",
      "Training Steps:   0%|          | 0/36.0 [00:00<00:10,  3.42it/s] \u001b[A\u001b[A"
     ]
    },
    {
     "name": "stdout",
     "output_type": "stream",
     "text": [
      "epoch: 05, loss: 1.211\n"
     ]
    },
    {
     "name": "stderr",
     "output_type": "stream",
     "text": [
      "\n",
      "\n",
      "Training Steps: 100%|██████████| 36/36.0 [00:00<00:00,  3.42it/s]\u001b[A\u001b[A\n",
      "\n",
      "Training Steps:   0%|          | 0/36.0 [00:00<00:10,  3.42it/s] \u001b[A\u001b[A\n",
      "\n",
      "Training Steps: 100%|██████████| 36/36.0 [00:00<00:00,  3.42it/s]\u001b[A\u001b[A\n",
      "\n",
      "Training Steps:   0%|          | 0/36.0 [00:00<00:10,  3.42it/s] \u001b[A\u001b[A\n",
      "\n",
      "Training Steps: 100%|██████████| 36/36.0 [00:00<00:00,  3.42it/s]\u001b[A\u001b[A\n",
      "\n",
      "Training Steps:   0%|          | 0/36.0 [00:00<00:10,  3.42it/s] \u001b[A\u001b[A\n",
      "\n",
      "Training Steps: 100%|██████████| 36/36.0 [00:00<00:00,  3.42it/s]\u001b[A\u001b[A\n",
      "Training Epochs:  45%|████▌     | 9/20 [00:00<00:01,  5.76it/s]\u001b[A\n",
      "\n",
      "Training Steps:   0%|          | 0/36.0 [00:00<00:10,  3.42it/s] \u001b[A\u001b[A\n",
      "\n",
      "Training Steps: 100%|██████████| 36/36.0 [00:00<00:00,  3.42it/s]\u001b[A\u001b[A\n",
      "\n",
      "Training Steps:   0%|          | 0/36.0 [00:00<00:10,  3.42it/s] \u001b[A\u001b[A"
     ]
    },
    {
     "name": "stdout",
     "output_type": "stream",
     "text": [
      "epoch: 10, loss: 1.158\n"
     ]
    },
    {
     "name": "stderr",
     "output_type": "stream",
     "text": [
      "\n",
      "\n",
      "Training Steps: 100%|██████████| 36/36.0 [00:00<00:00,  3.42it/s]\u001b[A\u001b[A\n",
      "\n",
      "Training Steps:   0%|          | 0/36.0 [00:00<00:10,  3.42it/s] \u001b[A\u001b[A\n",
      "\n",
      "Training Steps: 100%|██████████| 36/36.0 [00:00<00:00,  3.42it/s]\u001b[A\u001b[A\n",
      "\n",
      "Training Steps:   0%|          | 0/36.0 [00:00<00:10,  3.42it/s] \u001b[A\u001b[A\n",
      "\n",
      "Training Steps: 100%|██████████| 36/36.0 [00:00<00:00,  3.42it/s]\u001b[A\u001b[A\n",
      "Training Epochs:  65%|██████▌   | 13/20 [00:00<00:00,  7.67it/s]\u001b[A\n",
      "\n",
      "Training Steps:   0%|          | 0/36.0 [00:00<00:10,  3.42it/s] \u001b[A\u001b[A\n",
      "\n",
      "Training Steps: 100%|██████████| 36/36.0 [00:00<00:00,  3.42it/s]\u001b[A\u001b[A\n",
      "\n",
      "Training Steps:   0%|          | 0/36.0 [00:00<00:10,  3.42it/s] \u001b[A\u001b[A\n",
      "\n",
      "Training Steps: 100%|██████████| 36/36.0 [00:00<00:00,  3.42it/s]\u001b[A\u001b[A\n",
      "\n",
      "Training Steps:   0%|          | 0/36.0 [00:00<00:10,  3.42it/s] \u001b[A\u001b[A"
     ]
    },
    {
     "name": "stdout",
     "output_type": "stream",
     "text": [
      "epoch: 15, loss: 1.126\n"
     ]
    },
    {
     "name": "stderr",
     "output_type": "stream",
     "text": [
      "\n",
      "\n",
      "Training Steps: 100%|██████████| 36/36.0 [00:00<00:00,  3.42it/s]\u001b[A\u001b[A\n",
      "\n",
      "Training Steps:   0%|          | 0/36.0 [00:00<00:10,  3.42it/s] \u001b[A\u001b[A\n",
      "\n",
      "Training Steps: 100%|██████████| 36/36.0 [00:00<00:00,  3.42it/s]\u001b[A\u001b[A\n",
      "Training Epochs:  85%|████████▌ | 17/20 [00:00<00:00, 10.02it/s]\u001b[A\n",
      "\n",
      "Training Steps:   0%|          | 0/36.0 [00:00<00:10,  3.42it/s] \u001b[A\u001b[A\n",
      "\n",
      "Training Steps: 100%|██████████| 36/36.0 [00:00<00:00,  3.42it/s]\u001b[A\u001b[A\n",
      "\n",
      "Training Steps:   0%|          | 0/36.0 [00:00<00:10,  3.42it/s] \u001b[A\u001b[A\n",
      "\n",
      "Training Steps: 100%|██████████| 36/36.0 [00:00<00:00,  3.42it/s]\u001b[A\u001b[A\n",
      "\n",
      "Training Steps:   0%|          | 0/36.0 [00:00<00:10,  3.42it/s] \u001b[A\u001b[A\n",
      "\n",
      "Training Steps: 100%|██████████| 36/36.0 [00:00<00:00,  3.42it/s]\u001b[A\u001b[A\n",
      "\n",
      "Training Epochs: 100%|██████████| 20/20 [00:00<00:00, 22.42it/s] \n",
      "Training Steps: 100%|██████████| 36/36.0 [00:00<00:00, 937.09it/s]\n",
      " 33%|███▎      | 6/18 [00:05<00:11,  1.00it/s]"
     ]
    },
    {
     "name": "stdout",
     "output_type": "stream",
     "text": [
      "training with dropout:0.2 l2:0.001 lr:0.1\n"
     ]
    },
    {
     "name": "stderr",
     "output_type": "stream",
     "text": [
      "\n",
      "Training Epochs:   0%|          | 0/20 [00:00<?, ?it/s]\u001b[A\n",
      "\n",
      "Training Steps: 0it [00:00, ?it/s]\u001b[A\u001b[A\n",
      "\n",
      "Training Steps:   0%|          | 0/36.0 [00:00<?, ?it/s]\u001b[A\u001b[A"
     ]
    },
    {
     "name": "stdout",
     "output_type": "stream",
     "text": [
      "getting initial loss\n"
     ]
    },
    {
     "name": "stderr",
     "output_type": "stream",
     "text": [
      "\n",
      "\n",
      "Training Steps:   3%|▎         | 1/36.0 [00:00<00:10,  3.44it/s]\u001b[A\u001b[A"
     ]
    },
    {
     "name": "stdout",
     "output_type": "stream",
     "text": [
      "epoch: 00, loss: 0.492\n"
     ]
    },
    {
     "name": "stderr",
     "output_type": "stream",
     "text": [
      "\n",
      "\n",
      "Training Steps: 100%|██████████| 36/36.0 [00:00<00:00,  3.44it/s]\u001b[A\u001b[A\n",
      "Training Epochs:   5%|▌         | 1/20 [00:00<00:06,  3.11it/s]\u001b[A\n",
      "\n",
      "Training Steps:   0%|          | 0/36.0 [00:00<00:10,  3.44it/s] \u001b[A\u001b[A\n",
      "\n",
      "Training Steps: 100%|██████████| 36/36.0 [00:00<00:00,  3.44it/s]\u001b[A\u001b[A\n",
      "\n",
      "Training Steps:   0%|          | 0/36.0 [00:00<00:10,  3.44it/s] \u001b[A\u001b[A\n",
      "\n",
      "Training Steps: 100%|██████████| 36/36.0 [00:00<00:00,  3.44it/s]\u001b[A\u001b[A\n",
      "\n",
      "Training Steps:   0%|          | 0/36.0 [00:00<00:10,  3.44it/s] \u001b[A\u001b[A\n",
      "\n",
      "Training Steps: 100%|██████████| 36/36.0 [00:00<00:00,  3.44it/s]\u001b[A\u001b[A\n",
      "\n",
      "Training Steps:   0%|          | 0/36.0 [00:00<00:10,  3.44it/s] \u001b[A\u001b[A\n",
      "\n",
      "Training Steps: 100%|██████████| 36/36.0 [00:00<00:00,  3.44it/s]\u001b[A\u001b[A\n",
      "Training Epochs:  25%|██▌       | 5/20 [00:00<00:03,  4.27it/s]\u001b[A\n",
      "\n",
      "Training Steps:   0%|          | 0/36.0 [00:00<00:10,  3.44it/s] \u001b[A\u001b[A"
     ]
    },
    {
     "name": "stdout",
     "output_type": "stream",
     "text": [
      "epoch: 05, loss: 0.251\n"
     ]
    },
    {
     "name": "stderr",
     "output_type": "stream",
     "text": [
      "\n",
      "\n",
      "Training Steps: 100%|██████████| 36/36.0 [00:00<00:00,  3.44it/s]\u001b[A\u001b[A\n",
      "\n",
      "Training Steps:   0%|          | 0/36.0 [00:00<00:10,  3.44it/s] \u001b[A\u001b[A\n",
      "\n",
      "Training Steps: 100%|██████████| 36/36.0 [00:00<00:00,  3.44it/s]\u001b[A\u001b[A\n",
      "\n",
      "Training Steps:   0%|          | 0/36.0 [00:00<00:10,  3.44it/s] \u001b[A\u001b[A\n",
      "\n",
      "Training Steps: 100%|██████████| 36/36.0 [00:00<00:00,  3.44it/s]\u001b[A\u001b[A\n",
      "\n",
      "Training Steps:   0%|          | 0/36.0 [00:00<00:10,  3.44it/s] \u001b[A\u001b[A\n",
      "\n",
      "Training Steps: 100%|██████████| 36/36.0 [00:00<00:00,  3.44it/s]\u001b[A\u001b[A\n",
      "Training Epochs:  45%|████▌     | 9/20 [00:00<00:01,  5.77it/s]\u001b[A\n",
      "\n",
      "Training Steps:   0%|          | 0/36.0 [00:00<00:10,  3.44it/s] \u001b[A\u001b[A\n",
      "\n",
      "Training Steps: 100%|██████████| 36/36.0 [00:00<00:00,  3.44it/s]\u001b[A\u001b[A\n",
      "\n",
      "Training Steps:   0%|          | 0/36.0 [00:00<00:10,  3.44it/s] \u001b[A\u001b[A"
     ]
    },
    {
     "name": "stdout",
     "output_type": "stream",
     "text": [
      "epoch: 10, loss: 0.245\n"
     ]
    },
    {
     "name": "stderr",
     "output_type": "stream",
     "text": [
      "\n",
      "\n",
      "Training Steps: 100%|██████████| 36/36.0 [00:00<00:00,  3.44it/s]\u001b[A\u001b[A\n",
      "\n",
      "Training Steps:   0%|          | 0/36.0 [00:00<00:10,  3.44it/s] \u001b[A\u001b[A\n",
      "\n",
      "Training Steps: 100%|██████████| 36/36.0 [00:00<00:00,  3.44it/s]\u001b[A\u001b[A\n",
      "\n",
      "Training Steps:   0%|          | 0/36.0 [00:00<00:10,  3.44it/s] \u001b[A\u001b[A\n",
      "\n",
      "Training Steps: 100%|██████████| 36/36.0 [00:00<00:00,  3.44it/s]\u001b[A\u001b[A\n",
      "Training Epochs:  65%|██████▌   | 13/20 [00:00<00:00,  7.66it/s]\u001b[A\n",
      "\n",
      "Training Steps:   0%|          | 0/36.0 [00:00<00:10,  3.44it/s] \u001b[A\u001b[A\n",
      "\n",
      "Training Steps: 100%|██████████| 36/36.0 [00:00<00:00,  3.44it/s]\u001b[A\u001b[A\n",
      "\n",
      "Training Steps:   0%|          | 0/36.0 [00:00<00:10,  3.44it/s] \u001b[A\u001b[A\n",
      "\n",
      "Training Steps: 100%|██████████| 36/36.0 [00:00<00:00,  3.44it/s]\u001b[A\u001b[A\n",
      "\n",
      "Training Steps:   0%|          | 0/36.0 [00:00<00:10,  3.44it/s] \u001b[A\u001b[A"
     ]
    },
    {
     "name": "stdout",
     "output_type": "stream",
     "text": [
      "epoch: 15, loss: 0.263\n"
     ]
    },
    {
     "name": "stderr",
     "output_type": "stream",
     "text": [
      "\n",
      "\n",
      "Training Steps: 100%|██████████| 36/36.0 [00:00<00:00,  3.44it/s]\u001b[A\u001b[A\n",
      "\n",
      "Training Steps:   0%|          | 0/36.0 [00:00<00:10,  3.44it/s] \u001b[A\u001b[A\n",
      "\n",
      "Training Steps: 100%|██████████| 36/36.0 [00:00<00:00,  3.44it/s]\u001b[A\u001b[A\n",
      "Training Epochs:  85%|████████▌ | 17/20 [00:00<00:00, 10.03it/s]\u001b[A\n",
      "\n",
      "Training Steps:   0%|          | 0/36.0 [00:00<00:10,  3.44it/s] \u001b[A\u001b[A\n",
      "\n",
      "Training Steps: 100%|██████████| 36/36.0 [00:00<00:00,  3.44it/s]\u001b[A\u001b[A\n",
      "\n",
      "Training Steps:   0%|          | 0/36.0 [00:00<00:10,  3.44it/s] \u001b[A\u001b[A\n",
      "\n",
      "Training Steps: 100%|██████████| 36/36.0 [00:00<00:00,  3.44it/s]\u001b[A\u001b[A\n",
      "\n",
      "Training Steps:   0%|          | 0/36.0 [00:00<00:10,  3.44it/s] \u001b[A\u001b[A\n",
      "\n",
      "Training Steps: 100%|██████████| 36/36.0 [00:00<00:00,  3.44it/s]\u001b[A\u001b[A\n",
      "\n",
      "Training Epochs: 100%|██████████| 20/20 [00:00<00:00, 22.36it/s] \n",
      "Training Steps: 100%|██████████| 36/36.0 [00:00<00:00, 1031.63it/s]\n",
      " 39%|███▉      | 7/18 [00:06<00:10,  1.01it/s]\n",
      "Training Epochs:   0%|          | 0/20 [00:00<?, ?it/s]\u001b[A\n",
      "\n",
      "Training Steps: 0it [00:00, ?it/s]\u001b[A\u001b[A\n",
      "\n",
      "Training Steps:   0%|          | 0/36.0 [00:00<?, ?it/s]\u001b[A\u001b[A"
     ]
    },
    {
     "name": "stdout",
     "output_type": "stream",
     "text": [
      "training with dropout:0.2 l2:0.001 lr:0.01\n",
      "getting initial loss\n"
     ]
    },
    {
     "name": "stderr",
     "output_type": "stream",
     "text": [
      "\n",
      "\n",
      "Training Steps:   3%|▎         | 1/36.0 [00:00<00:10,  3.38it/s]\u001b[A\u001b[A"
     ]
    },
    {
     "name": "stdout",
     "output_type": "stream",
     "text": [
      "epoch: 00, loss: 0.820\n"
     ]
    },
    {
     "name": "stderr",
     "output_type": "stream",
     "text": [
      "\n",
      "\n",
      "Training Steps: 100%|██████████| 36/36.0 [00:00<00:00,  3.38it/s]\u001b[A\u001b[A\n",
      "Training Epochs:   5%|▌         | 1/20 [00:00<00:06,  3.07it/s]\u001b[A\n",
      "\n",
      "Training Steps:   0%|          | 0/36.0 [00:00<00:10,  3.38it/s] \u001b[A\u001b[A\n",
      "\n",
      "Training Steps: 100%|██████████| 36/36.0 [00:00<00:00,  3.38it/s]\u001b[A\u001b[A\n",
      "\n",
      "Training Steps:   0%|          | 0/36.0 [00:00<00:10,  3.38it/s] \u001b[A\u001b[A\n",
      "\n",
      "Training Steps: 100%|██████████| 36/36.0 [00:00<00:00,  3.38it/s]\u001b[A\u001b[A\n",
      "\n",
      "Training Steps:   0%|          | 0/36.0 [00:00<00:10,  3.38it/s] \u001b[A\u001b[A\n",
      "\n",
      "Training Steps: 100%|██████████| 36/36.0 [00:00<00:00,  3.38it/s]\u001b[A\u001b[A\n",
      "\n",
      "Training Steps:   0%|          | 0/36.0 [00:00<00:10,  3.38it/s] \u001b[A\u001b[A\n",
      "\n",
      "Training Steps: 100%|██████████| 36/36.0 [00:00<00:00,  3.38it/s]\u001b[A\u001b[A\n",
      "Training Epochs:  25%|██▌       | 5/20 [00:00<00:03,  4.22it/s]\u001b[A\n",
      "\n",
      "Training Steps:   0%|          | 0/36.0 [00:00<00:10,  3.38it/s] \u001b[A\u001b[A"
     ]
    },
    {
     "name": "stdout",
     "output_type": "stream",
     "text": [
      "epoch: 05, loss: 0.457\n"
     ]
    },
    {
     "name": "stderr",
     "output_type": "stream",
     "text": [
      "\n",
      "\n",
      "Training Steps: 100%|██████████| 36/36.0 [00:00<00:00,  3.38it/s]\u001b[A\u001b[A\n",
      "\n",
      "Training Steps:   0%|          | 0/36.0 [00:00<00:10,  3.38it/s] \u001b[A\u001b[A\n",
      "\n",
      "Training Steps: 100%|██████████| 36/36.0 [00:00<00:00,  3.38it/s]\u001b[A\u001b[A\n",
      "\n",
      "Training Steps:   0%|          | 0/36.0 [00:00<00:10,  3.38it/s] \u001b[A\u001b[A\n",
      "\n",
      "Training Steps: 100%|██████████| 36/36.0 [00:00<00:00,  3.38it/s]\u001b[A\u001b[A\n",
      "\n",
      "Training Steps:   0%|          | 0/36.0 [00:00<00:10,  3.38it/s] \u001b[A\u001b[A\n",
      "\n",
      "Training Steps: 100%|██████████| 36/36.0 [00:00<00:00,  3.38it/s]\u001b[A\u001b[A\n",
      "Training Epochs:  45%|████▌     | 9/20 [00:00<00:01,  5.73it/s]\u001b[A\n",
      "\n",
      "Training Steps:   0%|          | 0/36.0 [00:00<00:10,  3.38it/s] \u001b[A\u001b[A\n",
      "\n",
      "Training Steps: 100%|██████████| 36/36.0 [00:00<00:00,  3.38it/s]\u001b[A\u001b[A\n",
      "\n",
      "Training Steps:   0%|          | 0/36.0 [00:00<00:10,  3.38it/s] \u001b[A\u001b[A"
     ]
    },
    {
     "name": "stdout",
     "output_type": "stream",
     "text": [
      "epoch: 10, loss: 0.340\n"
     ]
    },
    {
     "name": "stderr",
     "output_type": "stream",
     "text": [
      "\n",
      "\n",
      "Training Steps: 100%|██████████| 36/36.0 [00:00<00:00,  3.38it/s]\u001b[A\u001b[A\n",
      "\n",
      "Training Steps:   0%|          | 0/36.0 [00:00<00:10,  3.38it/s] \u001b[A\u001b[A\n",
      "\n",
      "Training Steps: 100%|██████████| 36/36.0 [00:00<00:00,  3.38it/s]\u001b[A\u001b[A\n",
      "\n",
      "Training Steps:   0%|          | 0/36.0 [00:00<00:10,  3.38it/s] \u001b[A\u001b[A\n",
      "\n",
      "Training Steps: 100%|██████████| 36/36.0 [00:00<00:00,  3.38it/s]\u001b[A\u001b[A\n",
      "Training Epochs:  65%|██████▌   | 13/20 [00:00<00:00,  7.67it/s]\u001b[A\n",
      "\n",
      "Training Steps:   0%|          | 0/36.0 [00:00<00:10,  3.38it/s] \u001b[A\u001b[A\n",
      "\n",
      "Training Steps: 100%|██████████| 36/36.0 [00:00<00:00,  3.38it/s]\u001b[A\u001b[A\n",
      "\n",
      "Training Steps:   0%|          | 0/36.0 [00:00<00:10,  3.38it/s] \u001b[A\u001b[A\n",
      "\n",
      "Training Steps: 100%|██████████| 36/36.0 [00:00<00:00,  3.38it/s]\u001b[A\u001b[A\n",
      "\n",
      "Training Steps:   0%|          | 0/36.0 [00:00<00:10,  3.38it/s] \u001b[A\u001b[A"
     ]
    },
    {
     "name": "stdout",
     "output_type": "stream",
     "text": [
      "epoch: 15, loss: 0.276\n"
     ]
    },
    {
     "name": "stderr",
     "output_type": "stream",
     "text": [
      "\n",
      "\n",
      "Training Steps: 100%|██████████| 36/36.0 [00:00<00:00,  3.38it/s]\u001b[A\u001b[A\n",
      "\n",
      "Training Steps:   0%|          | 0/36.0 [00:00<00:10,  3.38it/s] \u001b[A\u001b[A\n",
      "\n",
      "Training Steps: 100%|██████████| 36/36.0 [00:00<00:00,  3.38it/s]\u001b[A\u001b[A\n",
      "Training Epochs:  85%|████████▌ | 17/20 [00:00<00:00, 10.07it/s]\u001b[A\n",
      "\n",
      "Training Steps:   0%|          | 0/36.0 [00:00<00:10,  3.38it/s] \u001b[A\u001b[A\n",
      "\n",
      "Training Steps: 100%|██████████| 36/36.0 [00:00<00:00,  3.38it/s]\u001b[A\u001b[A\n",
      "\n",
      "Training Steps:   0%|          | 0/36.0 [00:00<00:10,  3.38it/s] \u001b[A\u001b[A\n",
      "\n",
      "Training Steps: 100%|██████████| 36/36.0 [00:00<00:00,  3.38it/s]\u001b[A\u001b[A\n",
      "\n",
      "Training Steps:   0%|          | 0/36.0 [00:00<00:10,  3.38it/s] \u001b[A\u001b[A\n",
      "\n",
      "Training Steps: 100%|██████████| 36/36.0 [00:00<00:00,  3.38it/s]\u001b[A\u001b[A\n",
      "\n",
      "Training Epochs: 100%|██████████| 20/20 [00:00<00:00, 23.02it/s] \n",
      "Training Steps: 100%|██████████| 36/36.0 [00:00<00:00, 978.33it/s]\n",
      " 44%|████▍     | 8/18 [00:07<00:09,  1.02it/s]\n",
      "Training Epochs:   0%|          | 0/20 [00:00<?, ?it/s]\u001b[A\n",
      "\n",
      "Training Steps: 0it [00:00, ?it/s]\u001b[A\u001b[A\n",
      "\n",
      "Training Steps:   0%|          | 0/36.0 [00:00<?, ?it/s]\u001b[A\u001b[A"
     ]
    },
    {
     "name": "stdout",
     "output_type": "stream",
     "text": [
      "training with dropout:0.2 l2:0.001 lr:0.0001\n",
      "getting initial loss\n"
     ]
    },
    {
     "name": "stderr",
     "output_type": "stream",
     "text": [
      "\n",
      "\n",
      "Training Steps:   3%|▎         | 1/36.0 [00:00<00:10,  3.46it/s]\u001b[A\u001b[A"
     ]
    },
    {
     "name": "stdout",
     "output_type": "stream",
     "text": [
      "epoch: 00, loss: 1.428\n"
     ]
    },
    {
     "name": "stderr",
     "output_type": "stream",
     "text": [
      "\n",
      "\n",
      "Training Steps: 100%|██████████| 36/36.0 [00:00<00:00,  3.46it/s]\u001b[A\u001b[A\n",
      "Training Epochs:   5%|▌         | 1/20 [00:00<00:06,  3.14it/s]\u001b[A\n",
      "\n",
      "Training Steps:   0%|          | 0/36.0 [00:00<00:10,  3.46it/s] \u001b[A\u001b[A\n",
      "\n",
      "Training Steps: 100%|██████████| 36/36.0 [00:00<00:00,  3.46it/s]\u001b[A\u001b[A\n",
      "\n",
      "Training Steps:   0%|          | 0/36.0 [00:00<00:10,  3.46it/s] \u001b[A\u001b[A\n",
      "\n",
      "Training Steps: 100%|██████████| 36/36.0 [00:00<00:00,  3.46it/s]\u001b[A\u001b[A\n",
      "\n",
      "Training Steps:   0%|          | 0/36.0 [00:00<00:10,  3.46it/s] \u001b[A\u001b[A\n",
      "\n",
      "Training Steps: 100%|██████████| 36/36.0 [00:00<00:00,  3.46it/s]\u001b[A\u001b[A\n",
      "\n",
      "Training Steps:   0%|          | 0/36.0 [00:00<00:10,  3.46it/s] \u001b[A\u001b[A\n",
      "\n",
      "Training Steps: 100%|██████████| 36/36.0 [00:00<00:00,  3.46it/s]\u001b[A\u001b[A\n",
      "Training Epochs:  25%|██▌       | 5/20 [00:00<00:03,  4.33it/s]\u001b[A\n",
      "\n",
      "Training Steps:   0%|          | 0/36.0 [00:00<00:10,  3.46it/s] \u001b[A\u001b[A"
     ]
    },
    {
     "name": "stdout",
     "output_type": "stream",
     "text": [
      "epoch: 05, loss: 1.248\n"
     ]
    },
    {
     "name": "stderr",
     "output_type": "stream",
     "text": [
      "\n",
      "\n",
      "Training Steps: 100%|██████████| 36/36.0 [00:00<00:00,  3.46it/s]\u001b[A\u001b[A\n",
      "\n",
      "Training Steps:   0%|          | 0/36.0 [00:00<00:10,  3.46it/s] \u001b[A\u001b[A\n",
      "\n",
      "Training Steps: 100%|██████████| 36/36.0 [00:00<00:00,  3.46it/s]\u001b[A\u001b[A\n",
      "\n",
      "Training Steps:   0%|          | 0/36.0 [00:00<00:10,  3.46it/s] \u001b[A\u001b[A\n",
      "\n",
      "Training Steps: 100%|██████████| 36/36.0 [00:00<00:00,  3.46it/s]\u001b[A\u001b[A\n",
      "\n",
      "Training Steps:   0%|          | 0/36.0 [00:00<00:10,  3.46it/s] \u001b[A\u001b[A\n",
      "\n",
      "Training Steps: 100%|██████████| 36/36.0 [00:00<00:00,  3.46it/s]\u001b[A\u001b[A\n",
      "Training Epochs:  45%|████▌     | 9/20 [00:00<00:01,  5.85it/s]\u001b[A\n",
      "\n",
      "Training Steps:   0%|          | 0/36.0 [00:00<00:10,  3.46it/s] \u001b[A\u001b[A\n",
      "\n",
      "Training Steps: 100%|██████████| 36/36.0 [00:00<00:00,  3.46it/s]\u001b[A\u001b[A\n",
      "\n",
      "Training Steps:   0%|          | 0/36.0 [00:00<00:10,  3.46it/s] \u001b[A\u001b[A"
     ]
    },
    {
     "name": "stdout",
     "output_type": "stream",
     "text": [
      "epoch: 10, loss: 1.161\n"
     ]
    },
    {
     "name": "stderr",
     "output_type": "stream",
     "text": [
      "\n",
      "\n",
      "Training Steps: 100%|██████████| 36/36.0 [00:00<00:00,  3.46it/s]\u001b[A\u001b[A\n",
      "\n",
      "Training Steps:   0%|          | 0/36.0 [00:00<00:10,  3.46it/s] \u001b[A\u001b[A\n",
      "\n",
      "Training Steps: 100%|██████████| 36/36.0 [00:00<00:00,  3.46it/s]\u001b[A\u001b[A\n",
      "\n",
      "Training Steps:   0%|          | 0/36.0 [00:00<00:10,  3.46it/s] \u001b[A\u001b[A\n",
      "\n",
      "Training Steps: 100%|██████████| 36/36.0 [00:00<00:00,  3.46it/s]\u001b[A\u001b[A\n",
      "Training Epochs:  65%|██████▌   | 13/20 [00:00<00:00,  7.79it/s]\u001b[A\n",
      "\n",
      "Training Steps:   0%|          | 0/36.0 [00:00<00:10,  3.46it/s] \u001b[A\u001b[A\n",
      "\n",
      "Training Steps: 100%|██████████| 36/36.0 [00:00<00:00,  3.46it/s]\u001b[A\u001b[A\n",
      "\n",
      "Training Steps:   0%|          | 0/36.0 [00:00<00:10,  3.46it/s] \u001b[A\u001b[A\n",
      "\n",
      "Training Steps: 100%|██████████| 36/36.0 [00:00<00:00,  3.46it/s]\u001b[A\u001b[A\n",
      "\n",
      "Training Steps:   0%|          | 0/36.0 [00:00<00:10,  3.46it/s] \u001b[A\u001b[A"
     ]
    },
    {
     "name": "stdout",
     "output_type": "stream",
     "text": [
      "epoch: 15, loss: 1.113\n"
     ]
    },
    {
     "name": "stderr",
     "output_type": "stream",
     "text": [
      "\n",
      "\n",
      "Training Steps: 100%|██████████| 36/36.0 [00:00<00:00,  3.46it/s]\u001b[A\u001b[A\n",
      "\n",
      "Training Steps:   0%|          | 0/36.0 [00:00<00:10,  3.46it/s] \u001b[A\u001b[A\n",
      "\n",
      "Training Steps: 100%|██████████| 36/36.0 [00:00<00:00,  3.46it/s]\u001b[A\u001b[A\n",
      "Training Epochs:  85%|████████▌ | 17/20 [00:00<00:00, 10.20it/s]\u001b[A\n",
      "\n",
      "Training Steps:   0%|          | 0/36.0 [00:00<00:10,  3.46it/s] \u001b[A\u001b[A\n",
      "\n",
      "Training Steps: 100%|██████████| 36/36.0 [00:00<00:00,  3.46it/s]\u001b[A\u001b[A\n",
      "\n",
      "Training Steps:   0%|          | 0/36.0 [00:00<00:10,  3.46it/s] \u001b[A\u001b[A\n",
      "\n",
      "Training Steps: 100%|██████████| 36/36.0 [00:00<00:00,  3.46it/s]\u001b[A\u001b[A\n",
      "\n",
      "Training Steps:   0%|          | 0/36.0 [00:00<00:10,  3.46it/s] \u001b[A\u001b[A\n",
      "\n",
      "Training Steps: 100%|██████████| 36/36.0 [00:00<00:00,  3.46it/s]\u001b[A\u001b[A\n",
      "\n",
      "Training Epochs: 100%|██████████| 20/20 [00:00<00:00, 22.99it/s] \n",
      "Training Steps: 100%|██████████| 36/36.0 [00:00<00:00, 1006.15it/s]\n",
      " 50%|█████     | 9/18 [00:08<00:08,  1.04it/s]\n",
      "Training Epochs:   0%|          | 0/20 [00:00<?, ?it/s]\u001b[A\n",
      "\n",
      "Training Steps: 0it [00:00, ?it/s]\u001b[A\u001b[A\n",
      "\n",
      "Training Steps:   0%|          | 0/36.0 [00:00<?, ?it/s]\u001b[A\u001b[A"
     ]
    },
    {
     "name": "stdout",
     "output_type": "stream",
     "text": [
      "training with dropout:0.2 l2:1e-06 lr:0.1\n",
      "getting initial loss\n"
     ]
    },
    {
     "name": "stderr",
     "output_type": "stream",
     "text": [
      "\n",
      "\n",
      "Training Steps:   3%|▎         | 1/36.0 [00:00<00:09,  3.83it/s]\u001b[A\u001b[A"
     ]
    },
    {
     "name": "stdout",
     "output_type": "stream",
     "text": [
      "epoch: 00, loss: 0.428\n"
     ]
    },
    {
     "name": "stderr",
     "output_type": "stream",
     "text": [
      "\n",
      "\n",
      "Training Steps: 100%|██████████| 36/36.0 [00:00<00:00,  3.83it/s]\u001b[A\u001b[A\n",
      "Training Epochs:   5%|▌         | 1/20 [00:00<00:05,  3.41it/s]\u001b[A\n",
      "\n",
      "Training Steps:   0%|          | 0/36.0 [00:00<00:09,  3.83it/s] \u001b[A\u001b[A\n",
      "\n",
      "Training Steps: 100%|██████████| 36/36.0 [00:00<00:00,  3.83it/s]\u001b[A\u001b[A\n",
      "\n",
      "Training Steps:   0%|          | 0/36.0 [00:00<00:09,  3.83it/s] \u001b[A\u001b[A\n",
      "\n",
      "Training Steps: 100%|██████████| 36/36.0 [00:00<00:00,  3.83it/s]\u001b[A\u001b[A\n",
      "\n",
      "Training Steps:   0%|          | 0/36.0 [00:00<00:09,  3.83it/s] \u001b[A\u001b[A\n",
      "\n",
      "Training Steps: 100%|██████████| 36/36.0 [00:00<00:00,  3.83it/s]\u001b[A\u001b[A\n",
      "\n",
      "Training Steps:   0%|          | 0/36.0 [00:00<00:09,  3.83it/s] \u001b[A\u001b[A\n",
      "\n",
      "Training Steps: 100%|██████████| 36/36.0 [00:00<00:00,  3.83it/s]\u001b[A\u001b[A\n",
      "Training Epochs:  25%|██▌       | 5/20 [00:00<00:03,  4.69it/s]\u001b[A\n",
      "\n",
      "Training Steps:   0%|          | 0/36.0 [00:00<00:09,  3.83it/s] \u001b[A\u001b[A"
     ]
    },
    {
     "name": "stdout",
     "output_type": "stream",
     "text": [
      "epoch: 05, loss: 0.276\n"
     ]
    },
    {
     "name": "stderr",
     "output_type": "stream",
     "text": [
      "\n",
      "\n",
      "Training Steps: 100%|██████████| 36/36.0 [00:00<00:00,  3.83it/s]\u001b[A\u001b[A\n",
      "\n",
      "Training Steps:   0%|          | 0/36.0 [00:00<00:09,  3.83it/s] \u001b[A\u001b[A\n",
      "\n",
      "Training Steps: 100%|██████████| 36/36.0 [00:00<00:00,  3.83it/s]\u001b[A\u001b[A\n",
      "\n",
      "Training Steps:   0%|          | 0/36.0 [00:00<00:09,  3.83it/s] \u001b[A\u001b[A\n",
      "\n",
      "Training Steps: 100%|██████████| 36/36.0 [00:00<00:00,  3.83it/s]\u001b[A\u001b[A\n",
      "\n",
      "Training Steps:   0%|          | 0/36.0 [00:00<00:09,  3.83it/s] \u001b[A\u001b[A\n",
      "\n",
      "Training Steps: 100%|██████████| 36/36.0 [00:00<00:00,  3.83it/s]\u001b[A\u001b[A\n",
      "Training Epochs:  45%|████▌     | 9/20 [00:00<00:01,  6.31it/s]\u001b[A\n",
      "\n",
      "Training Steps:   0%|          | 0/36.0 [00:00<00:09,  3.83it/s] \u001b[A\u001b[A\n",
      "\n",
      "Training Steps: 100%|██████████| 36/36.0 [00:00<00:00,  3.83it/s]\u001b[A\u001b[A\n",
      "\n",
      "Training Steps:   0%|          | 0/36.0 [00:00<00:09,  3.83it/s] \u001b[A\u001b[A"
     ]
    },
    {
     "name": "stdout",
     "output_type": "stream",
     "text": [
      "epoch: 10, loss: 0.369\n"
     ]
    },
    {
     "name": "stderr",
     "output_type": "stream",
     "text": [
      "\n",
      "\n",
      "Training Steps: 100%|██████████| 36/36.0 [00:00<00:00,  3.83it/s]\u001b[A\u001b[A\n",
      "\n",
      "Training Steps:   0%|          | 0/36.0 [00:00<00:09,  3.83it/s] \u001b[A\u001b[A\n",
      "\n",
      "Training Steps: 100%|██████████| 36/36.0 [00:00<00:00,  3.83it/s]\u001b[A\u001b[A\n",
      "\n",
      "Training Steps:   0%|          | 0/36.0 [00:00<00:09,  3.83it/s] \u001b[A\u001b[A\n",
      "\n",
      "Training Steps: 100%|██████████| 36/36.0 [00:00<00:00,  3.83it/s]\u001b[A\u001b[A\n",
      "Training Epochs:  65%|██████▌   | 13/20 [00:00<00:00,  8.31it/s]\u001b[A\n",
      "\n",
      "Training Steps:   0%|          | 0/36.0 [00:00<00:09,  3.83it/s] \u001b[A\u001b[A\n",
      "\n",
      "Training Steps: 100%|██████████| 36/36.0 [00:00<00:00,  3.83it/s]\u001b[A\u001b[A\n",
      "\n",
      "Training Steps:   0%|          | 0/36.0 [00:00<00:09,  3.83it/s] \u001b[A\u001b[A\n",
      "\n",
      "Training Steps: 100%|██████████| 36/36.0 [00:00<00:00,  3.83it/s]\u001b[A\u001b[A\n",
      "\n",
      "Training Steps:   0%|          | 0/36.0 [00:00<00:09,  3.83it/s] \u001b[A\u001b[A"
     ]
    },
    {
     "name": "stdout",
     "output_type": "stream",
     "text": [
      "epoch: 15, loss: 0.329\n"
     ]
    },
    {
     "name": "stderr",
     "output_type": "stream",
     "text": [
      "\n",
      "\n",
      "Training Steps: 100%|██████████| 36/36.0 [00:00<00:00,  3.83it/s]\u001b[A\u001b[A\n",
      "\n",
      "Training Steps:   0%|          | 0/36.0 [00:00<00:09,  3.83it/s] \u001b[A\u001b[A\n",
      "\n",
      "Training Steps: 100%|██████████| 36/36.0 [00:00<00:00,  3.83it/s]\u001b[A\u001b[A\n",
      "Training Epochs:  85%|████████▌ | 17/20 [00:00<00:00, 10.72it/s]\u001b[A\n",
      "\n",
      "Training Steps:   0%|          | 0/36.0 [00:00<00:09,  3.83it/s] \u001b[A\u001b[A\n",
      "\n",
      "Training Steps: 100%|██████████| 36/36.0 [00:00<00:00,  3.83it/s]\u001b[A\u001b[A\n",
      "\n",
      "Training Steps:   0%|          | 0/36.0 [00:00<00:09,  3.83it/s] \u001b[A\u001b[A\n",
      "\n",
      "Training Steps: 100%|██████████| 36/36.0 [00:00<00:00,  3.83it/s]\u001b[A\u001b[A\n",
      "\n",
      "Training Steps:   0%|          | 0/36.0 [00:00<00:09,  3.83it/s] \u001b[A\u001b[A\n",
      "\n",
      "Training Steps: 100%|██████████| 36/36.0 [00:00<00:00,  3.83it/s]\u001b[A\u001b[A\n",
      "\n",
      "Training Epochs: 100%|██████████| 20/20 [00:00<00:00, 22.99it/s] \n",
      "Training Steps: 100%|██████████| 36/36.0 [00:00<00:00, 966.13it/s]\n",
      " 56%|█████▌    | 10/18 [00:09<00:07,  1.04it/s]"
     ]
    },
    {
     "name": "stdout",
     "output_type": "stream",
     "text": [
      "training with dropout:0.2 l2:1e-06 lr:0.01\n",
      "getting initial loss\n"
     ]
    },
    {
     "name": "stderr",
     "output_type": "stream",
     "text": [
      "\n",
      "Training Epochs:   0%|          | 0/20 [00:00<?, ?it/s]\u001b[A\n",
      "\n",
      "Training Steps: 0it [00:00, ?it/s]\u001b[A\u001b[A\n",
      "\n",
      "Training Steps:   0%|          | 0/36.0 [00:00<?, ?it/s]\u001b[A\u001b[A\n",
      "\n",
      "Training Steps:   3%|▎         | 1/36.0 [00:00<00:09,  3.55it/s]\u001b[A\u001b[A"
     ]
    },
    {
     "name": "stdout",
     "output_type": "stream",
     "text": [
      "epoch: 00, loss: 1.020\n"
     ]
    },
    {
     "name": "stderr",
     "output_type": "stream",
     "text": [
      "\n",
      "\n",
      "Training Steps: 100%|██████████| 36/36.0 [00:00<00:00,  3.55it/s]\u001b[A\u001b[A\n",
      "Training Epochs:   5%|▌         | 1/20 [00:00<00:05,  3.18it/s]\u001b[A\n",
      "\n",
      "Training Steps:   0%|          | 0/36.0 [00:00<00:10,  3.55it/s] \u001b[A\u001b[A\n",
      "\n",
      "Training Steps: 100%|██████████| 36/36.0 [00:00<00:00,  3.55it/s]\u001b[A\u001b[A\n",
      "\n",
      "Training Steps:   0%|          | 0/36.0 [00:00<00:10,  3.55it/s] \u001b[A\u001b[A\n",
      "\n",
      "Training Steps: 100%|██████████| 36/36.0 [00:00<00:00,  3.55it/s]\u001b[A\u001b[A\n",
      "\n",
      "Training Steps:   0%|          | 0/36.0 [00:00<00:10,  3.55it/s] \u001b[A\u001b[A\n",
      "\n",
      "Training Steps: 100%|██████████| 36/36.0 [00:00<00:00,  3.55it/s]\u001b[A\u001b[A\n",
      "\n",
      "Training Steps:   0%|          | 0/36.0 [00:00<00:10,  3.55it/s] \u001b[A\u001b[A\n",
      "\n",
      "Training Steps: 100%|██████████| 36/36.0 [00:00<00:00,  3.55it/s]\u001b[A\u001b[A\n",
      "Training Epochs:  25%|██▌       | 5/20 [00:00<00:03,  4.38it/s]\u001b[A\n",
      "\n",
      "Training Steps:   0%|          | 0/36.0 [00:00<00:10,  3.55it/s] \u001b[A\u001b[A"
     ]
    },
    {
     "name": "stdout",
     "output_type": "stream",
     "text": [
      "epoch: 05, loss: 0.579\n"
     ]
    },
    {
     "name": "stderr",
     "output_type": "stream",
     "text": [
      "\n",
      "\n",
      "Training Steps: 100%|██████████| 36/36.0 [00:00<00:00,  3.55it/s]\u001b[A\u001b[A\n",
      "\n",
      "Training Steps:   0%|          | 0/36.0 [00:00<00:10,  3.55it/s] \u001b[A\u001b[A\n",
      "\n",
      "Training Steps: 100%|██████████| 36/36.0 [00:00<00:00,  3.55it/s]\u001b[A\u001b[A\n",
      "\n",
      "Training Steps:   0%|          | 0/36.0 [00:00<00:10,  3.55it/s] \u001b[A\u001b[A\n",
      "\n",
      "Training Steps: 100%|██████████| 36/36.0 [00:00<00:00,  3.55it/s]\u001b[A\u001b[A\n",
      "\n",
      "Training Steps:   0%|          | 0/36.0 [00:00<00:10,  3.55it/s] \u001b[A\u001b[A\n",
      "\n",
      "Training Steps: 100%|██████████| 36/36.0 [00:00<00:00,  3.55it/s]\u001b[A\u001b[A\n",
      "Training Epochs:  45%|████▌     | 9/20 [00:00<00:01,  5.95it/s]\u001b[A\n",
      "\n",
      "Training Steps:   0%|          | 0/36.0 [00:00<00:10,  3.55it/s] \u001b[A\u001b[A\n",
      "\n",
      "Training Steps: 100%|██████████| 36/36.0 [00:00<00:00,  3.55it/s]\u001b[A\u001b[A\n",
      "\n",
      "Training Steps:   0%|          | 0/36.0 [00:00<00:10,  3.55it/s] \u001b[A\u001b[A"
     ]
    },
    {
     "name": "stdout",
     "output_type": "stream",
     "text": [
      "epoch: 10, loss: 0.408\n"
     ]
    },
    {
     "name": "stderr",
     "output_type": "stream",
     "text": [
      "\n",
      "\n",
      "Training Steps: 100%|██████████| 36/36.0 [00:00<00:00,  3.55it/s]\u001b[A\u001b[A\n",
      "\n",
      "Training Steps:   0%|          | 0/36.0 [00:00<00:10,  3.55it/s] \u001b[A\u001b[A\n",
      "\n",
      "Training Steps: 100%|██████████| 36/36.0 [00:00<00:00,  3.55it/s]\u001b[A\u001b[A\n",
      "\n",
      "Training Steps:   0%|          | 0/36.0 [00:00<00:10,  3.55it/s] \u001b[A\u001b[A\n",
      "\n",
      "Training Steps: 100%|██████████| 36/36.0 [00:00<00:00,  3.55it/s]\u001b[A\u001b[A\n",
      "Training Epochs:  65%|██████▌   | 13/20 [00:00<00:00,  7.92it/s]\u001b[A\n",
      "\n",
      "Training Steps:   0%|          | 0/36.0 [00:00<00:10,  3.55it/s] \u001b[A\u001b[A\n",
      "\n",
      "Training Steps: 100%|██████████| 36/36.0 [00:00<00:00,  3.55it/s]\u001b[A\u001b[A\n",
      "\n",
      "Training Steps:   0%|          | 0/36.0 [00:00<00:10,  3.55it/s] \u001b[A\u001b[A\n",
      "\n",
      "Training Steps: 100%|██████████| 36/36.0 [00:00<00:00,  3.55it/s]\u001b[A\u001b[A\n",
      "\n",
      "Training Steps:   0%|          | 0/36.0 [00:00<00:10,  3.55it/s] \u001b[A\u001b[A"
     ]
    },
    {
     "name": "stdout",
     "output_type": "stream",
     "text": [
      "epoch: 15, loss: 0.331\n"
     ]
    },
    {
     "name": "stderr",
     "output_type": "stream",
     "text": [
      "\n",
      "\n",
      "Training Steps: 100%|██████████| 36/36.0 [00:00<00:00,  3.55it/s]\u001b[A\u001b[A\n",
      "\n",
      "Training Steps:   0%|          | 0/36.0 [00:00<00:10,  3.55it/s] \u001b[A\u001b[A\n",
      "\n",
      "Training Steps: 100%|██████████| 36/36.0 [00:00<00:00,  3.55it/s]\u001b[A\u001b[A\n",
      "Training Epochs:  85%|████████▌ | 17/20 [00:00<00:00, 10.31it/s]\u001b[A\n",
      "\n",
      "Training Steps:   0%|          | 0/36.0 [00:00<00:10,  3.55it/s] \u001b[A\u001b[A\n",
      "\n",
      "Training Steps: 100%|██████████| 36/36.0 [00:00<00:00,  3.55it/s]\u001b[A\u001b[A\n",
      "\n",
      "Training Steps:   0%|          | 0/36.0 [00:00<00:10,  3.55it/s] \u001b[A\u001b[A\n",
      "\n",
      "Training Steps: 100%|██████████| 36/36.0 [00:00<00:00,  3.55it/s]\u001b[A\u001b[A\n",
      "\n",
      "Training Steps:   0%|          | 0/36.0 [00:00<00:10,  3.55it/s] \u001b[A\u001b[A\n",
      "\n",
      "Training Steps: 100%|██████████| 36/36.0 [00:00<00:00,  3.55it/s]\u001b[A\u001b[A\n",
      " 61%|██████    | 11/18 [00:10<00:06,  1.05it/s]00:00, 12.79it/s]\u001b[A"
     ]
    },
    {
     "name": "stdout",
     "output_type": "stream",
     "text": [
      "training with dropout:0.2 l2:1e-06 lr:0.0001\n"
     ]
    },
    {
     "name": "stderr",
     "output_type": "stream",
     "text": [
      "\n",
      "\n",
      "\n",
      "Training Epochs:   0%|          | 0/20 [00:00<?, ?it/s]\u001b[A\u001b[A\u001b[A\n",
      "\n",
      "\n",
      "\n",
      "Training Steps: 0it [00:00, ?it/s]\u001b[A\u001b[A\u001b[A\u001b[A\n",
      "\n",
      "\n",
      "\n",
      "Training Steps:   0%|          | 0/36.0 [00:00<?, ?it/s]\u001b[A\u001b[A\u001b[A\u001b[A"
     ]
    },
    {
     "name": "stdout",
     "output_type": "stream",
     "text": [
      "getting initial loss\n"
     ]
    },
    {
     "name": "stderr",
     "output_type": "stream",
     "text": [
      "\n",
      "\n",
      "\n",
      "\n",
      "Training Steps:   3%|▎         | 1/36.0 [00:00<00:09,  3.63it/s]\u001b[A\u001b[A\u001b[A\u001b[A"
     ]
    },
    {
     "name": "stdout",
     "output_type": "stream",
     "text": [
      "epoch: 00, loss: 1.225\n"
     ]
    },
    {
     "name": "stderr",
     "output_type": "stream",
     "text": [
      "\n",
      "\n",
      "\n",
      "\n",
      "Training Steps: 100%|██████████| 36/36.0 [00:00<00:00,  3.63it/s]\u001b[A\u001b[A\u001b[A\u001b[A\n",
      "\n",
      "\n",
      "Training Epochs:   5%|▌         | 1/20 [00:00<00:05,  3.24it/s]\u001b[A\u001b[A\u001b[A\n",
      "\n",
      "\n",
      "\n",
      "Training Steps:   0%|          | 0/36.0 [00:00<00:09,  3.63it/s] \u001b[A\u001b[A\u001b[A\u001b[A\n",
      "\n",
      "\n",
      "\n",
      "Training Steps: 100%|██████████| 36/36.0 [00:00<00:00,  3.63it/s]\u001b[A\u001b[A\u001b[A\u001b[A\n",
      "\n",
      "\n",
      "\n",
      "Training Steps:   0%|          | 0/36.0 [00:00<00:09,  3.63it/s] \u001b[A\u001b[A\u001b[A\u001b[A\n",
      "\n",
      "\n",
      "\n",
      "Training Steps: 100%|██████████| 36/36.0 [00:00<00:00,  3.63it/s]\u001b[A\u001b[A\u001b[A\u001b[A\n",
      "\n",
      "\n",
      "\n",
      "Training Steps:   0%|          | 0/36.0 [00:00<00:09,  3.63it/s] \u001b[A\u001b[A\u001b[A\u001b[A\n",
      "\n",
      "\n",
      "\n",
      "Training Steps: 100%|██████████| 36/36.0 [00:00<00:00,  3.63it/s]\u001b[A\u001b[A\u001b[A\u001b[A\n",
      "\n",
      "\n",
      "\n",
      "Training Steps:   0%|          | 0/36.0 [00:00<00:09,  3.63it/s] \u001b[A\u001b[A\u001b[A\u001b[A\n",
      "\n",
      "\n",
      "\n",
      "Training Steps: 100%|██████████| 36/36.0 [00:00<00:00,  3.63it/s]\u001b[A\u001b[A\u001b[A\u001b[A\n",
      "\n",
      "\n",
      "Training Epochs:  25%|██▌       | 5/20 [00:00<00:03,  4.46it/s]\u001b[A\u001b[A\u001b[A\n",
      "\n",
      "\n",
      "\n",
      "Training Steps:   0%|          | 0/36.0 [00:00<00:09,  3.63it/s] \u001b[A\u001b[A\u001b[A\u001b[A"
     ]
    },
    {
     "name": "stdout",
     "output_type": "stream",
     "text": [
      "epoch: 05, loss: 1.159\n"
     ]
    },
    {
     "name": "stderr",
     "output_type": "stream",
     "text": [
      "\n",
      "\n",
      "\n",
      "\n",
      "Training Steps: 100%|██████████| 36/36.0 [00:00<00:00,  3.63it/s]\u001b[A\u001b[A\u001b[A\u001b[A\n",
      "\n",
      "\n",
      "\n",
      "Training Steps:   0%|          | 0/36.0 [00:00<00:09,  3.63it/s] \u001b[A\u001b[A\u001b[A\u001b[A\n",
      "\n",
      "\n",
      "\n",
      "Training Steps: 100%|██████████| 36/36.0 [00:00<00:00,  3.63it/s]\u001b[A\u001b[A\u001b[A\u001b[A\n",
      "\n",
      "\n",
      "\n",
      "Training Steps:   0%|          | 0/36.0 [00:00<00:09,  3.63it/s] \u001b[A\u001b[A\u001b[A\u001b[A\n",
      "\n",
      "\n",
      "\n",
      "Training Steps: 100%|██████████| 36/36.0 [00:00<00:00,  3.63it/s]\u001b[A\u001b[A\u001b[A\u001b[A\n",
      "\n",
      "\n",
      "\n",
      "Training Steps:   0%|          | 0/36.0 [00:00<00:09,  3.63it/s] \u001b[A\u001b[A\u001b[A\u001b[A\n",
      "\n",
      "\n",
      "\n",
      "Training Steps: 100%|██████████| 36/36.0 [00:00<00:00,  3.63it/s]\u001b[A\u001b[A\u001b[A\u001b[A\n",
      "\n",
      "\n",
      "Training Epochs:  45%|████▌     | 9/20 [00:00<00:01,  6.05it/s]\u001b[A\u001b[A\u001b[A\n",
      "\n",
      "\n",
      "\n",
      "Training Steps:   0%|          | 0/36.0 [00:00<00:09,  3.63it/s] \u001b[A\u001b[A\u001b[A\u001b[A\n",
      "\n",
      "\n",
      "\n",
      "Training Steps: 100%|██████████| 36/36.0 [00:00<00:00,  3.63it/s]\u001b[A\u001b[A\u001b[A\u001b[A\n",
      "\n",
      "\n",
      "\n",
      "Training Steps:   0%|          | 0/36.0 [00:00<00:09,  3.63it/s] \u001b[A\u001b[A\u001b[A\u001b[A"
     ]
    },
    {
     "name": "stdout",
     "output_type": "stream",
     "text": [
      "epoch: 10, loss: 1.116\n"
     ]
    },
    {
     "name": "stderr",
     "output_type": "stream",
     "text": [
      "\n",
      "\n",
      "\n",
      "\n",
      "Training Steps: 100%|██████████| 36/36.0 [00:00<00:00,  3.63it/s]\u001b[A\u001b[A\u001b[A\u001b[A\n",
      "\n",
      "\n",
      "\n",
      "Training Steps:   0%|          | 0/36.0 [00:00<00:09,  3.63it/s] \u001b[A\u001b[A\u001b[A\u001b[A\n",
      "\n",
      "\n",
      "\n",
      "Training Steps: 100%|██████████| 36/36.0 [00:00<00:00,  3.63it/s]\u001b[A\u001b[A\u001b[A\u001b[A\n",
      "\n",
      "\n",
      "\n",
      "Training Steps:   0%|          | 0/36.0 [00:00<00:09,  3.63it/s] \u001b[A\u001b[A\u001b[A\u001b[A\n",
      "\n",
      "\n",
      "\n",
      "Training Steps: 100%|██████████| 36/36.0 [00:00<00:00,  3.63it/s]\u001b[A\u001b[A\u001b[A\u001b[A\n",
      "\n",
      "\n",
      "Training Epochs:  65%|██████▌   | 13/20 [00:00<00:00,  8.04it/s]\u001b[A\u001b[A\u001b[A\n",
      "\n",
      "\n",
      "\n",
      "Training Steps:   0%|          | 0/36.0 [00:00<00:09,  3.63it/s] \u001b[A\u001b[A\u001b[A\u001b[A\n",
      "\n",
      "\n",
      "\n",
      "Training Steps: 100%|██████████| 36/36.0 [00:00<00:00,  3.63it/s]\u001b[A\u001b[A\u001b[A\u001b[A\n",
      "\n",
      "\n",
      "\n",
      "Training Steps:   0%|          | 0/36.0 [00:00<00:09,  3.63it/s] \u001b[A\u001b[A\u001b[A\u001b[A\n",
      "\n",
      "\n",
      "\n",
      "Training Steps: 100%|██████████| 36/36.0 [00:00<00:00,  3.63it/s]\u001b[A\u001b[A\u001b[A\u001b[A\n",
      "\n",
      "\n",
      "\n",
      "Training Steps:   0%|          | 0/36.0 [00:00<00:09,  3.63it/s] \u001b[A\u001b[A\u001b[A\u001b[A"
     ]
    },
    {
     "name": "stdout",
     "output_type": "stream",
     "text": [
      "epoch: 15, loss: 1.086\n"
     ]
    },
    {
     "name": "stderr",
     "output_type": "stream",
     "text": [
      "\n",
      "\n",
      "\n",
      "\n",
      "Training Steps: 100%|██████████| 36/36.0 [00:00<00:00,  3.63it/s]\u001b[A\u001b[A\u001b[A\u001b[A\n",
      "\n",
      "\n",
      "\n",
      "Training Steps:   0%|          | 0/36.0 [00:00<00:09,  3.63it/s] \u001b[A\u001b[A\u001b[A\u001b[A\n",
      "\n",
      "\n",
      "\n",
      "Training Steps: 100%|██████████| 36/36.0 [00:00<00:00,  3.63it/s]\u001b[A\u001b[A\u001b[A\u001b[A\n",
      "\n",
      "\n",
      "Training Epochs:  85%|████████▌ | 17/20 [00:00<00:00, 10.46it/s]\u001b[A\u001b[A\u001b[A\n",
      "\n",
      "\n",
      "\n",
      "Training Steps:   0%|          | 0/36.0 [00:00<00:09,  3.63it/s] \u001b[A\u001b[A\u001b[A\u001b[A\n",
      "\n",
      "\n",
      "\n",
      "Training Steps: 100%|██████████| 36/36.0 [00:00<00:00,  3.63it/s]\u001b[A\u001b[A\u001b[A\u001b[A\n",
      "\n",
      "\n",
      "\n",
      "Training Steps:   0%|          | 0/36.0 [00:00<00:09,  3.63it/s] \u001b[A\u001b[A\u001b[A\u001b[A\n",
      "\n",
      "\n",
      "\n",
      "Training Steps: 100%|██████████| 36/36.0 [00:00<00:00,  3.63it/s]\u001b[A\u001b[A\u001b[A\u001b[A\n",
      "\n",
      "\n",
      "\n",
      "Training Steps:   0%|          | 0/36.0 [00:00<00:09,  3.63it/s] \u001b[A\u001b[A\u001b[A\u001b[A\n",
      "\n",
      "\n",
      "\n",
      "Training Steps: 100%|██████████| 36/36.0 [00:00<00:00,  3.63it/s]\u001b[A\u001b[A\u001b[A\u001b[A\n",
      "\n",
      "\n",
      "\n",
      "Training Epochs: 100%|██████████| 20/20 [00:00<00:00, 23.52it/s] \n",
      "Training Steps: 100%|██████████| 36/36.0 [00:00<00:00, 970.35it/s]\n",
      " 67%|██████▋   | 12/18 [00:11<00:05,  1.05it/s]\n",
      "\n",
      "\n",
      "Training Epochs:   0%|          | 0/20 [00:00<?, ?it/s]\u001b[A\u001b[A\u001b[A\n",
      "\n",
      "\n",
      "\n",
      "Training Steps: 0it [00:00, ?it/s]\u001b[A\u001b[A\u001b[A\u001b[A\n",
      "\n",
      "\n",
      "\n",
      "Training Steps:   0%|          | 0/36.0 [00:00<?, ?it/s]\u001b[A\u001b[A\u001b[A\u001b[A"
     ]
    },
    {
     "name": "stdout",
     "output_type": "stream",
     "text": [
      "training with dropout:0.1 l2:0.001 lr:0.1\n",
      "getting initial loss\n"
     ]
    },
    {
     "name": "stderr",
     "output_type": "stream",
     "text": [
      "\n",
      "\n",
      "\n",
      "\n",
      "Training Steps:   3%|▎         | 1/36.0 [00:00<00:09,  3.78it/s]\u001b[A\u001b[A\u001b[A\u001b[A"
     ]
    },
    {
     "name": "stdout",
     "output_type": "stream",
     "text": [
      "epoch: 00, loss: 0.331\n"
     ]
    },
    {
     "name": "stderr",
     "output_type": "stream",
     "text": [
      "\n",
      "\n",
      "\n",
      "\n",
      "Training Steps: 100%|██████████| 36/36.0 [00:00<00:00,  3.78it/s]\u001b[A\u001b[A\u001b[A\u001b[A\n",
      "\n",
      "\n",
      "Training Epochs:   5%|▌         | 1/20 [00:00<00:05,  3.36it/s]\u001b[A\u001b[A\u001b[A\n",
      "\n",
      "\n",
      "\n",
      "Training Steps:   0%|          | 0/36.0 [00:00<00:09,  3.78it/s] \u001b[A\u001b[A\u001b[A\u001b[A\n",
      "\n",
      "\n",
      "\n",
      "Training Steps: 100%|██████████| 36/36.0 [00:00<00:00,  3.78it/s]\u001b[A\u001b[A\u001b[A\u001b[A\n",
      "\n",
      "\n",
      "\n",
      "Training Steps:   0%|          | 0/36.0 [00:00<00:09,  3.78it/s] \u001b[A\u001b[A\u001b[A\u001b[A\n",
      "\n",
      "\n",
      "\n",
      "Training Steps: 100%|██████████| 36/36.0 [00:00<00:00,  3.78it/s]\u001b[A\u001b[A\u001b[A\u001b[A\n",
      "\n",
      "\n",
      "\n",
      "Training Steps:   0%|          | 0/36.0 [00:00<00:09,  3.78it/s] \u001b[A\u001b[A\u001b[A\u001b[A\n",
      "\n",
      "\n",
      "\n",
      "Training Steps: 100%|██████████| 36/36.0 [00:00<00:00,  3.78it/s]\u001b[A\u001b[A\u001b[A\u001b[A\n",
      "\n",
      "\n",
      "\n",
      "Training Steps:   0%|          | 0/36.0 [00:00<00:09,  3.78it/s] \u001b[A\u001b[A\u001b[A\u001b[A\n",
      "\n",
      "\n",
      "\n",
      "Training Steps: 100%|██████████| 36/36.0 [00:00<00:00,  3.78it/s]\u001b[A\u001b[A\u001b[A\u001b[A\n",
      "\n",
      "\n",
      "Training Epochs:  25%|██▌       | 5/20 [00:00<00:03,  4.62it/s]\u001b[A\u001b[A\u001b[A\n",
      "\n",
      "\n",
      "\n",
      "Training Steps:   0%|          | 0/36.0 [00:00<00:09,  3.78it/s] \u001b[A\u001b[A\u001b[A\u001b[A"
     ]
    },
    {
     "name": "stdout",
     "output_type": "stream",
     "text": [
      "epoch: 05, loss: 0.343\n"
     ]
    },
    {
     "name": "stderr",
     "output_type": "stream",
     "text": [
      "\n",
      "\n",
      "\n",
      "\n",
      "Training Steps: 100%|██████████| 36/36.0 [00:00<00:00,  3.78it/s]\u001b[A\u001b[A\u001b[A\u001b[A\n",
      "\n",
      "\n",
      "\n",
      "Training Steps:   0%|          | 0/36.0 [00:00<00:09,  3.78it/s] \u001b[A\u001b[A\u001b[A\u001b[A\n",
      "\n",
      "\n",
      "\n",
      "Training Steps: 100%|██████████| 36/36.0 [00:00<00:00,  3.78it/s]\u001b[A\u001b[A\u001b[A\u001b[A\n",
      "\n",
      "\n",
      "\n",
      "Training Steps:   0%|          | 0/36.0 [00:00<00:09,  3.78it/s] \u001b[A\u001b[A\u001b[A\u001b[A\n",
      "\n",
      "\n",
      "\n",
      "Training Steps: 100%|██████████| 36/36.0 [00:00<00:00,  3.78it/s]\u001b[A\u001b[A\u001b[A\u001b[A\n",
      "\n",
      "\n",
      "\n",
      "Training Steps:   0%|          | 0/36.0 [00:00<00:09,  3.78it/s] \u001b[A\u001b[A\u001b[A\u001b[A\n",
      "\n",
      "\n",
      "\n",
      "Training Steps: 100%|██████████| 36/36.0 [00:00<00:00,  3.78it/s]\u001b[A\u001b[A\u001b[A\u001b[A\n",
      "\n",
      "\n",
      "Training Epochs:  45%|████▌     | 9/20 [00:00<00:01,  6.26it/s]\u001b[A\u001b[A\u001b[A\n",
      "\n",
      "\n",
      "\n",
      "Training Steps:   0%|          | 0/36.0 [00:00<00:09,  3.78it/s] \u001b[A\u001b[A\u001b[A\u001b[A\n",
      "\n",
      "\n",
      "\n",
      "Training Steps: 100%|██████████| 36/36.0 [00:00<00:00,  3.78it/s]\u001b[A\u001b[A\u001b[A\u001b[A\n",
      "\n",
      "\n",
      "\n",
      "Training Steps:   0%|          | 0/36.0 [00:00<00:09,  3.78it/s] \u001b[A\u001b[A\u001b[A\u001b[A"
     ]
    },
    {
     "name": "stdout",
     "output_type": "stream",
     "text": [
      "epoch: 10, loss: 0.331\n"
     ]
    },
    {
     "name": "stderr",
     "output_type": "stream",
     "text": [
      "\n",
      "\n",
      "\n",
      "\n",
      "Training Steps: 100%|██████████| 36/36.0 [00:00<00:00,  3.78it/s]\u001b[A\u001b[A\u001b[A\u001b[A\n",
      "\n",
      "\n",
      "\n",
      "Training Steps:   0%|          | 0/36.0 [00:00<00:09,  3.78it/s] \u001b[A\u001b[A\u001b[A\u001b[A\n",
      "\n",
      "\n",
      "\n",
      "Training Steps: 100%|██████████| 36/36.0 [00:00<00:00,  3.78it/s]\u001b[A\u001b[A\u001b[A\u001b[A\n",
      "\n",
      "\n",
      "\n",
      "Training Steps:   0%|          | 0/36.0 [00:00<00:09,  3.78it/s] \u001b[A\u001b[A\u001b[A\u001b[A\n",
      "\n",
      "\n",
      "\n",
      "Training Steps: 100%|██████████| 36/36.0 [00:00<00:00,  3.78it/s]\u001b[A\u001b[A\u001b[A\u001b[A\n",
      "\n",
      "\n",
      "Training Epochs:  65%|██████▌   | 13/20 [00:00<00:00,  8.32it/s]\u001b[A\u001b[A\u001b[A\n",
      "\n",
      "\n",
      "\n",
      "Training Steps:   0%|          | 0/36.0 [00:00<00:09,  3.78it/s] \u001b[A\u001b[A\u001b[A\u001b[A\n",
      "\n",
      "\n",
      "\n",
      "Training Steps: 100%|██████████| 36/36.0 [00:00<00:00,  3.78it/s]\u001b[A\u001b[A\u001b[A\u001b[A\n",
      "\n",
      "\n",
      "\n",
      "Training Steps:   0%|          | 0/36.0 [00:00<00:09,  3.78it/s] \u001b[A\u001b[A\u001b[A\u001b[A\n",
      "\n",
      "\n",
      "\n",
      "Training Steps: 100%|██████████| 36/36.0 [00:00<00:00,  3.78it/s]\u001b[A\u001b[A\u001b[A\u001b[A\n",
      "\n",
      "\n",
      "\n",
      "Training Steps:   0%|          | 0/36.0 [00:00<00:09,  3.78it/s] \u001b[A\u001b[A\u001b[A\u001b[A"
     ]
    },
    {
     "name": "stdout",
     "output_type": "stream",
     "text": [
      "epoch: 15, loss: 0.333\n"
     ]
    },
    {
     "name": "stderr",
     "output_type": "stream",
     "text": [
      "\n",
      "\n",
      "\n",
      "\n",
      "Training Steps: 100%|██████████| 36/36.0 [00:00<00:00,  3.78it/s]\u001b[A\u001b[A\u001b[A\u001b[A\n",
      "\n",
      "\n",
      "\n",
      "Training Steps:   0%|          | 0/36.0 [00:00<00:09,  3.78it/s] \u001b[A\u001b[A\u001b[A\u001b[A\n",
      "\n",
      "\n",
      "\n",
      "Training Steps: 100%|██████████| 36/36.0 [00:00<00:00,  3.78it/s]\u001b[A\u001b[A\u001b[A\u001b[A\n",
      "\n",
      "\n",
      "Training Epochs:  85%|████████▌ | 17/20 [00:00<00:00, 10.70it/s]\u001b[A\u001b[A\u001b[A\n",
      "\n",
      "\n",
      "\n",
      "Training Steps:   0%|          | 0/36.0 [00:00<00:09,  3.78it/s] \u001b[A\u001b[A\u001b[A\u001b[A\n",
      "\n",
      "\n",
      "\n",
      "Training Steps: 100%|██████████| 36/36.0 [00:00<00:00,  3.78it/s]\u001b[A\u001b[A\u001b[A\u001b[A\n",
      "\n",
      "\n",
      "\n",
      "Training Steps:   0%|          | 0/36.0 [00:00<00:09,  3.78it/s] \u001b[A\u001b[A\u001b[A\u001b[A\n",
      "\n",
      "\n",
      "\n",
      "Training Steps: 100%|██████████| 36/36.0 [00:00<00:00,  3.78it/s]\u001b[A\u001b[A\u001b[A\u001b[A\n",
      "\n",
      "\n",
      "\n",
      "Training Steps:   0%|          | 0/36.0 [00:00<00:09,  3.78it/s] \u001b[A\u001b[A\u001b[A\u001b[A\n",
      "\n",
      "\n",
      "\n",
      "Training Steps: 100%|██████████| 36/36.0 [00:00<00:00,  3.78it/s]\u001b[A\u001b[A\u001b[A\u001b[A\n",
      "\n",
      "\n",
      "\n",
      "Training Epochs: 100%|██████████| 20/20 [00:00<00:00, 23.60it/s] \n",
      "Training Steps: 100%|██████████| 36/36.0 [00:00<00:00, 908.29it/s]\n",
      " 72%|███████▏  | 13/18 [00:12<00:04,  1.06it/s]\n",
      "\n",
      "\n"
     ]
    },
    {
     "name": "stdout",
     "output_type": "stream",
     "text": [
      "training with dropout:0.1 l2:0.001 lr:0.01\n",
      "getting initial loss\n"
     ]
    },
    {
     "name": "stderr",
     "output_type": "stream",
     "text": [
      "Training Epochs:   0%|          | 0/20 [00:00<?, ?it/s]\u001b[A\u001b[A\u001b[A\n",
      "\n",
      "\n",
      "\n",
      "Training Steps: 0it [00:00, ?it/s]\u001b[A\u001b[A\u001b[A\u001b[A\n",
      "\n",
      "\n",
      "\n",
      "Training Steps:   0%|          | 0/36.0 [00:00<?, ?it/s]\u001b[A\u001b[A\u001b[A\u001b[A\n",
      "\n",
      "\n",
      "\n",
      "Training Steps:   3%|▎         | 1/36.0 [00:00<00:10,  3.44it/s]\u001b[A\u001b[A\u001b[A\u001b[A"
     ]
    },
    {
     "name": "stdout",
     "output_type": "stream",
     "text": [
      "epoch: 00, loss: 0.960\n"
     ]
    },
    {
     "name": "stderr",
     "output_type": "stream",
     "text": [
      "\n",
      "\n",
      "\n",
      "\n",
      "Training Steps: 100%|██████████| 36/36.0 [00:00<00:00,  3.44it/s]\u001b[A\u001b[A\u001b[A\u001b[A\n",
      "\n",
      "\n",
      "Training Epochs:   5%|▌         | 1/20 [00:00<00:06,  3.12it/s]\u001b[A\u001b[A\u001b[A\n",
      "\n",
      "\n",
      "\n",
      "Training Steps:   0%|          | 0/36.0 [00:00<00:10,  3.44it/s] \u001b[A\u001b[A\u001b[A\u001b[A\n",
      "\n",
      "\n",
      "\n",
      "Training Steps: 100%|██████████| 36/36.0 [00:00<00:00,  3.44it/s]\u001b[A\u001b[A\u001b[A\u001b[A\n",
      "\n",
      "\n",
      "\n",
      "Training Steps:   0%|          | 0/36.0 [00:00<00:10,  3.44it/s] \u001b[A\u001b[A\u001b[A\u001b[A\n",
      "\n",
      "\n",
      "\n",
      "Training Steps: 100%|██████████| 36/36.0 [00:00<00:00,  3.44it/s]\u001b[A\u001b[A\u001b[A\u001b[A\n",
      "\n",
      "\n",
      "\n",
      "Training Steps:   0%|          | 0/36.0 [00:00<00:10,  3.44it/s] \u001b[A\u001b[A\u001b[A\u001b[A\n",
      "\n",
      "\n",
      "\n",
      "Training Steps: 100%|██████████| 36/36.0 [00:00<00:00,  3.44it/s]\u001b[A\u001b[A\u001b[A\u001b[A\n",
      "\n",
      "\n",
      "\n",
      "Training Steps:   0%|          | 0/36.0 [00:00<00:10,  3.44it/s] \u001b[A\u001b[A\u001b[A\u001b[A\n",
      "\n",
      "\n",
      "\n",
      "Training Steps: 100%|██████████| 36/36.0 [00:00<00:00,  3.44it/s]\u001b[A\u001b[A\u001b[A\u001b[A\n",
      "\n",
      "\n",
      "Training Epochs:  25%|██▌       | 5/20 [00:00<00:03,  4.30it/s]\u001b[A\u001b[A\u001b[A\n",
      "\n",
      "\n",
      "\n",
      "Training Steps:   0%|          | 0/36.0 [00:00<00:10,  3.44it/s] \u001b[A\u001b[A\u001b[A\u001b[A"
     ]
    },
    {
     "name": "stdout",
     "output_type": "stream",
     "text": [
      "epoch: 05, loss: 0.378\n"
     ]
    },
    {
     "name": "stderr",
     "output_type": "stream",
     "text": [
      "\n",
      "\n",
      "\n",
      "\n",
      "Training Steps: 100%|██████████| 36/36.0 [00:00<00:00,  3.44it/s]\u001b[A\u001b[A\u001b[A\u001b[A\n",
      "\n",
      "\n",
      "\n",
      "Training Steps:   0%|          | 0/36.0 [00:00<00:10,  3.44it/s] \u001b[A\u001b[A\u001b[A\u001b[A\n",
      "\n",
      "\n",
      "\n",
      "Training Steps: 100%|██████████| 36/36.0 [00:00<00:00,  3.44it/s]\u001b[A\u001b[A\u001b[A\u001b[A\n",
      "\n",
      "\n",
      "\n",
      "Training Steps:   0%|          | 0/36.0 [00:00<00:10,  3.44it/s] \u001b[A\u001b[A\u001b[A\u001b[A\n",
      "\n",
      "\n",
      "\n",
      "Training Steps: 100%|██████████| 36/36.0 [00:00<00:00,  3.44it/s]\u001b[A\u001b[A\u001b[A\u001b[A\n",
      "\n",
      "\n",
      "\n",
      "Training Steps:   0%|          | 0/36.0 [00:00<00:10,  3.44it/s] \u001b[A\u001b[A\u001b[A\u001b[A\n",
      "\n",
      "\n",
      "\n",
      "Training Steps: 100%|██████████| 36/36.0 [00:00<00:00,  3.44it/s]\u001b[A\u001b[A\u001b[A\u001b[A\n",
      "\n",
      "\n",
      "Training Epochs:  45%|████▌     | 9/20 [00:00<00:01,  5.85it/s]\u001b[A\u001b[A\u001b[A\n",
      "\n",
      "\n",
      "\n",
      "Training Steps:   0%|          | 0/36.0 [00:00<00:10,  3.44it/s] \u001b[A\u001b[A\u001b[A\u001b[A\n",
      "\n",
      "\n",
      "\n",
      "Training Steps: 100%|██████████| 36/36.0 [00:00<00:00,  3.44it/s]\u001b[A\u001b[A\u001b[A\u001b[A\n",
      "\n",
      "\n",
      "\n",
      "Training Steps:   0%|          | 0/36.0 [00:00<00:10,  3.44it/s] \u001b[A\u001b[A\u001b[A\u001b[A"
     ]
    },
    {
     "name": "stdout",
     "output_type": "stream",
     "text": [
      "epoch: 10, loss: 0.254\n"
     ]
    },
    {
     "name": "stderr",
     "output_type": "stream",
     "text": [
      "\n",
      "\n",
      "\n",
      "\n",
      "Training Steps: 100%|██████████| 36/36.0 [00:00<00:00,  3.44it/s]\u001b[A\u001b[A\u001b[A\u001b[A\n",
      "\n",
      "\n",
      "\n",
      "Training Steps:   0%|          | 0/36.0 [00:00<00:10,  3.44it/s] \u001b[A\u001b[A\u001b[A\u001b[A\n",
      "\n",
      "\n",
      "\n",
      "Training Steps: 100%|██████████| 36/36.0 [00:00<00:00,  3.44it/s]\u001b[A\u001b[A\u001b[A\u001b[A\n",
      "\n",
      "\n",
      "\n",
      "Training Steps:   0%|          | 0/36.0 [00:00<00:10,  3.44it/s] \u001b[A\u001b[A\u001b[A\u001b[A\n",
      "\n",
      "\n",
      "\n",
      "Training Steps: 100%|██████████| 36/36.0 [00:00<00:00,  3.44it/s]\u001b[A\u001b[A\u001b[A\u001b[A\n",
      "\n",
      "\n",
      "Training Epochs:  65%|██████▌   | 13/20 [00:00<00:00,  7.78it/s]\u001b[A\u001b[A\u001b[A\n",
      "\n",
      "\n",
      "\n",
      "Training Steps:   0%|          | 0/36.0 [00:00<00:10,  3.44it/s] \u001b[A\u001b[A\u001b[A\u001b[A\n",
      "\n",
      "\n",
      "\n",
      "Training Steps: 100%|██████████| 36/36.0 [00:00<00:00,  3.44it/s]\u001b[A\u001b[A\u001b[A\u001b[A\n",
      "\n",
      "\n",
      "\n",
      "Training Steps:   0%|          | 0/36.0 [00:00<00:10,  3.44it/s] \u001b[A\u001b[A\u001b[A\u001b[A\n",
      "\n",
      "\n",
      "\n",
      "Training Steps: 100%|██████████| 36/36.0 [00:00<00:00,  3.44it/s]\u001b[A\u001b[A\u001b[A\u001b[A\n",
      "\n",
      "\n",
      "\n",
      "Training Steps:   0%|          | 0/36.0 [00:00<00:10,  3.44it/s] \u001b[A\u001b[A\u001b[A\u001b[A"
     ]
    },
    {
     "name": "stdout",
     "output_type": "stream",
     "text": [
      "epoch: 15, loss: 0.224\n"
     ]
    },
    {
     "name": "stderr",
     "output_type": "stream",
     "text": [
      "\n",
      "\n",
      "\n",
      "\n",
      "Training Steps: 100%|██████████| 36/36.0 [00:00<00:00,  3.44it/s]\u001b[A\u001b[A\u001b[A\u001b[A\n",
      "\n",
      "\n",
      "\n",
      "Training Steps:   0%|          | 0/36.0 [00:00<00:10,  3.44it/s] \u001b[A\u001b[A\u001b[A\u001b[A\n",
      "\n",
      "\n",
      "\n",
      "Training Steps: 100%|██████████| 36/36.0 [00:00<00:00,  3.44it/s]\u001b[A\u001b[A\u001b[A\u001b[A\n",
      "\n",
      "\n",
      "Training Epochs:  85%|████████▌ | 17/20 [00:00<00:00, 10.14it/s]\u001b[A\u001b[A\u001b[A\n",
      "\n",
      "\n",
      "\n",
      "Training Steps:   0%|          | 0/36.0 [00:00<00:10,  3.44it/s] \u001b[A\u001b[A\u001b[A\u001b[A\n",
      "\n",
      "\n",
      "\n",
      "Training Steps: 100%|██████████| 36/36.0 [00:00<00:00,  3.44it/s]\u001b[A\u001b[A\u001b[A\u001b[A\n",
      "\n",
      "\n",
      "\n",
      "Training Steps:   0%|          | 0/36.0 [00:00<00:10,  3.44it/s] \u001b[A\u001b[A\u001b[A\u001b[A\n",
      "\n",
      "\n",
      "\n",
      "Training Steps: 100%|██████████| 36/36.0 [00:00<00:00,  3.44it/s]\u001b[A\u001b[A\u001b[A\u001b[A\n",
      "\n",
      "\n",
      "\n",
      "Training Steps:   0%|          | 0/36.0 [00:00<00:10,  3.44it/s] \u001b[A\u001b[A\u001b[A\u001b[A\n",
      "\n",
      "\n",
      "\n",
      "Training Steps: 100%|██████████| 36/36.0 [00:00<00:00,  3.44it/s]\u001b[A\u001b[A\u001b[A\u001b[A\n",
      "\n",
      "\n",
      "\n",
      "Training Epochs: 100%|██████████| 20/20 [00:00<00:00, 22.71it/s] \n",
      "Training Steps: 100%|██████████| 36/36.0 [00:00<00:00, 847.40it/s]\n",
      " 78%|███████▊  | 14/18 [00:13<00:03,  1.06it/s]"
     ]
    },
    {
     "name": "stdout",
     "output_type": "stream",
     "text": [
      "training with dropout:0.1 l2:0.001 lr:0.0001\n"
     ]
    },
    {
     "name": "stderr",
     "output_type": "stream",
     "text": [
      "\n",
      "\n",
      "\n",
      "Training Epochs:   0%|          | 0/20 [00:00<?, ?it/s]\u001b[A\u001b[A\u001b[A\n",
      "\n",
      "\n",
      "\n",
      "Training Steps: 0it [00:00, ?it/s]\u001b[A\u001b[A\u001b[A\u001b[A\n",
      "\n",
      "\n",
      "\n",
      "Training Steps:   0%|          | 0/36.0 [00:00<?, ?it/s]\u001b[A\u001b[A\u001b[A\u001b[A"
     ]
    },
    {
     "name": "stdout",
     "output_type": "stream",
     "text": [
      "getting initial loss\n"
     ]
    },
    {
     "name": "stderr",
     "output_type": "stream",
     "text": [
      "\n",
      "\n",
      "\n",
      "\n",
      "Training Steps:   3%|▎         | 1/36.0 [00:00<00:11,  3.17it/s]\u001b[A\u001b[A\u001b[A\u001b[A"
     ]
    },
    {
     "name": "stdout",
     "output_type": "stream",
     "text": [
      "epoch: 00, loss: 1.295\n"
     ]
    },
    {
     "name": "stderr",
     "output_type": "stream",
     "text": [
      "\n",
      "\n",
      "\n",
      "\n",
      "Training Steps: 100%|██████████| 36/36.0 [00:00<00:00,  3.17it/s]\u001b[A\u001b[A\u001b[A\u001b[A\n",
      "\n",
      "\n",
      "Training Epochs:   5%|▌         | 1/20 [00:00<00:06,  2.91it/s]\u001b[A\u001b[A\u001b[A\n",
      "\n",
      "\n",
      "\n",
      "Training Steps:   0%|          | 0/36.0 [00:00<00:11,  3.17it/s] \u001b[A\u001b[A\u001b[A\u001b[A\n",
      "\n",
      "\n",
      "\n",
      "Training Steps: 100%|██████████| 36/36.0 [00:00<00:00,  3.17it/s]\u001b[A\u001b[A\u001b[A\u001b[A\n",
      "\n",
      "\n",
      "\n",
      "Training Steps:   0%|          | 0/36.0 [00:00<00:11,  3.17it/s] \u001b[A\u001b[A\u001b[A\u001b[A\n",
      "\n",
      "\n",
      "\n",
      "Training Steps: 100%|██████████| 36/36.0 [00:00<00:00,  3.17it/s]\u001b[A\u001b[A\u001b[A\u001b[A\n",
      "\n",
      "\n",
      "\n",
      "Training Steps:   0%|          | 0/36.0 [00:00<00:11,  3.17it/s] \u001b[A\u001b[A\u001b[A\u001b[A\n",
      "\n",
      "\n",
      "\n",
      "Training Steps: 100%|██████████| 36/36.0 [00:00<00:00,  3.17it/s]\u001b[A\u001b[A\u001b[A\u001b[A\n",
      "\n",
      "\n",
      "\n",
      "Training Steps:   0%|          | 0/36.0 [00:00<00:11,  3.17it/s] \u001b[A\u001b[A\u001b[A\u001b[A\n",
      "\n",
      "\n",
      "\n",
      "Training Steps: 100%|██████████| 36/36.0 [00:00<00:00,  3.17it/s]\u001b[A\u001b[A\u001b[A\u001b[A\n",
      "\n",
      "\n",
      "Training Epochs:  25%|██▌       | 5/20 [00:00<00:03,  4.02it/s]\u001b[A\u001b[A\u001b[A\n",
      "\n",
      "\n",
      "\n",
      "Training Steps:   0%|          | 0/36.0 [00:00<00:11,  3.17it/s] \u001b[A\u001b[A\u001b[A\u001b[A"
     ]
    },
    {
     "name": "stdout",
     "output_type": "stream",
     "text": [
      "epoch: 05, loss: 1.234\n"
     ]
    },
    {
     "name": "stderr",
     "output_type": "stream",
     "text": [
      "\n",
      "\n",
      "\n",
      "\n",
      "Training Steps: 100%|██████████| 36/36.0 [00:00<00:00,  3.17it/s]\u001b[A\u001b[A\u001b[A\u001b[A\n",
      "\n",
      "\n",
      "\n",
      "Training Steps:   0%|          | 0/36.0 [00:00<00:11,  3.17it/s] \u001b[A\u001b[A\u001b[A\u001b[A\n",
      "\n",
      "\n",
      "\n",
      "Training Steps: 100%|██████████| 36/36.0 [00:00<00:00,  3.17it/s]\u001b[A\u001b[A\u001b[A\u001b[A\n",
      "\n",
      "\n",
      "\n",
      "Training Steps:   0%|          | 0/36.0 [00:00<00:11,  3.17it/s] \u001b[A\u001b[A\u001b[A\u001b[A\n",
      "\n",
      "\n",
      "\n",
      "Training Steps: 100%|██████████| 36/36.0 [00:00<00:00,  3.17it/s]\u001b[A\u001b[A\u001b[A\u001b[A\n",
      "\n",
      "\n",
      "\n",
      "Training Steps:   0%|          | 0/36.0 [00:00<00:11,  3.17it/s] \u001b[A\u001b[A\u001b[A\u001b[A\n",
      "\n",
      "\n",
      "\n",
      "Training Steps: 100%|██████████| 36/36.0 [00:00<00:00,  3.17it/s]\u001b[A\u001b[A\u001b[A\u001b[A\n",
      "\n",
      "\n",
      "Training Epochs:  45%|████▌     | 9/20 [00:00<00:02,  5.49it/s]\u001b[A\u001b[A\u001b[A\n",
      "\n",
      "\n",
      "\n",
      "Training Steps:   0%|          | 0/36.0 [00:00<00:11,  3.17it/s] \u001b[A\u001b[A\u001b[A\u001b[A\n",
      "\n",
      "\n",
      "\n",
      "Training Steps: 100%|██████████| 36/36.0 [00:00<00:00,  3.17it/s]\u001b[A\u001b[A\u001b[A\u001b[A\n",
      "\n",
      "\n",
      "\n",
      "Training Steps:   0%|          | 0/36.0 [00:00<00:11,  3.17it/s] \u001b[A\u001b[A\u001b[A\u001b[A"
     ]
    },
    {
     "name": "stdout",
     "output_type": "stream",
     "text": [
      "epoch: 10, loss: 1.196\n"
     ]
    },
    {
     "name": "stderr",
     "output_type": "stream",
     "text": [
      "\n",
      "\n",
      "\n",
      "\n",
      "Training Steps: 100%|██████████| 36/36.0 [00:00<00:00,  3.17it/s]\u001b[A\u001b[A\u001b[A\u001b[A\n",
      "\n",
      "\n",
      "\n",
      "Training Steps:   0%|          | 0/36.0 [00:00<00:11,  3.17it/s] \u001b[A\u001b[A\u001b[A\u001b[A\n",
      "\n",
      "\n",
      "\n",
      "Training Steps: 100%|██████████| 36/36.0 [00:00<00:00,  3.17it/s]\u001b[A\u001b[A\u001b[A\u001b[A\n",
      "\n",
      "\n",
      "\n",
      "Training Steps:   0%|          | 0/36.0 [00:00<00:11,  3.17it/s] \u001b[A\u001b[A\u001b[A\u001b[A\n",
      "\n",
      "\n",
      "\n",
      "Training Steps: 100%|██████████| 36/36.0 [00:00<00:00,  3.17it/s]\u001b[A\u001b[A\u001b[A\u001b[A\n",
      "\n",
      "\n",
      "Training Epochs:  65%|██████▌   | 13/20 [00:00<00:00,  7.37it/s]\u001b[A\u001b[A\u001b[A\n",
      "\n",
      "\n",
      "\n",
      "Training Steps:   0%|          | 0/36.0 [00:00<00:11,  3.17it/s] \u001b[A\u001b[A\u001b[A\u001b[A\n",
      "\n",
      "\n",
      "\n",
      "Training Steps: 100%|██████████| 36/36.0 [00:00<00:00,  3.17it/s]\u001b[A\u001b[A\u001b[A\u001b[A\n",
      "\n",
      "\n",
      "\n",
      "Training Steps:   0%|          | 0/36.0 [00:00<00:11,  3.17it/s] \u001b[A\u001b[A\u001b[A\u001b[A\n",
      "\n",
      "\n",
      "\n",
      "Training Steps: 100%|██████████| 36/36.0 [00:00<00:00,  3.17it/s]\u001b[A\u001b[A\u001b[A\u001b[A\n",
      "\n",
      "\n",
      "\n",
      "Training Steps:   0%|          | 0/36.0 [00:00<00:11,  3.17it/s] \u001b[A\u001b[A\u001b[A\u001b[A"
     ]
    },
    {
     "name": "stdout",
     "output_type": "stream",
     "text": [
      "epoch: 15, loss: 1.169\n"
     ]
    },
    {
     "name": "stderr",
     "output_type": "stream",
     "text": [
      "\n",
      "\n",
      "\n",
      "\n",
      "Training Steps: 100%|██████████| 36/36.0 [00:00<00:00,  3.17it/s]\u001b[A\u001b[A\u001b[A\u001b[A\n",
      "\n",
      "\n",
      "\n",
      "Training Steps:   0%|          | 0/36.0 [00:00<00:11,  3.17it/s] \u001b[A\u001b[A\u001b[A\u001b[A\n",
      "\n",
      "\n",
      "\n",
      "Training Steps: 100%|██████████| 36/36.0 [00:00<00:00,  3.17it/s]\u001b[A\u001b[A\u001b[A\u001b[A\n",
      "\n",
      "\n",
      "Training Epochs:  85%|████████▌ | 17/20 [00:00<00:00,  9.65it/s]\u001b[A\u001b[A\u001b[A\n",
      "\n",
      "\n",
      "\n",
      "Training Steps:   0%|          | 0/36.0 [00:00<00:11,  3.17it/s] \u001b[A\u001b[A\u001b[A\u001b[A\n",
      "\n",
      "\n",
      "\n",
      "Training Steps: 100%|██████████| 36/36.0 [00:00<00:00,  3.17it/s]\u001b[A\u001b[A\u001b[A\u001b[A\n",
      "\n",
      "\n",
      "\n",
      "Training Steps:   0%|          | 0/36.0 [00:00<00:11,  3.17it/s] \u001b[A\u001b[A\u001b[A\u001b[A\n",
      "\n",
      "\n",
      "\n",
      "Training Steps: 100%|██████████| 36/36.0 [00:00<00:00,  3.17it/s]\u001b[A\u001b[A\u001b[A\u001b[A\n",
      "\n",
      "\n",
      "\n",
      "Training Steps:   0%|          | 0/36.0 [00:00<00:11,  3.17it/s] \u001b[A\u001b[A\u001b[A\u001b[A\n",
      "\n",
      "\n",
      "\n",
      "Training Steps: 100%|██████████| 36/36.0 [00:00<00:00,  3.17it/s]\u001b[A\u001b[A\u001b[A\u001b[A\n",
      "\n",
      "\n",
      "\n",
      "Training Epochs: 100%|██████████| 20/20 [00:00<00:00, 22.35it/s] \n",
      "Training Steps: 100%|██████████| 36/36.0 [00:00<00:00, 982.89it/s]\n",
      " 83%|████████▎ | 15/18 [00:14<00:02,  1.05it/s]"
     ]
    },
    {
     "name": "stdout",
     "output_type": "stream",
     "text": [
      "training with dropout:0.1 l2:1e-06 lr:0.1\n"
     ]
    },
    {
     "name": "stderr",
     "output_type": "stream",
     "text": [
      "\n",
      "\n",
      "\n",
      "Training Epochs:   0%|          | 0/20 [00:00<?, ?it/s]\u001b[A\u001b[A\u001b[A\n",
      "\n",
      "\n",
      "\n",
      "Training Steps: 0it [00:00, ?it/s]\u001b[A\u001b[A\u001b[A\u001b[A\n",
      "\n",
      "\n",
      "\n",
      "Training Steps:   0%|          | 0/36.0 [00:00<?, ?it/s]\u001b[A\u001b[A\u001b[A\u001b[A"
     ]
    },
    {
     "name": "stdout",
     "output_type": "stream",
     "text": [
      "getting initial loss\n"
     ]
    },
    {
     "name": "stderr",
     "output_type": "stream",
     "text": [
      "\n",
      "\n",
      "\n",
      "\n",
      "Training Steps:   3%|▎         | 1/36.0 [00:00<00:09,  3.50it/s]\u001b[A\u001b[A\u001b[A\u001b[A"
     ]
    },
    {
     "name": "stdout",
     "output_type": "stream",
     "text": [
      "epoch: 00, loss: 0.390\n"
     ]
    },
    {
     "name": "stderr",
     "output_type": "stream",
     "text": [
      "\n",
      "\n",
      "\n",
      "\n",
      "Training Steps: 100%|██████████| 36/36.0 [00:00<00:00,  3.50it/s]\u001b[A\u001b[A\u001b[A\u001b[A\n",
      "\n",
      "\n",
      "Training Epochs:   5%|▌         | 1/20 [00:00<00:05,  3.17it/s]\u001b[A\u001b[A\u001b[A\n",
      "\n",
      "\n",
      "\n",
      "Training Steps:   0%|          | 0/36.0 [00:00<00:10,  3.50it/s] \u001b[A\u001b[A\u001b[A\u001b[A\n",
      "\n",
      "\n",
      "\n",
      "Training Steps: 100%|██████████| 36/36.0 [00:00<00:00,  3.50it/s]\u001b[A\u001b[A\u001b[A\u001b[A\n",
      "\n",
      "\n",
      "\n",
      "Training Steps:   0%|          | 0/36.0 [00:00<00:10,  3.50it/s] \u001b[A\u001b[A\u001b[A\u001b[A\n",
      "\n",
      "\n",
      "\n",
      "Training Steps: 100%|██████████| 36/36.0 [00:00<00:00,  3.50it/s]\u001b[A\u001b[A\u001b[A\u001b[A\n",
      "\n",
      "\n",
      "\n",
      "Training Steps:   0%|          | 0/36.0 [00:00<00:10,  3.50it/s] \u001b[A\u001b[A\u001b[A\u001b[A\n",
      "\n",
      "\n",
      "\n",
      "Training Steps: 100%|██████████| 36/36.0 [00:00<00:00,  3.50it/s]\u001b[A\u001b[A\u001b[A\u001b[A\n",
      "\n",
      "\n",
      "\n",
      "Training Steps:   0%|          | 0/36.0 [00:00<00:10,  3.50it/s] \u001b[A\u001b[A\u001b[A\u001b[A\n",
      "\n",
      "\n",
      "\n",
      "Training Steps: 100%|██████████| 36/36.0 [00:00<00:00,  3.50it/s]\u001b[A\u001b[A\u001b[A\u001b[A\n",
      "\n",
      "\n",
      "Training Epochs:  25%|██▌       | 5/20 [00:00<00:03,  4.37it/s]\u001b[A\u001b[A\u001b[A\n",
      "\n",
      "\n",
      "\n",
      "Training Steps:   0%|          | 0/36.0 [00:00<00:10,  3.50it/s] \u001b[A\u001b[A\u001b[A\u001b[A"
     ]
    },
    {
     "name": "stdout",
     "output_type": "stream",
     "text": [
      "epoch: 05, loss: 0.337\n"
     ]
    },
    {
     "name": "stderr",
     "output_type": "stream",
     "text": [
      "\n",
      "\n",
      "\n",
      "\n",
      "Training Steps: 100%|██████████| 36/36.0 [00:00<00:00,  3.50it/s]\u001b[A\u001b[A\u001b[A\u001b[A\n",
      "\n",
      "\n",
      "\n",
      "Training Steps:   0%|          | 0/36.0 [00:00<00:10,  3.50it/s] \u001b[A\u001b[A\u001b[A\u001b[A\n",
      "\n",
      "\n",
      "\n",
      "Training Steps: 100%|██████████| 36/36.0 [00:00<00:00,  3.50it/s]\u001b[A\u001b[A\u001b[A\u001b[A\n",
      "\n",
      "\n",
      "\n",
      "Training Steps:   0%|          | 0/36.0 [00:00<00:10,  3.50it/s] \u001b[A\u001b[A\u001b[A\u001b[A\n",
      "\n",
      "\n",
      "\n",
      "Training Steps: 100%|██████████| 36/36.0 [00:00<00:00,  3.50it/s]\u001b[A\u001b[A\u001b[A\u001b[A\n",
      "\n",
      "\n",
      "\n",
      "Training Steps:   0%|          | 0/36.0 [00:00<00:10,  3.50it/s] \u001b[A\u001b[A\u001b[A\u001b[A\n",
      "\n",
      "\n",
      "\n",
      "Training Steps: 100%|██████████| 36/36.0 [00:00<00:00,  3.50it/s]\u001b[A\u001b[A\u001b[A\u001b[A\n",
      "\n",
      "\n",
      "Training Epochs:  45%|████▌     | 9/20 [00:00<00:01,  5.93it/s]\u001b[A\u001b[A\u001b[A\n",
      "\n",
      "\n",
      "\n",
      "Training Steps:   0%|          | 0/36.0 [00:00<00:10,  3.50it/s] \u001b[A\u001b[A\u001b[A\u001b[A\n",
      "\n",
      "\n",
      "\n",
      "Training Steps: 100%|██████████| 36/36.0 [00:00<00:00,  3.50it/s]\u001b[A\u001b[A\u001b[A\u001b[A\n",
      "\n",
      "\n",
      "\n",
      "Training Steps:   0%|          | 0/36.0 [00:00<00:10,  3.50it/s] \u001b[A\u001b[A\u001b[A\u001b[A"
     ]
    },
    {
     "name": "stdout",
     "output_type": "stream",
     "text": [
      "epoch: 10, loss: 0.362\n"
     ]
    },
    {
     "name": "stderr",
     "output_type": "stream",
     "text": [
      "\n",
      "\n",
      "\n",
      "\n",
      "Training Steps: 100%|██████████| 36/36.0 [00:00<00:00,  3.50it/s]\u001b[A\u001b[A\u001b[A\u001b[A\n",
      "\n",
      "\n",
      "\n",
      "Training Steps:   0%|          | 0/36.0 [00:00<00:10,  3.50it/s] \u001b[A\u001b[A\u001b[A\u001b[A\n",
      "\n",
      "\n",
      "\n",
      "Training Steps: 100%|██████████| 36/36.0 [00:00<00:00,  3.50it/s]\u001b[A\u001b[A\u001b[A\u001b[A\n",
      "\n",
      "\n",
      "\n",
      "Training Steps:   0%|          | 0/36.0 [00:00<00:10,  3.50it/s] \u001b[A\u001b[A\u001b[A\u001b[A\n",
      "\n",
      "\n",
      "\n",
      "Training Steps: 100%|██████████| 36/36.0 [00:00<00:00,  3.50it/s]\u001b[A\u001b[A\u001b[A\u001b[A\n",
      "\n",
      "\n",
      "Training Epochs:  65%|██████▌   | 13/20 [00:00<00:00,  7.88it/s]\u001b[A\u001b[A\u001b[A\n",
      "\n",
      "\n",
      "\n",
      "Training Steps:   0%|          | 0/36.0 [00:00<00:10,  3.50it/s] \u001b[A\u001b[A\u001b[A\u001b[A\n",
      "\n",
      "\n",
      "\n",
      "Training Steps: 100%|██████████| 36/36.0 [00:00<00:00,  3.50it/s]\u001b[A\u001b[A\u001b[A\u001b[A\n",
      "\n",
      "\n",
      "\n",
      "Training Steps:   0%|          | 0/36.0 [00:00<00:10,  3.50it/s] \u001b[A\u001b[A\u001b[A\u001b[A\n",
      "\n",
      "\n",
      "\n",
      "Training Steps: 100%|██████████| 36/36.0 [00:00<00:00,  3.50it/s]\u001b[A\u001b[A\u001b[A\u001b[A\n",
      "\n",
      "\n",
      "\n",
      "Training Steps:   0%|          | 0/36.0 [00:00<00:10,  3.50it/s] \u001b[A\u001b[A\u001b[A\u001b[A"
     ]
    },
    {
     "name": "stdout",
     "output_type": "stream",
     "text": [
      "epoch: 15, loss: 0.428\n"
     ]
    },
    {
     "name": "stderr",
     "output_type": "stream",
     "text": [
      "\n",
      "\n",
      "\n",
      "\n",
      "Training Steps: 100%|██████████| 36/36.0 [00:00<00:00,  3.50it/s]\u001b[A\u001b[A\u001b[A\u001b[A\n",
      "\n",
      "\n",
      "\n",
      "Training Steps:   0%|          | 0/36.0 [00:00<00:10,  3.50it/s] \u001b[A\u001b[A\u001b[A\u001b[A\n",
      "\n",
      "\n",
      "\n",
      "Training Steps: 100%|██████████| 36/36.0 [00:00<00:00,  3.50it/s]\u001b[A\u001b[A\u001b[A\u001b[A\n",
      "\n",
      "\n",
      "Training Epochs:  85%|████████▌ | 17/20 [00:00<00:00, 10.29it/s]\u001b[A\u001b[A\u001b[A\n",
      "\n",
      "\n",
      "\n",
      "Training Steps:   0%|          | 0/36.0 [00:00<00:10,  3.50it/s] \u001b[A\u001b[A\u001b[A\u001b[A\n",
      "\n",
      "\n",
      "\n",
      "Training Steps: 100%|██████████| 36/36.0 [00:00<00:00,  3.50it/s]\u001b[A\u001b[A\u001b[A\u001b[A\n",
      "\n",
      "\n",
      "\n",
      "Training Steps:   0%|          | 0/36.0 [00:00<00:10,  3.50it/s] \u001b[A\u001b[A\u001b[A\u001b[A\n",
      "\n",
      "\n",
      "\n",
      "Training Steps: 100%|██████████| 36/36.0 [00:00<00:00,  3.50it/s]\u001b[A\u001b[A\u001b[A\u001b[A\n",
      "\n",
      "\n",
      "\n",
      "Training Steps:   0%|          | 0/36.0 [00:00<00:10,  3.50it/s] \u001b[A\u001b[A\u001b[A\u001b[A\n",
      "\n",
      "\n",
      "\n",
      "Training Steps: 100%|██████████| 36/36.0 [00:00<00:00,  3.50it/s]\u001b[A\u001b[A\u001b[A\u001b[A\n",
      "\n",
      "\n",
      "\n",
      "Training Epochs: 100%|██████████| 20/20 [00:00<00:00, 23.20it/s] \n",
      "Training Steps: 100%|██████████| 36/36.0 [00:00<00:00, 937.04it/s]\n",
      " 89%|████████▉ | 16/18 [00:15<00:01,  1.06it/s]"
     ]
    },
    {
     "name": "stdout",
     "output_type": "stream",
     "text": [
      "training with dropout:0.1 l2:1e-06 lr:0.01\n",
      "getting initial loss\n"
     ]
    },
    {
     "name": "stderr",
     "output_type": "stream",
     "text": [
      "\n",
      "\n",
      "\n",
      "Training Epochs:   0%|          | 0/20 [00:00<?, ?it/s]\u001b[A\u001b[A\u001b[A\n",
      "\n",
      "\n",
      "\n",
      "Training Steps: 0it [00:00, ?it/s]\u001b[A\u001b[A\u001b[A\u001b[A\n",
      "\n",
      "\n",
      "\n",
      "Training Steps:   0%|          | 0/36.0 [00:00<?, ?it/s]\u001b[A\u001b[A\u001b[A\u001b[A\n",
      "\n",
      "\n",
      "\n",
      "Training Steps:   3%|▎         | 1/36.0 [00:00<00:09,  3.67it/s]\u001b[A\u001b[A\u001b[A\u001b[A"
     ]
    },
    {
     "name": "stdout",
     "output_type": "stream",
     "text": [
      "epoch: 00, loss: 1.003\n"
     ]
    },
    {
     "name": "stderr",
     "output_type": "stream",
     "text": [
      "\n",
      "\n",
      "\n",
      "\n",
      "Training Steps: 100%|██████████| 36/36.0 [00:00<00:00,  3.67it/s]\u001b[A\u001b[A\u001b[A\u001b[A\n",
      "\n",
      "\n",
      "Training Epochs:   5%|▌         | 1/20 [00:00<00:05,  3.29it/s]\u001b[A\u001b[A\u001b[A\n",
      "\n",
      "\n",
      "\n",
      "Training Steps:   0%|          | 0/36.0 [00:00<00:09,  3.67it/s] \u001b[A\u001b[A\u001b[A\u001b[A\n",
      "\n",
      "\n",
      "\n",
      "Training Steps: 100%|██████████| 36/36.0 [00:00<00:00,  3.67it/s]\u001b[A\u001b[A\u001b[A\u001b[A\n",
      "\n",
      "\n",
      "\n",
      "Training Steps:   0%|          | 0/36.0 [00:00<00:09,  3.67it/s] \u001b[A\u001b[A\u001b[A\u001b[A\n",
      "\n",
      "\n",
      "\n",
      "Training Steps: 100%|██████████| 36/36.0 [00:00<00:00,  3.67it/s]\u001b[A\u001b[A\u001b[A\u001b[A\n",
      "\n",
      "\n",
      "\n",
      "Training Steps:   0%|          | 0/36.0 [00:00<00:09,  3.67it/s] \u001b[A\u001b[A\u001b[A\u001b[A\n",
      "\n",
      "\n",
      "\n",
      "Training Steps: 100%|██████████| 36/36.0 [00:00<00:00,  3.67it/s]\u001b[A\u001b[A\u001b[A\u001b[A\n",
      "\n",
      "\n",
      "\n",
      "Training Steps:   0%|          | 0/36.0 [00:00<00:09,  3.67it/s] \u001b[A\u001b[A\u001b[A\u001b[A\n",
      "\n",
      "\n",
      "\n",
      "Training Steps: 100%|██████████| 36/36.0 [00:00<00:00,  3.67it/s]\u001b[A\u001b[A\u001b[A\u001b[A\n",
      "\n",
      "\n",
      "Training Epochs:  25%|██▌       | 5/20 [00:00<00:03,  4.52it/s]\u001b[A\u001b[A\u001b[A\n",
      "\n",
      "\n",
      "\n",
      "Training Steps:   0%|          | 0/36.0 [00:00<00:09,  3.67it/s] \u001b[A\u001b[A\u001b[A\u001b[A"
     ]
    },
    {
     "name": "stdout",
     "output_type": "stream",
     "text": [
      "epoch: 05, loss: 0.480\n"
     ]
    },
    {
     "name": "stderr",
     "output_type": "stream",
     "text": [
      "\n",
      "\n",
      "\n",
      "\n",
      "Training Steps: 100%|██████████| 36/36.0 [00:00<00:00,  3.67it/s]\u001b[A\u001b[A\u001b[A\u001b[A\n",
      "\n",
      "\n",
      "\n",
      "Training Steps:   0%|          | 0/36.0 [00:00<00:09,  3.67it/s] \u001b[A\u001b[A\u001b[A\u001b[A\n",
      "\n",
      "\n",
      "\n",
      "Training Steps: 100%|██████████| 36/36.0 [00:00<00:00,  3.67it/s]\u001b[A\u001b[A\u001b[A\u001b[A\n",
      "\n",
      "\n",
      "\n",
      "Training Steps:   0%|          | 0/36.0 [00:00<00:09,  3.67it/s] \u001b[A\u001b[A\u001b[A\u001b[A\n",
      "\n",
      "\n",
      "\n",
      "Training Steps: 100%|██████████| 36/36.0 [00:00<00:00,  3.67it/s]\u001b[A\u001b[A\u001b[A\u001b[A\n",
      "\n",
      "\n",
      "\n",
      "Training Steps:   0%|          | 0/36.0 [00:00<00:09,  3.67it/s] \u001b[A\u001b[A\u001b[A\u001b[A\n",
      "\n",
      "\n",
      "\n",
      "Training Steps: 100%|██████████| 36/36.0 [00:00<00:00,  3.67it/s]\u001b[A\u001b[A\u001b[A\u001b[A\n",
      "\n",
      "\n",
      "Training Epochs:  45%|████▌     | 9/20 [00:00<00:01,  6.14it/s]\u001b[A\u001b[A\u001b[A\n",
      "\n",
      "\n",
      "\n",
      "Training Steps:   0%|          | 0/36.0 [00:00<00:09,  3.67it/s] \u001b[A\u001b[A\u001b[A\u001b[A\n",
      "\n",
      "\n",
      "\n",
      "Training Steps: 100%|██████████| 36/36.0 [00:00<00:00,  3.67it/s]\u001b[A\u001b[A\u001b[A\u001b[A\n",
      "\n",
      "\n",
      "\n",
      "Training Steps:   0%|          | 0/36.0 [00:00<00:09,  3.67it/s] \u001b[A\u001b[A\u001b[A\u001b[A"
     ]
    },
    {
     "name": "stdout",
     "output_type": "stream",
     "text": [
      "epoch: 10, loss: 0.295\n"
     ]
    },
    {
     "name": "stderr",
     "output_type": "stream",
     "text": [
      "\n",
      "\n",
      "\n",
      "\n",
      "Training Steps: 100%|██████████| 36/36.0 [00:00<00:00,  3.67it/s]\u001b[A\u001b[A\u001b[A\u001b[A\n",
      "\n",
      "\n",
      "\n",
      "Training Steps:   0%|          | 0/36.0 [00:00<00:09,  3.67it/s] \u001b[A\u001b[A\u001b[A\u001b[A\n",
      "\n",
      "\n",
      "\n",
      "Training Steps: 100%|██████████| 36/36.0 [00:00<00:00,  3.67it/s]\u001b[A\u001b[A\u001b[A\u001b[A\n",
      "\n",
      "\n",
      "\n",
      "Training Steps:   0%|          | 0/36.0 [00:00<00:09,  3.67it/s] \u001b[A\u001b[A\u001b[A\u001b[A\n",
      "\n",
      "\n",
      "\n",
      "Training Steps: 100%|██████████| 36/36.0 [00:00<00:00,  3.67it/s]\u001b[A\u001b[A\u001b[A\u001b[A\n",
      "\n",
      "\n",
      "Training Epochs:  65%|██████▌   | 13/20 [00:00<00:00,  8.18it/s]\u001b[A\u001b[A\u001b[A\n",
      "\n",
      "\n",
      "\n",
      "Training Steps:   0%|          | 0/36.0 [00:00<00:09,  3.67it/s] \u001b[A\u001b[A\u001b[A\u001b[A\n",
      "\n",
      "\n",
      "\n",
      "Training Steps: 100%|██████████| 36/36.0 [00:00<00:00,  3.67it/s]\u001b[A\u001b[A\u001b[A\u001b[A\n",
      "\n",
      "\n",
      "\n",
      "Training Steps:   0%|          | 0/36.0 [00:00<00:09,  3.67it/s] \u001b[A\u001b[A\u001b[A\u001b[A\n",
      "\n",
      "\n",
      "\n",
      "Training Steps: 100%|██████████| 36/36.0 [00:00<00:00,  3.67it/s]\u001b[A\u001b[A\u001b[A\u001b[A\n",
      "\n",
      "\n",
      "\n",
      "Training Steps:   0%|          | 0/36.0 [00:00<00:09,  3.67it/s] \u001b[A\u001b[A\u001b[A\u001b[A"
     ]
    },
    {
     "name": "stdout",
     "output_type": "stream",
     "text": [
      "epoch: 15, loss: 0.261\n"
     ]
    },
    {
     "name": "stderr",
     "output_type": "stream",
     "text": [
      "\n",
      "\n",
      "\n",
      "\n",
      "Training Steps: 100%|██████████| 36/36.0 [00:00<00:00,  3.67it/s]\u001b[A\u001b[A\u001b[A\u001b[A\n",
      "\n",
      "\n",
      "\n",
      "Training Steps:   0%|          | 0/36.0 [00:00<00:09,  3.67it/s] \u001b[A\u001b[A\u001b[A\u001b[A\n",
      "\n",
      "\n",
      "\n",
      "Training Steps: 100%|██████████| 36/36.0 [00:00<00:00,  3.67it/s]\u001b[A\u001b[A\u001b[A\u001b[A\n",
      "\n",
      "\n",
      "Training Epochs:  85%|████████▌ | 17/20 [00:00<00:00, 10.67it/s]\u001b[A\u001b[A\u001b[A\n",
      "\n",
      "\n",
      "\n",
      "Training Steps:   0%|          | 0/36.0 [00:00<00:09,  3.67it/s] \u001b[A\u001b[A\u001b[A\u001b[A\n",
      "\n",
      "\n",
      "\n",
      "Training Steps: 100%|██████████| 36/36.0 [00:00<00:00,  3.67it/s]\u001b[A\u001b[A\u001b[A\u001b[A\n",
      "\n",
      "\n",
      "\n",
      "Training Steps:   0%|          | 0/36.0 [00:00<00:09,  3.67it/s] \u001b[A\u001b[A\u001b[A\u001b[A\n",
      "\n",
      "\n",
      "\n",
      "Training Steps: 100%|██████████| 36/36.0 [00:00<00:00,  3.67it/s]\u001b[A\u001b[A\u001b[A\u001b[A\n",
      "\n",
      "\n",
      "\n",
      "Training Steps:   0%|          | 0/36.0 [00:00<00:09,  3.67it/s] \u001b[A\u001b[A\u001b[A\u001b[A\n",
      "\n",
      "\n",
      "\n",
      "Training Steps: 100%|██████████| 36/36.0 [00:00<00:00,  3.67it/s]\u001b[A\u001b[A\u001b[A\u001b[A\n",
      "\n",
      "\n",
      "\n",
      "Training Epochs: 100%|██████████| 20/20 [00:00<00:00, 24.09it/s] \n",
      "Training Steps: 100%|██████████| 36/36.0 [00:00<00:00, 998.45it/s]\n",
      " 94%|█████████▍| 17/18 [00:16<00:00,  1.07it/s]\n",
      "\n",
      "\n",
      "Training Epochs:   0%|          | 0/20 [00:00<?, ?it/s]\u001b[A\u001b[A\u001b[A\n",
      "\n",
      "\n",
      "\n",
      "Training Steps: 0it [00:00, ?it/s]\u001b[A\u001b[A\u001b[A\u001b[A\n",
      "\n",
      "\n",
      "\n",
      "Training Steps:   0%|          | 0/36.0 [00:00<?, ?it/s]\u001b[A\u001b[A\u001b[A\u001b[A"
     ]
    },
    {
     "name": "stdout",
     "output_type": "stream",
     "text": [
      "training with dropout:0.1 l2:1e-06 lr:0.0001\n",
      "getting initial loss\n"
     ]
    },
    {
     "name": "stderr",
     "output_type": "stream",
     "text": [
      "\n",
      "\n",
      "\n",
      "\n",
      "Training Steps:   3%|▎         | 1/36.0 [00:00<00:09,  3.69it/s]\u001b[A\u001b[A\u001b[A\u001b[A"
     ]
    },
    {
     "name": "stdout",
     "output_type": "stream",
     "text": [
      "epoch: 00, loss: 1.466\n"
     ]
    },
    {
     "name": "stderr",
     "output_type": "stream",
     "text": [
      "\n",
      "\n",
      "\n",
      "\n",
      "Training Steps: 100%|██████████| 36/36.0 [00:00<00:00,  3.69it/s]\u001b[A\u001b[A\u001b[A\u001b[A\n",
      "\n",
      "\n",
      "Training Epochs:   5%|▌         | 1/20 [00:00<00:05,  3.30it/s]\u001b[A\u001b[A\u001b[A\n",
      "\n",
      "\n",
      "\n",
      "Training Steps:   0%|          | 0/36.0 [00:00<00:09,  3.69it/s] \u001b[A\u001b[A\u001b[A\u001b[A\n",
      "\n",
      "\n",
      "\n",
      "Training Steps: 100%|██████████| 36/36.0 [00:00<00:00,  3.69it/s]\u001b[A\u001b[A\u001b[A\u001b[A\n",
      "\n",
      "\n",
      "\n",
      "Training Steps:   0%|          | 0/36.0 [00:00<00:09,  3.69it/s] \u001b[A\u001b[A\u001b[A\u001b[A\n",
      "\n",
      "\n",
      "\n",
      "Training Steps: 100%|██████████| 36/36.0 [00:00<00:00,  3.69it/s]\u001b[A\u001b[A\u001b[A\u001b[A\n",
      "\n",
      "\n",
      "\n",
      "Training Steps:   0%|          | 0/36.0 [00:00<00:09,  3.69it/s] \u001b[A\u001b[A\u001b[A\u001b[A\n",
      "\n",
      "\n",
      "\n",
      "Training Steps: 100%|██████████| 36/36.0 [00:00<00:00,  3.69it/s]\u001b[A\u001b[A\u001b[A\u001b[A\n",
      "\n",
      "\n",
      "\n",
      "Training Steps:   0%|          | 0/36.0 [00:00<00:09,  3.69it/s] \u001b[A\u001b[A\u001b[A\u001b[A\n",
      "\n",
      "\n",
      "\n",
      "Training Steps: 100%|██████████| 36/36.0 [00:00<00:00,  3.69it/s]\u001b[A\u001b[A\u001b[A\u001b[A\n",
      "\n",
      "\n",
      "Training Epochs:  25%|██▌       | 5/20 [00:00<00:03,  4.54it/s]\u001b[A\u001b[A\u001b[A\n",
      "\n",
      "\n",
      "\n",
      "Training Steps:   0%|          | 0/36.0 [00:00<00:09,  3.69it/s] \u001b[A\u001b[A\u001b[A\u001b[A"
     ]
    },
    {
     "name": "stdout",
     "output_type": "stream",
     "text": [
      "epoch: 05, loss: 1.334\n"
     ]
    },
    {
     "name": "stderr",
     "output_type": "stream",
     "text": [
      "\n",
      "\n",
      "\n",
      "\n",
      "Training Steps: 100%|██████████| 36/36.0 [00:00<00:00,  3.69it/s]\u001b[A\u001b[A\u001b[A\u001b[A\n",
      "\n",
      "\n",
      "\n",
      "Training Steps:   0%|          | 0/36.0 [00:00<00:09,  3.69it/s] \u001b[A\u001b[A\u001b[A\u001b[A\n",
      "\n",
      "\n",
      "\n",
      "Training Steps: 100%|██████████| 36/36.0 [00:00<00:00,  3.69it/s]\u001b[A\u001b[A\u001b[A\u001b[A\n",
      "\n",
      "\n",
      "\n",
      "Training Steps:   0%|          | 0/36.0 [00:00<00:09,  3.69it/s] \u001b[A\u001b[A\u001b[A\u001b[A\n",
      "\n",
      "\n",
      "\n",
      "Training Steps: 100%|██████████| 36/36.0 [00:00<00:00,  3.69it/s]\u001b[A\u001b[A\u001b[A\u001b[A\n",
      "\n",
      "\n",
      "\n",
      "Training Steps:   0%|          | 0/36.0 [00:00<00:09,  3.69it/s] \u001b[A\u001b[A\u001b[A\u001b[A\n",
      "\n",
      "\n",
      "\n",
      "Training Steps: 100%|██████████| 36/36.0 [00:00<00:00,  3.69it/s]\u001b[A\u001b[A\u001b[A\u001b[A\n",
      "\n",
      "\n",
      "Training Epochs:  45%|████▌     | 9/20 [00:00<00:01,  6.16it/s]\u001b[A\u001b[A\u001b[A\n",
      "\n",
      "\n",
      "\n",
      "Training Steps:   0%|          | 0/36.0 [00:00<00:09,  3.69it/s] \u001b[A\u001b[A\u001b[A\u001b[A\n",
      "\n",
      "\n",
      "\n",
      "Training Steps: 100%|██████████| 36/36.0 [00:00<00:00,  3.69it/s]\u001b[A\u001b[A\u001b[A\u001b[A\n",
      "\n",
      "\n",
      "\n",
      "Training Steps:   0%|          | 0/36.0 [00:00<00:09,  3.69it/s] \u001b[A\u001b[A\u001b[A\u001b[A"
     ]
    },
    {
     "name": "stdout",
     "output_type": "stream",
     "text": [
      "epoch: 10, loss: 1.258\n"
     ]
    },
    {
     "name": "stderr",
     "output_type": "stream",
     "text": [
      "\n",
      "\n",
      "\n",
      "\n",
      "Training Steps: 100%|██████████| 36/36.0 [00:00<00:00,  3.69it/s]\u001b[A\u001b[A\u001b[A\u001b[A\n",
      "\n",
      "\n",
      "\n",
      "Training Steps:   0%|          | 0/36.0 [00:00<00:09,  3.69it/s] \u001b[A\u001b[A\u001b[A\u001b[A\n",
      "\n",
      "\n",
      "\n",
      "Training Steps: 100%|██████████| 36/36.0 [00:00<00:00,  3.69it/s]\u001b[A\u001b[A\u001b[A\u001b[A\n",
      "\n",
      "\n",
      "\n",
      "Training Steps:   0%|          | 0/36.0 [00:00<00:09,  3.69it/s] \u001b[A\u001b[A\u001b[A\u001b[A\n",
      "\n",
      "\n",
      "\n",
      "Training Steps: 100%|██████████| 36/36.0 [00:00<00:00,  3.69it/s]\u001b[A\u001b[A\u001b[A\u001b[A\n",
      "\n",
      "\n",
      "Training Epochs:  65%|██████▌   | 13/20 [00:00<00:00,  8.20it/s]\u001b[A\u001b[A\u001b[A\n",
      "\n",
      "\n",
      "\n",
      "Training Steps:   0%|          | 0/36.0 [00:00<00:09,  3.69it/s] \u001b[A\u001b[A\u001b[A\u001b[A\n",
      "\n",
      "\n",
      "\n",
      "Training Steps: 100%|██████████| 36/36.0 [00:00<00:00,  3.69it/s]\u001b[A\u001b[A\u001b[A\u001b[A\n",
      "\n",
      "\n",
      "\n",
      "Training Steps:   0%|          | 0/36.0 [00:00<00:09,  3.69it/s] \u001b[A\u001b[A\u001b[A\u001b[A\n",
      "\n",
      "\n",
      "\n",
      "Training Steps: 100%|██████████| 36/36.0 [00:00<00:00,  3.69it/s]\u001b[A\u001b[A\u001b[A\u001b[A\n",
      "\n",
      "\n",
      "\n",
      "Training Steps:   0%|          | 0/36.0 [00:00<00:09,  3.69it/s] \u001b[A\u001b[A\u001b[A\u001b[A"
     ]
    },
    {
     "name": "stdout",
     "output_type": "stream",
     "text": [
      "epoch: 15, loss: 1.210\n"
     ]
    },
    {
     "name": "stderr",
     "output_type": "stream",
     "text": [
      "\n",
      "\n",
      "\n",
      "\n",
      "Training Steps: 100%|██████████| 36/36.0 [00:00<00:00,  3.69it/s]\u001b[A\u001b[A\u001b[A\u001b[A\n",
      "\n",
      "\n",
      "\n",
      "Training Steps:   0%|          | 0/36.0 [00:00<00:09,  3.69it/s] \u001b[A\u001b[A\u001b[A\u001b[A\n",
      "\n",
      "\n",
      "\n",
      "Training Steps: 100%|██████████| 36/36.0 [00:00<00:00,  3.69it/s]\u001b[A\u001b[A\u001b[A\u001b[A\n",
      "\n",
      "\n",
      "Training Epochs:  85%|████████▌ | 17/20 [00:00<00:00, 10.71it/s]\u001b[A\u001b[A\u001b[A\n",
      "\n",
      "\n",
      "\n",
      "Training Steps:   0%|          | 0/36.0 [00:00<00:09,  3.69it/s] \u001b[A\u001b[A\u001b[A\u001b[A\n",
      "\n",
      "\n",
      "\n",
      "Training Steps: 100%|██████████| 36/36.0 [00:00<00:00,  3.69it/s]\u001b[A\u001b[A\u001b[A\u001b[A\n",
      "\n",
      "\n",
      "\n",
      "Training Steps:   0%|          | 0/36.0 [00:00<00:09,  3.69it/s] \u001b[A\u001b[A\u001b[A\u001b[A\n",
      "\n",
      "\n",
      "\n",
      "Training Steps: 100%|██████████| 36/36.0 [00:00<00:00,  3.69it/s]\u001b[A\u001b[A\u001b[A\u001b[A\n",
      "\n",
      "\n",
      "\n",
      "Training Steps:   0%|          | 0/36.0 [00:00<00:09,  3.69it/s] \u001b[A\u001b[A\u001b[A\u001b[A\n",
      "\n",
      "\n",
      "\n",
      "Training Steps: 100%|██████████| 36/36.0 [00:00<00:00,  3.69it/s]\u001b[A\u001b[A\u001b[A\u001b[A\n",
      "\n",
      "\n",
      "\n",
      "Training Epochs: 100%|██████████| 20/20 [00:00<00:00, 24.06it/s] \n",
      "Training Steps: 100%|██████████| 36/36.0 [00:00<00:00, 1012.32it/s]\n",
      "100%|██████████| 18/18 [00:17<00:00,  1.08it/s]\n",
      "\n",
      "\u001b[A\u001b[A                                                           \n",
      "100%|██████████| 18/18 [00:17<00:00,  1.04it/s]                 \n",
      "Training Epochs: 100%|██████████| 20/20 [00:20<00:00, 12.79it/s]"
     ]
    }
   ],
   "source": [
    "''' GRID-SEARCH with bimodal input '''\n",
    "dropout_rates = [0.5, 0.2, 0.1]\n",
    "l2_lambdas = [1e-03, 1e-06]\n",
    "learning_rates = [0.1, 0.01, 1e-4]\n",
    "bimodal_param_result = grid_search(X_bimodal_train, Y_bimodal_train, dropout_rates, l2_lambdas, learning_rates, NUM_EPOCHS, BATCH_SIZE)"
   ]
  },
  {
   "cell_type": "code",
   "execution_count": 184,
   "metadata": {
    "collapsed": true,
    "jupyter": {
     "outputs_hidden": true
    }
   },
   "outputs": [
    {
     "data": {
      "application/vnd.jupyter.widget-view+json": {
       "model_id": "a37b1ddfd81d412a8bc19dfe5c8c3ffd",
       "version_major": 2,
       "version_minor": 0
      },
      "text/plain": [
       "HBox(children=(IntProgress(value=0, max=18), HTML(value='')))"
      ]
     },
     "metadata": {},
     "output_type": "display_data"
    },
    {
     "name": "stdout",
     "output_type": "stream",
     "text": [
      "training with dropout:0.5 l2:0.001 lr:0.1\n",
      "\n",
      "getting initial loss\n"
     ]
    },
    {
     "data": {
      "application/vnd.jupyter.widget-view+json": {
       "model_id": "8a31ed93d20b48228d90bd082c923362",
       "version_major": 2,
       "version_minor": 0
      },
      "text/plain": [
       "HBox(children=(IntProgress(value=0, description='Training Epochs', max=20, style=ProgressStyle(description_wid…"
      ]
     },
     "metadata": {},
     "output_type": "display_data"
    },
    {
     "data": {
      "application/vnd.jupyter.widget-view+json": {
       "model_id": "e6898daf843d4cf0802cac62ed92c431",
       "version_major": 2,
       "version_minor": 0
      },
      "text/plain": [
       "HBox(children=(IntProgress(value=1, bar_style='info', description='Training Steps', max=1, style=ProgressStyle…"
      ]
     },
     "metadata": {},
     "output_type": "display_data"
    },
    {
     "name": "stdout",
     "output_type": "stream",
     "text": [
      "epoch: 00, loss: 1.075\n",
      "epoch: 05, loss: 1.075\n",
      "epoch: 10, loss: 1.076\n",
      "epoch: 15, loss: 1.076\n",
      "training with dropout:0.5 l2:0.001 lr:0.01\n",
      "getting initial loss\n"
     ]
    },
    {
     "data": {
      "application/vnd.jupyter.widget-view+json": {
       "model_id": "a42e3dc4a06745649a8fbc88d6c5da80",
       "version_major": 2,
       "version_minor": 0
      },
      "text/plain": [
       "HBox(children=(IntProgress(value=0, description='Training Epochs', max=20, style=ProgressStyle(description_wid…"
      ]
     },
     "metadata": {},
     "output_type": "display_data"
    },
    {
     "data": {
      "application/vnd.jupyter.widget-view+json": {
       "model_id": "60885c8b304b4cdfa3c1da3cec48ab74",
       "version_major": 2,
       "version_minor": 0
      },
      "text/plain": [
       "HBox(children=(IntProgress(value=1, bar_style='info', description='Training Steps', max=1, style=ProgressStyle…"
      ]
     },
     "metadata": {},
     "output_type": "display_data"
    },
    {
     "name": "stdout",
     "output_type": "stream",
     "text": [
      "epoch: 00, loss: 1.089\n",
      "epoch: 05, loss: 1.076\n",
      "epoch: 10, loss: 1.075\n",
      "epoch: 15, loss: 1.075\n",
      "training with dropout:0.5 l2:0.001 lr:0.0001\n",
      "getting initial loss\n"
     ]
    },
    {
     "data": {
      "application/vnd.jupyter.widget-view+json": {
       "model_id": "f23369b1134f45fab945e71ab8ef906a",
       "version_major": 2,
       "version_minor": 0
      },
      "text/plain": [
       "HBox(children=(IntProgress(value=0, description='Training Epochs', max=20, style=ProgressStyle(description_wid…"
      ]
     },
     "metadata": {},
     "output_type": "display_data"
    },
    {
     "data": {
      "application/vnd.jupyter.widget-view+json": {
       "model_id": "285528c7e1424d6aaf663687f3daf4bf",
       "version_major": 2,
       "version_minor": 0
      },
      "text/plain": [
       "HBox(children=(IntProgress(value=1, bar_style='info', description='Training Steps', max=1, style=ProgressStyle…"
      ]
     },
     "metadata": {},
     "output_type": "display_data"
    },
    {
     "name": "stdout",
     "output_type": "stream",
     "text": [
      "epoch: 00, loss: 1.098\n",
      "epoch: 05, loss: 1.098\n",
      "epoch: 10, loss: 1.097\n",
      "epoch: 15, loss: 1.096\n",
      "training with dropout:0.5 l2:1e-06 lr:0.1\n",
      "getting initial loss\n"
     ]
    },
    {
     "data": {
      "application/vnd.jupyter.widget-view+json": {
       "model_id": "67de768450244238b5bdab6a005b99b9",
       "version_major": 2,
       "version_minor": 0
      },
      "text/plain": [
       "HBox(children=(IntProgress(value=0, description='Training Epochs', max=20, style=ProgressStyle(description_wid…"
      ]
     },
     "metadata": {},
     "output_type": "display_data"
    },
    {
     "data": {
      "application/vnd.jupyter.widget-view+json": {
       "model_id": "9ba38703c2ab434e88c9db13e4770375",
       "version_major": 2,
       "version_minor": 0
      },
      "text/plain": [
       "HBox(children=(IntProgress(value=1, bar_style='info', description='Training Steps', max=1, style=ProgressStyle…"
      ]
     },
     "metadata": {},
     "output_type": "display_data"
    },
    {
     "name": "stdout",
     "output_type": "stream",
     "text": [
      "epoch: 00, loss: 1.076\n",
      "epoch: 05, loss: 1.076\n",
      "epoch: 10, loss: 1.076\n",
      "epoch: 15, loss: 1.075\n",
      "training with dropout:0.5 l2:1e-06 lr:0.01\n",
      "\n",
      "getting initial loss\n"
     ]
    },
    {
     "data": {
      "application/vnd.jupyter.widget-view+json": {
       "model_id": "7af1039ffcbd468d8adf91d2cdefc2d3",
       "version_major": 2,
       "version_minor": 0
      },
      "text/plain": [
       "HBox(children=(IntProgress(value=0, description='Training Epochs', max=20, style=ProgressStyle(description_wid…"
      ]
     },
     "metadata": {},
     "output_type": "display_data"
    },
    {
     "data": {
      "application/vnd.jupyter.widget-view+json": {
       "model_id": "23a5592abf25429e9631a23e91f7a6ca",
       "version_major": 2,
       "version_minor": 0
      },
      "text/plain": [
       "HBox(children=(IntProgress(value=1, bar_style='info', description='Training Steps', max=1, style=ProgressStyle…"
      ]
     },
     "metadata": {},
     "output_type": "display_data"
    },
    {
     "name": "stdout",
     "output_type": "stream",
     "text": [
      "epoch: 00, loss: 1.088\n",
      "epoch: 05, loss: 1.076\n",
      "epoch: 10, loss: 1.075\n",
      "epoch: 15, loss: 1.075\n",
      "training with dropout:0.5 l2:1e-06 lr:0.0001\n",
      "getting initial loss\n"
     ]
    },
    {
     "data": {
      "application/vnd.jupyter.widget-view+json": {
       "model_id": "917f653794b94dd1b8ebb52a69bd9b01",
       "version_major": 2,
       "version_minor": 0
      },
      "text/plain": [
       "HBox(children=(IntProgress(value=0, description='Training Epochs', max=20, style=ProgressStyle(description_wid…"
      ]
     },
     "metadata": {},
     "output_type": "display_data"
    },
    {
     "data": {
      "application/vnd.jupyter.widget-view+json": {
       "model_id": "2daf9e9e62c74553bb7f512100495965",
       "version_major": 2,
       "version_minor": 0
      },
      "text/plain": [
       "HBox(children=(IntProgress(value=1, bar_style='info', description='Training Steps', max=1, style=ProgressStyle…"
      ]
     },
     "metadata": {},
     "output_type": "display_data"
    },
    {
     "name": "stdout",
     "output_type": "stream",
     "text": [
      "epoch: 00, loss: 1.099\n",
      "epoch: 05, loss: 1.098\n",
      "epoch: 10, loss: 1.098\n",
      "epoch: 15, loss: 1.097\n",
      "training with dropout:0.2 l2:0.001 lr:0.1\n",
      "getting initial loss\n"
     ]
    },
    {
     "data": {
      "application/vnd.jupyter.widget-view+json": {
       "model_id": "ab55c2b1062d42ccb312b7cd20b29c7a",
       "version_major": 2,
       "version_minor": 0
      },
      "text/plain": [
       "HBox(children=(IntProgress(value=0, description='Training Epochs', max=20, style=ProgressStyle(description_wid…"
      ]
     },
     "metadata": {},
     "output_type": "display_data"
    },
    {
     "data": {
      "application/vnd.jupyter.widget-view+json": {
       "model_id": "8fe18704501f4ad193c859a4b5479af6",
       "version_major": 2,
       "version_minor": 0
      },
      "text/plain": [
       "HBox(children=(IntProgress(value=1, bar_style='info', description='Training Steps', max=1, style=ProgressStyle…"
      ]
     },
     "metadata": {},
     "output_type": "display_data"
    },
    {
     "name": "stdout",
     "output_type": "stream",
     "text": [
      "epoch: 00, loss: 1.075\n",
      "epoch: 05, loss: 1.076\n",
      "epoch: 10, loss: 1.076\n",
      "epoch: 15, loss: 1.076\n",
      "training with dropout:0.2 l2:0.001 lr:0.01\n",
      "getting initial loss\n"
     ]
    },
    {
     "data": {
      "application/vnd.jupyter.widget-view+json": {
       "model_id": "2858b7614c274e69839f3435637c0e7d",
       "version_major": 2,
       "version_minor": 0
      },
      "text/plain": [
       "HBox(children=(IntProgress(value=0, description='Training Epochs', max=20, style=ProgressStyle(description_wid…"
      ]
     },
     "metadata": {},
     "output_type": "display_data"
    },
    {
     "data": {
      "application/vnd.jupyter.widget-view+json": {
       "model_id": "262f6a41fb6e455fb060df7753bc6f1e",
       "version_major": 2,
       "version_minor": 0
      },
      "text/plain": [
       "HBox(children=(IntProgress(value=1, bar_style='info', description='Training Steps', max=1, style=ProgressStyle…"
      ]
     },
     "metadata": {},
     "output_type": "display_data"
    },
    {
     "name": "stdout",
     "output_type": "stream",
     "text": [
      "epoch: 00, loss: 1.085\n",
      "epoch: 05, loss: 1.076\n",
      "epoch: 10, loss: 1.076\n",
      "epoch: 15, loss: 1.076\n",
      "training with dropout:0.2 l2:0.001 lr:0.0001\n",
      "getting initial loss\n"
     ]
    },
    {
     "data": {
      "application/vnd.jupyter.widget-view+json": {
       "model_id": "6432f182970e48549fbf17be2be12700",
       "version_major": 2,
       "version_minor": 0
      },
      "text/plain": [
       "HBox(children=(IntProgress(value=0, description='Training Epochs', max=20, style=ProgressStyle(description_wid…"
      ]
     },
     "metadata": {},
     "output_type": "display_data"
    },
    {
     "data": {
      "application/vnd.jupyter.widget-view+json": {
       "model_id": "48aea1e2eef640189f22257a4dbf6e99",
       "version_major": 2,
       "version_minor": 0
      },
      "text/plain": [
       "HBox(children=(IntProgress(value=1, bar_style='info', description='Training Steps', max=1, style=ProgressStyle…"
      ]
     },
     "metadata": {},
     "output_type": "display_data"
    },
    {
     "name": "stdout",
     "output_type": "stream",
     "text": [
      "epoch: 00, loss: 1.098\n",
      "epoch: 05, loss: 1.098\n",
      "epoch: 10, loss: 1.097\n",
      "epoch: 15, loss: 1.096\n",
      "training with dropout:0.2 l2:1e-06 lr:0.1\n",
      "getting initial loss\n"
     ]
    },
    {
     "data": {
      "application/vnd.jupyter.widget-view+json": {
       "model_id": "693c7d472a854e1fb656f244e17cbae5",
       "version_major": 2,
       "version_minor": 0
      },
      "text/plain": [
       "HBox(children=(IntProgress(value=0, description='Training Epochs', max=20, style=ProgressStyle(description_wid…"
      ]
     },
     "metadata": {},
     "output_type": "display_data"
    },
    {
     "data": {
      "application/vnd.jupyter.widget-view+json": {
       "model_id": "5f08e95a508c427398812a0aedb33ba9",
       "version_major": 2,
       "version_minor": 0
      },
      "text/plain": [
       "HBox(children=(IntProgress(value=1, bar_style='info', description='Training Steps', max=1, style=ProgressStyle…"
      ]
     },
     "metadata": {},
     "output_type": "display_data"
    },
    {
     "name": "stdout",
     "output_type": "stream",
     "text": [
      "epoch: 00, loss: 1.075\n",
      "epoch: 05, loss: 1.076\n",
      "epoch: 10, loss: 1.075\n",
      "epoch: 15, loss: 1.077\n",
      "training with dropout:0.2 l2:1e-06 lr:0.01\n",
      "getting initial loss\n"
     ]
    },
    {
     "data": {
      "application/vnd.jupyter.widget-view+json": {
       "model_id": "90df2d0da347465ebfb1d7559dabb66f",
       "version_major": 2,
       "version_minor": 0
      },
      "text/plain": [
       "HBox(children=(IntProgress(value=0, description='Training Epochs', max=20, style=ProgressStyle(description_wid…"
      ]
     },
     "metadata": {},
     "output_type": "display_data"
    },
    {
     "data": {
      "application/vnd.jupyter.widget-view+json": {
       "model_id": "c38077ed80d7410f837d7c2c50c62cbd",
       "version_major": 2,
       "version_minor": 0
      },
      "text/plain": [
       "HBox(children=(IntProgress(value=1, bar_style='info', description='Training Steps', max=1, style=ProgressStyle…"
      ]
     },
     "metadata": {},
     "output_type": "display_data"
    },
    {
     "name": "stdout",
     "output_type": "stream",
     "text": [
      "epoch: 00, loss: 1.092\n",
      "epoch: 05, loss: 1.077\n",
      "epoch: 10, loss: 1.075\n",
      "epoch: 15, loss: 1.075\n",
      "training with dropout:0.2 l2:1e-06 lr:0.0001\n",
      "getting initial loss\n"
     ]
    },
    {
     "data": {
      "application/vnd.jupyter.widget-view+json": {
       "model_id": "14466cc2edc84b60abb813e8824a54d7",
       "version_major": 2,
       "version_minor": 0
      },
      "text/plain": [
       "HBox(children=(IntProgress(value=0, description='Training Epochs', max=20, style=ProgressStyle(description_wid…"
      ]
     },
     "metadata": {},
     "output_type": "display_data"
    },
    {
     "data": {
      "application/vnd.jupyter.widget-view+json": {
       "model_id": "61f202ab14a840deac10076528d1b976",
       "version_major": 2,
       "version_minor": 0
      },
      "text/plain": [
       "HBox(children=(IntProgress(value=1, bar_style='info', description='Training Steps', max=1, style=ProgressStyle…"
      ]
     },
     "metadata": {},
     "output_type": "display_data"
    },
    {
     "name": "stdout",
     "output_type": "stream",
     "text": [
      "epoch: 00, loss: 1.098\n",
      "epoch: 05, loss: 1.098\n",
      "epoch: 10, loss: 1.097\n",
      "epoch: 15, loss: 1.097\n",
      "training with dropout:0.1 l2:0.001 lr:0.1\n",
      "getting initial loss\n"
     ]
    },
    {
     "data": {
      "application/vnd.jupyter.widget-view+json": {
       "model_id": "e7e8883d19de4929b7e0cd595f09935d",
       "version_major": 2,
       "version_minor": 0
      },
      "text/plain": [
       "HBox(children=(IntProgress(value=0, description='Training Epochs', max=20, style=ProgressStyle(description_wid…"
      ]
     },
     "metadata": {},
     "output_type": "display_data"
    },
    {
     "data": {
      "application/vnd.jupyter.widget-view+json": {
       "model_id": "60a579b013c84276935a4cc511f6023b",
       "version_major": 2,
       "version_minor": 0
      },
      "text/plain": [
       "HBox(children=(IntProgress(value=1, bar_style='info', description='Training Steps', max=1, style=ProgressStyle…"
      ]
     },
     "metadata": {},
     "output_type": "display_data"
    },
    {
     "name": "stdout",
     "output_type": "stream",
     "text": [
      "epoch: 00, loss: 1.075\n",
      "epoch: 05, loss: 1.076\n",
      "epoch: 10, loss: 1.076\n",
      "epoch: 15, loss: 1.076\n",
      "training with dropout:0.1 l2:0.001 lr:0.01\n",
      "getting initial loss\n"
     ]
    },
    {
     "data": {
      "application/vnd.jupyter.widget-view+json": {
       "model_id": "b06ac21883724229b6823e77f9d44c1e",
       "version_major": 2,
       "version_minor": 0
      },
      "text/plain": [
       "HBox(children=(IntProgress(value=0, description='Training Epochs', max=20, style=ProgressStyle(description_wid…"
      ]
     },
     "metadata": {},
     "output_type": "display_data"
    },
    {
     "data": {
      "application/vnd.jupyter.widget-view+json": {
       "model_id": "5a6538fcde9146e5b87dddecc0e397c5",
       "version_major": 2,
       "version_minor": 0
      },
      "text/plain": [
       "HBox(children=(IntProgress(value=1, bar_style='info', description='Training Steps', max=1, style=ProgressStyle…"
      ]
     },
     "metadata": {},
     "output_type": "display_data"
    },
    {
     "name": "stdout",
     "output_type": "stream",
     "text": [
      "epoch: 00, loss: 1.085\n",
      "epoch: 05, loss: 1.075\n",
      "epoch: 10, loss: 1.076\n",
      "epoch: 15, loss: 1.076\n",
      "training with dropout:0.1 l2:0.001 lr:0.0001\n",
      "getting initial loss\n"
     ]
    },
    {
     "data": {
      "application/vnd.jupyter.widget-view+json": {
       "model_id": "50c1ca36002f4190adda03e41780ad3d",
       "version_major": 2,
       "version_minor": 0
      },
      "text/plain": [
       "HBox(children=(IntProgress(value=0, description='Training Epochs', max=20, style=ProgressStyle(description_wid…"
      ]
     },
     "metadata": {},
     "output_type": "display_data"
    },
    {
     "data": {
      "application/vnd.jupyter.widget-view+json": {
       "model_id": "347d79c9335d4d53a251dc28536510bd",
       "version_major": 2,
       "version_minor": 0
      },
      "text/plain": [
       "HBox(children=(IntProgress(value=1, bar_style='info', description='Training Steps', max=1, style=ProgressStyle…"
      ]
     },
     "metadata": {},
     "output_type": "display_data"
    },
    {
     "name": "stdout",
     "output_type": "stream",
     "text": [
      "epoch: 00, loss: 1.098\n",
      "epoch: 05, loss: 1.097\n",
      "epoch: 10, loss: 1.096\n",
      "epoch: 15, loss: 1.095\n",
      "training with dropout:0.1 l2:1e-06 lr:0.1\n",
      "getting initial loss\n"
     ]
    },
    {
     "data": {
      "application/vnd.jupyter.widget-view+json": {
       "model_id": "ed404746a3c343b6a91cefb7c78857da",
       "version_major": 2,
       "version_minor": 0
      },
      "text/plain": [
       "HBox(children=(IntProgress(value=0, description='Training Epochs', max=20, style=ProgressStyle(description_wid…"
      ]
     },
     "metadata": {},
     "output_type": "display_data"
    },
    {
     "data": {
      "application/vnd.jupyter.widget-view+json": {
       "model_id": "89f7ec22829640f3996ef50252445148",
       "version_major": 2,
       "version_minor": 0
      },
      "text/plain": [
       "HBox(children=(IntProgress(value=1, bar_style='info', description='Training Steps', max=1, style=ProgressStyle…"
      ]
     },
     "metadata": {},
     "output_type": "display_data"
    },
    {
     "name": "stdout",
     "output_type": "stream",
     "text": [
      "epoch: 00, loss: 1.075\n",
      "epoch: 05, loss: 1.076\n",
      "epoch: 10, loss: 1.075\n",
      "epoch: 15, loss: 1.075\n",
      "training with dropout:0.1 l2:1e-06 lr:0.01\n",
      "\n",
      "getting initial loss\n"
     ]
    },
    {
     "data": {
      "application/vnd.jupyter.widget-view+json": {
       "model_id": "f67149d8caad4599a65c5025db7fdaf8",
       "version_major": 2,
       "version_minor": 0
      },
      "text/plain": [
       "HBox(children=(IntProgress(value=0, description='Training Epochs', max=20, style=ProgressStyle(description_wid…"
      ]
     },
     "metadata": {},
     "output_type": "display_data"
    },
    {
     "data": {
      "application/vnd.jupyter.widget-view+json": {
       "model_id": "d26928d58994485d8d619707028793f5",
       "version_major": 2,
       "version_minor": 0
      },
      "text/plain": [
       "HBox(children=(IntProgress(value=1, bar_style='info', description='Training Steps', max=1, style=ProgressStyle…"
      ]
     },
     "metadata": {},
     "output_type": "display_data"
    },
    {
     "name": "stdout",
     "output_type": "stream",
     "text": [
      "epoch: 00, loss: 1.091\n",
      "epoch: 05, loss: 1.078\n",
      "epoch: 10, loss: 1.076\n",
      "epoch: 15, loss: 1.076\n",
      "training with dropout:0.1 l2:1e-06 lr:0.0001\n",
      "getting initial loss\n"
     ]
    },
    {
     "data": {
      "application/vnd.jupyter.widget-view+json": {
       "model_id": "74d110ad76ad4aabab03a5fdd412d5b3",
       "version_major": 2,
       "version_minor": 0
      },
      "text/plain": [
       "HBox(children=(IntProgress(value=0, description='Training Epochs', max=20, style=ProgressStyle(description_wid…"
      ]
     },
     "metadata": {},
     "output_type": "display_data"
    },
    {
     "data": {
      "application/vnd.jupyter.widget-view+json": {
       "model_id": "d1550d5b422046cbb7e8e793b2b03338",
       "version_major": 2,
       "version_minor": 0
      },
      "text/plain": [
       "HBox(children=(IntProgress(value=1, bar_style='info', description='Training Steps', max=1, style=ProgressStyle…"
      ]
     },
     "metadata": {},
     "output_type": "display_data"
    },
    {
     "name": "stdout",
     "output_type": "stream",
     "text": [
      "epoch: 00, loss: 1.098\n",
      "epoch: 05, loss: 1.098\n",
      "epoch: 10, loss: 1.097\n",
      "epoch: 15, loss: 1.096\n",
      "\n"
     ]
    }
   ],
   "source": [
    "''' GRID-SEARCH with low-dimensional bimodal input '''\n",
    "dropout_rates = [0.5, 0.2, 0.1]\n",
    "l2_lambdas = [1e-03, 1e-06]\n",
    "learning_rates = [0.1, 0.01, 1e-4]\n",
    "bi_low_param_result = grid_search(X_bi_low_train, Y_bi_low_train, dropout_rates, l2_lambdas, learning_rates, NUM_EPOCHS, BATCH_SIZE)"
   ]
  },
  {
   "cell_type": "code",
   "execution_count": 285,
   "metadata": {},
   "outputs": [
    {
     "data": {
      "text/html": [
       "<style  type=\"text/css\" >\n",
       "    #T_97df9332_8cea_11ea_b981_a683e732cddbrow0_col0 {\n",
       "            background-color:  #130d34;\n",
       "            color:  #f1f1f1;\n",
       "        }    #T_97df9332_8cea_11ea_b981_a683e732cddbrow0_col1 {\n",
       "            background-color:  #08071e;\n",
       "            color:  #f1f1f1;\n",
       "        }    #T_97df9332_8cea_11ea_b981_a683e732cddbrow1_col0 {\n",
       "            background-color:  #02020b;\n",
       "            color:  #f1f1f1;\n",
       "        }    #T_97df9332_8cea_11ea_b981_a683e732cddbrow1_col1 {\n",
       "            background-color:  #0a0822;\n",
       "            color:  #f1f1f1;\n",
       "        }    #T_97df9332_8cea_11ea_b981_a683e732cddbrow2_col0 {\n",
       "            background-color:  #150e38;\n",
       "            color:  #f1f1f1;\n",
       "        }    #T_97df9332_8cea_11ea_b981_a683e732cddbrow2_col1 {\n",
       "            background-color:  #000004;\n",
       "            color:  #f1f1f1;\n",
       "        }    #T_97df9332_8cea_11ea_b981_a683e732cddbrow3_col0 {\n",
       "            background-color:  #fd9869;\n",
       "            color:  #000000;\n",
       "        }    #T_97df9332_8cea_11ea_b981_a683e732cddbrow3_col1 {\n",
       "            background-color:  #fc8961;\n",
       "            color:  #000000;\n",
       "        }    #T_97df9332_8cea_11ea_b981_a683e732cddbrow4_col0 {\n",
       "            background-color:  #eb5760;\n",
       "            color:  #000000;\n",
       "        }    #T_97df9332_8cea_11ea_b981_a683e732cddbrow4_col1 {\n",
       "            background-color:  #f8745c;\n",
       "            color:  #000000;\n",
       "        }    #T_97df9332_8cea_11ea_b981_a683e732cddbrow5_col0 {\n",
       "            background-color:  #e04c67;\n",
       "            color:  #000000;\n",
       "        }    #T_97df9332_8cea_11ea_b981_a683e732cddbrow5_col1 {\n",
       "            background-color:  #d8456c;\n",
       "            color:  #f1f1f1;\n",
       "        }    #T_97df9332_8cea_11ea_b981_a683e732cddbrow6_col0 {\n",
       "            background-color:  #fd9467;\n",
       "            color:  #000000;\n",
       "        }    #T_97df9332_8cea_11ea_b981_a683e732cddbrow6_col1 {\n",
       "            background-color:  #feb47b;\n",
       "            color:  #000000;\n",
       "        }    #T_97df9332_8cea_11ea_b981_a683e732cddbrow7_col0 {\n",
       "            background-color:  #feaa74;\n",
       "            color:  #000000;\n",
       "        }    #T_97df9332_8cea_11ea_b981_a683e732cddbrow7_col1 {\n",
       "            background-color:  #fcfdbf;\n",
       "            color:  #000000;\n",
       "        }    #T_97df9332_8cea_11ea_b981_a683e732cddbrow8_col0 {\n",
       "            background-color:  #febf84;\n",
       "            color:  #000000;\n",
       "        }    #T_97df9332_8cea_11ea_b981_a683e732cddbrow8_col1 {\n",
       "            background-color:  #fecf92;\n",
       "            color:  #000000;\n",
       "        }</style><table id=\"T_97df9332_8cea_11ea_b981_a683e732cddb\" ><thead>    <tr>        <th class=\"blank\" ></th>        <th class=\"blank level0\" ></th>        <th class=\"col_heading level0 col0\" colspan=2>validation loss</th>    </tr>    <tr>        <th class=\"blank\" ></th>        <th class=\"index_name level1\" >L2 lambda</th>        <th class=\"col_heading level1 col0\" >1e-06</th>        <th class=\"col_heading level1 col1\" >0.001</th>    </tr>    <tr>        <th class=\"index_name level0\" >learning rate</th>        <th class=\"index_name level1\" >dropout rate</th>        <th class=\"blank\" ></th>        <th class=\"blank\" ></th>    </tr></thead><tbody>\n",
       "                <tr>\n",
       "                        <th id=\"T_97df9332_8cea_11ea_b981_a683e732cddblevel0_row0\" class=\"row_heading level0 row0\" rowspan=3>0.0001</th>\n",
       "                        <th id=\"T_97df9332_8cea_11ea_b981_a683e732cddblevel1_row0\" class=\"row_heading level1 row0\" >0.1</th>\n",
       "                        <td id=\"T_97df9332_8cea_11ea_b981_a683e732cddbrow0_col0\" class=\"data row0 col0\" >1.085</td>\n",
       "                        <td id=\"T_97df9332_8cea_11ea_b981_a683e732cddbrow0_col1\" class=\"data row0 col1\" >1.096</td>\n",
       "            </tr>\n",
       "            <tr>\n",
       "                                <th id=\"T_97df9332_8cea_11ea_b981_a683e732cddblevel1_row1\" class=\"row_heading level1 row1\" >0.2</th>\n",
       "                        <td id=\"T_97df9332_8cea_11ea_b981_a683e732cddbrow1_col0\" class=\"data row1 col0\" >1.106</td>\n",
       "                        <td id=\"T_97df9332_8cea_11ea_b981_a683e732cddbrow1_col1\" class=\"data row1 col1\" >1.094</td>\n",
       "            </tr>\n",
       "            <tr>\n",
       "                                <th id=\"T_97df9332_8cea_11ea_b981_a683e732cddblevel1_row2\" class=\"row_heading level1 row2\" >0.5</th>\n",
       "                        <td id=\"T_97df9332_8cea_11ea_b981_a683e732cddbrow2_col0\" class=\"data row2 col0\" >1.082</td>\n",
       "                        <td id=\"T_97df9332_8cea_11ea_b981_a683e732cddbrow2_col1\" class=\"data row2 col1\" >1.112</td>\n",
       "            </tr>\n",
       "            <tr>\n",
       "                        <th id=\"T_97df9332_8cea_11ea_b981_a683e732cddblevel0_row3\" class=\"row_heading level0 row3\" rowspan=3>0.01</th>\n",
       "                        <th id=\"T_97df9332_8cea_11ea_b981_a683e732cddblevel1_row3\" class=\"row_heading level1 row3\" >0.1</th>\n",
       "                        <td id=\"T_97df9332_8cea_11ea_b981_a683e732cddbrow3_col0\" class=\"data row3 col0\" >0.890</td>\n",
       "                        <td id=\"T_97df9332_8cea_11ea_b981_a683e732cddbrow3_col1\" class=\"data row3 col1\" >0.898</td>\n",
       "            </tr>\n",
       "            <tr>\n",
       "                                <th id=\"T_97df9332_8cea_11ea_b981_a683e732cddblevel1_row4\" class=\"row_heading level1 row4\" >0.2</th>\n",
       "                        <td id=\"T_97df9332_8cea_11ea_b981_a683e732cddbrow4_col0\" class=\"data row4 col0\" >0.930</td>\n",
       "                        <td id=\"T_97df9332_8cea_11ea_b981_a683e732cddbrow4_col1\" class=\"data row4 col1\" >0.911</td>\n",
       "            </tr>\n",
       "            <tr>\n",
       "                                <th id=\"T_97df9332_8cea_11ea_b981_a683e732cddblevel1_row5\" class=\"row_heading level1 row5\" >0.5</th>\n",
       "                        <td id=\"T_97df9332_8cea_11ea_b981_a683e732cddbrow5_col0\" class=\"data row5 col0\" >0.940</td>\n",
       "                        <td id=\"T_97df9332_8cea_11ea_b981_a683e732cddbrow5_col1\" class=\"data row5 col1\" >0.947</td>\n",
       "            </tr>\n",
       "            <tr>\n",
       "                        <th id=\"T_97df9332_8cea_11ea_b981_a683e732cddblevel0_row6\" class=\"row_heading level0 row6\" rowspan=3>0.1</th>\n",
       "                        <th id=\"T_97df9332_8cea_11ea_b981_a683e732cddblevel1_row6\" class=\"row_heading level1 row6\" >0.1</th>\n",
       "                        <td id=\"T_97df9332_8cea_11ea_b981_a683e732cddbrow6_col0\" class=\"data row6 col0\" >0.892</td>\n",
       "                        <td id=\"T_97df9332_8cea_11ea_b981_a683e732cddbrow6_col1\" class=\"data row6 col1\" >0.873</td>\n",
       "            </tr>\n",
       "            <tr>\n",
       "                                <th id=\"T_97df9332_8cea_11ea_b981_a683e732cddblevel1_row7\" class=\"row_heading level1 row7\" >0.2</th>\n",
       "                        <td id=\"T_97df9332_8cea_11ea_b981_a683e732cddbrow7_col0\" class=\"data row7 col0\" >0.878</td>\n",
       "                        <td id=\"T_97df9332_8cea_11ea_b981_a683e732cddbrow7_col1\" class=\"data row7 col1\" >0.828</td>\n",
       "            </tr>\n",
       "            <tr>\n",
       "                                <th id=\"T_97df9332_8cea_11ea_b981_a683e732cddblevel1_row8\" class=\"row_heading level1 row8\" >0.5</th>\n",
       "                        <td id=\"T_97df9332_8cea_11ea_b981_a683e732cddbrow8_col0\" class=\"data row8 col0\" >0.866</td>\n",
       "                        <td id=\"T_97df9332_8cea_11ea_b981_a683e732cddbrow8_col1\" class=\"data row8 col1\" >0.856</td>\n",
       "            </tr>\n",
       "    </tbody></table>"
      ],
      "text/plain": [
       "<pandas.io.formats.style.Styler at 0x1b8a47fd0>"
      ]
     },
     "execution_count": 285,
     "metadata": {},
     "output_type": "execute_result"
    }
   ],
   "source": [
    "''' Visualize ATAC-seq grid search'''\n",
    "param_result_eval = atac_param_result.copy()\n",
    "for i, row in enumerate(atac_param_result):\n",
    "    for j, v in enumerate(row):\n",
    "        if isinstance(v, tf.Tensor):\n",
    "            val = tf.keras.backend.eval(v)\n",
    "            param_result_eval[i][j] = val\n",
    "            \n",
    "\n",
    "atac_grid_search_df = pd.DataFrame(param_result_eval, \n",
    "                             columns=['dropout rate',\n",
    "                                      'L2 lambda',\n",
    "                                      'learning rate',\n",
    "                                      'validation loss'])\n",
    "atac_grid_search_pivot = (atac_grid_search_df\n",
    "                     .pivot_table(values=['validation loss'],\n",
    "                                  columns=['L2 lambda'],\n",
    "                                  index=['learning rate', 'dropout rate']))\n",
    "atac_grid_search_pivot.style.format('{:.3f}').background_gradient(cmap='magma_r',\n",
    "                                                             axis=None)"
   ]
  },
  {
   "cell_type": "code",
   "execution_count": 286,
   "metadata": {},
   "outputs": [
    {
     "data": {
      "text/html": [
       "<style  type=\"text/css\" >\n",
       "    #T_995e7552_8cea_11ea_b981_a683e732cddbrow0_col0 {\n",
       "            background-color:  #090720;\n",
       "            color:  #f1f1f1;\n",
       "        }    #T_995e7552_8cea_11ea_b981_a683e732cddbrow0_col1 {\n",
       "            background-color:  #010108;\n",
       "            color:  #f1f1f1;\n",
       "        }    #T_995e7552_8cea_11ea_b981_a683e732cddbrow1_col0 {\n",
       "            background-color:  #1c1044;\n",
       "            color:  #f1f1f1;\n",
       "        }    #T_995e7552_8cea_11ea_b981_a683e732cddbrow1_col1 {\n",
       "            background-color:  #000004;\n",
       "            color:  #f1f1f1;\n",
       "        }    #T_995e7552_8cea_11ea_b981_a683e732cddbrow2_col0 {\n",
       "            background-color:  #040414;\n",
       "            color:  #f1f1f1;\n",
       "        }    #T_995e7552_8cea_11ea_b981_a683e732cddbrow2_col1 {\n",
       "            background-color:  #03030f;\n",
       "            color:  #f1f1f1;\n",
       "        }    #T_995e7552_8cea_11ea_b981_a683e732cddbrow3_col0 {\n",
       "            background-color:  #fcfdbf;\n",
       "            color:  #000000;\n",
       "        }    #T_995e7552_8cea_11ea_b981_a683e732cddbrow3_col1 {\n",
       "            background-color:  #fcf2b4;\n",
       "            color:  #000000;\n",
       "        }    #T_995e7552_8cea_11ea_b981_a683e732cddbrow4_col0 {\n",
       "            background-color:  #fddea0;\n",
       "            color:  #000000;\n",
       "        }    #T_995e7552_8cea_11ea_b981_a683e732cddbrow4_col1 {\n",
       "            background-color:  #fec88c;\n",
       "            color:  #000000;\n",
       "        }    #T_995e7552_8cea_11ea_b981_a683e732cddbrow5_col0 {\n",
       "            background-color:  #b73779;\n",
       "            color:  #f1f1f1;\n",
       "        }    #T_995e7552_8cea_11ea_b981_a683e732cddbrow5_col1 {\n",
       "            background-color:  #b83779;\n",
       "            color:  #f1f1f1;\n",
       "        }    #T_995e7552_8cea_11ea_b981_a683e732cddbrow6_col0 {\n",
       "            background-color:  #fddc9e;\n",
       "            color:  #000000;\n",
       "        }    #T_995e7552_8cea_11ea_b981_a683e732cddbrow6_col1 {\n",
       "            background-color:  #fcf2b4;\n",
       "            color:  #000000;\n",
       "        }    #T_995e7552_8cea_11ea_b981_a683e732cddbrow7_col0 {\n",
       "            background-color:  #fec88c;\n",
       "            color:  #000000;\n",
       "        }    #T_995e7552_8cea_11ea_b981_a683e732cddbrow7_col1 {\n",
       "            background-color:  #fdebac;\n",
       "            color:  #000000;\n",
       "        }    #T_995e7552_8cea_11ea_b981_a683e732cddbrow8_col0 {\n",
       "            background-color:  #fea36f;\n",
       "            color:  #000000;\n",
       "        }    #T_995e7552_8cea_11ea_b981_a683e732cddbrow8_col1 {\n",
       "            background-color:  #feae77;\n",
       "            color:  #000000;\n",
       "        }</style><table id=\"T_995e7552_8cea_11ea_b981_a683e732cddb\" ><thead>    <tr>        <th class=\"blank\" ></th>        <th class=\"blank level0\" ></th>        <th class=\"col_heading level0 col0\" colspan=2>validation loss</th>    </tr>    <tr>        <th class=\"blank\" ></th>        <th class=\"index_name level1\" >L2 lambda</th>        <th class=\"col_heading level1 col0\" >1e-06</th>        <th class=\"col_heading level1 col1\" >0.001</th>    </tr>    <tr>        <th class=\"index_name level0\" >learning rate</th>        <th class=\"index_name level1\" >dropout rate</th>        <th class=\"blank\" ></th>        <th class=\"blank\" ></th>    </tr></thead><tbody>\n",
       "                <tr>\n",
       "                        <th id=\"T_995e7552_8cea_11ea_b981_a683e732cddblevel0_row0\" class=\"row_heading level0 row0\" rowspan=3>0.0001</th>\n",
       "                        <th id=\"T_995e7552_8cea_11ea_b981_a683e732cddblevel1_row0\" class=\"row_heading level1 row0\" >0.1</th>\n",
       "                        <td id=\"T_995e7552_8cea_11ea_b981_a683e732cddbrow0_col0\" class=\"data row0 col0\" >1.077</td>\n",
       "                        <td id=\"T_995e7552_8cea_11ea_b981_a683e732cddbrow0_col1\" class=\"data row0 col1\" >1.120</td>\n",
       "            </tr>\n",
       "            <tr>\n",
       "                                <th id=\"T_995e7552_8cea_11ea_b981_a683e732cddblevel1_row1\" class=\"row_heading level1 row1\" >0.2</th>\n",
       "                        <td id=\"T_995e7552_8cea_11ea_b981_a683e732cddbrow1_col0\" class=\"data row1 col0\" >1.020</td>\n",
       "                        <td id=\"T_995e7552_8cea_11ea_b981_a683e732cddbrow1_col1\" class=\"data row1 col1\" >1.131</td>\n",
       "            </tr>\n",
       "            <tr>\n",
       "                                <th id=\"T_995e7552_8cea_11ea_b981_a683e732cddblevel1_row2\" class=\"row_heading level1 row2\" >0.5</th>\n",
       "                        <td id=\"T_995e7552_8cea_11ea_b981_a683e732cddbrow2_col0\" class=\"data row2 col0\" >1.098</td>\n",
       "                        <td id=\"T_995e7552_8cea_11ea_b981_a683e732cddbrow2_col1\" class=\"data row2 col1\" >1.104</td>\n",
       "            </tr>\n",
       "            <tr>\n",
       "                        <th id=\"T_995e7552_8cea_11ea_b981_a683e732cddblevel0_row3\" class=\"row_heading level0 row3\" rowspan=3>0.01</th>\n",
       "                        <th id=\"T_995e7552_8cea_11ea_b981_a683e732cddblevel1_row3\" class=\"row_heading level1 row3\" >0.1</th>\n",
       "                        <td id=\"T_995e7552_8cea_11ea_b981_a683e732cddbrow3_col0\" class=\"data row3 col0\" >0.236</td>\n",
       "                        <td id=\"T_995e7552_8cea_11ea_b981_a683e732cddbrow3_col1\" class=\"data row3 col1\" >0.258</td>\n",
       "            </tr>\n",
       "            <tr>\n",
       "                                <th id=\"T_995e7552_8cea_11ea_b981_a683e732cddblevel1_row4\" class=\"row_heading level1 row4\" >0.2</th>\n",
       "                        <td id=\"T_995e7552_8cea_11ea_b981_a683e732cddbrow4_col0\" class=\"data row4 col0\" >0.299</td>\n",
       "                        <td id=\"T_995e7552_8cea_11ea_b981_a683e732cddbrow4_col1\" class=\"data row4 col1\" >0.340</td>\n",
       "            </tr>\n",
       "            <tr>\n",
       "                                <th id=\"T_995e7552_8cea_11ea_b981_a683e732cddblevel1_row5\" class=\"row_heading level1 row5\" >0.5</th>\n",
       "                        <td id=\"T_995e7552_8cea_11ea_b981_a683e732cddbrow5_col0\" class=\"data row5 col0\" >0.681</td>\n",
       "                        <td id=\"T_995e7552_8cea_11ea_b981_a683e732cddbrow5_col1\" class=\"data row5 col1\" >0.680</td>\n",
       "            </tr>\n",
       "            <tr>\n",
       "                        <th id=\"T_995e7552_8cea_11ea_b981_a683e732cddblevel0_row6\" class=\"row_heading level0 row6\" rowspan=3>0.1</th>\n",
       "                        <th id=\"T_995e7552_8cea_11ea_b981_a683e732cddblevel1_row6\" class=\"row_heading level1 row6\" >0.1</th>\n",
       "                        <td id=\"T_995e7552_8cea_11ea_b981_a683e732cddbrow6_col0\" class=\"data row6 col0\" >0.302</td>\n",
       "                        <td id=\"T_995e7552_8cea_11ea_b981_a683e732cddbrow6_col1\" class=\"data row6 col1\" >0.259</td>\n",
       "            </tr>\n",
       "            <tr>\n",
       "                                <th id=\"T_995e7552_8cea_11ea_b981_a683e732cddblevel1_row7\" class=\"row_heading level1 row7\" >0.2</th>\n",
       "                        <td id=\"T_995e7552_8cea_11ea_b981_a683e732cddbrow7_col0\" class=\"data row7 col0\" >0.339</td>\n",
       "                        <td id=\"T_995e7552_8cea_11ea_b981_a683e732cddbrow7_col1\" class=\"data row7 col1\" >0.273</td>\n",
       "            </tr>\n",
       "            <tr>\n",
       "                                <th id=\"T_995e7552_8cea_11ea_b981_a683e732cddblevel1_row8\" class=\"row_heading level1 row8\" >0.5</th>\n",
       "                        <td id=\"T_995e7552_8cea_11ea_b981_a683e732cddbrow8_col0\" class=\"data row8 col0\" >0.411</td>\n",
       "                        <td id=\"T_995e7552_8cea_11ea_b981_a683e732cddbrow8_col1\" class=\"data row8 col1\" >0.388</td>\n",
       "            </tr>\n",
       "    </tbody></table>"
      ],
      "text/plain": [
       "<pandas.io.formats.style.Styler at 0x158163f10>"
      ]
     },
     "execution_count": 286,
     "metadata": {},
     "output_type": "execute_result"
    }
   ],
   "source": [
    "''' Visualize RNA-seq grid search'''\n",
    "rna_param_result_eval = rna_param_result.copy()\n",
    "for i, row in enumerate(rna_param_result):\n",
    "    for j, v in enumerate(row):\n",
    "        if isinstance(v, tf.Tensor):\n",
    "            val = tf.keras.backend.eval(v)\n",
    "            rna_param_result_eval[i][j] = val\n",
    "            \n",
    "rna_grid_search_df = pd.DataFrame(rna_param_result_eval, \n",
    "                             columns=['dropout rate',\n",
    "                                      'L2 lambda',\n",
    "                                      'learning rate',\n",
    "                                      'validation loss'])\n",
    "rna_grid_search_pivot = (rna_grid_search_df\n",
    "                     .pivot_table(values=['validation loss'],\n",
    "                                  columns=['L2 lambda'],\n",
    "                                  index=['learning rate', 'dropout rate']))\n",
    "rna_grid_search_pivot.style.format('{:.3f}').background_gradient(cmap='magma_r',\n",
    "                                                             axis=None)"
   ]
  },
  {
   "cell_type": "code",
   "execution_count": 287,
   "metadata": {},
   "outputs": [
    {
     "data": {
      "text/html": [
       "<style  type=\"text/css\" >\n",
       "    #T_99afc33a_8cea_11ea_b981_a683e732cddbrow0_col0 {\n",
       "            background-color:  #000004;\n",
       "            color:  #f1f1f1;\n",
       "        }    #T_99afc33a_8cea_11ea_b981_a683e732cddbrow0_col1 {\n",
       "            background-color:  #030312;\n",
       "            color:  #f1f1f1;\n",
       "        }    #T_99afc33a_8cea_11ea_b981_a683e732cddbrow1_col0 {\n",
       "            background-color:  #1a1042;\n",
       "            color:  #f1f1f1;\n",
       "        }    #T_99afc33a_8cea_11ea_b981_a683e732cddbrow1_col1 {\n",
       "            background-color:  #130d34;\n",
       "            color:  #f1f1f1;\n",
       "        }    #T_99afc33a_8cea_11ea_b981_a683e732cddbrow2_col0 {\n",
       "            background-color:  #0e0b2b;\n",
       "            color:  #f1f1f1;\n",
       "        }    #T_99afc33a_8cea_11ea_b981_a683e732cddbrow2_col1 {\n",
       "            background-color:  #010005;\n",
       "            color:  #f1f1f1;\n",
       "        }    #T_99afc33a_8cea_11ea_b981_a683e732cddbrow3_col0 {\n",
       "            background-color:  #fdebac;\n",
       "            color:  #000000;\n",
       "        }    #T_99afc33a_8cea_11ea_b981_a683e732cddbrow3_col1 {\n",
       "            background-color:  #fcfdbf;\n",
       "            color:  #000000;\n",
       "        }    #T_99afc33a_8cea_11ea_b981_a683e732cddbrow4_col0 {\n",
       "            background-color:  #fed89a;\n",
       "            color:  #000000;\n",
       "        }    #T_99afc33a_8cea_11ea_b981_a683e732cddbrow4_col1 {\n",
       "            background-color:  #fcf0b2;\n",
       "            color:  #000000;\n",
       "        }    #T_99afc33a_8cea_11ea_b981_a683e732cddbrow5_col0 {\n",
       "            background-color:  #a6317d;\n",
       "            color:  #f1f1f1;\n",
       "        }    #T_99afc33a_8cea_11ea_b981_a683e732cddbrow5_col1 {\n",
       "            background-color:  #9e2f7f;\n",
       "            color:  #f1f1f1;\n",
       "        }    #T_99afc33a_8cea_11ea_b981_a683e732cddbrow6_col0 {\n",
       "            background-color:  #fed194;\n",
       "            color:  #000000;\n",
       "        }    #T_99afc33a_8cea_11ea_b981_a683e732cddbrow6_col1 {\n",
       "            background-color:  #fed89a;\n",
       "            color:  #000000;\n",
       "        }    #T_99afc33a_8cea_11ea_b981_a683e732cddbrow7_col0 {\n",
       "            background-color:  #fde3a5;\n",
       "            color:  #000000;\n",
       "        }    #T_99afc33a_8cea_11ea_b981_a683e732cddbrow7_col1 {\n",
       "            background-color:  #fcf6b8;\n",
       "            color:  #000000;\n",
       "        }    #T_99afc33a_8cea_11ea_b981_a683e732cddbrow8_col0 {\n",
       "            background-color:  #fd9467;\n",
       "            color:  #000000;\n",
       "        }    #T_99afc33a_8cea_11ea_b981_a683e732cddbrow8_col1 {\n",
       "            background-color:  #fed799;\n",
       "            color:  #000000;\n",
       "        }</style><table id=\"T_99afc33a_8cea_11ea_b981_a683e732cddb\" ><thead>    <tr>        <th class=\"blank\" ></th>        <th class=\"blank level0\" ></th>        <th class=\"col_heading level0 col0\" colspan=2>validation loss</th>    </tr>    <tr>        <th class=\"blank\" ></th>        <th class=\"index_name level1\" >L2 lambda</th>        <th class=\"col_heading level1 col0\" >1e-06</th>        <th class=\"col_heading level1 col1\" >0.001</th>    </tr>    <tr>        <th class=\"index_name level0\" >learning rate</th>        <th class=\"index_name level1\" >dropout rate</th>        <th class=\"blank\" ></th>        <th class=\"blank\" ></th>    </tr></thead><tbody>\n",
       "                <tr>\n",
       "                        <th id=\"T_99afc33a_8cea_11ea_b981_a683e732cddblevel0_row0\" class=\"row_heading level0 row0\" rowspan=3>0.0001</th>\n",
       "                        <th id=\"T_99afc33a_8cea_11ea_b981_a683e732cddblevel1_row0\" class=\"row_heading level1 row0\" >0.1</th>\n",
       "                        <td id=\"T_99afc33a_8cea_11ea_b981_a683e732cddbrow0_col0\" class=\"data row0 col0\" >1.184</td>\n",
       "                        <td id=\"T_99afc33a_8cea_11ea_b981_a683e732cddbrow0_col1\" class=\"data row0 col1\" >1.153</td>\n",
       "            </tr>\n",
       "            <tr>\n",
       "                                <th id=\"T_99afc33a_8cea_11ea_b981_a683e732cddblevel1_row1\" class=\"row_heading level1 row1\" >0.2</th>\n",
       "                        <td id=\"T_99afc33a_8cea_11ea_b981_a683e732cddbrow1_col0\" class=\"data row1 col0\" >1.068</td>\n",
       "                        <td id=\"T_99afc33a_8cea_11ea_b981_a683e732cddbrow1_col1\" class=\"data row1 col1\" >1.090</td>\n",
       "            </tr>\n",
       "            <tr>\n",
       "                                <th id=\"T_99afc33a_8cea_11ea_b981_a683e732cddblevel1_row2\" class=\"row_heading level1 row2\" >0.5</th>\n",
       "                        <td id=\"T_99afc33a_8cea_11ea_b981_a683e732cddbrow2_col0\" class=\"data row2 col0\" >1.108</td>\n",
       "                        <td id=\"T_99afc33a_8cea_11ea_b981_a683e732cddbrow2_col1\" class=\"data row2 col1\" >1.179</td>\n",
       "            </tr>\n",
       "            <tr>\n",
       "                        <th id=\"T_99afc33a_8cea_11ea_b981_a683e732cddblevel0_row3\" class=\"row_heading level0 row3\" rowspan=3>0.01</th>\n",
       "                        <th id=\"T_99afc33a_8cea_11ea_b981_a683e732cddblevel1_row3\" class=\"row_heading level1 row3\" >0.1</th>\n",
       "                        <td id=\"T_99afc33a_8cea_11ea_b981_a683e732cddbrow3_col0\" class=\"data row3 col0\" >0.260</td>\n",
       "                        <td id=\"T_99afc33a_8cea_11ea_b981_a683e732cddbrow3_col1\" class=\"data row3 col1\" >0.220</td>\n",
       "            </tr>\n",
       "            <tr>\n",
       "                                <th id=\"T_99afc33a_8cea_11ea_b981_a683e732cddblevel1_row4\" class=\"row_heading level1 row4\" >0.2</th>\n",
       "                        <td id=\"T_99afc33a_8cea_11ea_b981_a683e732cddbrow4_col0\" class=\"data row4 col0\" >0.299</td>\n",
       "                        <td id=\"T_99afc33a_8cea_11ea_b981_a683e732cddbrow4_col1\" class=\"data row4 col1\" >0.247</td>\n",
       "            </tr>\n",
       "            <tr>\n",
       "                                <th id=\"T_99afc33a_8cea_11ea_b981_a683e732cddblevel1_row5\" class=\"row_heading level1 row5\" >0.5</th>\n",
       "                        <td id=\"T_99afc33a_8cea_11ea_b981_a683e732cddbrow5_col0\" class=\"data row5 col0\" >0.739</td>\n",
       "                        <td id=\"T_99afc33a_8cea_11ea_b981_a683e732cddbrow5_col1\" class=\"data row5 col1\" >0.755</td>\n",
       "            </tr>\n",
       "            <tr>\n",
       "                        <th id=\"T_99afc33a_8cea_11ea_b981_a683e732cddblevel0_row6\" class=\"row_heading level0 row6\" rowspan=3>0.1</th>\n",
       "                        <th id=\"T_99afc33a_8cea_11ea_b981_a683e732cddblevel1_row6\" class=\"row_heading level1 row6\" >0.1</th>\n",
       "                        <td id=\"T_99afc33a_8cea_11ea_b981_a683e732cddbrow6_col0\" class=\"data row6 col0\" >0.312</td>\n",
       "                        <td id=\"T_99afc33a_8cea_11ea_b981_a683e732cddbrow6_col1\" class=\"data row6 col1\" >0.297</td>\n",
       "            </tr>\n",
       "            <tr>\n",
       "                                <th id=\"T_99afc33a_8cea_11ea_b981_a683e732cddblevel1_row7\" class=\"row_heading level1 row7\" >0.2</th>\n",
       "                        <td id=\"T_99afc33a_8cea_11ea_b981_a683e732cddbrow7_col0\" class=\"data row7 col0\" >0.276</td>\n",
       "                        <td id=\"T_99afc33a_8cea_11ea_b981_a683e732cddbrow7_col1\" class=\"data row7 col1\" >0.239</td>\n",
       "            </tr>\n",
       "            <tr>\n",
       "                                <th id=\"T_99afc33a_8cea_11ea_b981_a683e732cddblevel1_row8\" class=\"row_heading level1 row8\" >0.5</th>\n",
       "                        <td id=\"T_99afc33a_8cea_11ea_b981_a683e732cddbrow8_col0\" class=\"data row8 col0\" >0.437</td>\n",
       "                        <td id=\"T_99afc33a_8cea_11ea_b981_a683e732cddbrow8_col1\" class=\"data row8 col1\" >0.303</td>\n",
       "            </tr>\n",
       "    </tbody></table>"
      ],
      "text/plain": [
       "<pandas.io.formats.style.Styler at 0x158a8b410>"
      ]
     },
     "execution_count": 287,
     "metadata": {},
     "output_type": "execute_result"
    }
   ],
   "source": [
    "''' Visualize Bimodal grid search'''\n",
    "bimodal_param_result_eval = bimodal_param_result.copy()\n",
    "for i, row in enumerate(bimodal_param_result):\n",
    "    for j, v in enumerate(row):\n",
    "        if isinstance(v, tf.Tensor):\n",
    "            val = tf.keras.backend.eval(v)\n",
    "            bimodal_param_result_eval[i][j] = val\n",
    "            \n",
    "bimodal_grid_search_df = pd.DataFrame(bimodal_param_result_eval, \n",
    "                             columns=['dropout rate',\n",
    "                                      'L2 lambda',\n",
    "                                      'learning rate',\n",
    "                                      'validation loss'])\n",
    "bimodal_grid_search_pivot = (bimodal_grid_search_df\n",
    "                     .pivot_table(values=['validation loss'],\n",
    "                                  columns=['L2 lambda'],\n",
    "                                  index=['learning rate', 'dropout rate']))\n",
    "bimodal_grid_search_pivot.style.format('{:.3f}').background_gradient(cmap='magma_r',\n",
    "                                                             axis=None)"
   ]
  },
  {
   "cell_type": "code",
   "execution_count": 288,
   "metadata": {},
   "outputs": [
    {
     "data": {
      "text/html": [
       "<style  type=\"text/css\" >\n",
       "    #T_9a14f746_8cea_11ea_b981_a683e732cddbrow0_col0 {\n",
       "            background-color:  #06051a;\n",
       "            color:  #f1f1f1;\n",
       "        }    #T_9a14f746_8cea_11ea_b981_a683e732cddbrow0_col1 {\n",
       "            background-color:  #1a1042;\n",
       "            color:  #f1f1f1;\n",
       "        }    #T_9a14f746_8cea_11ea_b981_a683e732cddbrow1_col0 {\n",
       "            background-color:  #050416;\n",
       "            color:  #f1f1f1;\n",
       "        }    #T_9a14f746_8cea_11ea_b981_a683e732cddbrow1_col1 {\n",
       "            background-color:  #06051a;\n",
       "            color:  #f1f1f1;\n",
       "        }    #T_9a14f746_8cea_11ea_b981_a683e732cddbrow2_col0 {\n",
       "            background-color:  #000004;\n",
       "            color:  #f1f1f1;\n",
       "        }    #T_9a14f746_8cea_11ea_b981_a683e732cddbrow2_col1 {\n",
       "            background-color:  #06051a;\n",
       "            color:  #f1f1f1;\n",
       "        }    #T_9a14f746_8cea_11ea_b981_a683e732cddbrow3_col0 {\n",
       "            background-color:  #fcf4b6;\n",
       "            color:  #000000;\n",
       "        }    #T_9a14f746_8cea_11ea_b981_a683e732cddbrow3_col1 {\n",
       "            background-color:  #fcf4b6;\n",
       "            color:  #000000;\n",
       "        }    #T_9a14f746_8cea_11ea_b981_a683e732cddbrow4_col0 {\n",
       "            background-color:  #fcfbbd;\n",
       "            color:  #000000;\n",
       "        }    #T_9a14f746_8cea_11ea_b981_a683e732cddbrow4_col1 {\n",
       "            background-color:  #fcf6b8;\n",
       "            color:  #000000;\n",
       "        }    #T_9a14f746_8cea_11ea_b981_a683e732cddbrow5_col0 {\n",
       "            background-color:  #fcf9bb;\n",
       "            color:  #000000;\n",
       "        }    #T_9a14f746_8cea_11ea_b981_a683e732cddbrow5_col1 {\n",
       "            background-color:  #fcfbbd;\n",
       "            color:  #000000;\n",
       "        }    #T_9a14f746_8cea_11ea_b981_a683e732cddbrow6_col0 {\n",
       "            background-color:  #fcf9bb;\n",
       "            color:  #000000;\n",
       "        }    #T_9a14f746_8cea_11ea_b981_a683e732cddbrow6_col1 {\n",
       "            background-color:  #fcfdbf;\n",
       "            color:  #000000;\n",
       "        }    #T_9a14f746_8cea_11ea_b981_a683e732cddbrow7_col0 {\n",
       "            background-color:  #fcfdbf;\n",
       "            color:  #000000;\n",
       "        }    #T_9a14f746_8cea_11ea_b981_a683e732cddbrow7_col1 {\n",
       "            background-color:  #fcfbbd;\n",
       "            color:  #000000;\n",
       "        }    #T_9a14f746_8cea_11ea_b981_a683e732cddbrow8_col0 {\n",
       "            background-color:  #fcf9bb;\n",
       "            color:  #000000;\n",
       "        }    #T_9a14f746_8cea_11ea_b981_a683e732cddbrow8_col1 {\n",
       "            background-color:  #fcfbbd;\n",
       "            color:  #000000;\n",
       "        }</style><table id=\"T_9a14f746_8cea_11ea_b981_a683e732cddb\" ><thead>    <tr>        <th class=\"blank\" ></th>        <th class=\"blank level0\" ></th>        <th class=\"col_heading level0 col0\" colspan=2>validation loss</th>    </tr>    <tr>        <th class=\"blank\" ></th>        <th class=\"index_name level1\" >L2 lambda</th>        <th class=\"col_heading level1 col0\" >1e-06</th>        <th class=\"col_heading level1 col1\" >0.001</th>    </tr>    <tr>        <th class=\"index_name level0\" >learning rate</th>        <th class=\"index_name level1\" >dropout rate</th>        <th class=\"blank\" ></th>        <th class=\"blank\" ></th>    </tr></thead><tbody>\n",
       "                <tr>\n",
       "                        <th id=\"T_9a14f746_8cea_11ea_b981_a683e732cddblevel0_row0\" class=\"row_heading level0 row0\" rowspan=3>0.0001</th>\n",
       "                        <th id=\"T_9a14f746_8cea_11ea_b981_a683e732cddblevel1_row0\" class=\"row_heading level1 row0\" >0.1</th>\n",
       "                        <td id=\"T_9a14f746_8cea_11ea_b981_a683e732cddbrow0_col0\" class=\"data row0 col0\" >1.096</td>\n",
       "                        <td id=\"T_9a14f746_8cea_11ea_b981_a683e732cddbrow0_col1\" class=\"data row0 col1\" >1.094</td>\n",
       "            </tr>\n",
       "            <tr>\n",
       "                                <th id=\"T_9a14f746_8cea_11ea_b981_a683e732cddblevel1_row1\" class=\"row_heading level1 row1\" >0.2</th>\n",
       "                        <td id=\"T_9a14f746_8cea_11ea_b981_a683e732cddbrow1_col0\" class=\"data row1 col0\" >1.096</td>\n",
       "                        <td id=\"T_9a14f746_8cea_11ea_b981_a683e732cddbrow1_col1\" class=\"data row1 col1\" >1.096</td>\n",
       "            </tr>\n",
       "            <tr>\n",
       "                                <th id=\"T_9a14f746_8cea_11ea_b981_a683e732cddblevel1_row2\" class=\"row_heading level1 row2\" >0.5</th>\n",
       "                        <td id=\"T_9a14f746_8cea_11ea_b981_a683e732cddbrow2_col0\" class=\"data row2 col0\" >1.097</td>\n",
       "                        <td id=\"T_9a14f746_8cea_11ea_b981_a683e732cddbrow2_col1\" class=\"data row2 col1\" >1.096</td>\n",
       "            </tr>\n",
       "            <tr>\n",
       "                        <th id=\"T_9a14f746_8cea_11ea_b981_a683e732cddblevel0_row3\" class=\"row_heading level0 row3\" rowspan=3>0.01</th>\n",
       "                        <th id=\"T_9a14f746_8cea_11ea_b981_a683e732cddblevel1_row3\" class=\"row_heading level1 row3\" >0.1</th>\n",
       "                        <td id=\"T_9a14f746_8cea_11ea_b981_a683e732cddbrow3_col0\" class=\"data row3 col0\" >1.075</td>\n",
       "                        <td id=\"T_9a14f746_8cea_11ea_b981_a683e732cddbrow3_col1\" class=\"data row3 col1\" >1.075</td>\n",
       "            </tr>\n",
       "            <tr>\n",
       "                                <th id=\"T_9a14f746_8cea_11ea_b981_a683e732cddblevel1_row4\" class=\"row_heading level1 row4\" >0.2</th>\n",
       "                        <td id=\"T_9a14f746_8cea_11ea_b981_a683e732cddbrow4_col0\" class=\"data row4 col0\" >1.075</td>\n",
       "                        <td id=\"T_9a14f746_8cea_11ea_b981_a683e732cddbrow4_col1\" class=\"data row4 col1\" >1.075</td>\n",
       "            </tr>\n",
       "            <tr>\n",
       "                                <th id=\"T_9a14f746_8cea_11ea_b981_a683e732cddblevel1_row5\" class=\"row_heading level1 row5\" >0.5</th>\n",
       "                        <td id=\"T_9a14f746_8cea_11ea_b981_a683e732cddbrow5_col0\" class=\"data row5 col0\" >1.075</td>\n",
       "                        <td id=\"T_9a14f746_8cea_11ea_b981_a683e732cddbrow5_col1\" class=\"data row5 col1\" >1.075</td>\n",
       "            </tr>\n",
       "            <tr>\n",
       "                        <th id=\"T_9a14f746_8cea_11ea_b981_a683e732cddblevel0_row6\" class=\"row_heading level0 row6\" rowspan=3>0.1</th>\n",
       "                        <th id=\"T_9a14f746_8cea_11ea_b981_a683e732cddblevel1_row6\" class=\"row_heading level1 row6\" >0.1</th>\n",
       "                        <td id=\"T_9a14f746_8cea_11ea_b981_a683e732cddbrow6_col0\" class=\"data row6 col0\" >1.075</td>\n",
       "                        <td id=\"T_9a14f746_8cea_11ea_b981_a683e732cddbrow6_col1\" class=\"data row6 col1\" >1.075</td>\n",
       "            </tr>\n",
       "            <tr>\n",
       "                                <th id=\"T_9a14f746_8cea_11ea_b981_a683e732cddblevel1_row7\" class=\"row_heading level1 row7\" >0.2</th>\n",
       "                        <td id=\"T_9a14f746_8cea_11ea_b981_a683e732cddbrow7_col0\" class=\"data row7 col0\" >1.075</td>\n",
       "                        <td id=\"T_9a14f746_8cea_11ea_b981_a683e732cddbrow7_col1\" class=\"data row7 col1\" >1.075</td>\n",
       "            </tr>\n",
       "            <tr>\n",
       "                                <th id=\"T_9a14f746_8cea_11ea_b981_a683e732cddblevel1_row8\" class=\"row_heading level1 row8\" >0.5</th>\n",
       "                        <td id=\"T_9a14f746_8cea_11ea_b981_a683e732cddbrow8_col0\" class=\"data row8 col0\" >1.075</td>\n",
       "                        <td id=\"T_9a14f746_8cea_11ea_b981_a683e732cddbrow8_col1\" class=\"data row8 col1\" >1.075</td>\n",
       "            </tr>\n",
       "    </tbody></table>"
      ],
      "text/plain": [
       "<pandas.io.formats.style.Styler at 0x1b6cd8650>"
      ]
     },
     "execution_count": 288,
     "metadata": {},
     "output_type": "execute_result"
    }
   ],
   "source": [
    "''' Visualize low-dimensional Bimodal grid search'''\n",
    "bi_low_param_result_eval = bi_low_param_result.copy()\n",
    "for i, row in enumerate(bi_low_param_result):\n",
    "    for j, v in enumerate(row):\n",
    "        if isinstance(v, tf.Tensor):\n",
    "            val = tf.keras.backend.eval(v)\n",
    "            bi_low_param_result_eval[i][j] = val\n",
    "            \n",
    "bi_low_grid_search_df = pd.DataFrame(bi_low_param_result_eval, \n",
    "                             columns=['dropout rate',\n",
    "                                      'L2 lambda',\n",
    "                                      'learning rate',\n",
    "                                      'validation loss'])\n",
    "bi_low_grid_search_pivot = (bi_low_grid_search_df\n",
    "                     .pivot_table(values=['validation loss'],\n",
    "                                  columns=['L2 lambda'],\n",
    "                                  index=['learning rate', 'dropout rate']))\n",
    "bi_low_grid_search_pivot.style.format('{:.3f}').background_gradient(cmap='magma_r',\n",
    "                                                             axis=None)"
   ]
  },
  {
   "cell_type": "code",
   "execution_count": 289,
   "metadata": {},
   "outputs": [
    {
     "data": {
      "text/plain": [
       "' Predict using validation or test set '"
      ]
     },
     "execution_count": 289,
     "metadata": {},
     "output_type": "execute_result"
    }
   ],
   "source": [
    "''' Predict using validation or test set '''"
   ]
  },
  {
   "cell_type": "code",
   "execution_count": 291,
   "metadata": {},
   "outputs": [
    {
     "name": "stderr",
     "output_type": "stream",
     "text": [
      "\n",
      "\n",
      "\n",
      "\n",
      "Training Epochs:   0%|          | 0/100 [00:00<?, ?it/s]\u001b[A\u001b[A\u001b[A\u001b[A\n",
      "\n",
      "\n",
      "\n",
      "\n",
      "Training Steps: 0it [00:00, ?it/s]\u001b[A\u001b[A\u001b[A\u001b[A\u001b[A\n",
      "\n",
      "\n",
      "\n",
      "\n",
      "Training Steps:   0%|          | 0/37.0 [00:00<?, ?it/s]\u001b[A\u001b[A\u001b[A\u001b[A\u001b[A"
     ]
    },
    {
     "name": "stdout",
     "output_type": "stream",
     "text": [
      "getting initial loss\n"
     ]
    },
    {
     "name": "stderr",
     "output_type": "stream",
     "text": [
      "\n",
      "\n",
      "\n",
      "\n",
      "\n",
      "Training Steps:   3%|▎         | 1/37.0 [00:00<00:14,  2.55it/s]\u001b[A\u001b[A\u001b[A\u001b[A\u001b[A"
     ]
    },
    {
     "name": "stdout",
     "output_type": "stream",
     "text": [
      "epoch: 00, loss: 1.043\n",
      "INFO:tensorflow:Assets written to: models/best_atac_pca_model_pp_fs/assets\n"
     ]
    },
    {
     "name": "stderr",
     "output_type": "stream",
     "text": [
      "\n",
      "\n",
      "\n",
      "\n",
      "\n",
      "Training Steps: 100%|██████████| 37/37.0 [00:01<00:00,  2.55it/s]\u001b[A\u001b[A\u001b[A\u001b[A\u001b[A\n",
      "\n",
      "\n",
      "\n",
      "Training Epochs:   1%|          | 1/100 [00:01<01:58,  1.20s/it]\u001b[A\u001b[A\u001b[A\u001b[A\n",
      "\n",
      "\n",
      "\n",
      "\n",
      "Training Steps:   0%|          | 0/37.0 [00:00<00:14,  2.55it/s] \u001b[A\u001b[A\u001b[A\u001b[A\u001b[A"
     ]
    },
    {
     "name": "stdout",
     "output_type": "stream",
     "text": [
      "INFO:tensorflow:Assets written to: models/best_atac_pca_model_pp_fs/assets\n"
     ]
    },
    {
     "name": "stderr",
     "output_type": "stream",
     "text": [
      "\n",
      "\n",
      "\n",
      "\n",
      "\n",
      "Training Steps: 100%|██████████| 37/37.0 [00:00<00:00,  2.55it/s]\u001b[A\u001b[A\u001b[A\u001b[A\u001b[A\n",
      "\n",
      "\n",
      "\n",
      "Training Epochs:   2%|▏         | 2/100 [00:01<01:43,  1.06s/it]\u001b[A\u001b[A\u001b[A\u001b[A\n",
      "\n",
      "\n",
      "\n",
      "\n",
      "Training Steps:   0%|          | 0/37.0 [00:00<00:14,  2.55it/s] \u001b[A\u001b[A\u001b[A\u001b[A\u001b[A"
     ]
    },
    {
     "name": "stdout",
     "output_type": "stream",
     "text": [
      "INFO:tensorflow:Assets written to: models/best_atac_pca_model_pp_fs/assets\n"
     ]
    },
    {
     "name": "stderr",
     "output_type": "stream",
     "text": [
      "\n",
      "\n",
      "\n",
      "\n",
      "\n",
      "Training Steps: 100%|██████████| 37/37.0 [00:00<00:00,  2.55it/s]\u001b[A\u001b[A\u001b[A\u001b[A\u001b[A\n",
      "\n",
      "\n",
      "\n",
      "Training Epochs:   3%|▎         | 3/100 [00:02<01:31,  1.06it/s]\u001b[A\u001b[A\u001b[A\u001b[A\n",
      "\n",
      "\n",
      "\n",
      "\n",
      "Training Steps:   0%|          | 0/37.0 [00:00<00:14,  2.55it/s] \u001b[A\u001b[A\u001b[A\u001b[A\u001b[A"
     ]
    },
    {
     "name": "stdout",
     "output_type": "stream",
     "text": [
      "INFO:tensorflow:Assets written to: models/best_atac_pca_model_pp_fs/assets\n"
     ]
    },
    {
     "name": "stderr",
     "output_type": "stream",
     "text": [
      "\n",
      "\n",
      "\n",
      "\n",
      "\n",
      "Training Steps: 100%|██████████| 37/37.0 [00:00<00:00,  2.55it/s]\u001b[A\u001b[A\u001b[A\u001b[A\u001b[A\n",
      "\n",
      "\n",
      "\n",
      "Training Epochs:   4%|▍         | 4/100 [00:03<01:23,  1.15it/s]\u001b[A\u001b[A\u001b[A\u001b[A\n",
      "\n",
      "\n",
      "\n",
      "\n",
      "Training Steps:   0%|          | 0/37.0 [00:00<00:14,  2.55it/s] \u001b[A\u001b[A\u001b[A\u001b[A\u001b[A"
     ]
    },
    {
     "name": "stdout",
     "output_type": "stream",
     "text": [
      "INFO:tensorflow:Assets written to: models/best_atac_pca_model_pp_fs/assets\n"
     ]
    },
    {
     "name": "stderr",
     "output_type": "stream",
     "text": [
      "\n",
      "\n",
      "\n",
      "\n",
      "\n",
      "Training Steps: 100%|██████████| 37/37.0 [00:00<00:00,  2.55it/s]\u001b[A\u001b[A\u001b[A\u001b[A\u001b[A\n",
      "\n",
      "\n",
      "\n",
      "Training Epochs:   5%|▌         | 5/100 [00:03<01:17,  1.22it/s]\u001b[A\u001b[A\u001b[A\u001b[A\n",
      "\n",
      "\n",
      "\n",
      "\n",
      "Training Steps:   0%|          | 0/37.0 [00:00<00:14,  2.55it/s] \u001b[A\u001b[A\u001b[A\u001b[A\u001b[A"
     ]
    },
    {
     "name": "stdout",
     "output_type": "stream",
     "text": [
      "epoch: 05, loss: 0.939\n"
     ]
    },
    {
     "name": "stderr",
     "output_type": "stream",
     "text": [
      "\n",
      "\n",
      "\n",
      "\n",
      "\n",
      "Training Steps: 100%|██████████| 37/37.0 [00:00<00:00,  2.55it/s]\u001b[A\u001b[A\u001b[A\u001b[A\u001b[A\n",
      "\n",
      "\n",
      "\n",
      "\n",
      "Training Steps:   0%|          | 0/37.0 [00:00<00:14,  2.55it/s] \u001b[A\u001b[A\u001b[A\u001b[A\u001b[A"
     ]
    },
    {
     "name": "stdout",
     "output_type": "stream",
     "text": [
      "INFO:tensorflow:Assets written to: models/best_atac_pca_model_pp_fs/assets\n"
     ]
    },
    {
     "name": "stderr",
     "output_type": "stream",
     "text": [
      "\n",
      "\n",
      "\n",
      "\n",
      "\n",
      "Training Steps: 100%|██████████| 37/37.0 [00:00<00:00,  2.55it/s]\u001b[A\u001b[A\u001b[A\u001b[A\u001b[A\n",
      "\n",
      "\n",
      "\n",
      "Training Epochs:   7%|▋         | 7/100 [00:04<01:03,  1.47it/s]\u001b[A\u001b[A\u001b[A\u001b[A\n",
      "\n",
      "\n",
      "\n",
      "\n",
      "Training Steps:   0%|          | 0/37.0 [00:00<00:14,  2.55it/s] \u001b[A\u001b[A\u001b[A\u001b[A\u001b[A"
     ]
    },
    {
     "name": "stdout",
     "output_type": "stream",
     "text": [
      "INFO:tensorflow:Assets written to: models/best_atac_pca_model_pp_fs/assets\n"
     ]
    },
    {
     "name": "stderr",
     "output_type": "stream",
     "text": [
      "\n",
      "\n",
      "\n",
      "\n",
      "\n",
      "Training Steps: 100%|██████████| 37/37.0 [00:00<00:00,  2.55it/s]\u001b[A\u001b[A\u001b[A\u001b[A\u001b[A\n",
      "\n",
      "\n",
      "\n",
      "Training Epochs:   8%|▊         | 8/100 [00:05<01:02,  1.48it/s]\u001b[A\u001b[A\u001b[A\u001b[A\n",
      "\n",
      "\n",
      "\n",
      "\n",
      "Training Steps:   0%|          | 0/37.0 [00:00<00:14,  2.55it/s] \u001b[A\u001b[A\u001b[A\u001b[A\u001b[A\n",
      "\n",
      "\n",
      "\n",
      "\n",
      "Training Steps: 100%|██████████| 37/37.0 [00:00<00:00,  2.55it/s]\u001b[A\u001b[A\u001b[A\u001b[A\u001b[A\n",
      "\n",
      "\n",
      "\n",
      "\n",
      "Training Steps:   0%|          | 0/37.0 [00:00<00:14,  2.55it/s] \u001b[A\u001b[A\u001b[A\u001b[A\u001b[A"
     ]
    },
    {
     "name": "stdout",
     "output_type": "stream",
     "text": [
      "INFO:tensorflow:Assets written to: models/best_atac_pca_model_pp_fs/assets\n"
     ]
    },
    {
     "name": "stderr",
     "output_type": "stream",
     "text": [
      "\n",
      "\n",
      "\n",
      "\n",
      "\n",
      "Training Steps: 100%|██████████| 37/37.0 [00:00<00:00,  2.55it/s]\u001b[A\u001b[A\u001b[A\u001b[A\u001b[A\n",
      "\n",
      "\n",
      "\n",
      "Training Epochs:  10%|█         | 10/100 [00:06<00:53,  1.69it/s]\u001b[A\u001b[A\u001b[A\u001b[A\n",
      "\n",
      "\n",
      "\n",
      "\n",
      "Training Steps:   0%|          | 0/37.0 [00:00<00:14,  2.55it/s] \u001b[A\u001b[A\u001b[A\u001b[A\u001b[A"
     ]
    },
    {
     "name": "stdout",
     "output_type": "stream",
     "text": [
      "epoch: 10, loss: 0.920\n"
     ]
    },
    {
     "name": "stderr",
     "output_type": "stream",
     "text": [
      "\n",
      "\n",
      "\n",
      "\n",
      "\n",
      "Training Steps: 100%|██████████| 37/37.0 [00:00<00:00,  2.55it/s]\u001b[A\u001b[A\u001b[A\u001b[A\u001b[A\n",
      "\n",
      "\n",
      "\n",
      "\n",
      "Training Steps:   0%|          | 0/37.0 [00:00<00:14,  2.55it/s] \u001b[A\u001b[A\u001b[A\u001b[A\u001b[A"
     ]
    },
    {
     "name": "stdout",
     "output_type": "stream",
     "text": [
      "INFO:tensorflow:Assets written to: models/best_atac_pca_model_pp_fs/assets\n"
     ]
    },
    {
     "name": "stderr",
     "output_type": "stream",
     "text": [
      "\n",
      "\n",
      "\n",
      "\n",
      "\n",
      "Training Steps: 100%|██████████| 37/37.0 [00:00<00:00,  2.55it/s]\u001b[A\u001b[A\u001b[A\u001b[A\u001b[A\n",
      "\n",
      "\n",
      "\n",
      "Training Epochs:  12%|█▏        | 12/100 [00:06<00:46,  1.90it/s]\u001b[A\u001b[A\u001b[A\u001b[A\n",
      "\n",
      "\n",
      "\n",
      "\n",
      "Training Steps:   0%|          | 0/37.0 [00:00<00:14,  2.55it/s] \u001b[A\u001b[A\u001b[A\u001b[A\u001b[A\n",
      "\n",
      "\n",
      "\n",
      "\n",
      "Training Steps: 100%|██████████| 37/37.0 [00:00<00:00,  2.55it/s]\u001b[A\u001b[A\u001b[A\u001b[A\u001b[A\n",
      "\n",
      "\n",
      "\n",
      "\n",
      "Training Steps:   0%|          | 0/37.0 [00:00<00:14,  2.55it/s] \u001b[A\u001b[A\u001b[A\u001b[A\u001b[A\n",
      "\n",
      "\n",
      "\n",
      "\n",
      "Training Steps: 100%|██████████| 37/37.0 [00:00<00:00,  2.55it/s]\u001b[A\u001b[A\u001b[A\u001b[A\u001b[A\n",
      "\n",
      "\n",
      "\n",
      "\n",
      "Training Steps:   0%|          | 0/37.0 [00:00<00:14,  2.55it/s] \u001b[A\u001b[A\u001b[A\u001b[A\u001b[A\n",
      "\n",
      "\n",
      "\n",
      "\n",
      "Training Steps: 100%|██████████| 37/37.0 [00:00<00:00,  2.55it/s]\u001b[A\u001b[A\u001b[A\u001b[A\u001b[A\n",
      "\n",
      "\n",
      "\n",
      "\n",
      "Training Steps:   0%|          | 0/37.0 [00:00<00:14,  2.55it/s] \u001b[A\u001b[A\u001b[A\u001b[A\u001b[A"
     ]
    },
    {
     "name": "stdout",
     "output_type": "stream",
     "text": [
      "epoch: 15, loss: 0.922\n"
     ]
    },
    {
     "name": "stderr",
     "output_type": "stream",
     "text": [
      "\n",
      "\n",
      "\n",
      "\n",
      "\n",
      "Training Steps: 100%|██████████| 37/37.0 [00:00<00:00,  2.55it/s]\u001b[A\u001b[A\u001b[A\u001b[A\u001b[A\n",
      "\n",
      "\n",
      "\n",
      "Training Epochs:  16%|█▌        | 16/100 [00:07<00:31,  2.64it/s]\u001b[A\u001b[A\u001b[A\u001b[A\n",
      "\n",
      "\n",
      "\n",
      "\n",
      "Training Steps:   0%|          | 0/37.0 [00:00<00:14,  2.55it/s] \u001b[A\u001b[A\u001b[A\u001b[A\u001b[A\n",
      "\n",
      "\n",
      "\n",
      "\n",
      "Training Steps: 100%|██████████| 37/37.0 [00:00<00:00,  2.55it/s]\u001b[A\u001b[A\u001b[A\u001b[A\u001b[A\n",
      "\n",
      "\n",
      "\n",
      "\n",
      "Training Steps:   0%|          | 0/37.0 [00:00<00:14,  2.55it/s] \u001b[A\u001b[A\u001b[A\u001b[A\u001b[A\n",
      "\n",
      "\n",
      "\n",
      "\n",
      "Training Steps: 100%|██████████| 37/37.0 [00:00<00:00,  2.55it/s]\u001b[A\u001b[A\u001b[A\u001b[A\u001b[A\n",
      "\n",
      "\n",
      "\n",
      "\n",
      "Training Steps:   0%|          | 0/37.0 [00:00<00:14,  2.55it/s] \u001b[A\u001b[A\u001b[A\u001b[A\u001b[A\n",
      "\n",
      "\n",
      "\n",
      "\n",
      "Training Steps: 100%|██████████| 37/37.0 [00:00<00:00,  2.55it/s]\u001b[A\u001b[A\u001b[A\u001b[A\u001b[A\n",
      "\n",
      "\n",
      "\n",
      "\n",
      "Training Steps:   0%|          | 0/37.0 [00:00<00:14,  2.55it/s] \u001b[A\u001b[A\u001b[A\u001b[A\u001b[A\n",
      "\n",
      "\n",
      "\n",
      "\n",
      "Training Steps: 100%|██████████| 37/37.0 [00:00<00:00,  2.55it/s]\u001b[A\u001b[A\u001b[A\u001b[A\u001b[A\n",
      "\n",
      "\n",
      "\n",
      "Training Epochs:  20%|██        | 20/100 [00:07<00:21,  3.64it/s]\u001b[A\u001b[A\u001b[A\u001b[A\n",
      "\n",
      "\n",
      "\n",
      "\n",
      "Training Steps:   0%|          | 0/37.0 [00:00<00:14,  2.55it/s] \u001b[A\u001b[A\u001b[A\u001b[A\u001b[A"
     ]
    },
    {
     "name": "stdout",
     "output_type": "stream",
     "text": [
      "epoch: 20, loss: 0.946\n"
     ]
    },
    {
     "name": "stderr",
     "output_type": "stream",
     "text": [
      "\n",
      "\n",
      "\n",
      "\n",
      "\n",
      "Training Steps: 100%|██████████| 37/37.0 [00:00<00:00,  2.55it/s]\u001b[A\u001b[A\u001b[A\u001b[A\u001b[A\n",
      "\n",
      "\n",
      "\n",
      "\n",
      "Training Steps:   0%|          | 0/37.0 [00:00<00:14,  2.55it/s] \u001b[A\u001b[A\u001b[A\u001b[A\u001b[A\n",
      "\n",
      "\n",
      "\n",
      "\n",
      "Training Steps: 100%|██████████| 37/37.0 [00:00<00:00,  2.55it/s]\u001b[A\u001b[A\u001b[A\u001b[A\u001b[A\n",
      "\n",
      "\n",
      "\n",
      "\n",
      "Training Steps:   0%|          | 0/37.0 [00:00<00:14,  2.55it/s] \u001b[A\u001b[A\u001b[A\u001b[A\u001b[A\n",
      "\n",
      "\n",
      "\n",
      "\n",
      "Training Steps: 100%|██████████| 37/37.0 [00:00<00:00,  2.55it/s]\u001b[A\u001b[A\u001b[A\u001b[A\u001b[A\n",
      "\n",
      "\n",
      "\n",
      "\n",
      "Training Steps:   0%|          | 0/37.0 [00:00<00:14,  2.55it/s] \u001b[A\u001b[A\u001b[A\u001b[A\u001b[A\n",
      "\n",
      "\n",
      "\n",
      "\n",
      "Training Steps: 100%|██████████| 37/37.0 [00:00<00:00,  2.55it/s]\u001b[A\u001b[A\u001b[A\u001b[A\u001b[A\n",
      "\n",
      "\n",
      "\n",
      "Training Epochs:  24%|██▍       | 24/100 [00:07<00:15,  4.96it/s]\u001b[A\u001b[A\u001b[A\u001b[A\n",
      "\n",
      "\n",
      "\n",
      "\n",
      "Training Steps:   0%|          | 0/37.0 [00:00<00:14,  2.55it/s] \u001b[A\u001b[A\u001b[A\u001b[A\u001b[A\n",
      "\n",
      "\n",
      "\n",
      "\n",
      "Training Steps: 100%|██████████| 37/37.0 [00:00<00:00,  2.55it/s]\u001b[A\u001b[A\u001b[A\u001b[A\u001b[A\n",
      "\n",
      "\n",
      "\n",
      "\n",
      "Training Steps:   0%|          | 0/37.0 [00:00<00:14,  2.55it/s] \u001b[A\u001b[A\u001b[A\u001b[A\u001b[A"
     ]
    },
    {
     "name": "stdout",
     "output_type": "stream",
     "text": [
      "epoch: 25, loss: 0.964\n"
     ]
    },
    {
     "name": "stderr",
     "output_type": "stream",
     "text": [
      "\n",
      "\n",
      "\n",
      "\n",
      "\n",
      "Training Steps: 100%|██████████| 37/37.0 [00:00<00:00,  2.55it/s]\u001b[A\u001b[A\u001b[A\u001b[A\u001b[A\n",
      "\n",
      "\n",
      "\n",
      "\n",
      "Training Steps:   0%|          | 0/37.0 [00:00<00:14,  2.55it/s] \u001b[A\u001b[A\u001b[A\u001b[A\u001b[A\n",
      "\n",
      "\n",
      "\n",
      "\n",
      "Training Steps: 100%|██████████| 37/37.0 [00:00<00:00,  2.55it/s]\u001b[A\u001b[A\u001b[A\u001b[A\u001b[A\n",
      "\n",
      "\n",
      "\n",
      "\n",
      "Training Steps:   0%|          | 0/37.0 [00:00<00:14,  2.55it/s] \u001b[A\u001b[A\u001b[A\u001b[A\u001b[A\n",
      "\n",
      "\n",
      "\n",
      "\n",
      "Training Steps: 100%|██████████| 37/37.0 [00:00<00:00,  2.55it/s]\u001b[A\u001b[A\u001b[A\u001b[A\u001b[A\n",
      "\n",
      "\n",
      "\n",
      "Training Epochs:  28%|██▊       | 28/100 [00:07<00:10,  6.64it/s]\u001b[A\u001b[A\u001b[A\u001b[A\n",
      "\n",
      "\n",
      "\n",
      "\n",
      "Training Steps:   0%|          | 0/37.0 [00:00<00:14,  2.55it/s] \u001b[A\u001b[A\u001b[A\u001b[A\u001b[A\n",
      "\n",
      "\n",
      "\n",
      "\n",
      "Training Steps: 100%|██████████| 37/37.0 [00:00<00:00,  2.55it/s]\u001b[A\u001b[A\u001b[A\u001b[A\u001b[A\n",
      "\n",
      "\n",
      "\n",
      "\n",
      "Training Steps:   0%|          | 0/37.0 [00:00<00:14,  2.55it/s] \u001b[A\u001b[A\u001b[A\u001b[A\u001b[A\n",
      "\n",
      "\n",
      "\n",
      "\n",
      "Training Steps: 100%|██████████| 37/37.0 [00:00<00:00,  2.55it/s]\u001b[A\u001b[A\u001b[A\u001b[A\u001b[A\n",
      "\n",
      "\n",
      "\n",
      "\n",
      "Training Steps:   0%|          | 0/37.0 [00:00<00:14,  2.55it/s] \u001b[A\u001b[A\u001b[A\u001b[A\u001b[A"
     ]
    },
    {
     "name": "stdout",
     "output_type": "stream",
     "text": [
      "epoch: 30, loss: 0.963\n"
     ]
    },
    {
     "name": "stderr",
     "output_type": "stream",
     "text": [
      "\n",
      "\n",
      "\n",
      "\n",
      "\n",
      "Training Steps: 100%|██████████| 37/37.0 [00:00<00:00,  2.55it/s]\u001b[A\u001b[A\u001b[A\u001b[A\u001b[A\n",
      "\n",
      "\n",
      "\n",
      "\n",
      "Training Steps:   0%|          | 0/37.0 [00:00<00:14,  2.55it/s] \u001b[A\u001b[A\u001b[A\u001b[A\u001b[A\n",
      "\n",
      "\n",
      "\n",
      "\n",
      "Training Steps: 100%|██████████| 37/37.0 [00:00<00:00,  2.55it/s]\u001b[A\u001b[A\u001b[A\u001b[A\u001b[A\n",
      "\n",
      "\n",
      "\n",
      "Training Epochs:  32%|███▏      | 32/100 [00:07<00:07,  8.72it/s]\u001b[A\u001b[A\u001b[A\u001b[A\n",
      "\n",
      "\n",
      "\n",
      "\n",
      "Training Steps:   0%|          | 0/37.0 [00:00<00:14,  2.55it/s] \u001b[A\u001b[A\u001b[A\u001b[A\u001b[A\n",
      "\n",
      "\n",
      "\n",
      "\n",
      "Training Steps: 100%|██████████| 37/37.0 [00:00<00:00,  2.55it/s]\u001b[A\u001b[A\u001b[A\u001b[A\u001b[A\n",
      "\n",
      "\n",
      "\n",
      "\n",
      "Training Steps:   0%|          | 0/37.0 [00:00<00:14,  2.55it/s] \u001b[A\u001b[A\u001b[A\u001b[A\u001b[A\n",
      "\n",
      "\n",
      "\n",
      "\n",
      "Training Steps: 100%|██████████| 37/37.0 [00:00<00:00,  2.55it/s]\u001b[A\u001b[A\u001b[A\u001b[A\u001b[A\n",
      "\n",
      "\n",
      "\n",
      "\n",
      "Training Steps:   0%|          | 0/37.0 [00:00<00:14,  2.55it/s] \u001b[A\u001b[A\u001b[A\u001b[A\u001b[A\n",
      "\n",
      "\n",
      "\n",
      "\n",
      "Training Steps: 100%|██████████| 37/37.0 [00:00<00:00,  2.55it/s]\u001b[A\u001b[A\u001b[A\u001b[A\u001b[A\n",
      "\n",
      "\n",
      "\n",
      "\n",
      "Training Steps:   0%|          | 0/37.0 [00:00<00:14,  2.55it/s] \u001b[A\u001b[A\u001b[A\u001b[A\u001b[A"
     ]
    },
    {
     "name": "stdout",
     "output_type": "stream",
     "text": [
      "epoch: 35, loss: 1.016\n"
     ]
    },
    {
     "name": "stderr",
     "output_type": "stream",
     "text": [
      "\n",
      "\n",
      "\n",
      "\n",
      "\n",
      "Training Steps: 100%|██████████| 37/37.0 [00:00<00:00,  2.55it/s]\u001b[A\u001b[A\u001b[A\u001b[A\u001b[A\n",
      "\n",
      "\n",
      "\n",
      "Training Epochs:  36%|███▌      | 36/100 [00:07<00:05, 11.01it/s]\u001b[A\u001b[A\u001b[A\u001b[A\n",
      "\n",
      "\n",
      "\n",
      "\n",
      "Training Steps:   0%|          | 0/37.0 [00:00<00:14,  2.55it/s] \u001b[A\u001b[A\u001b[A\u001b[A\u001b[A\n",
      "\n",
      "\n",
      "\n",
      "\n",
      "Training Steps: 100%|██████████| 37/37.0 [00:00<00:00,  2.55it/s]\u001b[A\u001b[A\u001b[A\u001b[A\u001b[A\n",
      "\n",
      "\n",
      "\n",
      "\n",
      "Training Steps:   0%|          | 0/37.0 [00:00<00:14,  2.55it/s] \u001b[A\u001b[A\u001b[A\u001b[A\u001b[A\n",
      "\n",
      "\n",
      "\n",
      "\n",
      "Training Steps: 100%|██████████| 37/37.0 [00:00<00:00,  2.55it/s]\u001b[A\u001b[A\u001b[A\u001b[A\u001b[A\n",
      "\n",
      "\n",
      "\n",
      "\n",
      "Training Steps:   0%|          | 0/37.0 [00:00<00:14,  2.55it/s] \u001b[A\u001b[A\u001b[A\u001b[A\u001b[A\n",
      "\n",
      "\n",
      "\n",
      "\n",
      "Training Steps: 100%|██████████| 37/37.0 [00:00<00:00,  2.55it/s]\u001b[A\u001b[A\u001b[A\u001b[A\u001b[A\n",
      "\n",
      "\n",
      "\n",
      "Training Epochs:  39%|███▉      | 39/100 [00:07<00:04, 13.51it/s]\u001b[A\u001b[A\u001b[A\u001b[A\n",
      "\n",
      "\n",
      "\n",
      "\n",
      "Training Steps:   0%|          | 0/37.0 [00:00<00:14,  2.55it/s] \u001b[A\u001b[A\u001b[A\u001b[A\u001b[A\n",
      "\n",
      "\n",
      "\n",
      "\n",
      "Training Steps: 100%|██████████| 37/37.0 [00:00<00:00,  2.55it/s]\u001b[A\u001b[A\u001b[A\u001b[A\u001b[A\n",
      "\n",
      "\n",
      "\n",
      "\n",
      "Training Steps:   0%|          | 0/37.0 [00:00<00:14,  2.55it/s] \u001b[A\u001b[A\u001b[A\u001b[A\u001b[A"
     ]
    },
    {
     "name": "stdout",
     "output_type": "stream",
     "text": [
      "epoch: 40, loss: 1.001\n"
     ]
    },
    {
     "name": "stderr",
     "output_type": "stream",
     "text": [
      "\n",
      "\n",
      "\n",
      "\n",
      "\n",
      "Training Steps: 100%|██████████| 37/37.0 [00:00<00:00,  2.55it/s]\u001b[A\u001b[A\u001b[A\u001b[A\u001b[A\n",
      "\n",
      "\n",
      "\n",
      "\n",
      "Training Steps:   0%|          | 0/37.0 [00:00<00:14,  2.55it/s] \u001b[A\u001b[A\u001b[A\u001b[A\u001b[A\n",
      "\n",
      "\n",
      "\n",
      "\n",
      "Training Steps: 100%|██████████| 37/37.0 [00:00<00:00,  2.55it/s]\u001b[A\u001b[A\u001b[A\u001b[A\u001b[A\n",
      "\n",
      "\n",
      "\n",
      "\n",
      "Training Steps:   0%|          | 0/37.0 [00:00<00:14,  2.55it/s] \u001b[A\u001b[A\u001b[A\u001b[A\u001b[A\n",
      "\n",
      "\n",
      "\n",
      "\n",
      "Training Steps: 100%|██████████| 37/37.0 [00:00<00:00,  2.55it/s]\u001b[A\u001b[A\u001b[A\u001b[A\u001b[A\n",
      "\n",
      "\n",
      "\n",
      "Training Epochs:  43%|████▎     | 43/100 [00:07<00:03, 16.35it/s]\u001b[A\u001b[A\u001b[A\u001b[A\n",
      "\n",
      "\n",
      "\n",
      "\n",
      "Training Steps:   0%|          | 0/37.0 [00:00<00:14,  2.55it/s] \u001b[A\u001b[A\u001b[A\u001b[A\u001b[A\n",
      "\n",
      "\n",
      "\n",
      "\n",
      "Training Steps: 100%|██████████| 37/37.0 [00:00<00:00,  2.55it/s]\u001b[A\u001b[A\u001b[A\u001b[A\u001b[A\n",
      "\n",
      "\n",
      "\n",
      "\n",
      "Training Steps:   0%|          | 0/37.0 [00:00<00:14,  2.55it/s] \u001b[A\u001b[A\u001b[A\u001b[A\u001b[A\n",
      "\n",
      "\n",
      "\n",
      "\n",
      "Training Steps: 100%|██████████| 37/37.0 [00:00<00:00,  2.55it/s]\u001b[A\u001b[A\u001b[A\u001b[A\u001b[A\n",
      "\n",
      "\n",
      "\n",
      "\n",
      "Training Steps:   0%|          | 0/37.0 [00:00<00:14,  2.55it/s] \u001b[A\u001b[A\u001b[A\u001b[A\u001b[A"
     ]
    },
    {
     "name": "stdout",
     "output_type": "stream",
     "text": [
      "epoch: 45, loss: 1.007\n"
     ]
    },
    {
     "name": "stderr",
     "output_type": "stream",
     "text": [
      "\n",
      "\n",
      "\n",
      "\n",
      "\n",
      "Training Steps: 100%|██████████| 37/37.0 [00:00<00:00,  2.55it/s]\u001b[A\u001b[A\u001b[A\u001b[A\u001b[A\n",
      "\n",
      "\n",
      "\n",
      "\n",
      "Training Steps:   0%|          | 0/37.0 [00:00<00:14,  2.55it/s] \u001b[A\u001b[A\u001b[A\u001b[A\u001b[A\n",
      "\n",
      "\n",
      "\n",
      "\n",
      "Training Steps: 100%|██████████| 37/37.0 [00:00<00:00,  2.55it/s]\u001b[A\u001b[A\u001b[A\u001b[A\u001b[A\n",
      "\n",
      "\n",
      "\n",
      "Training Epochs:  47%|████▋     | 47/100 [00:08<00:02, 18.90it/s]\u001b[A\u001b[A\u001b[A\u001b[A\n",
      "\n",
      "\n",
      "\n",
      "\n",
      "Training Steps:   0%|          | 0/37.0 [00:00<00:14,  2.55it/s] \u001b[A\u001b[A\u001b[A\u001b[A\u001b[A\n",
      "\n",
      "\n",
      "\n",
      "\n",
      "Training Steps: 100%|██████████| 37/37.0 [00:00<00:00,  2.55it/s]\u001b[A\u001b[A\u001b[A\u001b[A\u001b[A\n",
      "\n",
      "\n",
      "\n",
      "\n",
      "Training Steps:   0%|          | 0/37.0 [00:00<00:14,  2.55it/s] \u001b[A\u001b[A\u001b[A\u001b[A\u001b[A\n",
      "\n",
      "\n",
      "\n",
      "\n",
      "Training Steps: 100%|██████████| 37/37.0 [00:00<00:00,  2.55it/s]\u001b[A\u001b[A\u001b[A\u001b[A\u001b[A\n",
      "\n",
      "\n",
      "\n",
      "\n",
      "Training Steps:   0%|          | 0/37.0 [00:00<00:14,  2.55it/s] \u001b[A\u001b[A\u001b[A\u001b[A\u001b[A\n",
      "\n",
      "\n",
      "\n",
      "\n",
      "Training Steps: 100%|██████████| 37/37.0 [00:00<00:00,  2.55it/s]\u001b[A\u001b[A\u001b[A\u001b[A\u001b[A\n",
      "\n",
      "\n",
      "\n",
      "\n",
      "Training Steps:   0%|          | 0/37.0 [00:00<00:14,  2.55it/s] \u001b[A\u001b[A\u001b[A\u001b[A\u001b[A"
     ]
    },
    {
     "name": "stdout",
     "output_type": "stream",
     "text": [
      "epoch: 50, loss: 1.057\n"
     ]
    },
    {
     "name": "stderr",
     "output_type": "stream",
     "text": [
      "\n",
      "\n",
      "\n",
      "\n",
      "\n",
      "Training Steps: 100%|██████████| 37/37.0 [00:00<00:00,  2.55it/s]\u001b[A\u001b[A\u001b[A\u001b[A\u001b[A\n",
      "\n",
      "\n",
      "\n",
      "Training Epochs:  51%|█████     | 51/100 [00:08<00:02, 21.56it/s]\u001b[A\u001b[A\u001b[A\u001b[A\n",
      "\n",
      "\n",
      "\n",
      "\n",
      "Training Steps:   0%|          | 0/37.0 [00:00<00:14,  2.55it/s] \u001b[A\u001b[A\u001b[A\u001b[A\u001b[A\n",
      "\n",
      "\n",
      "\n",
      "\n",
      "Training Steps: 100%|██████████| 37/37.0 [00:00<00:00,  2.55it/s]\u001b[A\u001b[A\u001b[A\u001b[A\u001b[A\n",
      "\n",
      "\n",
      "\n",
      "\n",
      "Training Steps:   0%|          | 0/37.0 [00:00<00:14,  2.55it/s] \u001b[A\u001b[A\u001b[A\u001b[A\u001b[A\n",
      "\n",
      "\n",
      "\n",
      "\n",
      "Training Steps: 100%|██████████| 37/37.0 [00:00<00:00,  2.55it/s]\u001b[A\u001b[A\u001b[A\u001b[A\u001b[A\n",
      "\n",
      "\n",
      "\n",
      "\n",
      "Training Steps:   0%|          | 0/37.0 [00:00<00:14,  2.55it/s] \u001b[A\u001b[A\u001b[A\u001b[A\u001b[A\n",
      "\n",
      "\n",
      "\n",
      "\n",
      "Training Steps: 100%|██████████| 37/37.0 [00:00<00:00,  2.55it/s]\u001b[A\u001b[A\u001b[A\u001b[A\u001b[A\n",
      "\n",
      "\n",
      "\n",
      "\n",
      "Training Steps:   0%|          | 0/37.0 [00:00<00:14,  2.55it/s] \u001b[A\u001b[A\u001b[A\u001b[A\u001b[A\n",
      "\n",
      "\n",
      "\n",
      "\n",
      "Training Steps: 100%|██████████| 37/37.0 [00:00<00:00,  2.55it/s]\u001b[A\u001b[A\u001b[A\u001b[A\u001b[A\n",
      "\n",
      "\n",
      "\n",
      "Training Epochs:  55%|█████▌    | 55/100 [00:08<00:01, 24.03it/s]\u001b[A\u001b[A\u001b[A\u001b[A\n",
      "\n",
      "\n",
      "\n",
      "\n",
      "Training Steps:   0%|          | 0/37.0 [00:00<00:14,  2.55it/s] \u001b[A\u001b[A\u001b[A\u001b[A\u001b[A"
     ]
    },
    {
     "name": "stdout",
     "output_type": "stream",
     "text": [
      "epoch: 55, loss: 1.128\n"
     ]
    },
    {
     "name": "stderr",
     "output_type": "stream",
     "text": [
      "\n",
      "\n",
      "\n",
      "\n",
      "\n",
      "Training Steps: 100%|██████████| 37/37.0 [00:00<00:00,  2.55it/s]\u001b[A\u001b[A\u001b[A\u001b[A\u001b[A\n",
      "\n",
      "\n",
      "\n",
      "\n",
      "Training Steps:   0%|          | 0/37.0 [00:00<00:14,  2.55it/s] \u001b[A\u001b[A\u001b[A\u001b[A\u001b[A\n",
      "\n",
      "\n",
      "\n",
      "\n",
      "Training Steps: 100%|██████████| 37/37.0 [00:00<00:00,  2.55it/s]\u001b[A\u001b[A\u001b[A\u001b[A\u001b[A\n",
      "\n",
      "\n",
      "\n",
      "\n",
      "Training Steps:   0%|          | 0/37.0 [00:00<00:14,  2.55it/s] \u001b[A\u001b[A\u001b[A\u001b[A\u001b[A\n",
      "\n",
      "\n",
      "\n",
      "\n",
      "Training Steps: 100%|██████████| 37/37.0 [00:00<00:00,  2.55it/s]\u001b[A\u001b[A\u001b[A\u001b[A\u001b[A\n",
      "\n",
      "\n",
      "\n",
      "\n",
      "Training Steps:   0%|          | 0/37.0 [00:00<00:14,  2.55it/s] \u001b[A\u001b[A\u001b[A\u001b[A\u001b[A\n",
      "\n",
      "\n",
      "\n",
      "\n",
      "Training Steps: 100%|██████████| 37/37.0 [00:00<00:00,  2.55it/s]\u001b[A\u001b[A\u001b[A\u001b[A\u001b[A\n",
      "\n",
      "\n",
      "\n",
      "Training Epochs:  59%|█████▉    | 59/100 [00:08<00:01, 25.94it/s]\u001b[A\u001b[A\u001b[A\u001b[A\n",
      "\n",
      "\n",
      "\n",
      "\n",
      "Training Steps:   0%|          | 0/37.0 [00:00<00:14,  2.55it/s] \u001b[A\u001b[A\u001b[A\u001b[A\u001b[A\n",
      "\n",
      "\n",
      "\n",
      "\n",
      "Training Steps: 100%|██████████| 37/37.0 [00:00<00:00,  2.55it/s]\u001b[A\u001b[A\u001b[A\u001b[A\u001b[A\n",
      "\n",
      "\n",
      "\n",
      "\n",
      "Training Steps:   0%|          | 0/37.0 [00:00<00:14,  2.55it/s] \u001b[A\u001b[A\u001b[A\u001b[A\u001b[A"
     ]
    },
    {
     "name": "stdout",
     "output_type": "stream",
     "text": [
      "epoch: 60, loss: 1.137\n"
     ]
    },
    {
     "name": "stderr",
     "output_type": "stream",
     "text": [
      "\n",
      "\n",
      "\n",
      "\n",
      "\n",
      "Training Steps: 100%|██████████| 37/37.0 [00:00<00:00,  2.55it/s]\u001b[A\u001b[A\u001b[A\u001b[A\u001b[A\n",
      "\n",
      "\n",
      "\n",
      "\n",
      "Training Steps:   0%|          | 0/37.0 [00:00<00:14,  2.55it/s] \u001b[A\u001b[A\u001b[A\u001b[A\u001b[A\n",
      "\n",
      "\n",
      "\n",
      "\n",
      "Training Steps: 100%|██████████| 37/37.0 [00:00<00:00,  2.55it/s]\u001b[A\u001b[A\u001b[A\u001b[A\u001b[A\n",
      "\n",
      "\n",
      "\n",
      "\n",
      "Training Steps:   0%|          | 0/37.0 [00:00<00:14,  2.55it/s] \u001b[A\u001b[A\u001b[A\u001b[A\u001b[A\n",
      "\n",
      "\n",
      "\n",
      "\n",
      "Training Steps: 100%|██████████| 37/37.0 [00:00<00:00,  2.55it/s]\u001b[A\u001b[A\u001b[A\u001b[A\u001b[A\n",
      "\n",
      "\n",
      "\n",
      "Training Epochs:  63%|██████▎   | 63/100 [00:08<00:01, 27.63it/s]\u001b[A\u001b[A\u001b[A\u001b[A\n",
      "\n",
      "\n",
      "\n",
      "\n",
      "Training Steps:   0%|          | 0/37.0 [00:00<00:14,  2.55it/s] \u001b[A\u001b[A\u001b[A\u001b[A\u001b[A\n",
      "\n",
      "\n",
      "\n",
      "\n",
      "Training Steps: 100%|██████████| 37/37.0 [00:00<00:00,  2.55it/s]\u001b[A\u001b[A\u001b[A\u001b[A\u001b[A\n",
      "\n",
      "\n",
      "\n",
      "\n",
      "Training Steps:   0%|          | 0/37.0 [00:00<00:14,  2.55it/s] \u001b[A\u001b[A\u001b[A\u001b[A\u001b[A\n",
      "\n",
      "\n",
      "\n",
      "\n",
      "Training Steps: 100%|██████████| 37/37.0 [00:00<00:00,  2.55it/s]\u001b[A\u001b[A\u001b[A\u001b[A\u001b[A\n",
      "\n",
      "\n",
      "\n",
      "\n",
      "Training Steps:   0%|          | 0/37.0 [00:00<00:14,  2.55it/s] \u001b[A\u001b[A\u001b[A\u001b[A\u001b[A"
     ]
    },
    {
     "name": "stdout",
     "output_type": "stream",
     "text": [
      "epoch: 65, loss: 1.113\n"
     ]
    },
    {
     "name": "stderr",
     "output_type": "stream",
     "text": [
      "\n",
      "\n",
      "\n",
      "\n",
      "\n",
      "Training Steps: 100%|██████████| 37/37.0 [00:00<00:00,  2.55it/s]\u001b[A\u001b[A\u001b[A\u001b[A\u001b[A\n",
      "\n",
      "\n",
      "\n",
      "\n",
      "Training Steps:   0%|          | 0/37.0 [00:00<00:14,  2.55it/s] \u001b[A\u001b[A\u001b[A\u001b[A\u001b[A\n",
      "\n",
      "\n",
      "\n",
      "\n",
      "Training Steps: 100%|██████████| 37/37.0 [00:00<00:00,  2.55it/s]\u001b[A\u001b[A\u001b[A\u001b[A\u001b[A\n",
      "\n",
      "\n",
      "\n",
      "Training Epochs:  67%|██████▋   | 67/100 [00:08<00:01, 27.62it/s]\u001b[A\u001b[A\u001b[A\u001b[A\n",
      "\n",
      "\n",
      "\n",
      "\n",
      "Training Steps:   0%|          | 0/37.0 [00:00<00:14,  2.55it/s] \u001b[A\u001b[A\u001b[A\u001b[A\u001b[A\n",
      "\n",
      "\n",
      "\n",
      "\n",
      "Training Steps: 100%|██████████| 37/37.0 [00:00<00:00,  2.55it/s]\u001b[A\u001b[A\u001b[A\u001b[A\u001b[A\n",
      "\n",
      "\n",
      "\n",
      "\n",
      "Training Steps:   0%|          | 0/37.0 [00:00<00:14,  2.55it/s] \u001b[A\u001b[A\u001b[A\u001b[A\u001b[A\n",
      "\n",
      "\n",
      "\n",
      "\n",
      "Training Steps: 100%|██████████| 37/37.0 [00:00<00:00,  2.55it/s]\u001b[A\u001b[A\u001b[A\u001b[A\u001b[A\n",
      "\n",
      "\n",
      "\n",
      "\n",
      "Training Steps:   0%|          | 0/37.0 [00:00<00:14,  2.55it/s] \u001b[A\u001b[A\u001b[A\u001b[A\u001b[A\n",
      "\n",
      "\n",
      "\n",
      "\n",
      "Training Steps: 100%|██████████| 37/37.0 [00:00<00:00,  2.55it/s]\u001b[A\u001b[A\u001b[A\u001b[A\u001b[A\n",
      "\n",
      "\n",
      "\n",
      "\n",
      "Training Steps:   0%|          | 0/37.0 [00:00<00:14,  2.55it/s] \u001b[A\u001b[A\u001b[A\u001b[A\u001b[A"
     ]
    },
    {
     "name": "stdout",
     "output_type": "stream",
     "text": [
      "epoch: 70, loss: 1.103\n"
     ]
    },
    {
     "name": "stderr",
     "output_type": "stream",
     "text": [
      "\n",
      "\n",
      "\n",
      "\n",
      "\n",
      "Training Steps: 100%|██████████| 37/37.0 [00:00<00:00,  2.55it/s]\u001b[A\u001b[A\u001b[A\u001b[A\u001b[A\n",
      "\n",
      "\n",
      "\n",
      "Training Epochs:  71%|███████   | 71/100 [00:08<00:00, 29.13it/s]\u001b[A\u001b[A\u001b[A\u001b[A\n",
      "\n",
      "\n",
      "\n",
      "\n",
      "Training Steps:   0%|          | 0/37.0 [00:00<00:14,  2.55it/s] \u001b[A\u001b[A\u001b[A\u001b[A\u001b[A\n",
      "\n",
      "\n",
      "\n",
      "\n",
      "Training Steps: 100%|██████████| 37/37.0 [00:00<00:00,  2.55it/s]\u001b[A\u001b[A\u001b[A\u001b[A\u001b[A\n",
      "\n",
      "\n",
      "\n",
      "\n",
      "Training Steps:   0%|          | 0/37.0 [00:00<00:14,  2.55it/s] \u001b[A\u001b[A\u001b[A\u001b[A\u001b[A\n",
      "\n",
      "\n",
      "\n",
      "\n",
      "Training Steps: 100%|██████████| 37/37.0 [00:00<00:00,  2.55it/s]\u001b[A\u001b[A\u001b[A\u001b[A\u001b[A\n",
      "\n",
      "\n",
      "\n",
      "\n",
      "Training Steps:   0%|          | 0/37.0 [00:00<00:14,  2.55it/s] \u001b[A\u001b[A\u001b[A\u001b[A\u001b[A\n",
      "\n",
      "\n",
      "\n",
      "\n",
      "Training Steps: 100%|██████████| 37/37.0 [00:00<00:00,  2.55it/s]\u001b[A\u001b[A\u001b[A\u001b[A\u001b[A\n",
      "\n",
      "\n",
      "\n",
      "\n",
      "Training Steps:   0%|          | 0/37.0 [00:00<00:14,  2.55it/s] \u001b[A\u001b[A\u001b[A\u001b[A\u001b[A\n",
      "\n",
      "\n",
      "\n",
      "\n",
      "Training Steps: 100%|██████████| 37/37.0 [00:00<00:00,  2.55it/s]\u001b[A\u001b[A\u001b[A\u001b[A\u001b[A\n",
      "\n",
      "\n",
      "\n",
      "Training Epochs:  75%|███████▌  | 75/100 [00:08<00:00, 30.05it/s]\u001b[A\u001b[A\u001b[A\u001b[A\n",
      "\n",
      "\n",
      "\n",
      "\n",
      "Training Steps:   0%|          | 0/37.0 [00:00<00:14,  2.55it/s] \u001b[A\u001b[A\u001b[A\u001b[A\u001b[A"
     ]
    },
    {
     "name": "stdout",
     "output_type": "stream",
     "text": [
      "epoch: 75, loss: 1.117\n"
     ]
    },
    {
     "name": "stderr",
     "output_type": "stream",
     "text": [
      "\n",
      "\n",
      "\n",
      "\n",
      "\n",
      "Training Steps: 100%|██████████| 37/37.0 [00:00<00:00,  2.55it/s]\u001b[A\u001b[A\u001b[A\u001b[A\u001b[A\n",
      "\n",
      "\n",
      "\n",
      "\n",
      "Training Steps:   0%|          | 0/37.0 [00:00<00:14,  2.55it/s] \u001b[A\u001b[A\u001b[A\u001b[A\u001b[A\n",
      "\n",
      "\n",
      "\n",
      "\n",
      "Training Steps: 100%|██████████| 37/37.0 [00:00<00:00,  2.55it/s]\u001b[A\u001b[A\u001b[A\u001b[A\u001b[A\n",
      "\n",
      "\n",
      "\n",
      "\n",
      "Training Steps:   0%|          | 0/37.0 [00:00<00:14,  2.55it/s] \u001b[A\u001b[A\u001b[A\u001b[A\u001b[A\n",
      "\n",
      "\n",
      "\n",
      "\n",
      "Training Steps: 100%|██████████| 37/37.0 [00:00<00:00,  2.55it/s]\u001b[A\u001b[A\u001b[A\u001b[A\u001b[A\n",
      "\n",
      "\n",
      "\n",
      "\n",
      "Training Steps:   0%|          | 0/37.0 [00:00<00:14,  2.55it/s] \u001b[A\u001b[A\u001b[A\u001b[A\u001b[A\n",
      "\n",
      "\n",
      "\n",
      "\n",
      "Training Steps: 100%|██████████| 37/37.0 [00:00<00:00,  2.55it/s]\u001b[A\u001b[A\u001b[A\u001b[A\u001b[A\n",
      "\n",
      "\n",
      "\n",
      "Training Epochs:  79%|███████▉  | 79/100 [00:09<00:00, 30.05it/s]\u001b[A\u001b[A\u001b[A\u001b[A\n",
      "\n",
      "\n",
      "\n",
      "\n",
      "Training Steps:   0%|          | 0/37.0 [00:00<00:14,  2.55it/s] \u001b[A\u001b[A\u001b[A\u001b[A\u001b[A\n",
      "\n",
      "\n",
      "\n",
      "\n",
      "Training Steps: 100%|██████████| 37/37.0 [00:00<00:00,  2.55it/s]\u001b[A\u001b[A\u001b[A\u001b[A\u001b[A\n",
      "\n",
      "\n",
      "\n",
      "\n",
      "Training Steps:   0%|          | 0/37.0 [00:00<00:14,  2.55it/s] \u001b[A\u001b[A\u001b[A\u001b[A\u001b[A"
     ]
    },
    {
     "name": "stdout",
     "output_type": "stream",
     "text": [
      "epoch: 80, loss: 1.148\n"
     ]
    },
    {
     "name": "stderr",
     "output_type": "stream",
     "text": [
      "\n",
      "\n",
      "\n",
      "\n",
      "\n",
      "Training Steps: 100%|██████████| 37/37.0 [00:00<00:00,  2.55it/s]\u001b[A\u001b[A\u001b[A\u001b[A\u001b[A\n",
      "\n",
      "\n",
      "\n",
      "\n",
      "Training Steps:   0%|          | 0/37.0 [00:00<00:14,  2.55it/s] \u001b[A\u001b[A\u001b[A\u001b[A\u001b[A\n",
      "\n",
      "\n",
      "\n",
      "\n",
      "Training Steps: 100%|██████████| 37/37.0 [00:00<00:00,  2.55it/s]\u001b[A\u001b[A\u001b[A\u001b[A\u001b[A\n",
      "\n",
      "\n",
      "\n",
      "\n",
      "Training Steps:   0%|          | 0/37.0 [00:00<00:14,  2.55it/s] \u001b[A\u001b[A\u001b[A\u001b[A\u001b[A\n",
      "\n",
      "\n",
      "\n",
      "\n",
      "Training Steps: 100%|██████████| 37/37.0 [00:00<00:00,  2.55it/s]\u001b[A\u001b[A\u001b[A\u001b[A\u001b[A\n",
      "\n",
      "\n",
      "\n",
      "Training Epochs:  83%|████████▎ | 83/100 [00:09<00:00, 29.56it/s]\u001b[A\u001b[A\u001b[A\u001b[A\n",
      "\n",
      "\n",
      "\n",
      "\n",
      "Training Steps:   0%|          | 0/37.0 [00:00<00:14,  2.55it/s] \u001b[A\u001b[A\u001b[A\u001b[A\u001b[A\n",
      "\n",
      "\n",
      "\n",
      "\n",
      "Training Steps: 100%|██████████| 37/37.0 [00:00<00:00,  2.55it/s]\u001b[A\u001b[A\u001b[A\u001b[A\u001b[A\n",
      "\n",
      "\n",
      "\n",
      "\n",
      "Training Steps:   0%|          | 0/37.0 [00:00<00:14,  2.55it/s] \u001b[A\u001b[A\u001b[A\u001b[A\u001b[A\n",
      "\n",
      "\n",
      "\n",
      "\n",
      "Training Steps: 100%|██████████| 37/37.0 [00:00<00:00,  2.55it/s]\u001b[A\u001b[A\u001b[A\u001b[A\u001b[A\n",
      "\n",
      "\n",
      "\n",
      "\n",
      "Training Steps:   0%|          | 0/37.0 [00:00<00:14,  2.55it/s] \u001b[A\u001b[A\u001b[A\u001b[A\u001b[A"
     ]
    },
    {
     "name": "stdout",
     "output_type": "stream",
     "text": [
      "epoch: 85, loss: 1.186\n"
     ]
    },
    {
     "name": "stderr",
     "output_type": "stream",
     "text": [
      "\n",
      "\n",
      "\n",
      "\n",
      "\n",
      "Training Steps: 100%|██████████| 37/37.0 [00:00<00:00,  2.55it/s]\u001b[A\u001b[A\u001b[A\u001b[A\u001b[A\n",
      "\n",
      "\n",
      "\n",
      "\n",
      "Training Steps:   0%|          | 0/37.0 [00:00<00:14,  2.55it/s] \u001b[A\u001b[A\u001b[A\u001b[A\u001b[A\n",
      "\n",
      "\n",
      "\n",
      "\n",
      "Training Steps: 100%|██████████| 37/37.0 [00:00<00:00,  2.55it/s]\u001b[A\u001b[A\u001b[A\u001b[A\u001b[A\n",
      "\n",
      "\n",
      "\n",
      "Training Epochs:  87%|████████▋ | 87/100 [00:09<00:00, 29.96it/s]\u001b[A\u001b[A\u001b[A\u001b[A\n",
      "\n",
      "\n",
      "\n",
      "\n",
      "Training Steps:   0%|          | 0/37.0 [00:00<00:14,  2.55it/s] \u001b[A\u001b[A\u001b[A\u001b[A\u001b[A\n",
      "\n",
      "\n",
      "\n",
      "\n",
      "Training Steps: 100%|██████████| 37/37.0 [00:00<00:00,  2.55it/s]\u001b[A\u001b[A\u001b[A\u001b[A\u001b[A\n",
      "\n",
      "\n",
      "\n",
      "\n",
      "Training Steps:   0%|          | 0/37.0 [00:00<00:14,  2.55it/s] \u001b[A\u001b[A\u001b[A\u001b[A\u001b[A\n",
      "\n",
      "\n",
      "\n",
      "\n",
      "Training Steps: 100%|██████████| 37/37.0 [00:00<00:00,  2.55it/s]\u001b[A\u001b[A\u001b[A\u001b[A\u001b[A\n",
      "\n",
      "\n",
      "\n",
      "\n",
      "Training Steps:   0%|          | 0/37.0 [00:00<00:14,  2.55it/s] \u001b[A\u001b[A\u001b[A\u001b[A\u001b[A\n",
      "\n",
      "\n",
      "\n",
      "\n",
      "Training Steps: 100%|██████████| 37/37.0 [00:00<00:00,  2.55it/s]\u001b[A\u001b[A\u001b[A\u001b[A\u001b[A\n",
      "\n",
      "\n",
      "\n",
      "\n",
      "Training Steps:   0%|          | 0/37.0 [00:00<00:14,  2.55it/s] \u001b[A\u001b[A\u001b[A\u001b[A\u001b[A"
     ]
    },
    {
     "name": "stdout",
     "output_type": "stream",
     "text": [
      "epoch: 90, loss: 1.211\n"
     ]
    },
    {
     "name": "stderr",
     "output_type": "stream",
     "text": [
      "\n",
      "\n",
      "\n",
      "\n",
      "\n",
      "Training Steps: 100%|██████████| 37/37.0 [00:00<00:00,  2.55it/s]\u001b[A\u001b[A\u001b[A\u001b[A\u001b[A\n",
      "\n",
      "\n",
      "\n",
      "Training Epochs:  91%|█████████ | 91/100 [00:09<00:00, 29.27it/s]\u001b[A\u001b[A\u001b[A\u001b[A\n",
      "\n",
      "\n",
      "\n",
      "\n",
      "Training Steps:   0%|          | 0/37.0 [00:00<00:14,  2.55it/s] \u001b[A\u001b[A\u001b[A\u001b[A\u001b[A\n",
      "\n",
      "\n",
      "\n",
      "\n",
      "Training Steps: 100%|██████████| 37/37.0 [00:00<00:00,  2.55it/s]\u001b[A\u001b[A\u001b[A\u001b[A\u001b[A\n",
      "\n",
      "\n",
      "\n",
      "\n",
      "Training Steps:   0%|          | 0/37.0 [00:00<00:14,  2.55it/s] \u001b[A\u001b[A\u001b[A\u001b[A\u001b[A\n",
      "\n",
      "\n",
      "\n",
      "\n",
      "Training Steps: 100%|██████████| 37/37.0 [00:00<00:00,  2.55it/s]\u001b[A\u001b[A\u001b[A\u001b[A\u001b[A\n",
      "\n",
      "\n",
      "\n",
      "\n",
      "Training Steps:   0%|          | 0/37.0 [00:00<00:14,  2.55it/s] \u001b[A\u001b[A\u001b[A\u001b[A\u001b[A\n",
      "\n",
      "\n",
      "\n",
      "\n",
      "Training Steps: 100%|██████████| 37/37.0 [00:00<00:00,  2.55it/s]\u001b[A\u001b[A\u001b[A\u001b[A\u001b[A\n",
      "\n",
      "\n",
      "\n",
      "\n",
      "Training Steps:   0%|          | 0/37.0 [00:00<00:14,  2.55it/s] \u001b[A\u001b[A\u001b[A\u001b[A\u001b[A\n",
      "\n",
      "\n",
      "\n",
      "\n",
      "Training Steps: 100%|██████████| 37/37.0 [00:00<00:00,  2.55it/s]\u001b[A\u001b[A\u001b[A\u001b[A\u001b[A\n",
      "\n",
      "\n",
      "\n",
      "Training Epochs:  95%|█████████▌| 95/100 [00:09<00:00, 30.31it/s]\u001b[A\u001b[A\u001b[A\u001b[A\n",
      "\n",
      "\n",
      "\n",
      "\n",
      "Training Steps:   0%|          | 0/37.0 [00:00<00:14,  2.55it/s] \u001b[A\u001b[A\u001b[A\u001b[A\u001b[A"
     ]
    },
    {
     "name": "stdout",
     "output_type": "stream",
     "text": [
      "epoch: 95, loss: 1.176\n"
     ]
    },
    {
     "name": "stderr",
     "output_type": "stream",
     "text": [
      "\n",
      "\n",
      "\n",
      "\n",
      "\n",
      "Training Steps: 100%|██████████| 37/37.0 [00:00<00:00,  2.55it/s]\u001b[A\u001b[A\u001b[A\u001b[A\u001b[A\n",
      "\n",
      "\n",
      "\n",
      "\n",
      "Training Steps:   0%|          | 0/37.0 [00:00<00:14,  2.55it/s] \u001b[A\u001b[A\u001b[A\u001b[A\u001b[A\n",
      "\n",
      "\n",
      "\n",
      "\n",
      "Training Steps: 100%|██████████| 37/37.0 [00:00<00:00,  2.55it/s]\u001b[A\u001b[A\u001b[A\u001b[A\u001b[A\n",
      "\n",
      "\n",
      "\n",
      "\n",
      "Training Steps:   0%|          | 0/37.0 [00:00<00:14,  2.55it/s] \u001b[A\u001b[A\u001b[A\u001b[A\u001b[A\n",
      "\n",
      "\n",
      "\n",
      "\n",
      "Training Steps: 100%|██████████| 37/37.0 [00:00<00:00,  2.55it/s]\u001b[A\u001b[A\u001b[A\u001b[A\u001b[A\n",
      "\n",
      "\n",
      "\n",
      "\n",
      "Training Steps:   0%|          | 0/37.0 [00:00<00:14,  2.55it/s] \u001b[A\u001b[A\u001b[A\u001b[A\u001b[A\n",
      "\n",
      "\n",
      "\n",
      "\n",
      "Training Steps: 100%|██████████| 37/37.0 [00:00<00:00,  2.55it/s]\u001b[A\u001b[A\u001b[A\u001b[A\u001b[A\n",
      "\n",
      "\n",
      "\n",
      "Training Epochs:  99%|█████████▉| 99/100 [00:09<00:00, 29.43it/s]\u001b[A\u001b[A\u001b[A\u001b[A\n",
      "\n",
      "\n",
      "\n",
      "\n",
      "Training Steps:   0%|          | 0/37.0 [00:00<00:14,  2.55it/s] \u001b[A\u001b[A\u001b[A\u001b[A\u001b[A\n",
      "\n",
      "\n",
      "\n",
      "\n",
      "Training Steps: 100%|██████████| 37/37.0 [00:00<00:00,  2.55it/s]\u001b[A\u001b[A\u001b[A\u001b[A\u001b[A\n",
      "\n",
      "\n",
      "\n",
      "\n",
      "Training Epochs: 100%|██████████| 100/100 [00:09<00:00, 10.21it/s]\n",
      "Training Steps: 100%|██████████| 37/37.0 [00:00<00:00, 914.13it/s]\n"
     ]
    }
   ],
   "source": [
    "BEST_MODEL_DIR = os.path.join('models', 'best_atac_pca_model_pp_fs')\n",
    "NUM_EPOCHS = 100\n",
    "ATAC_BATCH_SIZE = 64\n",
    "# Define hyperparam_config e.g.\n",
    "\n",
    "######################## BEGIN YOUR ANSWER ########################\n",
    "atac_hyperparam_config = {'dropout_rate': 0.2,\n",
    "                     'l2_lambda': 0.001,\n",
    "                     'lr': 0.1}\n",
    "######################### END YOUR ANSWER #########################\n",
    "\n",
    "atac_test_loss = training(\n",
    "    X_atac_train, Y_atac_train, X_atac_test, Y_atac_test,\n",
    "    atac_hyperparam_config, NUM_EPOCHS, ATAC_BATCH_SIZE, save_model=True, model_dir=BEST_MODEL_DIR\n",
    "    \n",
    ")\n"
   ]
  },
  {
   "cell_type": "code",
   "execution_count": 292,
   "metadata": {
    "collapsed": true,
    "jupyter": {
     "outputs_hidden": true
    }
   },
   "outputs": [
    {
     "name": "stderr",
     "output_type": "stream",
     "text": [
      "\n",
      "\n",
      "\n",
      "\n",
      "Training Epochs:   0%|          | 0/100 [00:00<?, ?it/s]\u001b[A\u001b[A\u001b[A\u001b[A\n",
      "\n",
      "\n",
      "\n",
      "\n",
      "Training Steps: 0it [00:00, ?it/s]\u001b[A\u001b[A\u001b[A\u001b[A\u001b[A\n",
      "\n",
      "\n",
      "\n",
      "\n",
      "Training Steps:   0%|          | 0/37.0 [00:00<?, ?it/s]\u001b[A\u001b[A\u001b[A\u001b[A\u001b[A"
     ]
    },
    {
     "name": "stdout",
     "output_type": "stream",
     "text": [
      "getting initial loss\n"
     ]
    },
    {
     "name": "stderr",
     "output_type": "stream",
     "text": [
      "\n",
      "\n",
      "\n",
      "\n",
      "\n",
      "Training Steps:   3%|▎         | 1/37.0 [00:00<00:10,  3.36it/s]\u001b[A\u001b[A\u001b[A\u001b[A\u001b[A"
     ]
    },
    {
     "name": "stdout",
     "output_type": "stream",
     "text": [
      "epoch: 00, loss: 0.910\n",
      "INFO:tensorflow:Assets written to: models/best_rna_pca_model_pp_fs/assets\n"
     ]
    },
    {
     "name": "stderr",
     "output_type": "stream",
     "text": [
      "\n",
      "\n",
      "\n",
      "\n",
      "\n",
      "Training Steps: 100%|██████████| 37/37.0 [00:00<00:00,  3.36it/s]\u001b[A\u001b[A\u001b[A\u001b[A\u001b[A\n",
      "\n",
      "\n",
      "\n",
      "Training Epochs:   1%|          | 1/100 [00:00<01:34,  1.05it/s]\u001b[A\u001b[A\u001b[A\u001b[A\n",
      "\n",
      "\n",
      "\n",
      "\n",
      "Training Steps:   0%|          | 0/37.0 [00:00<00:11,  3.36it/s] \u001b[A\u001b[A\u001b[A\u001b[A\u001b[A"
     ]
    },
    {
     "name": "stdout",
     "output_type": "stream",
     "text": [
      "INFO:tensorflow:Assets written to: models/best_rna_pca_model_pp_fs/assets\n"
     ]
    },
    {
     "name": "stderr",
     "output_type": "stream",
     "text": [
      "\n",
      "\n",
      "\n",
      "\n",
      "\n",
      "Training Steps: 100%|██████████| 37/37.0 [00:00<00:00,  3.36it/s]\u001b[A\u001b[A\u001b[A\u001b[A\u001b[A\n",
      "\n",
      "\n",
      "\n",
      "Training Epochs:   2%|▏         | 2/100 [00:01<01:25,  1.14it/s]\u001b[A\u001b[A\u001b[A\u001b[A\n",
      "\n",
      "\n",
      "\n",
      "\n",
      "Training Steps:   0%|          | 0/37.0 [00:00<00:11,  3.36it/s] \u001b[A\u001b[A\u001b[A\u001b[A\u001b[A"
     ]
    },
    {
     "name": "stdout",
     "output_type": "stream",
     "text": [
      "INFO:tensorflow:Assets written to: models/best_rna_pca_model_pp_fs/assets\n"
     ]
    },
    {
     "name": "stderr",
     "output_type": "stream",
     "text": [
      "\n",
      "\n",
      "\n",
      "\n",
      "\n",
      "Training Steps: 100%|██████████| 37/37.0 [00:00<00:00,  3.36it/s]\u001b[A\u001b[A\u001b[A\u001b[A\u001b[A\n",
      "\n",
      "\n",
      "\n",
      "Training Epochs:   3%|▎         | 3/100 [00:02<01:18,  1.24it/s]\u001b[A\u001b[A\u001b[A\u001b[A\n",
      "\n",
      "\n",
      "\n",
      "\n",
      "Training Steps:   0%|          | 0/37.0 [00:00<00:11,  3.36it/s] \u001b[A\u001b[A\u001b[A\u001b[A\u001b[A"
     ]
    },
    {
     "name": "stdout",
     "output_type": "stream",
     "text": [
      "INFO:tensorflow:Assets written to: models/best_rna_pca_model_pp_fs/assets\n"
     ]
    },
    {
     "name": "stderr",
     "output_type": "stream",
     "text": [
      "\n",
      "\n",
      "\n",
      "\n",
      "\n",
      "Training Steps: 100%|██████████| 37/37.0 [00:01<00:00,  3.36it/s]\u001b[A\u001b[A\u001b[A\u001b[A\u001b[A\n",
      "\n",
      "\n",
      "\n",
      "Training Epochs:   4%|▍         | 4/100 [00:03<01:23,  1.15it/s]\u001b[A\u001b[A\u001b[A\u001b[A\n",
      "\n",
      "\n",
      "\n",
      "\n",
      "Training Steps:   0%|          | 0/37.0 [00:00<00:11,  3.36it/s] \u001b[A\u001b[A\u001b[A\u001b[A\u001b[A"
     ]
    },
    {
     "name": "stdout",
     "output_type": "stream",
     "text": [
      "INFO:tensorflow:Assets written to: models/best_rna_pca_model_pp_fs/assets\n"
     ]
    },
    {
     "name": "stderr",
     "output_type": "stream",
     "text": [
      "\n",
      "\n",
      "\n",
      "\n",
      "\n",
      "Training Steps: 100%|██████████| 37/37.0 [00:00<00:00,  3.36it/s]\u001b[A\u001b[A\u001b[A\u001b[A\u001b[A\n",
      "\n",
      "\n",
      "\n",
      "Training Epochs:   5%|▌         | 5/100 [00:03<01:16,  1.24it/s]\u001b[A\u001b[A\u001b[A\u001b[A\n",
      "\n",
      "\n",
      "\n",
      "\n",
      "Training Steps:   0%|          | 0/37.0 [00:00<00:11,  3.36it/s] \u001b[A\u001b[A\u001b[A\u001b[A\u001b[A"
     ]
    },
    {
     "name": "stdout",
     "output_type": "stream",
     "text": [
      "epoch: 05, loss: 0.374\n",
      "INFO:tensorflow:Assets written to: models/best_rna_pca_model_pp_fs/assets\n"
     ]
    },
    {
     "name": "stderr",
     "output_type": "stream",
     "text": [
      "\n",
      "\n",
      "\n",
      "\n",
      "\n",
      "Training Steps: 100%|██████████| 37/37.0 [00:00<00:00,  3.36it/s]\u001b[A\u001b[A\u001b[A\u001b[A\u001b[A\n",
      "\n",
      "\n",
      "\n",
      "Training Epochs:   6%|▌         | 6/100 [00:04<01:11,  1.32it/s]\u001b[A\u001b[A\u001b[A\u001b[A\n",
      "\n",
      "\n",
      "\n",
      "\n",
      "Training Steps:   0%|          | 0/37.0 [00:00<00:11,  3.36it/s] \u001b[A\u001b[A\u001b[A\u001b[A\u001b[A"
     ]
    },
    {
     "name": "stdout",
     "output_type": "stream",
     "text": [
      "INFO:tensorflow:Assets written to: models/best_rna_pca_model_pp_fs/assets\n"
     ]
    },
    {
     "name": "stderr",
     "output_type": "stream",
     "text": [
      "\n",
      "\n",
      "\n",
      "\n",
      "\n",
      "Training Steps: 100%|██████████| 37/37.0 [00:00<00:00,  3.36it/s]\u001b[A\u001b[A\u001b[A\u001b[A\u001b[A\n",
      "\n",
      "\n",
      "\n",
      "Training Epochs:   7%|▋         | 7/100 [00:05<01:08,  1.36it/s]\u001b[A\u001b[A\u001b[A\u001b[A\n",
      "\n",
      "\n",
      "\n",
      "\n",
      "Training Steps:   0%|          | 0/37.0 [00:00<00:11,  3.36it/s] \u001b[A\u001b[A\u001b[A\u001b[A\u001b[A"
     ]
    },
    {
     "name": "stdout",
     "output_type": "stream",
     "text": [
      "INFO:tensorflow:Assets written to: models/best_rna_pca_model_pp_fs/assets\n"
     ]
    },
    {
     "name": "stderr",
     "output_type": "stream",
     "text": [
      "\n",
      "\n",
      "\n",
      "\n",
      "\n",
      "Training Steps: 100%|██████████| 37/37.0 [00:00<00:00,  3.36it/s]\u001b[A\u001b[A\u001b[A\u001b[A\u001b[A\n",
      "\n",
      "\n",
      "\n",
      "Training Epochs:   8%|▊         | 8/100 [00:05<01:05,  1.40it/s]\u001b[A\u001b[A\u001b[A\u001b[A\n",
      "\n",
      "\n",
      "\n",
      "\n",
      "Training Steps:   0%|          | 0/37.0 [00:00<00:11,  3.36it/s] \u001b[A\u001b[A\u001b[A\u001b[A\u001b[A"
     ]
    },
    {
     "name": "stdout",
     "output_type": "stream",
     "text": [
      "INFO:tensorflow:Assets written to: models/best_rna_pca_model_pp_fs/assets\n"
     ]
    },
    {
     "name": "stderr",
     "output_type": "stream",
     "text": [
      "\n",
      "\n",
      "\n",
      "\n",
      "\n",
      "Training Steps: 100%|██████████| 37/37.0 [00:00<00:00,  3.36it/s]\u001b[A\u001b[A\u001b[A\u001b[A\u001b[A\n",
      "\n",
      "\n",
      "\n",
      "Training Epochs:   9%|▉         | 9/100 [00:06<01:03,  1.44it/s]\u001b[A\u001b[A\u001b[A\u001b[A\n",
      "\n",
      "\n",
      "\n",
      "\n",
      "Training Steps:   0%|          | 0/37.0 [00:00<00:11,  3.36it/s] \u001b[A\u001b[A\u001b[A\u001b[A\u001b[A"
     ]
    },
    {
     "name": "stdout",
     "output_type": "stream",
     "text": [
      "INFO:tensorflow:Assets written to: models/best_rna_pca_model_pp_fs/assets\n"
     ]
    },
    {
     "name": "stderr",
     "output_type": "stream",
     "text": [
      "\n",
      "\n",
      "\n",
      "\n",
      "\n",
      "Training Steps: 100%|██████████| 37/37.0 [00:00<00:00,  3.36it/s]\u001b[A\u001b[A\u001b[A\u001b[A\u001b[A\n",
      "\n",
      "\n",
      "\n",
      "Training Epochs:  10%|█         | 10/100 [00:07<01:02,  1.45it/s]\u001b[A\u001b[A\u001b[A\u001b[A\n",
      "\n",
      "\n",
      "\n",
      "\n",
      "Training Steps:   0%|          | 0/37.0 [00:00<00:11,  3.36it/s] \u001b[A\u001b[A\u001b[A\u001b[A\u001b[A"
     ]
    },
    {
     "name": "stdout",
     "output_type": "stream",
     "text": [
      "epoch: 10, loss: 0.248\n",
      "INFO:tensorflow:Assets written to: models/best_rna_pca_model_pp_fs/assets\n"
     ]
    },
    {
     "name": "stderr",
     "output_type": "stream",
     "text": [
      "\n",
      "\n",
      "\n",
      "\n",
      "\n",
      "Training Steps: 100%|██████████| 37/37.0 [00:00<00:00,  3.36it/s]\u001b[A\u001b[A\u001b[A\u001b[A\u001b[A\n",
      "\n",
      "\n",
      "\n",
      "Training Epochs:  11%|█         | 11/100 [00:07<01:01,  1.44it/s]\u001b[A\u001b[A\u001b[A\u001b[A\n",
      "\n",
      "\n",
      "\n",
      "\n",
      "Training Steps:   0%|          | 0/37.0 [00:00<00:11,  3.36it/s] \u001b[A\u001b[A\u001b[A\u001b[A\u001b[A"
     ]
    },
    {
     "name": "stdout",
     "output_type": "stream",
     "text": [
      "INFO:tensorflow:Assets written to: models/best_rna_pca_model_pp_fs/assets\n"
     ]
    },
    {
     "name": "stderr",
     "output_type": "stream",
     "text": [
      "\n",
      "\n",
      "\n",
      "\n",
      "\n",
      "Training Steps: 100%|██████████| 37/37.0 [00:00<00:00,  3.36it/s]\u001b[A\u001b[A\u001b[A\u001b[A\u001b[A\n",
      "\n",
      "\n",
      "\n",
      "Training Epochs:  12%|█▏        | 12/100 [00:08<00:59,  1.47it/s]\u001b[A\u001b[A\u001b[A\u001b[A\n",
      "\n",
      "\n",
      "\n",
      "\n",
      "Training Steps:   0%|          | 0/37.0 [00:00<00:11,  3.36it/s] \u001b[A\u001b[A\u001b[A\u001b[A\u001b[A"
     ]
    },
    {
     "name": "stdout",
     "output_type": "stream",
     "text": [
      "INFO:tensorflow:Assets written to: models/best_rna_pca_model_pp_fs/assets\n"
     ]
    },
    {
     "name": "stderr",
     "output_type": "stream",
     "text": [
      "\n",
      "\n",
      "\n",
      "\n",
      "\n",
      "Training Steps: 100%|██████████| 37/37.0 [00:00<00:00,  3.36it/s]\u001b[A\u001b[A\u001b[A\u001b[A\u001b[A\n",
      "\n",
      "\n",
      "\n",
      "Training Epochs:  13%|█▎        | 13/100 [00:09<00:59,  1.45it/s]\u001b[A\u001b[A\u001b[A\u001b[A\n",
      "\n",
      "\n",
      "\n",
      "\n",
      "Training Steps:   0%|          | 0/37.0 [00:00<00:11,  3.36it/s] \u001b[A\u001b[A\u001b[A\u001b[A\u001b[A"
     ]
    },
    {
     "name": "stdout",
     "output_type": "stream",
     "text": [
      "INFO:tensorflow:Assets written to: models/best_rna_pca_model_pp_fs/assets\n"
     ]
    },
    {
     "name": "stderr",
     "output_type": "stream",
     "text": [
      "\n",
      "\n",
      "\n",
      "\n",
      "\n",
      "Training Steps: 100%|██████████| 37/37.0 [00:00<00:00,  3.36it/s]\u001b[A\u001b[A\u001b[A\u001b[A\u001b[A\n",
      "\n",
      "\n",
      "\n",
      "Training Epochs:  14%|█▍        | 14/100 [00:10<00:58,  1.48it/s]\u001b[A\u001b[A\u001b[A\u001b[A\n",
      "\n",
      "\n",
      "\n",
      "\n",
      "Training Steps:   0%|          | 0/37.0 [00:00<00:11,  3.36it/s] \u001b[A\u001b[A\u001b[A\u001b[A\u001b[A"
     ]
    },
    {
     "name": "stdout",
     "output_type": "stream",
     "text": [
      "INFO:tensorflow:Assets written to: models/best_rna_pca_model_pp_fs/assets\n"
     ]
    },
    {
     "name": "stderr",
     "output_type": "stream",
     "text": [
      "\n",
      "\n",
      "\n",
      "\n",
      "\n",
      "Training Steps: 100%|██████████| 37/37.0 [00:00<00:00,  3.36it/s]\u001b[A\u001b[A\u001b[A\u001b[A\u001b[A\n",
      "\n",
      "\n",
      "\n",
      "Training Epochs:  15%|█▌        | 15/100 [00:10<00:57,  1.48it/s]\u001b[A\u001b[A\u001b[A\u001b[A\n",
      "\n",
      "\n",
      "\n",
      "\n",
      "Training Steps:   0%|          | 0/37.0 [00:00<00:11,  3.36it/s] \u001b[A\u001b[A\u001b[A\u001b[A\u001b[A"
     ]
    },
    {
     "name": "stdout",
     "output_type": "stream",
     "text": [
      "epoch: 15, loss: 0.211\n",
      "INFO:tensorflow:Assets written to: models/best_rna_pca_model_pp_fs/assets\n"
     ]
    },
    {
     "name": "stderr",
     "output_type": "stream",
     "text": [
      "\n",
      "\n",
      "\n",
      "\n",
      "\n",
      "Training Steps: 100%|██████████| 37/37.0 [00:00<00:00,  3.36it/s]\u001b[A\u001b[A\u001b[A\u001b[A\u001b[A\n",
      "\n",
      "\n",
      "\n",
      "Training Epochs:  16%|█▌        | 16/100 [00:11<00:56,  1.48it/s]\u001b[A\u001b[A\u001b[A\u001b[A\n",
      "\n",
      "\n",
      "\n",
      "\n",
      "Training Steps:   0%|          | 0/37.0 [00:00<00:11,  3.36it/s] \u001b[A\u001b[A\u001b[A\u001b[A\u001b[A\n",
      "\n",
      "\n",
      "\n",
      "\n",
      "Training Steps: 100%|██████████| 37/37.0 [00:00<00:00,  3.36it/s]\u001b[A\u001b[A\u001b[A\u001b[A\u001b[A\n",
      "\n",
      "\n",
      "\n",
      "\n",
      "Training Steps:   0%|          | 0/37.0 [00:00<00:11,  3.36it/s] \u001b[A\u001b[A\u001b[A\u001b[A\u001b[A"
     ]
    },
    {
     "name": "stdout",
     "output_type": "stream",
     "text": [
      "INFO:tensorflow:Assets written to: models/best_rna_pca_model_pp_fs/assets\n"
     ]
    },
    {
     "name": "stderr",
     "output_type": "stream",
     "text": [
      "\n",
      "\n",
      "\n",
      "\n",
      "\n",
      "Training Steps: 100%|██████████| 37/37.0 [00:00<00:00,  3.36it/s]\u001b[A\u001b[A\u001b[A\u001b[A\u001b[A\n",
      "\n",
      "\n",
      "\n",
      "Training Epochs:  18%|█▊        | 18/100 [00:12<00:47,  1.74it/s]\u001b[A\u001b[A\u001b[A\u001b[A\n",
      "\n",
      "\n",
      "\n",
      "\n",
      "Training Steps:   0%|          | 0/37.0 [00:00<00:11,  3.36it/s] \u001b[A\u001b[A\u001b[A\u001b[A\u001b[A"
     ]
    },
    {
     "name": "stdout",
     "output_type": "stream",
     "text": [
      "INFO:tensorflow:Assets written to: models/best_rna_pca_model_pp_fs/assets\n"
     ]
    },
    {
     "name": "stderr",
     "output_type": "stream",
     "text": [
      "\n",
      "\n",
      "\n",
      "\n",
      "\n",
      "Training Steps: 100%|██████████| 37/37.0 [00:00<00:00,  3.36it/s]\u001b[A\u001b[A\u001b[A\u001b[A\u001b[A\n",
      "\n",
      "\n",
      "\n",
      "Training Epochs:  19%|█▉        | 19/100 [00:12<00:49,  1.65it/s]\u001b[A\u001b[A\u001b[A\u001b[A\n",
      "\n",
      "\n",
      "\n",
      "\n",
      "Training Steps:   0%|          | 0/37.0 [00:00<00:11,  3.36it/s] \u001b[A\u001b[A\u001b[A\u001b[A\u001b[A\n",
      "\n",
      "\n",
      "\n",
      "\n",
      "Training Steps: 100%|██████████| 37/37.0 [00:00<00:00,  3.36it/s]\u001b[A\u001b[A\u001b[A\u001b[A\u001b[A\n",
      "\n",
      "\n",
      "\n",
      "\n",
      "Training Steps:   0%|          | 0/37.0 [00:00<00:11,  3.36it/s] \u001b[A\u001b[A\u001b[A\u001b[A\u001b[A"
     ]
    },
    {
     "name": "stdout",
     "output_type": "stream",
     "text": [
      "epoch: 20, loss: 0.198\n",
      "INFO:tensorflow:Assets written to: models/best_rna_pca_model_pp_fs/assets\n"
     ]
    },
    {
     "name": "stderr",
     "output_type": "stream",
     "text": [
      "\n",
      "\n",
      "\n",
      "\n",
      "\n",
      "Training Steps: 100%|██████████| 37/37.0 [00:00<00:00,  3.36it/s]\u001b[A\u001b[A\u001b[A\u001b[A\u001b[A\n",
      "\n",
      "\n",
      "\n",
      "Training Epochs:  21%|██        | 21/100 [00:13<00:42,  1.87it/s]\u001b[A\u001b[A\u001b[A\u001b[A\n",
      "\n",
      "\n",
      "\n",
      "\n",
      "Training Steps:   0%|          | 0/37.0 [00:00<00:11,  3.36it/s] \u001b[A\u001b[A\u001b[A\u001b[A\u001b[A"
     ]
    },
    {
     "name": "stdout",
     "output_type": "stream",
     "text": [
      "INFO:tensorflow:Assets written to: models/best_rna_pca_model_pp_fs/assets\n"
     ]
    },
    {
     "name": "stderr",
     "output_type": "stream",
     "text": [
      "\n",
      "\n",
      "\n",
      "\n",
      "\n",
      "Training Steps: 100%|██████████| 37/37.0 [00:00<00:00,  3.36it/s]\u001b[A\u001b[A\u001b[A\u001b[A\u001b[A\n",
      "\n",
      "\n",
      "\n",
      "Training Epochs:  22%|██▏       | 22/100 [00:14<00:43,  1.78it/s]\u001b[A\u001b[A\u001b[A\u001b[A\n",
      "\n",
      "\n",
      "\n",
      "\n",
      "Training Steps:   0%|          | 0/37.0 [00:00<00:11,  3.36it/s] \u001b[A\u001b[A\u001b[A\u001b[A\u001b[A"
     ]
    },
    {
     "name": "stdout",
     "output_type": "stream",
     "text": [
      "INFO:tensorflow:Assets written to: models/best_rna_pca_model_pp_fs/assets\n"
     ]
    },
    {
     "name": "stderr",
     "output_type": "stream",
     "text": [
      "\n",
      "\n",
      "\n",
      "\n",
      "\n",
      "Training Steps: 100%|██████████| 37/37.0 [00:00<00:00,  3.36it/s]\u001b[A\u001b[A\u001b[A\u001b[A\u001b[A\n",
      "\n",
      "\n",
      "\n",
      "Training Epochs:  23%|██▎       | 23/100 [00:14<00:45,  1.68it/s]\u001b[A\u001b[A\u001b[A\u001b[A\n",
      "\n",
      "\n",
      "\n",
      "\n",
      "Training Steps:   0%|          | 0/37.0 [00:00<00:11,  3.36it/s] \u001b[A\u001b[A\u001b[A\u001b[A\u001b[A"
     ]
    },
    {
     "name": "stdout",
     "output_type": "stream",
     "text": [
      "INFO:tensorflow:Assets written to: models/best_rna_pca_model_pp_fs/assets\n"
     ]
    },
    {
     "name": "stderr",
     "output_type": "stream",
     "text": [
      "\n",
      "\n",
      "\n",
      "\n",
      "\n",
      "Training Steps: 100%|██████████| 37/37.0 [00:01<00:00,  3.36it/s]\u001b[A\u001b[A\u001b[A\u001b[A\u001b[A\n",
      "\n",
      "\n",
      "\n",
      "Training Epochs:  24%|██▍       | 24/100 [00:15<00:54,  1.39it/s]\u001b[A\u001b[A\u001b[A\u001b[A\n",
      "\n",
      "\n",
      "\n",
      "\n",
      "Training Steps:   0%|          | 0/37.0 [00:00<00:11,  3.36it/s] \u001b[A\u001b[A\u001b[A\u001b[A\u001b[A"
     ]
    },
    {
     "name": "stdout",
     "output_type": "stream",
     "text": [
      "INFO:tensorflow:Assets written to: models/best_rna_pca_model_pp_fs/assets\n"
     ]
    },
    {
     "name": "stderr",
     "output_type": "stream",
     "text": [
      "\n",
      "\n",
      "\n",
      "\n",
      "\n",
      "Training Steps: 100%|██████████| 37/37.0 [00:00<00:00,  3.36it/s]\u001b[A\u001b[A\u001b[A\u001b[A\u001b[A\n",
      "\n",
      "\n",
      "\n",
      "Training Epochs:  25%|██▌       | 25/100 [00:16<00:52,  1.42it/s]\u001b[A\u001b[A\u001b[A\u001b[A\n",
      "\n",
      "\n",
      "\n",
      "\n",
      "Training Steps:   0%|          | 0/37.0 [00:00<00:11,  3.36it/s] \u001b[A\u001b[A\u001b[A\u001b[A\u001b[A"
     ]
    },
    {
     "name": "stdout",
     "output_type": "stream",
     "text": [
      "epoch: 25, loss: 0.199\n"
     ]
    },
    {
     "name": "stderr",
     "output_type": "stream",
     "text": [
      "\n",
      "\n",
      "\n",
      "\n",
      "\n",
      "Training Steps: 100%|██████████| 37/37.0 [00:00<00:00,  3.36it/s]\u001b[A\u001b[A\u001b[A\u001b[A\u001b[A\n",
      "\n",
      "\n",
      "\n",
      "\n",
      "Training Steps:   0%|          | 0/37.0 [00:00<00:11,  3.36it/s] \u001b[A\u001b[A\u001b[A\u001b[A\u001b[A\n",
      "\n",
      "\n",
      "\n",
      "\n",
      "Training Steps: 100%|██████████| 37/37.0 [00:00<00:00,  3.36it/s]\u001b[A\u001b[A\u001b[A\u001b[A\u001b[A\n",
      "\n",
      "\n",
      "\n",
      "\n",
      "Training Steps:   0%|          | 0/37.0 [00:00<00:11,  3.36it/s] \u001b[A\u001b[A\u001b[A\u001b[A\u001b[A\n",
      "\n",
      "\n",
      "\n",
      "\n",
      "Training Steps: 100%|██████████| 37/37.0 [00:00<00:00,  3.36it/s]\u001b[A\u001b[A\u001b[A\u001b[A\u001b[A\n",
      "\n",
      "\n",
      "\n",
      "\n",
      "Training Steps:   0%|          | 0/37.0 [00:00<00:11,  3.36it/s] \u001b[A\u001b[A\u001b[A\u001b[A\u001b[A\n",
      "\n",
      "\n",
      "\n",
      "\n",
      "Training Steps: 100%|██████████| 37/37.0 [00:00<00:00,  3.36it/s]\u001b[A\u001b[A\u001b[A\u001b[A\u001b[A\n",
      "\n",
      "\n",
      "\n",
      "Training Epochs:  29%|██▉       | 29/100 [00:16<00:35,  2.00it/s]\u001b[A\u001b[A\u001b[A\u001b[A\n",
      "\n",
      "\n",
      "\n",
      "\n",
      "Training Steps:   0%|          | 0/37.0 [00:00<00:11,  3.36it/s] \u001b[A\u001b[A\u001b[A\u001b[A\u001b[A"
     ]
    },
    {
     "name": "stdout",
     "output_type": "stream",
     "text": [
      "INFO:tensorflow:Assets written to: models/best_rna_pca_model_pp_fs/assets\n"
     ]
    },
    {
     "name": "stderr",
     "output_type": "stream",
     "text": [
      "\n",
      "\n",
      "\n",
      "\n",
      "\n",
      "Training Steps: 100%|██████████| 37/37.0 [00:00<00:00,  3.36it/s]\u001b[A\u001b[A\u001b[A\u001b[A\u001b[A\n",
      "\n",
      "\n",
      "\n",
      "\n",
      "Training Steps:   0%|          | 0/37.0 [00:00<00:11,  3.36it/s] \u001b[A\u001b[A\u001b[A\u001b[A\u001b[A"
     ]
    },
    {
     "name": "stdout",
     "output_type": "stream",
     "text": [
      "epoch: 30, loss: 0.193\n"
     ]
    },
    {
     "name": "stderr",
     "output_type": "stream",
     "text": [
      "\n",
      "\n",
      "\n",
      "\n",
      "\n",
      "Training Steps: 100%|██████████| 37/37.0 [00:00<00:00,  3.36it/s]\u001b[A\u001b[A\u001b[A\u001b[A\u001b[A\n",
      "\n",
      "\n",
      "\n",
      "Training Epochs:  31%|███       | 31/100 [00:17<00:31,  2.18it/s]\u001b[A\u001b[A\u001b[A\u001b[A\n",
      "\n",
      "\n",
      "\n",
      "\n",
      "Training Steps:   0%|          | 0/37.0 [00:00<00:11,  3.36it/s] \u001b[A\u001b[A\u001b[A\u001b[A\u001b[A\n",
      "\n",
      "\n",
      "\n",
      "\n",
      "Training Steps: 100%|██████████| 37/37.0 [00:00<00:00,  3.36it/s]\u001b[A\u001b[A\u001b[A\u001b[A\u001b[A\n",
      "\n",
      "\n",
      "\n",
      "\n",
      "Training Steps:   0%|          | 0/37.0 [00:00<00:11,  3.36it/s] \u001b[A\u001b[A\u001b[A\u001b[A\u001b[A\n",
      "\n",
      "\n",
      "\n",
      "\n",
      "Training Steps: 100%|██████████| 37/37.0 [00:00<00:00,  3.36it/s]\u001b[A\u001b[A\u001b[A\u001b[A\u001b[A\n",
      "\n",
      "\n",
      "\n",
      "\n",
      "Training Steps:   0%|          | 0/37.0 [00:00<00:11,  3.36it/s] \u001b[A\u001b[A\u001b[A\u001b[A\u001b[A"
     ]
    },
    {
     "name": "stdout",
     "output_type": "stream",
     "text": [
      "INFO:tensorflow:Assets written to: models/best_rna_pca_model_pp_fs/assets\n"
     ]
    },
    {
     "name": "stderr",
     "output_type": "stream",
     "text": [
      "\n",
      "\n",
      "\n",
      "\n",
      "\n",
      "Training Steps: 100%|██████████| 37/37.0 [00:00<00:00,  3.36it/s]\u001b[A\u001b[A\u001b[A\u001b[A\u001b[A\n",
      "\n",
      "\n",
      "\n",
      "Training Epochs:  34%|███▍      | 34/100 [00:18<00:26,  2.53it/s]\u001b[A\u001b[A\u001b[A\u001b[A\n",
      "\n",
      "\n",
      "\n",
      "\n",
      "Training Steps:   0%|          | 0/37.0 [00:00<00:11,  3.36it/s] \u001b[A\u001b[A\u001b[A\u001b[A\u001b[A"
     ]
    },
    {
     "name": "stdout",
     "output_type": "stream",
     "text": [
      "INFO:tensorflow:Assets written to: models/best_rna_pca_model_pp_fs/assets\n"
     ]
    },
    {
     "name": "stderr",
     "output_type": "stream",
     "text": [
      "\n",
      "\n",
      "\n",
      "\n",
      "\n",
      "Training Steps: 100%|██████████| 37/37.0 [00:00<00:00,  3.36it/s]\u001b[A\u001b[A\u001b[A\u001b[A\u001b[A\n",
      "\n",
      "\n",
      "\n",
      "Training Epochs:  35%|███▌      | 35/100 [00:18<00:31,  2.09it/s]\u001b[A\u001b[A\u001b[A\u001b[A\n",
      "\n",
      "\n",
      "\n",
      "\n",
      "Training Steps:   0%|          | 0/37.0 [00:00<00:11,  3.36it/s] \u001b[A\u001b[A\u001b[A\u001b[A\u001b[A"
     ]
    },
    {
     "name": "stdout",
     "output_type": "stream",
     "text": [
      "epoch: 35, loss: 0.193\n"
     ]
    },
    {
     "name": "stderr",
     "output_type": "stream",
     "text": [
      "\n",
      "\n",
      "\n",
      "\n",
      "\n",
      "Training Steps: 100%|██████████| 37/37.0 [00:00<00:00,  3.36it/s]\u001b[A\u001b[A\u001b[A\u001b[A\u001b[A\n",
      "\n",
      "\n",
      "\n",
      "\n",
      "Training Steps:   0%|          | 0/37.0 [00:00<00:11,  3.36it/s] \u001b[A\u001b[A\u001b[A\u001b[A\u001b[A\n",
      "\n",
      "\n",
      "\n",
      "\n",
      "Training Steps: 100%|██████████| 37/37.0 [00:00<00:00,  3.36it/s]\u001b[A\u001b[A\u001b[A\u001b[A\u001b[A\n",
      "\n",
      "\n",
      "\n",
      "\n",
      "Training Steps:   0%|          | 0/37.0 [00:00<00:11,  3.36it/s] \u001b[A\u001b[A\u001b[A\u001b[A\u001b[A\n",
      "\n",
      "\n",
      "\n",
      "\n",
      "Training Steps: 100%|██████████| 37/37.0 [00:00<00:00,  3.36it/s]\u001b[A\u001b[A\u001b[A\u001b[A\u001b[A\n",
      "\n",
      "\n",
      "\n",
      "\n",
      "Training Steps:   0%|          | 0/37.0 [00:00<00:11,  3.36it/s] \u001b[A\u001b[A\u001b[A\u001b[A\u001b[A\n",
      "\n",
      "\n",
      "\n",
      "\n",
      "Training Steps: 100%|██████████| 37/37.0 [00:00<00:00,  3.36it/s]\u001b[A\u001b[A\u001b[A\u001b[A\u001b[A\n",
      "\n",
      "\n",
      "\n",
      "Training Epochs:  39%|███▉      | 39/100 [00:18<00:20,  2.91it/s]\u001b[A\u001b[A\u001b[A\u001b[A\n",
      "\n",
      "\n",
      "\n",
      "\n",
      "Training Steps:   0%|          | 0/37.0 [00:00<00:11,  3.36it/s] \u001b[A\u001b[A\u001b[A\u001b[A\u001b[A\n",
      "\n",
      "\n",
      "\n",
      "\n",
      "Training Steps: 100%|██████████| 37/37.0 [00:00<00:00,  3.36it/s]\u001b[A\u001b[A\u001b[A\u001b[A\u001b[A\n",
      "\n",
      "\n",
      "\n",
      "\n",
      "Training Steps:   0%|          | 0/37.0 [00:00<00:11,  3.36it/s] \u001b[A\u001b[A\u001b[A\u001b[A\u001b[A"
     ]
    },
    {
     "name": "stdout",
     "output_type": "stream",
     "text": [
      "epoch: 40, loss: 0.195\n"
     ]
    },
    {
     "name": "stderr",
     "output_type": "stream",
     "text": [
      "\n",
      "\n",
      "\n",
      "\n",
      "\n",
      "Training Steps: 100%|██████████| 37/37.0 [00:00<00:00,  3.36it/s]\u001b[A\u001b[A\u001b[A\u001b[A\u001b[A\n",
      "\n",
      "\n",
      "\n",
      "\n",
      "Training Steps:   0%|          | 0/37.0 [00:00<00:11,  3.36it/s] \u001b[A\u001b[A\u001b[A\u001b[A\u001b[A\n",
      "\n",
      "\n",
      "\n",
      "\n",
      "Training Steps: 100%|██████████| 37/37.0 [00:00<00:00,  3.36it/s]\u001b[A\u001b[A\u001b[A\u001b[A\u001b[A\n",
      "\n",
      "\n",
      "\n",
      "\n",
      "Training Steps:   0%|          | 0/37.0 [00:00<00:11,  3.36it/s] \u001b[A\u001b[A\u001b[A\u001b[A\u001b[A\n",
      "\n",
      "\n",
      "\n",
      "\n",
      "Training Steps: 100%|██████████| 37/37.0 [00:00<00:00,  3.36it/s]\u001b[A\u001b[A\u001b[A\u001b[A\u001b[A\n",
      "\n",
      "\n",
      "\n",
      "Training Epochs:  43%|████▎     | 43/100 [00:18<00:14,  4.01it/s]\u001b[A\u001b[A\u001b[A\u001b[A\n",
      "\n",
      "\n",
      "\n",
      "\n",
      "Training Steps:   0%|          | 0/37.0 [00:00<00:11,  3.36it/s] \u001b[A\u001b[A\u001b[A\u001b[A\u001b[A\n",
      "\n",
      "\n",
      "\n",
      "\n",
      "Training Steps: 100%|██████████| 37/37.0 [00:00<00:00,  3.36it/s]\u001b[A\u001b[A\u001b[A\u001b[A\u001b[A\n",
      "\n",
      "\n",
      "\n",
      "\n",
      "Training Steps:   0%|          | 0/37.0 [00:00<00:11,  3.36it/s] \u001b[A\u001b[A\u001b[A\u001b[A\u001b[A\n",
      "\n",
      "\n",
      "\n",
      "\n",
      "Training Steps: 100%|██████████| 37/37.0 [00:00<00:00,  3.36it/s]\u001b[A\u001b[A\u001b[A\u001b[A\u001b[A\n",
      "\n",
      "\n",
      "\n",
      "\n",
      "Training Steps:   0%|          | 0/37.0 [00:00<00:11,  3.36it/s] \u001b[A\u001b[A\u001b[A\u001b[A\u001b[A"
     ]
    },
    {
     "name": "stdout",
     "output_type": "stream",
     "text": [
      "epoch: 45, loss: 0.195\n"
     ]
    },
    {
     "name": "stderr",
     "output_type": "stream",
     "text": [
      "\n",
      "\n",
      "\n",
      "\n",
      "\n",
      "Training Steps: 100%|██████████| 37/37.0 [00:00<00:00,  3.36it/s]\u001b[A\u001b[A\u001b[A\u001b[A\u001b[A\n",
      "\n",
      "\n",
      "\n",
      "\n",
      "Training Steps:   0%|          | 0/37.0 [00:00<00:11,  3.36it/s] \u001b[A\u001b[A\u001b[A\u001b[A\u001b[A\n",
      "\n",
      "\n",
      "\n",
      "\n",
      "Training Steps: 100%|██████████| 37/37.0 [00:00<00:00,  3.36it/s]\u001b[A\u001b[A\u001b[A\u001b[A\u001b[A\n",
      "\n",
      "\n",
      "\n",
      "Training Epochs:  47%|████▋     | 47/100 [00:19<00:09,  5.44it/s]\u001b[A\u001b[A\u001b[A\u001b[A\n",
      "\n",
      "\n",
      "\n",
      "\n",
      "Training Steps:   0%|          | 0/37.0 [00:00<00:11,  3.36it/s] \u001b[A\u001b[A\u001b[A\u001b[A\u001b[A\n",
      "\n",
      "\n",
      "\n",
      "\n",
      "Training Steps: 100%|██████████| 37/37.0 [00:00<00:00,  3.36it/s]\u001b[A\u001b[A\u001b[A\u001b[A\u001b[A\n",
      "\n",
      "\n",
      "\n",
      "\n",
      "Training Steps:   0%|          | 0/37.0 [00:00<00:11,  3.36it/s] \u001b[A\u001b[A\u001b[A\u001b[A\u001b[A\n",
      "\n",
      "\n",
      "\n",
      "\n",
      "Training Steps: 100%|██████████| 37/37.0 [00:00<00:00,  3.36it/s]\u001b[A\u001b[A\u001b[A\u001b[A\u001b[A\n",
      "\n",
      "\n",
      "\n",
      "\n",
      "Training Steps:   0%|          | 0/37.0 [00:00<00:11,  3.36it/s] \u001b[A\u001b[A\u001b[A\u001b[A\u001b[A\n",
      "\n",
      "\n",
      "\n",
      "\n",
      "Training Steps: 100%|██████████| 37/37.0 [00:00<00:00,  3.36it/s]\u001b[A\u001b[A\u001b[A\u001b[A\u001b[A\n",
      "\n",
      "\n",
      "\n",
      "\n",
      "Training Steps:   0%|          | 0/37.0 [00:00<00:11,  3.36it/s] \u001b[A\u001b[A\u001b[A\u001b[A\u001b[A"
     ]
    },
    {
     "name": "stdout",
     "output_type": "stream",
     "text": [
      "epoch: 50, loss: 0.197\n"
     ]
    },
    {
     "name": "stderr",
     "output_type": "stream",
     "text": [
      "\n",
      "\n",
      "\n",
      "\n",
      "\n",
      "Training Steps: 100%|██████████| 37/37.0 [00:00<00:00,  3.36it/s]\u001b[A\u001b[A\u001b[A\u001b[A\u001b[A\n",
      "\n",
      "\n",
      "\n",
      "Training Epochs:  51%|█████     | 51/100 [00:19<00:06,  7.24it/s]\u001b[A\u001b[A\u001b[A\u001b[A\n",
      "\n",
      "\n",
      "\n",
      "\n",
      "Training Steps:   0%|          | 0/37.0 [00:00<00:11,  3.36it/s] \u001b[A\u001b[A\u001b[A\u001b[A\u001b[A\n",
      "\n",
      "\n",
      "\n",
      "\n",
      "Training Steps: 100%|██████████| 37/37.0 [00:00<00:00,  3.36it/s]\u001b[A\u001b[A\u001b[A\u001b[A\u001b[A\n",
      "\n",
      "\n",
      "\n",
      "\n",
      "Training Steps:   0%|          | 0/37.0 [00:00<00:11,  3.36it/s] \u001b[A\u001b[A\u001b[A\u001b[A\u001b[A\n",
      "\n",
      "\n",
      "\n",
      "\n",
      "Training Steps: 100%|██████████| 37/37.0 [00:00<00:00,  3.36it/s]\u001b[A\u001b[A\u001b[A\u001b[A\u001b[A\n",
      "\n",
      "\n",
      "\n",
      "\n",
      "Training Steps:   0%|          | 0/37.0 [00:00<00:11,  3.36it/s] \u001b[A\u001b[A\u001b[A\u001b[A\u001b[A\n",
      "\n",
      "\n",
      "\n",
      "\n",
      "Training Steps: 100%|██████████| 37/37.0 [00:00<00:00,  3.36it/s]\u001b[A\u001b[A\u001b[A\u001b[A\u001b[A\n",
      "\n",
      "\n",
      "\n",
      "Training Epochs:  54%|█████▍    | 54/100 [00:19<00:04,  9.21it/s]\u001b[A\u001b[A\u001b[A\u001b[A\n",
      "\n",
      "\n",
      "\n",
      "\n",
      "Training Steps:   0%|          | 0/37.0 [00:00<00:11,  3.36it/s] \u001b[A\u001b[A\u001b[A\u001b[A\u001b[A\n",
      "\n",
      "\n",
      "\n",
      "\n",
      "Training Steps: 100%|██████████| 37/37.0 [00:00<00:00,  3.36it/s]\u001b[A\u001b[A\u001b[A\u001b[A\u001b[A\n",
      "\n",
      "\n",
      "\n",
      "\n",
      "Training Steps:   0%|          | 0/37.0 [00:00<00:11,  3.36it/s] \u001b[A\u001b[A\u001b[A\u001b[A\u001b[A"
     ]
    },
    {
     "name": "stdout",
     "output_type": "stream",
     "text": [
      "epoch: 55, loss: 0.197\n"
     ]
    },
    {
     "name": "stderr",
     "output_type": "stream",
     "text": [
      "\n",
      "\n",
      "\n",
      "\n",
      "\n",
      "Training Steps: 100%|██████████| 37/37.0 [00:00<00:00,  3.36it/s]\u001b[A\u001b[A\u001b[A\u001b[A\u001b[A\n",
      "\n",
      "\n",
      "\n",
      "\n",
      "Training Steps:   0%|          | 0/37.0 [00:00<00:11,  3.36it/s] \u001b[A\u001b[A\u001b[A\u001b[A\u001b[A\n",
      "\n",
      "\n",
      "\n",
      "\n",
      "Training Steps: 100%|██████████| 37/37.0 [00:00<00:00,  3.36it/s]\u001b[A\u001b[A\u001b[A\u001b[A\u001b[A\n",
      "\n",
      "\n",
      "\n",
      "\n",
      "Training Steps:   0%|          | 0/37.0 [00:00<00:11,  3.36it/s] \u001b[A\u001b[A\u001b[A\u001b[A\u001b[A\n",
      "\n",
      "\n",
      "\n",
      "\n",
      "Training Steps: 100%|██████████| 37/37.0 [00:00<00:00,  3.36it/s]\u001b[A\u001b[A\u001b[A\u001b[A\u001b[A\n",
      "\n",
      "\n",
      "\n",
      "Training Epochs:  58%|█████▊    | 58/100 [00:19<00:03, 11.72it/s]\u001b[A\u001b[A\u001b[A\u001b[A\n",
      "\n",
      "\n",
      "\n",
      "\n",
      "Training Steps:   0%|          | 0/37.0 [00:00<00:11,  3.36it/s] \u001b[A\u001b[A\u001b[A\u001b[A\u001b[A\n",
      "\n",
      "\n",
      "\n",
      "\n",
      "Training Steps: 100%|██████████| 37/37.0 [00:00<00:00,  3.36it/s]\u001b[A\u001b[A\u001b[A\u001b[A\u001b[A\n",
      "\n",
      "\n",
      "\n",
      "\n",
      "Training Steps:   0%|          | 0/37.0 [00:00<00:11,  3.36it/s] \u001b[A\u001b[A\u001b[A\u001b[A\u001b[A\n",
      "\n",
      "\n",
      "\n",
      "\n",
      "Training Steps: 100%|██████████| 37/37.0 [00:00<00:00,  3.36it/s]\u001b[A\u001b[A\u001b[A\u001b[A\u001b[A\n",
      "\n",
      "\n",
      "\n",
      "\n",
      "Training Steps:   0%|          | 0/37.0 [00:00<00:11,  3.36it/s] \u001b[A\u001b[A\u001b[A\u001b[A\u001b[A"
     ]
    },
    {
     "name": "stdout",
     "output_type": "stream",
     "text": [
      "epoch: 60, loss: 0.202\n"
     ]
    },
    {
     "name": "stderr",
     "output_type": "stream",
     "text": [
      "\n",
      "\n",
      "\n",
      "\n",
      "\n",
      "Training Steps: 100%|██████████| 37/37.0 [00:00<00:00,  3.36it/s]\u001b[A\u001b[A\u001b[A\u001b[A\u001b[A\n",
      "\n",
      "\n",
      "\n",
      "\n",
      "Training Steps:   0%|          | 0/37.0 [00:00<00:11,  3.36it/s] \u001b[A\u001b[A\u001b[A\u001b[A\u001b[A\n",
      "\n",
      "\n",
      "\n",
      "\n",
      "Training Steps: 100%|██████████| 37/37.0 [00:00<00:00,  3.36it/s]\u001b[A\u001b[A\u001b[A\u001b[A\u001b[A\n",
      "\n",
      "\n",
      "\n",
      "Training Epochs:  62%|██████▏   | 62/100 [00:19<00:02, 14.47it/s]\u001b[A\u001b[A\u001b[A\u001b[A\n",
      "\n",
      "\n",
      "\n",
      "\n",
      "Training Steps:   0%|          | 0/37.0 [00:00<00:11,  3.36it/s] \u001b[A\u001b[A\u001b[A\u001b[A\u001b[A\n",
      "\n",
      "\n",
      "\n",
      "\n",
      "Training Steps: 100%|██████████| 37/37.0 [00:00<00:00,  3.36it/s]\u001b[A\u001b[A\u001b[A\u001b[A\u001b[A\n",
      "\n",
      "\n",
      "\n",
      "\n",
      "Training Steps:   0%|          | 0/37.0 [00:00<00:11,  3.36it/s] \u001b[A\u001b[A\u001b[A\u001b[A\u001b[A\n",
      "\n",
      "\n",
      "\n",
      "\n",
      "Training Steps: 100%|██████████| 37/37.0 [00:00<00:00,  3.36it/s]\u001b[A\u001b[A\u001b[A\u001b[A\u001b[A\n",
      "\n",
      "\n",
      "\n",
      "\n",
      "Training Steps:   0%|          | 0/37.0 [00:00<00:11,  3.36it/s] \u001b[A\u001b[A\u001b[A\u001b[A\u001b[A\n",
      "\n",
      "\n",
      "\n",
      "\n",
      "Training Steps: 100%|██████████| 37/37.0 [00:00<00:00,  3.36it/s]\u001b[A\u001b[A\u001b[A\u001b[A\u001b[A\n",
      "\n",
      "\n",
      "\n",
      "\n",
      "Training Steps:   0%|          | 0/37.0 [00:00<00:11,  3.36it/s] \u001b[A\u001b[A\u001b[A\u001b[A\u001b[A"
     ]
    },
    {
     "name": "stdout",
     "output_type": "stream",
     "text": [
      "epoch: 65, loss: 0.206\n"
     ]
    },
    {
     "name": "stderr",
     "output_type": "stream",
     "text": [
      "\n",
      "\n",
      "\n",
      "\n",
      "\n",
      "Training Steps: 100%|██████████| 37/37.0 [00:00<00:00,  3.36it/s]\u001b[A\u001b[A\u001b[A\u001b[A\u001b[A\n",
      "\n",
      "\n",
      "\n",
      "Training Epochs:  66%|██████▌   | 66/100 [00:19<00:01, 17.40it/s]\u001b[A\u001b[A\u001b[A\u001b[A\n",
      "\n",
      "\n",
      "\n",
      "\n",
      "Training Steps:   0%|          | 0/37.0 [00:00<00:11,  3.36it/s] \u001b[A\u001b[A\u001b[A\u001b[A\u001b[A\n",
      "\n",
      "\n",
      "\n",
      "\n",
      "Training Steps: 100%|██████████| 37/37.0 [00:00<00:00,  3.36it/s]\u001b[A\u001b[A\u001b[A\u001b[A\u001b[A\n",
      "\n",
      "\n",
      "\n",
      "\n",
      "Training Steps:   0%|          | 0/37.0 [00:00<00:11,  3.36it/s] \u001b[A\u001b[A\u001b[A\u001b[A\u001b[A\n",
      "\n",
      "\n",
      "\n",
      "\n",
      "Training Steps: 100%|██████████| 37/37.0 [00:00<00:00,  3.36it/s]\u001b[A\u001b[A\u001b[A\u001b[A\u001b[A\n",
      "\n",
      "\n",
      "\n",
      "\n",
      "Training Steps:   0%|          | 0/37.0 [00:00<00:11,  3.36it/s] \u001b[A\u001b[A\u001b[A\u001b[A\u001b[A\n",
      "\n",
      "\n",
      "\n",
      "\n",
      "Training Steps: 100%|██████████| 37/37.0 [00:00<00:00,  3.36it/s]\u001b[A\u001b[A\u001b[A\u001b[A\u001b[A\n",
      "\n",
      "\n",
      "\n",
      "\n",
      "Training Steps:   0%|          | 0/37.0 [00:00<00:11,  3.36it/s] \u001b[A\u001b[A\u001b[A\u001b[A\u001b[A\n",
      "\n",
      "\n",
      "\n",
      "\n",
      "Training Steps: 100%|██████████| 37/37.0 [00:00<00:00,  3.36it/s]\u001b[A\u001b[A\u001b[A\u001b[A\u001b[A\n",
      "\n",
      "\n",
      "\n",
      "Training Epochs:  70%|███████   | 70/100 [00:19<00:01, 20.09it/s]\u001b[A\u001b[A\u001b[A\u001b[A\n",
      "\n",
      "\n",
      "\n",
      "\n",
      "Training Steps:   0%|          | 0/37.0 [00:00<00:11,  3.36it/s] \u001b[A\u001b[A\u001b[A\u001b[A\u001b[A"
     ]
    },
    {
     "name": "stdout",
     "output_type": "stream",
     "text": [
      "epoch: 70, loss: 0.204\n"
     ]
    },
    {
     "name": "stderr",
     "output_type": "stream",
     "text": [
      "\n",
      "\n",
      "\n",
      "\n",
      "\n",
      "Training Steps: 100%|██████████| 37/37.0 [00:00<00:00,  3.36it/s]\u001b[A\u001b[A\u001b[A\u001b[A\u001b[A\n",
      "\n",
      "\n",
      "\n",
      "\n",
      "Training Steps:   0%|          | 0/37.0 [00:00<00:11,  3.36it/s] \u001b[A\u001b[A\u001b[A\u001b[A\u001b[A\n",
      "\n",
      "\n",
      "\n",
      "\n",
      "Training Steps: 100%|██████████| 37/37.0 [00:00<00:00,  3.36it/s]\u001b[A\u001b[A\u001b[A\u001b[A\u001b[A\n",
      "\n",
      "\n",
      "\n",
      "\n",
      "Training Steps:   0%|          | 0/37.0 [00:00<00:11,  3.36it/s] \u001b[A\u001b[A\u001b[A\u001b[A\u001b[A\n",
      "\n",
      "\n",
      "\n",
      "\n",
      "Training Steps: 100%|██████████| 37/37.0 [00:00<00:00,  3.36it/s]\u001b[A\u001b[A\u001b[A\u001b[A\u001b[A\n",
      "\n",
      "\n",
      "\n",
      "\n",
      "Training Steps:   0%|          | 0/37.0 [00:00<00:11,  3.36it/s] \u001b[A\u001b[A\u001b[A\u001b[A\u001b[A\n",
      "\n",
      "\n",
      "\n",
      "\n",
      "Training Steps: 100%|██████████| 37/37.0 [00:00<00:00,  3.36it/s]\u001b[A\u001b[A\u001b[A\u001b[A\u001b[A\n",
      "\n",
      "\n",
      "\n",
      "Training Epochs:  74%|███████▍  | 74/100 [00:19<00:01, 22.42it/s]\u001b[A\u001b[A\u001b[A\u001b[A\n",
      "\n",
      "\n",
      "\n",
      "\n",
      "Training Steps:   0%|          | 0/37.0 [00:00<00:11,  3.36it/s] \u001b[A\u001b[A\u001b[A\u001b[A\u001b[A\n",
      "\n",
      "\n",
      "\n",
      "\n",
      "Training Steps: 100%|██████████| 37/37.0 [00:00<00:00,  3.36it/s]\u001b[A\u001b[A\u001b[A\u001b[A\u001b[A\n",
      "\n",
      "\n",
      "\n",
      "\n",
      "Training Steps:   0%|          | 0/37.0 [00:00<00:11,  3.36it/s] \u001b[A\u001b[A\u001b[A\u001b[A\u001b[A"
     ]
    },
    {
     "name": "stdout",
     "output_type": "stream",
     "text": [
      "epoch: 75, loss: 0.209\n"
     ]
    },
    {
     "name": "stderr",
     "output_type": "stream",
     "text": [
      "\n",
      "\n",
      "\n",
      "\n",
      "\n",
      "Training Steps: 100%|██████████| 37/37.0 [00:00<00:00,  3.36it/s]\u001b[A\u001b[A\u001b[A\u001b[A\u001b[A\n",
      "\n",
      "\n",
      "\n",
      "\n",
      "Training Steps:   0%|          | 0/37.0 [00:00<00:11,  3.36it/s] \u001b[A\u001b[A\u001b[A\u001b[A\u001b[A\n",
      "\n",
      "\n",
      "\n",
      "\n",
      "Training Steps: 100%|██████████| 37/37.0 [00:00<00:00,  3.36it/s]\u001b[A\u001b[A\u001b[A\u001b[A\u001b[A\n",
      "\n",
      "\n",
      "\n",
      "\n",
      "Training Steps:   0%|          | 0/37.0 [00:00<00:11,  3.36it/s] \u001b[A\u001b[A\u001b[A\u001b[A\u001b[A\n",
      "\n",
      "\n",
      "\n",
      "\n",
      "Training Steps: 100%|██████████| 37/37.0 [00:00<00:00,  3.36it/s]\u001b[A\u001b[A\u001b[A\u001b[A\u001b[A\n",
      "\n",
      "\n",
      "\n",
      "Training Epochs:  78%|███████▊  | 78/100 [00:20<00:00, 24.64it/s]\u001b[A\u001b[A\u001b[A\u001b[A\n",
      "\n",
      "\n",
      "\n",
      "\n",
      "Training Steps:   0%|          | 0/37.0 [00:00<00:11,  3.36it/s] \u001b[A\u001b[A\u001b[A\u001b[A\u001b[A\n",
      "\n",
      "\n",
      "\n",
      "\n",
      "Training Steps: 100%|██████████| 37/37.0 [00:00<00:00,  3.36it/s]\u001b[A\u001b[A\u001b[A\u001b[A\u001b[A\n",
      "\n",
      "\n",
      "\n",
      "\n",
      "Training Steps:   0%|          | 0/37.0 [00:00<00:11,  3.36it/s] \u001b[A\u001b[A\u001b[A\u001b[A\u001b[A\n",
      "\n",
      "\n",
      "\n",
      "\n",
      "Training Steps: 100%|██████████| 37/37.0 [00:00<00:00,  3.36it/s]\u001b[A\u001b[A\u001b[A\u001b[A\u001b[A\n",
      "\n",
      "\n",
      "\n",
      "\n",
      "Training Steps:   0%|          | 0/37.0 [00:00<00:11,  3.36it/s] \u001b[A\u001b[A\u001b[A\u001b[A\u001b[A"
     ]
    },
    {
     "name": "stdout",
     "output_type": "stream",
     "text": [
      "epoch: 80, loss: 0.211\n"
     ]
    },
    {
     "name": "stderr",
     "output_type": "stream",
     "text": [
      "\n",
      "\n",
      "\n",
      "\n",
      "\n",
      "Training Steps: 100%|██████████| 37/37.0 [00:00<00:00,  3.36it/s]\u001b[A\u001b[A\u001b[A\u001b[A\u001b[A\n",
      "\n",
      "\n",
      "\n",
      "\n",
      "Training Steps:   0%|          | 0/37.0 [00:00<00:11,  3.36it/s] \u001b[A\u001b[A\u001b[A\u001b[A\u001b[A\n",
      "\n",
      "\n",
      "\n",
      "\n",
      "Training Steps: 100%|██████████| 37/37.0 [00:00<00:00,  3.36it/s]\u001b[A\u001b[A\u001b[A\u001b[A\u001b[A\n",
      "\n",
      "\n",
      "\n",
      "Training Epochs:  82%|████████▏ | 82/100 [00:20<00:00, 26.16it/s]\u001b[A\u001b[A\u001b[A\u001b[A\n",
      "\n",
      "\n",
      "\n",
      "\n",
      "Training Steps:   0%|          | 0/37.0 [00:00<00:11,  3.36it/s] \u001b[A\u001b[A\u001b[A\u001b[A\u001b[A\n",
      "\n",
      "\n",
      "\n",
      "\n",
      "Training Steps: 100%|██████████| 37/37.0 [00:00<00:00,  3.36it/s]\u001b[A\u001b[A\u001b[A\u001b[A\u001b[A\n",
      "\n",
      "\n",
      "\n",
      "\n",
      "Training Steps:   0%|          | 0/37.0 [00:00<00:11,  3.36it/s] \u001b[A\u001b[A\u001b[A\u001b[A\u001b[A\n",
      "\n",
      "\n",
      "\n",
      "\n",
      "Training Steps: 100%|██████████| 37/37.0 [00:00<00:00,  3.36it/s]\u001b[A\u001b[A\u001b[A\u001b[A\u001b[A\n",
      "\n",
      "\n",
      "\n",
      "\n",
      "Training Steps:   0%|          | 0/37.0 [00:00<00:11,  3.36it/s] \u001b[A\u001b[A\u001b[A\u001b[A\u001b[A\n",
      "\n",
      "\n",
      "\n",
      "\n",
      "Training Steps: 100%|██████████| 37/37.0 [00:00<00:00,  3.36it/s]\u001b[A\u001b[A\u001b[A\u001b[A\u001b[A\n",
      "\n",
      "\n",
      "\n",
      "\n",
      "Training Steps:   0%|          | 0/37.0 [00:00<00:11,  3.36it/s] \u001b[A\u001b[A\u001b[A\u001b[A\u001b[A"
     ]
    },
    {
     "name": "stdout",
     "output_type": "stream",
     "text": [
      "epoch: 85, loss: 0.212\n"
     ]
    },
    {
     "name": "stderr",
     "output_type": "stream",
     "text": [
      "\n",
      "\n",
      "\n",
      "\n",
      "\n",
      "Training Steps: 100%|██████████| 37/37.0 [00:00<00:00,  3.36it/s]\u001b[A\u001b[A\u001b[A\u001b[A\u001b[A\n",
      "\n",
      "\n",
      "\n",
      "Training Epochs:  86%|████████▌ | 86/100 [00:20<00:00, 26.60it/s]\u001b[A\u001b[A\u001b[A\u001b[A\n",
      "\n",
      "\n",
      "\n",
      "\n",
      "Training Steps:   0%|          | 0/37.0 [00:00<00:11,  3.36it/s] \u001b[A\u001b[A\u001b[A\u001b[A\u001b[A\n",
      "\n",
      "\n",
      "\n",
      "\n",
      "Training Steps: 100%|██████████| 37/37.0 [00:00<00:00,  3.36it/s]\u001b[A\u001b[A\u001b[A\u001b[A\u001b[A\n",
      "\n",
      "\n",
      "\n",
      "\n",
      "Training Steps:   0%|          | 0/37.0 [00:00<00:11,  3.36it/s] \u001b[A\u001b[A\u001b[A\u001b[A\u001b[A\n",
      "\n",
      "\n",
      "\n",
      "\n",
      "Training Steps: 100%|██████████| 37/37.0 [00:00<00:00,  3.36it/s]\u001b[A\u001b[A\u001b[A\u001b[A\u001b[A\n",
      "\n",
      "\n",
      "\n",
      "\n",
      "Training Steps:   0%|          | 0/37.0 [00:00<00:11,  3.36it/s] \u001b[A\u001b[A\u001b[A\u001b[A\u001b[A\n",
      "\n",
      "\n",
      "\n",
      "\n",
      "Training Steps: 100%|██████████| 37/37.0 [00:00<00:00,  3.36it/s]\u001b[A\u001b[A\u001b[A\u001b[A\u001b[A\n",
      "\n",
      "\n",
      "\n",
      "\n",
      "Training Steps:   0%|          | 0/37.0 [00:00<00:11,  3.36it/s] \u001b[A\u001b[A\u001b[A\u001b[A\u001b[A\n",
      "\n",
      "\n",
      "\n",
      "\n",
      "Training Steps: 100%|██████████| 37/37.0 [00:00<00:00,  3.36it/s]\u001b[A\u001b[A\u001b[A\u001b[A\u001b[A\n",
      "\n",
      "\n",
      "\n",
      "Training Epochs:  90%|█████████ | 90/100 [00:20<00:00, 27.78it/s]\u001b[A\u001b[A\u001b[A\u001b[A\n",
      "\n",
      "\n",
      "\n",
      "\n",
      "Training Steps:   0%|          | 0/37.0 [00:00<00:11,  3.36it/s] \u001b[A\u001b[A\u001b[A\u001b[A\u001b[A"
     ]
    },
    {
     "name": "stdout",
     "output_type": "stream",
     "text": [
      "epoch: 90, loss: 0.216\n"
     ]
    },
    {
     "name": "stderr",
     "output_type": "stream",
     "text": [
      "\n",
      "\n",
      "\n",
      "\n",
      "\n",
      "Training Steps: 100%|██████████| 37/37.0 [00:00<00:00,  3.36it/s]\u001b[A\u001b[A\u001b[A\u001b[A\u001b[A\n",
      "\n",
      "\n",
      "\n",
      "\n",
      "Training Steps:   0%|          | 0/37.0 [00:00<00:11,  3.36it/s] \u001b[A\u001b[A\u001b[A\u001b[A\u001b[A\n",
      "\n",
      "\n",
      "\n",
      "\n",
      "Training Steps: 100%|██████████| 37/37.0 [00:00<00:00,  3.36it/s]\u001b[A\u001b[A\u001b[A\u001b[A\u001b[A\n",
      "\n",
      "\n",
      "\n",
      "\n",
      "Training Steps:   0%|          | 0/37.0 [00:00<00:11,  3.36it/s] \u001b[A\u001b[A\u001b[A\u001b[A\u001b[A\n",
      "\n",
      "\n",
      "\n",
      "\n",
      "Training Steps: 100%|██████████| 37/37.0 [00:00<00:00,  3.36it/s]\u001b[A\u001b[A\u001b[A\u001b[A\u001b[A\n",
      "\n",
      "\n",
      "\n",
      "\n",
      "Training Steps:   0%|          | 0/37.0 [00:00<00:11,  3.36it/s] \u001b[A\u001b[A\u001b[A\u001b[A\u001b[A\n",
      "\n",
      "\n",
      "\n",
      "\n",
      "Training Steps: 100%|██████████| 37/37.0 [00:00<00:00,  3.36it/s]\u001b[A\u001b[A\u001b[A\u001b[A\u001b[A\n",
      "\n",
      "\n",
      "\n",
      "Training Epochs:  94%|█████████▍| 94/100 [00:20<00:00, 28.69it/s]\u001b[A\u001b[A\u001b[A\u001b[A\n",
      "\n",
      "\n",
      "\n",
      "\n",
      "Training Steps:   0%|          | 0/37.0 [00:00<00:11,  3.36it/s] \u001b[A\u001b[A\u001b[A\u001b[A\u001b[A\n",
      "\n",
      "\n",
      "\n",
      "\n",
      "Training Steps: 100%|██████████| 37/37.0 [00:00<00:00,  3.36it/s]\u001b[A\u001b[A\u001b[A\u001b[A\u001b[A\n",
      "\n",
      "\n",
      "\n",
      "\n",
      "Training Steps:   0%|          | 0/37.0 [00:00<00:11,  3.36it/s] \u001b[A\u001b[A\u001b[A\u001b[A\u001b[A"
     ]
    },
    {
     "name": "stdout",
     "output_type": "stream",
     "text": [
      "epoch: 95, loss: 0.216\n"
     ]
    },
    {
     "name": "stderr",
     "output_type": "stream",
     "text": [
      "\n",
      "\n",
      "\n",
      "\n",
      "\n",
      "Training Steps: 100%|██████████| 37/37.0 [00:00<00:00,  3.36it/s]\u001b[A\u001b[A\u001b[A\u001b[A\u001b[A\n",
      "\n",
      "\n",
      "\n",
      "\n",
      "Training Steps:   0%|          | 0/37.0 [00:00<00:11,  3.36it/s] \u001b[A\u001b[A\u001b[A\u001b[A\u001b[A\n",
      "\n",
      "\n",
      "\n",
      "\n",
      "Training Steps: 100%|██████████| 37/37.0 [00:00<00:00,  3.36it/s]\u001b[A\u001b[A\u001b[A\u001b[A\u001b[A\n",
      "\n",
      "\n",
      "\n",
      "\n",
      "Training Steps:   0%|          | 0/37.0 [00:00<00:11,  3.36it/s] \u001b[A\u001b[A\u001b[A\u001b[A\u001b[A\n",
      "\n",
      "\n",
      "\n",
      "\n",
      "Training Steps: 100%|██████████| 37/37.0 [00:00<00:00,  3.36it/s]\u001b[A\u001b[A\u001b[A\u001b[A\u001b[A\n",
      "\n",
      "\n",
      "\n",
      "Training Epochs:  98%|█████████▊| 98/100 [00:20<00:00, 29.77it/s]\u001b[A\u001b[A\u001b[A\u001b[A\n",
      "\n",
      "\n",
      "\n",
      "\n",
      "Training Steps:   0%|          | 0/37.0 [00:00<00:11,  3.36it/s] \u001b[A\u001b[A\u001b[A\u001b[A\u001b[A\n",
      "\n",
      "\n",
      "\n",
      "\n",
      "Training Steps: 100%|██████████| 37/37.0 [00:00<00:00,  3.36it/s]\u001b[A\u001b[A\u001b[A\u001b[A\u001b[A\n",
      "\n",
      "\n",
      "\n",
      "\n",
      "Training Steps:   0%|          | 0/37.0 [00:00<00:11,  3.36it/s] \u001b[A\u001b[A\u001b[A\u001b[A\u001b[A\n",
      "\n",
      "\n",
      "\n",
      "\n",
      "Training Steps: 100%|██████████| 37/37.0 [00:00<00:00,  3.36it/s]\u001b[A\u001b[A\u001b[A\u001b[A\u001b[A"
     ]
    }
   ],
   "source": [
    "BEST_MODEL_DIR = os.path.join('models', 'best_rna_pca_model_pp_fs')\n",
    "RNA_BATCH_SIZE = 64\n",
    "\n",
    "rna_hyperparam_config = {'dropout_rate': 0.01,\n",
    "                     'l2_lambda': 1e-06,\n",
    "                     'lr': 0.01}\n",
    "\n",
    "rna_test_loss = training(\n",
    "    X_rna_train, Y_rna_train, X_rna_test, Y_rna_test,\n",
    "    rna_hyperparam_config, NUM_EPOCHS, RNA_BATCH_SIZE, save_model=True, model_dir=BEST_MODEL_DIR\n",
    "    \n",
    ")"
   ]
  },
  {
   "cell_type": "code",
   "execution_count": 293,
   "metadata": {
    "collapsed": true,
    "jupyter": {
     "outputs_hidden": true
    }
   },
   "outputs": [
    {
     "name": "stderr",
     "output_type": "stream",
     "text": [
      "\n",
      "\n",
      "\n",
      "\n",
      "\n",
      "\n",
      "Training Epochs:   0%|          | 0/100 [00:00<?, ?it/s]\u001b[A\u001b[A\u001b[A\u001b[A\u001b[A\u001b[A\n",
      "\n",
      "\n",
      "\n",
      "\n",
      "\n",
      "\n",
      "Training Steps: 0it [00:00, ?it/s]\u001b[A\u001b[A\u001b[A\u001b[A\u001b[A\u001b[A\u001b[A\n",
      "\n",
      "\n",
      "\n",
      "\n",
      "\n",
      "\n",
      "Training Steps:   0%|          | 0/37.0 [00:00<?, ?it/s]\u001b[A\u001b[A\u001b[A\u001b[A\u001b[A\u001b[A\u001b[A"
     ]
    },
    {
     "name": "stdout",
     "output_type": "stream",
     "text": [
      "getting initial loss\n"
     ]
    },
    {
     "name": "stderr",
     "output_type": "stream",
     "text": [
      "\n",
      "\n",
      "\n",
      "\n",
      "\n",
      "\n",
      "\n",
      "Training Steps:   3%|▎         | 1/37.0 [00:00<00:10,  3.36it/s]\u001b[A\u001b[A\u001b[A\u001b[A\u001b[A\u001b[A\u001b[A"
     ]
    },
    {
     "name": "stdout",
     "output_type": "stream",
     "text": [
      "epoch: 00, loss: 0.930\n",
      "INFO:tensorflow:Assets written to: models/best_bimodal_pca_svd_model_pp_fs/assets\n"
     ]
    },
    {
     "name": "stderr",
     "output_type": "stream",
     "text": [
      "\n",
      "\n",
      "\n",
      "\n",
      "\n",
      "\n",
      "\n",
      "Training Steps: 100%|██████████| 37/37.0 [00:00<00:00,  3.36it/s]\u001b[A\u001b[A\u001b[A\u001b[A\u001b[A\u001b[A\u001b[A\n",
      "\n",
      "\n",
      "\n",
      "\n",
      "\n",
      "Training Epochs:   1%|          | 1/100 [00:00<01:38,  1.00it/s]\u001b[A\u001b[A\u001b[A\u001b[A\u001b[A\u001b[A\n",
      "\n",
      "\n",
      "\n",
      "\n",
      "\n",
      "\n",
      "Training Steps:   0%|          | 0/37.0 [00:00<00:11,  3.36it/s] \u001b[A\u001b[A\u001b[A\u001b[A\u001b[A\u001b[A\u001b[A"
     ]
    },
    {
     "name": "stdout",
     "output_type": "stream",
     "text": [
      "INFO:tensorflow:Assets written to: models/best_bimodal_pca_svd_model_pp_fs/assets\n"
     ]
    },
    {
     "name": "stderr",
     "output_type": "stream",
     "text": [
      "\n",
      "\n",
      "\n",
      "\n",
      "\n",
      "\n",
      "\n",
      "Training Steps: 100%|██████████| 37/37.0 [00:00<00:00,  3.36it/s]\u001b[A\u001b[A\u001b[A\u001b[A\u001b[A\u001b[A\u001b[A\n",
      "\n",
      "\n",
      "\n",
      "\n",
      "\n",
      "Training Epochs:   2%|▏         | 2/100 [00:01<01:30,  1.09it/s]\u001b[A\u001b[A\u001b[A\u001b[A\u001b[A\u001b[A\n",
      "\n",
      "\n",
      "\n",
      "\n",
      "\n",
      "\n",
      "Training Steps:   0%|          | 0/37.0 [00:00<00:11,  3.36it/s] \u001b[A\u001b[A\u001b[A\u001b[A\u001b[A\u001b[A\u001b[A"
     ]
    },
    {
     "name": "stdout",
     "output_type": "stream",
     "text": [
      "INFO:tensorflow:Assets written to: models/best_bimodal_pca_svd_model_pp_fs/assets\n"
     ]
    },
    {
     "name": "stderr",
     "output_type": "stream",
     "text": [
      "\n",
      "\n",
      "\n",
      "\n",
      "\n",
      "\n",
      "\n",
      "Training Steps: 100%|██████████| 37/37.0 [00:00<00:00,  3.36it/s]\u001b[A\u001b[A\u001b[A\u001b[A\u001b[A\u001b[A\u001b[A\n",
      "\n",
      "\n",
      "\n",
      "\n",
      "\n",
      "Training Epochs:   3%|▎         | 3/100 [00:02<01:22,  1.17it/s]\u001b[A\u001b[A\u001b[A\u001b[A\u001b[A\u001b[A\n",
      "\n",
      "\n",
      "\n",
      "\n",
      "\n",
      "\n",
      "Training Steps:   0%|          | 0/37.0 [00:00<00:11,  3.36it/s] \u001b[A\u001b[A\u001b[A\u001b[A\u001b[A\u001b[A\u001b[A"
     ]
    },
    {
     "name": "stdout",
     "output_type": "stream",
     "text": [
      "INFO:tensorflow:Assets written to: models/best_bimodal_pca_svd_model_pp_fs/assets\n"
     ]
    },
    {
     "name": "stderr",
     "output_type": "stream",
     "text": [
      "\n",
      "\n",
      "\n",
      "\n",
      "\n",
      "\n",
      "\n",
      "Training Steps: 100%|██████████| 37/37.0 [00:00<00:00,  3.36it/s]\u001b[A\u001b[A\u001b[A\u001b[A\u001b[A\u001b[A\u001b[A\n",
      "\n",
      "\n",
      "\n",
      "\n",
      "\n",
      "Training Epochs:   4%|▍         | 4/100 [00:03<01:15,  1.27it/s]\u001b[A\u001b[A\u001b[A\u001b[A\u001b[A\u001b[A\n",
      "\n",
      "\n",
      "\n",
      "\n",
      "\n",
      "\n",
      "Training Steps:   0%|          | 0/37.0 [00:00<00:11,  3.36it/s] \u001b[A\u001b[A\u001b[A\u001b[A\u001b[A\u001b[A\u001b[A"
     ]
    },
    {
     "name": "stdout",
     "output_type": "stream",
     "text": [
      "INFO:tensorflow:Assets written to: models/best_bimodal_pca_svd_model_pp_fs/assets\n"
     ]
    },
    {
     "name": "stderr",
     "output_type": "stream",
     "text": [
      "\n",
      "\n",
      "\n",
      "\n",
      "\n",
      "\n",
      "\n",
      "Training Steps: 100%|██████████| 37/37.0 [00:00<00:00,  3.36it/s]\u001b[A\u001b[A\u001b[A\u001b[A\u001b[A\u001b[A\u001b[A\n",
      "\n",
      "\n",
      "\n",
      "\n",
      "\n",
      "Training Epochs:   5%|▌         | 5/100 [00:03<01:11,  1.32it/s]\u001b[A\u001b[A\u001b[A\u001b[A\u001b[A\u001b[A\n",
      "\n",
      "\n",
      "\n",
      "\n",
      "\n",
      "\n",
      "Training Steps:   0%|          | 0/37.0 [00:00<00:11,  3.36it/s] \u001b[A\u001b[A\u001b[A\u001b[A\u001b[A\u001b[A\u001b[A"
     ]
    },
    {
     "name": "stdout",
     "output_type": "stream",
     "text": [
      "epoch: 05, loss: 0.399\n",
      "INFO:tensorflow:Assets written to: models/best_bimodal_pca_svd_model_pp_fs/assets\n"
     ]
    },
    {
     "name": "stderr",
     "output_type": "stream",
     "text": [
      "\n",
      "\n",
      "\n",
      "\n",
      "\n",
      "\n",
      "\n",
      "Training Steps: 100%|██████████| 37/37.0 [00:00<00:00,  3.36it/s]\u001b[A\u001b[A\u001b[A\u001b[A\u001b[A\u001b[A\u001b[A\n",
      "\n",
      "\n",
      "\n",
      "\n",
      "\n",
      "Training Epochs:   6%|▌         | 6/100 [00:04<01:08,  1.38it/s]\u001b[A\u001b[A\u001b[A\u001b[A\u001b[A\u001b[A\n",
      "\n",
      "\n",
      "\n",
      "\n",
      "\n",
      "\n",
      "Training Steps:   0%|          | 0/37.0 [00:00<00:11,  3.36it/s] \u001b[A\u001b[A\u001b[A\u001b[A\u001b[A\u001b[A\u001b[A"
     ]
    },
    {
     "name": "stdout",
     "output_type": "stream",
     "text": [
      "INFO:tensorflow:Assets written to: models/best_bimodal_pca_svd_model_pp_fs/assets\n"
     ]
    },
    {
     "name": "stderr",
     "output_type": "stream",
     "text": [
      "\n",
      "\n",
      "\n",
      "\n",
      "\n",
      "\n",
      "\n",
      "Training Steps: 100%|██████████| 37/37.0 [00:00<00:00,  3.36it/s]\u001b[A\u001b[A\u001b[A\u001b[A\u001b[A\u001b[A\u001b[A\n",
      "\n",
      "\n",
      "\n",
      "\n",
      "\n",
      "Training Epochs:   7%|▋         | 7/100 [00:04<01:03,  1.46it/s]\u001b[A\u001b[A\u001b[A\u001b[A\u001b[A\u001b[A\n",
      "\n",
      "\n",
      "\n",
      "\n",
      "\n",
      "\n",
      "Training Steps:   0%|          | 0/37.0 [00:00<00:11,  3.36it/s] \u001b[A\u001b[A\u001b[A\u001b[A\u001b[A\u001b[A\u001b[A"
     ]
    },
    {
     "name": "stdout",
     "output_type": "stream",
     "text": [
      "INFO:tensorflow:Assets written to: models/best_bimodal_pca_svd_model_pp_fs/assets\n"
     ]
    },
    {
     "name": "stderr",
     "output_type": "stream",
     "text": [
      "\n",
      "\n",
      "\n",
      "\n",
      "\n",
      "\n",
      "\n",
      "Training Steps: 100%|██████████| 37/37.0 [00:00<00:00,  3.36it/s]\u001b[A\u001b[A\u001b[A\u001b[A\u001b[A\u001b[A\u001b[A\n",
      "\n",
      "\n",
      "\n",
      "\n",
      "\n",
      "Training Epochs:   8%|▊         | 8/100 [00:05<01:03,  1.46it/s]\u001b[A\u001b[A\u001b[A\u001b[A\u001b[A\u001b[A\n",
      "\n",
      "\n",
      "\n",
      "\n",
      "\n",
      "\n",
      "Training Steps:   0%|          | 0/37.0 [00:00<00:11,  3.36it/s] \u001b[A\u001b[A\u001b[A\u001b[A\u001b[A\u001b[A\u001b[A"
     ]
    },
    {
     "name": "stdout",
     "output_type": "stream",
     "text": [
      "INFO:tensorflow:Assets written to: models/best_bimodal_pca_svd_model_pp_fs/assets\n"
     ]
    },
    {
     "name": "stderr",
     "output_type": "stream",
     "text": [
      "\n",
      "\n",
      "\n",
      "\n",
      "\n",
      "\n",
      "\n",
      "Training Steps: 100%|██████████| 37/37.0 [00:00<00:00,  3.36it/s]\u001b[A\u001b[A\u001b[A\u001b[A\u001b[A\u001b[A\u001b[A\n",
      "\n",
      "\n",
      "\n",
      "\n",
      "\n",
      "Training Epochs:   9%|▉         | 9/100 [00:06<01:02,  1.45it/s]\u001b[A\u001b[A\u001b[A\u001b[A\u001b[A\u001b[A\n",
      "\n",
      "\n",
      "\n",
      "\n",
      "\n",
      "\n",
      "Training Steps:   0%|          | 0/37.0 [00:00<00:11,  3.36it/s] \u001b[A\u001b[A\u001b[A\u001b[A\u001b[A\u001b[A\u001b[A"
     ]
    },
    {
     "name": "stdout",
     "output_type": "stream",
     "text": [
      "INFO:tensorflow:Assets written to: models/best_bimodal_pca_svd_model_pp_fs/assets\n"
     ]
    },
    {
     "name": "stderr",
     "output_type": "stream",
     "text": [
      "\n",
      "\n",
      "\n",
      "\n",
      "\n",
      "\n",
      "\n",
      "Training Steps: 100%|██████████| 37/37.0 [00:00<00:00,  3.36it/s]\u001b[A\u001b[A\u001b[A\u001b[A\u001b[A\u001b[A\u001b[A\n",
      "\n",
      "\n",
      "\n",
      "\n",
      "\n",
      "Training Epochs:  10%|█         | 10/100 [00:07<01:00,  1.48it/s]\u001b[A\u001b[A\u001b[A\u001b[A\u001b[A\u001b[A\n",
      "\n",
      "\n",
      "\n",
      "\n",
      "\n",
      "\n",
      "Training Steps:   0%|          | 0/37.0 [00:00<00:11,  3.36it/s] \u001b[A\u001b[A\u001b[A\u001b[A\u001b[A\u001b[A\u001b[A"
     ]
    },
    {
     "name": "stdout",
     "output_type": "stream",
     "text": [
      "epoch: 10, loss: 0.265\n",
      "INFO:tensorflow:Assets written to: models/best_bimodal_pca_svd_model_pp_fs/assets\n"
     ]
    },
    {
     "name": "stderr",
     "output_type": "stream",
     "text": [
      "\n",
      "\n",
      "\n",
      "\n",
      "\n",
      "\n",
      "\n",
      "Training Steps: 100%|██████████| 37/37.0 [00:00<00:00,  3.36it/s]\u001b[A\u001b[A\u001b[A\u001b[A\u001b[A\u001b[A\u001b[A\n",
      "\n",
      "\n",
      "\n",
      "\n",
      "\n",
      "Training Epochs:  11%|█         | 11/100 [00:07<00:59,  1.51it/s]\u001b[A\u001b[A\u001b[A\u001b[A\u001b[A\u001b[A\n",
      "\n",
      "\n",
      "\n",
      "\n",
      "\n",
      "\n",
      "Training Steps:   0%|          | 0/37.0 [00:00<00:11,  3.36it/s] \u001b[A\u001b[A\u001b[A\u001b[A\u001b[A\u001b[A\u001b[A"
     ]
    },
    {
     "name": "stdout",
     "output_type": "stream",
     "text": [
      "INFO:tensorflow:Assets written to: models/best_bimodal_pca_svd_model_pp_fs/assets\n"
     ]
    },
    {
     "name": "stderr",
     "output_type": "stream",
     "text": [
      "\n",
      "\n",
      "\n",
      "\n",
      "\n",
      "\n",
      "\n",
      "Training Steps: 100%|██████████| 37/37.0 [00:01<00:00,  3.36it/s]\u001b[A\u001b[A\u001b[A\u001b[A\u001b[A\u001b[A\u001b[A\n",
      "\n",
      "\n",
      "\n",
      "\n",
      "\n",
      "Training Epochs:  12%|█▏        | 12/100 [00:08<01:08,  1.29it/s]\u001b[A\u001b[A\u001b[A\u001b[A\u001b[A\u001b[A\n",
      "\n",
      "\n",
      "\n",
      "\n",
      "\n",
      "\n",
      "Training Steps:   0%|          | 0/37.0 [00:00<00:11,  3.36it/s] \u001b[A\u001b[A\u001b[A\u001b[A\u001b[A\u001b[A\u001b[A"
     ]
    },
    {
     "name": "stdout",
     "output_type": "stream",
     "text": [
      "INFO:tensorflow:Assets written to: models/best_bimodal_pca_svd_model_pp_fs/assets\n"
     ]
    },
    {
     "name": "stderr",
     "output_type": "stream",
     "text": [
      "\n",
      "\n",
      "\n",
      "\n",
      "\n",
      "\n",
      "\n",
      "Training Steps: 100%|██████████| 37/37.0 [00:00<00:00,  3.36it/s]\u001b[A\u001b[A\u001b[A\u001b[A\u001b[A\u001b[A\u001b[A\n",
      "\n",
      "\n",
      "\n",
      "\n",
      "\n",
      "Training Epochs:  13%|█▎        | 13/100 [00:09<01:03,  1.37it/s]\u001b[A\u001b[A\u001b[A\u001b[A\u001b[A\u001b[A\n",
      "\n",
      "\n",
      "\n",
      "\n",
      "\n",
      "\n",
      "Training Steps:   0%|          | 0/37.0 [00:00<00:11,  3.36it/s] \u001b[A\u001b[A\u001b[A\u001b[A\u001b[A\u001b[A\u001b[A"
     ]
    },
    {
     "name": "stdout",
     "output_type": "stream",
     "text": [
      "INFO:tensorflow:Assets written to: models/best_bimodal_pca_svd_model_pp_fs/assets\n"
     ]
    },
    {
     "name": "stderr",
     "output_type": "stream",
     "text": [
      "\n",
      "\n",
      "\n",
      "\n",
      "\n",
      "\n",
      "\n",
      "Training Steps: 100%|██████████| 37/37.0 [00:00<00:00,  3.36it/s]\u001b[A\u001b[A\u001b[A\u001b[A\u001b[A\u001b[A\u001b[A\n",
      "\n",
      "\n",
      "\n",
      "\n",
      "\n",
      "Training Epochs:  14%|█▍        | 14/100 [00:10<01:01,  1.39it/s]\u001b[A\u001b[A\u001b[A\u001b[A\u001b[A\u001b[A\n",
      "\n",
      "\n",
      "\n",
      "\n",
      "\n",
      "\n",
      "Training Steps:   0%|          | 0/37.0 [00:00<00:11,  3.36it/s] \u001b[A\u001b[A\u001b[A\u001b[A\u001b[A\u001b[A\u001b[A"
     ]
    },
    {
     "name": "stdout",
     "output_type": "stream",
     "text": [
      "INFO:tensorflow:Assets written to: models/best_bimodal_pca_svd_model_pp_fs/assets\n"
     ]
    },
    {
     "name": "stderr",
     "output_type": "stream",
     "text": [
      "\n",
      "\n",
      "\n",
      "\n",
      "\n",
      "\n",
      "\n",
      "Training Steps: 100%|██████████| 37/37.0 [00:00<00:00,  3.36it/s]\u001b[A\u001b[A\u001b[A\u001b[A\u001b[A\u001b[A\u001b[A\n",
      "\n",
      "\n",
      "\n",
      "\n",
      "\n",
      "Training Epochs:  15%|█▌        | 15/100 [00:10<01:00,  1.41it/s]\u001b[A\u001b[A\u001b[A\u001b[A\u001b[A\u001b[A\n",
      "\n",
      "\n",
      "\n",
      "\n",
      "\n",
      "\n",
      "Training Steps:   0%|          | 0/37.0 [00:00<00:11,  3.36it/s] \u001b[A\u001b[A\u001b[A\u001b[A\u001b[A\u001b[A\u001b[A"
     ]
    },
    {
     "name": "stdout",
     "output_type": "stream",
     "text": [
      "epoch: 15, loss: 0.220\n",
      "INFO:tensorflow:Assets written to: models/best_bimodal_pca_svd_model_pp_fs/assets\n"
     ]
    },
    {
     "name": "stderr",
     "output_type": "stream",
     "text": [
      "\n",
      "\n",
      "\n",
      "\n",
      "\n",
      "\n",
      "\n",
      "Training Steps: 100%|██████████| 37/37.0 [00:00<00:00,  3.36it/s]\u001b[A\u001b[A\u001b[A\u001b[A\u001b[A\u001b[A\u001b[A\n",
      "\n",
      "\n",
      "\n",
      "\n",
      "\n",
      "Training Epochs:  16%|█▌        | 16/100 [00:11<00:58,  1.44it/s]\u001b[A\u001b[A\u001b[A\u001b[A\u001b[A\u001b[A\n",
      "\n",
      "\n",
      "\n",
      "\n",
      "\n",
      "\n",
      "Training Steps:   0%|          | 0/37.0 [00:00<00:11,  3.36it/s] \u001b[A\u001b[A\u001b[A\u001b[A\u001b[A\u001b[A\u001b[A"
     ]
    },
    {
     "name": "stdout",
     "output_type": "stream",
     "text": [
      "INFO:tensorflow:Assets written to: models/best_bimodal_pca_svd_model_pp_fs/assets\n"
     ]
    },
    {
     "name": "stderr",
     "output_type": "stream",
     "text": [
      "\n",
      "\n",
      "\n",
      "\n",
      "\n",
      "\n",
      "\n",
      "Training Steps: 100%|██████████| 37/37.0 [00:00<00:00,  3.36it/s]\u001b[A\u001b[A\u001b[A\u001b[A\u001b[A\u001b[A\u001b[A\n",
      "\n",
      "\n",
      "\n",
      "\n",
      "\n",
      "Training Epochs:  17%|█▋        | 17/100 [00:12<00:57,  1.44it/s]\u001b[A\u001b[A\u001b[A\u001b[A\u001b[A\u001b[A\n",
      "\n",
      "\n",
      "\n",
      "\n",
      "\n",
      "\n",
      "Training Steps:   0%|          | 0/37.0 [00:00<00:11,  3.36it/s] \u001b[A\u001b[A\u001b[A\u001b[A\u001b[A\u001b[A\u001b[A"
     ]
    },
    {
     "name": "stdout",
     "output_type": "stream",
     "text": [
      "INFO:tensorflow:Assets written to: models/best_bimodal_pca_svd_model_pp_fs/assets\n"
     ]
    },
    {
     "name": "stderr",
     "output_type": "stream",
     "text": [
      "\n",
      "\n",
      "\n",
      "\n",
      "\n",
      "\n",
      "\n",
      "Training Steps: 100%|██████████| 37/37.0 [00:00<00:00,  3.36it/s]\u001b[A\u001b[A\u001b[A\u001b[A\u001b[A\u001b[A\u001b[A\n",
      "\n",
      "\n",
      "\n",
      "\n",
      "\n",
      "Training Epochs:  18%|█▊        | 18/100 [00:12<00:57,  1.43it/s]\u001b[A\u001b[A\u001b[A\u001b[A\u001b[A\u001b[A\n",
      "\n",
      "\n",
      "\n",
      "\n",
      "\n",
      "\n",
      "Training Steps:   0%|          | 0/37.0 [00:00<00:11,  3.36it/s] \u001b[A\u001b[A\u001b[A\u001b[A\u001b[A\u001b[A\u001b[A"
     ]
    },
    {
     "name": "stdout",
     "output_type": "stream",
     "text": [
      "INFO:tensorflow:Assets written to: models/best_bimodal_pca_svd_model_pp_fs/assets\n"
     ]
    },
    {
     "name": "stderr",
     "output_type": "stream",
     "text": [
      "\n",
      "\n",
      "\n",
      "\n",
      "\n",
      "\n",
      "\n",
      "Training Steps: 100%|██████████| 37/37.0 [00:00<00:00,  3.36it/s]\u001b[A\u001b[A\u001b[A\u001b[A\u001b[A\u001b[A\u001b[A\n",
      "\n",
      "\n",
      "\n",
      "\n",
      "\n",
      "Training Epochs:  19%|█▉        | 19/100 [00:13<00:56,  1.44it/s]\u001b[A\u001b[A\u001b[A\u001b[A\u001b[A\u001b[A\n",
      "\n",
      "\n",
      "\n",
      "\n",
      "\n",
      "\n",
      "Training Steps:   0%|          | 0/37.0 [00:00<00:11,  3.36it/s] \u001b[A\u001b[A\u001b[A\u001b[A\u001b[A\u001b[A\u001b[A"
     ]
    },
    {
     "name": "stdout",
     "output_type": "stream",
     "text": [
      "INFO:tensorflow:Assets written to: models/best_bimodal_pca_svd_model_pp_fs/assets\n"
     ]
    },
    {
     "name": "stderr",
     "output_type": "stream",
     "text": [
      "\n",
      "\n",
      "\n",
      "\n",
      "\n",
      "\n",
      "\n",
      "Training Steps: 100%|██████████| 37/37.0 [00:00<00:00,  3.36it/s]\u001b[A\u001b[A\u001b[A\u001b[A\u001b[A\u001b[A\u001b[A\n",
      "\n",
      "\n",
      "\n",
      "\n",
      "\n",
      "Training Epochs:  20%|██        | 20/100 [00:14<00:54,  1.47it/s]\u001b[A\u001b[A\u001b[A\u001b[A\u001b[A\u001b[A\n",
      "\n",
      "\n",
      "\n",
      "\n",
      "\n",
      "\n",
      "Training Steps:   0%|          | 0/37.0 [00:00<00:11,  3.36it/s] \u001b[A\u001b[A\u001b[A\u001b[A\u001b[A\u001b[A\u001b[A"
     ]
    },
    {
     "name": "stdout",
     "output_type": "stream",
     "text": [
      "epoch: 20, loss: 0.197\n",
      "INFO:tensorflow:Assets written to: models/best_bimodal_pca_svd_model_pp_fs/assets\n"
     ]
    },
    {
     "name": "stderr",
     "output_type": "stream",
     "text": [
      "\n",
      "\n",
      "\n",
      "\n",
      "\n",
      "\n",
      "\n",
      "Training Steps: 100%|██████████| 37/37.0 [00:00<00:00,  3.36it/s]\u001b[A\u001b[A\u001b[A\u001b[A\u001b[A\u001b[A\u001b[A\n",
      "\n",
      "\n",
      "\n",
      "\n",
      "\n",
      "Training Epochs:  21%|██        | 21/100 [00:14<00:53,  1.49it/s]\u001b[A\u001b[A\u001b[A\u001b[A\u001b[A\u001b[A\n",
      "\n",
      "\n",
      "\n",
      "\n",
      "\n",
      "\n",
      "Training Steps:   0%|          | 0/37.0 [00:00<00:11,  3.36it/s] \u001b[A\u001b[A\u001b[A\u001b[A\u001b[A\u001b[A\u001b[A"
     ]
    },
    {
     "name": "stdout",
     "output_type": "stream",
     "text": [
      "INFO:tensorflow:Assets written to: models/best_bimodal_pca_svd_model_pp_fs/assets\n"
     ]
    },
    {
     "name": "stderr",
     "output_type": "stream",
     "text": [
      "\n",
      "\n",
      "\n",
      "\n",
      "\n",
      "\n",
      "\n",
      "Training Steps: 100%|██████████| 37/37.0 [00:00<00:00,  3.36it/s]\u001b[A\u001b[A\u001b[A\u001b[A\u001b[A\u001b[A\u001b[A\n",
      "\n",
      "\n",
      "\n",
      "\n",
      "\n",
      "Training Epochs:  22%|██▏       | 22/100 [00:15<00:52,  1.50it/s]\u001b[A\u001b[A\u001b[A\u001b[A\u001b[A\u001b[A\n",
      "\n",
      "\n",
      "\n",
      "\n",
      "\n",
      "\n",
      "Training Steps:   0%|          | 0/37.0 [00:00<00:11,  3.36it/s] \u001b[A\u001b[A\u001b[A\u001b[A\u001b[A\u001b[A\u001b[A"
     ]
    },
    {
     "name": "stdout",
     "output_type": "stream",
     "text": [
      "INFO:tensorflow:Assets written to: models/best_bimodal_pca_svd_model_pp_fs/assets\n"
     ]
    },
    {
     "name": "stderr",
     "output_type": "stream",
     "text": [
      "\n",
      "\n",
      "\n",
      "\n",
      "\n",
      "\n",
      "\n",
      "Training Steps: 100%|██████████| 37/37.0 [00:00<00:00,  3.36it/s]\u001b[A\u001b[A\u001b[A\u001b[A\u001b[A\u001b[A\u001b[A\n",
      "\n",
      "\n",
      "\n",
      "\n",
      "\n",
      "Training Epochs:  23%|██▎       | 23/100 [00:16<00:50,  1.51it/s]\u001b[A\u001b[A\u001b[A\u001b[A\u001b[A\u001b[A\n",
      "\n",
      "\n",
      "\n",
      "\n",
      "\n",
      "\n",
      "Training Steps:   0%|          | 0/37.0 [00:00<00:11,  3.36it/s] \u001b[A\u001b[A\u001b[A\u001b[A\u001b[A\u001b[A\u001b[A"
     ]
    },
    {
     "name": "stdout",
     "output_type": "stream",
     "text": [
      "INFO:tensorflow:Assets written to: models/best_bimodal_pca_svd_model_pp_fs/assets\n"
     ]
    },
    {
     "name": "stderr",
     "output_type": "stream",
     "text": [
      "\n",
      "\n",
      "\n",
      "\n",
      "\n",
      "\n",
      "\n",
      "Training Steps: 100%|██████████| 37/37.0 [00:00<00:00,  3.36it/s]\u001b[A\u001b[A\u001b[A\u001b[A\u001b[A\u001b[A\u001b[A\n",
      "\n",
      "\n",
      "\n",
      "\n",
      "\n",
      "Training Epochs:  24%|██▍       | 24/100 [00:16<00:50,  1.51it/s]\u001b[A\u001b[A\u001b[A\u001b[A\u001b[A\u001b[A\n",
      "\n",
      "\n",
      "\n",
      "\n",
      "\n",
      "\n",
      "Training Steps:   0%|          | 0/37.0 [00:00<00:11,  3.36it/s] \u001b[A\u001b[A\u001b[A\u001b[A\u001b[A\u001b[A\u001b[A\n",
      "\n",
      "\n",
      "\n",
      "\n",
      "\n",
      "\n",
      "Training Steps: 100%|██████████| 37/37.0 [00:00<00:00,  3.36it/s]\u001b[A\u001b[A\u001b[A\u001b[A\u001b[A\u001b[A\u001b[A\n",
      "\n",
      "\n",
      "\n",
      "\n",
      "\n",
      "\n",
      "Training Steps:   0%|          | 0/37.0 [00:00<00:11,  3.36it/s] \u001b[A\u001b[A\u001b[A\u001b[A\u001b[A\u001b[A\u001b[A"
     ]
    },
    {
     "name": "stdout",
     "output_type": "stream",
     "text": [
      "epoch: 25, loss: 0.187\n",
      "INFO:tensorflow:Assets written to: models/best_bimodal_pca_svd_model_pp_fs/assets\n"
     ]
    },
    {
     "name": "stderr",
     "output_type": "stream",
     "text": [
      "\n",
      "\n",
      "\n",
      "\n",
      "\n",
      "\n",
      "\n",
      "Training Steps: 100%|██████████| 37/37.0 [00:00<00:00,  3.36it/s]\u001b[A\u001b[A\u001b[A\u001b[A\u001b[A\u001b[A\u001b[A\n",
      "\n",
      "\n",
      "\n",
      "\n",
      "\n",
      "Training Epochs:  26%|██▌       | 26/100 [00:17<00:42,  1.76it/s]\u001b[A\u001b[A\u001b[A\u001b[A\u001b[A\u001b[A\n",
      "\n",
      "\n",
      "\n",
      "\n",
      "\n",
      "\n",
      "Training Steps:   0%|          | 0/37.0 [00:00<00:11,  3.36it/s] \u001b[A\u001b[A\u001b[A\u001b[A\u001b[A\u001b[A\u001b[A"
     ]
    },
    {
     "name": "stdout",
     "output_type": "stream",
     "text": [
      "INFO:tensorflow:Assets written to: models/best_bimodal_pca_svd_model_pp_fs/assets\n"
     ]
    },
    {
     "name": "stderr",
     "output_type": "stream",
     "text": [
      "\n",
      "\n",
      "\n",
      "\n",
      "\n",
      "\n",
      "\n",
      "Training Steps: 100%|██████████| 37/37.0 [00:00<00:00,  3.36it/s]\u001b[A\u001b[A\u001b[A\u001b[A\u001b[A\u001b[A\u001b[A\n",
      "\n",
      "\n",
      "\n",
      "\n",
      "\n",
      "Training Epochs:  27%|██▋       | 27/100 [00:18<00:43,  1.68it/s]\u001b[A\u001b[A\u001b[A\u001b[A\u001b[A\u001b[A\n",
      "\n",
      "\n",
      "\n",
      "\n",
      "\n",
      "\n",
      "Training Steps:   0%|          | 0/37.0 [00:00<00:11,  3.36it/s] \u001b[A\u001b[A\u001b[A\u001b[A\u001b[A\u001b[A\u001b[A"
     ]
    },
    {
     "name": "stdout",
     "output_type": "stream",
     "text": [
      "INFO:tensorflow:Assets written to: models/best_bimodal_pca_svd_model_pp_fs/assets\n"
     ]
    },
    {
     "name": "stderr",
     "output_type": "stream",
     "text": [
      "\n",
      "\n",
      "\n",
      "\n",
      "\n",
      "\n",
      "\n",
      "Training Steps: 100%|██████████| 37/37.0 [00:00<00:00,  3.36it/s]\u001b[A\u001b[A\u001b[A\u001b[A\u001b[A\u001b[A\u001b[A\n",
      "\n",
      "\n",
      "\n",
      "\n",
      "\n",
      "Training Epochs:  28%|██▊       | 28/100 [00:18<00:43,  1.64it/s]\u001b[A\u001b[A\u001b[A\u001b[A\u001b[A\u001b[A\n",
      "\n",
      "\n",
      "\n",
      "\n",
      "\n",
      "\n",
      "Training Steps:   0%|          | 0/37.0 [00:00<00:11,  3.36it/s] \u001b[A\u001b[A\u001b[A\u001b[A\u001b[A\u001b[A\u001b[A\n",
      "\n",
      "\n",
      "\n",
      "Training Epochs: 100%|██████████| 100/100 [00:39<00:00, 29.77it/s]\u001b[A\u001b[A\u001b[A\u001b[A"
     ]
    },
    {
     "name": "stdout",
     "output_type": "stream",
     "text": [
      "INFO:tensorflow:Assets written to: models/best_bimodal_pca_svd_model_pp_fs/assets\n"
     ]
    },
    {
     "name": "stderr",
     "output_type": "stream",
     "text": [
      "\n",
      "\n",
      "\n",
      "\n",
      "\n",
      "\n",
      "\n",
      "Training Steps: 100%|██████████| 37/37.0 [00:00<00:00,  3.36it/s]\u001b[A\u001b[A\u001b[A\u001b[A\u001b[A\u001b[A\u001b[A\n",
      "\n",
      "\n",
      "\n",
      "\n",
      "\n",
      "Training Epochs:  29%|██▉       | 29/100 [00:19<00:45,  1.57it/s]\u001b[A\u001b[A\u001b[A\u001b[A\u001b[A\u001b[A\n",
      "\n",
      "\n",
      "\n",
      "\n",
      "\n",
      "\n",
      "Training Steps:   0%|          | 0/37.0 [00:00<00:11,  3.36it/s] \u001b[A\u001b[A\u001b[A\u001b[A\u001b[A\u001b[A\u001b[A\n",
      "\n",
      "\n",
      "\n",
      "\n",
      "\n",
      "\n",
      "Training Steps: 100%|██████████| 37/37.0 [00:00<00:00,  3.36it/s]\u001b[A\u001b[A\u001b[A\u001b[A\u001b[A\u001b[A\u001b[A\n",
      "\n",
      "\n",
      "\n",
      "\n",
      "\n",
      "\n",
      "Training Steps:   0%|          | 0/37.0 [00:00<00:11,  3.36it/s] \u001b[A\u001b[A\u001b[A\u001b[A\u001b[A\u001b[A\u001b[A"
     ]
    },
    {
     "name": "stdout",
     "output_type": "stream",
     "text": [
      "epoch: 30, loss: 0.181\n"
     ]
    },
    {
     "name": "stderr",
     "output_type": "stream",
     "text": [
      "\n",
      "\n",
      "\n",
      "\n",
      "\n",
      "\n",
      "\n",
      "Training Steps: 100%|██████████| 37/37.0 [00:00<00:00,  3.36it/s]\u001b[A\u001b[A\u001b[A\u001b[A\u001b[A\u001b[A\u001b[A\n",
      "\n",
      "\n",
      "\n",
      "\n",
      "\n",
      "\n",
      "Training Steps:   0%|          | 0/37.0 [00:00<00:11,  3.36it/s] \u001b[A\u001b[A\u001b[A\u001b[A\u001b[A\u001b[A\u001b[A\n",
      "\n",
      "\n",
      "\n",
      "\n",
      "\n",
      "\n",
      "Training Steps: 100%|██████████| 37/37.0 [00:00<00:00,  3.36it/s]\u001b[A\u001b[A\u001b[A\u001b[A\u001b[A\u001b[A\u001b[A\n",
      "\n",
      "\n",
      "\n",
      "\n",
      "\n",
      "Training Epochs:  32%|███▏      | 32/100 [00:19<00:31,  2.19it/s]\u001b[A\u001b[A\u001b[A\u001b[A\u001b[A\u001b[A\n",
      "\n",
      "\n",
      "\n",
      "\n",
      "\n",
      "\n",
      "Training Steps:   0%|          | 0/37.0 [00:00<00:11,  3.36it/s] \u001b[A\u001b[A\u001b[A\u001b[A\u001b[A\u001b[A\u001b[A\n",
      "\n",
      "\n",
      "\n",
      "\n",
      "\n",
      "\n",
      "Training Steps: 100%|██████████| 37/37.0 [00:00<00:00,  3.36it/s]\u001b[A\u001b[A\u001b[A\u001b[A\u001b[A\u001b[A\u001b[A\n",
      "\n",
      "\n",
      "\n",
      "\n",
      "\n",
      "\n",
      "Training Steps:   0%|          | 0/37.0 [00:00<00:11,  3.36it/s] \u001b[A\u001b[A\u001b[A\u001b[A\u001b[A\u001b[A\u001b[A\n",
      "\n",
      "\n",
      "\n",
      "\n",
      "\n",
      "\n",
      "Training Steps: 100%|██████████| 37/37.0 [00:00<00:00,  3.36it/s]\u001b[A\u001b[A\u001b[A\u001b[A\u001b[A\u001b[A\u001b[A\n",
      "\n",
      "\n",
      "\n",
      "\n",
      "\n",
      "\n",
      "Training Steps:   0%|          | 0/37.0 [00:00<00:11,  3.36it/s] \u001b[A\u001b[A\u001b[A\u001b[A\u001b[A\u001b[A\u001b[A\n",
      "\n",
      "\n",
      "\n",
      "\n",
      "\n",
      "\n",
      "Training Steps: 100%|██████████| 37/37.0 [00:00<00:00,  3.36it/s]\u001b[A\u001b[A\u001b[A\u001b[A\u001b[A\u001b[A\u001b[A\n",
      "\n",
      "\n",
      "\n",
      "\n",
      "\n",
      "Training Epochs:  35%|███▌      | 35/100 [00:19<00:21,  3.03it/s]\u001b[A\u001b[A\u001b[A\u001b[A\u001b[A\u001b[A\n",
      "\n",
      "\n",
      "\n",
      "\n",
      "\n",
      "\n",
      "Training Steps:   0%|          | 0/37.0 [00:00<00:11,  3.36it/s] \u001b[A\u001b[A\u001b[A\u001b[A\u001b[A\u001b[A\u001b[A"
     ]
    },
    {
     "name": "stdout",
     "output_type": "stream",
     "text": [
      "epoch: 35, loss: 0.179\n",
      "INFO:tensorflow:Assets written to: models/best_bimodal_pca_svd_model_pp_fs/assets\n"
     ]
    },
    {
     "name": "stderr",
     "output_type": "stream",
     "text": [
      "\n",
      "\n",
      "\n",
      "\n",
      "\n",
      "\n",
      "\n",
      "Training Steps: 100%|██████████| 37/37.0 [00:00<00:00,  3.36it/s]\u001b[A\u001b[A\u001b[A\u001b[A\u001b[A\u001b[A\u001b[A\n",
      "\n",
      "\n",
      "\n",
      "\n",
      "\n",
      "\n",
      "Training Steps:   0%|          | 0/37.0 [00:00<00:11,  3.36it/s] \u001b[A\u001b[A\u001b[A\u001b[A\u001b[A\u001b[A\u001b[A\n",
      "\n",
      "\n",
      "\n",
      "\n",
      "\n",
      "\n",
      "Training Steps: 100%|██████████| 37/37.0 [00:00<00:00,  3.36it/s]\u001b[A\u001b[A\u001b[A\u001b[A\u001b[A\u001b[A\u001b[A\n",
      "\n",
      "\n",
      "\n",
      "\n",
      "\n",
      "Training Epochs:  37%|███▋      | 37/100 [00:20<00:21,  2.95it/s]\u001b[A\u001b[A\u001b[A\u001b[A\u001b[A\u001b[A\n",
      "\n",
      "\n",
      "\n",
      "\n",
      "\n",
      "\n",
      "Training Steps:   0%|          | 0/37.0 [00:00<00:11,  3.36it/s] \u001b[A\u001b[A\u001b[A\u001b[A\u001b[A\u001b[A\u001b[A"
     ]
    },
    {
     "name": "stdout",
     "output_type": "stream",
     "text": [
      "INFO:tensorflow:Assets written to: models/best_bimodal_pca_svd_model_pp_fs/assets\n"
     ]
    },
    {
     "name": "stderr",
     "output_type": "stream",
     "text": [
      "\n",
      "\n",
      "\n",
      "\n",
      "\n",
      "\n",
      "\n",
      "Training Steps: 100%|██████████| 37/37.0 [00:01<00:00,  3.36it/s]\u001b[A\u001b[A\u001b[A\u001b[A\u001b[A\u001b[A\u001b[A\n",
      "\n",
      "\n",
      "\n",
      "\n",
      "\n",
      "\n",
      "Training Steps:   0%|          | 0/37.0 [00:00<00:11,  3.36it/s] \u001b[A\u001b[A\u001b[A\u001b[A\u001b[A\u001b[A\u001b[A\n",
      "\n",
      "\n",
      "\n",
      "\n",
      "\n",
      "\n",
      "Training Steps: 100%|██████████| 37/37.0 [00:00<00:00,  3.36it/s]\u001b[A\u001b[A\u001b[A\u001b[A\u001b[A\u001b[A\u001b[A\n",
      "\n",
      "\n",
      "\n",
      "\n",
      "\n",
      "Training Epochs:  39%|███▉      | 39/100 [00:21<00:24,  2.52it/s]\u001b[A\u001b[A\u001b[A\u001b[A\u001b[A\u001b[A\n",
      "\n",
      "\n",
      "\n",
      "\n",
      "\n",
      "\n",
      "Training Steps:   0%|          | 0/37.0 [00:00<00:11,  3.36it/s] \u001b[A\u001b[A\u001b[A\u001b[A\u001b[A\u001b[A\u001b[A"
     ]
    },
    {
     "name": "stdout",
     "output_type": "stream",
     "text": [
      "INFO:tensorflow:Assets written to: models/best_bimodal_pca_svd_model_pp_fs/assets\n"
     ]
    },
    {
     "name": "stderr",
     "output_type": "stream",
     "text": [
      "\n",
      "\n",
      "\n",
      "\n",
      "\n",
      "\n",
      "\n",
      "Training Steps: 100%|██████████| 37/37.0 [00:00<00:00,  3.36it/s]\u001b[A\u001b[A\u001b[A\u001b[A\u001b[A\u001b[A\u001b[A\n",
      "\n",
      "\n",
      "\n",
      "\n",
      "\n",
      "Training Epochs:  40%|████      | 40/100 [00:22<00:27,  2.17it/s]\u001b[A\u001b[A\u001b[A\u001b[A\u001b[A\u001b[A\n",
      "\n",
      "\n",
      "\n",
      "\n",
      "\n",
      "\n",
      "Training Steps:   0%|          | 0/37.0 [00:00<00:11,  3.36it/s] \u001b[A\u001b[A\u001b[A\u001b[A\u001b[A\u001b[A\u001b[A"
     ]
    },
    {
     "name": "stdout",
     "output_type": "stream",
     "text": [
      "epoch: 40, loss: 0.178\n"
     ]
    },
    {
     "name": "stderr",
     "output_type": "stream",
     "text": [
      "\n",
      "\n",
      "\n",
      "\n",
      "\n",
      "\n",
      "\n",
      "Training Steps: 100%|██████████| 37/37.0 [00:00<00:00,  3.36it/s]\u001b[A\u001b[A\u001b[A\u001b[A\u001b[A\u001b[A\u001b[A\n",
      "\n",
      "\n",
      "\n",
      "\n",
      "\n",
      "\n",
      "Training Steps:   0%|          | 0/37.0 [00:00<00:11,  3.36it/s] \u001b[A\u001b[A\u001b[A\u001b[A\u001b[A\u001b[A\u001b[A\n",
      "\n",
      "\n",
      "\n",
      "\n",
      "\n",
      "\n",
      "Training Steps: 100%|██████████| 37/37.0 [00:00<00:00,  3.36it/s]\u001b[A\u001b[A\u001b[A\u001b[A\u001b[A\u001b[A\u001b[A\n",
      "\n",
      "\n",
      "\n",
      "\n",
      "\n",
      "\n",
      "Training Steps:   0%|          | 0/37.0 [00:00<00:11,  3.36it/s] \u001b[A\u001b[A\u001b[A\u001b[A\u001b[A\u001b[A\u001b[A\n",
      "\n",
      "\n",
      "\n",
      "\n",
      "\n",
      "\n",
      "Training Steps: 100%|██████████| 37/37.0 [00:00<00:00,  3.36it/s]\u001b[A\u001b[A\u001b[A\u001b[A\u001b[A\u001b[A\u001b[A\n",
      "\n",
      "\n",
      "\n",
      "\n",
      "\n",
      "\n",
      "Training Steps:   0%|          | 0/37.0 [00:00<00:11,  3.36it/s] \u001b[A\u001b[A\u001b[A\u001b[A\u001b[A\u001b[A\u001b[A\n",
      "\n",
      "\n",
      "\n",
      "\n",
      "\n",
      "\n",
      "Training Steps: 100%|██████████| 37/37.0 [00:00<00:00,  3.36it/s]\u001b[A\u001b[A\u001b[A\u001b[A\u001b[A\u001b[A\u001b[A\n",
      "\n",
      "\n",
      "\n",
      "\n",
      "\n",
      "Training Epochs:  44%|████▍     | 44/100 [00:22<00:18,  3.01it/s]\u001b[A\u001b[A\u001b[A\u001b[A\u001b[A\u001b[A\n",
      "\n",
      "\n",
      "\n",
      "\n",
      "\n",
      "\n",
      "Training Steps:   0%|          | 0/37.0 [00:00<00:11,  3.36it/s] \u001b[A\u001b[A\u001b[A\u001b[A\u001b[A\u001b[A\u001b[A\n",
      "\n",
      "\n",
      "\n",
      "\n",
      "\n",
      "\n",
      "Training Steps: 100%|██████████| 37/37.0 [00:00<00:00,  3.36it/s]\u001b[A\u001b[A\u001b[A\u001b[A\u001b[A\u001b[A\u001b[A\n",
      "\n",
      "\n",
      "\n",
      "\n",
      "\n",
      "\n",
      "Training Steps:   0%|          | 0/37.0 [00:00<00:11,  3.36it/s] \u001b[A\u001b[A\u001b[A\u001b[A\u001b[A\u001b[A\u001b[A"
     ]
    },
    {
     "name": "stdout",
     "output_type": "stream",
     "text": [
      "epoch: 45, loss: 0.181\n"
     ]
    },
    {
     "name": "stderr",
     "output_type": "stream",
     "text": [
      "\n",
      "\n",
      "\n",
      "\n",
      "\n",
      "\n",
      "\n",
      "Training Steps: 100%|██████████| 37/37.0 [00:00<00:00,  3.36it/s]\u001b[A\u001b[A\u001b[A\u001b[A\u001b[A\u001b[A\u001b[A\n",
      "\n",
      "\n",
      "\n",
      "\n",
      "\n",
      "\n",
      "Training Steps:   0%|          | 0/37.0 [00:00<00:11,  3.36it/s] \u001b[A\u001b[A\u001b[A\u001b[A\u001b[A\u001b[A\u001b[A\n",
      "\n",
      "\n",
      "\n",
      "\n",
      "\n",
      "\n",
      "Training Steps: 100%|██████████| 37/37.0 [00:00<00:00,  3.36it/s]\u001b[A\u001b[A\u001b[A\u001b[A\u001b[A\u001b[A\u001b[A\n",
      "\n",
      "\n",
      "\n",
      "\n",
      "\n",
      "Training Epochs:  47%|████▋     | 47/100 [00:22<00:12,  4.12it/s]\u001b[A\u001b[A\u001b[A\u001b[A\u001b[A\u001b[A\n",
      "\n",
      "\n",
      "\n",
      "\n",
      "\n",
      "\n",
      "Training Steps:   0%|          | 0/37.0 [00:00<00:11,  3.36it/s] \u001b[A\u001b[A\u001b[A\u001b[A\u001b[A\u001b[A\u001b[A\n",
      "\n",
      "\n",
      "\n",
      "\n",
      "\n",
      "\n",
      "Training Steps: 100%|██████████| 37/37.0 [00:00<00:00,  3.36it/s]\u001b[A\u001b[A\u001b[A\u001b[A\u001b[A\u001b[A\u001b[A\n",
      "\n",
      "\n",
      "\n",
      "\n",
      "\n",
      "\n",
      "Training Steps:   0%|          | 0/37.0 [00:00<00:11,  3.36it/s] \u001b[A\u001b[A\u001b[A\u001b[A\u001b[A\u001b[A\u001b[A"
     ]
    },
    {
     "name": "stdout",
     "output_type": "stream",
     "text": [
      "INFO:tensorflow:Assets written to: models/best_bimodal_pca_svd_model_pp_fs/assets\n"
     ]
    },
    {
     "name": "stderr",
     "output_type": "stream",
     "text": [
      "\n",
      "\n",
      "\n",
      "\n",
      "\n",
      "\n",
      "\n",
      "Training Steps: 100%|██████████| 37/37.0 [00:00<00:00,  3.36it/s]\u001b[A\u001b[A\u001b[A\u001b[A\u001b[A\u001b[A\u001b[A\n",
      "\n",
      "\n",
      "\n",
      "\n",
      "\n",
      "Training Epochs:  49%|████▉     | 49/100 [00:22<00:13,  3.76it/s]\u001b[A\u001b[A\u001b[A\u001b[A\u001b[A\u001b[A\n",
      "\n",
      "\n",
      "\n",
      "\n",
      "\n",
      "\n",
      "Training Steps:   0%|          | 0/37.0 [00:00<00:11,  3.36it/s] \u001b[A\u001b[A\u001b[A\u001b[A\u001b[A\u001b[A\u001b[A\n",
      "\n",
      "\n",
      "\n",
      "\n",
      "\n",
      "\n",
      "Training Steps: 100%|██████████| 37/37.0 [00:00<00:00,  3.36it/s]\u001b[A\u001b[A\u001b[A\u001b[A\u001b[A\u001b[A\u001b[A\n",
      "\n",
      "\n",
      "\n",
      "\n",
      "\n",
      "\n",
      "Training Steps:   0%|          | 0/37.0 [00:00<00:11,  3.36it/s] \u001b[A\u001b[A\u001b[A\u001b[A\u001b[A\u001b[A\u001b[A"
     ]
    },
    {
     "name": "stdout",
     "output_type": "stream",
     "text": [
      "epoch: 50, loss: 0.181\n"
     ]
    },
    {
     "name": "stderr",
     "output_type": "stream",
     "text": [
      "\n",
      "\n",
      "\n",
      "\n",
      "\n",
      "\n",
      "\n",
      "Training Steps: 100%|██████████| 37/37.0 [00:00<00:00,  3.36it/s]\u001b[A\u001b[A\u001b[A\u001b[A\u001b[A\u001b[A\u001b[A\n",
      "\n",
      "\n",
      "\n",
      "\n",
      "\n",
      "\n",
      "Training Steps:   0%|          | 0/37.0 [00:00<00:11,  3.36it/s] \u001b[A\u001b[A\u001b[A\u001b[A\u001b[A\u001b[A\u001b[A\n",
      "\n",
      "\n",
      "\n",
      "\n",
      "\n",
      "\n",
      "Training Steps: 100%|██████████| 37/37.0 [00:00<00:00,  3.36it/s]\u001b[A\u001b[A\u001b[A\u001b[A\u001b[A\u001b[A\u001b[A\n",
      "\n",
      "\n",
      "\n",
      "\n",
      "\n",
      "Training Epochs:  52%|█████▏    | 52/100 [00:23<00:09,  5.09it/s]\u001b[A\u001b[A\u001b[A\u001b[A\u001b[A\u001b[A\n",
      "\n",
      "\n",
      "\n",
      "\n",
      "\n",
      "\n",
      "Training Steps:   0%|          | 0/37.0 [00:00<00:11,  3.36it/s] \u001b[A\u001b[A\u001b[A\u001b[A\u001b[A\u001b[A\u001b[A\n",
      "\n",
      "\n",
      "\n",
      "\n",
      "\n",
      "\n",
      "Training Steps: 100%|██████████| 37/37.0 [00:00<00:00,  3.36it/s]\u001b[A\u001b[A\u001b[A\u001b[A\u001b[A\u001b[A\u001b[A\n",
      "\n",
      "\n",
      "\n",
      "\n",
      "\n",
      "\n",
      "Training Steps:   0%|          | 0/37.0 [00:00<00:11,  3.36it/s] \u001b[A\u001b[A\u001b[A\u001b[A\u001b[A\u001b[A\u001b[A\n",
      "\n",
      "\n",
      "\n",
      "\n",
      "\n",
      "\n",
      "Training Steps: 100%|██████████| 37/37.0 [00:00<00:00,  3.36it/s]\u001b[A\u001b[A\u001b[A\u001b[A\u001b[A\u001b[A\u001b[A\n",
      "\n",
      "\n",
      "\n",
      "\n",
      "\n",
      "\n",
      "Training Steps:   0%|          | 0/37.0 [00:00<00:11,  3.36it/s] \u001b[A\u001b[A\u001b[A\u001b[A\u001b[A\u001b[A\u001b[A\n",
      "\n",
      "\n",
      "\n",
      "\n",
      "\n",
      "\n",
      "Training Steps: 100%|██████████| 37/37.0 [00:00<00:00,  3.36it/s]\u001b[A\u001b[A\u001b[A\u001b[A\u001b[A\u001b[A\u001b[A\n",
      "\n",
      "\n",
      "\n",
      "\n",
      "\n",
      "Training Epochs:  55%|█████▌    | 55/100 [00:23<00:06,  6.77it/s]\u001b[A\u001b[A\u001b[A\u001b[A\u001b[A\u001b[A\n",
      "\n",
      "\n",
      "\n",
      "\n",
      "\n",
      "\n",
      "Training Steps:   0%|          | 0/37.0 [00:00<00:11,  3.36it/s] \u001b[A\u001b[A\u001b[A\u001b[A\u001b[A\u001b[A\u001b[A"
     ]
    },
    {
     "name": "stdout",
     "output_type": "stream",
     "text": [
      "epoch: 55, loss: 0.181\n"
     ]
    },
    {
     "name": "stderr",
     "output_type": "stream",
     "text": [
      "\n",
      "\n",
      "\n",
      "\n",
      "\n",
      "\n",
      "\n",
      "Training Steps: 100%|██████████| 37/37.0 [00:00<00:00,  3.36it/s]\u001b[A\u001b[A\u001b[A\u001b[A\u001b[A\u001b[A\u001b[A\n",
      "\n",
      "\n",
      "\n",
      "\n",
      "\n",
      "\n",
      "Training Steps:   0%|          | 0/37.0 [00:00<00:11,  3.36it/s] \u001b[A\u001b[A\u001b[A\u001b[A\u001b[A\u001b[A\u001b[A\n",
      "\n",
      "\n",
      "\n",
      "\n",
      "\n",
      "\n",
      "Training Steps: 100%|██████████| 37/37.0 [00:00<00:00,  3.36it/s]\u001b[A\u001b[A\u001b[A\u001b[A\u001b[A\u001b[A\u001b[A\n",
      "\n",
      "\n",
      "\n",
      "\n",
      "\n",
      "\n",
      "Training Steps:   0%|          | 0/37.0 [00:00<00:11,  3.36it/s] \u001b[A\u001b[A\u001b[A\u001b[A\u001b[A\u001b[A\u001b[A\n",
      "\n",
      "\n",
      "\n",
      "\n",
      "\n",
      "\n",
      "Training Steps: 100%|██████████| 37/37.0 [00:00<00:00,  3.36it/s]\u001b[A\u001b[A\u001b[A\u001b[A\u001b[A\u001b[A\u001b[A\n",
      "\n",
      "\n",
      "\n",
      "\n",
      "\n",
      "\n",
      "Training Steps:   0%|          | 0/37.0 [00:00<00:11,  3.36it/s] \u001b[A\u001b[A\u001b[A\u001b[A\u001b[A\u001b[A\u001b[A\n",
      "\n",
      "\n",
      "\n",
      "\n",
      "\n",
      "\n",
      "Training Steps: 100%|██████████| 37/37.0 [00:00<00:00,  3.36it/s]\u001b[A\u001b[A\u001b[A\u001b[A\u001b[A\u001b[A\u001b[A\n",
      "\n",
      "\n",
      "\n",
      "\n",
      "\n",
      "Training Epochs:  59%|█████▉    | 59/100 [00:23<00:04,  8.82it/s]\u001b[A\u001b[A\u001b[A\u001b[A\u001b[A\u001b[A\n",
      "\n",
      "\n",
      "\n",
      "\n",
      "\n",
      "\n",
      "Training Steps:   0%|          | 0/37.0 [00:00<00:11,  3.36it/s] \u001b[A\u001b[A\u001b[A\u001b[A\u001b[A\u001b[A\u001b[A\n",
      "\n",
      "\n",
      "\n",
      "\n",
      "\n",
      "\n",
      "Training Steps: 100%|██████████| 37/37.0 [00:00<00:00,  3.36it/s]\u001b[A\u001b[A\u001b[A\u001b[A\u001b[A\u001b[A\u001b[A\n",
      "\n",
      "\n",
      "\n",
      "\n",
      "\n",
      "\n",
      "Training Steps:   0%|          | 0/37.0 [00:00<00:11,  3.36it/s] \u001b[A\u001b[A\u001b[A\u001b[A\u001b[A\u001b[A\u001b[A"
     ]
    },
    {
     "name": "stdout",
     "output_type": "stream",
     "text": [
      "epoch: 60, loss: 0.184\n"
     ]
    },
    {
     "name": "stderr",
     "output_type": "stream",
     "text": [
      "\n",
      "\n",
      "\n",
      "\n",
      "\n",
      "\n",
      "\n",
      "Training Steps: 100%|██████████| 37/37.0 [00:00<00:00,  3.36it/s]\u001b[A\u001b[A\u001b[A\u001b[A\u001b[A\u001b[A\u001b[A\n",
      "\n",
      "\n",
      "\n",
      "\n",
      "\n",
      "\n",
      "Training Steps:   0%|          | 0/37.0 [00:00<00:11,  3.36it/s] \u001b[A\u001b[A\u001b[A\u001b[A\u001b[A\u001b[A\u001b[A\n",
      "\n",
      "\n",
      "\n",
      "\n",
      "\n",
      "\n",
      "Training Steps: 100%|██████████| 37/37.0 [00:00<00:00,  3.36it/s]\u001b[A\u001b[A\u001b[A\u001b[A\u001b[A\u001b[A\u001b[A\n",
      "\n",
      "\n",
      "\n",
      "\n",
      "\n",
      "Training Epochs:  62%|██████▏   | 62/100 [00:23<00:03, 11.15it/s]\u001b[A\u001b[A\u001b[A\u001b[A\u001b[A\u001b[A\n",
      "\n",
      "\n",
      "\n",
      "\n",
      "\n",
      "\n",
      "Training Steps:   0%|          | 0/37.0 [00:00<00:11,  3.36it/s] \u001b[A\u001b[A\u001b[A\u001b[A\u001b[A\u001b[A\u001b[A\n",
      "\n",
      "\n",
      "\n",
      "\n",
      "\n",
      "\n",
      "Training Steps: 100%|██████████| 37/37.0 [00:00<00:00,  3.36it/s]\u001b[A\u001b[A\u001b[A\u001b[A\u001b[A\u001b[A\u001b[A\n",
      "\n",
      "\n",
      "\n",
      "\n",
      "\n",
      "\n",
      "Training Steps:   0%|          | 0/37.0 [00:00<00:11,  3.36it/s] \u001b[A\u001b[A\u001b[A\u001b[A\u001b[A\u001b[A\u001b[A\n",
      "\n",
      "\n",
      "\n",
      "\n",
      "\n",
      "\n",
      "Training Steps: 100%|██████████| 37/37.0 [00:00<00:00,  3.36it/s]\u001b[A\u001b[A\u001b[A\u001b[A\u001b[A\u001b[A\u001b[A\n",
      "\n",
      "\n",
      "\n",
      "\n",
      "\n",
      "\n",
      "Training Steps:   0%|          | 0/37.0 [00:00<00:11,  3.36it/s] \u001b[A\u001b[A\u001b[A\u001b[A\u001b[A\u001b[A\u001b[A\n",
      "\n",
      "\n",
      "\n",
      "\n",
      "\n",
      "\n",
      "Training Steps: 100%|██████████| 37/37.0 [00:00<00:00,  3.36it/s]\u001b[A\u001b[A\u001b[A\u001b[A\u001b[A\u001b[A\u001b[A\n",
      "\n",
      "\n",
      "\n",
      "\n",
      "\n",
      "\n",
      "Training Steps:   0%|          | 0/37.0 [00:00<00:11,  3.36it/s] \u001b[A\u001b[A\u001b[A\u001b[A\u001b[A\u001b[A\u001b[A"
     ]
    },
    {
     "name": "stdout",
     "output_type": "stream",
     "text": [
      "epoch: 65, loss: 0.187\n"
     ]
    },
    {
     "name": "stderr",
     "output_type": "stream",
     "text": [
      "\n",
      "\n",
      "\n",
      "\n",
      "\n",
      "\n",
      "\n",
      "Training Steps: 100%|██████████| 37/37.0 [00:00<00:00,  3.36it/s]\u001b[A\u001b[A\u001b[A\u001b[A\u001b[A\u001b[A\u001b[A\n",
      "\n",
      "\n",
      "\n",
      "\n",
      "\n",
      "Training Epochs:  66%|██████▌   | 66/100 [00:23<00:02, 13.85it/s]\u001b[A\u001b[A\u001b[A\u001b[A\u001b[A\u001b[A\n",
      "\n",
      "\n",
      "\n",
      "\n",
      "\n",
      "\n",
      "Training Steps:   0%|          | 0/37.0 [00:00<00:11,  3.36it/s] \u001b[A\u001b[A\u001b[A\u001b[A\u001b[A\u001b[A\u001b[A\n",
      "\n",
      "\n",
      "\n",
      "\n",
      "\n",
      "\n",
      "Training Steps: 100%|██████████| 37/37.0 [00:00<00:00,  3.36it/s]\u001b[A\u001b[A\u001b[A\u001b[A\u001b[A\u001b[A\u001b[A\n",
      "\n",
      "\n",
      "\n",
      "\n",
      "\n",
      "\n",
      "Training Steps:   0%|          | 0/37.0 [00:00<00:11,  3.36it/s] \u001b[A\u001b[A\u001b[A\u001b[A\u001b[A\u001b[A\u001b[A\n",
      "\n",
      "\n",
      "\n",
      "\n",
      "\n",
      "\n",
      "Training Steps: 100%|██████████| 37/37.0 [00:00<00:00,  3.36it/s]\u001b[A\u001b[A\u001b[A\u001b[A\u001b[A\u001b[A\u001b[A\n",
      "\n",
      "\n",
      "\n",
      "\n",
      "\n",
      "\n",
      "Training Steps:   0%|          | 0/37.0 [00:00<00:11,  3.36it/s] \u001b[A\u001b[A\u001b[A\u001b[A\u001b[A\u001b[A\u001b[A\n",
      "\n",
      "\n",
      "\n",
      "\n",
      "\n",
      "\n",
      "Training Steps: 100%|██████████| 37/37.0 [00:00<00:00,  3.36it/s]\u001b[A\u001b[A\u001b[A\u001b[A\u001b[A\u001b[A\u001b[A\n",
      "\n",
      "\n",
      "\n",
      "\n",
      "\n",
      "\n",
      "Training Steps:   0%|          | 0/37.0 [00:00<00:11,  3.36it/s] \u001b[A\u001b[A\u001b[A\u001b[A\u001b[A\u001b[A\u001b[A\n",
      "\n",
      "\n",
      "\n",
      "\n",
      "\n",
      "\n",
      "Training Steps: 100%|██████████| 37/37.0 [00:00<00:00,  3.36it/s]\u001b[A\u001b[A\u001b[A\u001b[A\u001b[A\u001b[A\u001b[A\n",
      "\n",
      "\n",
      "\n",
      "\n",
      "\n",
      "Training Epochs:  70%|███████   | 70/100 [00:23<00:01, 16.59it/s]\u001b[A\u001b[A\u001b[A\u001b[A\u001b[A\u001b[A\n",
      "\n",
      "\n",
      "\n",
      "\n",
      "\n",
      "\n",
      "Training Steps:   0%|          | 0/37.0 [00:00<00:11,  3.36it/s] \u001b[A\u001b[A\u001b[A\u001b[A\u001b[A\u001b[A\u001b[A"
     ]
    },
    {
     "name": "stdout",
     "output_type": "stream",
     "text": [
      "epoch: 70, loss: 0.190\n"
     ]
    },
    {
     "name": "stderr",
     "output_type": "stream",
     "text": [
      "\n",
      "\n",
      "\n",
      "\n",
      "\n",
      "\n",
      "\n",
      "Training Steps: 100%|██████████| 37/37.0 [00:00<00:00,  3.36it/s]\u001b[A\u001b[A\u001b[A\u001b[A\u001b[A\u001b[A\u001b[A\n",
      "\n",
      "\n",
      "\n",
      "\n",
      "\n",
      "\n",
      "Training Steps:   0%|          | 0/37.0 [00:00<00:11,  3.36it/s] \u001b[A\u001b[A\u001b[A\u001b[A\u001b[A\u001b[A\u001b[A\n",
      "\n",
      "\n",
      "\n",
      "\n",
      "\n",
      "\n",
      "Training Steps: 100%|██████████| 37/37.0 [00:00<00:00,  3.36it/s]\u001b[A\u001b[A\u001b[A\u001b[A\u001b[A\u001b[A\u001b[A\n",
      "\n",
      "\n",
      "\n",
      "\n",
      "\n",
      "\n",
      "Training Steps:   0%|          | 0/37.0 [00:00<00:11,  3.36it/s] \u001b[A\u001b[A\u001b[A\u001b[A\u001b[A\u001b[A\u001b[A\n",
      "\n",
      "\n",
      "\n",
      "\n",
      "\n",
      "\n",
      "Training Steps: 100%|██████████| 37/37.0 [00:00<00:00,  3.36it/s]\u001b[A\u001b[A\u001b[A\u001b[A\u001b[A\u001b[A\u001b[A\n",
      "\n",
      "\n",
      "\n",
      "\n",
      "\n",
      "Training Epochs:  73%|███████▎  | 73/100 [00:23<00:01, 19.08it/s]\u001b[A\u001b[A\u001b[A\u001b[A\u001b[A\u001b[A\n",
      "\n",
      "\n",
      "\n",
      "\n",
      "\n",
      "\n",
      "Training Steps:   0%|          | 0/37.0 [00:00<00:11,  3.36it/s] \u001b[A\u001b[A\u001b[A\u001b[A\u001b[A\u001b[A\u001b[A\n",
      "\n",
      "\n",
      "\n",
      "\n",
      "\n",
      "\n",
      "Training Steps: 100%|██████████| 37/37.0 [00:00<00:00,  3.36it/s]\u001b[A\u001b[A\u001b[A\u001b[A\u001b[A\u001b[A\u001b[A\n",
      "\n",
      "\n",
      "\n",
      "\n",
      "\n",
      "\n",
      "Training Steps:   0%|          | 0/37.0 [00:00<00:11,  3.36it/s] \u001b[A\u001b[A\u001b[A\u001b[A\u001b[A\u001b[A\u001b[A\n",
      "\n",
      "\n",
      "\n",
      "\n",
      "\n",
      "\n",
      "Training Steps: 100%|██████████| 37/37.0 [00:00<00:00,  3.36it/s]\u001b[A\u001b[A\u001b[A\u001b[A\u001b[A\u001b[A\u001b[A\n",
      "\n",
      "\n",
      "\n",
      "\n",
      "\n",
      "\n",
      "Training Steps:   0%|          | 0/37.0 [00:00<00:11,  3.36it/s] \u001b[A\u001b[A\u001b[A\u001b[A\u001b[A\u001b[A\u001b[A"
     ]
    },
    {
     "name": "stdout",
     "output_type": "stream",
     "text": [
      "epoch: 75, loss: 0.189\n"
     ]
    },
    {
     "name": "stderr",
     "output_type": "stream",
     "text": [
      "\n",
      "\n",
      "\n",
      "\n",
      "\n",
      "\n",
      "\n",
      "Training Steps: 100%|██████████| 37/37.0 [00:00<00:00,  3.36it/s]\u001b[A\u001b[A\u001b[A\u001b[A\u001b[A\u001b[A\u001b[A\n",
      "\n",
      "\n",
      "\n",
      "\n",
      "\n",
      "Training Epochs:  76%|███████▌  | 76/100 [00:23<00:01, 20.97it/s]\u001b[A\u001b[A\u001b[A\u001b[A\u001b[A\u001b[A\n",
      "\n",
      "\n",
      "\n",
      "\n",
      "\n",
      "\n",
      "Training Steps:   0%|          | 0/37.0 [00:00<00:11,  3.36it/s] \u001b[A\u001b[A\u001b[A\u001b[A\u001b[A\u001b[A\u001b[A\n",
      "\n",
      "\n",
      "\n",
      "\n",
      "\n",
      "\n",
      "Training Steps: 100%|██████████| 37/37.0 [00:00<00:00,  3.36it/s]\u001b[A\u001b[A\u001b[A\u001b[A\u001b[A\u001b[A\u001b[A\n",
      "\n",
      "\n",
      "\n",
      "\n",
      "\n",
      "\n",
      "Training Steps:   0%|          | 0/37.0 [00:00<00:11,  3.36it/s] \u001b[A\u001b[A\u001b[A\u001b[A\u001b[A\u001b[A\u001b[A\n",
      "\n",
      "\n",
      "\n",
      "\n",
      "\n",
      "\n",
      "Training Steps: 100%|██████████| 37/37.0 [00:00<00:00,  3.36it/s]\u001b[A\u001b[A\u001b[A\u001b[A\u001b[A\u001b[A\u001b[A\n",
      "\n",
      "\n",
      "\n",
      "\n",
      "\n",
      "\n",
      "Training Steps:   0%|          | 0/37.0 [00:00<00:11,  3.36it/s] \u001b[A\u001b[A\u001b[A\u001b[A\u001b[A\u001b[A\u001b[A\n",
      "\n",
      "\n",
      "\n",
      "\n",
      "\n",
      "\n",
      "Training Steps: 100%|██████████| 37/37.0 [00:00<00:00,  3.36it/s]\u001b[A\u001b[A\u001b[A\u001b[A\u001b[A\u001b[A\u001b[A\n",
      "\n",
      "\n",
      "\n",
      "\n",
      "\n",
      "Training Epochs:  79%|███████▉  | 79/100 [00:23<00:00, 22.91it/s]\u001b[A\u001b[A\u001b[A\u001b[A\u001b[A\u001b[A\n",
      "\n",
      "\n",
      "\n",
      "\n",
      "\n",
      "\n",
      "Training Steps:   0%|          | 0/37.0 [00:00<00:11,  3.36it/s] \u001b[A\u001b[A\u001b[A\u001b[A\u001b[A\u001b[A\u001b[A\n",
      "\n",
      "\n",
      "\n",
      "\n",
      "\n",
      "\n",
      "Training Steps: 100%|██████████| 37/37.0 [00:00<00:00,  3.36it/s]\u001b[A\u001b[A\u001b[A\u001b[A\u001b[A\u001b[A\u001b[A\n",
      "\n",
      "\n",
      "\n",
      "\n",
      "\n",
      "\n",
      "Training Steps:   0%|          | 0/37.0 [00:00<00:11,  3.36it/s] \u001b[A\u001b[A\u001b[A\u001b[A\u001b[A\u001b[A\u001b[A"
     ]
    },
    {
     "name": "stdout",
     "output_type": "stream",
     "text": [
      "epoch: 80, loss: 0.190\n"
     ]
    },
    {
     "name": "stderr",
     "output_type": "stream",
     "text": [
      "\n",
      "\n",
      "\n",
      "\n",
      "\n",
      "\n",
      "\n",
      "Training Steps: 100%|██████████| 37/37.0 [00:00<00:00,  3.36it/s]\u001b[A\u001b[A\u001b[A\u001b[A\u001b[A\u001b[A\u001b[A\n",
      "\n",
      "\n",
      "\n",
      "\n",
      "\n",
      "\n",
      "Training Steps:   0%|          | 0/37.0 [00:00<00:11,  3.36it/s] \u001b[A\u001b[A\u001b[A\u001b[A\u001b[A\u001b[A\u001b[A\n",
      "\n",
      "\n",
      "\n",
      "\n",
      "\n",
      "\n",
      "Training Steps: 100%|██████████| 37/37.0 [00:00<00:00,  3.36it/s]\u001b[A\u001b[A\u001b[A\u001b[A\u001b[A\u001b[A\u001b[A\n",
      "\n",
      "\n",
      "\n",
      "\n",
      "\n",
      "Training Epochs:  82%|████████▏ | 82/100 [00:24<00:00, 24.50it/s]\u001b[A\u001b[A\u001b[A\u001b[A\u001b[A\u001b[A\n",
      "\n",
      "\n",
      "\n",
      "\n",
      "\n",
      "\n",
      "Training Steps:   0%|          | 0/37.0 [00:00<00:11,  3.36it/s] \u001b[A\u001b[A\u001b[A\u001b[A\u001b[A\u001b[A\u001b[A\n",
      "\n",
      "\n",
      "\n",
      "\n",
      "\n",
      "\n",
      "Training Steps: 100%|██████████| 37/37.0 [00:00<00:00,  3.36it/s]\u001b[A\u001b[A\u001b[A\u001b[A\u001b[A\u001b[A\u001b[A\n",
      "\n",
      "\n",
      "\n",
      "\n",
      "\n",
      "\n",
      "Training Steps:   0%|          | 0/37.0 [00:00<00:11,  3.36it/s] \u001b[A\u001b[A\u001b[A\u001b[A\u001b[A\u001b[A\u001b[A\n",
      "\n",
      "\n",
      "\n",
      "\n",
      "\n",
      "\n",
      "Training Steps: 100%|██████████| 37/37.0 [00:00<00:00,  3.36it/s]\u001b[A\u001b[A\u001b[A\u001b[A\u001b[A\u001b[A\u001b[A\n",
      "\n",
      "\n",
      "\n",
      "\n",
      "\n",
      "\n",
      "Training Steps:   0%|          | 0/37.0 [00:00<00:11,  3.36it/s] \u001b[A\u001b[A\u001b[A\u001b[A\u001b[A\u001b[A\u001b[A\n",
      "\n",
      "\n",
      "\n",
      "\n",
      "\n",
      "\n",
      "Training Steps: 100%|██████████| 37/37.0 [00:00<00:00,  3.36it/s]\u001b[A\u001b[A\u001b[A\u001b[A\u001b[A\u001b[A\u001b[A\n",
      "\n",
      "\n",
      "\n",
      "\n",
      "\n",
      "\n",
      "Training Steps:   0%|          | 0/37.0 [00:00<00:11,  3.36it/s] \u001b[A\u001b[A\u001b[A\u001b[A\u001b[A\u001b[A\u001b[A"
     ]
    },
    {
     "name": "stdout",
     "output_type": "stream",
     "text": [
      "epoch: 85, loss: 0.198\n"
     ]
    },
    {
     "name": "stderr",
     "output_type": "stream",
     "text": [
      "\n",
      "\n",
      "\n",
      "\n",
      "\n",
      "\n",
      "\n",
      "Training Steps: 100%|██████████| 37/37.0 [00:00<00:00,  3.36it/s]\u001b[A\u001b[A\u001b[A\u001b[A\u001b[A\u001b[A\u001b[A\n",
      "\n",
      "\n",
      "\n",
      "\n",
      "\n",
      "Training Epochs:  86%|████████▌ | 86/100 [00:24<00:00, 26.16it/s]\u001b[A\u001b[A\u001b[A\u001b[A\u001b[A\u001b[A\n",
      "\n",
      "\n",
      "\n",
      "\n",
      "\n",
      "\n",
      "Training Steps:   0%|          | 0/37.0 [00:00<00:11,  3.36it/s] \u001b[A\u001b[A\u001b[A\u001b[A\u001b[A\u001b[A\u001b[A\n",
      "\n",
      "\n",
      "\n",
      "\n",
      "\n",
      "\n",
      "Training Steps: 100%|██████████| 37/37.0 [00:00<00:00,  3.36it/s]\u001b[A\u001b[A\u001b[A\u001b[A\u001b[A\u001b[A\u001b[A\n",
      "\n",
      "\n",
      "\n",
      "\n",
      "\n",
      "\n",
      "Training Steps:   0%|          | 0/37.0 [00:00<00:11,  3.36it/s] \u001b[A\u001b[A\u001b[A\u001b[A\u001b[A\u001b[A\u001b[A\n",
      "\n",
      "\n",
      "\n",
      "\n",
      "\n",
      "\n",
      "Training Steps: 100%|██████████| 37/37.0 [00:00<00:00,  3.36it/s]\u001b[A\u001b[A\u001b[A\u001b[A\u001b[A\u001b[A\u001b[A\n",
      "\n",
      "\n",
      "\n",
      "\n",
      "\n",
      "\n",
      "Training Steps:   0%|          | 0/37.0 [00:00<00:11,  3.36it/s] \u001b[A\u001b[A\u001b[A\u001b[A\u001b[A\u001b[A\u001b[A\n",
      "\n",
      "\n",
      "\n",
      "\n",
      "\n",
      "\n",
      "Training Steps: 100%|██████████| 37/37.0 [00:00<00:00,  3.36it/s]\u001b[A\u001b[A\u001b[A\u001b[A\u001b[A\u001b[A\u001b[A\n",
      "\n",
      "\n",
      "\n",
      "\n",
      "\n",
      "\n",
      "Training Steps:   0%|          | 0/37.0 [00:00<00:11,  3.36it/s] \u001b[A\u001b[A\u001b[A\u001b[A\u001b[A\u001b[A\u001b[A\n",
      "\n",
      "\n",
      "\n",
      "\n",
      "\n",
      "\n",
      "Training Steps: 100%|██████████| 37/37.0 [00:00<00:00,  3.36it/s]\u001b[A\u001b[A\u001b[A\u001b[A\u001b[A\u001b[A\u001b[A\n",
      "\n",
      "\n",
      "\n",
      "\n",
      "\n",
      "Training Epochs:  90%|█████████ | 90/100 [00:24<00:00, 27.55it/s]\u001b[A\u001b[A\u001b[A\u001b[A\u001b[A\u001b[A\n",
      "\n",
      "\n",
      "\n",
      "\n",
      "\n",
      "\n",
      "Training Steps:   0%|          | 0/37.0 [00:00<00:11,  3.36it/s] \u001b[A\u001b[A\u001b[A\u001b[A\u001b[A\u001b[A\u001b[A"
     ]
    },
    {
     "name": "stdout",
     "output_type": "stream",
     "text": [
      "epoch: 90, loss: 0.201\n"
     ]
    },
    {
     "name": "stderr",
     "output_type": "stream",
     "text": [
      "\n",
      "\n",
      "\n",
      "\n",
      "\n",
      "\n",
      "\n",
      "Training Steps: 100%|██████████| 37/37.0 [00:00<00:00,  3.36it/s]\u001b[A\u001b[A\u001b[A\u001b[A\u001b[A\u001b[A\u001b[A\n",
      "\n",
      "\n",
      "\n",
      "\n",
      "\n",
      "\n",
      "Training Steps:   0%|          | 0/37.0 [00:00<00:11,  3.36it/s] \u001b[A\u001b[A\u001b[A\u001b[A\u001b[A\u001b[A\u001b[A\n",
      "\n",
      "\n",
      "\n",
      "\n",
      "\n",
      "\n",
      "Training Steps: 100%|██████████| 37/37.0 [00:00<00:00,  3.36it/s]\u001b[A\u001b[A\u001b[A\u001b[A\u001b[A\u001b[A\u001b[A\n",
      "\n",
      "\n",
      "\n",
      "\n",
      "\n",
      "\n",
      "Training Steps:   0%|          | 0/37.0 [00:00<00:11,  3.36it/s] \u001b[A\u001b[A\u001b[A\u001b[A\u001b[A\u001b[A\u001b[A\n",
      "\n",
      "\n",
      "\n",
      "\n",
      "\n",
      "\n",
      "Training Steps: 100%|██████████| 37/37.0 [00:00<00:00,  3.36it/s]\u001b[A\u001b[A\u001b[A\u001b[A\u001b[A\u001b[A\u001b[A\n",
      "\n",
      "\n",
      "\n",
      "\n",
      "\n",
      "\n",
      "Training Steps:   0%|          | 0/37.0 [00:00<00:11,  3.36it/s] \u001b[A\u001b[A\u001b[A\u001b[A\u001b[A\u001b[A\u001b[A\n",
      "\n",
      "\n",
      "\n",
      "\n",
      "\n",
      "\n",
      "Training Steps: 100%|██████████| 37/37.0 [00:00<00:00,  3.36it/s]\u001b[A\u001b[A\u001b[A\u001b[A\u001b[A\u001b[A\u001b[A\n",
      "\n",
      "\n",
      "\n",
      "\n",
      "\n",
      "Training Epochs:  94%|█████████▍| 94/100 [00:24<00:00, 28.37it/s]\u001b[A\u001b[A\u001b[A\u001b[A\u001b[A\u001b[A\n",
      "\n",
      "\n",
      "\n",
      "\n",
      "\n",
      "\n",
      "Training Steps:   0%|          | 0/37.0 [00:00<00:11,  3.36it/s] \u001b[A\u001b[A\u001b[A\u001b[A\u001b[A\u001b[A\u001b[A\n",
      "\n",
      "\n",
      "\n",
      "\n",
      "\n",
      "\n",
      "Training Steps: 100%|██████████| 37/37.0 [00:00<00:00,  3.36it/s]\u001b[A\u001b[A\u001b[A\u001b[A\u001b[A\u001b[A\u001b[A\n",
      "\n",
      "\n",
      "\n",
      "\n",
      "\n",
      "\n",
      "Training Steps:   0%|          | 0/37.0 [00:00<00:11,  3.36it/s] \u001b[A\u001b[A\u001b[A\u001b[A\u001b[A\u001b[A\u001b[A"
     ]
    },
    {
     "name": "stdout",
     "output_type": "stream",
     "text": [
      "epoch: 95, loss: 0.200\n"
     ]
    },
    {
     "name": "stderr",
     "output_type": "stream",
     "text": [
      "\n",
      "\n",
      "\n",
      "\n",
      "\n",
      "\n",
      "\n",
      "Training Steps: 100%|██████████| 37/37.0 [00:00<00:00,  3.36it/s]\u001b[A\u001b[A\u001b[A\u001b[A\u001b[A\u001b[A\u001b[A\n",
      "\n",
      "\n",
      "\n",
      "\n",
      "\n",
      "\n",
      "Training Steps:   0%|          | 0/37.0 [00:00<00:11,  3.36it/s] \u001b[A\u001b[A\u001b[A\u001b[A\u001b[A\u001b[A\u001b[A\n",
      "\n",
      "\n",
      "\n",
      "\n",
      "\n",
      "\n",
      "Training Steps: 100%|██████████| 37/37.0 [00:00<00:00,  3.36it/s]\u001b[A\u001b[A\u001b[A\u001b[A\u001b[A\u001b[A\u001b[A\n",
      "\n",
      "\n",
      "\n",
      "\n",
      "\n",
      "\n",
      "Training Steps:   0%|          | 0/37.0 [00:00<00:11,  3.36it/s] \u001b[A\u001b[A\u001b[A\u001b[A\u001b[A\u001b[A\u001b[A\n",
      "\n",
      "\n",
      "\n",
      "\n",
      "\n",
      "\n",
      "Training Steps: 100%|██████████| 37/37.0 [00:00<00:00,  3.36it/s]\u001b[A\u001b[A\u001b[A\u001b[A\u001b[A\u001b[A\u001b[A\n",
      "\n",
      "\n",
      "\n",
      "\n",
      "\n",
      "Training Epochs:  98%|█████████▊| 98/100 [00:24<00:00, 29.21it/s]\u001b[A\u001b[A\u001b[A\u001b[A\u001b[A\u001b[A\n",
      "\n",
      "\n",
      "\n",
      "\n",
      "\n",
      "\n",
      "Training Steps:   0%|          | 0/37.0 [00:00<00:11,  3.36it/s] \u001b[A\u001b[A\u001b[A\u001b[A\u001b[A\u001b[A\u001b[A\n",
      "\n",
      "\n",
      "\n",
      "\n",
      "\n",
      "\n",
      "Training Steps: 100%|██████████| 37/37.0 [00:00<00:00,  3.36it/s]\u001b[A\u001b[A\u001b[A\u001b[A\u001b[A\u001b[A\u001b[A\n",
      "\n",
      "\n",
      "\n",
      "\n",
      "\n",
      "\n",
      "Training Steps:   0%|          | 0/37.0 [00:00<00:11,  3.36it/s] \u001b[A\u001b[A\u001b[A\u001b[A\u001b[A\u001b[A\u001b[A\n",
      "\n",
      "\n",
      "\n",
      "\n",
      "\n",
      "\n",
      "Training Steps: 100%|██████████| 37/37.0 [00:00<00:00,  3.36it/s]\u001b[A\u001b[A\u001b[A\u001b[A\u001b[A\u001b[A\u001b[A"
     ]
    }
   ],
   "source": [
    "BEST_MODEL_DIR = os.path.join('models', 'best_bimodal_pca_svd_model_pp_fs')\n",
    "BIMODAL_BATCH_SIZE = 64\n",
    "\n",
    "bimodal_hyperparam_config = {'dropout_rate': 0.1,\n",
    "                     'l2_lambda': .001,\n",
    "                     'lr': 0.01}\n",
    "\n",
    "bimodal_test_loss = training(\n",
    "    X_bimodal_train, Y_bimodal_train, X_bimodal_test, Y_bimodal_test,\n",
    "    bimodal_hyperparam_config, NUM_EPOCHS, BIMODAL_BATCH_SIZE, save_model=True, model_dir=BEST_MODEL_DIR\n",
    "    \n",
    ")"
   ]
  },
  {
   "cell_type": "code",
   "execution_count": 294,
   "metadata": {
    "collapsed": true,
    "jupyter": {
     "outputs_hidden": true
    }
   },
   "outputs": [
    {
     "name": "stderr",
     "output_type": "stream",
     "text": [
      "\n",
      "\n",
      "\n",
      "\n",
      "\n",
      "\n",
      "\n",
      "\n",
      "Training Epochs:   0%|          | 0/100 [00:00<?, ?it/s]\u001b[A\u001b[A\u001b[A\u001b[A\u001b[A\u001b[A\u001b[A\u001b[A\n",
      "\n",
      "\n",
      "\n",
      "\n",
      "\n",
      "\n",
      "\n",
      "\n",
      "Training Steps: 0it [00:00, ?it/s]\u001b[A\u001b[A\u001b[A\u001b[A\u001b[A\u001b[A\u001b[A\u001b[A\u001b[A\n",
      "\n",
      "\n",
      "\n",
      "\n",
      "\n",
      "\n",
      "\n",
      "\n",
      "Training Steps:   0%|          | 0/37.0 [00:00<?, ?it/s]\u001b[A\u001b[A\u001b[A\u001b[A\u001b[A\u001b[A\u001b[A\u001b[A\u001b[A"
     ]
    },
    {
     "name": "stdout",
     "output_type": "stream",
     "text": [
      "getting initial loss\n"
     ]
    },
    {
     "name": "stderr",
     "output_type": "stream",
     "text": [
      "\n",
      "\n",
      "\n",
      "\n",
      "\n",
      "\n",
      "\n",
      "\n",
      "\n",
      "Training Steps:   3%|▎         | 1/37.0 [00:00<00:09,  3.78it/s]\u001b[A\u001b[A\u001b[A\u001b[A\u001b[A\u001b[A\u001b[A\u001b[A\u001b[A"
     ]
    },
    {
     "name": "stdout",
     "output_type": "stream",
     "text": [
      "epoch: 00, loss: 1.067\n",
      "INFO:tensorflow:Assets written to: models/best_factor2_model_pp_fs/assets\n"
     ]
    },
    {
     "name": "stderr",
     "output_type": "stream",
     "text": [
      "\n",
      "\n",
      "\n",
      "\n",
      "\n",
      "\n",
      "\n",
      "\n",
      "\n",
      "Training Steps: 100%|██████████| 37/37.0 [00:00<00:00,  3.78it/s]\u001b[A\u001b[A\u001b[A\u001b[A\u001b[A\u001b[A\u001b[A\u001b[A\u001b[A\n",
      "\n",
      "\n",
      "\n",
      "\n",
      "\n",
      "\n",
      "\n",
      "Training Epochs:   1%|          | 1/100 [00:00<01:28,  1.12it/s]\u001b[A\u001b[A\u001b[A\u001b[A\u001b[A\u001b[A\u001b[A\u001b[A\n",
      "\n",
      "\n",
      "\n",
      "\n",
      "\n",
      "\n",
      "\n",
      "\n",
      "Training Steps:   0%|          | 0/37.0 [00:00<00:09,  3.78it/s] \u001b[A\u001b[A\u001b[A\u001b[A\u001b[A\u001b[A\u001b[A\u001b[A\u001b[A"
     ]
    },
    {
     "name": "stdout",
     "output_type": "stream",
     "text": [
      "INFO:tensorflow:Assets written to: models/best_factor2_model_pp_fs/assets\n"
     ]
    },
    {
     "name": "stderr",
     "output_type": "stream",
     "text": [
      "\n",
      "\n",
      "\n",
      "\n",
      "\n",
      "\n",
      "\n",
      "\n",
      "\n",
      "Training Steps: 100%|██████████| 37/37.0 [00:00<00:00,  3.78it/s]\u001b[A\u001b[A\u001b[A\u001b[A\u001b[A\u001b[A\u001b[A\u001b[A\u001b[A\n",
      "\n",
      "\n",
      "\n",
      "\n",
      "\n",
      "\n",
      "\n",
      "Training Epochs:   2%|▏         | 2/100 [00:01<01:19,  1.23it/s]\u001b[A\u001b[A\u001b[A\u001b[A\u001b[A\u001b[A\u001b[A\u001b[A\n",
      "\n",
      "\n",
      "\n",
      "\n",
      "\n",
      "\n",
      "\n",
      "\n",
      "Training Steps:   0%|          | 0/37.0 [00:00<00:09,  3.78it/s] \u001b[A\u001b[A\u001b[A\u001b[A\u001b[A\u001b[A\u001b[A\u001b[A\u001b[A\n",
      "\n",
      "\n",
      "\n",
      "\n",
      "\n",
      "\n",
      "\n",
      "\n",
      "Training Steps: 100%|██████████| 37/37.0 [00:00<00:00,  3.78it/s]\u001b[A\u001b[A\u001b[A\u001b[A\u001b[A\u001b[A\u001b[A\u001b[A\u001b[A\n",
      "\n",
      "\n",
      "\n",
      "\n",
      "\n",
      "\n",
      "\n",
      "\n",
      "Training Steps:   0%|          | 0/37.0 [00:00<00:09,  3.78it/s] \u001b[A\u001b[A\u001b[A\u001b[A\u001b[A\u001b[A\u001b[A\u001b[A\u001b[A\n",
      "\n",
      "\n",
      "\n",
      "\n",
      "\n",
      "\n",
      "\n",
      "\n",
      "Training Steps: 100%|██████████| 37/37.0 [00:00<00:00,  3.78it/s]\u001b[A\u001b[A\u001b[A\u001b[A\u001b[A\u001b[A\u001b[A\u001b[A\u001b[A\n",
      "\n",
      "\n",
      "\n",
      "\n",
      "\n",
      "\n",
      "\n",
      "\n",
      "Training Steps:   0%|          | 0/37.0 [00:00<00:09,  3.78it/s] \u001b[A\u001b[A\u001b[A\u001b[A\u001b[A\u001b[A\u001b[A\u001b[A\u001b[A\n",
      "\n",
      "\n",
      "\n",
      "\n",
      "\n",
      "\n",
      "\n",
      "\n",
      "Training Steps: 100%|██████████| 37/37.0 [00:00<00:00,  3.78it/s]\u001b[A\u001b[A\u001b[A\u001b[A\u001b[A\u001b[A\u001b[A\u001b[A\u001b[A\n",
      "\n",
      "\n",
      "\n",
      "\n",
      "\n",
      "\n",
      "\n",
      "\n",
      "Training Steps:   0%|          | 0/37.0 [00:00<00:09,  3.78it/s] \u001b[A\u001b[A\u001b[A\u001b[A\u001b[A\u001b[A\u001b[A\u001b[A\u001b[A"
     ]
    },
    {
     "name": "stdout",
     "output_type": "stream",
     "text": [
      "epoch: 05, loss: 1.067\n"
     ]
    },
    {
     "name": "stderr",
     "output_type": "stream",
     "text": [
      "\n",
      "\n",
      "\n",
      "\n",
      "\n",
      "\n",
      "\n",
      "\n",
      "\n",
      "Training Steps: 100%|██████████| 37/37.0 [00:00<00:00,  3.78it/s]\u001b[A\u001b[A\u001b[A\u001b[A\u001b[A\u001b[A\u001b[A\u001b[A\u001b[A\n",
      "\n",
      "\n",
      "\n",
      "\n",
      "\n",
      "\n",
      "\n",
      "Training Epochs:   6%|▌         | 6/100 [00:01<00:54,  1.73it/s]\u001b[A\u001b[A\u001b[A\u001b[A\u001b[A\u001b[A\u001b[A\u001b[A\n",
      "\n",
      "\n",
      "\n",
      "\n",
      "\n",
      "\n",
      "\n",
      "\n",
      "Training Steps:   0%|          | 0/37.0 [00:00<00:09,  3.78it/s] \u001b[A\u001b[A\u001b[A\u001b[A\u001b[A\u001b[A\u001b[A\u001b[A\u001b[A\n",
      "\n",
      "\n",
      "\n",
      "\n",
      "\n",
      "\n",
      "\n",
      "\n",
      "Training Steps: 100%|██████████| 37/37.0 [00:00<00:00,  3.78it/s]\u001b[A\u001b[A\u001b[A\u001b[A\u001b[A\u001b[A\u001b[A\u001b[A\u001b[A\n",
      "\n",
      "\n",
      "\n",
      "\n",
      "\n",
      "\n",
      "\n",
      "\n",
      "Training Steps:   0%|          | 0/37.0 [00:00<00:09,  3.78it/s] \u001b[A\u001b[A\u001b[A\u001b[A\u001b[A\u001b[A\u001b[A\u001b[A\u001b[A\n",
      "\n",
      "\n",
      "\n",
      "\n",
      "\n",
      "\n",
      "\n",
      "\n",
      "Training Steps: 100%|██████████| 37/37.0 [00:00<00:00,  3.78it/s]\u001b[A\u001b[A\u001b[A\u001b[A\u001b[A\u001b[A\u001b[A\u001b[A\u001b[A\n",
      "\n",
      "\n",
      "\n",
      "\n",
      "\n",
      "\n",
      "\n",
      "\n",
      "Training Steps:   0%|          | 0/37.0 [00:00<00:09,  3.78it/s] \u001b[A\u001b[A\u001b[A\u001b[A\u001b[A\u001b[A\u001b[A\u001b[A\u001b[A\n",
      "\n",
      "\n",
      "\n",
      "\n",
      "\n",
      "\n",
      "\n",
      "\n",
      "Training Steps: 100%|██████████| 37/37.0 [00:00<00:00,  3.78it/s]\u001b[A\u001b[A\u001b[A\u001b[A\u001b[A\u001b[A\u001b[A\u001b[A\u001b[A\n",
      "\n",
      "\n",
      "\n",
      "\n",
      "\n",
      "\n",
      "\n",
      "\n",
      "Training Steps:   0%|          | 0/37.0 [00:00<00:09,  3.78it/s] \u001b[A\u001b[A\u001b[A\u001b[A\u001b[A\u001b[A\u001b[A\u001b[A\u001b[A\n",
      "\n",
      "\n",
      "\n",
      "\n",
      "\n",
      "\n",
      "\n",
      "\n",
      "Training Steps: 100%|██████████| 37/37.0 [00:00<00:00,  3.78it/s]\u001b[A\u001b[A\u001b[A\u001b[A\u001b[A\u001b[A\u001b[A\u001b[A\u001b[A\n",
      "\n",
      "\n",
      "\n",
      "\n",
      "\n",
      "\n",
      "\n",
      "Training Epochs:  10%|█         | 10/100 [00:01<00:37,  2.42it/s]\u001b[A\u001b[A\u001b[A\u001b[A\u001b[A\u001b[A\u001b[A\u001b[A\n",
      "\n",
      "\n",
      "\n",
      "\n",
      "\n",
      "\n",
      "\n",
      "\n",
      "Training Steps:   0%|          | 0/37.0 [00:00<00:09,  3.78it/s] \u001b[A\u001b[A\u001b[A\u001b[A\u001b[A\u001b[A\u001b[A\u001b[A\u001b[A"
     ]
    },
    {
     "name": "stdout",
     "output_type": "stream",
     "text": [
      "epoch: 10, loss: 1.067\n"
     ]
    },
    {
     "name": "stderr",
     "output_type": "stream",
     "text": [
      "\n",
      "\n",
      "\n",
      "\n",
      "\n",
      "\n",
      "\n",
      "\n",
      "\n",
      "Training Steps: 100%|██████████| 37/37.0 [00:00<00:00,  3.78it/s]\u001b[A\u001b[A\u001b[A\u001b[A\u001b[A\u001b[A\u001b[A\u001b[A\u001b[A\n",
      "\n",
      "\n",
      "\n",
      "\n",
      "\n",
      "\n",
      "\n",
      "\n",
      "Training Steps:   0%|          | 0/37.0 [00:00<00:09,  3.78it/s] \u001b[A\u001b[A\u001b[A\u001b[A\u001b[A\u001b[A\u001b[A\u001b[A\u001b[A\n",
      "\n",
      "\n",
      "\n",
      "\n",
      "\n",
      "\n",
      "\n",
      "\n",
      "Training Steps: 100%|██████████| 37/37.0 [00:00<00:00,  3.78it/s]\u001b[A\u001b[A\u001b[A\u001b[A\u001b[A\u001b[A\u001b[A\u001b[A\u001b[A\n",
      "\n",
      "\n",
      "\n",
      "\n",
      "\n",
      "\n",
      "\n",
      "\n",
      "Training Steps:   0%|          | 0/37.0 [00:00<00:09,  3.78it/s] \u001b[A\u001b[A\u001b[A\u001b[A\u001b[A\u001b[A\u001b[A\u001b[A\u001b[A\n",
      "\n",
      "\n",
      "\n",
      "\n",
      "\n",
      "\n",
      "\n",
      "\n",
      "Training Steps: 100%|██████████| 37/37.0 [00:00<00:00,  3.78it/s]\u001b[A\u001b[A\u001b[A\u001b[A\u001b[A\u001b[A\u001b[A\u001b[A\u001b[A\n",
      "\n",
      "\n",
      "\n",
      "\n",
      "\n",
      "\n",
      "\n",
      "\n",
      "Training Steps:   0%|          | 0/37.0 [00:00<00:09,  3.78it/s] \u001b[A\u001b[A\u001b[A\u001b[A\u001b[A\u001b[A\u001b[A\u001b[A\u001b[A\n",
      "\n",
      "\n",
      "\n",
      "\n",
      "\n",
      "\n",
      "\n",
      "\n",
      "Training Steps: 100%|██████████| 37/37.0 [00:00<00:00,  3.78it/s]\u001b[A\u001b[A\u001b[A\u001b[A\u001b[A\u001b[A\u001b[A\u001b[A\u001b[A\n",
      "\n",
      "\n",
      "\n",
      "\n",
      "\n",
      "\n",
      "\n",
      "Training Epochs:  14%|█▍        | 14/100 [00:01<00:25,  3.35it/s]\u001b[A\u001b[A\u001b[A\u001b[A\u001b[A\u001b[A\u001b[A\u001b[A\n",
      "\n",
      "\n",
      "\n",
      "\n",
      "\n",
      "\n",
      "\n",
      "\n",
      "Training Steps:   0%|          | 0/37.0 [00:00<00:09,  3.78it/s] \u001b[A\u001b[A\u001b[A\u001b[A\u001b[A\u001b[A\u001b[A\u001b[A\u001b[A\n",
      "\n",
      "\n",
      "\n",
      "\n",
      "\n",
      "\n",
      "\n",
      "\n",
      "Training Steps: 100%|██████████| 37/37.0 [00:00<00:00,  3.78it/s]\u001b[A\u001b[A\u001b[A\u001b[A\u001b[A\u001b[A\u001b[A\u001b[A\u001b[A\n",
      "\n",
      "\n",
      "\n",
      "\n",
      "\n",
      "\n",
      "\n",
      "\n",
      "Training Steps:   0%|          | 0/37.0 [00:00<00:09,  3.78it/s] \u001b[A\u001b[A\u001b[A\u001b[A\u001b[A\u001b[A\u001b[A\u001b[A\u001b[A"
     ]
    },
    {
     "name": "stdout",
     "output_type": "stream",
     "text": [
      "epoch: 15, loss: 1.066\n",
      "INFO:tensorflow:Assets written to: models/best_factor2_model_pp_fs/assets\n"
     ]
    },
    {
     "name": "stderr",
     "output_type": "stream",
     "text": [
      "\n",
      "\n",
      "\n",
      "\n",
      "\n",
      "\n",
      "\n",
      "\n",
      "\n",
      "Training Steps: 100%|██████████| 37/37.0 [00:00<00:00,  3.78it/s]\u001b[A\u001b[A\u001b[A\u001b[A\u001b[A\u001b[A\u001b[A\u001b[A\u001b[A\n",
      "\n",
      "\n",
      "\n",
      "\n",
      "\n",
      "\n",
      "\n",
      "\n",
      "Training Steps:   0%|          | 0/37.0 [00:00<00:09,  3.78it/s] \u001b[A\u001b[A\u001b[A\u001b[A\u001b[A\u001b[A\u001b[A\u001b[A\u001b[A\n",
      "\n",
      "\n",
      "\n",
      "\n",
      "\n",
      "\n",
      "\n",
      "\n",
      "Training Steps: 100%|██████████| 37/37.0 [00:00<00:00,  3.78it/s]\u001b[A\u001b[A\u001b[A\u001b[A\u001b[A\u001b[A\u001b[A\u001b[A\u001b[A\n",
      "\n",
      "\n",
      "\n",
      "\n",
      "\n",
      "\n",
      "\n",
      "Training Epochs:  17%|█▋        | 17/100 [00:02<00:22,  3.62it/s]\u001b[A\u001b[A\u001b[A\u001b[A\u001b[A\u001b[A\u001b[A\u001b[A\n",
      "\n",
      "\n",
      "\n",
      "\n",
      "\n",
      "\n",
      "\n",
      "\n",
      "Training Steps:   0%|          | 0/37.0 [00:00<00:09,  3.78it/s] \u001b[A\u001b[A\u001b[A\u001b[A\u001b[A\u001b[A\u001b[A\u001b[A\u001b[A\n",
      "\n",
      "\n",
      "\n",
      "\n",
      "\n",
      "\n",
      "\n",
      "\n",
      "Training Steps: 100%|██████████| 37/37.0 [00:00<00:00,  3.78it/s]\u001b[A\u001b[A\u001b[A\u001b[A\u001b[A\u001b[A\u001b[A\u001b[A\u001b[A\n",
      "\n",
      "\n",
      "\n",
      "\n",
      "\n",
      "\n",
      "\n",
      "\n",
      "Training Steps:   0%|          | 0/37.0 [00:00<00:09,  3.78it/s] \u001b[A\u001b[A\u001b[A\u001b[A\u001b[A\u001b[A\u001b[A\u001b[A\u001b[A\n",
      "\n",
      "\n",
      "\n",
      "\n",
      "\n",
      "\n",
      "\n",
      "\n",
      "Training Steps: 100%|██████████| 37/37.0 [00:00<00:00,  3.78it/s]\u001b[A\u001b[A\u001b[A\u001b[A\u001b[A\u001b[A\u001b[A\u001b[A\u001b[A\n",
      "\n",
      "\n",
      "\n",
      "\n",
      "\n",
      "\n",
      "\n",
      "\n",
      "Training Steps:   0%|          | 0/37.0 [00:00<00:09,  3.78it/s] \u001b[A\u001b[A\u001b[A\u001b[A\u001b[A\u001b[A\u001b[A\u001b[A\u001b[A\n",
      "\n",
      "\n",
      "\n",
      "\n",
      "\n",
      "\n",
      "\n",
      "\n",
      "Training Steps: 100%|██████████| 37/37.0 [00:00<00:00,  3.78it/s]\u001b[A\u001b[A\u001b[A\u001b[A\u001b[A\u001b[A\u001b[A\u001b[A\u001b[A\n",
      "\n",
      "\n",
      "\n",
      "\n",
      "\n",
      "\n",
      "\n",
      "\n",
      "Training Steps:   0%|          | 0/37.0 [00:00<00:09,  3.78it/s] \u001b[A\u001b[A\u001b[A\u001b[A\u001b[A\u001b[A\u001b[A\u001b[A\u001b[A"
     ]
    },
    {
     "name": "stdout",
     "output_type": "stream",
     "text": [
      "epoch: 20, loss: 1.066\n"
     ]
    },
    {
     "name": "stderr",
     "output_type": "stream",
     "text": [
      "\n",
      "\n",
      "\n",
      "\n",
      "\n",
      "\n",
      "\n",
      "\n",
      "\n",
      "Training Steps: 100%|██████████| 37/37.0 [00:00<00:00,  3.78it/s]\u001b[A\u001b[A\u001b[A\u001b[A\u001b[A\u001b[A\u001b[A\u001b[A\u001b[A\n",
      "\n",
      "\n",
      "\n",
      "\n",
      "\n",
      "\n",
      "\n",
      "Training Epochs:  21%|██        | 21/100 [00:02<00:15,  4.94it/s]\u001b[A\u001b[A\u001b[A\u001b[A\u001b[A\u001b[A\u001b[A\u001b[A\n",
      "\n",
      "\n",
      "\n",
      "\n",
      "\n",
      "\n",
      "\n",
      "\n",
      "Training Steps:   0%|          | 0/37.0 [00:00<00:09,  3.78it/s] \u001b[A\u001b[A\u001b[A\u001b[A\u001b[A\u001b[A\u001b[A\u001b[A\u001b[A\n",
      "\n",
      "\n",
      "\n",
      "\n",
      "\n",
      "\n",
      "\n",
      "\n",
      "Training Steps: 100%|██████████| 37/37.0 [00:00<00:00,  3.78it/s]\u001b[A\u001b[A\u001b[A\u001b[A\u001b[A\u001b[A\u001b[A\u001b[A\u001b[A\n",
      "\n",
      "\n",
      "\n",
      "\n",
      "\n",
      "\n",
      "\n",
      "\n",
      "Training Steps:   0%|          | 0/37.0 [00:00<00:09,  3.78it/s] \u001b[A\u001b[A\u001b[A\u001b[A\u001b[A\u001b[A\u001b[A\u001b[A\u001b[A\n",
      "\n",
      "\n",
      "\n",
      "\n",
      "\n",
      "\n",
      "\n",
      "\n",
      "Training Steps: 100%|██████████| 37/37.0 [00:00<00:00,  3.78it/s]\u001b[A\u001b[A\u001b[A\u001b[A\u001b[A\u001b[A\u001b[A\u001b[A\u001b[A\n",
      "\n",
      "\n",
      "\n",
      "\n",
      "\n",
      "\n",
      "\n",
      "\n",
      "Training Steps:   0%|          | 0/37.0 [00:00<00:09,  3.78it/s] \u001b[A\u001b[A\u001b[A\u001b[A\u001b[A\u001b[A\u001b[A\u001b[A\u001b[A\n",
      "\n",
      "\n",
      "\n",
      "\n",
      "\n",
      "\n",
      "\n",
      "\n",
      "Training Steps: 100%|██████████| 37/37.0 [00:00<00:00,  3.78it/s]\u001b[A\u001b[A\u001b[A\u001b[A\u001b[A\u001b[A\u001b[A\u001b[A\u001b[A\n",
      "\n",
      "\n",
      "\n",
      "\n",
      "\n",
      "\n",
      "\n",
      "\n",
      "Training Steps:   0%|          | 0/37.0 [00:00<00:09,  3.78it/s] \u001b[A\u001b[A\u001b[A\u001b[A\u001b[A\u001b[A\u001b[A\u001b[A\u001b[A\n",
      "\n",
      "\n",
      "\n",
      "\n",
      "\n",
      "\n",
      "\n",
      "\n",
      "Training Steps: 100%|██████████| 37/37.0 [00:00<00:00,  3.78it/s]\u001b[A\u001b[A\u001b[A\u001b[A\u001b[A\u001b[A\u001b[A\u001b[A\u001b[A\n",
      "\n",
      "\n",
      "\n",
      "\n",
      "\n",
      "\n",
      "\n",
      "Training Epochs:  25%|██▌       | 25/100 [00:02<00:11,  6.64it/s]\u001b[A\u001b[A\u001b[A\u001b[A\u001b[A\u001b[A\u001b[A\u001b[A\n",
      "\n",
      "\n",
      "\n",
      "\n",
      "\n",
      "\n",
      "\n",
      "\n",
      "Training Steps:   0%|          | 0/37.0 [00:00<00:09,  3.78it/s] \u001b[A\u001b[A\u001b[A\u001b[A\u001b[A\u001b[A\u001b[A\u001b[A\u001b[A"
     ]
    },
    {
     "name": "stdout",
     "output_type": "stream",
     "text": [
      "epoch: 25, loss: 1.067\n"
     ]
    },
    {
     "name": "stderr",
     "output_type": "stream",
     "text": [
      "\n",
      "\n",
      "\n",
      "\n",
      "\n",
      "\n",
      "\n",
      "\n",
      "\n",
      "Training Steps: 100%|██████████| 37/37.0 [00:00<00:00,  3.78it/s]\u001b[A\u001b[A\u001b[A\u001b[A\u001b[A\u001b[A\u001b[A\u001b[A\u001b[A\n",
      "\n",
      "\n",
      "\n",
      "\n",
      "\n",
      "\n",
      "\n",
      "\n",
      "Training Steps:   0%|          | 0/37.0 [00:00<00:09,  3.78it/s] \u001b[A\u001b[A\u001b[A\u001b[A\u001b[A\u001b[A\u001b[A\u001b[A\u001b[A\n",
      "\n",
      "\n",
      "\n",
      "\n",
      "\n",
      "\n",
      "\n",
      "\n",
      "Training Steps: 100%|██████████| 37/37.0 [00:00<00:00,  3.78it/s]\u001b[A\u001b[A\u001b[A\u001b[A\u001b[A\u001b[A\u001b[A\u001b[A\u001b[A\n",
      "\n",
      "\n",
      "\n",
      "\n",
      "\n",
      "\n",
      "\n",
      "\n",
      "Training Steps:   0%|          | 0/37.0 [00:00<00:09,  3.78it/s] \u001b[A\u001b[A\u001b[A\u001b[A\u001b[A\u001b[A\u001b[A\u001b[A\u001b[A\n",
      "\n",
      "\n",
      "\n",
      "\n",
      "\n",
      "\n",
      "\n",
      "\n",
      "Training Steps: 100%|██████████| 37/37.0 [00:00<00:00,  3.78it/s]\u001b[A\u001b[A\u001b[A\u001b[A\u001b[A\u001b[A\u001b[A\u001b[A\u001b[A\n",
      "\n",
      "\n",
      "\n",
      "\n",
      "\n",
      "\n",
      "\n",
      "\n",
      "Training Steps:   0%|          | 0/37.0 [00:00<00:09,  3.78it/s] \u001b[A\u001b[A\u001b[A\u001b[A\u001b[A\u001b[A\u001b[A\u001b[A\u001b[A\n",
      "\n",
      "\n",
      "\n",
      "\n",
      "\n",
      "\n",
      "\n",
      "\n",
      "Training Steps: 100%|██████████| 37/37.0 [00:00<00:00,  3.78it/s]\u001b[A\u001b[A\u001b[A\u001b[A\u001b[A\u001b[A\u001b[A\u001b[A\u001b[A\n",
      "\n",
      "\n",
      "\n",
      "\n",
      "\n",
      "\n",
      "\n",
      "Training Epochs:  29%|██▉       | 29/100 [00:02<00:08,  8.69it/s]\u001b[A\u001b[A\u001b[A\u001b[A\u001b[A\u001b[A\u001b[A\u001b[A\n",
      "\n",
      "\n",
      "\n",
      "\n",
      "\n",
      "\n",
      "\n",
      "\n",
      "Training Steps:   0%|          | 0/37.0 [00:00<00:09,  3.78it/s] \u001b[A\u001b[A\u001b[A\u001b[A\u001b[A\u001b[A\u001b[A\u001b[A\u001b[A\n",
      "\n",
      "\n",
      "\n",
      "\n",
      "\n",
      "\n",
      "\n",
      "\n",
      "Training Steps: 100%|██████████| 37/37.0 [00:00<00:00,  3.78it/s]\u001b[A\u001b[A\u001b[A\u001b[A\u001b[A\u001b[A\u001b[A\u001b[A\u001b[A\n",
      "\n",
      "\n",
      "\n",
      "\n",
      "\n",
      "\n",
      "\n",
      "\n",
      "Training Steps:   0%|          | 0/37.0 [00:00<00:09,  3.78it/s] \u001b[A\u001b[A\u001b[A\u001b[A\u001b[A\u001b[A\u001b[A\u001b[A\u001b[A"
     ]
    },
    {
     "name": "stdout",
     "output_type": "stream",
     "text": [
      "epoch: 30, loss: 1.066\n"
     ]
    },
    {
     "name": "stderr",
     "output_type": "stream",
     "text": [
      "\n",
      "\n",
      "\n",
      "\n",
      "\n",
      "\n",
      "\n",
      "\n",
      "\n",
      "Training Steps: 100%|██████████| 37/37.0 [00:00<00:00,  3.78it/s]\u001b[A\u001b[A\u001b[A\u001b[A\u001b[A\u001b[A\u001b[A\u001b[A\u001b[A\n",
      "\n",
      "\n",
      "\n",
      "\n",
      "\n",
      "\n",
      "\n",
      "\n",
      "Training Steps:   0%|          | 0/37.0 [00:00<00:09,  3.78it/s] \u001b[A\u001b[A\u001b[A\u001b[A\u001b[A\u001b[A\u001b[A\u001b[A\u001b[A\n",
      "\n",
      "\n",
      "\n",
      "\n",
      "\n",
      "\n",
      "\n",
      "\n",
      "Training Steps: 100%|██████████| 37/37.0 [00:00<00:00,  3.78it/s]\u001b[A\u001b[A\u001b[A\u001b[A\u001b[A\u001b[A\u001b[A\u001b[A\u001b[A\n",
      "\n",
      "\n",
      "\n",
      "\n",
      "\n",
      "\n",
      "\n",
      "\n",
      "Training Steps:   0%|          | 0/37.0 [00:00<00:09,  3.78it/s] \u001b[A\u001b[A\u001b[A\u001b[A\u001b[A\u001b[A\u001b[A\u001b[A\u001b[A\n",
      "\n",
      "\n",
      "\n",
      "\n",
      "\n",
      "\n",
      "\n",
      "\n",
      "Training Steps: 100%|██████████| 37/37.0 [00:00<00:00,  3.78it/s]\u001b[A\u001b[A\u001b[A\u001b[A\u001b[A\u001b[A\u001b[A\u001b[A\u001b[A\n",
      "\n",
      "\n",
      "\n",
      "\n",
      "\n",
      "\n",
      "\n",
      "Training Epochs:  33%|███▎      | 33/100 [00:03<00:05, 11.21it/s]\u001b[A\u001b[A\u001b[A\u001b[A\u001b[A\u001b[A\u001b[A\u001b[A\n",
      "\n",
      "\n",
      "\n",
      "\n",
      "\n",
      "\n",
      "\n",
      "\n",
      "Training Steps:   0%|          | 0/37.0 [00:00<00:09,  3.78it/s] \u001b[A\u001b[A\u001b[A\u001b[A\u001b[A\u001b[A\u001b[A\u001b[A\u001b[A\n",
      "\n",
      "\n",
      "\n",
      "\n",
      "\n",
      "\n",
      "\n",
      "\n",
      "Training Steps: 100%|██████████| 37/37.0 [00:00<00:00,  3.78it/s]\u001b[A\u001b[A\u001b[A\u001b[A\u001b[A\u001b[A\u001b[A\u001b[A\u001b[A\n",
      "\n",
      "\n",
      "\n",
      "\n",
      "\n",
      "\n",
      "\n",
      "\n",
      "Training Steps:   0%|          | 0/37.0 [00:00<00:09,  3.78it/s] \u001b[A\u001b[A\u001b[A\u001b[A\u001b[A\u001b[A\u001b[A\u001b[A\u001b[A\n",
      "\n",
      "\n",
      "\n",
      "\n",
      "\n",
      "\n",
      "\n",
      "\n",
      "Training Steps: 100%|██████████| 37/37.0 [00:00<00:00,  3.78it/s]\u001b[A\u001b[A\u001b[A\u001b[A\u001b[A\u001b[A\u001b[A\u001b[A\u001b[A\n",
      "\n",
      "\n",
      "\n",
      "\n",
      "\n",
      "\n",
      "\n",
      "\n",
      "Training Steps:   0%|          | 0/37.0 [00:00<00:09,  3.78it/s] \u001b[A\u001b[A\u001b[A\u001b[A\u001b[A\u001b[A\u001b[A\u001b[A\u001b[A"
     ]
    },
    {
     "name": "stdout",
     "output_type": "stream",
     "text": [
      "epoch: 35, loss: 1.066\n"
     ]
    },
    {
     "name": "stderr",
     "output_type": "stream",
     "text": [
      "\n",
      "\n",
      "\n",
      "\n",
      "\n",
      "\n",
      "\n",
      "\n",
      "\n",
      "Training Steps: 100%|██████████| 37/37.0 [00:00<00:00,  3.78it/s]\u001b[A\u001b[A\u001b[A\u001b[A\u001b[A\u001b[A\u001b[A\u001b[A\u001b[A\n",
      "\n",
      "\n",
      "\n",
      "\n",
      "\n",
      "\n",
      "\n",
      "\n",
      "Training Steps:   0%|          | 0/37.0 [00:00<00:09,  3.78it/s] \u001b[A\u001b[A\u001b[A\u001b[A\u001b[A\u001b[A\u001b[A\u001b[A\u001b[A\n",
      "\n",
      "\n",
      "\n",
      "\n",
      "\n",
      "\n",
      "\n",
      "\n",
      "Training Steps: 100%|██████████| 37/37.0 [00:00<00:00,  3.78it/s]\u001b[A\u001b[A\u001b[A\u001b[A\u001b[A\u001b[A\u001b[A\u001b[A\u001b[A\n",
      "\n",
      "\n",
      "\n",
      "\n",
      "\n",
      "\n",
      "\n",
      "Training Epochs:  37%|███▋      | 37/100 [00:03<00:04, 14.02it/s]\u001b[A\u001b[A\u001b[A\u001b[A\u001b[A\u001b[A\u001b[A\u001b[A\n",
      "\n",
      "\n",
      "\n",
      "\n",
      "\n",
      "\n",
      "\n",
      "\n",
      "Training Steps:   0%|          | 0/37.0 [00:00<00:09,  3.78it/s] \u001b[A\u001b[A\u001b[A\u001b[A\u001b[A\u001b[A\u001b[A\u001b[A\u001b[A\n",
      "\n",
      "\n",
      "\n",
      "\n",
      "\n",
      "\n",
      "\n",
      "\n",
      "Training Steps: 100%|██████████| 37/37.0 [00:00<00:00,  3.78it/s]\u001b[A\u001b[A\u001b[A\u001b[A\u001b[A\u001b[A\u001b[A\u001b[A\u001b[A\n",
      "\n",
      "\n",
      "\n",
      "\n",
      "\n",
      "\n",
      "\n",
      "\n",
      "Training Steps:   0%|          | 0/37.0 [00:00<00:09,  3.78it/s] \u001b[A\u001b[A\u001b[A\u001b[A\u001b[A\u001b[A\u001b[A\u001b[A\u001b[A\n",
      "\n",
      "\n",
      "\n",
      "\n",
      "\n",
      "\n",
      "\n",
      "\n",
      "Training Steps: 100%|██████████| 37/37.0 [00:00<00:00,  3.78it/s]\u001b[A\u001b[A\u001b[A\u001b[A\u001b[A\u001b[A\u001b[A\u001b[A\u001b[A\n",
      "\n",
      "\n",
      "\n",
      "\n",
      "\n",
      "\n",
      "\n",
      "\n",
      "Training Steps:   0%|          | 0/37.0 [00:00<00:09,  3.78it/s] \u001b[A\u001b[A\u001b[A\u001b[A\u001b[A\u001b[A\u001b[A\u001b[A\u001b[A\n",
      "\n",
      "\n",
      "\n",
      "\n",
      "\n",
      "\n",
      "\n",
      "\n",
      "Training Steps: 100%|██████████| 37/37.0 [00:00<00:00,  3.78it/s]\u001b[A\u001b[A\u001b[A\u001b[A\u001b[A\u001b[A\u001b[A\u001b[A\u001b[A\n",
      "\n",
      "\n",
      "\n",
      "\n",
      "\n",
      "\n",
      "\n",
      "\n",
      "Training Steps:   0%|          | 0/37.0 [00:00<00:09,  3.78it/s] \u001b[A\u001b[A\u001b[A\u001b[A\u001b[A\u001b[A\u001b[A\u001b[A\u001b[A"
     ]
    },
    {
     "name": "stdout",
     "output_type": "stream",
     "text": [
      "epoch: 40, loss: 1.066\n",
      "INFO:tensorflow:Assets written to: models/best_factor2_model_pp_fs/assets\n"
     ]
    },
    {
     "name": "stderr",
     "output_type": "stream",
     "text": [
      "\n",
      "\n",
      "\n",
      "\n",
      "\n",
      "\n",
      "\n",
      "\n",
      "\n",
      "Training Steps: 100%|██████████| 37/37.0 [00:00<00:00,  3.78it/s]\u001b[A\u001b[A\u001b[A\u001b[A\u001b[A\u001b[A\u001b[A\u001b[A\u001b[A\n",
      "\n",
      "\n",
      "\n",
      "\n",
      "\n",
      "\n",
      "\n",
      "Training Epochs:  41%|████      | 41/100 [00:03<00:06,  9.55it/s]\u001b[A\u001b[A\u001b[A\u001b[A\u001b[A\u001b[A\u001b[A\u001b[A\n",
      "\n",
      "\n",
      "\n",
      "\n",
      "\n",
      "\n",
      "\n",
      "\n",
      "Training Steps:   0%|          | 0/37.0 [00:00<00:09,  3.78it/s] \u001b[A\u001b[A\u001b[A\u001b[A\u001b[A\u001b[A\u001b[A\u001b[A\u001b[A\n",
      "\n",
      "\n",
      "\n",
      "\n",
      "\n",
      "\n",
      "\n",
      "\n",
      "Training Steps: 100%|██████████| 37/37.0 [00:00<00:00,  3.78it/s]\u001b[A\u001b[A\u001b[A\u001b[A\u001b[A\u001b[A\u001b[A\u001b[A\u001b[A\n",
      "\n",
      "\n",
      "\n",
      "\n",
      "\n",
      "\n",
      "\n",
      "\n",
      "Training Steps:   0%|          | 0/37.0 [00:00<00:09,  3.78it/s] \u001b[A\u001b[A\u001b[A\u001b[A\u001b[A\u001b[A\u001b[A\u001b[A\u001b[A\n",
      "\n",
      "\n",
      "\n",
      "\n",
      "\n",
      "\n",
      "\n",
      "\n",
      "Training Steps: 100%|██████████| 37/37.0 [00:00<00:00,  3.78it/s]\u001b[A\u001b[A\u001b[A\u001b[A\u001b[A\u001b[A\u001b[A\u001b[A\u001b[A\n",
      "\n",
      "\n",
      "\n",
      "\n",
      "\n",
      "\n",
      "\n",
      "\n",
      "Training Steps:   0%|          | 0/37.0 [00:00<00:09,  3.78it/s] \u001b[A\u001b[A\u001b[A\u001b[A\u001b[A\u001b[A\u001b[A\u001b[A\u001b[A\n",
      "\n",
      "\n",
      "\n",
      "\n",
      "\n",
      "\n",
      "\n",
      "\n",
      "Training Steps: 100%|██████████| 37/37.0 [00:00<00:00,  3.78it/s]\u001b[A\u001b[A\u001b[A\u001b[A\u001b[A\u001b[A\u001b[A\u001b[A\u001b[A\n",
      "\n",
      "\n",
      "\n",
      "\n",
      "\n",
      "\n",
      "\n",
      "\n",
      "Training Steps:   0%|          | 0/37.0 [00:00<00:09,  3.78it/s] \u001b[A\u001b[A\u001b[A\u001b[A\u001b[A\u001b[A\u001b[A\u001b[A\u001b[A\n",
      "\n",
      "\n",
      "\n",
      "\n",
      "\n",
      "\n",
      "\n",
      "\n",
      "Training Steps: 100%|██████████| 37/37.0 [00:00<00:00,  3.78it/s]\u001b[A\u001b[A\u001b[A\u001b[A\u001b[A\u001b[A\u001b[A\u001b[A\u001b[A\n",
      "\n",
      "\n",
      "\n",
      "\n",
      "\n",
      "\n",
      "\n",
      "Training Epochs:  45%|████▌     | 45/100 [00:04<00:04, 12.18it/s]\u001b[A\u001b[A\u001b[A\u001b[A\u001b[A\u001b[A\u001b[A\u001b[A\n",
      "\n",
      "\n",
      "\n",
      "\n",
      "\n",
      "\n",
      "\n",
      "\n",
      "Training Steps:   0%|          | 0/37.0 [00:00<00:09,  3.78it/s] \u001b[A\u001b[A\u001b[A\u001b[A\u001b[A\u001b[A\u001b[A\u001b[A\u001b[A"
     ]
    },
    {
     "name": "stdout",
     "output_type": "stream",
     "text": [
      "epoch: 45, loss: 1.066\n"
     ]
    },
    {
     "name": "stderr",
     "output_type": "stream",
     "text": [
      "\n",
      "\n",
      "\n",
      "\n",
      "\n",
      "\n",
      "\n",
      "\n",
      "\n",
      "Training Steps: 100%|██████████| 37/37.0 [00:00<00:00,  3.78it/s]\u001b[A\u001b[A\u001b[A\u001b[A\u001b[A\u001b[A\u001b[A\u001b[A\u001b[A\n",
      "\n",
      "\n",
      "\n",
      "\n",
      "\n",
      "\n",
      "\n",
      "\n",
      "Training Steps:   0%|          | 0/37.0 [00:00<00:09,  3.78it/s] \u001b[A\u001b[A\u001b[A\u001b[A\u001b[A\u001b[A\u001b[A\u001b[A\u001b[A\n",
      "\n",
      "\n",
      "\n",
      "\n",
      "\n",
      "\n",
      "\n",
      "\n",
      "Training Steps: 100%|██████████| 37/37.0 [00:00<00:00,  3.78it/s]\u001b[A\u001b[A\u001b[A\u001b[A\u001b[A\u001b[A\u001b[A\u001b[A\u001b[A\n",
      "\n",
      "\n",
      "\n",
      "\n",
      "\n",
      "\n",
      "\n",
      "\n",
      "Training Steps:   0%|          | 0/37.0 [00:00<00:09,  3.78it/s] \u001b[A\u001b[A\u001b[A\u001b[A\u001b[A\u001b[A\u001b[A\u001b[A\u001b[A\n",
      "\n",
      "\n",
      "\n",
      "\n",
      "\n",
      "\n",
      "\n",
      "\n",
      "Training Steps: 100%|██████████| 37/37.0 [00:00<00:00,  3.78it/s]\u001b[A\u001b[A\u001b[A\u001b[A\u001b[A\u001b[A\u001b[A\u001b[A\u001b[A\n",
      "\n",
      "\n",
      "\n",
      "\n",
      "\n",
      "\n",
      "\n",
      "\n",
      "Training Steps:   0%|          | 0/37.0 [00:00<00:09,  3.78it/s] \u001b[A\u001b[A\u001b[A\u001b[A\u001b[A\u001b[A\u001b[A\u001b[A\u001b[A\n",
      "\n",
      "\n",
      "\n",
      "\n",
      "\n",
      "\n",
      "\n",
      "\n",
      "Training Steps: 100%|██████████| 37/37.0 [00:00<00:00,  3.78it/s]\u001b[A\u001b[A\u001b[A\u001b[A\u001b[A\u001b[A\u001b[A\u001b[A\u001b[A\n",
      "\n",
      "\n",
      "\n",
      "\n",
      "\n",
      "\n",
      "\n",
      "Training Epochs:  49%|████▉     | 49/100 [00:04<00:03, 15.09it/s]\u001b[A\u001b[A\u001b[A\u001b[A\u001b[A\u001b[A\u001b[A\u001b[A\n",
      "\n",
      "\n",
      "\n",
      "\n",
      "\n",
      "\n",
      "\n",
      "\n",
      "Training Steps:   0%|          | 0/37.0 [00:00<00:09,  3.78it/s] \u001b[A\u001b[A\u001b[A\u001b[A\u001b[A\u001b[A\u001b[A\u001b[A\u001b[A\n",
      "\n",
      "\n",
      "\n",
      "\n",
      "\n",
      "\n",
      "\n",
      "\n",
      "Training Steps: 100%|██████████| 37/37.0 [00:00<00:00,  3.78it/s]\u001b[A\u001b[A\u001b[A\u001b[A\u001b[A\u001b[A\u001b[A\u001b[A\u001b[A\n",
      "\n",
      "\n",
      "\n",
      "\n",
      "\n",
      "\n",
      "\n",
      "\n",
      "Training Steps:   0%|          | 0/37.0 [00:00<00:09,  3.78it/s] \u001b[A\u001b[A\u001b[A\u001b[A\u001b[A\u001b[A\u001b[A\u001b[A\u001b[A"
     ]
    },
    {
     "name": "stdout",
     "output_type": "stream",
     "text": [
      "epoch: 50, loss: 1.066\n"
     ]
    },
    {
     "name": "stderr",
     "output_type": "stream",
     "text": [
      "\n",
      "\n",
      "\n",
      "\n",
      "\n",
      "\n",
      "\n",
      "\n",
      "\n",
      "Training Steps: 100%|██████████| 37/37.0 [00:00<00:00,  3.78it/s]\u001b[A\u001b[A\u001b[A\u001b[A\u001b[A\u001b[A\u001b[A\u001b[A\u001b[A\n",
      "\n",
      "\n",
      "\n",
      "\n",
      "\n",
      "\n",
      "\n",
      "\n",
      "Training Steps:   0%|          | 0/37.0 [00:00<00:09,  3.78it/s] \u001b[A\u001b[A\u001b[A\u001b[A\u001b[A\u001b[A\u001b[A\u001b[A\u001b[A\n",
      "\n",
      "\n",
      "\n",
      "\n",
      "\n",
      "\n",
      "\n",
      "\n",
      "Training Steps: 100%|██████████| 37/37.0 [00:00<00:00,  3.78it/s]\u001b[A\u001b[A\u001b[A\u001b[A\u001b[A\u001b[A\u001b[A\u001b[A\u001b[A\n",
      "\n",
      "\n",
      "\n",
      "\n",
      "\n",
      "\n",
      "\n",
      "\n",
      "Training Steps:   0%|          | 0/37.0 [00:00<00:09,  3.78it/s] \u001b[A\u001b[A\u001b[A\u001b[A\u001b[A\u001b[A\u001b[A\u001b[A\u001b[A\n",
      "\n",
      "\n",
      "\n",
      "\n",
      "\n",
      "\n",
      "\n",
      "\n",
      "Training Steps: 100%|██████████| 37/37.0 [00:00<00:00,  3.78it/s]\u001b[A\u001b[A\u001b[A\u001b[A\u001b[A\u001b[A\u001b[A\u001b[A\u001b[A\n",
      "\n",
      "\n",
      "\n",
      "\n",
      "\n",
      "\n",
      "\n",
      "Training Epochs:  53%|█████▎    | 53/100 [00:04<00:02, 18.10it/s]\u001b[A\u001b[A\u001b[A\u001b[A\u001b[A\u001b[A\u001b[A\u001b[A\n",
      "\n",
      "\n",
      "\n",
      "\n",
      "\n",
      "\n",
      "\n",
      "\n",
      "Training Steps:   0%|          | 0/37.0 [00:00<00:09,  3.78it/s] \u001b[A\u001b[A\u001b[A\u001b[A\u001b[A\u001b[A\u001b[A\u001b[A\u001b[A\n",
      "\n",
      "\n",
      "\n",
      "\n",
      "\n",
      "\n",
      "\n",
      "\n",
      "Training Steps: 100%|██████████| 37/37.0 [00:00<00:00,  3.78it/s]\u001b[A\u001b[A\u001b[A\u001b[A\u001b[A\u001b[A\u001b[A\u001b[A\u001b[A\n",
      "\n",
      "\n",
      "\n",
      "\n",
      "\n",
      "\n",
      "\n",
      "\n",
      "Training Steps:   0%|          | 0/37.0 [00:00<00:09,  3.78it/s] \u001b[A\u001b[A\u001b[A\u001b[A\u001b[A\u001b[A\u001b[A\u001b[A\u001b[A\n",
      "\n",
      "\n",
      "\n",
      "\n",
      "\n",
      "\n",
      "\n",
      "\n",
      "Training Steps: 100%|██████████| 37/37.0 [00:00<00:00,  3.78it/s]\u001b[A\u001b[A\u001b[A\u001b[A\u001b[A\u001b[A\u001b[A\u001b[A\u001b[A\n",
      "\n",
      "\n",
      "\n",
      "\n",
      "\n",
      "\n",
      "\n",
      "\n",
      "Training Steps:   0%|          | 0/37.0 [00:00<00:09,  3.78it/s] \u001b[A\u001b[A\u001b[A\u001b[A\u001b[A\u001b[A\u001b[A\u001b[A\u001b[A"
     ]
    },
    {
     "name": "stdout",
     "output_type": "stream",
     "text": [
      "epoch: 55, loss: 1.066\n"
     ]
    },
    {
     "name": "stderr",
     "output_type": "stream",
     "text": [
      "\n",
      "\n",
      "\n",
      "\n",
      "\n",
      "\n",
      "\n",
      "\n",
      "\n",
      "Training Steps: 100%|██████████| 37/37.0 [00:00<00:00,  3.78it/s]\u001b[A\u001b[A\u001b[A\u001b[A\u001b[A\u001b[A\u001b[A\u001b[A\u001b[A\n",
      "\n",
      "\n",
      "\n",
      "\n",
      "\n",
      "\n",
      "\n",
      "\n",
      "Training Steps:   0%|          | 0/37.0 [00:00<00:09,  3.78it/s] \u001b[A\u001b[A\u001b[A\u001b[A\u001b[A\u001b[A\u001b[A\u001b[A\u001b[A\n",
      "\n",
      "\n",
      "\n",
      "\n",
      "\n",
      "\n",
      "\n",
      "\n",
      "Training Steps: 100%|██████████| 37/37.0 [00:00<00:00,  3.78it/s]\u001b[A\u001b[A\u001b[A\u001b[A\u001b[A\u001b[A\u001b[A\u001b[A\u001b[A\n",
      "\n",
      "\n",
      "\n",
      "\n",
      "\n",
      "\n",
      "\n",
      "Training Epochs:  57%|█████▋    | 57/100 [00:04<00:02, 21.02it/s]\u001b[A\u001b[A\u001b[A\u001b[A\u001b[A\u001b[A\u001b[A\u001b[A\n",
      "\n",
      "\n",
      "\n",
      "\n",
      "\n",
      "\n",
      "\n",
      "\n",
      "Training Steps:   0%|          | 0/37.0 [00:00<00:09,  3.78it/s] \u001b[A\u001b[A\u001b[A\u001b[A\u001b[A\u001b[A\u001b[A\u001b[A\u001b[A\n",
      "\n",
      "\n",
      "\n",
      "\n",
      "\n",
      "\n",
      "\n",
      "\n",
      "Training Steps: 100%|██████████| 37/37.0 [00:00<00:00,  3.78it/s]\u001b[A\u001b[A\u001b[A\u001b[A\u001b[A\u001b[A\u001b[A\u001b[A\u001b[A\n",
      "\n",
      "\n",
      "\n",
      "\n",
      "\n",
      "\n",
      "\n",
      "\n",
      "Training Steps:   0%|          | 0/37.0 [00:00<00:09,  3.78it/s] \u001b[A\u001b[A\u001b[A\u001b[A\u001b[A\u001b[A\u001b[A\u001b[A\u001b[A\n",
      "\n",
      "\n",
      "\n",
      "\n",
      "\n",
      "\n",
      "\n",
      "\n",
      "Training Steps: 100%|██████████| 37/37.0 [00:00<00:00,  3.78it/s]\u001b[A\u001b[A\u001b[A\u001b[A\u001b[A\u001b[A\u001b[A\u001b[A\u001b[A\n",
      "\n",
      "\n",
      "\n",
      "\n",
      "\n",
      "\n",
      "\n",
      "\n",
      "Training Steps:   0%|          | 0/37.0 [00:00<00:09,  3.78it/s] \u001b[A\u001b[A\u001b[A\u001b[A\u001b[A\u001b[A\u001b[A\u001b[A\u001b[A\n",
      "\n",
      "\n",
      "\n",
      "\n",
      "\n",
      "\n",
      "\n",
      "\n",
      "Training Steps: 100%|██████████| 37/37.0 [00:00<00:00,  3.78it/s]\u001b[A\u001b[A\u001b[A\u001b[A\u001b[A\u001b[A\u001b[A\u001b[A\u001b[A\n",
      "\n",
      "\n",
      "\n",
      "\n",
      "\n",
      "\n",
      "\n",
      "\n",
      "Training Steps:   0%|          | 0/37.0 [00:00<00:09,  3.78it/s] \u001b[A\u001b[A\u001b[A\u001b[A\u001b[A\u001b[A\u001b[A\u001b[A\u001b[A"
     ]
    },
    {
     "name": "stdout",
     "output_type": "stream",
     "text": [
      "epoch: 60, loss: 1.066\n"
     ]
    },
    {
     "name": "stderr",
     "output_type": "stream",
     "text": [
      "\n",
      "\n",
      "\n",
      "\n",
      "\n",
      "\n",
      "\n",
      "\n",
      "\n",
      "Training Steps: 100%|██████████| 37/37.0 [00:00<00:00,  3.78it/s]\u001b[A\u001b[A\u001b[A\u001b[A\u001b[A\u001b[A\u001b[A\u001b[A\u001b[A\n",
      "\n",
      "\n",
      "\n",
      "\n",
      "\n",
      "\n",
      "\n",
      "Training Epochs:  61%|██████    | 61/100 [00:04<00:01, 23.71it/s]\u001b[A\u001b[A\u001b[A\u001b[A\u001b[A\u001b[A\u001b[A\u001b[A\n",
      "\n",
      "\n",
      "\n",
      "\n",
      "\n",
      "\n",
      "\n",
      "\n",
      "Training Steps:   0%|          | 0/37.0 [00:00<00:09,  3.78it/s] \u001b[A\u001b[A\u001b[A\u001b[A\u001b[A\u001b[A\u001b[A\u001b[A\u001b[A\n",
      "\n",
      "\n",
      "\n",
      "\n",
      "\n",
      "\n",
      "\n",
      "\n",
      "Training Steps: 100%|██████████| 37/37.0 [00:00<00:00,  3.78it/s]\u001b[A\u001b[A\u001b[A\u001b[A\u001b[A\u001b[A\u001b[A\u001b[A\u001b[A\n",
      "\n",
      "\n",
      "\n",
      "\n",
      "\n",
      "\n",
      "\n",
      "\n",
      "Training Steps:   0%|          | 0/37.0 [00:00<00:09,  3.78it/s] \u001b[A\u001b[A\u001b[A\u001b[A\u001b[A\u001b[A\u001b[A\u001b[A\u001b[A\n",
      "\n",
      "\n",
      "\n",
      "\n",
      "\n",
      "\n",
      "\n",
      "\n",
      "Training Steps: 100%|██████████| 37/37.0 [00:00<00:00,  3.78it/s]\u001b[A\u001b[A\u001b[A\u001b[A\u001b[A\u001b[A\u001b[A\u001b[A\u001b[A\n",
      "\n",
      "\n",
      "\n",
      "\n",
      "\n",
      "\n",
      "\n",
      "\n",
      "Training Steps:   0%|          | 0/37.0 [00:00<00:09,  3.78it/s] \u001b[A\u001b[A\u001b[A\u001b[A\u001b[A\u001b[A\u001b[A\u001b[A\u001b[A\n",
      "\n",
      "\n",
      "\n",
      "\n",
      "\n",
      "\n",
      "\n",
      "\n",
      "Training Steps: 100%|██████████| 37/37.0 [00:00<00:00,  3.78it/s]\u001b[A\u001b[A\u001b[A\u001b[A\u001b[A\u001b[A\u001b[A\u001b[A\u001b[A\n",
      "\n",
      "\n",
      "\n",
      "\n",
      "\n",
      "\n",
      "\n",
      "\n",
      "Training Steps:   0%|          | 0/37.0 [00:00<00:09,  3.78it/s] \u001b[A\u001b[A\u001b[A\u001b[A\u001b[A\u001b[A\u001b[A\u001b[A\u001b[A\n",
      "\n",
      "\n",
      "\n",
      "\n",
      "\n",
      "\n",
      "\n",
      "\n",
      "Training Steps: 100%|██████████| 37/37.0 [00:00<00:00,  3.78it/s]\u001b[A\u001b[A\u001b[A\u001b[A\u001b[A\u001b[A\u001b[A\u001b[A\u001b[A\n",
      "\n",
      "\n",
      "\n",
      "\n",
      "\n",
      "\n",
      "\n",
      "Training Epochs:  65%|██████▌   | 65/100 [00:04<00:01, 25.82it/s]\u001b[A\u001b[A\u001b[A\u001b[A\u001b[A\u001b[A\u001b[A\u001b[A\n",
      "\n",
      "\n",
      "\n",
      "\n",
      "\n",
      "\n",
      "\n",
      "\n",
      "Training Steps:   0%|          | 0/37.0 [00:00<00:09,  3.78it/s] \u001b[A\u001b[A\u001b[A\u001b[A\u001b[A\u001b[A\u001b[A\u001b[A\u001b[A"
     ]
    },
    {
     "name": "stdout",
     "output_type": "stream",
     "text": [
      "epoch: 65, loss: 1.066\n"
     ]
    },
    {
     "name": "stderr",
     "output_type": "stream",
     "text": [
      "\n",
      "\n",
      "\n",
      "\n",
      "\n",
      "\n",
      "\n",
      "\n",
      "\n",
      "Training Steps: 100%|██████████| 37/37.0 [00:00<00:00,  3.78it/s]\u001b[A\u001b[A\u001b[A\u001b[A\u001b[A\u001b[A\u001b[A\u001b[A\u001b[A\n",
      "\n",
      "\n",
      "\n",
      "\n",
      "\n",
      "\n",
      "\n",
      "\n",
      "Training Steps:   0%|          | 0/37.0 [00:00<00:09,  3.78it/s] \u001b[A\u001b[A\u001b[A\u001b[A\u001b[A\u001b[A\u001b[A\u001b[A\u001b[A\n",
      "\n",
      "\n",
      "\n",
      "\n",
      "\n",
      "\n",
      "\n",
      "\n",
      "Training Steps: 100%|██████████| 37/37.0 [00:00<00:00,  3.78it/s]\u001b[A\u001b[A\u001b[A\u001b[A\u001b[A\u001b[A\u001b[A\u001b[A\u001b[A\n",
      "\n",
      "\n",
      "\n",
      "\n",
      "\n",
      "\n",
      "\n",
      "\n",
      "Training Steps:   0%|          | 0/37.0 [00:00<00:09,  3.78it/s] \u001b[A\u001b[A\u001b[A\u001b[A\u001b[A\u001b[A\u001b[A\u001b[A\u001b[A\n",
      "\n",
      "\n",
      "\n",
      "\n",
      "\n",
      "\n",
      "\n",
      "\n",
      "Training Steps: 100%|██████████| 37/37.0 [00:00<00:00,  3.78it/s]\u001b[A\u001b[A\u001b[A\u001b[A\u001b[A\u001b[A\u001b[A\u001b[A\u001b[A\n",
      "\n",
      "\n",
      "\n",
      "\n",
      "\n",
      "\n",
      "\n",
      "\n",
      "Training Steps:   0%|          | 0/37.0 [00:00<00:09,  3.78it/s] \u001b[A\u001b[A\u001b[A\u001b[A\u001b[A\u001b[A\u001b[A\u001b[A\u001b[A\n",
      "\n",
      "\n",
      "\n",
      "\n",
      "\n",
      "\n",
      "\n",
      "\n",
      "Training Steps: 100%|██████████| 37/37.0 [00:00<00:00,  3.78it/s]\u001b[A\u001b[A\u001b[A\u001b[A\u001b[A\u001b[A\u001b[A\u001b[A\u001b[A\n",
      "\n",
      "\n",
      "\n",
      "\n",
      "\n",
      "\n",
      "\n",
      "Training Epochs:  69%|██████▉   | 69/100 [00:04<00:01, 27.52it/s]\u001b[A\u001b[A\u001b[A\u001b[A\u001b[A\u001b[A\u001b[A\u001b[A\n",
      "\n",
      "\n",
      "\n",
      "\n",
      "\n",
      "\n",
      "\n",
      "\n",
      "Training Steps:   0%|          | 0/37.0 [00:00<00:09,  3.78it/s] \u001b[A\u001b[A\u001b[A\u001b[A\u001b[A\u001b[A\u001b[A\u001b[A\u001b[A\n",
      "\n",
      "\n",
      "\n",
      "\n",
      "\n",
      "\n",
      "\n",
      "\n",
      "Training Steps: 100%|██████████| 37/37.0 [00:00<00:00,  3.78it/s]\u001b[A\u001b[A\u001b[A\u001b[A\u001b[A\u001b[A\u001b[A\u001b[A\u001b[A\n",
      "\n",
      "\n",
      "\n",
      "\n",
      "\n",
      "\n",
      "\n",
      "\n",
      "Training Steps:   0%|          | 0/37.0 [00:00<00:09,  3.78it/s] \u001b[A\u001b[A\u001b[A\u001b[A\u001b[A\u001b[A\u001b[A\u001b[A\u001b[A"
     ]
    },
    {
     "name": "stdout",
     "output_type": "stream",
     "text": [
      "epoch: 70, loss: 1.066\n"
     ]
    },
    {
     "name": "stderr",
     "output_type": "stream",
     "text": [
      "\n",
      "\n",
      "\n",
      "\n",
      "\n",
      "\n",
      "\n",
      "\n",
      "\n",
      "Training Steps: 100%|██████████| 37/37.0 [00:00<00:00,  3.78it/s]\u001b[A\u001b[A\u001b[A\u001b[A\u001b[A\u001b[A\u001b[A\u001b[A\u001b[A\n",
      "\n",
      "\n",
      "\n",
      "\n",
      "\n",
      "\n",
      "\n",
      "\n",
      "Training Steps:   0%|          | 0/37.0 [00:00<00:09,  3.78it/s] \u001b[A\u001b[A\u001b[A\u001b[A\u001b[A\u001b[A\u001b[A\u001b[A\u001b[A\n",
      "\n",
      "\n",
      "\n",
      "\n",
      "\n",
      "\n",
      "\n",
      "\n",
      "Training Steps: 100%|██████████| 37/37.0 [00:00<00:00,  3.78it/s]\u001b[A\u001b[A\u001b[A\u001b[A\u001b[A\u001b[A\u001b[A\u001b[A\u001b[A\n",
      "\n",
      "\n",
      "\n",
      "\n",
      "\n",
      "\n",
      "\n",
      "\n",
      "Training Steps:   0%|          | 0/37.0 [00:00<00:09,  3.78it/s] \u001b[A\u001b[A\u001b[A\u001b[A\u001b[A\u001b[A\u001b[A\u001b[A\u001b[A\n",
      "\n",
      "\n",
      "\n",
      "\n",
      "\n",
      "\n",
      "\n",
      "\n",
      "Training Steps: 100%|██████████| 37/37.0 [00:00<00:00,  3.78it/s]\u001b[A\u001b[A\u001b[A\u001b[A\u001b[A\u001b[A\u001b[A\u001b[A\u001b[A\n",
      "\n",
      "\n",
      "\n",
      "\n",
      "\n",
      "\n",
      "\n",
      "Training Epochs:  73%|███████▎  | 73/100 [00:04<00:00, 28.72it/s]\u001b[A\u001b[A\u001b[A\u001b[A\u001b[A\u001b[A\u001b[A\u001b[A\n",
      "\n",
      "\n",
      "\n",
      "\n",
      "\n",
      "\n",
      "\n",
      "\n",
      "Training Steps:   0%|          | 0/37.0 [00:00<00:09,  3.78it/s] \u001b[A\u001b[A\u001b[A\u001b[A\u001b[A\u001b[A\u001b[A\u001b[A\u001b[A\n",
      "\n",
      "\n",
      "\n",
      "\n",
      "\n",
      "\n",
      "\n",
      "\n",
      "Training Steps: 100%|██████████| 37/37.0 [00:00<00:00,  3.78it/s]\u001b[A\u001b[A\u001b[A\u001b[A\u001b[A\u001b[A\u001b[A\u001b[A\u001b[A\n",
      "\n",
      "\n",
      "\n",
      "\n",
      "\n",
      "\n",
      "\n",
      "\n",
      "Training Steps:   0%|          | 0/37.0 [00:00<00:09,  3.78it/s] \u001b[A\u001b[A\u001b[A\u001b[A\u001b[A\u001b[A\u001b[A\u001b[A\u001b[A\n",
      "\n",
      "\n",
      "\n",
      "\n",
      "\n",
      "\n",
      "\n",
      "\n",
      "Training Steps: 100%|██████████| 37/37.0 [00:00<00:00,  3.78it/s]\u001b[A\u001b[A\u001b[A\u001b[A\u001b[A\u001b[A\u001b[A\u001b[A\u001b[A\n",
      "\n",
      "\n",
      "\n",
      "\n",
      "\n",
      "\n",
      "\n",
      "\n",
      "Training Steps:   0%|          | 0/37.0 [00:00<00:09,  3.78it/s] \u001b[A\u001b[A\u001b[A\u001b[A\u001b[A\u001b[A\u001b[A\u001b[A\u001b[A"
     ]
    },
    {
     "name": "stdout",
     "output_type": "stream",
     "text": [
      "epoch: 75, loss: 1.066\n"
     ]
    },
    {
     "name": "stderr",
     "output_type": "stream",
     "text": [
      "\n",
      "\n",
      "\n",
      "\n",
      "\n",
      "\n",
      "\n",
      "\n",
      "\n",
      "Training Steps: 100%|██████████| 37/37.0 [00:00<00:00,  3.78it/s]\u001b[A\u001b[A\u001b[A\u001b[A\u001b[A\u001b[A\u001b[A\u001b[A\u001b[A\n",
      "\n",
      "\n",
      "\n",
      "\n",
      "\n",
      "\n",
      "\n",
      "\n",
      "Training Steps:   0%|          | 0/37.0 [00:00<00:09,  3.78it/s] \u001b[A\u001b[A\u001b[A\u001b[A\u001b[A\u001b[A\u001b[A\u001b[A\u001b[A\n",
      "\n",
      "\n",
      "\n",
      "\n",
      "\n",
      "\n",
      "\n",
      "\n",
      "Training Steps: 100%|██████████| 37/37.0 [00:00<00:00,  3.78it/s]\u001b[A\u001b[A\u001b[A\u001b[A\u001b[A\u001b[A\u001b[A\u001b[A\u001b[A\n",
      "\n",
      "\n",
      "\n",
      "\n",
      "\n",
      "\n",
      "\n",
      "Training Epochs:  77%|███████▋  | 77/100 [00:04<00:00, 29.91it/s]\u001b[A\u001b[A\u001b[A\u001b[A\u001b[A\u001b[A\u001b[A\u001b[A\n",
      "\n",
      "\n",
      "\n",
      "\n",
      "\n",
      "\n",
      "\n",
      "\n",
      "Training Steps:   0%|          | 0/37.0 [00:00<00:09,  3.78it/s] \u001b[A\u001b[A\u001b[A\u001b[A\u001b[A\u001b[A\u001b[A\u001b[A\u001b[A\n",
      "\n",
      "\n",
      "\n",
      "\n",
      "\n",
      "\n",
      "\n",
      "\n",
      "Training Steps: 100%|██████████| 37/37.0 [00:00<00:00,  3.78it/s]\u001b[A\u001b[A\u001b[A\u001b[A\u001b[A\u001b[A\u001b[A\u001b[A\u001b[A\n",
      "\n",
      "\n",
      "\n",
      "\n",
      "\n",
      "\n",
      "\n",
      "\n",
      "Training Steps:   0%|          | 0/37.0 [00:00<00:09,  3.78it/s] \u001b[A\u001b[A\u001b[A\u001b[A\u001b[A\u001b[A\u001b[A\u001b[A\u001b[A\n",
      "\n",
      "\n",
      "\n",
      "\n",
      "\n",
      "\n",
      "\n",
      "\n",
      "Training Steps: 100%|██████████| 37/37.0 [00:00<00:00,  3.78it/s]\u001b[A\u001b[A\u001b[A\u001b[A\u001b[A\u001b[A\u001b[A\u001b[A\u001b[A\n",
      "\n",
      "\n",
      "\n",
      "\n",
      "\n",
      "\n",
      "\n",
      "\n",
      "Training Steps:   0%|          | 0/37.0 [00:00<00:09,  3.78it/s] \u001b[A\u001b[A\u001b[A\u001b[A\u001b[A\u001b[A\u001b[A\u001b[A\u001b[A\n",
      "\n",
      "\n",
      "\n",
      "\n",
      "\n",
      "\n",
      "\n",
      "\n",
      "Training Steps: 100%|██████████| 37/37.0 [00:00<00:00,  3.78it/s]\u001b[A\u001b[A\u001b[A\u001b[A\u001b[A\u001b[A\u001b[A\u001b[A\u001b[A\n",
      "\n",
      "\n",
      "\n",
      "\n",
      "\n",
      "\n",
      "\n",
      "\n",
      "Training Steps:   0%|          | 0/37.0 [00:00<00:09,  3.78it/s] \u001b[A\u001b[A\u001b[A\u001b[A\u001b[A\u001b[A\u001b[A\u001b[A\u001b[A"
     ]
    },
    {
     "name": "stdout",
     "output_type": "stream",
     "text": [
      "epoch: 80, loss: 1.066\n"
     ]
    },
    {
     "name": "stderr",
     "output_type": "stream",
     "text": [
      "\n",
      "\n",
      "\n",
      "\n",
      "\n",
      "\n",
      "\n",
      "\n",
      "\n",
      "Training Steps: 100%|██████████| 37/37.0 [00:00<00:00,  3.78it/s]\u001b[A\u001b[A\u001b[A\u001b[A\u001b[A\u001b[A\u001b[A\u001b[A\u001b[A\n",
      "\n",
      "\n",
      "\n",
      "\n",
      "\n",
      "\n",
      "\n",
      "Training Epochs:  81%|████████  | 81/100 [00:05<00:00, 30.89it/s]\u001b[A\u001b[A\u001b[A\u001b[A\u001b[A\u001b[A\u001b[A\u001b[A\n",
      "\n",
      "\n",
      "\n",
      "\n",
      "\n",
      "\n",
      "\n",
      "\n",
      "Training Steps:   0%|          | 0/37.0 [00:00<00:09,  3.78it/s] \u001b[A\u001b[A\u001b[A\u001b[A\u001b[A\u001b[A\u001b[A\u001b[A\u001b[A\n",
      "\n",
      "\n",
      "\n",
      "\n",
      "\n",
      "\n",
      "\n",
      "\n",
      "Training Steps: 100%|██████████| 37/37.0 [00:00<00:00,  3.78it/s]\u001b[A\u001b[A\u001b[A\u001b[A\u001b[A\u001b[A\u001b[A\u001b[A\u001b[A\n",
      "\n",
      "\n",
      "\n",
      "\n",
      "\n",
      "\n",
      "\n",
      "\n",
      "Training Steps:   0%|          | 0/37.0 [00:00<00:09,  3.78it/s] \u001b[A\u001b[A\u001b[A\u001b[A\u001b[A\u001b[A\u001b[A\u001b[A\u001b[A\n",
      "\n",
      "\n",
      "\n",
      "\n",
      "\n",
      "\n",
      "\n",
      "\n",
      "Training Steps: 100%|██████████| 37/37.0 [00:00<00:00,  3.78it/s]\u001b[A\u001b[A\u001b[A\u001b[A\u001b[A\u001b[A\u001b[A\u001b[A\u001b[A\n",
      "\n",
      "\n",
      "\n",
      "\n",
      "\n",
      "\n",
      "\n",
      "\n",
      "Training Steps:   0%|          | 0/37.0 [00:00<00:09,  3.78it/s] \u001b[A\u001b[A\u001b[A\u001b[A\u001b[A\u001b[A\u001b[A\u001b[A\u001b[A\n",
      "\n",
      "\n",
      "\n",
      "\n",
      "\n",
      "\n",
      "\n",
      "\n",
      "Training Steps: 100%|██████████| 37/37.0 [00:00<00:00,  3.78it/s]\u001b[A\u001b[A\u001b[A\u001b[A\u001b[A\u001b[A\u001b[A\u001b[A\u001b[A\n",
      "\n",
      "\n",
      "\n",
      "\n",
      "\n",
      "\n",
      "\n",
      "\n",
      "Training Steps:   0%|          | 0/37.0 [00:00<00:09,  3.78it/s] \u001b[A\u001b[A\u001b[A\u001b[A\u001b[A\u001b[A\u001b[A\u001b[A\u001b[A\n",
      "\n",
      "\n",
      "\n",
      "\n",
      "\n",
      "\n",
      "\n",
      "\n",
      "Training Steps: 100%|██████████| 37/37.0 [00:00<00:00,  3.78it/s]\u001b[A\u001b[A\u001b[A\u001b[A\u001b[A\u001b[A\u001b[A\u001b[A\u001b[A\n",
      "\n",
      "\n",
      "\n",
      "\n",
      "\n",
      "\n",
      "\n",
      "Training Epochs:  85%|████████▌ | 85/100 [00:05<00:00, 31.81it/s]\u001b[A\u001b[A\u001b[A\u001b[A\u001b[A\u001b[A\u001b[A\u001b[A\n",
      "\n",
      "\n",
      "\n",
      "\n",
      "\n",
      "\n",
      "\n",
      "\n",
      "Training Steps:   0%|          | 0/37.0 [00:00<00:09,  3.78it/s] \u001b[A\u001b[A\u001b[A\u001b[A\u001b[A\u001b[A\u001b[A\u001b[A\u001b[A"
     ]
    },
    {
     "name": "stdout",
     "output_type": "stream",
     "text": [
      "epoch: 85, loss: 1.067\n"
     ]
    },
    {
     "name": "stderr",
     "output_type": "stream",
     "text": [
      "\n",
      "\n",
      "\n",
      "\n",
      "\n",
      "\n",
      "\n",
      "\n",
      "\n",
      "Training Steps: 100%|██████████| 37/37.0 [00:00<00:00,  3.78it/s]\u001b[A\u001b[A\u001b[A\u001b[A\u001b[A\u001b[A\u001b[A\u001b[A\u001b[A\n",
      "\n",
      "\n",
      "\n",
      "\n",
      "\n",
      "\n",
      "\n",
      "\n",
      "Training Steps:   0%|          | 0/37.0 [00:00<00:09,  3.78it/s] \u001b[A\u001b[A\u001b[A\u001b[A\u001b[A\u001b[A\u001b[A\u001b[A\u001b[A\n",
      "\n",
      "\n",
      "\n",
      "\n",
      "\n",
      "\n",
      "\n",
      "\n",
      "Training Steps: 100%|██████████| 37/37.0 [00:00<00:00,  3.78it/s]\u001b[A\u001b[A\u001b[A\u001b[A\u001b[A\u001b[A\u001b[A\u001b[A\u001b[A\n",
      "\n",
      "\n",
      "\n",
      "\n",
      "\n",
      "\n",
      "\n",
      "\n",
      "Training Steps:   0%|          | 0/37.0 [00:00<00:09,  3.78it/s] \u001b[A\u001b[A\u001b[A\u001b[A\u001b[A\u001b[A\u001b[A\u001b[A\u001b[A\n",
      "\n",
      "\n",
      "\n",
      "\n",
      "\n",
      "\n",
      "\n",
      "\n",
      "Training Steps: 100%|██████████| 37/37.0 [00:00<00:00,  3.78it/s]\u001b[A\u001b[A\u001b[A\u001b[A\u001b[A\u001b[A\u001b[A\u001b[A\u001b[A\n",
      "\n",
      "\n",
      "\n",
      "\n",
      "\n",
      "\n",
      "\n",
      "\n",
      "Training Steps:   0%|          | 0/37.0 [00:00<00:09,  3.78it/s] \u001b[A\u001b[A\u001b[A\u001b[A\u001b[A\u001b[A\u001b[A\u001b[A\u001b[A\n",
      "\n",
      "\n",
      "\n",
      "\n",
      "\n",
      "\n",
      "\n",
      "\n",
      "Training Steps: 100%|██████████| 37/37.0 [00:00<00:00,  3.78it/s]\u001b[A\u001b[A\u001b[A\u001b[A\u001b[A\u001b[A\u001b[A\u001b[A\u001b[A\n",
      "\n",
      "\n",
      "\n",
      "\n",
      "\n",
      "\n",
      "\n",
      "Training Epochs:  89%|████████▉ | 89/100 [00:05<00:00, 32.57it/s]\u001b[A\u001b[A\u001b[A\u001b[A\u001b[A\u001b[A\u001b[A\u001b[A\n",
      "\n",
      "\n",
      "\n",
      "\n",
      "\n",
      "\n",
      "\n",
      "\n",
      "Training Steps:   0%|          | 0/37.0 [00:00<00:09,  3.78it/s] \u001b[A\u001b[A\u001b[A\u001b[A\u001b[A\u001b[A\u001b[A\u001b[A\u001b[A\n",
      "\n",
      "\n",
      "\n",
      "\n",
      "\n",
      "\n",
      "\n",
      "\n",
      "Training Steps: 100%|██████████| 37/37.0 [00:00<00:00,  3.78it/s]\u001b[A\u001b[A\u001b[A\u001b[A\u001b[A\u001b[A\u001b[A\u001b[A\u001b[A\n",
      "\n",
      "\n",
      "\n",
      "\n",
      "\n",
      "\n",
      "\n",
      "\n",
      "Training Steps:   0%|          | 0/37.0 [00:00<00:09,  3.78it/s] \u001b[A\u001b[A\u001b[A\u001b[A\u001b[A\u001b[A\u001b[A\u001b[A\u001b[A"
     ]
    },
    {
     "name": "stdout",
     "output_type": "stream",
     "text": [
      "epoch: 90, loss: 1.066\n"
     ]
    },
    {
     "name": "stderr",
     "output_type": "stream",
     "text": [
      "\n",
      "\n",
      "\n",
      "\n",
      "\n",
      "\n",
      "\n",
      "\n",
      "\n",
      "Training Steps: 100%|██████████| 37/37.0 [00:00<00:00,  3.78it/s]\u001b[A\u001b[A\u001b[A\u001b[A\u001b[A\u001b[A\u001b[A\u001b[A\u001b[A\n",
      "\n",
      "\n",
      "\n",
      "\n",
      "\n",
      "\n",
      "\n",
      "\n",
      "Training Steps:   0%|          | 0/37.0 [00:00<00:09,  3.78it/s] \u001b[A\u001b[A\u001b[A\u001b[A\u001b[A\u001b[A\u001b[A\u001b[A\u001b[A\n",
      "\n",
      "\n",
      "\n",
      "\n",
      "\n",
      "\n",
      "\n",
      "\n",
      "Training Steps: 100%|██████████| 37/37.0 [00:00<00:00,  3.78it/s]\u001b[A\u001b[A\u001b[A\u001b[A\u001b[A\u001b[A\u001b[A\u001b[A\u001b[A\n",
      "\n",
      "\n",
      "\n",
      "\n",
      "\n",
      "\n",
      "\n",
      "\n",
      "Training Steps:   0%|          | 0/37.0 [00:00<00:09,  3.78it/s] \u001b[A\u001b[A\u001b[A\u001b[A\u001b[A\u001b[A\u001b[A\u001b[A\u001b[A\n",
      "\n",
      "\n",
      "\n",
      "\n",
      "\n",
      "\n",
      "\n",
      "\n",
      "Training Steps: 100%|██████████| 37/37.0 [00:00<00:00,  3.78it/s]\u001b[A\u001b[A\u001b[A\u001b[A\u001b[A\u001b[A\u001b[A\u001b[A\u001b[A\n",
      "\n",
      "\n",
      "\n",
      "\n",
      "\n",
      "\n",
      "\n",
      "Training Epochs:  93%|█████████▎| 93/100 [00:05<00:00, 32.31it/s]\u001b[A\u001b[A\u001b[A\u001b[A\u001b[A\u001b[A\u001b[A\u001b[A\n",
      "\n",
      "\n",
      "\n",
      "\n",
      "\n",
      "\n",
      "\n",
      "\n",
      "Training Steps:   0%|          | 0/37.0 [00:00<00:09,  3.78it/s] \u001b[A\u001b[A\u001b[A\u001b[A\u001b[A\u001b[A\u001b[A\u001b[A\u001b[A\n",
      "\n",
      "\n",
      "\n",
      "\n",
      "\n",
      "\n",
      "\n",
      "\n",
      "Training Steps: 100%|██████████| 37/37.0 [00:00<00:00,  3.78it/s]\u001b[A\u001b[A\u001b[A\u001b[A\u001b[A\u001b[A\u001b[A\u001b[A\u001b[A\n",
      "\n",
      "\n",
      "\n",
      "\n",
      "\n",
      "\n",
      "\n",
      "\n",
      "Training Steps:   0%|          | 0/37.0 [00:00<00:09,  3.78it/s] \u001b[A\u001b[A\u001b[A\u001b[A\u001b[A\u001b[A\u001b[A\u001b[A\u001b[A\n",
      "\n",
      "\n",
      "\n",
      "\n",
      "\n",
      "\n",
      "\n",
      "\n",
      "Training Steps: 100%|██████████| 37/37.0 [00:00<00:00,  3.78it/s]\u001b[A\u001b[A\u001b[A\u001b[A\u001b[A\u001b[A\u001b[A\u001b[A\u001b[A\n",
      "\n",
      "\n",
      "\n",
      "\n",
      "\n",
      "\n",
      "\n",
      "\n",
      "Training Steps:   0%|          | 0/37.0 [00:00<00:09,  3.78it/s] \u001b[A\u001b[A\u001b[A\u001b[A\u001b[A\u001b[A\u001b[A\u001b[A\u001b[A"
     ]
    },
    {
     "name": "stdout",
     "output_type": "stream",
     "text": [
      "epoch: 95, loss: 1.066\n"
     ]
    },
    {
     "name": "stderr",
     "output_type": "stream",
     "text": [
      "\n",
      "\n",
      "\n",
      "\n",
      "\n",
      "\n",
      "\n",
      "\n",
      "\n",
      "Training Steps: 100%|██████████| 37/37.0 [00:00<00:00,  3.78it/s]\u001b[A\u001b[A\u001b[A\u001b[A\u001b[A\u001b[A\u001b[A\u001b[A\u001b[A\n",
      "\n",
      "\n",
      "\n",
      "\n",
      "\n",
      "\n",
      "\n",
      "\n",
      "Training Steps:   0%|          | 0/37.0 [00:00<00:09,  3.78it/s] \u001b[A\u001b[A\u001b[A\u001b[A\u001b[A\u001b[A\u001b[A\u001b[A\u001b[A\n",
      "\n",
      "\n",
      "\n",
      "\n",
      "\n",
      "\n",
      "\n",
      "\n",
      "Training Steps: 100%|██████████| 37/37.0 [00:00<00:00,  3.78it/s]\u001b[A\u001b[A\u001b[A\u001b[A\u001b[A\u001b[A\u001b[A\u001b[A\u001b[A\n",
      "\n",
      "\n",
      "\n",
      "\n",
      "\n",
      "\n",
      "\n",
      "Training Epochs:  97%|█████████▋| 97/100 [00:05<00:00, 32.65it/s]\u001b[A\u001b[A\u001b[A\u001b[A\u001b[A\u001b[A\u001b[A\u001b[A\n",
      "\n",
      "\n",
      "\n",
      "\n",
      "\n",
      "\n",
      "\n",
      "\n",
      "Training Steps:   0%|          | 0/37.0 [00:00<00:09,  3.78it/s] \u001b[A\u001b[A\u001b[A\u001b[A\u001b[A\u001b[A\u001b[A\u001b[A\u001b[A\n",
      "\n",
      "\n",
      "\n",
      "\n",
      "\n",
      "\n",
      "\n",
      "\n",
      "Training Steps: 100%|██████████| 37/37.0 [00:00<00:00,  3.78it/s]\u001b[A\u001b[A\u001b[A\u001b[A\u001b[A\u001b[A\u001b[A\u001b[A\u001b[A\n",
      "\n",
      "\n",
      "\n",
      "\n",
      "\n",
      "\n",
      "\n",
      "\n",
      "Training Steps:   0%|          | 0/37.0 [00:00<00:09,  3.78it/s] \u001b[A\u001b[A\u001b[A\u001b[A\u001b[A\u001b[A\u001b[A\u001b[A\u001b[A\n",
      "\n",
      "\n",
      "\n",
      "\n",
      "\n",
      "\n",
      "\n",
      "\n",
      "Training Steps: 100%|██████████| 37/37.0 [00:00<00:00,  3.78it/s]\u001b[A\u001b[A\u001b[A\u001b[A\u001b[A\u001b[A\u001b[A\u001b[A\u001b[A\n",
      "\n",
      "\n",
      "\n",
      "\n",
      "\n",
      "\n",
      "\n",
      "\n",
      "Training Steps:   0%|          | 0/37.0 [00:00<00:09,  3.78it/s] \u001b[A\u001b[A\u001b[A\u001b[A\u001b[A\u001b[A\u001b[A\u001b[A\u001b[A\n",
      "\n",
      "\n",
      "\n",
      "\n",
      "\n",
      "\n",
      "\n",
      "\n",
      "Training Steps: 100%|██████████| 37/37.0 [00:00<00:00,  3.78it/s]\u001b[A\u001b[A\u001b[A\u001b[A\u001b[A\u001b[A\u001b[A\u001b[A\u001b[A"
     ]
    }
   ],
   "source": [
    "BEST_MODEL_DIR = os.path.join('models', 'best_factor2_model_pp_fs')\n",
    "BIMODAL_BATCH_SIZE = 64\n",
    "\n",
    "bi_low_hyperparam_config = {'dropout_rate': 0.1,\n",
    "                     'l2_lambda': 1e-06,\n",
    "                     'lr': 0.1}\n",
    "\n",
    "bi_low_test_loss = training(\n",
    "    X_bi_low_train, Y_bi_low_train, X_bi_low_test, Y_bi_low_test,\n",
    "    bi_low_hyperparam_config, NUM_EPOCHS, BIMODAL_BATCH_SIZE, save_model=True, model_dir=BEST_MODEL_DIR\n",
    "    \n",
    ")"
   ]
  },
  {
   "cell_type": "markdown",
   "metadata": {},
   "source": [
    "## Evaluate model performance"
   ]
  },
  {
   "cell_type": "code",
   "execution_count": 295,
   "metadata": {},
   "outputs": [],
   "source": [
    "def predict_one_hot(x, model_dir):\n",
    "    \"\"\"\n",
    "    Load a trained model and predict class\n",
    "    \n",
    "    Arguments:\n",
    "      x: input data of size [n_datapoints, n_features]\n",
    "      model_dir: location of saved model\n",
    "      \n",
    "    Returns:\n",
    "      y_output: one_hot representation of model output where argmax \n",
    "                is just chosen as class\n",
    "    \"\"\"\n",
    "    \n",
    "    model = K.models.load_model(model_dir)\n",
    "    y_pred = model.predict(x)\n",
    "    \n",
    "    #convert to one-hot representation\n",
    "    y_output = tf.one_hot(tf.nn.top_k(y_pred).indices, tf.shape(y_pred)[1])\n",
    "    \n",
    "    return tf.squeeze(y_output)\n",
    "\n",
    "\n",
    "def predict(x, model_dir):\n",
    "    \"\"\"\n",
    "    Load a trained model and predict probability for each class\n",
    "    \n",
    "    Arguments:\n",
    "      x: input data of size [n_datapoints, n_features]\n",
    "      model_dir: location of saved model\n",
    "      \n",
    "    Returns:\n",
    "        y_output: softmax rep of class labels\n",
    "    \"\"\"\n",
    "    \n",
    "    model = K.models.load_model(model_dir)\n",
    "    y_pred = model.predict(x)\n",
    "\n",
    "    return y_pred"
   ]
  },
  {
   "cell_type": "code",
   "execution_count": 296,
   "metadata": {},
   "outputs": [],
   "source": [
    "def get_labels_from_one_hot(one_hot_labels):\n",
    "    ''' Get labels from one-hot encoding '''\n",
    "    return np.argmax(one_hot_labels.numpy(), axis=1)"
   ]
  },
  {
   "cell_type": "code",
   "execution_count": 297,
   "metadata": {},
   "outputs": [],
   "source": [
    "def accuracy(y_true, y_pred):\n",
    "    ''' Computes accuracy '''\n",
    "    acc = tf.keras.metrics.Accuracy()\n",
    "    acc.update_state(y_true, y_pred )\n",
    "    return acc.result().numpy()\n",
    "\n",
    "\n",
    "def precision(y_true, y_pred):\n",
    "    ''' Computes precision '''\n",
    "    prec = tf.keras.metrics.Precision()\n",
    "    prec.update_state(y_true, y_pred)\n",
    "    return prec.result().numpy()\n",
    "    \n",
    "    \n",
    "def recall(y_true, y_pred):\n",
    "    ''' Computes recall'''\n",
    "    rec = tf.keras.metrics.Recall()\n",
    "    rec.update_state(y_true, y_pred)\n",
    "    return rec.result().numpy()\n",
    "\n",
    "\n",
    "def TPR(y_true, y_pred, thresholds=None):\n",
    "    ''' Computes True positive rate '''\n",
    "    tp = tf.keras.metrics.TruePositives()\n",
    "    tp.update_state(y_true, y_pred)\n",
    "    return tp.result().numpy()\n",
    "\n",
    "\n",
    "def FPR(y_true, y_pred, thresholds=None):\n",
    "    ''' Computes false positive rate '''\n",
    "    fp = tf.keras.metrics.FalsePositives()\n",
    "    fp.update_state(y_true, y_pred)\n",
    "    return fp.result().numpy()\n",
    "\n",
    "\n",
    "#TODO - confusion matrix\n",
    "\n",
    "\n",
    "def compute_ROC_curve(y_true, y_pred):\n",
    "    pass"
   ]
  },
  {
   "cell_type": "code",
   "execution_count": 298,
   "metadata": {},
   "outputs": [],
   "source": [
    "def make_confusion_matrix_DEX(y_test, y_pred, cmap='Blues', subtitle='INSERT SUBTITLE'):\n",
    "    y_true_labeled = get_labels_from_one_hot(y_test)\n",
    "    y_pred_labeled = get_labels_from_one_hot(y_pred)\n",
    "    conf_matrix = tf.math.confusion_matrix(y_true_labeled, y_pred_labeled, dtype=tf.dtypes.int64).numpy()\n",
    "    fig, axs = plt.subplots(1)\n",
    "    sns.heatmap(conf_matrix,annot=True, cmap=cmap, \n",
    "                xticklabels=['0 hr', '1 hr', '3 hrs'],\n",
    "               yticklabels=['0 hr', '1 hr', '3 hrs'],\n",
    "               ax=axs);\n",
    "    subtitle = subtitle\n",
    "    axs.set_title(f'Confusion Matrix\\n{subtitle}')"
   ]
  },
  {
   "cell_type": "code",
   "execution_count": 299,
   "metadata": {},
   "outputs": [],
   "source": [
    "''' Evaluate model trained ONLY on ATAC-seq input '''\n",
    "y_atac_pred = predict_one_hot(X_atac_test, model_dir='models/best_atac_pca_model_pp_fs')\n",
    "y_atac_sm = predict(X_atac_test, model_dir='models/best_atac_pca_model_pp_fs')"
   ]
  },
  {
   "cell_type": "code",
   "execution_count": 300,
   "metadata": {},
   "outputs": [
    {
     "name": "stdout",
     "output_type": "stream",
     "text": [
      "Accuracy: 0.698113203048706\n",
      "Precision: 0.5471698045730591\n",
      "Recall: 0.5471698045730591\n"
     ]
    },
    {
     "data": {
      "text/plain": [
       "63.0"
      ]
     },
     "execution_count": 300,
     "metadata": {},
     "output_type": "execute_result"
    }
   ],
   "source": [
    "''' Get metrics for ATAC-seq'''\n",
    "print(f'Accuracy: {accuracy(Y_atac_test, y_atac_pred)}')\n",
    "print(f'Precision: {precision(Y_atac_test, y_atac_pred)}')\n",
    "print(f'Recall: {precision(Y_atac_test, y_atac_pred)}')\n",
    "FPR(Y_atac_test, y_atac_sm)"
   ]
  },
  {
   "cell_type": "code",
   "execution_count": 301,
   "metadata": {},
   "outputs": [
    {
     "data": {
      "image/png": "[encoded data removed]",
      "text/plain": [
       "<Figure size 432x288 with 2 Axes>"
      ]
     },
     "metadata": {
      "needs_background": "light"
     },
     "output_type": "display_data"
    }
   ],
   "source": [
    "make_confusion_matrix_DEX(Y_atac_test, y_atac_pred, subtitle='Initial Model\\nTrained on Top 50 ATAC-seq SVs\\nAfter preprocesing & feature selection')"
   ]
  },
  {
   "cell_type": "code",
   "execution_count": 302,
   "metadata": {},
   "outputs": [],
   "source": [
    "''' Evaluate model trained ONLY on RNA-seq input '''\n",
    "y_rna_pred = predict_one_hot(X_rna_test, model_dir='models/best_rna_pca_model_pp_fs')\n",
    "y_rna_sm = predict(X_rna_test, model_dir='models/best_rna_pca_model_pp_fs')"
   ]
  },
  {
   "cell_type": "code",
   "execution_count": 303,
   "metadata": {},
   "outputs": [
    {
     "name": "stdout",
     "output_type": "stream",
     "text": [
      "Accuracy: 0.9371069073677063\n",
      "Precision: 0.9056603908538818\n",
      "Recall: 0.9056603908538818\n"
     ]
    }
   ],
   "source": [
    "''' Get metrics for RNA-seq'''\n",
    "print(f'Accuracy: {accuracy(Y_rna_test, y_rna_pred)}')\n",
    "print(f'Precision: {precision(Y_rna_test, y_rna_pred)}')\n",
    "print(f'Recall: {precision(Y_rna_test, y_rna_pred)}')"
   ]
  },
  {
   "cell_type": "code",
   "execution_count": 304,
   "metadata": {},
   "outputs": [
    {
     "data": {
      "image/png": "[encoded data removed]",
      "text/plain": [
       "<Figure size 432x288 with 2 Axes>"
      ]
     },
     "metadata": {
      "needs_background": "light"
     },
     "output_type": "display_data"
    }
   ],
   "source": [
    "make_confusion_matrix_DEX(Y_rna_test, y_rna_pred, subtitle='Initial Model\\nTrained on top 30 RNA-seq PCs\\nAfter preprocesing & feature selection')"
   ]
  },
  {
   "cell_type": "code",
   "execution_count": 305,
   "metadata": {},
   "outputs": [],
   "source": [
    "''' Evaluate model trained on bimodal input (concatenation of ATAC + RNA) '''\n",
    "y_bimodal_pred = predict_one_hot(X_bimodal_test, model_dir='models/best_bimodal_pca_svd_model_pp_fs')\n",
    "y_bimodal_sm = predict(X_bimodal_test, model_dir='models/best_bimodal_pca_svd_model_pp_fs')"
   ]
  },
  {
   "cell_type": "code",
   "execution_count": 306,
   "metadata": {},
   "outputs": [
    {
     "name": "stdout",
     "output_type": "stream",
     "text": [
      "Accuracy: 0.952201247215271\n",
      "Precision: 0.9283018708229065\n",
      "Recall: 0.9283018708229065\n"
     ]
    }
   ],
   "source": [
    "''' Get metrics using bimodal input '''\n",
    "print(f'Accuracy: {accuracy(Y_bimodal_test, y_bimodal_pred)}')\n",
    "print(f'Precision: {precision(Y_bimodal_test, y_bimodal_pred)}')\n",
    "print(f'Recall: {precision(Y_bimodal_test, y_bimodal_pred)}')"
   ]
  },
  {
   "cell_type": "code",
   "execution_count": 307,
   "metadata": {},
   "outputs": [
    {
     "data": {
      "image/png": "[encoded data removed]",
      "text/plain": [
       "<Figure size 432x288 with 2 Axes>"
      ]
     },
     "metadata": {
      "needs_background": "light"
     },
     "output_type": "display_data"
    }
   ],
   "source": [
    "make_confusion_matrix_DEX(Y_bimodal_test, y_bimodal_pred, subtitle='Initial Model\\nTrained on Bimodal input of \\ntop 50 ATAC SVs and top 30 RNA PCs')"
   ]
  },
  {
   "cell_type": "code",
   "execution_count": 308,
   "metadata": {},
   "outputs": [],
   "source": [
    "''' Evaluate model trained on bimodal input (concatenation of ATAC + RNA) '''\n",
    "y_bi_low_pred = predict_one_hot(X_bi_low_test, model_dir='models/best_factor2_model_pp_fs')\n",
    "y_bi_low_sm = predict(X_bi_low_test, model_dir='models/best_factor2_model_pp_fs')"
   ]
  },
  {
   "cell_type": "code",
   "execution_count": 309,
   "metadata": {},
   "outputs": [
    {
     "data": {
      "text/plain": [
       "TensorShape([2376, 2])"
      ]
     },
     "execution_count": 309,
     "metadata": {},
     "output_type": "execute_result"
    }
   ],
   "source": [
    "X_bi_low_train.shape"
   ]
  },
  {
   "cell_type": "code",
   "execution_count": 310,
   "metadata": {},
   "outputs": [
    {
     "name": "stdout",
     "output_type": "stream",
     "text": [
      "Accuracy: 0.605031430721283\n",
      "Precision: 0.4075471758842468\n",
      "Recall: 0.4075471758842468\n"
     ]
    }
   ],
   "source": [
    "''' Get metrics using bimodal input '''\n",
    "print(f'Accuracy: {accuracy(Y_bi_low_test, y_bi_low_pred)}')\n",
    "print(f'Precision: {precision(Y_bi_low_test, y_bi_low_pred)}')\n",
    "print(f'Recall: {precision(Y_bi_low_test, y_bi_low_pred)}')"
   ]
  },
  {
   "cell_type": "code",
   "execution_count": 311,
   "metadata": {},
   "outputs": [
    {
     "data": {
      "image/png": "[encoded data removed]",
      "text/plain": [
       "<Figure size 432x288 with 2 Axes>"
      ]
     },
     "metadata": {
      "needs_background": "light"
     },
     "output_type": "display_data"
    }
   ],
   "source": [
    "make_confusion_matrix_DEX(Y_bi_low_test, y_bi_low_pred, subtitle='Initial Model\\nTrained on Bimodal 2 Factors')"
   ]
  },
  {
   "cell_type": "code",
   "execution_count": 312,
   "metadata": {},
   "outputs": [
    {
     "name": "stdout",
     "output_type": "stream",
     "text": [
      "atac data saved\n",
      "rna data saved\n",
      "bimodal data saved\n",
      "bi_low data saved\n"
     ]
    },
    {
     "name": "stderr",
     "output_type": "stream",
     "text": [
      "\n",
      "\n",
      "\n",
      "\n",
      "\n",
      "\n",
      "Training Epochs: 100%|██████████| 100/100 [00:39<00:00, 29.21it/s]\u001b[A\u001b[A\u001b[A\u001b[A\u001b[A\u001b[A\n",
      "\n",
      "\n",
      "\n",
      "\n",
      "\n",
      "\n",
      "\n",
      "Training Epochs: 100%|██████████| 100/100 [00:24<00:00, 32.65it/s]\u001b[A\u001b[A\u001b[A\u001b[A\u001b[A\u001b[A\u001b[A\u001b[A"
     ]
    }
   ],
   "source": [
    "''' Export training and test sets '''\n",
    "from helpers import *\n",
    "\n",
    "# create .pkl file names\n",
    "root = os.getcwd()\n",
    "pkl_path = os.path.join(root, 'data', 'sci-CAR', 'pkl_files')\n",
    "pkl_atac = os.path.join(pkl_path, 'atac_pp_svd_fs_.pkl')\n",
    "pkl_rna = os.path.join(pkl_path, 'rna_pp_fs_pca_.pkl')\n",
    "pkl_bimodal = os.path.join(pkl_path, 'bimodal_pca_svd_pp_fs.pkl')\n",
    "pkl_bi_low = os.path.join(pkl_path, 'bimodal_factor2_pp_fs.pkl')\n",
    "\n",
    "# save training and test sets as pickle files\n",
    "atac_data = (X_atac_train, X_atac_test, atac_features)\n",
    "write_zipped_pickle(atac_data, pkl_atac)\n",
    "print('atac data saved')\n",
    "\n",
    "rna_data = (X_rna_train, X_rna_test, rna_features)\n",
    "write_zipped_pickle(rna_data, pkl_rna)\n",
    "print('rna data saved')\n",
    "\n",
    "bimodal_data = (X_bimodal_train, X_bimodal_test, bimodal_features)\n",
    "write_zipped_pickle(bimodal_data, pkl_bimodal)\n",
    "print('bimodal data saved')\n",
    "\n",
    "bi_low_data = (X_bi_low_train, X_bi_low_test, bi_low_features)\n",
    "write_zipped_pickle(bi_low_data, pkl_bi_low)\n",
    "print('bi_low data saved')"
   ]
  },
  {
   "cell_type": "code",
   "execution_count": null,
   "metadata": {},
   "outputs": [],
   "source": []
  }
 ],
 "metadata": {
  "kernelspec": {
   "display_name": "Python 3",
   "language": "python",
   "name": "python3"
  },
  "language_info": {
   "codemirror_mode": {
    "name": "ipython",
    "version": 3
   },
   "file_extension": ".py",
   "mimetype": "text/x-python",
   "name": "python",
   "nbconvert_exporter": "python",
   "pygments_lexer": "ipython3",
   "version": "3.7.6"
  }
 },
 "nbformat": 4,
 "nbformat_minor": 4
}
