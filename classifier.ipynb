{
 "cells": [
  {
   "cell_type": "markdown",
   "metadata": {},
   "source": [
    "## Classify RNA-Seq + ATAC-Seq by Cell type"
   ]
  },
  {
   "cell_type": "code",
   "execution_count": 4,
   "metadata": {},
   "outputs": [
    {
     "name": "stdout",
     "output_type": "stream",
     "text": [
      "Python version: 3.7.6 | packaged by conda-forge | (default, Jan  7 2020, 22:05:27) \n",
      "[Clang 9.0.1 ]\n",
      "TensorFlow version: 2.1.0\n",
      "\n",
      "Imports Complete.\n"
     ]
    }
   ],
   "source": [
    "# import needed modules:\n",
    "\n",
    "# general python utilities\n",
    "import os\n",
    "import platform\n",
    "import random\n",
    "import shutil\n",
    "import sys\n",
    "import time\n",
    "import datetime\n",
    "import functools\n",
    "import itertools as it\n",
    "import copy\n",
    "\n",
    "# recommended Python3 version >= 3.5\n",
    "print('Python version: {}'.format(platform.sys.version))\n",
    "\n",
    "# data-science & processing tools\n",
    "import numpy as np\n",
    "import pandas as pd\n",
    "import sklearn.metrics\n",
    "from sklearn.model_selection import train_test_split\n",
    "from sklearn.preprocessing import LabelEncoder\n",
    "import h5py\n",
    "import scanpy as sc\n",
    "import anndata as ann\n",
    "\n",
    "# progress bar\n",
    "try:\n",
    "    from tqdm.notebook import tqdm\n",
    "except ImportError:\n",
    "    from tqdm import tqdm_notebook as tqdm\n",
    "\n",
    "# plotting utilities\n",
    "import seaborn as sns\n",
    "import matplotlib.pyplot as plt\n",
    "\n",
    "# tensorflow\n",
    "import tensorflow as tf\n",
    "import tensorflow.keras as K\n",
    "\n",
    "# required TensorFlow version >= 2.0.0\n",
    "tf_version = tf.__version__\n",
    "print('TensorFlow version: {}'.format(tf_version))\n",
    "assert int(tf_version[0]) >= 2, \"Tensorflow version must be >= 2.0\"\n",
    "\n",
    "# seed random numbers for reproducibility\n",
    "random.seed(0)\n",
    "np.random.seed(0)\n",
    "tf.random.set_seed(0)\n",
    "\n",
    "print('\\nImports Complete.')"
   ]
  },
  {
   "cell_type": "code",
   "execution_count": 5,
   "metadata": {},
   "outputs": [],
   "source": [
    "# make some fake data until real data becomes available\n",
    "n_samples, n_rna_features, n_atac_features = 6000, 500, 100\n",
    "rna_seq_fake = np.random.rand(n_samples, n_rna_features)\n",
    "atac_seq_fake = np.random.rand(n_samples, n_atac_features)\n",
    "X_np = np.concatenate([rna_seq_fake, atac_seq_fake], axis=1)\n",
    "Y_np = np.array(['cell_type_A'] * 2000 + ['cell_type_B'] * 2000 + ['cell_type_C'] * 2000)"
   ]
  },
  {
   "cell_type": "code",
   "execution_count": 6,
   "metadata": {},
   "outputs": [
    {
     "data": {
      "text/plain": [
       "<tf.Tensor: shape=(6000, 3), dtype=float32, numpy=\n",
       "array([[1., 0., 0.],\n",
       "       [1., 0., 0.],\n",
       "       [1., 0., 0.],\n",
       "       ...,\n",
       "       [0., 0., 1.],\n",
       "       [0., 0., 1.],\n",
       "       [0., 0., 1.]], dtype=float32)>"
      ]
     },
     "execution_count": 6,
     "metadata": {},
     "output_type": "execute_result"
    }
   ],
   "source": [
    "# make one-hot encoding of cell type classes\n",
    "le = LabelEncoder()\n",
    "Y_le = le.fit_transform(Y_np)\n",
    "tf.one_hot(Y_le, depth=3)"
   ]
  },
  {
   "cell_type": "code",
   "execution_count": 53,
   "metadata": {},
   "outputs": [],
   "source": [
    "''' Load in matrices generated after pre-processing steps '''\n",
    "PATH = os.getcwd() # make sure cwd is 6_874-Multimodal-DL\n",
    "OUTPUTS = os.path.join(PATH, 'Outputs')\n",
    "atac_data_path = os.path.join(OUTPUTS, 'atacRaw')\n",
    "rna_data_path = os.path.join(OUTPUTS, 'rnaRaw')\n",
    "bimodal_data_path = os.path.join(OUTPUTS, 'bimodalRaw')\n",
    "bim_low_data_path = os.path.join(OUTPUTS, 'bimodalLowDim_ScAi')\n",
    "\n",
    "# save as pandas dataframes\n",
    "atac_df = pd.read_hdf(atac_data_path)\n",
    "rna_df = pd.read_hdf(rna_data_path)\n",
    "bimodal_df = pd.read_hdf(bimodal_data_path)\n",
    "bi_low_df = pd.read_hdf(bim_low_data_path)"
   ]
  },
  {
   "cell_type": "code",
   "execution_count": 54,
   "metadata": {},
   "outputs": [
    {
     "data": {
      "text/html": [
       "<div>\n",
       "<style scoped>\n",
       "    .dataframe tbody tr th:only-of-type {\n",
       "        vertical-align: middle;\n",
       "    }\n",
       "\n",
       "    .dataframe tbody tr th {\n",
       "        vertical-align: top;\n",
       "    }\n",
       "\n",
       "    .dataframe thead th {\n",
       "        text-align: right;\n",
       "    }\n",
       "</style>\n",
       "<table border=\"1\" class=\"dataframe\">\n",
       "  <thead>\n",
       "    <tr style=\"text-align: right;\">\n",
       "      <th>Unnamed: 0</th>\n",
       "      <th>sample</th>\n",
       "      <th>treatTime</th>\n",
       "      <th>1-9963-10665</th>\n",
       "      <th>1-360366-360566</th>\n",
       "      <th>1-525043-525243</th>\n",
       "      <th>1-534190-534416</th>\n",
       "      <th>1-563942-565496</th>\n",
       "      <th>1-565954-566454</th>\n",
       "      <th>1-567637-568137</th>\n",
       "      <th>1-568415-569780</th>\n",
       "      <th>...</th>\n",
       "      <th>hs37d5-35343512-35343790</th>\n",
       "      <th>hs37d5-35365182-35365397</th>\n",
       "      <th>hs37d5-35372168-35372717</th>\n",
       "      <th>hs37d5-35383159-35383390</th>\n",
       "      <th>hs37d5-35391131-35391550</th>\n",
       "      <th>hs37d5-35391914-35392213</th>\n",
       "      <th>hs37d5-35408255-35408466</th>\n",
       "      <th>hs37d5-35412204-35412447</th>\n",
       "      <th>hs37d5-35430920-35431120</th>\n",
       "      <th>hs37d5-35431239-35431838</th>\n",
       "    </tr>\n",
       "  </thead>\n",
       "  <tbody>\n",
       "    <tr>\n",
       "      <td>0</td>\n",
       "      <td>sci_RNA_A_001_TCTCTCATCC</td>\n",
       "      <td>0</td>\n",
       "      <td>0</td>\n",
       "      <td>0</td>\n",
       "      <td>0</td>\n",
       "      <td>0</td>\n",
       "      <td>3.60114</td>\n",
       "      <td>0</td>\n",
       "      <td>0</td>\n",
       "      <td>4.02014</td>\n",
       "      <td>...</td>\n",
       "      <td>0</td>\n",
       "      <td>0</td>\n",
       "      <td>0</td>\n",
       "      <td>0</td>\n",
       "      <td>0</td>\n",
       "      <td>0</td>\n",
       "      <td>0</td>\n",
       "      <td>0</td>\n",
       "      <td>0</td>\n",
       "      <td>0</td>\n",
       "    </tr>\n",
       "    <tr>\n",
       "      <td>1</td>\n",
       "      <td>sci_RNA_A_001_GACCAATGCG</td>\n",
       "      <td>0</td>\n",
       "      <td>0</td>\n",
       "      <td>0</td>\n",
       "      <td>0</td>\n",
       "      <td>0</td>\n",
       "      <td>2.61015</td>\n",
       "      <td>0</td>\n",
       "      <td>2.14496</td>\n",
       "      <td>3.08319</td>\n",
       "      <td>...</td>\n",
       "      <td>0</td>\n",
       "      <td>0</td>\n",
       "      <td>0</td>\n",
       "      <td>0</td>\n",
       "      <td>0</td>\n",
       "      <td>0</td>\n",
       "      <td>0</td>\n",
       "      <td>0</td>\n",
       "      <td>0</td>\n",
       "      <td>0</td>\n",
       "    </tr>\n",
       "    <tr>\n",
       "      <td>2</td>\n",
       "      <td>sci_RNA_A_002_ATCTAGGTTC</td>\n",
       "      <td>0</td>\n",
       "      <td>0</td>\n",
       "      <td>0</td>\n",
       "      <td>0</td>\n",
       "      <td>0</td>\n",
       "      <td>3.83912</td>\n",
       "      <td>0</td>\n",
       "      <td>0</td>\n",
       "      <td>3.20717</td>\n",
       "      <td>...</td>\n",
       "      <td>0</td>\n",
       "      <td>0</td>\n",
       "      <td>0</td>\n",
       "      <td>0</td>\n",
       "      <td>0</td>\n",
       "      <td>0</td>\n",
       "      <td>0</td>\n",
       "      <td>0</td>\n",
       "      <td>0</td>\n",
       "      <td>0</td>\n",
       "    </tr>\n",
       "    <tr>\n",
       "      <td>3</td>\n",
       "      <td>sci_RNA_A_003_ACGTTGAATG</td>\n",
       "      <td>0</td>\n",
       "      <td>0</td>\n",
       "      <td>0</td>\n",
       "      <td>0</td>\n",
       "      <td>0</td>\n",
       "      <td>3.62284</td>\n",
       "      <td>0</td>\n",
       "      <td>0</td>\n",
       "      <td>3.8693</td>\n",
       "      <td>...</td>\n",
       "      <td>0</td>\n",
       "      <td>0</td>\n",
       "      <td>0</td>\n",
       "      <td>0</td>\n",
       "      <td>0</td>\n",
       "      <td>0</td>\n",
       "      <td>0</td>\n",
       "      <td>0</td>\n",
       "      <td>0</td>\n",
       "      <td>0</td>\n",
       "    </tr>\n",
       "    <tr>\n",
       "      <td>4</td>\n",
       "      <td>sci_RNA_A_003_CCTAAGCGGT</td>\n",
       "      <td>0</td>\n",
       "      <td>0</td>\n",
       "      <td>0</td>\n",
       "      <td>0</td>\n",
       "      <td>0</td>\n",
       "      <td>4.1162</td>\n",
       "      <td>0</td>\n",
       "      <td>2.60554</td>\n",
       "      <td>4.47006</td>\n",
       "      <td>...</td>\n",
       "      <td>0</td>\n",
       "      <td>0</td>\n",
       "      <td>0</td>\n",
       "      <td>0</td>\n",
       "      <td>0</td>\n",
       "      <td>0</td>\n",
       "      <td>0</td>\n",
       "      <td>0</td>\n",
       "      <td>0</td>\n",
       "      <td>0</td>\n",
       "    </tr>\n",
       "  </tbody>\n",
       "</table>\n",
       "<p>5 rows × 52763 columns</p>\n",
       "</div>"
      ],
      "text/plain": [
       "Unnamed: 0                    sample  treatTime 1-9963-10665 1-360366-360566  \\\n",
       "0           sci_RNA_A_001_TCTCTCATCC          0            0               0   \n",
       "1           sci_RNA_A_001_GACCAATGCG          0            0               0   \n",
       "2           sci_RNA_A_002_ATCTAGGTTC          0            0               0   \n",
       "3           sci_RNA_A_003_ACGTTGAATG          0            0               0   \n",
       "4           sci_RNA_A_003_CCTAAGCGGT          0            0               0   \n",
       "\n",
       "Unnamed: 0 1-525043-525243 1-534190-534416 1-563942-565496 1-565954-566454  \\\n",
       "0                        0               0         3.60114               0   \n",
       "1                        0               0         2.61015               0   \n",
       "2                        0               0         3.83912               0   \n",
       "3                        0               0         3.62284               0   \n",
       "4                        0               0          4.1162               0   \n",
       "\n",
       "Unnamed: 0 1-567637-568137 1-568415-569780  ... hs37d5-35343512-35343790  \\\n",
       "0                        0         4.02014  ...                        0   \n",
       "1                  2.14496         3.08319  ...                        0   \n",
       "2                        0         3.20717  ...                        0   \n",
       "3                        0          3.8693  ...                        0   \n",
       "4                  2.60554         4.47006  ...                        0   \n",
       "\n",
       "Unnamed: 0 hs37d5-35365182-35365397 hs37d5-35372168-35372717  \\\n",
       "0                                 0                        0   \n",
       "1                                 0                        0   \n",
       "2                                 0                        0   \n",
       "3                                 0                        0   \n",
       "4                                 0                        0   \n",
       "\n",
       "Unnamed: 0 hs37d5-35383159-35383390 hs37d5-35391131-35391550  \\\n",
       "0                                 0                        0   \n",
       "1                                 0                        0   \n",
       "2                                 0                        0   \n",
       "3                                 0                        0   \n",
       "4                                 0                        0   \n",
       "\n",
       "Unnamed: 0 hs37d5-35391914-35392213 hs37d5-35408255-35408466  \\\n",
       "0                                 0                        0   \n",
       "1                                 0                        0   \n",
       "2                                 0                        0   \n",
       "3                                 0                        0   \n",
       "4                                 0                        0   \n",
       "\n",
       "Unnamed: 0 hs37d5-35412204-35412447 hs37d5-35430920-35431120  \\\n",
       "0                                 0                        0   \n",
       "1                                 0                        0   \n",
       "2                                 0                        0   \n",
       "3                                 0                        0   \n",
       "4                                 0                        0   \n",
       "\n",
       "Unnamed: 0 hs37d5-35431239-35431838  \n",
       "0                                 0  \n",
       "1                                 0  \n",
       "2                                 0  \n",
       "3                                 0  \n",
       "4                                 0  \n",
       "\n",
       "[5 rows x 52763 columns]"
      ]
     },
     "execution_count": 54,
     "metadata": {},
     "output_type": "execute_result"
    }
   ],
   "source": [
    "atac_df.head()"
   ]
  },
  {
   "cell_type": "code",
   "execution_count": 55,
   "metadata": {},
   "outputs": [
    {
     "data": {
      "text/plain": [
       "3    1075\n",
       "1     983\n",
       "0     583\n",
       "Name: treatTime, dtype: int64"
      ]
     },
     "execution_count": 55,
     "metadata": {},
     "output_type": "execute_result"
    }
   ],
   "source": [
    "atac_df['treatTime'].value_counts()"
   ]
  },
  {
   "cell_type": "code",
   "execution_count": 57,
   "metadata": {},
   "outputs": [
    {
     "data": {
      "text/plain": [
       "3    1075\n",
       "1     983\n",
       "0     583\n",
       "Name: treatTime, dtype: int64"
      ]
     },
     "execution_count": 57,
     "metadata": {},
     "output_type": "execute_result"
    }
   ],
   "source": [
    "rna_df['treatTime'].value_counts()"
   ]
  },
  {
   "cell_type": "code",
   "execution_count": 58,
   "metadata": {},
   "outputs": [
    {
     "data": {
      "text/plain": [
       "3    1075\n",
       "1     983\n",
       "0     583\n",
       "Name: treatTime, dtype: int64"
      ]
     },
     "execution_count": 58,
     "metadata": {},
     "output_type": "execute_result"
    }
   ],
   "source": [
    "bimodal_df['treatTime'].value_counts()"
   ]
  },
  {
   "cell_type": "code",
   "execution_count": 59,
   "metadata": {},
   "outputs": [
    {
     "data": {
      "text/plain": [
       "3    1075\n",
       "1     983\n",
       "0     583\n",
       "Name: treatTime, dtype: int64"
      ]
     },
     "execution_count": 59,
     "metadata": {},
     "output_type": "execute_result"
    }
   ],
   "source": [
    "bi_low_df['treatTime'].value_counts()"
   ]
  },
  {
   "cell_type": "code",
   "execution_count": 60,
   "metadata": {},
   "outputs": [
    {
     "data": {
      "text/html": [
       "<div>\n",
       "<style scoped>\n",
       "    .dataframe tbody tr th:only-of-type {\n",
       "        vertical-align: middle;\n",
       "    }\n",
       "\n",
       "    .dataframe tbody tr th {\n",
       "        vertical-align: top;\n",
       "    }\n",
       "\n",
       "    .dataframe thead th {\n",
       "        text-align: right;\n",
       "    }\n",
       "</style>\n",
       "<table border=\"1\" class=\"dataframe\">\n",
       "  <thead>\n",
       "    <tr style=\"text-align: right;\">\n",
       "      <th>Unnamed: 0</th>\n",
       "      <th>sample</th>\n",
       "      <th>treatTime</th>\n",
       "      <th>1-9963-10665</th>\n",
       "      <th>1-360366-360566</th>\n",
       "      <th>1-525043-525243</th>\n",
       "      <th>1-534190-534416</th>\n",
       "      <th>1-563942-565496</th>\n",
       "      <th>1-565954-566454</th>\n",
       "      <th>1-567637-568137</th>\n",
       "      <th>1-568415-569780</th>\n",
       "      <th>...</th>\n",
       "      <th>hs37d5-35343512-35343790</th>\n",
       "      <th>hs37d5-35365182-35365397</th>\n",
       "      <th>hs37d5-35372168-35372717</th>\n",
       "      <th>hs37d5-35383159-35383390</th>\n",
       "      <th>hs37d5-35391131-35391550</th>\n",
       "      <th>hs37d5-35391914-35392213</th>\n",
       "      <th>hs37d5-35408255-35408466</th>\n",
       "      <th>hs37d5-35412204-35412447</th>\n",
       "      <th>hs37d5-35430920-35431120</th>\n",
       "      <th>hs37d5-35431239-35431838</th>\n",
       "    </tr>\n",
       "  </thead>\n",
       "  <tbody>\n",
       "    <tr>\n",
       "      <td>0</td>\n",
       "      <td>sci_RNA_A_001_TCTCTCATCC</td>\n",
       "      <td>0</td>\n",
       "      <td>1.52324</td>\n",
       "      <td>0</td>\n",
       "      <td>0.10798</td>\n",
       "      <td>0</td>\n",
       "      <td>3.65508</td>\n",
       "      <td>1.28386</td>\n",
       "      <td>1.56469</td>\n",
       "      <td>3.81792</td>\n",
       "      <td>...</td>\n",
       "      <td>0</td>\n",
       "      <td>0.0392711</td>\n",
       "      <td>0.0268314</td>\n",
       "      <td>0.0268468</td>\n",
       "      <td>0.10388</td>\n",
       "      <td>0.0140413</td>\n",
       "      <td>0</td>\n",
       "      <td>0.0489884</td>\n",
       "      <td>0</td>\n",
       "      <td>0</td>\n",
       "    </tr>\n",
       "    <tr>\n",
       "      <td>1</td>\n",
       "      <td>sci_RNA_A_001_GACCAATGCG</td>\n",
       "      <td>0</td>\n",
       "      <td>1.60722</td>\n",
       "      <td>0.104029</td>\n",
       "      <td>0.0323636</td>\n",
       "      <td>0</td>\n",
       "      <td>3.69351</td>\n",
       "      <td>1.19796</td>\n",
       "      <td>1.74097</td>\n",
       "      <td>3.84101</td>\n",
       "      <td>...</td>\n",
       "      <td>0</td>\n",
       "      <td>0</td>\n",
       "      <td>0.0926631</td>\n",
       "      <td>0.0189863</td>\n",
       "      <td>0.0290431</td>\n",
       "      <td>0.136044</td>\n",
       "      <td>0</td>\n",
       "      <td>0.126604</td>\n",
       "      <td>0.0219249</td>\n",
       "      <td>0</td>\n",
       "    </tr>\n",
       "    <tr>\n",
       "      <td>2</td>\n",
       "      <td>sci_RNA_A_002_ATCTAGGTTC</td>\n",
       "      <td>0</td>\n",
       "      <td>1.42084</td>\n",
       "      <td>0.137788</td>\n",
       "      <td>0.0884782</td>\n",
       "      <td>0.0488719</td>\n",
       "      <td>3.65681</td>\n",
       "      <td>1.06086</td>\n",
       "      <td>1.63597</td>\n",
       "      <td>3.8146</td>\n",
       "      <td>...</td>\n",
       "      <td>0.039447</td>\n",
       "      <td>0.0788732</td>\n",
       "      <td>0.0823137</td>\n",
       "      <td>0.0205856</td>\n",
       "      <td>0.0191088</td>\n",
       "      <td>0</td>\n",
       "      <td>0.0381806</td>\n",
       "      <td>0.0553408</td>\n",
       "      <td>0.0324537</td>\n",
       "      <td>0.0137827</td>\n",
       "    </tr>\n",
       "    <tr>\n",
       "      <td>3</td>\n",
       "      <td>sci_RNA_A_003_ACGTTGAATG</td>\n",
       "      <td>0</td>\n",
       "      <td>1.54185</td>\n",
       "      <td>0.0533654</td>\n",
       "      <td>0.0221407</td>\n",
       "      <td>0.0232515</td>\n",
       "      <td>3.61083</td>\n",
       "      <td>1.09384</td>\n",
       "      <td>1.63697</td>\n",
       "      <td>3.74585</td>\n",
       "      <td>...</td>\n",
       "      <td>0.0277642</td>\n",
       "      <td>0.0724368</td>\n",
       "      <td>0.0209435</td>\n",
       "      <td>0.0522351</td>\n",
       "      <td>0.0782247</td>\n",
       "      <td>0.0435662</td>\n",
       "      <td>0.128741</td>\n",
       "      <td>0.0476176</td>\n",
       "      <td>0.0927109</td>\n",
       "      <td>0.12041</td>\n",
       "    </tr>\n",
       "    <tr>\n",
       "      <td>4</td>\n",
       "      <td>sci_RNA_A_003_CCTAAGCGGT</td>\n",
       "      <td>0</td>\n",
       "      <td>1.52196</td>\n",
       "      <td>0.163248</td>\n",
       "      <td>0.0494064</td>\n",
       "      <td>0.0934459</td>\n",
       "      <td>3.62992</td>\n",
       "      <td>1.24278</td>\n",
       "      <td>1.56665</td>\n",
       "      <td>3.77776</td>\n",
       "      <td>...</td>\n",
       "      <td>0.061698</td>\n",
       "      <td>0.0365842</td>\n",
       "      <td>0</td>\n",
       "      <td>0</td>\n",
       "      <td>0.0658257</td>\n",
       "      <td>0</td>\n",
       "      <td>0</td>\n",
       "      <td>0.114494</td>\n",
       "      <td>0.0437547</td>\n",
       "      <td>0.0437547</td>\n",
       "    </tr>\n",
       "    <tr>\n",
       "      <td>...</td>\n",
       "      <td>...</td>\n",
       "      <td>...</td>\n",
       "      <td>...</td>\n",
       "      <td>...</td>\n",
       "      <td>...</td>\n",
       "      <td>...</td>\n",
       "      <td>...</td>\n",
       "      <td>...</td>\n",
       "      <td>...</td>\n",
       "      <td>...</td>\n",
       "      <td>...</td>\n",
       "      <td>...</td>\n",
       "      <td>...</td>\n",
       "      <td>...</td>\n",
       "      <td>...</td>\n",
       "      <td>...</td>\n",
       "      <td>...</td>\n",
       "      <td>...</td>\n",
       "      <td>...</td>\n",
       "      <td>...</td>\n",
       "      <td>...</td>\n",
       "    </tr>\n",
       "    <tr>\n",
       "      <td>2636</td>\n",
       "      <td>sci_RNA_E_095_ACGATAGACT</td>\n",
       "      <td>3</td>\n",
       "      <td>1.47107</td>\n",
       "      <td>0.112236</td>\n",
       "      <td>0.0464782</td>\n",
       "      <td>0.129605</td>\n",
       "      <td>3.65342</td>\n",
       "      <td>1.22097</td>\n",
       "      <td>1.62905</td>\n",
       "      <td>3.82722</td>\n",
       "      <td>...</td>\n",
       "      <td>0.0102188</td>\n",
       "      <td>0.0332647</td>\n",
       "      <td>0.107193</td>\n",
       "      <td>0</td>\n",
       "      <td>0</td>\n",
       "      <td>0.119654</td>\n",
       "      <td>0</td>\n",
       "      <td>0.116731</td>\n",
       "      <td>0.0843703</td>\n",
       "      <td>0.0492263</td>\n",
       "    </tr>\n",
       "    <tr>\n",
       "      <td>2637</td>\n",
       "      <td>sci_RNA_E_096_TGCCTAACTT</td>\n",
       "      <td>3</td>\n",
       "      <td>1.46525</td>\n",
       "      <td>0.0729031</td>\n",
       "      <td>0.0518053</td>\n",
       "      <td>0.155394</td>\n",
       "      <td>3.74312</td>\n",
       "      <td>1.38407</td>\n",
       "      <td>1.75026</td>\n",
       "      <td>3.89885</td>\n",
       "      <td>...</td>\n",
       "      <td>0</td>\n",
       "      <td>0.0640842</td>\n",
       "      <td>0.100302</td>\n",
       "      <td>0.122014</td>\n",
       "      <td>0.080489</td>\n",
       "      <td>0.114312</td>\n",
       "      <td>0.117756</td>\n",
       "      <td>0.0384228</td>\n",
       "      <td>0</td>\n",
       "      <td>0.0185809</td>\n",
       "    </tr>\n",
       "    <tr>\n",
       "      <td>2638</td>\n",
       "      <td>sci_RNA_E_096_GGCGGTTGAC</td>\n",
       "      <td>3</td>\n",
       "      <td>1.59066</td>\n",
       "      <td>0.121072</td>\n",
       "      <td>0.0846601</td>\n",
       "      <td>0.104731</td>\n",
       "      <td>3.67105</td>\n",
       "      <td>1.31079</td>\n",
       "      <td>1.57872</td>\n",
       "      <td>3.82918</td>\n",
       "      <td>...</td>\n",
       "      <td>0</td>\n",
       "      <td>0.0242897</td>\n",
       "      <td>0</td>\n",
       "      <td>0.0245843</td>\n",
       "      <td>0.0318456</td>\n",
       "      <td>0</td>\n",
       "      <td>0.0464686</td>\n",
       "      <td>0.165501</td>\n",
       "      <td>0.0134787</td>\n",
       "      <td>0.033978</td>\n",
       "    </tr>\n",
       "    <tr>\n",
       "      <td>2639</td>\n",
       "      <td>sci_RNA_E_096_CGAATCTCCT</td>\n",
       "      <td>3</td>\n",
       "      <td>1.50459</td>\n",
       "      <td>0.0660447</td>\n",
       "      <td>0.0600929</td>\n",
       "      <td>0</td>\n",
       "      <td>3.68254</td>\n",
       "      <td>1.34834</td>\n",
       "      <td>1.56018</td>\n",
       "      <td>3.84136</td>\n",
       "      <td>...</td>\n",
       "      <td>0.0097684</td>\n",
       "      <td>0.0355296</td>\n",
       "      <td>0.147942</td>\n",
       "      <td>0.0921984</td>\n",
       "      <td>0.0855022</td>\n",
       "      <td>0.068359</td>\n",
       "      <td>0.0409436</td>\n",
       "      <td>0.0967219</td>\n",
       "      <td>0.0163762</td>\n",
       "      <td>0.0334201</td>\n",
       "    </tr>\n",
       "    <tr>\n",
       "      <td>2640</td>\n",
       "      <td>sci_RNA_E_096_ATATGCCATC</td>\n",
       "      <td>3</td>\n",
       "      <td>1.56348</td>\n",
       "      <td>0.130404</td>\n",
       "      <td>0.0550955</td>\n",
       "      <td>0.0914645</td>\n",
       "      <td>3.65536</td>\n",
       "      <td>1.38525</td>\n",
       "      <td>1.5799</td>\n",
       "      <td>3.81606</td>\n",
       "      <td>...</td>\n",
       "      <td>0.0800757</td>\n",
       "      <td>0.0354266</td>\n",
       "      <td>0.0487126</td>\n",
       "      <td>0</td>\n",
       "      <td>0</td>\n",
       "      <td>0.0338564</td>\n",
       "      <td>0.120967</td>\n",
       "      <td>0.165056</td>\n",
       "      <td>0.0315763</td>\n",
       "      <td>0</td>\n",
       "    </tr>\n",
       "  </tbody>\n",
       "</table>\n",
       "<p>2641 rows × 52763 columns</p>\n",
       "</div>"
      ],
      "text/plain": [
       "Unnamed: 0                    sample  treatTime 1-9963-10665 1-360366-360566  \\\n",
       "0           sci_RNA_A_001_TCTCTCATCC          0      1.52324               0   \n",
       "1           sci_RNA_A_001_GACCAATGCG          0      1.60722        0.104029   \n",
       "2           sci_RNA_A_002_ATCTAGGTTC          0      1.42084        0.137788   \n",
       "3           sci_RNA_A_003_ACGTTGAATG          0      1.54185       0.0533654   \n",
       "4           sci_RNA_A_003_CCTAAGCGGT          0      1.52196        0.163248   \n",
       "...                              ...        ...          ...             ...   \n",
       "2636        sci_RNA_E_095_ACGATAGACT          3      1.47107        0.112236   \n",
       "2637        sci_RNA_E_096_TGCCTAACTT          3      1.46525       0.0729031   \n",
       "2638        sci_RNA_E_096_GGCGGTTGAC          3      1.59066        0.121072   \n",
       "2639        sci_RNA_E_096_CGAATCTCCT          3      1.50459       0.0660447   \n",
       "2640        sci_RNA_E_096_ATATGCCATC          3      1.56348        0.130404   \n",
       "\n",
       "Unnamed: 0 1-525043-525243 1-534190-534416 1-563942-565496 1-565954-566454  \\\n",
       "0                  0.10798               0         3.65508         1.28386   \n",
       "1                0.0323636               0         3.69351         1.19796   \n",
       "2                0.0884782       0.0488719         3.65681         1.06086   \n",
       "3                0.0221407       0.0232515         3.61083         1.09384   \n",
       "4                0.0494064       0.0934459         3.62992         1.24278   \n",
       "...                    ...             ...             ...             ...   \n",
       "2636             0.0464782        0.129605         3.65342         1.22097   \n",
       "2637             0.0518053        0.155394         3.74312         1.38407   \n",
       "2638             0.0846601        0.104731         3.67105         1.31079   \n",
       "2639             0.0600929               0         3.68254         1.34834   \n",
       "2640             0.0550955       0.0914645         3.65536         1.38525   \n",
       "\n",
       "Unnamed: 0 1-567637-568137 1-568415-569780  ... hs37d5-35343512-35343790  \\\n",
       "0                  1.56469         3.81792  ...                        0   \n",
       "1                  1.74097         3.84101  ...                        0   \n",
       "2                  1.63597          3.8146  ...                 0.039447   \n",
       "3                  1.63697         3.74585  ...                0.0277642   \n",
       "4                  1.56665         3.77776  ...                 0.061698   \n",
       "...                    ...             ...  ...                      ...   \n",
       "2636               1.62905         3.82722  ...                0.0102188   \n",
       "2637               1.75026         3.89885  ...                        0   \n",
       "2638               1.57872         3.82918  ...                        0   \n",
       "2639               1.56018         3.84136  ...                0.0097684   \n",
       "2640                1.5799         3.81606  ...                0.0800757   \n",
       "\n",
       "Unnamed: 0 hs37d5-35365182-35365397 hs37d5-35372168-35372717  \\\n",
       "0                         0.0392711                0.0268314   \n",
       "1                                 0                0.0926631   \n",
       "2                         0.0788732                0.0823137   \n",
       "3                         0.0724368                0.0209435   \n",
       "4                         0.0365842                        0   \n",
       "...                             ...                      ...   \n",
       "2636                      0.0332647                 0.107193   \n",
       "2637                      0.0640842                 0.100302   \n",
       "2638                      0.0242897                        0   \n",
       "2639                      0.0355296                 0.147942   \n",
       "2640                      0.0354266                0.0487126   \n",
       "\n",
       "Unnamed: 0 hs37d5-35383159-35383390 hs37d5-35391131-35391550  \\\n",
       "0                         0.0268468                  0.10388   \n",
       "1                         0.0189863                0.0290431   \n",
       "2                         0.0205856                0.0191088   \n",
       "3                         0.0522351                0.0782247   \n",
       "4                                 0                0.0658257   \n",
       "...                             ...                      ...   \n",
       "2636                              0                        0   \n",
       "2637                       0.122014                 0.080489   \n",
       "2638                      0.0245843                0.0318456   \n",
       "2639                      0.0921984                0.0855022   \n",
       "2640                              0                        0   \n",
       "\n",
       "Unnamed: 0 hs37d5-35391914-35392213 hs37d5-35408255-35408466  \\\n",
       "0                         0.0140413                        0   \n",
       "1                          0.136044                        0   \n",
       "2                                 0                0.0381806   \n",
       "3                         0.0435662                 0.128741   \n",
       "4                                 0                        0   \n",
       "...                             ...                      ...   \n",
       "2636                       0.119654                        0   \n",
       "2637                       0.114312                 0.117756   \n",
       "2638                              0                0.0464686   \n",
       "2639                       0.068359                0.0409436   \n",
       "2640                      0.0338564                 0.120967   \n",
       "\n",
       "Unnamed: 0 hs37d5-35412204-35412447 hs37d5-35430920-35431120  \\\n",
       "0                         0.0489884                        0   \n",
       "1                          0.126604                0.0219249   \n",
       "2                         0.0553408                0.0324537   \n",
       "3                         0.0476176                0.0927109   \n",
       "4                          0.114494                0.0437547   \n",
       "...                             ...                      ...   \n",
       "2636                       0.116731                0.0843703   \n",
       "2637                      0.0384228                        0   \n",
       "2638                       0.165501                0.0134787   \n",
       "2639                      0.0967219                0.0163762   \n",
       "2640                       0.165056                0.0315763   \n",
       "\n",
       "Unnamed: 0 hs37d5-35431239-35431838  \n",
       "0                                 0  \n",
       "1                                 0  \n",
       "2                         0.0137827  \n",
       "3                           0.12041  \n",
       "4                         0.0437547  \n",
       "...                             ...  \n",
       "2636                      0.0492263  \n",
       "2637                      0.0185809  \n",
       "2638                       0.033978  \n",
       "2639                      0.0334201  \n",
       "2640                              0  \n",
       "\n",
       "[2641 rows x 52763 columns]"
      ]
     },
     "execution_count": 60,
     "metadata": {},
     "output_type": "execute_result"
    }
   ],
   "source": [
    "bi_low_df"
   ]
  },
  {
   "cell_type": "markdown",
   "metadata": {},
   "source": [
    "**Observations**: \n",
    "- There are over 20,000 features, but only 3260 samples. Consider using PCA or another dimensionality reduction method before inputing into network\n",
    "- This matrix is super sparse. Think about how to account for that (maybe in feature selection)\n",
    "- TODO - feature selection"
   ]
  },
  {
   "cell_type": "code",
   "execution_count": 61,
   "metadata": {},
   "outputs": [],
   "source": [
    "''' Get labels'''\n",
    "Y_atac = atac_df['treatTime']\n",
    "Y_rna = rna_df['treatTime']\n",
    "Y_bimodal = bimodal_df['treatTime']\n",
    "Y_bi_low = bi_low_df['treatTime']"
   ]
  },
  {
   "cell_type": "code",
   "execution_count": 62,
   "metadata": {},
   "outputs": [],
   "source": [
    "''' Change to label-encoded values'''\n",
    "le = LabelEncoder()\n",
    "Y_atac_le = le.fit_transform(Y_atac) # note that this changes treatment time of 3 to 2, but other labels are the same\n",
    "Y_rna_le = le.fit_transform(Y_rna)\n",
    "Y_bimodal_le = le.fit_transform(Y_bimodal)\n",
    "Y_bi_low_le = le.fit_transform(Y_bi_low)"
   ]
  },
  {
   "cell_type": "code",
   "execution_count": 63,
   "metadata": {},
   "outputs": [],
   "source": [
    "''' Get feature labels '''\n",
    "# get features\n",
    "atac_features = atac_df.iloc[:, 2:].columns\n",
    "rna_features = rna_df.iloc[:, 2:].columns\n",
    "bimodal_features = bimodal_df.iloc[:, 2:].columns\n",
    "bi_low_features = bi_low_df.iloc[:, 2:].columns\n",
    "\n",
    "# get number of features\n",
    "n_atac_features = len(atac_features)\n",
    "n_rna_features = len(rna_features)\n",
    "n_bi_features = len(bimodal_features)\n",
    "n_bi_low_features = len(bi_low_features)"
   ]
  },
  {
   "cell_type": "code",
   "execution_count": 64,
   "metadata": {},
   "outputs": [
    {
     "data": {
      "text/plain": [
       "Index(['1-9963-10665', '1-360366-360566', '1-525043-525243', '1-534190-534416',\n",
       "       '1-563942-565496', '1-565954-566454', '1-567637-568137',\n",
       "       '1-568415-569780', '1-713650-714682', '1-762330-763402',\n",
       "       ...\n",
       "       'hs37d5-35343512-35343790', 'hs37d5-35365182-35365397',\n",
       "       'hs37d5-35372168-35372717', 'hs37d5-35383159-35383390',\n",
       "       'hs37d5-35391131-35391550', 'hs37d5-35391914-35392213',\n",
       "       'hs37d5-35408255-35408466', 'hs37d5-35412204-35412447',\n",
       "       'hs37d5-35430920-35431120', 'hs37d5-35431239-35431838'],\n",
       "      dtype='object', name='Unnamed: 0', length=52761)"
      ]
     },
     "execution_count": 64,
     "metadata": {},
     "output_type": "execute_result"
    }
   ],
   "source": [
    "atac_features"
   ]
  },
  {
   "cell_type": "code",
   "execution_count": 65,
   "metadata": {},
   "outputs": [],
   "source": [
    "''' Make matrices into numpy arrays'''\n",
    "X_atac_np = atac_df.iloc[:, 2:].to_numpy()\n",
    "X_rna_np = rna_df.iloc[:, 2:].to_numpy()\n",
    "X_bimodal_np = bimodal_df.iloc[:, 2:].to_numpy()\n",
    "X_bi_low_np = bi_low_df.iloc[:, 2:].to_numpy()"
   ]
  },
  {
   "cell_type": "code",
   "execution_count": 76,
   "metadata": {},
   "outputs": [
    {
     "data": {
      "text/plain": [
       "0       0\n",
       "1       0\n",
       "2       0\n",
       "3       0\n",
       "4       0\n",
       "       ..\n",
       "2636    3\n",
       "2637    3\n",
       "2638    3\n",
       "2639    3\n",
       "2640    3\n",
       "Name: treatTime, Length: 2641, dtype: int64"
      ]
     },
     "execution_count": 76,
     "metadata": {},
     "output_type": "execute_result"
    }
   ],
   "source": [
    "atac_df.iloc[:,1]"
   ]
  },
  {
   "cell_type": "code",
   "execution_count": 66,
   "metadata": {},
   "outputs": [],
   "source": [
    "''' Get training and test sets '''\n",
    "# TODO - make sure these are stratified\n",
    "X_train_atac, X_test_atac, Y_train_atac, Y_test_atac = train_test_split(X_atac_np, Y_atac_le, test_size=0.1, random_state=0, stratify=Y_atac_le)\n",
    "X_train_rna, X_test_rna, Y_train_rna, Y_test_rna = train_test_split(X_rna_np, Y_rna_le, test_size=0.1, random_state=0, stratify=Y_rna_le)\n",
    "X_train_bi, X_test_bi, Y_train_bi, Y_test_bi = train_test_split(X_bimodal_np, Y_bimodal_le, test_size=0.1, random_state=0, stratify=Y_bimodal_le)\n",
    "X_train_bi_low, X_test_bi_low, Y_train_bi_low, Y_test_bi_low = train_test_split(X_bi_low_np, Y_bi_low_le, test_size=0.1, random_state=0, stratify=Y_bi_low_le)\n"
   ]
  },
  {
   "cell_type": "code",
   "execution_count": 67,
   "metadata": {},
   "outputs": [],
   "source": [
    "''' Make Y labels one-hot '''\n",
    "# training sets\n",
    "Y_atac_train = tf.one_hot(Y_train_atac, depth=3)\n",
    "Y_rna_train = tf.one_hot(Y_train_rna, depth=3)\n",
    "Y_bimodal_train = tf.one_hot(Y_train_bi, depth=3)\n",
    "Y_bi_low_train = tf.one_hot(Y_train_bi_low, depth=3)\n",
    "\n",
    "\n",
    "# test sets\n",
    "Y_atac_test = tf.one_hot(Y_test_atac, depth=3)\n",
    "Y_rna_test = tf.one_hot(Y_test_rna, depth=3)\n",
    "Y_bimodal_test = tf.one_hot(Y_test_bi, depth=3)\n",
    "Y_bi_low_test = tf.one_hot(Y_test_bi_low, depth=3)"
   ]
  },
  {
   "cell_type": "code",
   "execution_count": 84,
   "metadata": {},
   "outputs": [],
   "source": [
    "''' Make sure np arrays are float32 before converting to tensors '''\n",
    "X_train_atac = np.asarray(X_train_atac).astype(np.float32)\n",
    "X_train_rna = np.asarray(X_train_rna).astype(np.float32)\n",
    "X_train_bi = np.asarray(X_train_bi).astype(np.float32)\n",
    "X_train_bi_low = np.asarray(X_train_bi_low).astype(np.float32)\n",
    "\n",
    "X_test_atac = np.asarray(X_test_atac).astype(np.float32)\n",
    "X_test_rna = np.asarray(X_test_rna).astype(np.float32)\n",
    "X_test_bi = np.asarray(X_test_bi).astype(np.float32)\n",
    "X_test_bi_low = np.asarray(X_test_bi_low).astype(np.float32)"
   ]
  },
  {
   "cell_type": "code",
   "execution_count": 69,
   "metadata": {},
   "outputs": [
    {
     "data": {
      "text/plain": [
       "((2376, 52761), (2376, 1185), (2376, 53946), (2376, 52761))"
      ]
     },
     "execution_count": 69,
     "metadata": {},
     "output_type": "execute_result"
    }
   ],
   "source": [
    "X_train_atac.shape, X_train_rna.shape, X_train_bi.shape, X_train_bi_low.shape"
   ]
  },
  {
   "cell_type": "code",
   "execution_count": 85,
   "metadata": {},
   "outputs": [],
   "source": [
    "''' Make matrices into TF tensors'''\n",
    "# training sets\n",
    "X_atac_train = tf.convert_to_tensor(X_train_atac)\n",
    "X_rna_train = tf.convert_to_tensor(X_train_rna)\n",
    "X_bimodal_train = tf.convert_to_tensor(X_train_bi)\n",
    "X_bi_low_train = tf.convert_to_tensor(X_train_bi_low)\n",
    "\n",
    "\n",
    "# test sets\n",
    "X_atac_test = tf.convert_to_tensor(X_test_atac)\n",
    "X_rna_test = tf.convert_to_tensor(X_test_rna)\n",
    "X_bimodal_test = tf.convert_to_tensor(X_test_bi)\n",
    "X_bi_low_test = tf.convert_to_tensor(X_test_bi_low)"
   ]
  },
  {
   "cell_type": "code",
   "execution_count": 86,
   "metadata": {},
   "outputs": [],
   "source": [
    "''' Define architecture '''\n",
    "HIDDEN_LAYER_DIMS = [500, 500, 2000]\n",
    "OUTPUT_DIM = 3\n",
    "\n",
    "def nn_model(n_features, dropout_rate, l2_lambda):\n",
    "    \"\"\"\n",
    "    Returns a tf.keras.Model for cell-type classification with the specifications \n",
    "    listed above.\n",
    "    \n",
    "    Arguments:\n",
    "      n_features: the number of features of the datapoints used\n",
    "        as input to the model (used to determine the input shape)\n",
    "      dropout_rate: the dropout rate of the dropout layers\n",
    "      l2_lambda: the weight of the L2 regularization penalty on the\n",
    "        weights (but not the biases) of the model\n",
    "    \n",
    "    Returns:\n",
    "      model: a tf.keras.Model for tSNE with the specifications\n",
    "        listed above\n",
    "    \"\"\"\n",
    "    model = K.Sequential()\n",
    "    \n",
    "    \n",
    "    l2_reg = tf.keras.regularizers.l2(l=l2_lambda)\n",
    "    ######################## BEGIN YOUR ANSWER ########################\n",
    "    model.add(tf.keras.layers.Dense(HIDDEN_LAYER_DIMS[0], batch_input_shape=(None, n_features), \n",
    "                                    activation='relu', kernel_regularizer=l2_reg))\n",
    "    model.add(tf.keras.layers.Dropout(rate=dropout_rate))\n",
    "    model.add(tf.keras.layers.Dense(HIDDEN_LAYER_DIMS[1], batch_input_shape=(None, n_features),\n",
    "                                   activation='relu', kernel_regularizer=l2_reg))\n",
    "    model.add(tf.keras.layers.Dropout(rate=dropout_rate))\n",
    "    model.add(tf.keras.layers.Dense(HIDDEN_LAYER_DIMS[2], batch_input_shape=(None, n_features),\n",
    "                                   activation='relu', kernel_regularizer=l2_reg))\n",
    "    model.add(tf.keras.layers.Dropout(rate=dropout_rate))\n",
    "    model.add(tf.keras.layers.Dense(OUTPUT_DIM, batch_input_shape=(None, n_features),\n",
    "                                   activation=tf.nn.softmax, kernel_regularizer=l2_reg))\n",
    "    \n",
    "    ######################### END YOUR ANSWER #########################\n",
    "    \n",
    "    return model"
   ]
  },
  {
   "cell_type": "code",
   "execution_count": 87,
   "metadata": {},
   "outputs": [
    {
     "name": "stdout",
     "output_type": "stream",
     "text": [
      "Model: \"sequential\"\n",
      "_________________________________________________________________\n",
      "Layer (type)                 Output Shape              Param #   \n",
      "=================================================================\n",
      "dense (Dense)                (None, 500)               26381000  \n",
      "_________________________________________________________________\n",
      "dropout (Dropout)            (None, 500)               0         \n",
      "_________________________________________________________________\n",
      "dense_1 (Dense)              (None, 500)               250500    \n",
      "_________________________________________________________________\n",
      "dropout_1 (Dropout)          (None, 500)               0         \n",
      "_________________________________________________________________\n",
      "dense_2 (Dense)              (None, 2000)              1002000   \n",
      "_________________________________________________________________\n",
      "dropout_2 (Dropout)          (None, 2000)              0         \n",
      "_________________________________________________________________\n",
      "dense_3 (Dense)              (None, 3)                 6003      \n",
      "=================================================================\n",
      "Total params: 27,639,503\n",
      "Trainable params: 27,639,503\n",
      "Non-trainable params: 0\n",
      "_________________________________________________________________\n"
     ]
    }
   ],
   "source": [
    "''' Give summary of architecture '''\n",
    "n_features = len(atac_features)\n",
    "model = nn_model(n_features, dropout_rate=0.2, l2_lambda=0.1)\n",
    "model.summary()"
   ]
  },
  {
   "cell_type": "code",
   "execution_count": 88,
   "metadata": {},
   "outputs": [],
   "source": [
    "def sample_shuffle_data(arrays, n_samples=None):\n",
    "    \"\"\"subsamples examples from a list of datasets\n",
    "    \n",
    "    samples `n_samples` without replacement from along the first dimension\n",
    "    of each array in `arrays`. The same first-dimension slices are \n",
    "    selected for each array in `arrays`.\n",
    "    \n",
    "    Arguments:\n",
    "      arrays: the arrays to be sliced, all must have the same size along \n",
    "        their first dimension.\n",
    "      n_samples: (None) the number of samples to be selected, `n_samples` must \n",
    "        be less than or equal to the length of the arrays. If n_samples it not\n",
    "        passed or is `None`. Then each array in `arrays` will be \n",
    "        shuffled in the same way and returned.\n",
    "      \n",
    "    Returns:\n",
    "      sampled: a `tuple` of len the same as `len(arrays)` where each\n",
    "        element is an array of len `n_samples`\n",
    "    \"\"\"\n",
    "    batch_len = arrays[0].shape[0]\n",
    "    n_samples = batch_len if n_samples is None else n_samples\n",
    "\n",
    "    err_msg = 'all arrays must have the same size along their first dimension'\n",
    "    assert all(batch_len == x.shape[0] for x in arrays), err_msg \n",
    "    err_msg = 'n cannot be greater then the length of the arrays'\n",
    "    assert n_samples <= batch_len, err_msg\n",
    "\n",
    "    sampling_idxs = tf.random.shuffle(tf.range(batch_len))[:n_samples]\n",
    "    sampled = tuple(tf.gather(x, sampling_idxs, axis=0) for x in arrays)\n",
    "    \n",
    "    return sampled"
   ]
  },
  {
   "cell_type": "code",
   "execution_count": 89,
   "metadata": {},
   "outputs": [],
   "source": [
    "''' Train step '''\n",
    "def train_step(model, loss, optimizer, x_batch, y_batch):\n",
    "    \"\"\"\n",
    "    Performs one training step on a model given a loss, optimizer, inputs,\n",
    "    and labels.\n",
    "    \n",
    "    Arguments:\n",
    "      model: the model on which the pass will be performed\n",
    "      loss: the loss function to be evaluated, from which the gradients will be\n",
    "        computed\n",
    "      optimizer: a `tf.optimizers` object defining the optimization scheme\n",
    "      x_batch: model training inputs\n",
    "      y_batch: model training labels\n",
    "      \n",
    "    Returns:\n",
    "      loss_value: the computed loss for the forward training pass\n",
    "    \"\"\"\n",
    "#     print('X_batch : {} \\n y_batch : {}'.format(x_batch, y_batch))\n",
    "    with tf.GradientTape() as tape:\n",
    "#         print(f'x_batch: {x_batch}')\n",
    "#         print(f'y_batch: {y_batch}')\n",
    "\n",
    "        y_batch_pred = model(x_batch, training=True)\n",
    "        loss_value = loss(y_batch, y_batch_pred)\n",
    "#         print(f\"model losses type: {model.losses}\")\n",
    "        loss_value += sum(model.losses)\n",
    "    gradients = tape.gradient(loss_value, model.trainable_weights)\n",
    "    optimizer.apply_gradients(zip(gradients, model.trainable_weights))\n",
    "    return loss_value"
   ]
  },
  {
   "cell_type": "code",
   "execution_count": 90,
   "metadata": {},
   "outputs": [],
   "source": [
    "''' Training Loop '''\n",
    "def training(x_train, y_train, x_val, y_val, hyperparam_config, num_epochs, batch_size,\n",
    "             save_model=True, model_dir='models/best_model'):  \n",
    "    \n",
    "    \"\"\"\n",
    "    Train a fully-connected network to classify rna_seq + atac-seq by cell type\n",
    "    \n",
    "    Arguments:\n",
    "      x_train: input training set\n",
    "      y_train: label training set\n",
    "      x_val: input validation set\n",
    "      y_val: label validation set\n",
    "      hyperparam_config: a dictionary that stores a hyperparameter configuration,\n",
    "                         including:\n",
    "                           - \"dropout_rate\": dropout rate (1 - keep probability),\n",
    "                           - \"l2\": coefficient lambda for L2 regularization,\n",
    "                           - \"lr\": learning rate for RMSProp optimizer\n",
    "      num_epochs: number of epochs to train\n",
    "      batch_size: training mini-batch size (must be same as the batch size for pairwise P calculation)\n",
    "      save_model: whether or not to save the best model based on the validation loss\n",
    "      model_dir: location where model will be saved\n",
    "    \n",
    "    Returns:\n",
    "      best_loss: best validation loss\n",
    "      best_kl_div: validation KL loss from the epoch that has best validation loss\n",
    "    \"\"\"\n",
    "    \n",
    "    ################################################################################\n",
    "    # Make sure to wrap train_step with tf.function to speed up training!\n",
    "    train_fn = tf.function(train_step)\n",
    "#     train_fn = train_step\n",
    "    ################################################################################ \n",
    "    \n",
    "    ######################## BEGIN YOUR ANSWER ########################\n",
    "    # get num_batches\n",
    "    num_samples, num_features = x_train.shape\n",
    "    num_batches = np.floor(num_samples) // batch_size\n",
    "    \n",
    "    # initalize model, loss, and optimizers\n",
    "    dropout_rate = hyperparam_config['dropout_rate']\n",
    "    l2_lambda = hyperparam_config['l2_lambda']\n",
    "    lr = hyperparam_config['lr']\n",
    "    model = nn_model(n_features=num_features, dropout_rate=dropout_rate, l2_lambda=l2_lambda)\n",
    "    loss_fn = tf.keras.losses.CategoricalCrossentropy() # todo - make sure this is correct\n",
    "    optimizer = K.optimizers.SGD(learning_rate=lr)  #TODO - double check this optimizer\n",
    "\n",
    "    \n",
    "    # Get initial loss for comparison \n",
    "    print('getting initial loss')\n",
    "    best_loss = loss_fn(y_val, model(x_val))\n",
    "    \n",
    "    # init progress bars\n",
    "    epoch_pbar = tqdm(total=num_epochs, desc=\"Training Epochs\")\n",
    "    batch_pbar = tqdm(desc=\"Training Steps\")\n",
    "    \n",
    "    \n",
    "    n = x_train.shape[0]\n",
    "    # for each epoch   \n",
    "    # start training loop \n",
    "    for epoch in range(num_epochs):\n",
    "        # shuffle data\n",
    "        if epoch >= 1: x_train, y_train = sample_shuffle_data([x_train, y_train], num_samples)\n",
    "        \n",
    "        batch_pbar.reset(num_batches)\n",
    "        for step in range(int(num_batches)):\n",
    "            # getting indices of batches to train on\n",
    "            range_begin = (step * batch_size) % (x_train.shape[0] - batch_size) #taking mod to prevent ix errors\n",
    "            range_end = range_begin + batch_size\n",
    "            batch_x = x_train[range_begin:range_end, :]\n",
    "            batch_y = y_train[range_begin:range_end, :]\n",
    "            epoch_loss = train_fn(model, loss_fn, optimizer,\n",
    "                                 batch_x, batch_y)\n",
    "  \n",
    "            \n",
    "            batch_pbar.update()\n",
    "    \n",
    "        # compute and print loss on validation data\n",
    "        val_loss = loss_fn(y_val, model(x_val)) #note - don't need reg_coeff defined because already defined using functools.partial\n",
    "\n",
    "        tf.print(\"epoch: {:02d}, loss: {:5.3f}\".format(epoch + 1, val_loss))\n",
    "        \n",
    "        if val_loss < best_loss:\n",
    "            best_loss = val_loss\n",
    "            if save_model:\n",
    "                # if directory hasn't been created, create it\n",
    "                if not os.path.isdir('models'):\n",
    "                    !mkdir -p models\n",
    "                # if model has already been saved, remove folder and save again\n",
    "                if os.path.isdir(model_dir):\n",
    "                    shutil.rmtree(model_dir)\n",
    "                # make directory again and save\n",
    "#                 !mkdir -p models/best_loss\n",
    "                model.save(model_dir)\n",
    "        batch_pbar.refresh()\n",
    "        epoch_pbar.update()\n",
    "            \n",
    "                \n",
    "    ######################### END YOUR ANSWER #########################\n",
    "    \n",
    "    \n",
    "    return best_loss\n"
   ]
  },
  {
   "cell_type": "code",
   "execution_count": 91,
   "metadata": {},
   "outputs": [],
   "source": [
    "''' Get useful parameters for defining architecture '''\n",
    "X_shape = tf.shape(X_bimodal_train)\n",
    "assert len(X_shape) == 2, f'Order of input tensor shoud be 2 but is {len(X_shape)}'\n",
    "num_cells, num_features = X_shape\n",
    "dropout_rate = 0.1\n",
    "l2_lambda = 1e-6\n",
    "learning_rate = 0.001"
   ]
  },
  {
   "cell_type": "code",
   "execution_count": 92,
   "metadata": {},
   "outputs": [],
   "source": [
    "Y_atac_test;"
   ]
  },
  {
   "cell_type": "code",
   "execution_count": 93,
   "metadata": {},
   "outputs": [],
   "source": [
    "n_epochs = 50"
   ]
  },
  {
   "cell_type": "code",
   "execution_count": 94,
   "metadata": {},
   "outputs": [],
   "source": [
    "''' This cell will train the model on a given set of hyperparameters. This code is repeated later'''\n",
    "''' Train model using ATAC-seq as features'''\n",
    "# define hyperparameters\n",
    "run_cell=False\n",
    "if run_cell:\n",
    "    hyperparams_atac = {'dropout_rate':0.1, 'lr': 0.001, 'l2_lambda': l2_lambda}\n",
    "\n",
    "\n",
    "    training(X_atac_train, Y_atac_train, X_atac_test, Y_atac_test, \n",
    "             hyperparam_config=hyperparams_atac,\n",
    "            num_epochs=n_epochs,\n",
    "            batch_size=100,\n",
    "            save_model=True,\n",
    "            model_dir=f'models/atac_only_model_{n_epochs}_epochs')\n",
    "\n",
    "    ''' Train model using RNA-seq as features'''\n",
    "    # define hyperparameters\n",
    "    hyperparams_rna = {'dropout_rate':0.1, 'lr': 0.001, 'l2_lambda': l2_lambda}\n",
    "\n",
    "    training(X_rna_train, Y_rna_train, X_rna_test, Y_rna_test, \n",
    "             hyperparam_config=hyperparams_rna,\n",
    "            num_epochs=50,\n",
    "            batch_size=100,\n",
    "            save_model=True,\n",
    "            model_dir=f'models/rna_only_model_{n_epochs}_epochs')\n",
    "\n",
    "    ''' Train model using both ATAC and RNA as features'''\n",
    "    # define hyperparameters\n",
    "    hyperparams_bimodal = {'dropout_rate':0.1, 'lr': 0.001, 'l2_lambda': l2_lambda}\n",
    "\n",
    "    training(X_bimodal_train, Y_bimodal_train, X_bimodal_test, Y_bimodal_test, \n",
    "             hyperparam_config=hyperparams_bimodal,\n",
    "            num_epochs=50,\n",
    "            batch_size=100,\n",
    "            save_model=True,\n",
    "            model_dir=f'models/bimodal_model_{n_epochs}_epochs')"
   ]
  },
  {
   "cell_type": "markdown",
   "metadata": {},
   "source": [
    "## Hyperparameter tuning"
   ]
  },
  {
   "cell_type": "code",
   "execution_count": 95,
   "metadata": {},
   "outputs": [],
   "source": [
    "''' Hyperparameter search using validation set'''\n",
    "def grid_search(x_train, y_train, dropout_rates, l2_lambdas, learning_rates, num_epochs=40, batch_size=300):\n",
    "    \"\"\"\n",
    "    Perform grid search for the best tSNE hyperparameters\n",
    "    \n",
    "    Arguments:\n",
    "      x_train: input training set\n",
    "      y_train: label training set\n",
    "      dropout_rates: dropout rates to try\n",
    "      l2_lambdas: L2 lambda coefficients to try\n",
    "      learning_rates: learning rates to try\n",
    "      num_epochs: number of epochs to train\n",
    "      batch_size: training mini-batch size\n",
    "    \n",
    "    Returns:\n",
    "      losses: list losses for configurations tested where\n",
    "        losses[i] = [dropout_rate, l2_lambda, learning_rate, best_loss, best_kl_divgergence]\n",
    "    \"\"\"\n",
    "    losses = []\n",
    "    \n",
    "    pbar = tqdm(total = len(dropout_rates) * len(l2_lambdas) * len(learning_rates))\n",
    "    for dropout_rate in dropout_rates:\n",
    "        for l2_lambda in l2_lambdas:\n",
    "            for learning_rate in learning_rates:\n",
    "                print(\"training with dropout:{} l2:{} lr:{}\".format(dropout_rate,l2_lambda,learning_rate))\n",
    "                # DO NOT shuffle your validation/train set because the pairwise label are calculated by batch\n",
    "                # Use the last batch in train set as the validation set\n",
    "                subset_x_train, subset_y_train=(x_train[0:-batch_size],y_train[0:-batch_size])\n",
    "                subset_x_val, subset_y_val = (x_train[-batch_size:],y_train[-batch_size:])\n",
    "                hyperparam_config = {'dropout_rate': dropout_rate,\n",
    "                                     'l2_lambda': l2_lambda,\n",
    "                                     'lr': learning_rate}\n",
    "\n",
    "                best_loss = training(subset_x_train, subset_y_train,\n",
    "                                     subset_x_val, subset_y_val,\n",
    "                                     hyperparam_config,\n",
    "                                     num_epochs,\n",
    "                                     batch_size,\n",
    "                                     save_model=False)\n",
    "\n",
    "                losses.append([dropout_rate, l2_lambda, learning_rate, best_loss])\n",
    "                pbar.update(1)\n",
    "    pbar.close()\n",
    "    return losses\n"
   ]
  },
  {
   "cell_type": "code",
   "execution_count": 96,
   "metadata": {},
   "outputs": [],
   "source": [
    "dropout_rates = [0.5, 0.2, 0.1]\n",
    "l2_lambdas = [1e-03, 1e-06]\n",
    "learning_rates = [0.1, 0.01, 1e-4]\n",
    "NUM_EPOCHS = 10\n",
    "BATCH_SIZE = 400"
   ]
  },
  {
   "cell_type": "code",
   "execution_count": 97,
   "metadata": {},
   "outputs": [
    {
     "data": {
      "application/vnd.jupyter.widget-view+json": {
       "model_id": "8373d0c459b14132927c02b5e8be3edb",
       "version_major": 2,
       "version_minor": 0
      },
      "text/plain": [
       "HBox(children=(IntProgress(value=0, max=18), HTML(value='')))"
      ]
     },
     "metadata": {},
     "output_type": "display_data"
    },
    {
     "name": "stdout",
     "output_type": "stream",
     "text": [
      "training with dropout:0.5 l2:0.001 lr:0.1\n",
      "getting initial loss\n"
     ]
    },
    {
     "data": {
      "application/vnd.jupyter.widget-view+json": {
       "model_id": "50897488fcfc48f0ae2efd93c1f6a55f",
       "version_major": 2,
       "version_minor": 0
      },
      "text/plain": [
       "HBox(children=(IntProgress(value=0, description='Training Epochs', max=10, style=ProgressStyle(description_wid…"
      ]
     },
     "metadata": {},
     "output_type": "display_data"
    },
    {
     "data": {
      "application/vnd.jupyter.widget-view+json": {
       "model_id": "e2bb0343d66b4fcaa69738859f9902d6",
       "version_major": 2,
       "version_minor": 0
      },
      "text/plain": [
       "HBox(children=(IntProgress(value=1, bar_style='info', description='Training Steps', max=1, style=ProgressStyle…"
      ]
     },
     "metadata": {},
     "output_type": "display_data"
    },
    {
     "name": "stdout",
     "output_type": "stream",
     "text": [
      "epoch: 01, loss: 1.075\n",
      "epoch: 02, loss: 1.072\n",
      "epoch: 03, loss: 1.070\n",
      "epoch: 04, loss: 1.068\n",
      "epoch: 05, loss: 1.066\n",
      "epoch: 06, loss: 1.061\n",
      "epoch: 07, loss: 1.055\n",
      "epoch: 08, loss: 1.051\n",
      "epoch: 09, loss: 1.042\n",
      "epoch: 10, loss: 1.027\n",
      "training with dropout:0.5 l2:0.001 lr:0.01\n",
      "getting initial loss\n"
     ]
    },
    {
     "data": {
      "application/vnd.jupyter.widget-view+json": {
       "model_id": "0e9a34b1cdde4839a4d02371a3260b4e",
       "version_major": 2,
       "version_minor": 0
      },
      "text/plain": [
       "HBox(children=(IntProgress(value=0, description='Training Epochs', max=10, style=ProgressStyle(description_wid…"
      ]
     },
     "metadata": {},
     "output_type": "display_data"
    },
    {
     "data": {
      "application/vnd.jupyter.widget-view+json": {
       "model_id": "d86dc61699d84a14a24d915f937af8fd",
       "version_major": 2,
       "version_minor": 0
      },
      "text/plain": [
       "HBox(children=(IntProgress(value=1, bar_style='info', description='Training Steps', max=1, style=ProgressStyle…"
      ]
     },
     "metadata": {},
     "output_type": "display_data"
    },
    {
     "name": "stdout",
     "output_type": "stream",
     "text": [
      "epoch: 01, loss: 1.098\n",
      "epoch: 02, loss: 1.092\n",
      "epoch: 03, loss: 1.088\n",
      "epoch: 04, loss: 1.085\n",
      "epoch: 05, loss: 1.083\n",
      "epoch: 06, loss: 1.081\n",
      "epoch: 07, loss: 1.080\n",
      "epoch: 08, loss: 1.078\n",
      "epoch: 09, loss: 1.078\n",
      "epoch: 10, loss: 1.077\n",
      "training with dropout:0.5 l2:0.001 lr:0.0001\n",
      "getting initial loss\n"
     ]
    },
    {
     "data": {
      "application/vnd.jupyter.widget-view+json": {
       "model_id": "5146bff5bf094184b27acd4e54e50747",
       "version_major": 2,
       "version_minor": 0
      },
      "text/plain": [
       "HBox(children=(IntProgress(value=0, description='Training Epochs', max=10, style=ProgressStyle(description_wid…"
      ]
     },
     "metadata": {},
     "output_type": "display_data"
    },
    {
     "data": {
      "application/vnd.jupyter.widget-view+json": {
       "model_id": "26fb966c9392476988661d99675ce85f",
       "version_major": 2,
       "version_minor": 0
      },
      "text/plain": [
       "HBox(children=(IntProgress(value=1, bar_style='info', description='Training Steps', max=1, style=ProgressStyle…"
      ]
     },
     "metadata": {},
     "output_type": "display_data"
    },
    {
     "name": "stdout",
     "output_type": "stream",
     "text": [
      "epoch: 01, loss: 1.106\n",
      "epoch: 02, loss: 1.106\n",
      "epoch: 03, loss: 1.106\n",
      "epoch: 04, loss: 1.106\n",
      "epoch: 05, loss: 1.106\n",
      "epoch: 06, loss: 1.105\n",
      "epoch: 07, loss: 1.105\n",
      "epoch: 08, loss: 1.105\n",
      "epoch: 09, loss: 1.105\n",
      "epoch: 10, loss: 1.105\n",
      "training with dropout:0.5 l2:1e-06 lr:0.1\n",
      "getting initial loss\n"
     ]
    },
    {
     "data": {
      "application/vnd.jupyter.widget-view+json": {
       "model_id": "cfcb66cff09142369498d7cdc48935f1",
       "version_major": 2,
       "version_minor": 0
      },
      "text/plain": [
       "HBox(children=(IntProgress(value=0, description='Training Epochs', max=10, style=ProgressStyle(description_wid…"
      ]
     },
     "metadata": {},
     "output_type": "display_data"
    },
    {
     "data": {
      "application/vnd.jupyter.widget-view+json": {
       "model_id": "24e7cb8e814346539a1615cca8db4fa1",
       "version_major": 2,
       "version_minor": 0
      },
      "text/plain": [
       "HBox(children=(IntProgress(value=1, bar_style='info', description='Training Steps', max=1, style=ProgressStyle…"
      ]
     },
     "metadata": {},
     "output_type": "display_data"
    },
    {
     "name": "stdout",
     "output_type": "stream",
     "text": [
      "epoch: 01, loss: 1.078\n",
      "epoch: 02, loss: 1.074\n",
      "epoch: 03, loss: 1.072\n",
      "epoch: 04, loss: 1.071\n",
      "epoch: 05, loss: 1.068\n",
      "epoch: 06, loss: 1.064\n",
      "epoch: 07, loss: 1.059\n",
      "epoch: 08, loss: 1.054\n",
      "epoch: 09, loss: 1.046\n",
      "epoch: 10, loss: 1.041\n",
      "training with dropout:0.5 l2:1e-06 lr:0.01\n",
      "getting initial loss\n"
     ]
    },
    {
     "data": {
      "application/vnd.jupyter.widget-view+json": {
       "model_id": "0015b4604506461d9050e207830ed976",
       "version_major": 2,
       "version_minor": 0
      },
      "text/plain": [
       "HBox(children=(IntProgress(value=0, description='Training Epochs', max=10, style=ProgressStyle(description_wid…"
      ]
     },
     "metadata": {},
     "output_type": "display_data"
    },
    {
     "data": {
      "application/vnd.jupyter.widget-view+json": {
       "model_id": "6ec82c74699b457787bdb0fc84551682",
       "version_major": 2,
       "version_minor": 0
      },
      "text/plain": [
       "HBox(children=(IntProgress(value=1, bar_style='info', description='Training Steps', max=1, style=ProgressStyle…"
      ]
     },
     "metadata": {},
     "output_type": "display_data"
    },
    {
     "name": "stdout",
     "output_type": "stream",
     "text": [
      "epoch: 01, loss: 1.097\n",
      "epoch: 02, loss: 1.093\n",
      "epoch: 03, loss: 1.090\n",
      "epoch: 04, loss: 1.087\n",
      "epoch: 05, loss: 1.086\n",
      "epoch: 06, loss: 1.084\n",
      "epoch: 07, loss: 1.083\n",
      "epoch: 08, loss: 1.082\n",
      "epoch: 09, loss: 1.081\n",
      "epoch: 10, loss: 1.081\n",
      "training with dropout:0.5 l2:1e-06 lr:0.0001\n",
      "getting initial loss\n"
     ]
    },
    {
     "data": {
      "application/vnd.jupyter.widget-view+json": {
       "model_id": "54c7a68cfe284951962bb7ae2d1a9b2f",
       "version_major": 2,
       "version_minor": 0
      },
      "text/plain": [
       "HBox(children=(IntProgress(value=0, description='Training Epochs', max=10, style=ProgressStyle(description_wid…"
      ]
     },
     "metadata": {},
     "output_type": "display_data"
    },
    {
     "data": {
      "application/vnd.jupyter.widget-view+json": {
       "model_id": "69617de048e649cfbbc632513f487713",
       "version_major": 2,
       "version_minor": 0
      },
      "text/plain": [
       "HBox(children=(IntProgress(value=1, bar_style='info', description='Training Steps', max=1, style=ProgressStyle…"
      ]
     },
     "metadata": {},
     "output_type": "display_data"
    },
    {
     "name": "stdout",
     "output_type": "stream",
     "text": [
      "epoch: 01, loss: 1.102\n",
      "epoch: 02, loss: 1.102\n",
      "epoch: 03, loss: 1.101\n",
      "epoch: 04, loss: 1.101\n",
      "epoch: 05, loss: 1.101\n",
      "epoch: 06, loss: 1.101\n",
      "epoch: 07, loss: 1.101\n",
      "epoch: 08, loss: 1.101\n",
      "epoch: 09, loss: 1.101\n",
      "epoch: 10, loss: 1.101\n",
      "training with dropout:0.2 l2:0.001 lr:0.1\n",
      "getting initial loss\n"
     ]
    },
    {
     "data": {
      "application/vnd.jupyter.widget-view+json": {
       "model_id": "942b99ce9386455285e2248e683e0b6a",
       "version_major": 2,
       "version_minor": 0
      },
      "text/plain": [
       "HBox(children=(IntProgress(value=0, description='Training Epochs', max=10, style=ProgressStyle(description_wid…"
      ]
     },
     "metadata": {},
     "output_type": "display_data"
    },
    {
     "data": {
      "application/vnd.jupyter.widget-view+json": {
       "model_id": "401ad7512ef74c52883cdaf6053c34c2",
       "version_major": 2,
       "version_minor": 0
      },
      "text/plain": [
       "HBox(children=(IntProgress(value=1, bar_style='info', description='Training Steps', max=1, style=ProgressStyle…"
      ]
     },
     "metadata": {},
     "output_type": "display_data"
    },
    {
     "name": "stdout",
     "output_type": "stream",
     "text": [
      "epoch: 01, loss: 1.074\n",
      "epoch: 02, loss: 1.070\n",
      "epoch: 03, loss: 1.066\n",
      "epoch: 04, loss: 1.063\n",
      "epoch: 05, loss: 1.065\n",
      "epoch: 06, loss: 1.052\n",
      "epoch: 07, loss: 1.035\n",
      "epoch: 08, loss: 1.014\n",
      "epoch: 09, loss: 1.034\n",
      "epoch: 10, loss: 0.997\n",
      "training with dropout:0.2 l2:0.001 lr:0.01\n",
      "getting initial loss\n"
     ]
    },
    {
     "data": {
      "application/vnd.jupyter.widget-view+json": {
       "model_id": "7aa6b37adb1449448938bd06ecfb3e87",
       "version_major": 2,
       "version_minor": 0
      },
      "text/plain": [
       "HBox(children=(IntProgress(value=0, description='Training Epochs', max=10, style=ProgressStyle(description_wid…"
      ]
     },
     "metadata": {},
     "output_type": "display_data"
    },
    {
     "data": {
      "application/vnd.jupyter.widget-view+json": {
       "model_id": "2d031e5470214377bc4678e9237d0d1a",
       "version_major": 2,
       "version_minor": 0
      },
      "text/plain": [
       "HBox(children=(IntProgress(value=1, bar_style='info', description='Training Steps', max=1, style=ProgressStyle…"
      ]
     },
     "metadata": {},
     "output_type": "display_data"
    },
    {
     "name": "stdout",
     "output_type": "stream",
     "text": [
      "epoch: 01, loss: 1.090\n",
      "epoch: 02, loss: 1.085\n",
      "epoch: 03, loss: 1.082\n",
      "epoch: 04, loss: 1.080\n",
      "epoch: 05, loss: 1.078\n",
      "epoch: 06, loss: 1.076\n",
      "epoch: 07, loss: 1.075\n",
      "epoch: 08, loss: 1.074\n",
      "epoch: 09, loss: 1.073\n",
      "epoch: 10, loss: 1.072\n",
      "training with dropout:0.2 l2:0.001 lr:0.0001\n",
      "getting initial loss\n"
     ]
    },
    {
     "data": {
      "application/vnd.jupyter.widget-view+json": {
       "model_id": "2ec8c72d4ad547e88545b6674e0cd01d",
       "version_major": 2,
       "version_minor": 0
      },
      "text/plain": [
       "HBox(children=(IntProgress(value=0, description='Training Epochs', max=10, style=ProgressStyle(description_wid…"
      ]
     },
     "metadata": {},
     "output_type": "display_data"
    },
    {
     "data": {
      "application/vnd.jupyter.widget-view+json": {
       "model_id": "76dc1f84e6134296afde482caff73512",
       "version_major": 2,
       "version_minor": 0
      },
      "text/plain": [
       "HBox(children=(IntProgress(value=1, bar_style='info', description='Training Steps', max=1, style=ProgressStyle…"
      ]
     },
     "metadata": {},
     "output_type": "display_data"
    },
    {
     "name": "stdout",
     "output_type": "stream",
     "text": [
      "epoch: 01, loss: 1.091\n",
      "epoch: 02, loss: 1.091\n",
      "epoch: 03, loss: 1.091\n",
      "epoch: 04, loss: 1.091\n",
      "epoch: 05, loss: 1.091\n",
      "epoch: 06, loss: 1.091\n",
      "epoch: 07, loss: 1.091\n",
      "epoch: 08, loss: 1.091\n",
      "epoch: 09, loss: 1.091\n",
      "epoch: 10, loss: 1.091\n",
      "training with dropout:0.2 l2:1e-06 lr:0.1\n",
      "getting initial loss\n"
     ]
    },
    {
     "data": {
      "application/vnd.jupyter.widget-view+json": {
       "model_id": "33a4395ebb404a7996370d411104124a",
       "version_major": 2,
       "version_minor": 0
      },
      "text/plain": [
       "HBox(children=(IntProgress(value=0, description='Training Epochs', max=10, style=ProgressStyle(description_wid…"
      ]
     },
     "metadata": {},
     "output_type": "display_data"
    },
    {
     "data": {
      "application/vnd.jupyter.widget-view+json": {
       "model_id": "7ccd4c21b8a24f3c9160d972aa516c9b",
       "version_major": 2,
       "version_minor": 0
      },
      "text/plain": [
       "HBox(children=(IntProgress(value=1, bar_style='info', description='Training Steps', max=1, style=ProgressStyle…"
      ]
     },
     "metadata": {},
     "output_type": "display_data"
    },
    {
     "name": "stdout",
     "output_type": "stream",
     "text": [
      "epoch: 01, loss: 1.076\n",
      "epoch: 02, loss: 1.072\n",
      "epoch: 03, loss: 1.070\n",
      "epoch: 04, loss: 1.066\n",
      "epoch: 05, loss: 1.063\n",
      "epoch: 06, loss: 1.055\n",
      "epoch: 07, loss: 1.046\n",
      "epoch: 08, loss: 1.029\n",
      "epoch: 09, loss: 1.017\n",
      "epoch: 10, loss: 1.034\n",
      "training with dropout:0.2 l2:1e-06 lr:0.01\n",
      "getting initial loss\n"
     ]
    },
    {
     "data": {
      "application/vnd.jupyter.widget-view+json": {
       "model_id": "601173e5515d43099da5b0abe3da854c",
       "version_major": 2,
       "version_minor": 0
      },
      "text/plain": [
       "HBox(children=(IntProgress(value=0, description='Training Epochs', max=10, style=ProgressStyle(description_wid…"
      ]
     },
     "metadata": {},
     "output_type": "display_data"
    },
    {
     "data": {
      "application/vnd.jupyter.widget-view+json": {
       "model_id": "7bf2a757ad07446cbf6f7ef6de589a0c",
       "version_major": 2,
       "version_minor": 0
      },
      "text/plain": [
       "HBox(children=(IntProgress(value=1, bar_style='info', description='Training Steps', max=1, style=ProgressStyle…"
      ]
     },
     "metadata": {},
     "output_type": "display_data"
    },
    {
     "name": "stdout",
     "output_type": "stream",
     "text": [
      "epoch: 01, loss: 1.090\n",
      "epoch: 02, loss: 1.086\n",
      "epoch: 03, loss: 1.083\n",
      "epoch: 04, loss: 1.081\n",
      "epoch: 05, loss: 1.079\n",
      "epoch: 06, loss: 1.078\n",
      "epoch: 07, loss: 1.076\n",
      "epoch: 08, loss: 1.075\n",
      "epoch: 09, loss: 1.075\n",
      "epoch: 10, loss: 1.074\n",
      "training with dropout:0.2 l2:1e-06 lr:0.0001\n",
      "getting initial loss\n"
     ]
    },
    {
     "data": {
      "application/vnd.jupyter.widget-view+json": {
       "model_id": "f61874be53e3429681a4d37dba8bed43",
       "version_major": 2,
       "version_minor": 0
      },
      "text/plain": [
       "HBox(children=(IntProgress(value=0, description='Training Epochs', max=10, style=ProgressStyle(description_wid…"
      ]
     },
     "metadata": {},
     "output_type": "display_data"
    },
    {
     "data": {
      "application/vnd.jupyter.widget-view+json": {
       "model_id": "86ae44ab84a6494d82f3052a6c544e23",
       "version_major": 2,
       "version_minor": 0
      },
      "text/plain": [
       "HBox(children=(IntProgress(value=1, bar_style='info', description='Training Steps', max=1, style=ProgressStyle…"
      ]
     },
     "metadata": {},
     "output_type": "display_data"
    },
    {
     "name": "stdout",
     "output_type": "stream",
     "text": [
      "epoch: 01, loss: 1.095\n",
      "epoch: 02, loss: 1.095\n",
      "epoch: 03, loss: 1.095\n",
      "epoch: 04, loss: 1.095\n",
      "epoch: 05, loss: 1.095\n",
      "epoch: 06, loss: 1.095\n",
      "epoch: 07, loss: 1.095\n",
      "epoch: 08, loss: 1.095\n",
      "epoch: 09, loss: 1.095\n",
      "epoch: 10, loss: 1.095\n",
      "training with dropout:0.1 l2:0.001 lr:0.1\n",
      "getting initial loss\n"
     ]
    },
    {
     "data": {
      "application/vnd.jupyter.widget-view+json": {
       "model_id": "18d1e5ed4402460fa474176237ba462d",
       "version_major": 2,
       "version_minor": 0
      },
      "text/plain": [
       "HBox(children=(IntProgress(value=0, description='Training Epochs', max=10, style=ProgressStyle(description_wid…"
      ]
     },
     "metadata": {},
     "output_type": "display_data"
    },
    {
     "data": {
      "application/vnd.jupyter.widget-view+json": {
       "model_id": "be4b6dc98ac04c4da3d8e2bae11212d2",
       "version_major": 2,
       "version_minor": 0
      },
      "text/plain": [
       "HBox(children=(IntProgress(value=1, bar_style='info', description='Training Steps', max=1, style=ProgressStyle…"
      ]
     },
     "metadata": {},
     "output_type": "display_data"
    },
    {
     "name": "stdout",
     "output_type": "stream",
     "text": [
      "epoch: 01, loss: 1.071\n",
      "epoch: 02, loss: 1.066\n",
      "epoch: 03, loss: 1.062\n",
      "epoch: 04, loss: 1.063\n",
      "epoch: 05, loss: 1.047\n",
      "epoch: 06, loss: 1.035\n",
      "epoch: 07, loss: 1.026\n",
      "epoch: 08, loss: 1.089\n",
      "epoch: 09, loss: 1.006\n",
      "epoch: 10, loss: 1.602\n",
      "training with dropout:0.1 l2:0.001 lr:0.01\n",
      "getting initial loss\n"
     ]
    },
    {
     "data": {
      "application/vnd.jupyter.widget-view+json": {
       "model_id": "b3096a6ed1c24477b98c7ca0d6ce87a9",
       "version_major": 2,
       "version_minor": 0
      },
      "text/plain": [
       "HBox(children=(IntProgress(value=0, description='Training Epochs', max=10, style=ProgressStyle(description_wid…"
      ]
     },
     "metadata": {},
     "output_type": "display_data"
    },
    {
     "data": {
      "application/vnd.jupyter.widget-view+json": {
       "model_id": "d702174946d142d0ba5b65a95681d61b",
       "version_major": 2,
       "version_minor": 0
      },
      "text/plain": [
       "HBox(children=(IntProgress(value=1, bar_style='info', description='Training Steps', max=1, style=ProgressStyle…"
      ]
     },
     "metadata": {},
     "output_type": "display_data"
    },
    {
     "name": "stdout",
     "output_type": "stream",
     "text": [
      "epoch: 01, loss: 1.088\n",
      "epoch: 02, loss: 1.085\n",
      "epoch: 03, loss: 1.082\n",
      "epoch: 04, loss: 1.080\n",
      "epoch: 05, loss: 1.078\n",
      "epoch: 06, loss: 1.077\n",
      "epoch: 07, loss: 1.076\n",
      "epoch: 08, loss: 1.075\n",
      "epoch: 09, loss: 1.074\n",
      "epoch: 10, loss: 1.074\n",
      "training with dropout:0.1 l2:0.001 lr:0.0001\n",
      "getting initial loss\n"
     ]
    },
    {
     "data": {
      "application/vnd.jupyter.widget-view+json": {
       "model_id": "a2ab630add72474f9cdec7c71d2f3e2a",
       "version_major": 2,
       "version_minor": 0
      },
      "text/plain": [
       "HBox(children=(IntProgress(value=0, description='Training Epochs', max=10, style=ProgressStyle(description_wid…"
      ]
     },
     "metadata": {},
     "output_type": "display_data"
    },
    {
     "data": {
      "application/vnd.jupyter.widget-view+json": {
       "model_id": "4dc71f513fa04a48ba0e74c131cbcea1",
       "version_major": 2,
       "version_minor": 0
      },
      "text/plain": [
       "HBox(children=(IntProgress(value=1, bar_style='info', description='Training Steps', max=1, style=ProgressStyle…"
      ]
     },
     "metadata": {},
     "output_type": "display_data"
    },
    {
     "name": "stdout",
     "output_type": "stream",
     "text": [
      "epoch: 01, loss: 1.097\n",
      "epoch: 02, loss: 1.097\n",
      "epoch: 03, loss: 1.096\n",
      "epoch: 04, loss: 1.096\n",
      "epoch: 05, loss: 1.096\n",
      "epoch: 06, loss: 1.096\n",
      "epoch: 07, loss: 1.096\n",
      "epoch: 08, loss: 1.096\n",
      "epoch: 09, loss: 1.096\n",
      "epoch: 10, loss: 1.096\n",
      "training with dropout:0.1 l2:1e-06 lr:0.1\n",
      "getting initial loss\n"
     ]
    },
    {
     "data": {
      "application/vnd.jupyter.widget-view+json": {
       "model_id": "6c5138f672164dec825903750227e0b8",
       "version_major": 2,
       "version_minor": 0
      },
      "text/plain": [
       "HBox(children=(IntProgress(value=0, description='Training Epochs', max=10, style=ProgressStyle(description_wid…"
      ]
     },
     "metadata": {},
     "output_type": "display_data"
    },
    {
     "data": {
      "application/vnd.jupyter.widget-view+json": {
       "model_id": "55ddd1386e444faba39532494721bc9e",
       "version_major": 2,
       "version_minor": 0
      },
      "text/plain": [
       "HBox(children=(IntProgress(value=1, bar_style='info', description='Training Steps', max=1, style=ProgressStyle…"
      ]
     },
     "metadata": {},
     "output_type": "display_data"
    },
    {
     "name": "stdout",
     "output_type": "stream",
     "text": [
      "epoch: 01, loss: 1.076\n",
      "epoch: 02, loss: 1.072\n",
      "epoch: 03, loss: 1.067\n",
      "epoch: 04, loss: 1.069\n",
      "epoch: 05, loss: 1.066\n",
      "epoch: 06, loss: 1.052\n",
      "epoch: 07, loss: 1.045\n",
      "epoch: 08, loss: 1.028\n",
      "epoch: 09, loss: 1.002\n",
      "epoch: 10, loss: 1.275\n",
      "training with dropout:0.1 l2:1e-06 lr:0.01\n",
      "getting initial loss\n"
     ]
    },
    {
     "data": {
      "application/vnd.jupyter.widget-view+json": {
       "model_id": "745e7e5c81164b478fae161b30889b52",
       "version_major": 2,
       "version_minor": 0
      },
      "text/plain": [
       "HBox(children=(IntProgress(value=0, description='Training Epochs', max=10, style=ProgressStyle(description_wid…"
      ]
     },
     "metadata": {},
     "output_type": "display_data"
    },
    {
     "data": {
      "application/vnd.jupyter.widget-view+json": {
       "model_id": "6567b9bfd7174a4fa1a1983bae8d0f59",
       "version_major": 2,
       "version_minor": 0
      },
      "text/plain": [
       "HBox(children=(IntProgress(value=1, bar_style='info', description='Training Steps', max=1, style=ProgressStyle…"
      ]
     },
     "metadata": {},
     "output_type": "display_data"
    },
    {
     "name": "stdout",
     "output_type": "stream",
     "text": [
      "epoch: 01, loss: 1.107\n",
      "epoch: 02, loss: 1.100\n",
      "epoch: 03, loss: 1.094\n",
      "epoch: 04, loss: 1.089\n",
      "epoch: 05, loss: 1.086\n",
      "epoch: 06, loss: 1.084\n",
      "epoch: 07, loss: 1.082\n",
      "epoch: 08, loss: 1.080\n",
      "epoch: 09, loss: 1.078\n",
      "epoch: 10, loss: 1.077\n",
      "training with dropout:0.1 l2:1e-06 lr:0.0001\n",
      "getting initial loss\n"
     ]
    },
    {
     "data": {
      "application/vnd.jupyter.widget-view+json": {
       "model_id": "d41f65c80a5447aba1b0f1c7570e0f68",
       "version_major": 2,
       "version_minor": 0
      },
      "text/plain": [
       "HBox(children=(IntProgress(value=0, description='Training Epochs', max=10, style=ProgressStyle(description_wid…"
      ]
     },
     "metadata": {},
     "output_type": "display_data"
    },
    {
     "data": {
      "application/vnd.jupyter.widget-view+json": {
       "model_id": "5060211dbc4741489c74fe092e6c57b0",
       "version_major": 2,
       "version_minor": 0
      },
      "text/plain": [
       "HBox(children=(IntProgress(value=1, bar_style='info', description='Training Steps', max=1, style=ProgressStyle…"
      ]
     },
     "metadata": {},
     "output_type": "display_data"
    },
    {
     "name": "stdout",
     "output_type": "stream",
     "text": [
      "epoch: 01, loss: 1.088\n",
      "epoch: 02, loss: 1.088\n",
      "epoch: 03, loss: 1.088\n",
      "epoch: 04, loss: 1.088\n",
      "epoch: 05, loss: 1.087\n",
      "epoch: 06, loss: 1.087\n",
      "epoch: 07, loss: 1.087\n",
      "epoch: 08, loss: 1.087\n",
      "epoch: 09, loss: 1.087\n",
      "epoch: 10, loss: 1.087\n",
      "\n"
     ]
    }
   ],
   "source": [
    "''' GRID-SEARCH for ATAC-seq as input'''\n",
    "atac_param_result = grid_search(X_atac_train, Y_atac_train, dropout_rates, l2_lambdas, learning_rates, NUM_EPOCHS, BATCH_SIZE)"
   ]
  },
  {
   "cell_type": "code",
   "execution_count": 98,
   "metadata": {},
   "outputs": [
    {
     "data": {
      "application/vnd.jupyter.widget-view+json": {
       "model_id": "d649456d1747418cb307c2f2cf2368f5",
       "version_major": 2,
       "version_minor": 0
      },
      "text/plain": [
       "HBox(children=(IntProgress(value=0, max=18), HTML(value='')))"
      ]
     },
     "metadata": {},
     "output_type": "display_data"
    },
    {
     "name": "stdout",
     "output_type": "stream",
     "text": [
      "training with dropout:0.5 l2:0.001 lr:0.1\n",
      "getting initial loss\n"
     ]
    },
    {
     "data": {
      "application/vnd.jupyter.widget-view+json": {
       "model_id": "537161fd0b424d2da82dcb158813e10f",
       "version_major": 2,
       "version_minor": 0
      },
      "text/plain": [
       "HBox(children=(IntProgress(value=0, description='Training Epochs', max=10, style=ProgressStyle(description_wid…"
      ]
     },
     "metadata": {},
     "output_type": "display_data"
    },
    {
     "data": {
      "application/vnd.jupyter.widget-view+json": {
       "model_id": "8f1ae07e1b06442586cf21d0331f4682",
       "version_major": 2,
       "version_minor": 0
      },
      "text/plain": [
       "HBox(children=(IntProgress(value=1, bar_style='info', description='Training Steps', max=1, style=ProgressStyle…"
      ]
     },
     "metadata": {},
     "output_type": "display_data"
    },
    {
     "name": "stdout",
     "output_type": "stream",
     "text": [
      "epoch: 01, loss: 1.136\n",
      "epoch: 02, loss: 1.041\n",
      "epoch: 03, loss: 1.010\n",
      "epoch: 04, loss: 0.969\n",
      "epoch: 05, loss: 0.895\n",
      "epoch: 06, loss: 0.808\n",
      "epoch: 07, loss: 0.968\n",
      "epoch: 08, loss: 0.707\n",
      "epoch: 09, loss: 0.833\n",
      "epoch: 10, loss: 0.671\n",
      "training with dropout:0.5 l2:0.001 lr:0.01\n",
      "getting initial loss\n"
     ]
    },
    {
     "data": {
      "application/vnd.jupyter.widget-view+json": {
       "model_id": "3a7c12343a444acb91b99ff5aee5404d",
       "version_major": 2,
       "version_minor": 0
      },
      "text/plain": [
       "HBox(children=(IntProgress(value=0, description='Training Epochs', max=10, style=ProgressStyle(description_wid…"
      ]
     },
     "metadata": {},
     "output_type": "display_data"
    },
    {
     "data": {
      "application/vnd.jupyter.widget-view+json": {
       "model_id": "75cd59977a0541c2ac1e912fe250934c",
       "version_major": 2,
       "version_minor": 0
      },
      "text/plain": [
       "HBox(children=(IntProgress(value=1, bar_style='info', description='Training Steps', max=1, style=ProgressStyle…"
      ]
     },
     "metadata": {},
     "output_type": "display_data"
    },
    {
     "name": "stdout",
     "output_type": "stream",
     "text": [
      "epoch: 01, loss: 1.059\n",
      "epoch: 02, loss: 1.043\n",
      "epoch: 03, loss: 1.032\n",
      "epoch: 04, loss: 1.013\n",
      "epoch: 05, loss: 1.002\n",
      "epoch: 06, loss: 0.990\n",
      "epoch: 07, loss: 0.979\n",
      "epoch: 08, loss: 0.971\n",
      "epoch: 09, loss: 0.959\n",
      "epoch: 10, loss: 0.950\n",
      "training with dropout:0.5 l2:0.001 lr:0.0001\n",
      "getting initial loss\n"
     ]
    },
    {
     "data": {
      "application/vnd.jupyter.widget-view+json": {
       "model_id": "a682257ba5c143118c7a533ce6e3ac2f",
       "version_major": 2,
       "version_minor": 0
      },
      "text/plain": [
       "HBox(children=(IntProgress(value=0, description='Training Epochs', max=10, style=ProgressStyle(description_wid…"
      ]
     },
     "metadata": {},
     "output_type": "display_data"
    },
    {
     "data": {
      "application/vnd.jupyter.widget-view+json": {
       "model_id": "be60be1bbc2e4eafbe6bdc37255b7e6c",
       "version_major": 2,
       "version_minor": 0
      },
      "text/plain": [
       "HBox(children=(IntProgress(value=1, bar_style='info', description='Training Steps', max=1, style=ProgressStyle…"
      ]
     },
     "metadata": {},
     "output_type": "display_data"
    },
    {
     "name": "stdout",
     "output_type": "stream",
     "text": [
      "epoch: 01, loss: 1.164\n",
      "epoch: 02, loss: 1.157\n",
      "epoch: 03, loss: 1.151\n",
      "epoch: 04, loss: 1.146\n",
      "epoch: 05, loss: 1.141\n",
      "epoch: 06, loss: 1.136\n",
      "epoch: 07, loss: 1.132\n",
      "epoch: 08, loss: 1.128\n",
      "epoch: 09, loss: 1.124\n",
      "epoch: 10, loss: 1.121\n",
      "training with dropout:0.5 l2:1e-06 lr:0.1\n",
      "getting initial loss\n"
     ]
    },
    {
     "data": {
      "application/vnd.jupyter.widget-view+json": {
       "model_id": "675ae1a8fe96488b917f1d5e4a29701c",
       "version_major": 2,
       "version_minor": 0
      },
      "text/plain": [
       "HBox(children=(IntProgress(value=0, description='Training Epochs', max=10, style=ProgressStyle(description_wid…"
      ]
     },
     "metadata": {},
     "output_type": "display_data"
    },
    {
     "data": {
      "application/vnd.jupyter.widget-view+json": {
       "model_id": "29a04898a96b425d9ce2bac942565a0d",
       "version_major": 2,
       "version_minor": 0
      },
      "text/plain": [
       "HBox(children=(IntProgress(value=1, bar_style='info', description='Training Steps', max=1, style=ProgressStyle…"
      ]
     },
     "metadata": {},
     "output_type": "display_data"
    },
    {
     "name": "stdout",
     "output_type": "stream",
     "text": [
      "epoch: 01, loss: 1.111\n",
      "epoch: 02, loss: 1.067\n",
      "epoch: 03, loss: 1.053\n",
      "epoch: 04, loss: 1.039\n",
      "epoch: 05, loss: 1.022\n",
      "epoch: 06, loss: 0.994\n",
      "epoch: 07, loss: 0.964\n",
      "epoch: 08, loss: 0.900\n",
      "epoch: 09, loss: 0.824\n",
      "epoch: 10, loss: 0.828\n",
      "training with dropout:0.5 l2:1e-06 lr:0.01\n",
      "getting initial loss\n"
     ]
    },
    {
     "data": {
      "application/vnd.jupyter.widget-view+json": {
       "model_id": "521bf274ccc148be91fcc182e38815a9",
       "version_major": 2,
       "version_minor": 0
      },
      "text/plain": [
       "HBox(children=(IntProgress(value=0, description='Training Epochs', max=10, style=ProgressStyle(description_wid…"
      ]
     },
     "metadata": {},
     "output_type": "display_data"
    },
    {
     "data": {
      "application/vnd.jupyter.widget-view+json": {
       "model_id": "9f3a2f15819c41eb9857c442025738c4",
       "version_major": 2,
       "version_minor": 0
      },
      "text/plain": [
       "HBox(children=(IntProgress(value=1, bar_style='info', description='Training Steps', max=1, style=ProgressStyle…"
      ]
     },
     "metadata": {},
     "output_type": "display_data"
    },
    {
     "name": "stdout",
     "output_type": "stream",
     "text": [
      "epoch: 01, loss: 1.079\n",
      "epoch: 02, loss: 1.064\n",
      "epoch: 03, loss: 1.049\n",
      "epoch: 04, loss: 1.036\n",
      "epoch: 05, loss: 1.026\n",
      "epoch: 06, loss: 1.014\n",
      "epoch: 07, loss: 1.004\n",
      "epoch: 08, loss: 0.993\n",
      "epoch: 09, loss: 0.986\n",
      "epoch: 10, loss: 0.975\n",
      "training with dropout:0.5 l2:1e-06 lr:0.0001\n",
      "getting initial loss\n"
     ]
    },
    {
     "data": {
      "application/vnd.jupyter.widget-view+json": {
       "model_id": "2f200e46f1ce443f99b048ba49c8fc2f",
       "version_major": 2,
       "version_minor": 0
      },
      "text/plain": [
       "HBox(children=(IntProgress(value=0, description='Training Epochs', max=10, style=ProgressStyle(description_wid…"
      ]
     },
     "metadata": {},
     "output_type": "display_data"
    },
    {
     "data": {
      "application/vnd.jupyter.widget-view+json": {
       "model_id": "d2452a1c9b0b40b9af2672fed71d7470",
       "version_major": 2,
       "version_minor": 0
      },
      "text/plain": [
       "HBox(children=(IntProgress(value=1, bar_style='info', description='Training Steps', max=1, style=ProgressStyle…"
      ]
     },
     "metadata": {},
     "output_type": "display_data"
    },
    {
     "name": "stdout",
     "output_type": "stream",
     "text": [
      "epoch: 01, loss: 1.070\n",
      "epoch: 02, loss: 1.070\n",
      "epoch: 03, loss: 1.070\n",
      "epoch: 04, loss: 1.069\n",
      "epoch: 05, loss: 1.069\n",
      "epoch: 06, loss: 1.069\n",
      "epoch: 07, loss: 1.068\n",
      "epoch: 08, loss: 1.068\n",
      "epoch: 09, loss: 1.068\n",
      "epoch: 10, loss: 1.068\n",
      "training with dropout:0.2 l2:0.001 lr:0.1\n",
      "getting initial loss\n"
     ]
    },
    {
     "data": {
      "application/vnd.jupyter.widget-view+json": {
       "model_id": "721eaef3210d4f89851bb46866faa7a4",
       "version_major": 2,
       "version_minor": 0
      },
      "text/plain": [
       "HBox(children=(IntProgress(value=0, description='Training Epochs', max=10, style=ProgressStyle(description_wid…"
      ]
     },
     "metadata": {},
     "output_type": "display_data"
    },
    {
     "data": {
      "application/vnd.jupyter.widget-view+json": {
       "model_id": "5853f31065e840f8a70ac721dbee75ce",
       "version_major": 2,
       "version_minor": 0
      },
      "text/plain": [
       "HBox(children=(IntProgress(value=1, bar_style='info', description='Training Steps', max=1, style=ProgressStyle…"
      ]
     },
     "metadata": {},
     "output_type": "display_data"
    },
    {
     "name": "stdout",
     "output_type": "stream",
     "text": [
      "epoch: 01, loss: 1.080\n",
      "epoch: 02, loss: 1.038\n",
      "epoch: 03, loss: 0.999\n",
      "epoch: 04, loss: 0.940\n",
      "epoch: 05, loss: 0.861\n",
      "epoch: 06, loss: 0.988\n",
      "epoch: 07, loss: 0.660\n",
      "epoch: 08, loss: 1.141\n",
      "epoch: 09, loss: 0.854\n",
      "epoch: 10, loss: 0.673\n",
      "training with dropout:0.2 l2:0.001 lr:0.01\n",
      "getting initial loss\n"
     ]
    },
    {
     "data": {
      "application/vnd.jupyter.widget-view+json": {
       "model_id": "4d5e35827b7e4956950afbe0451eae9b",
       "version_major": 2,
       "version_minor": 0
      },
      "text/plain": [
       "HBox(children=(IntProgress(value=0, description='Training Epochs', max=10, style=ProgressStyle(description_wid…"
      ]
     },
     "metadata": {},
     "output_type": "display_data"
    },
    {
     "data": {
      "application/vnd.jupyter.widget-view+json": {
       "model_id": "4635baab69d1434ca5fc77b4bd8b19f5",
       "version_major": 2,
       "version_minor": 0
      },
      "text/plain": [
       "HBox(children=(IntProgress(value=1, bar_style='info', description='Training Steps', max=1, style=ProgressStyle…"
      ]
     },
     "metadata": {},
     "output_type": "display_data"
    },
    {
     "name": "stdout",
     "output_type": "stream",
     "text": [
      "epoch: 01, loss: 1.070\n",
      "epoch: 02, loss: 1.048\n",
      "epoch: 03, loss: 1.025\n",
      "epoch: 04, loss: 1.006\n",
      "epoch: 05, loss: 0.986\n",
      "epoch: 06, loss: 0.967\n",
      "epoch: 07, loss: 0.948\n",
      "epoch: 08, loss: 0.929\n",
      "epoch: 09, loss: 0.910\n",
      "epoch: 10, loss: 0.893\n",
      "training with dropout:0.2 l2:0.001 lr:0.0001\n",
      "getting initial loss\n"
     ]
    },
    {
     "data": {
      "application/vnd.jupyter.widget-view+json": {
       "model_id": "77de99b1ef1e479aa8575ca208b65c4e",
       "version_major": 2,
       "version_minor": 0
      },
      "text/plain": [
       "HBox(children=(IntProgress(value=0, description='Training Epochs', max=10, style=ProgressStyle(description_wid…"
      ]
     },
     "metadata": {},
     "output_type": "display_data"
    },
    {
     "data": {
      "application/vnd.jupyter.widget-view+json": {
       "model_id": "da4834669292402eb24b76abe05b6f9a",
       "version_major": 2,
       "version_minor": 0
      },
      "text/plain": [
       "HBox(children=(IntProgress(value=1, bar_style='info', description='Training Steps', max=1, style=ProgressStyle…"
      ]
     },
     "metadata": {},
     "output_type": "display_data"
    },
    {
     "name": "stdout",
     "output_type": "stream",
     "text": [
      "epoch: 01, loss: 1.087\n",
      "epoch: 02, loss: 1.085\n",
      "epoch: 03, loss: 1.084\n",
      "epoch: 04, loss: 1.082\n",
      "epoch: 05, loss: 1.080\n",
      "epoch: 06, loss: 1.078\n",
      "epoch: 07, loss: 1.077\n",
      "epoch: 08, loss: 1.076\n",
      "epoch: 09, loss: 1.074\n",
      "epoch: 10, loss: 1.073\n",
      "training with dropout:0.2 l2:1e-06 lr:0.1\n",
      "getting initial loss\n"
     ]
    },
    {
     "data": {
      "application/vnd.jupyter.widget-view+json": {
       "model_id": "c99b2a8322db40da88a5ec535c849faa",
       "version_major": 2,
       "version_minor": 0
      },
      "text/plain": [
       "HBox(children=(IntProgress(value=0, description='Training Epochs', max=10, style=ProgressStyle(description_wid…"
      ]
     },
     "metadata": {},
     "output_type": "display_data"
    },
    {
     "data": {
      "application/vnd.jupyter.widget-view+json": {
       "model_id": "f0003c8084334c0c995b538c02fd3c88",
       "version_major": 2,
       "version_minor": 0
      },
      "text/plain": [
       "HBox(children=(IntProgress(value=1, bar_style='info', description='Training Steps', max=1, style=ProgressStyle…"
      ]
     },
     "metadata": {},
     "output_type": "display_data"
    },
    {
     "name": "stdout",
     "output_type": "stream",
     "text": [
      "\n",
      "\n",
      "\n",
      "\n",
      "\n",
      "\n",
      "epoch: 01, loss: 1.038\n",
      "epoch: 02, loss: 0.965\n",
      "epoch: 03, loss: 0.849\n",
      "epoch: 04, loss: 1.282\n",
      "epoch: 05, loss: 0.713\n",
      "epoch: 06, loss: 0.718\n",
      "epoch: 07, loss: 1.016\n",
      "epoch: 08, loss: 0.557\n",
      "epoch: 09, loss: 0.667\n",
      "epoch: 10, loss: 0.746\n",
      "training with dropout:0.2 l2:1e-06 lr:0.01\n",
      "getting initial loss\n"
     ]
    },
    {
     "data": {
      "application/vnd.jupyter.widget-view+json": {
       "model_id": "9fdee36057404837ad6cc2ccdbca4bb1",
       "version_major": 2,
       "version_minor": 0
      },
      "text/plain": [
       "HBox(children=(IntProgress(value=0, description='Training Epochs', max=10, style=ProgressStyle(description_wid…"
      ]
     },
     "metadata": {},
     "output_type": "display_data"
    },
    {
     "data": {
      "application/vnd.jupyter.widget-view+json": {
       "model_id": "bdab87f9addc4d2099e4d96309cb89d1",
       "version_major": 2,
       "version_minor": 0
      },
      "text/plain": [
       "HBox(children=(IntProgress(value=1, bar_style='info', description='Training Steps', max=1, style=ProgressStyle…"
      ]
     },
     "metadata": {},
     "output_type": "display_data"
    },
    {
     "name": "stdout",
     "output_type": "stream",
     "text": [
      "epoch: 01, loss: 1.045\n",
      "epoch: 02, loss: 1.025\n",
      "epoch: 03, loss: 1.008\n",
      "epoch: 04, loss: 0.991\n",
      "epoch: 05, loss: 0.973\n",
      "epoch: 06, loss: 0.957\n",
      "epoch: 07, loss: 0.939\n",
      "epoch: 08, loss: 0.921\n",
      "epoch: 09, loss: 0.903\n",
      "epoch: 10, loss: 0.883\n",
      "training with dropout:0.2 l2:1e-06 lr:0.0001\n",
      "getting initial loss\n"
     ]
    },
    {
     "data": {
      "application/vnd.jupyter.widget-view+json": {
       "model_id": "5a16f1efb79a4a0aa72540e0a58206ed",
       "version_major": 2,
       "version_minor": 0
      },
      "text/plain": [
       "HBox(children=(IntProgress(value=0, description='Training Epochs', max=10, style=ProgressStyle(description_wid…"
      ]
     },
     "metadata": {},
     "output_type": "display_data"
    },
    {
     "data": {
      "application/vnd.jupyter.widget-view+json": {
       "model_id": "2a294eeb3aca4e0f881b7b74c5da4b7e",
       "version_major": 2,
       "version_minor": 0
      },
      "text/plain": [
       "HBox(children=(IntProgress(value=1, bar_style='info', description='Training Steps', max=1, style=ProgressStyle…"
      ]
     },
     "metadata": {},
     "output_type": "display_data"
    },
    {
     "name": "stdout",
     "output_type": "stream",
     "text": [
      "epoch: 01, loss: 1.149\n",
      "epoch: 02, loss: 1.145\n",
      "epoch: 03, loss: 1.140\n",
      "epoch: 04, loss: 1.137\n",
      "epoch: 05, loss: 1.133\n",
      "epoch: 06, loss: 1.130\n",
      "epoch: 07, loss: 1.127\n",
      "epoch: 08, loss: 1.125\n",
      "epoch: 09, loss: 1.122\n",
      "epoch: 10, loss: 1.120\n",
      "training with dropout:0.1 l2:0.001 lr:0.1\n",
      "getting initial loss\n"
     ]
    },
    {
     "data": {
      "application/vnd.jupyter.widget-view+json": {
       "model_id": "d69fd42f03574ec3886cbc218835dc73",
       "version_major": 2,
       "version_minor": 0
      },
      "text/plain": [
       "HBox(children=(IntProgress(value=0, description='Training Epochs', max=10, style=ProgressStyle(description_wid…"
      ]
     },
     "metadata": {},
     "output_type": "display_data"
    },
    {
     "data": {
      "application/vnd.jupyter.widget-view+json": {
       "model_id": "29eb81f77c204882878540a19588fa49",
       "version_major": 2,
       "version_minor": 0
      },
      "text/plain": [
       "HBox(children=(IntProgress(value=1, bar_style='info', description='Training Steps', max=1, style=ProgressStyle…"
      ]
     },
     "metadata": {},
     "output_type": "display_data"
    },
    {
     "name": "stdout",
     "output_type": "stream",
     "text": [
      "epoch: 01, loss: 1.070\n",
      "epoch: 02, loss: 1.013\n",
      "epoch: 03, loss: 0.939\n",
      "epoch: 04, loss: 0.805\n",
      "epoch: 05, loss: 1.376\n",
      "epoch: 06, loss: 0.804\n",
      "epoch: 07, loss: 0.606\n",
      "epoch: 08, loss: 0.584\n",
      "epoch: 09, loss: 0.730\n",
      "epoch: 10, loss: 0.555\n",
      "training with dropout:0.1 l2:0.001 lr:0.01\n",
      "getting initial loss\n"
     ]
    },
    {
     "data": {
      "application/vnd.jupyter.widget-view+json": {
       "model_id": "fd1fc0ea65aa4e19b53ffd1dedc24ad8",
       "version_major": 2,
       "version_minor": 0
      },
      "text/plain": [
       "HBox(children=(IntProgress(value=0, description='Training Epochs', max=10, style=ProgressStyle(description_wid…"
      ]
     },
     "metadata": {},
     "output_type": "display_data"
    },
    {
     "data": {
      "application/vnd.jupyter.widget-view+json": {
       "model_id": "fd06fa3528d14a48ac50ce1e2d21ff48",
       "version_major": 2,
       "version_minor": 0
      },
      "text/plain": [
       "HBox(children=(IntProgress(value=1, bar_style='info', description='Training Steps', max=1, style=ProgressStyle…"
      ]
     },
     "metadata": {},
     "output_type": "display_data"
    },
    {
     "name": "stdout",
     "output_type": "stream",
     "text": [
      "epoch: 01, loss: 1.081\n",
      "epoch: 02, loss: 1.062\n",
      "epoch: 03, loss: 1.034\n",
      "epoch: 04, loss: 1.016\n",
      "epoch: 05, loss: 0.993\n",
      "epoch: 06, loss: 0.974\n",
      "epoch: 07, loss: 0.954\n",
      "epoch: 08, loss: 0.941\n",
      "epoch: 09, loss: 0.915\n",
      "epoch: 10, loss: 0.897\n",
      "training with dropout:0.1 l2:0.001 lr:0.0001\n",
      "getting initial loss\n"
     ]
    },
    {
     "data": {
      "application/vnd.jupyter.widget-view+json": {
       "model_id": "f7edd70108a841549e83e2da75dec753",
       "version_major": 2,
       "version_minor": 0
      },
      "text/plain": [
       "HBox(children=(IntProgress(value=0, description='Training Epochs', max=10, style=ProgressStyle(description_wid…"
      ]
     },
     "metadata": {},
     "output_type": "display_data"
    },
    {
     "data": {
      "application/vnd.jupyter.widget-view+json": {
       "model_id": "8a1e79b60535419b95a27fd060a29898",
       "version_major": 2,
       "version_minor": 0
      },
      "text/plain": [
       "HBox(children=(IntProgress(value=1, bar_style='info', description='Training Steps', max=1, style=ProgressStyle…"
      ]
     },
     "metadata": {},
     "output_type": "display_data"
    },
    {
     "name": "stdout",
     "output_type": "stream",
     "text": [
      "epoch: 01, loss: 1.088\n",
      "epoch: 02, loss: 1.087\n",
      "epoch: 03, loss: 1.085\n",
      "epoch: 04, loss: 1.084\n",
      "epoch: 05, loss: 1.083\n",
      "epoch: 06, loss: 1.082\n",
      "epoch: 07, loss: 1.081\n",
      "epoch: 08, loss: 1.080\n",
      "epoch: 09, loss: 1.079\n",
      "epoch: 10, loss: 1.078\n",
      "training with dropout:0.1 l2:1e-06 lr:0.1\n",
      "getting initial loss\n"
     ]
    },
    {
     "data": {
      "application/vnd.jupyter.widget-view+json": {
       "model_id": "a27bdc5a95c9450d8c4c1fc1a912dc5d",
       "version_major": 2,
       "version_minor": 0
      },
      "text/plain": [
       "HBox(children=(IntProgress(value=0, description='Training Epochs', max=10, style=ProgressStyle(description_wid…"
      ]
     },
     "metadata": {},
     "output_type": "display_data"
    },
    {
     "data": {
      "application/vnd.jupyter.widget-view+json": {
       "model_id": "b208d9f9c1db4a758445088968d31f5c",
       "version_major": 2,
       "version_minor": 0
      },
      "text/plain": [
       "HBox(children=(IntProgress(value=1, bar_style='info', description='Training Steps', max=1, style=ProgressStyle…"
      ]
     },
     "metadata": {},
     "output_type": "display_data"
    },
    {
     "name": "stdout",
     "output_type": "stream",
     "text": [
      "epoch: 01, loss: 1.063\n",
      "epoch: 02, loss: 1.001\n",
      "epoch: 03, loss: 0.934\n",
      "epoch: 04, loss: 0.788\n",
      "epoch: 05, loss: 1.052\n",
      "epoch: 06, loss: 0.677\n",
      "epoch: 07, loss: 1.176\n",
      "epoch: 08, loss: 0.745\n",
      "epoch: 09, loss: 0.557\n",
      "epoch: 10, loss: 0.634\n",
      "training with dropout:0.1 l2:1e-06 lr:0.01\n",
      "getting initial loss\n"
     ]
    },
    {
     "data": {
      "application/vnd.jupyter.widget-view+json": {
       "model_id": "ebcf8eac092d4effaf5a0e9ab81693dd",
       "version_major": 2,
       "version_minor": 0
      },
      "text/plain": [
       "HBox(children=(IntProgress(value=0, description='Training Epochs', max=10, style=ProgressStyle(description_wid…"
      ]
     },
     "metadata": {},
     "output_type": "display_data"
    },
    {
     "data": {
      "application/vnd.jupyter.widget-view+json": {
       "model_id": "4cd2686fc8604ae0b6939c6d3bc5770e",
       "version_major": 2,
       "version_minor": 0
      },
      "text/plain": [
       "HBox(children=(IntProgress(value=1, bar_style='info', description='Training Steps', max=1, style=ProgressStyle…"
      ]
     },
     "metadata": {},
     "output_type": "display_data"
    },
    {
     "name": "stdout",
     "output_type": "stream",
     "text": [
      "epoch: 01, loss: 1.065\n",
      "epoch: 02, loss: 1.041\n",
      "epoch: 03, loss: 1.023\n",
      "epoch: 04, loss: 1.008\n",
      "epoch: 05, loss: 0.988\n",
      "epoch: 06, loss: 0.970\n",
      "epoch: 07, loss: 0.952\n",
      "epoch: 08, loss: 0.933\n",
      "epoch: 09, loss: 0.914\n",
      "epoch: 10, loss: 0.893\n",
      "training with dropout:0.1 l2:1e-06 lr:0.0001\n",
      "getting initial loss\n"
     ]
    },
    {
     "data": {
      "application/vnd.jupyter.widget-view+json": {
       "model_id": "63b8bc89ecbc4fefb894be22cc4eeef2",
       "version_major": 2,
       "version_minor": 0
      },
      "text/plain": [
       "HBox(children=(IntProgress(value=0, description='Training Epochs', max=10, style=ProgressStyle(description_wid…"
      ]
     },
     "metadata": {},
     "output_type": "display_data"
    },
    {
     "data": {
      "application/vnd.jupyter.widget-view+json": {
       "model_id": "a1946124079147c3b7e014a580b335f7",
       "version_major": 2,
       "version_minor": 0
      },
      "text/plain": [
       "HBox(children=(IntProgress(value=1, bar_style='info', description='Training Steps', max=1, style=ProgressStyle…"
      ]
     },
     "metadata": {},
     "output_type": "display_data"
    },
    {
     "name": "stdout",
     "output_type": "stream",
     "text": [
      "epoch: 01, loss: 1.158\n",
      "epoch: 02, loss: 1.153\n",
      "epoch: 03, loss: 1.148\n",
      "epoch: 04, loss: 1.144\n",
      "epoch: 05, loss: 1.140\n",
      "epoch: 06, loss: 1.136\n",
      "epoch: 07, loss: 1.133\n",
      "epoch: 08, loss: 1.129\n",
      "epoch: 09, loss: 1.126\n",
      "epoch: 10, loss: 1.123\n",
      "\n"
     ]
    }
   ],
   "source": [
    "''' GRID-SEARCH with RNA-seq as input'''\n",
    "dropout_rates = [0.5, 0.2, 0.1]\n",
    "l2_lambdas = [1e-03, 1e-06]\n",
    "learning_rates = [0.1, 0.01, 1e-4]\n",
    "rna_param_result = grid_search(X_rna_train, Y_rna_train, dropout_rates, l2_lambdas, learning_rates, NUM_EPOCHS, BATCH_SIZE)"
   ]
  },
  {
   "cell_type": "code",
   "execution_count": 99,
   "metadata": {},
   "outputs": [
    {
     "data": {
      "application/vnd.jupyter.widget-view+json": {
       "model_id": "4412e2ff0a6b4baf974f7a61134f80ae",
       "version_major": 2,
       "version_minor": 0
      },
      "text/plain": [
       "HBox(children=(IntProgress(value=0, max=18), HTML(value='')))"
      ]
     },
     "metadata": {},
     "output_type": "display_data"
    },
    {
     "name": "stdout",
     "output_type": "stream",
     "text": [
      "training with dropout:0.5 l2:0.001 lr:0.1\n",
      "getting initial loss\n"
     ]
    },
    {
     "data": {
      "application/vnd.jupyter.widget-view+json": {
       "model_id": "0d48b2a13d3f4526925796691b29127b",
       "version_major": 2,
       "version_minor": 0
      },
      "text/plain": [
       "HBox(children=(IntProgress(value=0, description='Training Epochs', max=10, style=ProgressStyle(description_wid…"
      ]
     },
     "metadata": {},
     "output_type": "display_data"
    },
    {
     "data": {
      "application/vnd.jupyter.widget-view+json": {
       "model_id": "8281ec75082345fbb4de2d94451cc85a",
       "version_major": 2,
       "version_minor": 0
      },
      "text/plain": [
       "HBox(children=(IntProgress(value=1, bar_style='info', description='Training Steps', max=1, style=ProgressStyle…"
      ]
     },
     "metadata": {},
     "output_type": "display_data"
    },
    {
     "name": "stdout",
     "output_type": "stream",
     "text": [
      "epoch: 01, loss: 1.034\n",
      "epoch: 02, loss: 0.887\n",
      "epoch: 03, loss: 0.952\n",
      "epoch: 04, loss: 0.746\n",
      "epoch: 05, loss: 0.972\n",
      "epoch: 06, loss: 1.224\n",
      "epoch: 07, loss: 1.131\n",
      "epoch: 08, loss: 0.942\n",
      "epoch: 09, loss: 0.805\n",
      "epoch: 10, loss: 0.975\n",
      "training with dropout:0.5 l2:0.001 lr:0.01\n",
      "getting initial loss\n"
     ]
    },
    {
     "data": {
      "application/vnd.jupyter.widget-view+json": {
       "model_id": "c43cb244737d437ab89c151c03d60dc3",
       "version_major": 2,
       "version_minor": 0
      },
      "text/plain": [
       "HBox(children=(IntProgress(value=0, description='Training Epochs', max=10, style=ProgressStyle(description_wid…"
      ]
     },
     "metadata": {},
     "output_type": "display_data"
    },
    {
     "data": {
      "application/vnd.jupyter.widget-view+json": {
       "model_id": "7b2cded42336428093b9b48fa228328f",
       "version_major": 2,
       "version_minor": 0
      },
      "text/plain": [
       "HBox(children=(IntProgress(value=1, bar_style='info', description='Training Steps', max=1, style=ProgressStyle…"
      ]
     },
     "metadata": {},
     "output_type": "display_data"
    },
    {
     "name": "stdout",
     "output_type": "stream",
     "text": [
      "epoch: 01, loss: 1.069\n",
      "epoch: 02, loss: 1.057\n",
      "epoch: 03, loss: 1.048\n",
      "epoch: 04, loss: 1.040\n",
      "epoch: 05, loss: 1.033\n",
      "epoch: 06, loss: 1.025\n",
      "epoch: 07, loss: 1.014\n",
      "epoch: 08, loss: 1.005\n",
      "epoch: 09, loss: 0.992\n",
      "epoch: 10, loss: 0.980\n",
      "training with dropout:0.5 l2:0.001 lr:0.0001\n",
      "getting initial loss\n"
     ]
    },
    {
     "data": {
      "application/vnd.jupyter.widget-view+json": {
       "model_id": "08277f1c364d4f00beb3e6a5c7838571",
       "version_major": 2,
       "version_minor": 0
      },
      "text/plain": [
       "HBox(children=(IntProgress(value=0, description='Training Epochs', max=10, style=ProgressStyle(description_wid…"
      ]
     },
     "metadata": {},
     "output_type": "display_data"
    },
    {
     "data": {
      "application/vnd.jupyter.widget-view+json": {
       "model_id": "4cf0c80610064010a9882dc58d77a46c",
       "version_major": 2,
       "version_minor": 0
      },
      "text/plain": [
       "HBox(children=(IntProgress(value=1, bar_style='info', description='Training Steps', max=1, style=ProgressStyle…"
      ]
     },
     "metadata": {},
     "output_type": "display_data"
    },
    {
     "name": "stdout",
     "output_type": "stream",
     "text": [
      "epoch: 01, loss: 1.093\n",
      "epoch: 02, loss: 1.093\n",
      "epoch: 03, loss: 1.093\n",
      "epoch: 04, loss: 1.092\n",
      "epoch: 05, loss: 1.092\n",
      "epoch: 06, loss: 1.092\n",
      "epoch: 07, loss: 1.092\n",
      "epoch: 08, loss: 1.091\n",
      "epoch: 09, loss: 1.091\n",
      "epoch: 10, loss: 1.091\n",
      "training with dropout:0.5 l2:1e-06 lr:0.1\n",
      "getting initial loss\n"
     ]
    },
    {
     "data": {
      "application/vnd.jupyter.widget-view+json": {
       "model_id": "22cc375f11e54fd08cb7523b81046971",
       "version_major": 2,
       "version_minor": 0
      },
      "text/plain": [
       "HBox(children=(IntProgress(value=0, description='Training Epochs', max=10, style=ProgressStyle(description_wid…"
      ]
     },
     "metadata": {},
     "output_type": "display_data"
    },
    {
     "data": {
      "application/vnd.jupyter.widget-view+json": {
       "model_id": "99bb5843c2c24658b73a3e8bd6e93376",
       "version_major": 2,
       "version_minor": 0
      },
      "text/plain": [
       "HBox(children=(IntProgress(value=1, bar_style='info', description='Training Steps', max=1, style=ProgressStyle…"
      ]
     },
     "metadata": {},
     "output_type": "display_data"
    },
    {
     "name": "stdout",
     "output_type": "stream",
     "text": [
      "epoch: 01, loss: 1.032\n",
      "epoch: 02, loss: 0.948\n",
      "epoch: 03, loss: 0.931\n",
      "epoch: 04, loss: 0.997\n",
      "epoch: 05, loss: 1.246\n",
      "epoch: 06, loss: 0.726\n",
      "epoch: 07, loss: 0.866\n",
      "epoch: 08, loss: 0.729\n",
      "epoch: 09, loss: 0.634\n",
      "epoch: 10, loss: 0.947\n",
      "training with dropout:0.5 l2:1e-06 lr:0.01\n",
      "getting initial loss\n"
     ]
    },
    {
     "data": {
      "application/vnd.jupyter.widget-view+json": {
       "model_id": "c39b0870502549548634c5b4b2245014",
       "version_major": 2,
       "version_minor": 0
      },
      "text/plain": [
       "HBox(children=(IntProgress(value=0, description='Training Epochs', max=10, style=ProgressStyle(description_wid…"
      ]
     },
     "metadata": {},
     "output_type": "display_data"
    },
    {
     "data": {
      "application/vnd.jupyter.widget-view+json": {
       "model_id": "ee1b10fedebf47529140c0994bb60308",
       "version_major": 2,
       "version_minor": 0
      },
      "text/plain": [
       "HBox(children=(IntProgress(value=1, bar_style='info', description='Training Steps', max=1, style=ProgressStyle…"
      ]
     },
     "metadata": {},
     "output_type": "display_data"
    },
    {
     "name": "stdout",
     "output_type": "stream",
     "text": [
      "epoch: 01, loss: 1.071\n",
      "epoch: 02, loss: 1.060\n",
      "epoch: 03, loss: 1.052\n",
      "epoch: 04, loss: 1.045\n",
      "epoch: 05, loss: 1.038\n",
      "epoch: 06, loss: 1.032\n",
      "epoch: 07, loss: 1.024\n",
      "epoch: 08, loss: 1.014\n",
      "epoch: 09, loss: 1.005\n",
      "epoch: 10, loss: 0.995\n",
      "training with dropout:0.5 l2:1e-06 lr:0.0001\n",
      "getting initial loss\n"
     ]
    },
    {
     "data": {
      "application/vnd.jupyter.widget-view+json": {
       "model_id": "259baa42dcf740599fed581e11226d54",
       "version_major": 2,
       "version_minor": 0
      },
      "text/plain": [
       "HBox(children=(IntProgress(value=0, description='Training Epochs', max=10, style=ProgressStyle(description_wid…"
      ]
     },
     "metadata": {},
     "output_type": "display_data"
    },
    {
     "data": {
      "application/vnd.jupyter.widget-view+json": {
       "model_id": "f73dc753b5fb4d8c8fef4bc51a19292e",
       "version_major": 2,
       "version_minor": 0
      },
      "text/plain": [
       "HBox(children=(IntProgress(value=1, bar_style='info', description='Training Steps', max=1, style=ProgressStyle…"
      ]
     },
     "metadata": {},
     "output_type": "display_data"
    },
    {
     "name": "stdout",
     "output_type": "stream",
     "text": [
      "epoch: 01, loss: 1.099\n",
      "epoch: 02, loss: 1.099\n",
      "epoch: 03, loss: 1.099\n",
      "epoch: 04, loss: 1.098\n",
      "epoch: 05, loss: 1.098\n",
      "epoch: 06, loss: 1.097\n",
      "epoch: 07, loss: 1.097\n",
      "epoch: 08, loss: 1.097\n",
      "epoch: 09, loss: 1.096\n",
      "epoch: 10, loss: 1.096\n",
      "training with dropout:0.2 l2:0.001 lr:0.1\n",
      "getting initial loss\n"
     ]
    },
    {
     "data": {
      "application/vnd.jupyter.widget-view+json": {
       "model_id": "3529425337d147e282b82095812293ce",
       "version_major": 2,
       "version_minor": 0
      },
      "text/plain": [
       "HBox(children=(IntProgress(value=0, description='Training Epochs', max=10, style=ProgressStyle(description_wid…"
      ]
     },
     "metadata": {},
     "output_type": "display_data"
    },
    {
     "data": {
      "application/vnd.jupyter.widget-view+json": {
       "model_id": "b5975f07a81b47159c44438c3b73e4a3",
       "version_major": 2,
       "version_minor": 0
      },
      "text/plain": [
       "HBox(children=(IntProgress(value=1, bar_style='info', description='Training Steps', max=1, style=ProgressStyle…"
      ]
     },
     "metadata": {},
     "output_type": "display_data"
    },
    {
     "name": "stdout",
     "output_type": "stream",
     "text": [
      "epoch: 01, loss: 1.022\n",
      "epoch: 02, loss: 0.895\n",
      "epoch: 03, loss: 0.998\n",
      "epoch: 04, loss: 1.319\n",
      "epoch: 05, loss: 0.647\n",
      "epoch: 06, loss: 0.624\n",
      "epoch: 07, loss: 1.336\n",
      "epoch: 08, loss: 0.771\n",
      "epoch: 09, loss: 0.722\n",
      "epoch: 10, loss: 0.767\n",
      "training with dropout:0.2 l2:0.001 lr:0.01\n",
      "getting initial loss\n"
     ]
    },
    {
     "data": {
      "application/vnd.jupyter.widget-view+json": {
       "model_id": "705ee3656c6244d5a7cebfe15170bbad",
       "version_major": 2,
       "version_minor": 0
      },
      "text/plain": [
       "HBox(children=(IntProgress(value=0, description='Training Epochs', max=10, style=ProgressStyle(description_wid…"
      ]
     },
     "metadata": {},
     "output_type": "display_data"
    },
    {
     "data": {
      "application/vnd.jupyter.widget-view+json": {
       "model_id": "bbb60c9a43ec49418416be90c0efc04e",
       "version_major": 2,
       "version_minor": 0
      },
      "text/plain": [
       "HBox(children=(IntProgress(value=1, bar_style='info', description='Training Steps', max=1, style=ProgressStyle…"
      ]
     },
     "metadata": {},
     "output_type": "display_data"
    },
    {
     "name": "stdout",
     "output_type": "stream",
     "text": [
      "epoch: 01, loss: 1.077\n",
      "epoch: 02, loss: 1.062\n",
      "epoch: 03, loss: 1.051\n",
      "epoch: 04, loss: 1.040\n",
      "epoch: 05, loss: 1.029\n",
      "epoch: 06, loss: 1.017\n",
      "epoch: 07, loss: 1.001\n",
      "epoch: 08, loss: 0.983\n",
      "epoch: 09, loss: 0.962\n",
      "epoch: 10, loss: 0.936\n",
      "training with dropout:0.2 l2:0.001 lr:0.0001\n",
      "getting initial loss\n"
     ]
    },
    {
     "data": {
      "application/vnd.jupyter.widget-view+json": {
       "model_id": "8f508bc1184f4274accf351560d74f50",
       "version_major": 2,
       "version_minor": 0
      },
      "text/plain": [
       "HBox(children=(IntProgress(value=0, description='Training Epochs', max=10, style=ProgressStyle(description_wid…"
      ]
     },
     "metadata": {},
     "output_type": "display_data"
    },
    {
     "data": {
      "application/vnd.jupyter.widget-view+json": {
       "model_id": "486bf6fc5e864770b4d6fc8599b0a974",
       "version_major": 2,
       "version_minor": 0
      },
      "text/plain": [
       "HBox(children=(IntProgress(value=1, bar_style='info', description='Training Steps', max=1, style=ProgressStyle…"
      ]
     },
     "metadata": {},
     "output_type": "display_data"
    },
    {
     "name": "stdout",
     "output_type": "stream",
     "text": [
      "epoch: 01, loss: 1.085\n",
      "epoch: 02, loss: 1.085\n",
      "epoch: 03, loss: 1.085\n",
      "epoch: 04, loss: 1.084\n",
      "epoch: 05, loss: 1.084\n",
      "epoch: 06, loss: 1.084\n",
      "epoch: 07, loss: 1.084\n",
      "epoch: 08, loss: 1.084\n",
      "epoch: 09, loss: 1.084\n",
      "epoch: 10, loss: 1.083\n",
      "training with dropout:0.2 l2:1e-06 lr:0.1\n",
      "getting initial loss\n"
     ]
    },
    {
     "data": {
      "application/vnd.jupyter.widget-view+json": {
       "model_id": "5539aaee9c2042a7a7d6f25f4b03189f",
       "version_major": 2,
       "version_minor": 0
      },
      "text/plain": [
       "HBox(children=(IntProgress(value=0, description='Training Epochs', max=10, style=ProgressStyle(description_wid…"
      ]
     },
     "metadata": {},
     "output_type": "display_data"
    },
    {
     "data": {
      "application/vnd.jupyter.widget-view+json": {
       "model_id": "77e895acd4db4192a3c58b39d85c490d",
       "version_major": 2,
       "version_minor": 0
      },
      "text/plain": [
       "HBox(children=(IntProgress(value=1, bar_style='info', description='Training Steps', max=1, style=ProgressStyle…"
      ]
     },
     "metadata": {},
     "output_type": "display_data"
    },
    {
     "name": "stdout",
     "output_type": "stream",
     "text": [
      "epoch: 01, loss: 1.053\n",
      "epoch: 02, loss: 0.972\n",
      "epoch: 03, loss: 0.933\n",
      "epoch: 04, loss: 0.872\n",
      "epoch: 05, loss: 1.049\n",
      "epoch: 06, loss: 0.927\n",
      "epoch: 07, loss: 1.773\n",
      "epoch: 08, loss: 0.923\n",
      "epoch: 09, loss: 0.758\n",
      "epoch: 10, loss: 0.832\n",
      "training with dropout:0.2 l2:1e-06 lr:0.01\n",
      "getting initial loss\n"
     ]
    },
    {
     "data": {
      "application/vnd.jupyter.widget-view+json": {
       "model_id": "b43c16409428412ba5c007b9934ab28f",
       "version_major": 2,
       "version_minor": 0
      },
      "text/plain": [
       "HBox(children=(IntProgress(value=0, description='Training Epochs', max=10, style=ProgressStyle(description_wid…"
      ]
     },
     "metadata": {},
     "output_type": "display_data"
    },
    {
     "data": {
      "application/vnd.jupyter.widget-view+json": {
       "model_id": "739c69588cc34dee8ca9f15e042dd894",
       "version_major": 2,
       "version_minor": 0
      },
      "text/plain": [
       "HBox(children=(IntProgress(value=1, bar_style='info', description='Training Steps', max=1, style=ProgressStyle…"
      ]
     },
     "metadata": {},
     "output_type": "display_data"
    },
    {
     "name": "stdout",
     "output_type": "stream",
     "text": [
      "epoch: 01, loss: 1.073\n",
      "epoch: 02, loss: 1.059\n",
      "epoch: 03, loss: 1.048\n",
      "epoch: 04, loss: 1.037\n",
      "epoch: 05, loss: 1.024\n",
      "epoch: 06, loss: 1.010\n",
      "epoch: 07, loss: 0.993\n",
      "epoch: 08, loss: 0.973\n",
      "epoch: 09, loss: 0.950\n",
      "epoch: 10, loss: 0.918\n",
      "training with dropout:0.2 l2:1e-06 lr:0.0001\n",
      "getting initial loss\n"
     ]
    },
    {
     "data": {
      "application/vnd.jupyter.widget-view+json": {
       "model_id": "0090a549884f47fda7d389f7400ba2d4",
       "version_major": 2,
       "version_minor": 0
      },
      "text/plain": [
       "HBox(children=(IntProgress(value=0, description='Training Epochs', max=10, style=ProgressStyle(description_wid…"
      ]
     },
     "metadata": {},
     "output_type": "display_data"
    },
    {
     "data": {
      "application/vnd.jupyter.widget-view+json": {
       "model_id": "f09da23d013f45c8a325f6c20fe78e00",
       "version_major": 2,
       "version_minor": 0
      },
      "text/plain": [
       "HBox(children=(IntProgress(value=1, bar_style='info', description='Training Steps', max=1, style=ProgressStyle…"
      ]
     },
     "metadata": {},
     "output_type": "display_data"
    },
    {
     "name": "stdout",
     "output_type": "stream",
     "text": [
      "epoch: 01, loss: 1.091\n",
      "epoch: 02, loss: 1.091\n",
      "epoch: 03, loss: 1.090\n",
      "epoch: 04, loss: 1.090\n",
      "epoch: 05, loss: 1.090\n",
      "epoch: 06, loss: 1.090\n",
      "epoch: 07, loss: 1.089\n",
      "epoch: 08, loss: 1.089\n",
      "epoch: 09, loss: 1.089\n",
      "epoch: 10, loss: 1.089\n",
      "training with dropout:0.1 l2:0.001 lr:0.1\n",
      "getting initial loss\n"
     ]
    },
    {
     "data": {
      "application/vnd.jupyter.widget-view+json": {
       "model_id": "4ffd7f20f5474425a74a3849767ba2d9",
       "version_major": 2,
       "version_minor": 0
      },
      "text/plain": [
       "HBox(children=(IntProgress(value=0, description='Training Epochs', max=10, style=ProgressStyle(description_wid…"
      ]
     },
     "metadata": {},
     "output_type": "display_data"
    },
    {
     "data": {
      "application/vnd.jupyter.widget-view+json": {
       "model_id": "e515d216981540ef9a4ecb6ee23952af",
       "version_major": 2,
       "version_minor": 0
      },
      "text/plain": [
       "HBox(children=(IntProgress(value=1, bar_style='info', description='Training Steps', max=1, style=ProgressStyle…"
      ]
     },
     "metadata": {},
     "output_type": "display_data"
    },
    {
     "name": "stdout",
     "output_type": "stream",
     "text": [
      "epoch: 01, loss: 1.093\n",
      "epoch: 02, loss: 1.559\n",
      "epoch: 03, loss: 0.973\n",
      "epoch: 04, loss: 1.119\n",
      "epoch: 05, loss: 1.211\n",
      "epoch: 06, loss: 0.974\n",
      "epoch: 07, loss: 0.596\n",
      "epoch: 08, loss: 1.008\n",
      "epoch: 09, loss: 1.077\n",
      "epoch: 10, loss: 0.685\n",
      "training with dropout:0.1 l2:0.001 lr:0.01\n",
      "getting initial loss\n"
     ]
    },
    {
     "data": {
      "application/vnd.jupyter.widget-view+json": {
       "model_id": "f0e8c1a535354e62b1f50d37dac3bcbc",
       "version_major": 2,
       "version_minor": 0
      },
      "text/plain": [
       "HBox(children=(IntProgress(value=0, description='Training Epochs', max=10, style=ProgressStyle(description_wid…"
      ]
     },
     "metadata": {},
     "output_type": "display_data"
    },
    {
     "data": {
      "application/vnd.jupyter.widget-view+json": {
       "model_id": "ca93171f8d1743e6ab42c25b942f92a0",
       "version_major": 2,
       "version_minor": 0
      },
      "text/plain": [
       "HBox(children=(IntProgress(value=1, bar_style='info', description='Training Steps', max=1, style=ProgressStyle…"
      ]
     },
     "metadata": {},
     "output_type": "display_data"
    },
    {
     "name": "stdout",
     "output_type": "stream",
     "text": [
      "epoch: 01, loss: 1.068\n",
      "epoch: 02, loss: 1.054\n",
      "epoch: 03, loss: 1.043\n",
      "epoch: 04, loss: 1.030\n",
      "epoch: 05, loss: 1.015\n",
      "epoch: 06, loss: 0.997\n",
      "epoch: 07, loss: 0.973\n",
      "epoch: 08, loss: 0.946\n",
      "epoch: 09, loss: 0.913\n",
      "epoch: 10, loss: 0.873\n",
      "training with dropout:0.1 l2:0.001 lr:0.0001\n",
      "getting initial loss\n"
     ]
    },
    {
     "data": {
      "application/vnd.jupyter.widget-view+json": {
       "model_id": "5cbb4fb3aac044498ccb4c2386b8f035",
       "version_major": 2,
       "version_minor": 0
      },
      "text/plain": [
       "HBox(children=(IntProgress(value=0, description='Training Epochs', max=10, style=ProgressStyle(description_wid…"
      ]
     },
     "metadata": {},
     "output_type": "display_data"
    },
    {
     "data": {
      "application/vnd.jupyter.widget-view+json": {
       "model_id": "6f43eb6ad33540bdad0398868b9b286f",
       "version_major": 2,
       "version_minor": 0
      },
      "text/plain": [
       "HBox(children=(IntProgress(value=1, bar_style='info', description='Training Steps', max=1, style=ProgressStyle…"
      ]
     },
     "metadata": {},
     "output_type": "display_data"
    },
    {
     "name": "stdout",
     "output_type": "stream",
     "text": [
      "epoch: 01, loss: 1.101\n",
      "epoch: 02, loss: 1.100\n",
      "epoch: 03, loss: 1.100\n",
      "epoch: 04, loss: 1.100\n",
      "epoch: 05, loss: 1.099\n",
      "epoch: 06, loss: 1.099\n",
      "epoch: 07, loss: 1.099\n",
      "epoch: 08, loss: 1.098\n",
      "epoch: 09, loss: 1.098\n",
      "epoch: 10, loss: 1.098\n",
      "training with dropout:0.1 l2:1e-06 lr:0.1\n",
      "getting initial loss\n"
     ]
    },
    {
     "data": {
      "application/vnd.jupyter.widget-view+json": {
       "model_id": "c23770185b7a4c95a9842ac44fa8d359",
       "version_major": 2,
       "version_minor": 0
      },
      "text/plain": [
       "HBox(children=(IntProgress(value=0, description='Training Epochs', max=10, style=ProgressStyle(description_wid…"
      ]
     },
     "metadata": {},
     "output_type": "display_data"
    },
    {
     "data": {
      "application/vnd.jupyter.widget-view+json": {
       "model_id": "4383cf6a7227432eb9635c3ef086111f",
       "version_major": 2,
       "version_minor": 0
      },
      "text/plain": [
       "HBox(children=(IntProgress(value=1, bar_style='info', description='Training Steps', max=1, style=ProgressStyle…"
      ]
     },
     "metadata": {},
     "output_type": "display_data"
    },
    {
     "name": "stdout",
     "output_type": "stream",
     "text": [
      "epoch: 01, loss: 1.009\n",
      "epoch: 02, loss: 0.868\n",
      "epoch: 03, loss: 1.280\n",
      "epoch: 04, loss: 0.815\n",
      "epoch: 05, loss: 1.178\n",
      "epoch: 06, loss: 0.786\n",
      "epoch: 07, loss: 1.021\n",
      "epoch: 08, loss: 1.136\n",
      "epoch: 09, loss: 0.919\n",
      "epoch: 10, loss: 0.710\n",
      "training with dropout:0.1 l2:1e-06 lr:0.01\n",
      "getting initial loss\n"
     ]
    },
    {
     "data": {
      "application/vnd.jupyter.widget-view+json": {
       "model_id": "77c020da69584aefbfedede131316b3f",
       "version_major": 2,
       "version_minor": 0
      },
      "text/plain": [
       "HBox(children=(IntProgress(value=0, description='Training Epochs', max=10, style=ProgressStyle(description_wid…"
      ]
     },
     "metadata": {},
     "output_type": "display_data"
    },
    {
     "data": {
      "application/vnd.jupyter.widget-view+json": {
       "model_id": "46e174c30b1244de89b23c16bf1e1def",
       "version_major": 2,
       "version_minor": 0
      },
      "text/plain": [
       "HBox(children=(IntProgress(value=1, bar_style='info', description='Training Steps', max=1, style=ProgressStyle…"
      ]
     },
     "metadata": {},
     "output_type": "display_data"
    },
    {
     "name": "stdout",
     "output_type": "stream",
     "text": [
      "epoch: 01, loss: 1.071\n",
      "epoch: 02, loss: 1.057\n",
      "epoch: 03, loss: 1.046\n",
      "epoch: 04, loss: 1.033\n",
      "epoch: 05, loss: 1.019\n",
      "epoch: 06, loss: 1.002\n",
      "epoch: 07, loss: 0.982\n",
      "epoch: 08, loss: 0.957\n",
      "epoch: 09, loss: 0.925\n",
      "epoch: 10, loss: 0.890\n",
      "training with dropout:0.1 l2:1e-06 lr:0.0001\n",
      "getting initial loss\n"
     ]
    },
    {
     "data": {
      "application/vnd.jupyter.widget-view+json": {
       "model_id": "e18d572dd1a8431fb4c311382bb6aeff",
       "version_major": 2,
       "version_minor": 0
      },
      "text/plain": [
       "HBox(children=(IntProgress(value=0, description='Training Epochs', max=10, style=ProgressStyle(description_wid…"
      ]
     },
     "metadata": {},
     "output_type": "display_data"
    },
    {
     "data": {
      "application/vnd.jupyter.widget-view+json": {
       "model_id": "96275e70d4164f8ba0c34e635a8d73ab",
       "version_major": 2,
       "version_minor": 0
      },
      "text/plain": [
       "HBox(children=(IntProgress(value=1, bar_style='info', description='Training Steps', max=1, style=ProgressStyle…"
      ]
     },
     "metadata": {},
     "output_type": "display_data"
    },
    {
     "name": "stdout",
     "output_type": "stream",
     "text": [
      "epoch: 01, loss: 1.094\n",
      "epoch: 02, loss: 1.094\n",
      "epoch: 03, loss: 1.094\n",
      "epoch: 04, loss: 1.093\n",
      "epoch: 05, loss: 1.093\n",
      "epoch: 06, loss: 1.093\n",
      "epoch: 07, loss: 1.093\n",
      "epoch: 08, loss: 1.092\n",
      "epoch: 09, loss: 1.092\n",
      "epoch: 10, loss: 1.092\n",
      "\n"
     ]
    }
   ],
   "source": [
    "''' GRID-SEARCH with bimodal input '''\n",
    "dropout_rates = [0.5, 0.2, 0.1]\n",
    "l2_lambdas = [1e-03, 1e-06]\n",
    "learning_rates = [0.1, 0.01, 1e-4]\n",
    "bimodal_param_result = grid_search(X_bimodal_train, Y_bimodal_train, dropout_rates, l2_lambdas, learning_rates, NUM_EPOCHS, 300)"
   ]
  },
  {
   "cell_type": "code",
   "execution_count": 100,
   "metadata": {},
   "outputs": [
    {
     "data": {
      "application/vnd.jupyter.widget-view+json": {
       "model_id": "12690b19391c49d593ffc0fd8c1ebf39",
       "version_major": 2,
       "version_minor": 0
      },
      "text/plain": [
       "HBox(children=(IntProgress(value=0, max=18), HTML(value='')))"
      ]
     },
     "metadata": {},
     "output_type": "display_data"
    },
    {
     "name": "stdout",
     "output_type": "stream",
     "text": [
      "training with dropout:0.5 l2:0.001 lr:0.1\n",
      "getting initial loss\n"
     ]
    },
    {
     "data": {
      "application/vnd.jupyter.widget-view+json": {
       "model_id": "3e176f45f35245b3b48cfa3fb9e84def",
       "version_major": 2,
       "version_minor": 0
      },
      "text/plain": [
       "HBox(children=(IntProgress(value=0, description='Training Epochs', max=10, style=ProgressStyle(description_wid…"
      ]
     },
     "metadata": {},
     "output_type": "display_data"
    },
    {
     "data": {
      "application/vnd.jupyter.widget-view+json": {
       "model_id": "bc9abdf414e644dda60cbf22194123e2",
       "version_major": 2,
       "version_minor": 0
      },
      "text/plain": [
       "HBox(children=(IntProgress(value=1, bar_style='info', description='Training Steps', max=1, style=ProgressStyle…"
      ]
     },
     "metadata": {},
     "output_type": "display_data"
    },
    {
     "name": "stdout",
     "output_type": "stream",
     "text": [
      "epoch: 01, loss: 1.082\n",
      "epoch: 02, loss: 1.070\n",
      "epoch: 03, loss: 1.069\n",
      "epoch: 04, loss: 1.078\n",
      "epoch: 05, loss: 1.074\n",
      "epoch: 06, loss: 1.072\n",
      "epoch: 07, loss: 1.071\n",
      "epoch: 08, loss: 1.070\n",
      "epoch: 09, loss: 1.070\n",
      "epoch: 10, loss: 1.071\n",
      "training with dropout:0.5 l2:0.001 lr:0.01\n",
      "getting initial loss\n"
     ]
    },
    {
     "data": {
      "application/vnd.jupyter.widget-view+json": {
       "model_id": "18a0a284ab174702b596f8bf89af0080",
       "version_major": 2,
       "version_minor": 0
      },
      "text/plain": [
       "HBox(children=(IntProgress(value=0, description='Training Epochs', max=10, style=ProgressStyle(description_wid…"
      ]
     },
     "metadata": {},
     "output_type": "display_data"
    },
    {
     "data": {
      "application/vnd.jupyter.widget-view+json": {
       "model_id": "c1878900c5d844af9fe5eb618ceeaef4",
       "version_major": 2,
       "version_minor": 0
      },
      "text/plain": [
       "HBox(children=(IntProgress(value=1, bar_style='info', description='Training Steps', max=1, style=ProgressStyle…"
      ]
     },
     "metadata": {},
     "output_type": "display_data"
    },
    {
     "name": "stdout",
     "output_type": "stream",
     "text": [
      "epoch: 01, loss: 1.068\n",
      "epoch: 02, loss: 1.067\n",
      "epoch: 03, loss: 1.069\n",
      "epoch: 04, loss: 1.066\n",
      "epoch: 05, loss: 1.064\n",
      "epoch: 06, loss: 1.060\n",
      "epoch: 07, loss: 1.059\n",
      "epoch: 08, loss: 1.057\n",
      "epoch: 09, loss: 1.054\n",
      "epoch: 10, loss: 1.054\n",
      "training with dropout:0.5 l2:0.001 lr:0.0001\n",
      "getting initial loss\n"
     ]
    },
    {
     "data": {
      "application/vnd.jupyter.widget-view+json": {
       "model_id": "affad3ee519f4b8cb34acdf8bf3f0bc2",
       "version_major": 2,
       "version_minor": 0
      },
      "text/plain": [
       "HBox(children=(IntProgress(value=0, description='Training Epochs', max=10, style=ProgressStyle(description_wid…"
      ]
     },
     "metadata": {},
     "output_type": "display_data"
    },
    {
     "data": {
      "application/vnd.jupyter.widget-view+json": {
       "model_id": "b1bf95a0139a462f81fb764f96a9103f",
       "version_major": 2,
       "version_minor": 0
      },
      "text/plain": [
       "HBox(children=(IntProgress(value=1, bar_style='info', description='Training Steps', max=1, style=ProgressStyle…"
      ]
     },
     "metadata": {},
     "output_type": "display_data"
    },
    {
     "name": "stdout",
     "output_type": "stream",
     "text": [
      "epoch: 01, loss: 1.115\n",
      "epoch: 02, loss: 1.112\n",
      "epoch: 03, loss: 1.109\n",
      "epoch: 04, loss: 1.107\n",
      "epoch: 05, loss: 1.105\n",
      "epoch: 06, loss: 1.102\n",
      "epoch: 07, loss: 1.100\n",
      "epoch: 08, loss: 1.098\n",
      "epoch: 09, loss: 1.097\n",
      "epoch: 10, loss: 1.095\n",
      "training with dropout:0.5 l2:1e-06 lr:0.1\n",
      "getting initial loss\n"
     ]
    },
    {
     "data": {
      "application/vnd.jupyter.widget-view+json": {
       "model_id": "f1bfa25638d748f19253187efa9e8b50",
       "version_major": 2,
       "version_minor": 0
      },
      "text/plain": [
       "HBox(children=(IntProgress(value=0, description='Training Epochs', max=10, style=ProgressStyle(description_wid…"
      ]
     },
     "metadata": {},
     "output_type": "display_data"
    },
    {
     "data": {
      "application/vnd.jupyter.widget-view+json": {
       "model_id": "1738219ff3b54a298ab780a786f71012",
       "version_major": 2,
       "version_minor": 0
      },
      "text/plain": [
       "HBox(children=(IntProgress(value=1, bar_style='info', description='Training Steps', max=1, style=ProgressStyle…"
      ]
     },
     "metadata": {},
     "output_type": "display_data"
    },
    {
     "name": "stdout",
     "output_type": "stream",
     "text": [
      "epoch: 01, loss: 1.090\n",
      "epoch: 02, loss: 1.070\n",
      "epoch: 03, loss: 1.068\n",
      "epoch: 04, loss: 1.072\n",
      "epoch: 05, loss: 1.073\n",
      "epoch: 06, loss: 1.074\n",
      "epoch: 07, loss: 1.072\n",
      "epoch: 08, loss: 1.071\n",
      "epoch: 09, loss: 1.071\n",
      "epoch: 10, loss: 1.071\n",
      "training with dropout:0.5 l2:1e-06 lr:0.01\n",
      "getting initial loss\n"
     ]
    },
    {
     "data": {
      "application/vnd.jupyter.widget-view+json": {
       "model_id": "bdbae0de7ef8440098cad63d68f70c21",
       "version_major": 2,
       "version_minor": 0
      },
      "text/plain": [
       "HBox(children=(IntProgress(value=0, description='Training Epochs', max=10, style=ProgressStyle(description_wid…"
      ]
     },
     "metadata": {},
     "output_type": "display_data"
    },
    {
     "data": {
      "application/vnd.jupyter.widget-view+json": {
       "model_id": "b4e5a9341da749ff987861cdc0288509",
       "version_major": 2,
       "version_minor": 0
      },
      "text/plain": [
       "HBox(children=(IntProgress(value=1, bar_style='info', description='Training Steps', max=1, style=ProgressStyle…"
      ]
     },
     "metadata": {},
     "output_type": "display_data"
    },
    {
     "name": "stdout",
     "output_type": "stream",
     "text": [
      "epoch: 01, loss: 1.068\n",
      "epoch: 02, loss: 1.065\n",
      "epoch: 03, loss: 1.064\n",
      "epoch: 04, loss: 1.063\n",
      "epoch: 05, loss: 1.060\n",
      "epoch: 06, loss: 1.059\n",
      "epoch: 07, loss: 1.058\n",
      "epoch: 08, loss: 1.056\n",
      "epoch: 09, loss: 1.052\n",
      "epoch: 10, loss: 1.052\n",
      "training with dropout:0.5 l2:1e-06 lr:0.0001\n",
      "getting initial loss\n"
     ]
    },
    {
     "data": {
      "application/vnd.jupyter.widget-view+json": {
       "model_id": "4581d0ad8ece424eaff17028b8251342",
       "version_major": 2,
       "version_minor": 0
      },
      "text/plain": [
       "HBox(children=(IntProgress(value=0, description='Training Epochs', max=10, style=ProgressStyle(description_wid…"
      ]
     },
     "metadata": {},
     "output_type": "display_data"
    },
    {
     "data": {
      "application/vnd.jupyter.widget-view+json": {
       "model_id": "8dcaee1cc2b04a7e8411e3ef246e86d0",
       "version_major": 2,
       "version_minor": 0
      },
      "text/plain": [
       "HBox(children=(IntProgress(value=1, bar_style='info', description='Training Steps', max=1, style=ProgressStyle…"
      ]
     },
     "metadata": {},
     "output_type": "display_data"
    },
    {
     "name": "stdout",
     "output_type": "stream",
     "text": [
      "epoch: 01, loss: 1.095\n",
      "epoch: 02, loss: 1.094\n",
      "epoch: 03, loss: 1.092\n",
      "epoch: 04, loss: 1.091\n",
      "epoch: 05, loss: 1.089\n",
      "epoch: 06, loss: 1.088\n",
      "epoch: 07, loss: 1.087\n",
      "epoch: 08, loss: 1.086\n",
      "epoch: 09, loss: 1.085\n",
      "epoch: 10, loss: 1.084\n",
      "training with dropout:0.2 l2:0.001 lr:0.1\n",
      "getting initial loss\n"
     ]
    },
    {
     "data": {
      "application/vnd.jupyter.widget-view+json": {
       "model_id": "8da0d82a93184585a095ee5e97213dea",
       "version_major": 2,
       "version_minor": 0
      },
      "text/plain": [
       "HBox(children=(IntProgress(value=0, description='Training Epochs', max=10, style=ProgressStyle(description_wid…"
      ]
     },
     "metadata": {},
     "output_type": "display_data"
    },
    {
     "data": {
      "application/vnd.jupyter.widget-view+json": {
       "model_id": "769c9c37ba224f3da8ae5d3995970f7e",
       "version_major": 2,
       "version_minor": 0
      },
      "text/plain": [
       "HBox(children=(IntProgress(value=1, bar_style='info', description='Training Steps', max=1, style=ProgressStyle…"
      ]
     },
     "metadata": {},
     "output_type": "display_data"
    },
    {
     "name": "stdout",
     "output_type": "stream",
     "text": [
      "epoch: 01, loss: 1.083\n",
      "epoch: 02, loss: 1.067\n",
      "epoch: 03, loss: 1.067\n",
      "epoch: 04, loss: 1.060\n",
      "epoch: 05, loss: 1.073\n",
      "epoch: 06, loss: 1.049\n",
      "epoch: 07, loss: 1.086\n",
      "epoch: 08, loss: 1.086\n",
      "epoch: 09, loss: 1.068\n",
      "epoch: 10, loss: 1.065\n",
      "training with dropout:0.2 l2:0.001 lr:0.01\n",
      "getting initial loss\n"
     ]
    },
    {
     "data": {
      "application/vnd.jupyter.widget-view+json": {
       "model_id": "9a7729652f1242dcb2017452dad707c2",
       "version_major": 2,
       "version_minor": 0
      },
      "text/plain": [
       "HBox(children=(IntProgress(value=0, description='Training Epochs', max=10, style=ProgressStyle(description_wid…"
      ]
     },
     "metadata": {},
     "output_type": "display_data"
    },
    {
     "data": {
      "application/vnd.jupyter.widget-view+json": {
       "model_id": "ad5c4eb2ef7942c69a30dddc3c79b219",
       "version_major": 2,
       "version_minor": 0
      },
      "text/plain": [
       "HBox(children=(IntProgress(value=1, bar_style='info', description='Training Steps', max=1, style=ProgressStyle…"
      ]
     },
     "metadata": {},
     "output_type": "display_data"
    },
    {
     "name": "stdout",
     "output_type": "stream",
     "text": [
      "epoch: 01, loss: 1.065\n",
      "epoch: 02, loss: 1.060\n",
      "epoch: 03, loss: 1.060\n",
      "epoch: 04, loss: 1.052\n",
      "epoch: 05, loss: 1.047\n",
      "epoch: 06, loss: 1.052\n",
      "epoch: 07, loss: 1.039\n",
      "epoch: 08, loss: 1.035\n",
      "epoch: 09, loss: 1.030\n",
      "epoch: 10, loss: 1.026\n",
      "training with dropout:0.2 l2:0.001 lr:0.0001\n",
      "getting initial loss\n"
     ]
    },
    {
     "data": {
      "application/vnd.jupyter.widget-view+json": {
       "model_id": "4385855e35ad475296f2d272043a54c5",
       "version_major": 2,
       "version_minor": 0
      },
      "text/plain": [
       "HBox(children=(IntProgress(value=0, description='Training Epochs', max=10, style=ProgressStyle(description_wid…"
      ]
     },
     "metadata": {},
     "output_type": "display_data"
    },
    {
     "data": {
      "application/vnd.jupyter.widget-view+json": {
       "model_id": "5dad3bc312c6410181cba424be8d7657",
       "version_major": 2,
       "version_minor": 0
      },
      "text/plain": [
       "HBox(children=(IntProgress(value=1, bar_style='info', description='Training Steps', max=1, style=ProgressStyle…"
      ]
     },
     "metadata": {},
     "output_type": "display_data"
    },
    {
     "name": "stdout",
     "output_type": "stream",
     "text": [
      "epoch: 01, loss: 1.109\n",
      "epoch: 02, loss: 1.106\n",
      "epoch: 03, loss: 1.103\n",
      "epoch: 04, loss: 1.101\n",
      "epoch: 05, loss: 1.099\n",
      "epoch: 06, loss: 1.097\n",
      "epoch: 07, loss: 1.095\n",
      "epoch: 08, loss: 1.094\n",
      "epoch: 09, loss: 1.092\n",
      "epoch: 10, loss: 1.091\n",
      "training with dropout:0.2 l2:1e-06 lr:0.1\n",
      "getting initial loss\n"
     ]
    },
    {
     "data": {
      "application/vnd.jupyter.widget-view+json": {
       "model_id": "e9a5f81be316475f996bd4e683cf58dc",
       "version_major": 2,
       "version_minor": 0
      },
      "text/plain": [
       "HBox(children=(IntProgress(value=0, description='Training Epochs', max=10, style=ProgressStyle(description_wid…"
      ]
     },
     "metadata": {},
     "output_type": "display_data"
    },
    {
     "data": {
      "application/vnd.jupyter.widget-view+json": {
       "model_id": "3cedaa0fa183458087c485c9d9c4d519",
       "version_major": 2,
       "version_minor": 0
      },
      "text/plain": [
       "HBox(children=(IntProgress(value=1, bar_style='info', description='Training Steps', max=1, style=ProgressStyle…"
      ]
     },
     "metadata": {},
     "output_type": "display_data"
    },
    {
     "name": "stdout",
     "output_type": "stream",
     "text": [
      "epoch: 01, loss: 1.079\n",
      "epoch: 02, loss: 1.065\n",
      "epoch: 03, loss: 1.064\n",
      "epoch: 04, loss: 1.067\n",
      "epoch: 05, loss: 1.059\n",
      "epoch: 06, loss: 1.081\n",
      "epoch: 07, loss: 1.059\n",
      "epoch: 08, loss: 1.066\n",
      "epoch: 09, loss: 1.067\n",
      "epoch: 10, loss: 1.062\n",
      "training with dropout:0.2 l2:1e-06 lr:0.01\n",
      "getting initial loss\n"
     ]
    },
    {
     "data": {
      "application/vnd.jupyter.widget-view+json": {
       "model_id": "7fdd90e8970c42399480a941f73da8a2",
       "version_major": 2,
       "version_minor": 0
      },
      "text/plain": [
       "HBox(children=(IntProgress(value=0, description='Training Epochs', max=10, style=ProgressStyle(description_wid…"
      ]
     },
     "metadata": {},
     "output_type": "display_data"
    },
    {
     "data": {
      "application/vnd.jupyter.widget-view+json": {
       "model_id": "05794f905dfc4eebbb150280adb1f942",
       "version_major": 2,
       "version_minor": 0
      },
      "text/plain": [
       "HBox(children=(IntProgress(value=1, bar_style='info', description='Training Steps', max=1, style=ProgressStyle…"
      ]
     },
     "metadata": {},
     "output_type": "display_data"
    },
    {
     "name": "stdout",
     "output_type": "stream",
     "text": [
      "epoch: 01, loss: 1.066\n",
      "epoch: 02, loss: 1.062\n",
      "epoch: 03, loss: 1.059\n",
      "epoch: 04, loss: 1.066\n",
      "epoch: 05, loss: 1.048\n",
      "epoch: 06, loss: 1.047\n",
      "epoch: 07, loss: 1.038\n",
      "epoch: 08, loss: 1.032\n",
      "epoch: 09, loss: 1.032\n",
      "epoch: 10, loss: 1.018\n",
      "training with dropout:0.2 l2:1e-06 lr:0.0001\n",
      "getting initial loss\n"
     ]
    },
    {
     "data": {
      "application/vnd.jupyter.widget-view+json": {
       "model_id": "0b615928368540d1ab93b56206504b67",
       "version_major": 2,
       "version_minor": 0
      },
      "text/plain": [
       "HBox(children=(IntProgress(value=0, description='Training Epochs', max=10, style=ProgressStyle(description_wid…"
      ]
     },
     "metadata": {},
     "output_type": "display_data"
    },
    {
     "data": {
      "application/vnd.jupyter.widget-view+json": {
       "model_id": "876f0e0b2e7c4b7e86006236aa9a6ec5",
       "version_major": 2,
       "version_minor": 0
      },
      "text/plain": [
       "HBox(children=(IntProgress(value=1, bar_style='info', description='Training Steps', max=1, style=ProgressStyle…"
      ]
     },
     "metadata": {},
     "output_type": "display_data"
    },
    {
     "name": "stdout",
     "output_type": "stream",
     "text": [
      "epoch: 01, loss: 1.108\n",
      "epoch: 02, loss: 1.105\n",
      "epoch: 03, loss: 1.102\n",
      "epoch: 04, loss: 1.099\n",
      "epoch: 05, loss: 1.096\n",
      "epoch: 06, loss: 1.094\n",
      "epoch: 07, loss: 1.092\n",
      "epoch: 08, loss: 1.090\n",
      "epoch: 09, loss: 1.088\n",
      "epoch: 10, loss: 1.087\n",
      "training with dropout:0.1 l2:0.001 lr:0.1\n",
      "getting initial loss\n"
     ]
    },
    {
     "data": {
      "application/vnd.jupyter.widget-view+json": {
       "model_id": "a518f336e72e4c7c93c923c1240577e3",
       "version_major": 2,
       "version_minor": 0
      },
      "text/plain": [
       "HBox(children=(IntProgress(value=0, description='Training Epochs', max=10, style=ProgressStyle(description_wid…"
      ]
     },
     "metadata": {},
     "output_type": "display_data"
    },
    {
     "data": {
      "application/vnd.jupyter.widget-view+json": {
       "model_id": "a64ea3502d624d4f8a138e65f4ba658d",
       "version_major": 2,
       "version_minor": 0
      },
      "text/plain": [
       "HBox(children=(IntProgress(value=1, bar_style='info', description='Training Steps', max=1, style=ProgressStyle…"
      ]
     },
     "metadata": {},
     "output_type": "display_data"
    },
    {
     "name": "stdout",
     "output_type": "stream",
     "text": [
      "epoch: 01, loss: 1.088\n",
      "epoch: 02, loss: 1.069\n",
      "epoch: 03, loss: 1.064\n",
      "epoch: 04, loss: 1.064\n",
      "epoch: 05, loss: 1.061\n",
      "epoch: 06, loss: 1.053\n",
      "epoch: 07, loss: 1.055\n",
      "epoch: 08, loss: 1.057\n",
      "epoch: 09, loss: 1.038\n",
      "epoch: 10, loss: 1.071\n",
      "training with dropout:0.1 l2:0.001 lr:0.01\n",
      "getting initial loss\n"
     ]
    },
    {
     "data": {
      "application/vnd.jupyter.widget-view+json": {
       "model_id": "94275e4c851a4da2b9a3c61067345805",
       "version_major": 2,
       "version_minor": 0
      },
      "text/plain": [
       "HBox(children=(IntProgress(value=0, description='Training Epochs', max=10, style=ProgressStyle(description_wid…"
      ]
     },
     "metadata": {},
     "output_type": "display_data"
    },
    {
     "data": {
      "application/vnd.jupyter.widget-view+json": {
       "model_id": "a86580b8706740b986747f2d81218c66",
       "version_major": 2,
       "version_minor": 0
      },
      "text/plain": [
       "HBox(children=(IntProgress(value=1, bar_style='info', description='Training Steps', max=1, style=ProgressStyle…"
      ]
     },
     "metadata": {},
     "output_type": "display_data"
    },
    {
     "name": "stdout",
     "output_type": "stream",
     "text": [
      "epoch: 01, loss: 1.064\n",
      "epoch: 02, loss: 1.061\n",
      "epoch: 03, loss: 1.051\n",
      "epoch: 04, loss: 1.049\n",
      "epoch: 05, loss: 1.047\n",
      "epoch: 06, loss: 1.033\n",
      "epoch: 07, loss: 1.024\n",
      "epoch: 08, loss: 1.052\n",
      "epoch: 09, loss: 1.009\n",
      "epoch: 10, loss: 1.010\n",
      "training with dropout:0.1 l2:0.001 lr:0.0001\n",
      "getting initial loss\n"
     ]
    },
    {
     "data": {
      "application/vnd.jupyter.widget-view+json": {
       "model_id": "8c1a7bcf5458414191a1623cab588ab0",
       "version_major": 2,
       "version_minor": 0
      },
      "text/plain": [
       "HBox(children=(IntProgress(value=0, description='Training Epochs', max=10, style=ProgressStyle(description_wid…"
      ]
     },
     "metadata": {},
     "output_type": "display_data"
    },
    {
     "data": {
      "application/vnd.jupyter.widget-view+json": {
       "model_id": "cb69f6e4f7fe4b038b275c57bf84c18b",
       "version_major": 2,
       "version_minor": 0
      },
      "text/plain": [
       "HBox(children=(IntProgress(value=1, bar_style='info', description='Training Steps', max=1, style=ProgressStyle…"
      ]
     },
     "metadata": {},
     "output_type": "display_data"
    },
    {
     "name": "stdout",
     "output_type": "stream",
     "text": [
      "epoch: 01, loss: 1.100\n",
      "epoch: 02, loss: 1.097\n",
      "epoch: 03, loss: 1.095\n",
      "epoch: 04, loss: 1.093\n",
      "epoch: 05, loss: 1.092\n",
      "epoch: 06, loss: 1.090\n",
      "epoch: 07, loss: 1.089\n",
      "epoch: 08, loss: 1.087\n",
      "epoch: 09, loss: 1.086\n",
      "epoch: 10, loss: 1.085\n",
      "training with dropout:0.1 l2:1e-06 lr:0.1\n",
      "getting initial loss\n"
     ]
    },
    {
     "data": {
      "application/vnd.jupyter.widget-view+json": {
       "model_id": "dc2af0af9b0c481186cf6632f2909cb1",
       "version_major": 2,
       "version_minor": 0
      },
      "text/plain": [
       "HBox(children=(IntProgress(value=0, description='Training Epochs', max=10, style=ProgressStyle(description_wid…"
      ]
     },
     "metadata": {},
     "output_type": "display_data"
    },
    {
     "data": {
      "application/vnd.jupyter.widget-view+json": {
       "model_id": "edb77b0372254eae8cf67f4e8efa97aa",
       "version_major": 2,
       "version_minor": 0
      },
      "text/plain": [
       "HBox(children=(IntProgress(value=1, bar_style='info', description='Training Steps', max=1, style=ProgressStyle…"
      ]
     },
     "metadata": {},
     "output_type": "display_data"
    },
    {
     "name": "stdout",
     "output_type": "stream",
     "text": [
      "epoch: 01, loss: 1.092\n",
      "epoch: 02, loss: 1.071\n",
      "epoch: 03, loss: 1.067\n",
      "epoch: 04, loss: 1.059\n",
      "epoch: 05, loss: 1.071\n",
      "epoch: 06, loss: 1.070\n",
      "epoch: 07, loss: 1.052\n",
      "epoch: 08, loss: 1.061\n",
      "epoch: 09, loss: 1.062\n",
      "epoch: 10, loss: 1.078\n",
      "training with dropout:0.1 l2:1e-06 lr:0.01\n",
      "getting initial loss\n"
     ]
    },
    {
     "data": {
      "application/vnd.jupyter.widget-view+json": {
       "model_id": "4ae9581eb57d48098caf258450286d4d",
       "version_major": 2,
       "version_minor": 0
      },
      "text/plain": [
       "HBox(children=(IntProgress(value=0, description='Training Epochs', max=10, style=ProgressStyle(description_wid…"
      ]
     },
     "metadata": {},
     "output_type": "display_data"
    },
    {
     "data": {
      "application/vnd.jupyter.widget-view+json": {
       "model_id": "feeed0dd09604fd4b07013ee23feb313",
       "version_major": 2,
       "version_minor": 0
      },
      "text/plain": [
       "HBox(children=(IntProgress(value=1, bar_style='info', description='Training Steps', max=1, style=ProgressStyle…"
      ]
     },
     "metadata": {},
     "output_type": "display_data"
    },
    {
     "name": "stdout",
     "output_type": "stream",
     "text": [
      "epoch: 01, loss: 1.065\n",
      "epoch: 02, loss: 1.069\n",
      "epoch: 03, loss: 1.052\n",
      "epoch: 04, loss: 1.050\n",
      "epoch: 05, loss: 1.045\n",
      "epoch: 06, loss: 1.041\n",
      "epoch: 07, loss: 1.023\n",
      "epoch: 08, loss: 1.018\n",
      "epoch: 09, loss: 1.012\n",
      "epoch: 10, loss: 1.006\n",
      "training with dropout:0.1 l2:1e-06 lr:0.0001\n",
      "getting initial loss\n"
     ]
    },
    {
     "data": {
      "application/vnd.jupyter.widget-view+json": {
       "model_id": "ea6cf6ca87374de7b5cd12ddc1473495",
       "version_major": 2,
       "version_minor": 0
      },
      "text/plain": [
       "HBox(children=(IntProgress(value=0, description='Training Epochs', max=10, style=ProgressStyle(description_wid…"
      ]
     },
     "metadata": {},
     "output_type": "display_data"
    },
    {
     "data": {
      "application/vnd.jupyter.widget-view+json": {
       "model_id": "dfa6e1a0dd374429af43e9a67ed7258e",
       "version_major": 2,
       "version_minor": 0
      },
      "text/plain": [
       "HBox(children=(IntProgress(value=1, bar_style='info', description='Training Steps', max=1, style=ProgressStyle…"
      ]
     },
     "metadata": {},
     "output_type": "display_data"
    },
    {
     "name": "stdout",
     "output_type": "stream",
     "text": [
      "epoch: 01, loss: 1.086\n",
      "epoch: 02, loss: 1.084\n",
      "epoch: 03, loss: 1.083\n",
      "epoch: 04, loss: 1.082\n",
      "epoch: 05, loss: 1.081\n",
      "epoch: 06, loss: 1.080\n",
      "epoch: 07, loss: 1.079\n",
      "epoch: 08, loss: 1.078\n",
      "epoch: 09, loss: 1.077\n",
      "epoch: 10, loss: 1.077\n",
      "\n"
     ]
    }
   ],
   "source": [
    "''' GRID-SEARCH with low-dimensional bimodal input '''\n",
    "dropout_rates = [0.5, 0.2, 0.1]\n",
    "l2_lambdas = [1e-03, 1e-06]\n",
    "learning_rates = [0.1, 0.01, 1e-4]\n",
    "bi_low_param_result = grid_search(X_bi_low_train, Y_bi_low_train, dropout_rates, l2_lambdas, learning_rates, NUM_EPOCHS, 300)"
   ]
  },
  {
   "cell_type": "code",
   "execution_count": 101,
   "metadata": {},
   "outputs": [
    {
     "data": {
      "text/html": [
       "<style  type=\"text/css\" >\n",
       "    #T_24d40ab2_8c31_11ea_8a1b_a683e732cddbrow0_col0 {\n",
       "            background-color:  #2c115f;\n",
       "            color:  #f1f1f1;\n",
       "        }    #T_24d40ab2_8c31_11ea_8a1b_a683e732cddbrow0_col1 {\n",
       "            background-color:  #100b2d;\n",
       "            color:  #f1f1f1;\n",
       "        }    #T_24d40ab2_8c31_11ea_8a1b_a683e732cddbrow1_col0 {\n",
       "            background-color:  #120d31;\n",
       "            color:  #f1f1f1;\n",
       "        }    #T_24d40ab2_8c31_11ea_8a1b_a683e732cddbrow1_col1 {\n",
       "            background-color:  #1e1149;\n",
       "            color:  #f1f1f1;\n",
       "        }    #T_24d40ab2_8c31_11ea_8a1b_a683e732cddbrow2_col0 {\n",
       "            background-color:  #040414;\n",
       "            color:  #f1f1f1;\n",
       "        }    #T_24d40ab2_8c31_11ea_8a1b_a683e732cddbrow2_col1 {\n",
       "            background-color:  #000004;\n",
       "            color:  #f1f1f1;\n",
       "        }    #T_24d40ab2_8c31_11ea_8a1b_a683e732cddbrow3_col0 {\n",
       "            background-color:  #52137c;\n",
       "            color:  #f1f1f1;\n",
       "        }    #T_24d40ab2_8c31_11ea_8a1b_a683e732cddbrow3_col1 {\n",
       "            background-color:  #601880;\n",
       "            color:  #f1f1f1;\n",
       "        }    #T_24d40ab2_8c31_11ea_8a1b_a683e732cddbrow4_col0 {\n",
       "            background-color:  #5f187f;\n",
       "            color:  #f1f1f1;\n",
       "        }    #T_24d40ab2_8c31_11ea_8a1b_a683e732cddbrow4_col1 {\n",
       "            background-color:  #651a80;\n",
       "            color:  #f1f1f1;\n",
       "        }    #T_24d40ab2_8c31_11ea_8a1b_a683e732cddbrow5_col0 {\n",
       "            background-color:  #451077;\n",
       "            color:  #f1f1f1;\n",
       "        }    #T_24d40ab2_8c31_11ea_8a1b_a683e732cddbrow5_col1 {\n",
       "            background-color:  #54137d;\n",
       "            color:  #f1f1f1;\n",
       "        }    #T_24d40ab2_8c31_11ea_8a1b_a683e732cddbrow6_col0 {\n",
       "            background-color:  #fde7a9;\n",
       "            color:  #000000;\n",
       "        }    #T_24d40ab2_8c31_11ea_8a1b_a683e732cddbrow6_col1 {\n",
       "            background-color:  #fed799;\n",
       "            color:  #000000;\n",
       "        }    #T_24d40ab2_8c31_11ea_8a1b_a683e732cddbrow7_col0 {\n",
       "            background-color:  #fea772;\n",
       "            color:  #000000;\n",
       "        }    #T_24d40ab2_8c31_11ea_8a1b_a683e732cddbrow7_col1 {\n",
       "            background-color:  #fcfdbf;\n",
       "            color:  #000000;\n",
       "        }    #T_24d40ab2_8c31_11ea_8a1b_a683e732cddbrow8_col0 {\n",
       "            background-color:  #dc4869;\n",
       "            color:  #000000;\n",
       "        }    #T_24d40ab2_8c31_11ea_8a1b_a683e732cddbrow8_col1 {\n",
       "            background-color:  #f9795d;\n",
       "            color:  #000000;\n",
       "        }</style><table id=\"T_24d40ab2_8c31_11ea_8a1b_a683e732cddb\" ><thead>    <tr>        <th class=\"blank\" ></th>        <th class=\"blank level0\" ></th>        <th class=\"col_heading level0 col0\" colspan=2>validation loss</th>    </tr>    <tr>        <th class=\"blank\" ></th>        <th class=\"index_name level1\" >L2 lambda</th>        <th class=\"col_heading level1 col0\" >1e-06</th>        <th class=\"col_heading level1 col1\" >0.001</th>    </tr>    <tr>        <th class=\"index_name level0\" >learning rate</th>        <th class=\"index_name level1\" >dropout rate</th>        <th class=\"blank\" ></th>        <th class=\"blank\" ></th>    </tr></thead><tbody>\n",
       "                <tr>\n",
       "                        <th id=\"T_24d40ab2_8c31_11ea_8a1b_a683e732cddblevel0_row0\" class=\"row_heading level0 row0\" rowspan=3>0.0001</th>\n",
       "                        <th id=\"T_24d40ab2_8c31_11ea_8a1b_a683e732cddblevel1_row0\" class=\"row_heading level1 row0\" >0.1</th>\n",
       "                        <td id=\"T_24d40ab2_8c31_11ea_8a1b_a683e732cddbrow0_col0\" class=\"data row0 col0\" >1.087</td>\n",
       "                        <td id=\"T_24d40ab2_8c31_11ea_8a1b_a683e732cddbrow0_col1\" class=\"data row0 col1\" >1.096</td>\n",
       "            </tr>\n",
       "            <tr>\n",
       "                                <th id=\"T_24d40ab2_8c31_11ea_8a1b_a683e732cddblevel1_row1\" class=\"row_heading level1 row1\" >0.2</th>\n",
       "                        <td id=\"T_24d40ab2_8c31_11ea_8a1b_a683e732cddbrow1_col0\" class=\"data row1 col0\" >1.095</td>\n",
       "                        <td id=\"T_24d40ab2_8c31_11ea_8a1b_a683e732cddbrow1_col1\" class=\"data row1 col1\" >1.091</td>\n",
       "            </tr>\n",
       "            <tr>\n",
       "                                <th id=\"T_24d40ab2_8c31_11ea_8a1b_a683e732cddblevel1_row2\" class=\"row_heading level1 row2\" >0.5</th>\n",
       "                        <td id=\"T_24d40ab2_8c31_11ea_8a1b_a683e732cddbrow2_col0\" class=\"data row2 col0\" >1.101</td>\n",
       "                        <td id=\"T_24d40ab2_8c31_11ea_8a1b_a683e732cddbrow2_col1\" class=\"data row2 col1\" >1.105</td>\n",
       "            </tr>\n",
       "            <tr>\n",
       "                        <th id=\"T_24d40ab2_8c31_11ea_8a1b_a683e732cddblevel0_row3\" class=\"row_heading level0 row3\" rowspan=3>0.01</th>\n",
       "                        <th id=\"T_24d40ab2_8c31_11ea_8a1b_a683e732cddblevel1_row3\" class=\"row_heading level1 row3\" >0.1</th>\n",
       "                        <td id=\"T_24d40ab2_8c31_11ea_8a1b_a683e732cddbrow3_col0\" class=\"data row3 col0\" >1.077</td>\n",
       "                        <td id=\"T_24d40ab2_8c31_11ea_8a1b_a683e732cddbrow3_col1\" class=\"data row3 col1\" >1.074</td>\n",
       "            </tr>\n",
       "            <tr>\n",
       "                                <th id=\"T_24d40ab2_8c31_11ea_8a1b_a683e732cddblevel1_row4\" class=\"row_heading level1 row4\" >0.2</th>\n",
       "                        <td id=\"T_24d40ab2_8c31_11ea_8a1b_a683e732cddbrow4_col0\" class=\"data row4 col0\" >1.074</td>\n",
       "                        <td id=\"T_24d40ab2_8c31_11ea_8a1b_a683e732cddbrow4_col1\" class=\"data row4 col1\" >1.072</td>\n",
       "            </tr>\n",
       "            <tr>\n",
       "                                <th id=\"T_24d40ab2_8c31_11ea_8a1b_a683e732cddblevel1_row5\" class=\"row_heading level1 row5\" >0.5</th>\n",
       "                        <td id=\"T_24d40ab2_8c31_11ea_8a1b_a683e732cddbrow5_col0\" class=\"data row5 col0\" >1.081</td>\n",
       "                        <td id=\"T_24d40ab2_8c31_11ea_8a1b_a683e732cddbrow5_col1\" class=\"data row5 col1\" >1.077</td>\n",
       "            </tr>\n",
       "            <tr>\n",
       "                        <th id=\"T_24d40ab2_8c31_11ea_8a1b_a683e732cddblevel0_row6\" class=\"row_heading level0 row6\" rowspan=3>0.1</th>\n",
       "                        <th id=\"T_24d40ab2_8c31_11ea_8a1b_a683e732cddblevel1_row6\" class=\"row_heading level1 row6\" >0.1</th>\n",
       "                        <td id=\"T_24d40ab2_8c31_11ea_8a1b_a683e732cddbrow6_col0\" class=\"data row6 col0\" >1.002</td>\n",
       "                        <td id=\"T_24d40ab2_8c31_11ea_8a1b_a683e732cddbrow6_col1\" class=\"data row6 col1\" >1.006</td>\n",
       "            </tr>\n",
       "            <tr>\n",
       "                                <th id=\"T_24d40ab2_8c31_11ea_8a1b_a683e732cddblevel1_row7\" class=\"row_heading level1 row7\" >0.2</th>\n",
       "                        <td id=\"T_24d40ab2_8c31_11ea_8a1b_a683e732cddbrow7_col0\" class=\"data row7 col0\" >1.017</td>\n",
       "                        <td id=\"T_24d40ab2_8c31_11ea_8a1b_a683e732cddbrow7_col1\" class=\"data row7 col1\" >0.997</td>\n",
       "            </tr>\n",
       "            <tr>\n",
       "                                <th id=\"T_24d40ab2_8c31_11ea_8a1b_a683e732cddblevel1_row8\" class=\"row_heading level1 row8\" >0.5</th>\n",
       "                        <td id=\"T_24d40ab2_8c31_11ea_8a1b_a683e732cddbrow8_col0\" class=\"data row8 col0\" >1.041</td>\n",
       "                        <td id=\"T_24d40ab2_8c31_11ea_8a1b_a683e732cddbrow8_col1\" class=\"data row8 col1\" >1.027</td>\n",
       "            </tr>\n",
       "    </tbody></table>"
      ],
      "text/plain": [
       "<pandas.io.formats.style.Styler at 0x15164bc50>"
      ]
     },
     "execution_count": 101,
     "metadata": {},
     "output_type": "execute_result"
    }
   ],
   "source": [
    "''' Visualize ATAC-seq grid search'''\n",
    "param_result_eval = atac_param_result.copy()\n",
    "for i, row in enumerate(atac_param_result):\n",
    "    for j, v in enumerate(row):\n",
    "        if isinstance(v, tf.Tensor):\n",
    "            val = tf.keras.backend.eval(v)\n",
    "            param_result_eval[i][j] = val\n",
    "            \n",
    "\n",
    "atac_grid_search_df = pd.DataFrame(param_result_eval, \n",
    "                             columns=['dropout rate',\n",
    "                                      'L2 lambda',\n",
    "                                      'learning rate',\n",
    "                                      'validation loss'])\n",
    "atac_grid_search_pivot = (atac_grid_search_df\n",
    "                     .pivot_table(values=['validation loss'],\n",
    "                                  columns=['L2 lambda'],\n",
    "                                  index=['learning rate', 'dropout rate']))\n",
    "atac_grid_search_pivot.style.format('{:.3f}').background_gradient(cmap='magma_r',\n",
    "                                                             axis=None)"
   ]
  },
  {
   "cell_type": "code",
   "execution_count": 102,
   "metadata": {},
   "outputs": [
    {
     "data": {
      "text/html": [
       "<style  type=\"text/css\" >\n",
       "    #T_24e0a290_8c31_11ea_8a1b_a683e732cddbrow0_col0 {\n",
       "            background-color:  #000004;\n",
       "            color:  #f1f1f1;\n",
       "        }    #T_24e0a290_8c31_11ea_8a1b_a683e732cddbrow0_col1 {\n",
       "            background-color:  #0d0a29;\n",
       "            color:  #f1f1f1;\n",
       "        }    #T_24e0a290_8c31_11ea_8a1b_a683e732cddbrow1_col0 {\n",
       "            background-color:  #010005;\n",
       "            color:  #f1f1f1;\n",
       "        }    #T_24e0a290_8c31_11ea_8a1b_a683e732cddbrow1_col1 {\n",
       "            background-color:  #110c2f;\n",
       "            color:  #f1f1f1;\n",
       "        }    #T_24e0a290_8c31_11ea_8a1b_a683e732cddbrow2_col0 {\n",
       "            background-color:  #130d34;\n",
       "            color:  #f1f1f1;\n",
       "        }    #T_24e0a290_8c31_11ea_8a1b_a683e732cddbrow2_col1 {\n",
       "            background-color:  #000004;\n",
       "            color:  #f1f1f1;\n",
       "        }    #T_24e0a290_8c31_11ea_8a1b_a683e732cddbrow3_col0 {\n",
       "            background-color:  #8e2a81;\n",
       "            color:  #f1f1f1;\n",
       "        }    #T_24e0a290_8c31_11ea_8a1b_a683e732cddbrow3_col1 {\n",
       "            background-color:  #8b2981;\n",
       "            color:  #f1f1f1;\n",
       "        }    #T_24e0a290_8c31_11ea_8a1b_a683e732cddbrow4_col0 {\n",
       "            background-color:  #942c80;\n",
       "            color:  #f1f1f1;\n",
       "        }    #T_24e0a290_8c31_11ea_8a1b_a683e732cddbrow4_col1 {\n",
       "            background-color:  #8e2a81;\n",
       "            color:  #f1f1f1;\n",
       "        }    #T_24e0a290_8c31_11ea_8a1b_a683e732cddbrow5_col0 {\n",
       "            background-color:  #54137d;\n",
       "            color:  #f1f1f1;\n",
       "        }    #T_24e0a290_8c31_11ea_8a1b_a683e732cddbrow5_col1 {\n",
       "            background-color:  #651a80;\n",
       "            color:  #f1f1f1;\n",
       "        }    #T_24e0a290_8c31_11ea_8a1b_a683e732cddbrow6_col0 {\n",
       "            background-color:  #fcfdbf;\n",
       "            color:  #000000;\n",
       "        }    #T_24e0a290_8c31_11ea_8a1b_a683e732cddbrow6_col1 {\n",
       "            background-color:  #fcfdbf;\n",
       "            color:  #000000;\n",
       "        }    #T_24e0a290_8c31_11ea_8a1b_a683e732cddbrow7_col0 {\n",
       "            background-color:  #fcfdbf;\n",
       "            color:  #000000;\n",
       "        }    #T_24e0a290_8c31_11ea_8a1b_a683e732cddbrow7_col1 {\n",
       "            background-color:  #fea772;\n",
       "            color:  #000000;\n",
       "        }    #T_24e0a290_8c31_11ea_8a1b_a683e732cddbrow8_col0 {\n",
       "            background-color:  #c03a76;\n",
       "            color:  #f1f1f1;\n",
       "        }    #T_24e0a290_8c31_11ea_8a1b_a683e732cddbrow8_col1 {\n",
       "            background-color:  #fe9d6c;\n",
       "            color:  #000000;\n",
       "        }</style><table id=\"T_24e0a290_8c31_11ea_8a1b_a683e732cddb\" ><thead>    <tr>        <th class=\"blank\" ></th>        <th class=\"blank level0\" ></th>        <th class=\"col_heading level0 col0\" colspan=2>validation loss</th>    </tr>    <tr>        <th class=\"blank\" ></th>        <th class=\"index_name level1\" >L2 lambda</th>        <th class=\"col_heading level1 col0\" >1e-06</th>        <th class=\"col_heading level1 col1\" >0.001</th>    </tr>    <tr>        <th class=\"index_name level0\" >learning rate</th>        <th class=\"index_name level1\" >dropout rate</th>        <th class=\"blank\" ></th>        <th class=\"blank\" ></th>    </tr></thead><tbody>\n",
       "                <tr>\n",
       "                        <th id=\"T_24e0a290_8c31_11ea_8a1b_a683e732cddblevel0_row0\" class=\"row_heading level0 row0\" rowspan=3>0.0001</th>\n",
       "                        <th id=\"T_24e0a290_8c31_11ea_8a1b_a683e732cddblevel1_row0\" class=\"row_heading level1 row0\" >0.1</th>\n",
       "                        <td id=\"T_24e0a290_8c31_11ea_8a1b_a683e732cddbrow0_col0\" class=\"data row0 col0\" >1.123</td>\n",
       "                        <td id=\"T_24e0a290_8c31_11ea_8a1b_a683e732cddbrow0_col1\" class=\"data row0 col1\" >1.078</td>\n",
       "            </tr>\n",
       "            <tr>\n",
       "                                <th id=\"T_24e0a290_8c31_11ea_8a1b_a683e732cddblevel1_row1\" class=\"row_heading level1 row1\" >0.2</th>\n",
       "                        <td id=\"T_24e0a290_8c31_11ea_8a1b_a683e732cddbrow1_col0\" class=\"data row1 col0\" >1.120</td>\n",
       "                        <td id=\"T_24e0a290_8c31_11ea_8a1b_a683e732cddbrow1_col1\" class=\"data row1 col1\" >1.073</td>\n",
       "            </tr>\n",
       "            <tr>\n",
       "                                <th id=\"T_24e0a290_8c31_11ea_8a1b_a683e732cddblevel1_row2\" class=\"row_heading level1 row2\" >0.5</th>\n",
       "                        <td id=\"T_24e0a290_8c31_11ea_8a1b_a683e732cddbrow2_col0\" class=\"data row2 col0\" >1.068</td>\n",
       "                        <td id=\"T_24e0a290_8c31_11ea_8a1b_a683e732cddbrow2_col1\" class=\"data row2 col1\" >1.121</td>\n",
       "            </tr>\n",
       "            <tr>\n",
       "                        <th id=\"T_24e0a290_8c31_11ea_8a1b_a683e732cddblevel0_row3\" class=\"row_heading level0 row3\" rowspan=3>0.01</th>\n",
       "                        <th id=\"T_24e0a290_8c31_11ea_8a1b_a683e732cddblevel1_row3\" class=\"row_heading level1 row3\" >0.1</th>\n",
       "                        <td id=\"T_24e0a290_8c31_11ea_8a1b_a683e732cddbrow3_col0\" class=\"data row3 col0\" >0.893</td>\n",
       "                        <td id=\"T_24e0a290_8c31_11ea_8a1b_a683e732cddbrow3_col1\" class=\"data row3 col1\" >0.897</td>\n",
       "            </tr>\n",
       "            <tr>\n",
       "                                <th id=\"T_24e0a290_8c31_11ea_8a1b_a683e732cddblevel1_row4\" class=\"row_heading level1 row4\" >0.2</th>\n",
       "                        <td id=\"T_24e0a290_8c31_11ea_8a1b_a683e732cddbrow4_col0\" class=\"data row4 col0\" >0.883</td>\n",
       "                        <td id=\"T_24e0a290_8c31_11ea_8a1b_a683e732cddbrow4_col1\" class=\"data row4 col1\" >0.893</td>\n",
       "            </tr>\n",
       "            <tr>\n",
       "                                <th id=\"T_24e0a290_8c31_11ea_8a1b_a683e732cddblevel1_row5\" class=\"row_heading level1 row5\" >0.5</th>\n",
       "                        <td id=\"T_24e0a290_8c31_11ea_8a1b_a683e732cddbrow5_col0\" class=\"data row5 col0\" >0.975</td>\n",
       "                        <td id=\"T_24e0a290_8c31_11ea_8a1b_a683e732cddbrow5_col1\" class=\"data row5 col1\" >0.950</td>\n",
       "            </tr>\n",
       "            <tr>\n",
       "                        <th id=\"T_24e0a290_8c31_11ea_8a1b_a683e732cddblevel0_row6\" class=\"row_heading level0 row6\" rowspan=3>0.1</th>\n",
       "                        <th id=\"T_24e0a290_8c31_11ea_8a1b_a683e732cddblevel1_row6\" class=\"row_heading level1 row6\" >0.1</th>\n",
       "                        <td id=\"T_24e0a290_8c31_11ea_8a1b_a683e732cddbrow6_col0\" class=\"data row6 col0\" >0.557</td>\n",
       "                        <td id=\"T_24e0a290_8c31_11ea_8a1b_a683e732cddbrow6_col1\" class=\"data row6 col1\" >0.555</td>\n",
       "            </tr>\n",
       "            <tr>\n",
       "                                <th id=\"T_24e0a290_8c31_11ea_8a1b_a683e732cddblevel1_row7\" class=\"row_heading level1 row7\" >0.2</th>\n",
       "                        <td id=\"T_24e0a290_8c31_11ea_8a1b_a683e732cddbrow7_col0\" class=\"data row7 col0\" >0.557</td>\n",
       "                        <td id=\"T_24e0a290_8c31_11ea_8a1b_a683e732cddbrow7_col1\" class=\"data row7 col1\" >0.660</td>\n",
       "            </tr>\n",
       "            <tr>\n",
       "                                <th id=\"T_24e0a290_8c31_11ea_8a1b_a683e732cddblevel1_row8\" class=\"row_heading level1 row8\" >0.5</th>\n",
       "                        <td id=\"T_24e0a290_8c31_11ea_8a1b_a683e732cddbrow8_col0\" class=\"data row8 col0\" >0.824</td>\n",
       "                        <td id=\"T_24e0a290_8c31_11ea_8a1b_a683e732cddbrow8_col1\" class=\"data row8 col1\" >0.671</td>\n",
       "            </tr>\n",
       "    </tbody></table>"
      ],
      "text/plain": [
       "<pandas.io.formats.style.Styler at 0x1b70e4ed0>"
      ]
     },
     "execution_count": 102,
     "metadata": {},
     "output_type": "execute_result"
    }
   ],
   "source": [
    "''' Visualize RNA-seq grid search'''\n",
    "rna_param_result_eval = rna_param_result.copy()\n",
    "for i, row in enumerate(rna_param_result):\n",
    "    for j, v in enumerate(row):\n",
    "        if isinstance(v, tf.Tensor):\n",
    "            val = tf.keras.backend.eval(v)\n",
    "            rna_param_result_eval[i][j] = val\n",
    "            \n",
    "rna_grid_search_df = pd.DataFrame(rna_param_result_eval, \n",
    "                             columns=['dropout rate',\n",
    "                                      'L2 lambda',\n",
    "                                      'learning rate',\n",
    "                                      'validation loss'])\n",
    "rna_grid_search_pivot = (rna_grid_search_df\n",
    "                     .pivot_table(values=['validation loss'],\n",
    "                                  columns=['L2 lambda'],\n",
    "                                  index=['learning rate', 'dropout rate']))\n",
    "rna_grid_search_pivot.style.format('{:.3f}').background_gradient(cmap='magma_r',\n",
    "                                                             axis=None)"
   ]
  },
  {
   "cell_type": "code",
   "execution_count": 103,
   "metadata": {},
   "outputs": [
    {
     "data": {
      "text/html": [
       "<style  type=\"text/css\" >\n",
       "    #T_24ec6382_8c31_11ea_8a1b_a683e732cddbrow0_col0 {\n",
       "            background-color:  #010106;\n",
       "            color:  #f1f1f1;\n",
       "        }    #T_24ec6382_8c31_11ea_8a1b_a683e732cddbrow0_col1 {\n",
       "            background-color:  #000004;\n",
       "            color:  #f1f1f1;\n",
       "        }    #T_24ec6382_8c31_11ea_8a1b_a683e732cddbrow1_col0 {\n",
       "            background-color:  #020109;\n",
       "            color:  #f1f1f1;\n",
       "        }    #T_24ec6382_8c31_11ea_8a1b_a683e732cddbrow1_col1 {\n",
       "            background-color:  #03030f;\n",
       "            color:  #f1f1f1;\n",
       "        }    #T_24ec6382_8c31_11ea_8a1b_a683e732cddbrow2_col0 {\n",
       "            background-color:  #000004;\n",
       "            color:  #f1f1f1;\n",
       "        }    #T_24ec6382_8c31_11ea_8a1b_a683e732cddbrow2_col1 {\n",
       "            background-color:  #010108;\n",
       "            color:  #f1f1f1;\n",
       "        }    #T_24ec6382_8c31_11ea_8a1b_a683e732cddbrow3_col0 {\n",
       "            background-color:  #912b81;\n",
       "            color:  #f1f1f1;\n",
       "        }    #T_24ec6382_8c31_11ea_8a1b_a683e732cddbrow3_col1 {\n",
       "            background-color:  #a02f7f;\n",
       "            color:  #f1f1f1;\n",
       "        }    #T_24ec6382_8c31_11ea_8a1b_a683e732cddbrow4_col0 {\n",
       "            background-color:  #7b2382;\n",
       "            color:  #f1f1f1;\n",
       "        }    #T_24ec6382_8c31_11ea_8a1b_a683e732cddbrow4_col1 {\n",
       "            background-color:  #6d1d81;\n",
       "            color:  #f1f1f1;\n",
       "        }    #T_24ec6382_8c31_11ea_8a1b_a683e732cddbrow5_col0 {\n",
       "            background-color:  #3d0f71;\n",
       "            color:  #f1f1f1;\n",
       "        }    #T_24ec6382_8c31_11ea_8a1b_a683e732cddbrow5_col1 {\n",
       "            background-color:  #491078;\n",
       "            color:  #f1f1f1;\n",
       "        }    #T_24ec6382_8c31_11ea_8a1b_a683e732cddbrow6_col0 {\n",
       "            background-color:  #fd9266;\n",
       "            color:  #000000;\n",
       "        }    #T_24ec6382_8c31_11ea_8a1b_a683e732cddbrow6_col1 {\n",
       "            background-color:  #fcfdbf;\n",
       "            color:  #000000;\n",
       "        }    #T_24ec6382_8c31_11ea_8a1b_a683e732cddbrow7_col0 {\n",
       "            background-color:  #f3655c;\n",
       "            color:  #000000;\n",
       "        }    #T_24ec6382_8c31_11ea_8a1b_a683e732cddbrow7_col1 {\n",
       "            background-color:  #fde3a5;\n",
       "            color:  #000000;\n",
       "        }    #T_24ec6382_8c31_11ea_8a1b_a683e732cddbrow8_col0 {\n",
       "            background-color:  #fdda9c;\n",
       "            color:  #000000;\n",
       "        }    #T_24ec6382_8c31_11ea_8a1b_a683e732cddbrow8_col1 {\n",
       "            background-color:  #f7705c;\n",
       "            color:  #000000;\n",
       "        }</style><table id=\"T_24ec6382_8c31_11ea_8a1b_a683e732cddb\" ><thead>    <tr>        <th class=\"blank\" ></th>        <th class=\"blank level0\" ></th>        <th class=\"col_heading level0 col0\" colspan=2>validation loss</th>    </tr>    <tr>        <th class=\"blank\" ></th>        <th class=\"index_name level1\" >L2 lambda</th>        <th class=\"col_heading level1 col0\" >1e-06</th>        <th class=\"col_heading level1 col1\" >0.001</th>    </tr>    <tr>        <th class=\"index_name level0\" >learning rate</th>        <th class=\"index_name level1\" >dropout rate</th>        <th class=\"blank\" ></th>        <th class=\"blank\" ></th>    </tr></thead><tbody>\n",
       "                <tr>\n",
       "                        <th id=\"T_24ec6382_8c31_11ea_8a1b_a683e732cddblevel0_row0\" class=\"row_heading level0 row0\" rowspan=3>0.0001</th>\n",
       "                        <th id=\"T_24ec6382_8c31_11ea_8a1b_a683e732cddblevel1_row0\" class=\"row_heading level1 row0\" >0.1</th>\n",
       "                        <td id=\"T_24ec6382_8c31_11ea_8a1b_a683e732cddbrow0_col0\" class=\"data row0 col0\" >1.092</td>\n",
       "                        <td id=\"T_24ec6382_8c31_11ea_8a1b_a683e732cddbrow0_col1\" class=\"data row0 col1\" >1.098</td>\n",
       "            </tr>\n",
       "            <tr>\n",
       "                                <th id=\"T_24ec6382_8c31_11ea_8a1b_a683e732cddblevel1_row1\" class=\"row_heading level1 row1\" >0.2</th>\n",
       "                        <td id=\"T_24ec6382_8c31_11ea_8a1b_a683e732cddbrow1_col0\" class=\"data row1 col0\" >1.089</td>\n",
       "                        <td id=\"T_24ec6382_8c31_11ea_8a1b_a683e732cddbrow1_col1\" class=\"data row1 col1\" >1.083</td>\n",
       "            </tr>\n",
       "            <tr>\n",
       "                                <th id=\"T_24ec6382_8c31_11ea_8a1b_a683e732cddblevel1_row2\" class=\"row_heading level1 row2\" >0.5</th>\n",
       "                        <td id=\"T_24ec6382_8c31_11ea_8a1b_a683e732cddbrow2_col0\" class=\"data row2 col0\" >1.096</td>\n",
       "                        <td id=\"T_24ec6382_8c31_11ea_8a1b_a683e732cddbrow2_col1\" class=\"data row2 col1\" >1.091</td>\n",
       "            </tr>\n",
       "            <tr>\n",
       "                        <th id=\"T_24ec6382_8c31_11ea_8a1b_a683e732cddblevel0_row3\" class=\"row_heading level0 row3\" rowspan=3>0.01</th>\n",
       "                        <th id=\"T_24ec6382_8c31_11ea_8a1b_a683e732cddblevel1_row3\" class=\"row_heading level1 row3\" >0.1</th>\n",
       "                        <td id=\"T_24ec6382_8c31_11ea_8a1b_a683e732cddbrow3_col0\" class=\"data row3 col0\" >0.890</td>\n",
       "                        <td id=\"T_24ec6382_8c31_11ea_8a1b_a683e732cddbrow3_col1\" class=\"data row3 col1\" >0.873</td>\n",
       "            </tr>\n",
       "            <tr>\n",
       "                                <th id=\"T_24ec6382_8c31_11ea_8a1b_a683e732cddblevel1_row4\" class=\"row_heading level1 row4\" >0.2</th>\n",
       "                        <td id=\"T_24ec6382_8c31_11ea_8a1b_a683e732cddbrow4_col0\" class=\"data row4 col0\" >0.918</td>\n",
       "                        <td id=\"T_24ec6382_8c31_11ea_8a1b_a683e732cddbrow4_col1\" class=\"data row4 col1\" >0.936</td>\n",
       "            </tr>\n",
       "            <tr>\n",
       "                                <th id=\"T_24ec6382_8c31_11ea_8a1b_a683e732cddblevel1_row5\" class=\"row_heading level1 row5\" >0.5</th>\n",
       "                        <td id=\"T_24ec6382_8c31_11ea_8a1b_a683e732cddbrow5_col0\" class=\"data row5 col0\" >0.995</td>\n",
       "                        <td id=\"T_24ec6382_8c31_11ea_8a1b_a683e732cddbrow5_col1\" class=\"data row5 col1\" >0.980</td>\n",
       "            </tr>\n",
       "            <tr>\n",
       "                        <th id=\"T_24ec6382_8c31_11ea_8a1b_a683e732cddblevel0_row6\" class=\"row_heading level0 row6\" rowspan=3>0.1</th>\n",
       "                        <th id=\"T_24ec6382_8c31_11ea_8a1b_a683e732cddblevel1_row6\" class=\"row_heading level1 row6\" >0.1</th>\n",
       "                        <td id=\"T_24ec6382_8c31_11ea_8a1b_a683e732cddbrow6_col0\" class=\"data row6 col0\" >0.710</td>\n",
       "                        <td id=\"T_24ec6382_8c31_11ea_8a1b_a683e732cddbrow6_col1\" class=\"data row6 col1\" >0.596</td>\n",
       "            </tr>\n",
       "            <tr>\n",
       "                                <th id=\"T_24ec6382_8c31_11ea_8a1b_a683e732cddblevel1_row7\" class=\"row_heading level1 row7\" >0.2</th>\n",
       "                        <td id=\"T_24ec6382_8c31_11ea_8a1b_a683e732cddbrow7_col0\" class=\"data row7 col0\" >0.758</td>\n",
       "                        <td id=\"T_24ec6382_8c31_11ea_8a1b_a683e732cddbrow7_col1\" class=\"data row7 col1\" >0.624</td>\n",
       "            </tr>\n",
       "            <tr>\n",
       "                                <th id=\"T_24ec6382_8c31_11ea_8a1b_a683e732cddblevel1_row8\" class=\"row_heading level1 row8\" >0.5</th>\n",
       "                        <td id=\"T_24ec6382_8c31_11ea_8a1b_a683e732cddbrow8_col0\" class=\"data row8 col0\" >0.634</td>\n",
       "                        <td id=\"T_24ec6382_8c31_11ea_8a1b_a683e732cddbrow8_col1\" class=\"data row8 col1\" >0.746</td>\n",
       "            </tr>\n",
       "    </tbody></table>"
      ],
      "text/plain": [
       "<pandas.io.formats.style.Styler at 0x1da60bd10>"
      ]
     },
     "execution_count": 103,
     "metadata": {},
     "output_type": "execute_result"
    }
   ],
   "source": [
    "''' Visualize Bimodal grid search'''\n",
    "bimodal_param_result_eval = bimodal_param_result.copy()\n",
    "for i, row in enumerate(bimodal_param_result):\n",
    "    for j, v in enumerate(row):\n",
    "        if isinstance(v, tf.Tensor):\n",
    "            val = tf.keras.backend.eval(v)\n",
    "            bimodal_param_result_eval[i][j] = val\n",
    "            \n",
    "bimodal_grid_search_df = pd.DataFrame(bimodal_param_result_eval, \n",
    "                             columns=['dropout rate',\n",
    "                                      'L2 lambda',\n",
    "                                      'learning rate',\n",
    "                                      'validation loss'])\n",
    "bimodal_grid_search_pivot = (bimodal_grid_search_df\n",
    "                     .pivot_table(values=['validation loss'],\n",
    "                                  columns=['L2 lambda'],\n",
    "                                  index=['learning rate', 'dropout rate']))\n",
    "bimodal_grid_search_pivot.style.format('{:.3f}').background_gradient(cmap='magma_r',\n",
    "                                                             axis=None)"
   ]
  },
  {
   "cell_type": "code",
   "execution_count": 105,
   "metadata": {},
   "outputs": [
    {
     "data": {
      "text/html": [
       "<style  type=\"text/css\" >\n",
       "    #T_9ed7b8da_8c32_11ea_8a1b_a683e732cddbrow0_col0 {\n",
       "            background-color:  #3d0f71;\n",
       "            color:  #f1f1f1;\n",
       "        }    #T_9ed7b8da_8c32_11ea_8a1b_a683e732cddbrow0_col1 {\n",
       "            background-color:  #180f3d;\n",
       "            color:  #f1f1f1;\n",
       "        }    #T_9ed7b8da_8c32_11ea_8a1b_a683e732cddbrow1_col0 {\n",
       "            background-color:  #120d31;\n",
       "            color:  #f1f1f1;\n",
       "        }    #T_9ed7b8da_8c32_11ea_8a1b_a683e732cddbrow1_col1 {\n",
       "            background-color:  #06051a;\n",
       "            color:  #f1f1f1;\n",
       "        }    #T_9ed7b8da_8c32_11ea_8a1b_a683e732cddbrow2_col0 {\n",
       "            background-color:  #1c1044;\n",
       "            color:  #f1f1f1;\n",
       "        }    #T_9ed7b8da_8c32_11ea_8a1b_a683e732cddbrow2_col1 {\n",
       "            background-color:  #000004;\n",
       "            color:  #f1f1f1;\n",
       "        }    #T_9ed7b8da_8c32_11ea_8a1b_a683e732cddbrow3_col0 {\n",
       "            background-color:  #fcfdbf;\n",
       "            color:  #000000;\n",
       "        }    #T_9ed7b8da_8c32_11ea_8a1b_a683e732cddbrow3_col1 {\n",
       "            background-color:  #fceeb0;\n",
       "            color:  #000000;\n",
       "        }    #T_9ed7b8da_8c32_11ea_8a1b_a683e732cddbrow4_col0 {\n",
       "            background-color:  #febf84;\n",
       "            color:  #000000;\n",
       "        }    #T_9ed7b8da_8c32_11ea_8a1b_a683e732cddbrow4_col1 {\n",
       "            background-color:  #fc9065;\n",
       "            color:  #000000;\n",
       "        }    #T_9ed7b8da_8c32_11ea_8a1b_a683e732cddbrow5_col0 {\n",
       "            background-color:  #ad347c;\n",
       "            color:  #f1f1f1;\n",
       "        }    #T_9ed7b8da_8c32_11ea_8a1b_a683e732cddbrow5_col1 {\n",
       "            background-color:  #a6317d;\n",
       "            color:  #f1f1f1;\n",
       "        }    #T_9ed7b8da_8c32_11ea_8a1b_a683e732cddbrow6_col0 {\n",
       "            background-color:  #ae347b;\n",
       "            color:  #f1f1f1;\n",
       "        }    #T_9ed7b8da_8c32_11ea_8a1b_a683e732cddbrow6_col1 {\n",
       "            background-color:  #e85362;\n",
       "            color:  #000000;\n",
       "        }    #T_9ed7b8da_8c32_11ea_8a1b_a683e732cddbrow7_col0 {\n",
       "            background-color:  #8e2a81;\n",
       "            color:  #f1f1f1;\n",
       "        }    #T_9ed7b8da_8c32_11ea_8a1b_a683e732cddbrow7_col1 {\n",
       "            background-color:  #bc3978;\n",
       "            color:  #f1f1f1;\n",
       "        }    #T_9ed7b8da_8c32_11ea_8a1b_a683e732cddbrow8_col0 {\n",
       "            background-color:  #641a80;\n",
       "            color:  #f1f1f1;\n",
       "        }    #T_9ed7b8da_8c32_11ea_8a1b_a683e732cddbrow8_col1 {\n",
       "            background-color:  #621980;\n",
       "            color:  #f1f1f1;\n",
       "        }</style><table id=\"T_9ed7b8da_8c32_11ea_8a1b_a683e732cddb\" ><thead>    <tr>        <th class=\"blank\" ></th>        <th class=\"blank level0\" ></th>        <th class=\"col_heading level0 col0\" colspan=2>validation loss</th>    </tr>    <tr>        <th class=\"blank\" ></th>        <th class=\"index_name level1\" >L2 lambda</th>        <th class=\"col_heading level1 col0\" >1e-06</th>        <th class=\"col_heading level1 col1\" >0.001</th>    </tr>    <tr>        <th class=\"index_name level0\" >learning rate</th>        <th class=\"index_name level1\" >dropout rate</th>        <th class=\"blank\" ></th>        <th class=\"blank\" ></th>    </tr></thead><tbody>\n",
       "                <tr>\n",
       "                        <th id=\"T_9ed7b8da_8c32_11ea_8a1b_a683e732cddblevel0_row0\" class=\"row_heading level0 row0\" rowspan=3>0.0001</th>\n",
       "                        <th id=\"T_9ed7b8da_8c32_11ea_8a1b_a683e732cddblevel1_row0\" class=\"row_heading level1 row0\" >0.1</th>\n",
       "                        <td id=\"T_9ed7b8da_8c32_11ea_8a1b_a683e732cddbrow0_col0\" class=\"data row0 col0\" >1.077</td>\n",
       "                        <td id=\"T_9ed7b8da_8c32_11ea_8a1b_a683e732cddbrow0_col1\" class=\"data row0 col1\" >1.085</td>\n",
       "            </tr>\n",
       "            <tr>\n",
       "                                <th id=\"T_9ed7b8da_8c32_11ea_8a1b_a683e732cddblevel1_row1\" class=\"row_heading level1 row1\" >0.2</th>\n",
       "                        <td id=\"T_9ed7b8da_8c32_11ea_8a1b_a683e732cddbrow1_col0\" class=\"data row1 col0\" >1.087</td>\n",
       "                        <td id=\"T_9ed7b8da_8c32_11ea_8a1b_a683e732cddbrow1_col1\" class=\"data row1 col1\" >1.091</td>\n",
       "            </tr>\n",
       "            <tr>\n",
       "                                <th id=\"T_9ed7b8da_8c32_11ea_8a1b_a683e732cddblevel1_row2\" class=\"row_heading level1 row2\" >0.5</th>\n",
       "                        <td id=\"T_9ed7b8da_8c32_11ea_8a1b_a683e732cddbrow2_col0\" class=\"data row2 col0\" >1.084</td>\n",
       "                        <td id=\"T_9ed7b8da_8c32_11ea_8a1b_a683e732cddbrow2_col1\" class=\"data row2 col1\" >1.095</td>\n",
       "            </tr>\n",
       "            <tr>\n",
       "                        <th id=\"T_9ed7b8da_8c32_11ea_8a1b_a683e732cddblevel0_row3\" class=\"row_heading level0 row3\" rowspan=3>0.01</th>\n",
       "                        <th id=\"T_9ed7b8da_8c32_11ea_8a1b_a683e732cddblevel1_row3\" class=\"row_heading level1 row3\" >0.1</th>\n",
       "                        <td id=\"T_9ed7b8da_8c32_11ea_8a1b_a683e732cddbrow3_col0\" class=\"data row3 col0\" >1.006</td>\n",
       "                        <td id=\"T_9ed7b8da_8c32_11ea_8a1b_a683e732cddbrow3_col1\" class=\"data row3 col1\" >1.009</td>\n",
       "            </tr>\n",
       "            <tr>\n",
       "                                <th id=\"T_9ed7b8da_8c32_11ea_8a1b_a683e732cddblevel1_row4\" class=\"row_heading level1 row4\" >0.2</th>\n",
       "                        <td id=\"T_9ed7b8da_8c32_11ea_8a1b_a683e732cddbrow4_col0\" class=\"data row4 col0\" >1.018</td>\n",
       "                        <td id=\"T_9ed7b8da_8c32_11ea_8a1b_a683e732cddbrow4_col1\" class=\"data row4 col1\" >1.026</td>\n",
       "            </tr>\n",
       "            <tr>\n",
       "                                <th id=\"T_9ed7b8da_8c32_11ea_8a1b_a683e732cddblevel1_row5\" class=\"row_heading level1 row5\" >0.5</th>\n",
       "                        <td id=\"T_9ed7b8da_8c32_11ea_8a1b_a683e732cddbrow5_col0\" class=\"data row5 col0\" >1.052</td>\n",
       "                        <td id=\"T_9ed7b8da_8c32_11ea_8a1b_a683e732cddbrow5_col1\" class=\"data row5 col1\" >1.054</td>\n",
       "            </tr>\n",
       "            <tr>\n",
       "                        <th id=\"T_9ed7b8da_8c32_11ea_8a1b_a683e732cddblevel0_row6\" class=\"row_heading level0 row6\" rowspan=3>0.1</th>\n",
       "                        <th id=\"T_9ed7b8da_8c32_11ea_8a1b_a683e732cddblevel1_row6\" class=\"row_heading level1 row6\" >0.1</th>\n",
       "                        <td id=\"T_9ed7b8da_8c32_11ea_8a1b_a683e732cddbrow6_col0\" class=\"data row6 col0\" >1.052</td>\n",
       "                        <td id=\"T_9ed7b8da_8c32_11ea_8a1b_a683e732cddbrow6_col1\" class=\"data row6 col1\" >1.038</td>\n",
       "            </tr>\n",
       "            <tr>\n",
       "                                <th id=\"T_9ed7b8da_8c32_11ea_8a1b_a683e732cddblevel1_row7\" class=\"row_heading level1 row7\" >0.2</th>\n",
       "                        <td id=\"T_9ed7b8da_8c32_11ea_8a1b_a683e732cddbrow7_col0\" class=\"data row7 col0\" >1.059</td>\n",
       "                        <td id=\"T_9ed7b8da_8c32_11ea_8a1b_a683e732cddbrow7_col1\" class=\"data row7 col1\" >1.049</td>\n",
       "            </tr>\n",
       "            <tr>\n",
       "                                <th id=\"T_9ed7b8da_8c32_11ea_8a1b_a683e732cddblevel1_row8\" class=\"row_heading level1 row8\" >0.5</th>\n",
       "                        <td id=\"T_9ed7b8da_8c32_11ea_8a1b_a683e732cddbrow8_col0\" class=\"data row8 col0\" >1.068</td>\n",
       "                        <td id=\"T_9ed7b8da_8c32_11ea_8a1b_a683e732cddbrow8_col1\" class=\"data row8 col1\" >1.069</td>\n",
       "            </tr>\n",
       "    </tbody></table>"
      ],
      "text/plain": [
       "<pandas.io.formats.style.Styler at 0x1541fb550>"
      ]
     },
     "execution_count": 105,
     "metadata": {},
     "output_type": "execute_result"
    }
   ],
   "source": [
    "''' Visualize low-dimensional Bimodal grid search'''\n",
    "bi_low_param_result_eval = bi_low_param_result.copy()\n",
    "for i, row in enumerate(bi_low_param_result):\n",
    "    for j, v in enumerate(row):\n",
    "        if isinstance(v, tf.Tensor):\n",
    "            val = tf.keras.backend.eval(v)\n",
    "            bi_low_param_result_eval[i][j] = val\n",
    "            \n",
    "bi_low_grid_search_df = pd.DataFrame(bi_low_param_result_eval, \n",
    "                             columns=['dropout rate',\n",
    "                                      'L2 lambda',\n",
    "                                      'learning rate',\n",
    "                                      'validation loss'])\n",
    "bi_low_grid_search_pivot = (bi_low_grid_search_df\n",
    "                     .pivot_table(values=['validation loss'],\n",
    "                                  columns=['L2 lambda'],\n",
    "                                  index=['learning rate', 'dropout rate']))\n",
    "bi_low_grid_search_pivot.style.format('{:.3f}').background_gradient(cmap='magma_r',\n",
    "                                                             axis=None)"
   ]
  },
  {
   "cell_type": "code",
   "execution_count": null,
   "metadata": {},
   "outputs": [],
   "source": [
    "''' Predict using validation or test set '''"
   ]
  },
  {
   "cell_type": "code",
   "execution_count": 106,
   "metadata": {},
   "outputs": [
    {
     "name": "stdout",
     "output_type": "stream",
     "text": [
      "getting initial loss\n"
     ]
    },
    {
     "data": {
      "application/vnd.jupyter.widget-view+json": {
       "model_id": "d32e74f50bbf4b95aaea7e138a53a9c9",
       "version_major": 2,
       "version_minor": 0
      },
      "text/plain": [
       "HBox(children=(IntProgress(value=0, description='Training Epochs', style=ProgressStyle(description_width='init…"
      ]
     },
     "metadata": {},
     "output_type": "display_data"
    },
    {
     "data": {
      "application/vnd.jupyter.widget-view+json": {
       "model_id": "90d8a076cb094eaa9ae048049e5e4d52",
       "version_major": 2,
       "version_minor": 0
      },
      "text/plain": [
       "HBox(children=(IntProgress(value=1, bar_style='info', description='Training Steps', max=1, style=ProgressStyle…"
      ]
     },
     "metadata": {},
     "output_type": "display_data"
    },
    {
     "name": "stdout",
     "output_type": "stream",
     "text": [
      "epoch: 01, loss: 1.064\n",
      "WARNING:tensorflow:From /Users/tjamesso/miniconda3/envs/broad/lib/python3.7/site-packages/tensorflow_core/python/ops/resource_variable_ops.py:1786: calling BaseResourceVariable.__init__ (from tensorflow.python.ops.resource_variable_ops) with constraint is deprecated and will be removed in a future version.\n",
      "Instructions for updating:\n",
      "If using Keras pass *_constraint arguments to layers.\n",
      "INFO:tensorflow:Assets written to: models/best_atac_model_pp_fs/assets\n",
      "epoch: 02, loss: 1.052\n",
      "INFO:tensorflow:Assets written to: models/best_atac_model_pp_fs/assets\n",
      "epoch: 03, loss: 1.025\n",
      "INFO:tensorflow:Assets written to: models/best_atac_model_pp_fs/assets\n",
      "epoch: 04, loss: 1.550\n",
      "epoch: 05, loss: 1.055\n",
      "epoch: 06, loss: 1.006\n",
      "INFO:tensorflow:Assets written to: models/best_atac_model_pp_fs/assets\n",
      "epoch: 07, loss: 1.578\n",
      "epoch: 08, loss: 0.965\n",
      "INFO:tensorflow:Assets written to: models/best_atac_model_pp_fs/assets\n",
      "epoch: 09, loss: 0.992\n",
      "epoch: 10, loss: 1.645\n",
      "epoch: 11, loss: 1.031\n",
      "epoch: 12, loss: 1.073\n",
      "epoch: 13, loss: 1.139\n",
      "epoch: 14, loss: 1.328\n",
      "epoch: 15, loss: 1.012\n",
      "epoch: 16, loss: 1.600\n",
      "epoch: 17, loss: 0.983\n",
      "epoch: 18, loss: 1.024\n",
      "epoch: 19, loss: 0.844\n",
      "INFO:tensorflow:Assets written to: models/best_atac_model_pp_fs/assets\n",
      "epoch: 20, loss: 0.872\n",
      "epoch: 21, loss: 0.841\n",
      "INFO:tensorflow:Assets written to: models/best_atac_model_pp_fs/assets\n",
      "epoch: 22, loss: 0.868\n",
      "epoch: 23, loss: 0.883\n",
      "epoch: 24, loss: 0.879\n",
      "epoch: 25, loss: 0.879\n",
      "epoch: 26, loss: 0.900\n",
      "epoch: 27, loss: 0.895\n",
      "epoch: 28, loss: 0.905\n",
      "epoch: 29, loss: 0.923\n",
      "epoch: 30, loss: 0.917\n",
      "epoch: 31, loss: 0.921\n",
      "epoch: 32, loss: 0.926\n",
      "epoch: 33, loss: 0.926\n",
      "epoch: 34, loss: 0.929\n",
      "epoch: 35, loss: 0.928\n",
      "epoch: 36, loss: 0.931\n",
      "epoch: 37, loss: 0.934\n",
      "epoch: 38, loss: 0.939\n",
      "epoch: 39, loss: 0.936\n",
      "epoch: 40, loss: 0.944\n",
      "epoch: 41, loss: 0.948\n",
      "epoch: 42, loss: 0.950\n",
      "epoch: 43, loss: 0.934\n",
      "epoch: 44, loss: 0.930\n",
      "epoch: 45, loss: 0.943\n",
      "epoch: 46, loss: 0.950\n",
      "epoch: 47, loss: 0.947\n",
      "epoch: 48, loss: 0.956\n",
      "epoch: 49, loss: 0.958\n",
      "epoch: 50, loss: 0.956\n",
      "epoch: 51, loss: 0.955\n",
      "epoch: 52, loss: 0.949\n",
      "epoch: 53, loss: 0.950\n",
      "epoch: 54, loss: 0.955\n",
      "epoch: 55, loss: 0.955\n",
      "epoch: 56, loss: 0.961\n",
      "epoch: 57, loss: 0.966\n",
      "epoch: 58, loss: 0.949\n",
      "epoch: 59, loss: 0.954\n",
      "epoch: 60, loss: 0.955\n",
      "epoch: 61, loss: 0.957\n",
      "epoch: 62, loss: 0.957\n",
      "epoch: 63, loss: 0.955\n",
      "epoch: 64, loss: 0.947\n",
      "epoch: 65, loss: 0.946\n",
      "epoch: 66, loss: 0.956\n",
      "epoch: 67, loss: 0.951\n",
      "epoch: 68, loss: 0.949\n",
      "epoch: 69, loss: 0.958\n",
      "epoch: 70, loss: 0.948\n",
      "epoch: 71, loss: 0.955\n",
      "epoch: 72, loss: 0.950\n",
      "epoch: 73, loss: 0.951\n",
      "epoch: 74, loss: 0.944\n",
      "epoch: 75, loss: 0.955\n",
      "epoch: 76, loss: 0.950\n",
      "epoch: 77, loss: 0.946\n",
      "epoch: 78, loss: 0.946\n",
      "epoch: 79, loss: 0.952\n",
      "epoch: 80, loss: 0.950\n",
      "epoch: 81, loss: 0.952\n",
      "epoch: 82, loss: 0.935\n",
      "epoch: 83, loss: 0.944\n",
      "epoch: 84, loss: 0.948\n",
      "epoch: 85, loss: 0.949\n",
      "epoch: 86, loss: 0.949\n",
      "epoch: 87, loss: 0.951\n",
      "epoch: 88, loss: 0.949\n",
      "epoch: 89, loss: 0.947\n",
      "epoch: 90, loss: 0.950\n",
      "epoch: 91, loss: 0.947\n",
      "epoch: 92, loss: 0.943\n",
      "epoch: 93, loss: 0.940\n",
      "epoch: 94, loss: 0.943\n",
      "epoch: 95, loss: 0.944\n",
      "epoch: 96, loss: 0.941\n",
      "epoch: 97, loss: 0.937\n",
      "epoch: 98, loss: 0.949\n",
      "epoch: 99, loss: 0.936\n",
      "epoch: 100, loss: 0.938\n"
     ]
    }
   ],
   "source": [
    "BEST_MODEL_DIR = os.path.join('models', 'best_atac_model_pp_fs')\n",
    "NUM_EPOCHS = 100\n",
    "ATAC_BATCH_SIZE = 400\n",
    "# Define hyperparam_config e.g.\n",
    "\n",
    "######################## BEGIN YOUR ANSWER ########################\n",
    "atac_hyperparam_config = {'dropout_rate': 0.1,\n",
    "                     'l2_lambda': 0.001,\n",
    "                     'lr': 0.2}\n",
    "######################### END YOUR ANSWER #########################\n",
    "\n",
    "atac_test_loss = training(\n",
    "    X_atac_train, Y_atac_train, X_atac_test, Y_atac_test,\n",
    "    atac_hyperparam_config, NUM_EPOCHS, ATAC_BATCH_SIZE, save_model=True, model_dir=BEST_MODEL_DIR\n",
    "    \n",
    ")\n"
   ]
  },
  {
   "cell_type": "code",
   "execution_count": 107,
   "metadata": {},
   "outputs": [
    {
     "name": "stdout",
     "output_type": "stream",
     "text": [
      "getting initial loss\n"
     ]
    },
    {
     "data": {
      "application/vnd.jupyter.widget-view+json": {
       "model_id": "700aeb96ee314d3a8778ab6cadbeff7c",
       "version_major": 2,
       "version_minor": 0
      },
      "text/plain": [
       "HBox(children=(IntProgress(value=0, description='Training Epochs', style=ProgressStyle(description_width='init…"
      ]
     },
     "metadata": {},
     "output_type": "display_data"
    },
    {
     "data": {
      "application/vnd.jupyter.widget-view+json": {
       "model_id": "3661cadf79e3415e8b943b8bef7e0f43",
       "version_major": 2,
       "version_minor": 0
      },
      "text/plain": [
       "HBox(children=(IntProgress(value=1, bar_style='info', description='Training Steps', max=1, style=ProgressStyle…"
      ]
     },
     "metadata": {},
     "output_type": "display_data"
    },
    {
     "name": "stdout",
     "output_type": "stream",
     "text": [
      "epoch: 01, loss: 1.040\n",
      "INFO:tensorflow:Assets written to: models/best_rna_model_pp_fs/assets\n",
      "epoch: 02, loss: 0.970\n",
      "INFO:tensorflow:Assets written to: models/best_rna_model_pp_fs/assets\n",
      "epoch: 03, loss: 0.826\n",
      "INFO:tensorflow:Assets written to: models/best_rna_model_pp_fs/assets\n",
      "epoch: 04, loss: 1.680\n",
      "epoch: 05, loss: 0.791\n",
      "INFO:tensorflow:Assets written to: models/best_rna_model_pp_fs/assets\n",
      "epoch: 06, loss: 0.558\n",
      "INFO:tensorflow:Assets written to: models/best_rna_model_pp_fs/assets\n",
      "epoch: 07, loss: 2.081\n",
      "epoch: 08, loss: 0.909\n",
      "epoch: 09, loss: 0.735\n",
      "epoch: 10, loss: 0.485\n",
      "INFO:tensorflow:Assets written to: models/best_rna_model_pp_fs/assets\n",
      "epoch: 11, loss: 1.131\n",
      "epoch: 12, loss: 0.629\n",
      "epoch: 13, loss: 0.392\n",
      "INFO:tensorflow:Assets written to: models/best_rna_model_pp_fs/assets\n",
      "epoch: 14, loss: 1.369\n",
      "epoch: 15, loss: 0.444\n",
      "epoch: 16, loss: 0.449\n",
      "epoch: 17, loss: 0.490\n",
      "epoch: 18, loss: 0.287\n",
      "INFO:tensorflow:Assets written to: models/best_rna_model_pp_fs/assets\n",
      "epoch: 19, loss: 1.070\n",
      "epoch: 20, loss: 0.276\n",
      "INFO:tensorflow:Assets written to: models/best_rna_model_pp_fs/assets\n",
      "epoch: 21, loss: 0.246\n",
      "INFO:tensorflow:Assets written to: models/best_rna_model_pp_fs/assets\n",
      "epoch: 22, loss: 0.308\n",
      "epoch: 23, loss: 0.209\n",
      "INFO:tensorflow:Assets written to: models/best_rna_model_pp_fs/assets\n",
      "epoch: 24, loss: 0.441\n",
      "epoch: 25, loss: 0.246\n",
      "epoch: 26, loss: 0.186\n",
      "INFO:tensorflow:Assets written to: models/best_rna_model_pp_fs/assets\n",
      "epoch: 27, loss: 0.269\n",
      "epoch: 28, loss: 0.195\n",
      "epoch: 29, loss: 1.322\n",
      "epoch: 30, loss: 0.404\n",
      "epoch: 31, loss: 0.211\n",
      "epoch: 32, loss: 0.170\n",
      "INFO:tensorflow:Assets written to: models/best_rna_model_pp_fs/assets\n",
      "epoch: 33, loss: 0.179\n",
      "epoch: 34, loss: 0.177\n",
      "epoch: 35, loss: 0.145\n",
      "INFO:tensorflow:Assets written to: models/best_rna_model_pp_fs/assets\n",
      "epoch: 36, loss: 0.140\n",
      "INFO:tensorflow:Assets written to: models/best_rna_model_pp_fs/assets\n",
      "epoch: 37, loss: 0.148\n",
      "epoch: 38, loss: 0.142\n",
      "epoch: 39, loss: 0.152\n",
      "epoch: 40, loss: 0.140\n",
      "INFO:tensorflow:Assets written to: models/best_rna_model_pp_fs/assets\n",
      "epoch: 41, loss: 0.153\n",
      "epoch: 42, loss: 0.140\n",
      "INFO:tensorflow:Assets written to: models/best_rna_model_pp_fs/assets\n",
      "epoch: 43, loss: 0.139\n",
      "INFO:tensorflow:Assets written to: models/best_rna_model_pp_fs/assets\n",
      "epoch: 44, loss: 0.153\n",
      "epoch: 45, loss: 0.154\n",
      "epoch: 46, loss: 0.147\n",
      "epoch: 47, loss: 0.166\n",
      "epoch: 48, loss: 0.153\n",
      "epoch: 49, loss: 0.158\n",
      "epoch: 50, loss: 0.142\n",
      "epoch: 51, loss: 0.155\n",
      "epoch: 52, loss: 0.144\n",
      "epoch: 53, loss: 0.156\n",
      "epoch: 54, loss: 0.148\n",
      "epoch: 55, loss: 0.148\n",
      "epoch: 56, loss: 0.146\n",
      "epoch: 57, loss: 0.152\n",
      "epoch: 58, loss: 0.146\n",
      "epoch: 59, loss: 0.156\n",
      "epoch: 60, loss: 0.153\n",
      "epoch: 61, loss: 0.154\n",
      "epoch: 62, loss: 0.154\n",
      "epoch: 63, loss: 0.149\n",
      "epoch: 64, loss: 0.156\n",
      "epoch: 65, loss: 0.158\n",
      "epoch: 66, loss: 0.152\n",
      "epoch: 67, loss: 0.153\n",
      "epoch: 68, loss: 0.150\n",
      "epoch: 69, loss: 0.156\n",
      "epoch: 70, loss: 0.156\n",
      "epoch: 71, loss: 0.151\n",
      "epoch: 72, loss: 0.155\n",
      "epoch: 73, loss: 0.160\n",
      "epoch: 74, loss: 0.155\n",
      "epoch: 75, loss: 0.151\n",
      "epoch: 76, loss: 0.165\n",
      "epoch: 77, loss: 0.155\n",
      "epoch: 78, loss: 0.149\n",
      "epoch: 79, loss: 0.159\n",
      "epoch: 80, loss: 0.153\n",
      "epoch: 81, loss: 0.157\n",
      "epoch: 82, loss: 0.159\n",
      "epoch: 83, loss: 0.156\n",
      "epoch: 84, loss: 0.158\n",
      "epoch: 85, loss: 0.156\n",
      "epoch: 86, loss: 0.157\n",
      "epoch: 87, loss: 0.161\n",
      "epoch: 88, loss: 0.156\n",
      "epoch: 89, loss: 0.160\n",
      "epoch: 90, loss: 0.155\n",
      "epoch: 91, loss: 0.159\n",
      "epoch: 92, loss: 0.157\n",
      "epoch: 93, loss: 0.158\n",
      "epoch: 94, loss: 0.161\n",
      "epoch: 95, loss: 0.158\n",
      "epoch: 96, loss: 0.163\n",
      "epoch: 97, loss: 0.163\n",
      "epoch: 98, loss: 0.162\n",
      "epoch: 99, loss: 0.159\n",
      "epoch: 100, loss: 0.164\n"
     ]
    }
   ],
   "source": [
    "BEST_MODEL_DIR = os.path.join('models', 'best_rna_model_pp_fs')\n",
    "RNA_BATCH_SIZE = 400\n",
    "\n",
    "rna_hyperparam_config = {'dropout_rate': 0.1,\n",
    "                     'l2_lambda': .001,\n",
    "                     'lr': 0.1}\n",
    "\n",
    "rna_test_loss = training(\n",
    "    X_rna_train, Y_rna_train, X_rna_test, Y_rna_test,\n",
    "    rna_hyperparam_config, NUM_EPOCHS, RNA_BATCH_SIZE, save_model=True, model_dir=BEST_MODEL_DIR\n",
    "    \n",
    ")"
   ]
  },
  {
   "cell_type": "code",
   "execution_count": 108,
   "metadata": {},
   "outputs": [
    {
     "name": "stdout",
     "output_type": "stream",
     "text": [
      "getting initial loss\n"
     ]
    },
    {
     "data": {
      "application/vnd.jupyter.widget-view+json": {
       "model_id": "8b76db52e1f3496d94cf4a9ca38898b0",
       "version_major": 2,
       "version_minor": 0
      },
      "text/plain": [
       "HBox(children=(IntProgress(value=0, description='Training Epochs', style=ProgressStyle(description_width='init…"
      ]
     },
     "metadata": {},
     "output_type": "display_data"
    },
    {
     "data": {
      "application/vnd.jupyter.widget-view+json": {
       "model_id": "eb79c48a6ad34e01b0be661ea0344b10",
       "version_major": 2,
       "version_minor": 0
      },
      "text/plain": [
       "HBox(children=(IntProgress(value=1, bar_style='info', description='Training Steps', max=1, style=ProgressStyle…"
      ]
     },
     "metadata": {},
     "output_type": "display_data"
    },
    {
     "name": "stdout",
     "output_type": "stream",
     "text": [
      "epoch: 01, loss: 0.977\n",
      "INFO:tensorflow:Assets written to: models/best_bimodal_model_pp_fs/assets\n",
      "epoch: 02, loss: 1.430\n",
      "epoch: 03, loss: 0.823\n",
      "INFO:tensorflow:Assets written to: models/best_bimodal_model_pp_fs/assets\n",
      "epoch: 04, loss: 0.947\n",
      "epoch: 05, loss: 1.721\n",
      "epoch: 06, loss: 0.828\n",
      "epoch: 07, loss: 0.605\n",
      "INFO:tensorflow:Assets written to: models/best_bimodal_model_pp_fs/assets\n",
      "epoch: 08, loss: 1.169\n",
      "epoch: 09, loss: 0.928\n",
      "epoch: 10, loss: 0.691\n",
      "epoch: 11, loss: 0.632\n",
      "epoch: 12, loss: 1.028\n",
      "epoch: 13, loss: 1.055\n",
      "epoch: 14, loss: 1.072\n",
      "epoch: 15, loss: 0.721\n",
      "epoch: 16, loss: 0.484\n",
      "INFO:tensorflow:Assets written to: models/best_bimodal_model_pp_fs/assets\n",
      "epoch: 17, loss: 0.980\n",
      "epoch: 18, loss: 0.823\n",
      "epoch: 19, loss: 1.011\n",
      "epoch: 20, loss: 1.004\n",
      "epoch: 21, loss: 1.303\n",
      "epoch: 22, loss: 0.838\n",
      "epoch: 23, loss: 0.571\n",
      "epoch: 24, loss: 0.335\n",
      "INFO:tensorflow:Assets written to: models/best_bimodal_model_pp_fs/assets\n",
      "epoch: 25, loss: 0.941\n",
      "epoch: 26, loss: 0.398\n",
      "epoch: 27, loss: 0.333\n",
      "INFO:tensorflow:Assets written to: models/best_bimodal_model_pp_fs/assets\n",
      "epoch: 28, loss: 0.321\n",
      "INFO:tensorflow:Assets written to: models/best_bimodal_model_pp_fs/assets\n",
      "epoch: 29, loss: 0.683\n",
      "epoch: 30, loss: 0.862\n",
      "epoch: 31, loss: 0.309\n",
      "INFO:tensorflow:Assets written to: models/best_bimodal_model_pp_fs/assets\n",
      "epoch: 32, loss: 2.892\n",
      "epoch: 33, loss: 0.787\n",
      "epoch: 34, loss: 0.503\n",
      "epoch: 35, loss: 0.436\n",
      "epoch: 36, loss: 0.371\n",
      "epoch: 37, loss: 0.561\n",
      "epoch: 38, loss: 0.826\n",
      "epoch: 39, loss: 1.084\n",
      "epoch: 40, loss: 0.502\n",
      "epoch: 41, loss: 0.858\n",
      "epoch: 42, loss: 0.985\n",
      "epoch: 43, loss: 1.051\n",
      "epoch: 44, loss: 0.471\n",
      "epoch: 45, loss: 0.240\n",
      "INFO:tensorflow:Assets written to: models/best_bimodal_model_pp_fs/assets\n",
      "epoch: 46, loss: 1.002\n",
      "epoch: 47, loss: 0.224\n",
      "INFO:tensorflow:Assets written to: models/best_bimodal_model_pp_fs/assets\n",
      "epoch: 48, loss: 2.133\n",
      "epoch: 49, loss: 1.043\n",
      "epoch: 50, loss: 1.053\n",
      "epoch: 51, loss: 0.350\n",
      "epoch: 52, loss: 0.186\n",
      "INFO:tensorflow:Assets written to: models/best_bimodal_model_pp_fs/assets\n",
      "epoch: 53, loss: 0.164\n",
      "INFO:tensorflow:Assets written to: models/best_bimodal_model_pp_fs/assets\n",
      "epoch: 54, loss: 0.142\n",
      "INFO:tensorflow:Assets written to: models/best_bimodal_model_pp_fs/assets\n",
      "epoch: 55, loss: 0.133\n",
      "INFO:tensorflow:Assets written to: models/best_bimodal_model_pp_fs/assets\n",
      "epoch: 56, loss: 0.134\n",
      "epoch: 57, loss: 0.459\n",
      "epoch: 58, loss: 0.832\n",
      "epoch: 59, loss: 0.882\n",
      "epoch: 60, loss: 0.735\n",
      "epoch: 61, loss: 0.699\n",
      "epoch: 62, loss: 0.294\n",
      "epoch: 63, loss: 0.847\n",
      "epoch: 64, loss: 1.069\n",
      "epoch: 65, loss: 0.553\n",
      "epoch: 66, loss: 0.379\n",
      "epoch: 67, loss: 0.607\n",
      "epoch: 68, loss: 0.368\n",
      "epoch: 69, loss: 0.713\n",
      "epoch: 70, loss: 0.611\n",
      "epoch: 71, loss: 0.262\n",
      "epoch: 72, loss: 0.404\n",
      "epoch: 73, loss: 0.636\n",
      "epoch: 74, loss: 0.628\n",
      "epoch: 75, loss: 0.556\n",
      "epoch: 76, loss: 0.895\n",
      "epoch: 77, loss: 0.515\n",
      "epoch: 78, loss: 0.641\n",
      "epoch: 79, loss: 0.430\n",
      "epoch: 80, loss: 0.530\n",
      "epoch: 81, loss: 0.179\n",
      "epoch: 82, loss: 0.153\n",
      "epoch: 83, loss: 0.137\n",
      "epoch: 84, loss: 0.166\n",
      "epoch: 85, loss: 0.131\n",
      "INFO:tensorflow:Assets written to: models/best_bimodal_model_pp_fs/assets\n",
      "epoch: 86, loss: 0.132\n",
      "epoch: 87, loss: 0.130\n",
      "INFO:tensorflow:Assets written to: models/best_bimodal_model_pp_fs/assets\n",
      "epoch: 88, loss: 0.140\n",
      "epoch: 89, loss: 0.133\n",
      "epoch: 90, loss: 0.140\n",
      "epoch: 91, loss: 0.139\n",
      "epoch: 92, loss: 0.137\n",
      "epoch: 93, loss: 0.141\n",
      "epoch: 94, loss: 0.137\n",
      "epoch: 95, loss: 0.139\n",
      "epoch: 96, loss: 0.145\n",
      "epoch: 97, loss: 0.138\n",
      "epoch: 98, loss: 0.147\n",
      "epoch: 99, loss: 0.147\n",
      "epoch: 100, loss: 0.142\n"
     ]
    }
   ],
   "source": [
    "BEST_MODEL_DIR = os.path.join('models', 'best_bimodal_model_pp_fs')\n",
    "BIMODAL_BATCH_SIZE = 300\n",
    "\n",
    "bimodal_hyperparam_config = {'dropout_rate': 0.1,\n",
    "                     'l2_lambda': 0.001,\n",
    "                     'lr': 0.1}\n",
    "\n",
    "bimodal_test_loss = training(\n",
    "    X_bimodal_train, Y_bimodal_train, X_bimodal_test, Y_bimodal_test,\n",
    "    rna_hyperparam_config, NUM_EPOCHS, BIMODAL_BATCH_SIZE, save_model=True, model_dir=BEST_MODEL_DIR\n",
    "    \n",
    ")"
   ]
  },
  {
   "cell_type": "code",
   "execution_count": 109,
   "metadata": {},
   "outputs": [
    {
     "name": "stdout",
     "output_type": "stream",
     "text": [
      "getting initial loss\n"
     ]
    },
    {
     "data": {
      "application/vnd.jupyter.widget-view+json": {
       "model_id": "78d2ea44ab294fb1bd9cb221f3c6aaa7",
       "version_major": 2,
       "version_minor": 0
      },
      "text/plain": [
       "HBox(children=(IntProgress(value=0, description='Training Epochs', style=ProgressStyle(description_width='init…"
      ]
     },
     "metadata": {},
     "output_type": "display_data"
    },
    {
     "data": {
      "application/vnd.jupyter.widget-view+json": {
       "model_id": "d36287669c834ed29c22d3995b373b47",
       "version_major": 2,
       "version_minor": 0
      },
      "text/plain": [
       "HBox(children=(IntProgress(value=1, bar_style='info', description='Training Steps', max=1, style=ProgressStyle…"
      ]
     },
     "metadata": {},
     "output_type": "display_data"
    },
    {
     "name": "stdout",
     "output_type": "stream",
     "text": [
      "epoch: 01, loss: 1.076\n",
      "INFO:tensorflow:Assets written to: models/best_bi_low_model_pp_fs/assets\n",
      "epoch: 02, loss: 1.065\n",
      "INFO:tensorflow:Assets written to: models/best_bi_low_model_pp_fs/assets\n",
      "epoch: 03, loss: 1.069\n",
      "epoch: 04, loss: 1.055\n",
      "INFO:tensorflow:Assets written to: models/best_bi_low_model_pp_fs/assets\n",
      "epoch: 05, loss: 1.065\n",
      "epoch: 06, loss: 1.052\n",
      "INFO:tensorflow:Assets written to: models/best_bi_low_model_pp_fs/assets\n",
      "epoch: 07, loss: 1.062\n",
      "epoch: 08, loss: 1.059\n",
      "epoch: 09, loss: 1.061\n",
      "epoch: 10, loss: 1.050\n",
      "INFO:tensorflow:Assets written to: models/best_bi_low_model_pp_fs/assets\n",
      "epoch: 11, loss: 1.087\n",
      "epoch: 12, loss: 1.064\n",
      "epoch: 13, loss: 1.060\n",
      "epoch: 14, loss: 1.064\n",
      "epoch: 15, loss: 1.053\n",
      "epoch: 16, loss: 1.065\n",
      "epoch: 17, loss: 1.064\n",
      "epoch: 18, loss: 1.060\n",
      "epoch: 19, loss: 1.062\n",
      "epoch: 20, loss: 1.052\n",
      "epoch: 21, loss: 1.074\n",
      "epoch: 22, loss: 1.066\n",
      "epoch: 23, loss: 1.064\n",
      "epoch: 24, loss: 1.060\n",
      "epoch: 25, loss: 1.058\n",
      "epoch: 26, loss: 1.053\n",
      "epoch: 27, loss: 1.063\n",
      "epoch: 28, loss: 1.071\n",
      "epoch: 29, loss: 1.072\n",
      "epoch: 30, loss: 1.069\n",
      "epoch: 31, loss: 1.068\n",
      "epoch: 32, loss: 1.065\n",
      "epoch: 33, loss: 1.061\n",
      "epoch: 34, loss: 1.068\n",
      "epoch: 35, loss: 1.067\n",
      "epoch: 36, loss: 1.067\n",
      "epoch: 37, loss: 1.066\n",
      "epoch: 38, loss: 1.065\n",
      "epoch: 39, loss: 1.063\n",
      "epoch: 40, loss: 1.058\n",
      "epoch: 41, loss: 1.068\n",
      "epoch: 42, loss: 1.057\n",
      "epoch: 43, loss: 1.062\n",
      "epoch: 44, loss: 1.061\n",
      "epoch: 45, loss: 1.081\n",
      "epoch: 46, loss: 1.055\n",
      "epoch: 47, loss: 1.057\n",
      "epoch: 48, loss: 1.067\n",
      "epoch: 49, loss: 1.042\n",
      "INFO:tensorflow:Assets written to: models/best_bi_low_model_pp_fs/assets\n",
      "epoch: 50, loss: 1.074\n",
      "epoch: 51, loss: 1.063\n",
      "epoch: 52, loss: 1.059\n",
      "epoch: 53, loss: 1.064\n",
      "epoch: 54, loss: 1.062\n",
      "epoch: 55, loss: 1.060\n",
      "epoch: 56, loss: 1.072\n",
      "epoch: 57, loss: 1.065\n",
      "epoch: 58, loss: 1.069\n",
      "epoch: 59, loss: 1.068\n",
      "epoch: 60, loss: 1.063\n",
      "epoch: 61, loss: 1.060\n",
      "epoch: 62, loss: 1.057\n",
      "epoch: 63, loss: 1.070\n",
      "epoch: 64, loss: 1.060\n",
      "epoch: 65, loss: 1.068\n",
      "epoch: 66, loss: 1.067\n",
      "epoch: 67, loss: 1.067\n",
      "epoch: 68, loss: 1.066\n",
      "epoch: 69, loss: 1.066\n",
      "epoch: 70, loss: 1.066\n",
      "epoch: 71, loss: 1.066\n",
      "epoch: 72, loss: 1.066\n",
      "epoch: 73, loss: 1.066\n",
      "epoch: 74, loss: 1.066\n",
      "epoch: 75, loss: 1.066\n",
      "epoch: 76, loss: 1.066\n",
      "epoch: 77, loss: 1.066\n",
      "epoch: 78, loss: 1.066\n",
      "epoch: 79, loss: 1.066\n",
      "epoch: 80, loss: 1.066\n",
      "epoch: 81, loss: 1.066\n",
      "epoch: 82, loss: 1.066\n",
      "epoch: 83, loss: 1.066\n",
      "epoch: 84, loss: 1.066\n",
      "epoch: 85, loss: 1.066\n",
      "epoch: 86, loss: 1.066\n",
      "epoch: 87, loss: 1.066\n",
      "epoch: 88, loss: 1.066\n",
      "epoch: 89, loss: 1.066\n",
      "epoch: 90, loss: 1.066\n",
      "epoch: 91, loss: 1.066\n",
      "epoch: 92, loss: 1.066\n",
      "epoch: 93, loss: 1.066\n",
      "epoch: 94, loss: 1.066\n",
      "epoch: 95, loss: 1.066\n",
      "epoch: 96, loss: 1.066\n",
      "epoch: 97, loss: 1.066\n",
      "epoch: 98, loss: 1.066\n",
      "epoch: 99, loss: 1.066\n",
      "epoch: 100, loss: 1.066\n"
     ]
    }
   ],
   "source": [
    "BEST_MODEL_DIR = os.path.join('models', 'best_bi_low_model_pp_fs')\n",
    "BIMODAL_BATCH_SIZE = 300\n",
    "\n",
    "bi_low_hyperparam_config = {'dropout_rate': 0.1,\n",
    "                     'l2_lambda': 1e-06,\n",
    "                     'lr': 0.01}\n",
    "\n",
    "bi_low_test_loss = training(\n",
    "    X_bi_low_train, Y_bi_low_train, X_bi_low_test, Y_bi_low_test,\n",
    "    rna_hyperparam_config, NUM_EPOCHS, BIMODAL_BATCH_SIZE, save_model=True, model_dir=BEST_MODEL_DIR\n",
    "    \n",
    ")"
   ]
  },
  {
   "cell_type": "markdown",
   "metadata": {},
   "source": [
    "## Evaluate model performance"
   ]
  },
  {
   "cell_type": "code",
   "execution_count": 110,
   "metadata": {},
   "outputs": [],
   "source": [
    "def predict_one_hot(x, model_dir):\n",
    "    \"\"\"\n",
    "    Load a trained model and predict class\n",
    "    \n",
    "    Arguments:\n",
    "      x: input data of size [n_datapoints, n_features]\n",
    "      model_dir: location of saved model\n",
    "      \n",
    "    Returns:\n",
    "      y_output: one_hot representation of model output where argmax \n",
    "                is just chosen as class\n",
    "    \"\"\"\n",
    "    \n",
    "    model = K.models.load_model(model_dir)\n",
    "    y_pred = model.predict(x)\n",
    "    \n",
    "    #convert to one-hot representation\n",
    "    y_output = tf.one_hot(tf.nn.top_k(y_pred).indices, tf.shape(y_pred)[1])\n",
    "    \n",
    "    return tf.squeeze(y_output)\n",
    "\n",
    "\n",
    "def predict(x, model_dir):\n",
    "    \"\"\"\n",
    "    Load a trained model and predict probability for each class\n",
    "    \n",
    "    Arguments:\n",
    "      x: input data of size [n_datapoints, n_features]\n",
    "      model_dir: location of saved model\n",
    "      \n",
    "    Returns:\n",
    "        y_output: softmax rep of class labels\n",
    "    \"\"\"\n",
    "    \n",
    "    model = K.models.load_model(model_dir)\n",
    "    y_pred = model.predict(x)\n",
    "\n",
    "    return y_pred"
   ]
  },
  {
   "cell_type": "code",
   "execution_count": 111,
   "metadata": {},
   "outputs": [],
   "source": [
    "def get_labels_from_one_hot(one_hot_labels):\n",
    "    ''' Get labels from one-hot encoding '''\n",
    "    return np.argmax(one_hot_labels.numpy(), axis=1)"
   ]
  },
  {
   "cell_type": "code",
   "execution_count": 112,
   "metadata": {},
   "outputs": [],
   "source": [
    "def accuracy(y_true, y_pred):\n",
    "    ''' Computes accuracy '''\n",
    "    acc = tf.keras.metrics.Accuracy()\n",
    "    acc.update_state(y_true, y_pred )\n",
    "    return acc.result().numpy()\n",
    "\n",
    "\n",
    "def precision(y_true, y_pred):\n",
    "    ''' Computes precision '''\n",
    "    prec = tf.keras.metrics.Precision()\n",
    "    prec.update_state(y_true, y_pred)\n",
    "    return prec.result().numpy()\n",
    "    \n",
    "    \n",
    "def recall(y_true, y_pred):\n",
    "    ''' Computes recall'''\n",
    "    rec = tf.keras.metrics.Recall()\n",
    "    rec.update_state(y_true, y_pred)\n",
    "    return rec.result().numpy()\n",
    "\n",
    "\n",
    "def TPR(y_true, y_pred, thresholds=None):\n",
    "    ''' Computes True positive rate '''\n",
    "    tp = tf.keras.metrics.TruePositives()\n",
    "    tp.update_state(y_true, y_pred)\n",
    "    return tp.result().numpy()\n",
    "\n",
    "\n",
    "def FPR(y_true, y_pred, thresholds=None):\n",
    "    ''' Computes false positive rate '''\n",
    "    fp = tf.keras.metrics.FalsePositives()\n",
    "    fp.update_state(y_true, y_pred)\n",
    "    return fp.result().numpy()\n",
    "\n",
    "\n",
    "#TODO - confusion matrix\n",
    "\n",
    "\n",
    "def compute_ROC_curve(y_true, y_pred):\n",
    "    pass"
   ]
  },
  {
   "cell_type": "code",
   "execution_count": 113,
   "metadata": {},
   "outputs": [],
   "source": [
    "def make_confusion_matrix_DEX(y_test, y_pred, cmap='Blues', subtitle='INSERT SUBTITLE'):\n",
    "    y_true_labeled = get_labels_from_one_hot(y_test)\n",
    "    y_pred_labeled = get_labels_from_one_hot(y_pred)\n",
    "    conf_matrix = tf.math.confusion_matrix(y_true_labeled, y_pred_labeled, dtype=tf.dtypes.int64).numpy()\n",
    "    fig, axs = plt.subplots(1)\n",
    "    sns.heatmap(conf_matrix,annot=True, cmap=cmap, \n",
    "                xticklabels=['0 hr', '1 hr', '3 hrs'],\n",
    "               yticklabels=['0 hr', '1 hr', '3 hrs'],\n",
    "               ax=axs);\n",
    "    subtitle = subtitle\n",
    "    axs.set_title(f'Confusion Matrix\\n{subtitle}')"
   ]
  },
  {
   "cell_type": "code",
   "execution_count": 114,
   "metadata": {},
   "outputs": [],
   "source": [
    "''' Evaluate model trained ONLY on ATAC-seq input '''\n",
    "y_atac_pred = predict_one_hot(X_atac_test, model_dir='models/best_atac_model_pp_fs')\n",
    "y_atac_sm = predict(X_atac_test, model_dir='models/best_atac_model_pp_fs')"
   ]
  },
  {
   "cell_type": "code",
   "execution_count": 115,
   "metadata": {},
   "outputs": [
    {
     "name": "stdout",
     "output_type": "stream",
     "text": [
      "Accuracy: 0.7559748291969299\n",
      "Precision: 0.6339622735977173\n",
      "Recall: 0.6339622735977173\n"
     ]
    },
    {
     "data": {
      "text/plain": [
       "89.0"
      ]
     },
     "execution_count": 115,
     "metadata": {},
     "output_type": "execute_result"
    }
   ],
   "source": [
    "''' Get metrics for ATAC-seq'''\n",
    "print(f'Accuracy: {accuracy(Y_atac_test, y_atac_pred)}')\n",
    "print(f'Precision: {precision(Y_atac_test, y_atac_pred)}')\n",
    "print(f'Recall: {precision(Y_atac_test, y_atac_pred)}')\n",
    "FPR(Y_atac_test, y_atac_sm)"
   ]
  },
  {
   "cell_type": "code",
   "execution_count": 116,
   "metadata": {},
   "outputs": [
    {
     "data": {
      "image/png": "[encoded data removed]",
      "text/plain": [
       "<Figure size 432x288 with 2 Axes>"
      ]
     },
     "metadata": {
      "needs_background": "light"
     },
     "output_type": "display_data"
    }
   ],
   "source": [
    "make_confusion_matrix_DEX(Y_atac_test, y_atac_pred, subtitle='Trained on ATAC-seq data only\\nInitial model')"
   ]
  },
  {
   "cell_type": "code",
   "execution_count": 117,
   "metadata": {},
   "outputs": [],
   "source": [
    "''' Evaluate model trained ONLY on RNA-seq input '''\n",
    "y_rna_pred = predict_one_hot(X_rna_test, model_dir='models/best_rna_model_pp_fs')\n",
    "y_rna_sm = predict(X_rna_test, model_dir='models/best_rna_model_pp_fs')"
   ]
  },
  {
   "cell_type": "code",
   "execution_count": 118,
   "metadata": {},
   "outputs": [
    {
     "name": "stdout",
     "output_type": "stream",
     "text": [
      "Accuracy: 0.9647798538208008\n",
      "Precision: 0.947169840335846\n",
      "Recall: 0.947169840335846\n"
     ]
    }
   ],
   "source": [
    "''' Get metrics for RNA-seq'''\n",
    "print(f'Accuracy: {accuracy(Y_rna_test, y_rna_pred)}')\n",
    "print(f'Precision: {precision(Y_rna_test, y_rna_pred)}')\n",
    "print(f'Recall: {precision(Y_rna_test, y_rna_pred)}')"
   ]
  },
  {
   "cell_type": "code",
   "execution_count": 119,
   "metadata": {},
   "outputs": [
    {
     "data": {
      "image/png": "[encoded data removed]",
      "text/plain": [
       "<Figure size 432x288 with 2 Axes>"
      ]
     },
     "metadata": {
      "needs_background": "light"
     },
     "output_type": "display_data"
    }
   ],
   "source": [
    "make_confusion_matrix_DEX(Y_rna_test, y_rna_pred, subtitle='Trained on RNA-seq data only')"
   ]
  },
  {
   "cell_type": "code",
   "execution_count": 120,
   "metadata": {},
   "outputs": [],
   "source": [
    "''' Evaluate model trained on bimodal input (concatenation of ATAC + RNA) '''\n",
    "y_bimodal_pred = predict_one_hot(X_bimodal_test, model_dir='models/best_bimodal_model_pp_fs')\n",
    "y_bimodal_sm = predict(X_bimodal_test, model_dir='models/best_bimodal_model_pp_fs')"
   ]
  },
  {
   "cell_type": "code",
   "execution_count": 121,
   "metadata": {},
   "outputs": [
    {
     "name": "stdout",
     "output_type": "stream",
     "text": [
      "Accuracy: 0.9597484469413757\n",
      "Precision: 0.9396226406097412\n",
      "Recall: 0.9396226406097412\n"
     ]
    }
   ],
   "source": [
    "''' Get metrics using bimodal input '''\n",
    "print(f'Accuracy: {accuracy(Y_bimodal_test, y_bimodal_pred)}')\n",
    "print(f'Precision: {precision(Y_bimodal_test, y_bimodal_pred)}')\n",
    "print(f'Recall: {precision(Y_bimodal_test, y_bimodal_pred)}')"
   ]
  },
  {
   "cell_type": "code",
   "execution_count": 122,
   "metadata": {},
   "outputs": [
    {
     "data": {
      "image/png": "[encoded data removed]",
      "text/plain": [
       "<Figure size 432x288 with 2 Axes>"
      ]
     },
     "metadata": {
      "needs_background": "light"
     },
     "output_type": "display_data"
    }
   ],
   "source": [
    "make_confusion_matrix_DEX(Y_bimodal_test, y_bimodal_pred, subtitle='Trained on Bimodal input (ATAC + RNA)')"
   ]
  },
  {
   "cell_type": "code",
   "execution_count": 123,
   "metadata": {},
   "outputs": [],
   "source": [
    "''' Evaluate model trained on bimodal input (concatenation of ATAC + RNA) '''\n",
    "y_bi_low_pred = predict_one_hot(X_bi_low_test, model_dir='models/best_bi_low_model_pp_fs')\n",
    "y_bi_low_sm = predict(X_bi_low_test, model_dir='models/best_bi_low_model_pp_fs')"
   ]
  },
  {
   "cell_type": "code",
   "execution_count": 128,
   "metadata": {},
   "outputs": [
    {
     "data": {
      "text/plain": [
       "TensorShape([2376, 52761])"
      ]
     },
     "execution_count": 128,
     "metadata": {},
     "output_type": "execute_result"
    }
   ],
   "source": [
    "X_bi_low_train.shape"
   ]
  },
  {
   "cell_type": "code",
   "execution_count": 124,
   "metadata": {},
   "outputs": [
    {
     "name": "stdout",
     "output_type": "stream",
     "text": [
      "Accuracy: 0.6150943636894226\n",
      "Precision: 0.4226415157318115\n",
      "Recall: 0.4226415157318115\n"
     ]
    }
   ],
   "source": [
    "''' Get metrics using bimodal input '''\n",
    "print(f'Accuracy: {accuracy(Y_bi_low_test, y_bi_low_pred)}')\n",
    "print(f'Precision: {precision(Y_bi_low_test, y_bi_low_pred)}')\n",
    "print(f'Recall: {precision(Y_bi_low_test, y_bi_low_pred)}')"
   ]
  },
  {
   "cell_type": "code",
   "execution_count": 125,
   "metadata": {},
   "outputs": [
    {
     "data": {
      "image/png": "[encoded data removed]",
      "text/plain": [
       "<Figure size 432x288 with 2 Axes>"
      ]
     },
     "metadata": {
      "needs_background": "light"
     },
     "output_type": "display_data"
    }
   ],
   "source": [
    "make_confusion_matrix_DEX(Y_bi_low_test, y_bi_low_pred, subtitle='Trained on Low-D Bimodal input (ATAC + RNA)')"
   ]
  },
  {
   "cell_type": "code",
   "execution_count": 127,
   "metadata": {},
   "outputs": [
    {
     "name": "stdout",
     "output_type": "stream",
     "text": [
      "atac data saved\n",
      "rna data saved\n",
      "bimodal data saved\n",
      "bi_low data saved\n"
     ]
    }
   ],
   "source": [
    "''' Export training and test sets '''\n",
    "from helpers import *\n",
    "\n",
    "# create .pkl file names\n",
    "root = os.getcwd()\n",
    "pkl_path = os.path.join(root, 'data', 'sci-CAR', 'pkl_files')\n",
    "pkl_atac = os.path.join(pkl_path, 'atac_pp_fs_.pkl')\n",
    "pkl_rna = os.path.join(pkl_path, 'rna_pp_fs_.pkl')\n",
    "pkl_bimodal = os.path.join(pkl_path, 'bimodal_pp_fs.pkl')\n",
    "pkl_bi_low = os.path.join(pkl_path, 'bi_low_pp_fs.pkl')\n",
    "\n",
    "# save training and test sets as pickle files\n",
    "atac_data = (X_atac_train, X_atac_test)\n",
    "write_zipped_pickle(atac_data, pkl_atac)\n",
    "print('atac data saved')\n",
    "\n",
    "rna_data = (X_rna_train, X_rna_test)\n",
    "write_zipped_pickle(rna_data, pkl_rna)\n",
    "print('rna data saved')\n",
    "\n",
    "bimodal_data = (X_bimodal_train, X_bimodal_test)\n",
    "write_zipped_pickle(bimodal_data, pkl_bimodal)\n",
    "print('bimodal data saved')\n",
    "\n",
    "bi_low_data = (X_bi_low_train, X_bi_low_test)\n",
    "write_zipped_pickle(bi_low_data, pkl_bi_low)\n",
    "print('bi_low data saved')"
   ]
  },
  {
   "cell_type": "code",
   "execution_count": null,
   "metadata": {},
   "outputs": [],
   "source": []
  },
  {
   "cell_type": "code",
   "execution_count": null,
   "metadata": {},
   "outputs": [],
   "source": []
  }
 ],
 "metadata": {
  "kernelspec": {
   "display_name": "Python 3",
   "language": "python",
   "name": "python3"
  },
  "language_info": {
   "codemirror_mode": {
    "name": "ipython",
    "version": 3
   },
   "file_extension": ".py",
   "mimetype": "text/x-python",
   "name": "python",
   "nbconvert_exporter": "python",
   "pygments_lexer": "ipython3",
   "version": "3.7.6"
  }
 },
 "nbformat": 4,
 "nbformat_minor": 4
}
